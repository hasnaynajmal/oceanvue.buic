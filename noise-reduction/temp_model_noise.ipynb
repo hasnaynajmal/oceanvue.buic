{
 "cells": [
  {
   "cell_type": "markdown",
   "metadata": {},
   "source": [
    "-------------------\n",
    "Data Pre Processing\n",
    "-------------------"
   ]
  },
  {
   "cell_type": "markdown",
   "metadata": {},
   "source": [
    "Loading Libraries"
   ]
  },
  {
   "cell_type": "code",
   "execution_count": 3,
   "metadata": {},
   "outputs": [],
   "source": [
    "#importing libraries\n",
    "import pandas as pd\n",
    "import os\n",
    "import librosa\n",
    "import numpy as np\n",
    "from tqdm import tqdm\n",
    "import ast\n",
    "import json\n",
    "import warnings\n",
    "import matplotlib.pyplot as plt\n",
    "import seaborn as sns\n",
    "import noisereduce as nr\n",
    "warnings.filterwarnings(\"ignore\", category=RuntimeWarning)"
   ]
  },
  {
   "cell_type": "markdown",
   "metadata": {},
   "source": [
    "Feature Extraction Functions"
   ]
  },
  {
   "cell_type": "code",
   "execution_count": 2,
   "metadata": {},
   "outputs": [],
   "source": [
    "#extracting mfcc\n",
    "\n",
    "def features_extractor(file_name):\n",
    "    audio, sample_rate = librosa.load(file_name, res_type='kaiser_fast')\n",
    "    #print(file_name)\n",
    "    reduced_audio = nr.reduce_noise(y=audio, sr=sample_rate)\n",
    "    mfccs_features = librosa.feature.mfcc(y=reduced_audio, sr=sample_rate, n_mfcc=40)\n",
    "    mfccs_scaled_features = np.mean(mfccs_features.T,axis=0)\n",
    "    return mfccs_scaled_features"
   ]
  },
  {
   "cell_type": "code",
   "execution_count": null,
   "metadata": {},
   "outputs": [],
   "source": [
    "# Perform noise reduction\n",
    "reduced_audio = nr.reduce_noise(y=audio, sr=sr)"
   ]
  },
  {
   "cell_type": "markdown",
   "metadata": {},
   "source": [
    "Reading Meta Data File"
   ]
  },
  {
   "cell_type": "code",
   "execution_count": 5,
   "metadata": {},
   "outputs": [
    {
     "data": {
      "text/html": [
       "<div>\n",
       "<style scoped>\n",
       "    .dataframe tbody tr th:only-of-type {\n",
       "        vertical-align: middle;\n",
       "    }\n",
       "\n",
       "    .dataframe tbody tr th {\n",
       "        vertical-align: top;\n",
       "    }\n",
       "\n",
       "    .dataframe thead th {\n",
       "        text-align: right;\n",
       "    }\n",
       "</style>\n",
       "<table border=\"1\" class=\"dataframe\">\n",
       "  <thead>\n",
       "    <tr style=\"text-align: right;\">\n",
       "      <th></th>\n",
       "      <th>Recording ID</th>\n",
       "      <th>File_name</th>\n",
       "      <th>Folder_ID</th>\n",
       "      <th>Class_ID</th>\n",
       "      <th>Class</th>\n",
       "      <th>File_path</th>\n",
       "      <th>Ship Name</th>\n",
       "      <th>Date of Recording</th>\n",
       "      <th>Time of Recording</th>\n",
       "      <th>Durations (s)</th>\n",
       "      <th>Distance (m)</th>\n",
       "    </tr>\n",
       "  </thead>\n",
       "  <tbody>\n",
       "    <tr>\n",
       "      <th>0</th>\n",
       "      <td>1</td>\n",
       "      <td>1.wav</td>\n",
       "      <td>1</td>\n",
       "      <td>1</td>\n",
       "      <td>Cargo</td>\n",
       "      <td>Cargo\\1\\1.wav</td>\n",
       "      <td>SEASPAN SWIFT</td>\n",
       "      <td>20171104</td>\n",
       "      <td>203623</td>\n",
       "      <td>458</td>\n",
       "      <td>1583-1981</td>\n",
       "    </tr>\n",
       "    <tr>\n",
       "      <th>1</th>\n",
       "      <td>2</td>\n",
       "      <td>2.wav</td>\n",
       "      <td>2</td>\n",
       "      <td>1</td>\n",
       "      <td>Cargo</td>\n",
       "      <td>Cargo\\2\\2.wav</td>\n",
       "      <td>ISTRA ACE</td>\n",
       "      <td>20171104</td>\n",
       "      <td>223241</td>\n",
       "      <td>441</td>\n",
       "      <td>1535-1779</td>\n",
       "    </tr>\n",
       "    <tr>\n",
       "      <th>2</th>\n",
       "      <td>3</td>\n",
       "      <td>3.wav</td>\n",
       "      <td>3</td>\n",
       "      <td>1</td>\n",
       "      <td>Cargo</td>\n",
       "      <td>Cargo\\3\\3.wav</td>\n",
       "      <td>SAMOS WARRIOR</td>\n",
       "      <td>20171105</td>\n",
       "      <td>84406</td>\n",
       "      <td>297</td>\n",
       "      <td>642-1520</td>\n",
       "    </tr>\n",
       "    <tr>\n",
       "      <th>3</th>\n",
       "      <td>4</td>\n",
       "      <td>4.wav</td>\n",
       "      <td>4</td>\n",
       "      <td>1</td>\n",
       "      <td>Cargo</td>\n",
       "      <td>Cargo\\4\\4.wav</td>\n",
       "      <td>NYK REMUS</td>\n",
       "      <td>20171106</td>\n",
       "      <td>115234</td>\n",
       "      <td>331</td>\n",
       "      <td>1579-1906</td>\n",
       "    </tr>\n",
       "    <tr>\n",
       "      <th>4</th>\n",
       "      <td>5</td>\n",
       "      <td>5.wav</td>\n",
       "      <td>5</td>\n",
       "      <td>1</td>\n",
       "      <td>Cargo</td>\n",
       "      <td>Cargo\\5\\5.wav</td>\n",
       "      <td>SEASPAN RELIANT</td>\n",
       "      <td>20171107</td>\n",
       "      <td>452</td>\n",
       "      <td>208</td>\n",
       "      <td>477-1241</td>\n",
       "    </tr>\n",
       "  </tbody>\n",
       "</table>\n",
       "</div>"
      ],
      "text/plain": [
       "   Recording ID File_name  Folder_ID  Class_ID  Class      File_path  \\\n",
       "0             1     1.wav          1         1  Cargo  Cargo\\1\\1.wav   \n",
       "1             2     2.wav          2         1  Cargo  Cargo\\2\\2.wav   \n",
       "2             3     3.wav          3         1  Cargo  Cargo\\3\\3.wav   \n",
       "3             4     4.wav          4         1  Cargo  Cargo\\4\\4.wav   \n",
       "4             5     5.wav          5         1  Cargo  Cargo\\5\\5.wav   \n",
       "\n",
       "         Ship Name  Date of Recording  Time of Recording  Durations (s)  \\\n",
       "0    SEASPAN SWIFT           20171104             203623            458   \n",
       "1        ISTRA ACE           20171104             223241            441   \n",
       "2    SAMOS WARRIOR           20171105              84406            297   \n",
       "3        NYK REMUS           20171106             115234            331   \n",
       "4  SEASPAN RELIANT           20171107                452            208   \n",
       "\n",
       "  Distance (m)  \n",
       "0    1583-1981  \n",
       "1    1535-1779  \n",
       "2     642-1520  \n",
       "3    1579-1906  \n",
       "4     477-1241  "
      ]
     },
     "execution_count": 5,
     "metadata": {},
     "output_type": "execute_result"
    }
   ],
   "source": [
    "audio_dataset_path='C:/Users/oceanvue/Desktop/DeepShip Dataset/'\n",
    "metadata=pd.read_csv('../metadata-detailed.csv')\n",
    "metadata.head()"
   ]
  },
  {
   "cell_type": "markdown",
   "metadata": {},
   "source": [
    "Iterating through the audio files using metadata file in order to extract features from each audio file."
   ]
  },
  {
   "cell_type": "code",
   "execution_count": 6,
   "metadata": {},
   "outputs": [
    {
     "name": "stderr",
     "output_type": "stream",
     "text": [
      "609it [35:34,  3.50s/it]\n"
     ]
    }
   ],
   "source": [
    "# Initialize a list to store extracted features and labels\n",
    "extracted_features = []\n",
    "\n",
    "# Iterate through metadata and extract features\n",
    "for index_num, row in tqdm(metadata.iterrows()):\n",
    "    file_name = os.path.join(os.path.abspath(audio_dataset_path), row['Class'], str(row['Folder_ID']), row['File_name']) #getting the filename to send for feature extraction\n",
    "\n",
    "    final_class_label = row['Class'] #getting the class label of audio file\n",
    "    data = features_extractor(file_name) #sending file for mfcc extraction\n",
    "    extracted_features.append([data, final_class_label]) #appending the received features and class label to datagrame"
   ]
  },
  {
   "cell_type": "code",
   "execution_count": 27,
   "metadata": {},
   "outputs": [],
   "source": [
    "extracted_features"
   ]
  },
  {
   "cell_type": "code",
   "execution_count": 13,
   "metadata": {},
   "outputs": [
    {
     "data": {
      "text/html": [
       "<div>\n",
       "<style scoped>\n",
       "    .dataframe tbody tr th:only-of-type {\n",
       "        vertical-align: middle;\n",
       "    }\n",
       "\n",
       "    .dataframe tbody tr th {\n",
       "        vertical-align: top;\n",
       "    }\n",
       "\n",
       "    .dataframe thead th {\n",
       "        text-align: right;\n",
       "    }\n",
       "</style>\n",
       "<table border=\"1\" class=\"dataframe\">\n",
       "  <thead>\n",
       "    <tr style=\"text-align: right;\">\n",
       "      <th></th>\n",
       "      <th>Features</th>\n",
       "      <th>Class</th>\n",
       "    </tr>\n",
       "  </thead>\n",
       "  <tbody>\n",
       "    <tr>\n",
       "      <th>0</th>\n",
       "      <td>[-932.2881, 13.635875, 1.8276811, 4.505561, 1....</td>\n",
       "      <td>Cargo</td>\n",
       "    </tr>\n",
       "    <tr>\n",
       "      <th>1</th>\n",
       "      <td>[-953.34406, 23.712738, 5.6353164, 7.229023, 1...</td>\n",
       "      <td>Cargo</td>\n",
       "    </tr>\n",
       "    <tr>\n",
       "      <th>2</th>\n",
       "      <td>[-896.3549, 26.114866, 8.032627, 10.994141, 4....</td>\n",
       "      <td>Cargo</td>\n",
       "    </tr>\n",
       "    <tr>\n",
       "      <th>3</th>\n",
       "      <td>[-958.41956, 12.191271, 1.7338899, 1.9386969, ...</td>\n",
       "      <td>Cargo</td>\n",
       "    </tr>\n",
       "    <tr>\n",
       "      <th>4</th>\n",
       "      <td>[-896.8744, 49.558216, 24.255026, 20.094505, 1...</td>\n",
       "      <td>Cargo</td>\n",
       "    </tr>\n",
       "    <tr>\n",
       "      <th>...</th>\n",
       "      <td>...</td>\n",
       "      <td>...</td>\n",
       "    </tr>\n",
       "    <tr>\n",
       "      <th>604</th>\n",
       "      <td>[-974.24023, 2.3665962, 0.19154242, 1.5096675,...</td>\n",
       "      <td>Tug</td>\n",
       "    </tr>\n",
       "    <tr>\n",
       "      <th>605</th>\n",
       "      <td>[-938.0368, 5.373568, 1.8666614, 0.8558346, 0....</td>\n",
       "      <td>Tug</td>\n",
       "    </tr>\n",
       "    <tr>\n",
       "      <th>606</th>\n",
       "      <td>[-956.2245, 6.7470174, -0.27839443, 1.7886881,...</td>\n",
       "      <td>Tug</td>\n",
       "    </tr>\n",
       "    <tr>\n",
       "      <th>607</th>\n",
       "      <td>[-960.537, -9.796723, 5.7901726, 3.475453, -5....</td>\n",
       "      <td>Tug</td>\n",
       "    </tr>\n",
       "    <tr>\n",
       "      <th>608</th>\n",
       "      <td>[-883.8289, 6.2442126, -0.85583025, -1.1542561...</td>\n",
       "      <td>Tug</td>\n",
       "    </tr>\n",
       "  </tbody>\n",
       "</table>\n",
       "<p>609 rows × 2 columns</p>\n",
       "</div>"
      ],
      "text/plain": [
       "                                              Features  Class\n",
       "0    [-932.2881, 13.635875, 1.8276811, 4.505561, 1....  Cargo\n",
       "1    [-953.34406, 23.712738, 5.6353164, 7.229023, 1...  Cargo\n",
       "2    [-896.3549, 26.114866, 8.032627, 10.994141, 4....  Cargo\n",
       "3    [-958.41956, 12.191271, 1.7338899, 1.9386969, ...  Cargo\n",
       "4    [-896.8744, 49.558216, 24.255026, 20.094505, 1...  Cargo\n",
       "..                                                 ...    ...\n",
       "604  [-974.24023, 2.3665962, 0.19154242, 1.5096675,...    Tug\n",
       "605  [-938.0368, 5.373568, 1.8666614, 0.8558346, 0....    Tug\n",
       "606  [-956.2245, 6.7470174, -0.27839443, 1.7886881,...    Tug\n",
       "607  [-960.537, -9.796723, 5.7901726, 3.475453, -5....    Tug\n",
       "608  [-883.8289, 6.2442126, -0.85583025, -1.1542561...    Tug\n",
       "\n",
       "[609 rows x 2 columns]"
      ]
     },
     "execution_count": 13,
     "metadata": {},
     "output_type": "execute_result"
    }
   ],
   "source": [
    "extracted_features_df_for_csv = pd.DataFrame(extracted_features, columns=[\"Features\", \"Class\"])\n",
    "\n",
    "extracted_features_df_for_csv"
   ]
  },
  {
   "cell_type": "markdown",
   "metadata": {},
   "source": [
    "Saving extracted features to csv"
   ]
  },
  {
   "cell_type": "code",
   "execution_count": 14,
   "metadata": {},
   "outputs": [],
   "source": [
    "#extracted_features_df_for_csv['Features'] = extracted_features_df_for_csv['Features'].apply(lambda x: x.tolist()) #to same the extracted features in exact format\n",
    "extracted_features_df_for_csv['Features'] = extracted_features_df_for_csv['Features'].apply(lambda x: ','.join(map(str, x)))\n",
    "\n",
    "extracted_features_df_for_csv.to_csv('data_sample_extracted_noise_red.csv', index=False)"
   ]
  },
  {
   "cell_type": "markdown",
   "metadata": {},
   "source": [
    "Generating a sample heatmap of mfcc coefficients"
   ]
  },
  {
   "cell_type": "code",
   "execution_count": 15,
   "metadata": {},
   "outputs": [],
   "source": [
    "mfcc_array = np.array(extracted_features_df_for_csv['Features'].tolist())\n",
    "mfcc_array = mfcc_array.reshape(-1)  # Reshape to 1D array\n",
    "\n",
    "plt.figure(figsize=(10, 6))\n",
    "sns.heatmap(mfcc_array, cmap='viridis', annot=False, xticklabels=False, yticklabels=False)\n",
    "plt.title('MFCC Heatmap')\n",
    "plt.xlabel('MFCC Coefficients')\n",
    "plt.ylabel('Samples')\n",
    "plt.show()"
   ]
  },
  {
   "cell_type": "code",
   "execution_count": 16,
   "metadata": {},
   "outputs": [],
   "source": [
    "mfcc_array = np.array(extracted_features_df_for_csv['Features'].tolist())\n",
    "mfcc_array = mfcc_array.reshape(-1)  # Reshape to 1D array\n",
    "\n",
    "plt.figure(figsize=(10, 6))\n",
    "sns.heatmap(mfcc_array.reshape(1, -1), cmap='viridis', annot=False, xticklabels=False, yticklabels=False)\n",
    "plt.title('MFCC Heatmap')\n",
    "plt.xlabel('MFCC Coefficients')"
   ]
  },
  {
   "cell_type": "markdown",
   "metadata": {},
   "source": [
    "---------------\n",
    "Model Pre Work\n",
    "---------------"
   ]
  },
  {
   "cell_type": "markdown",
   "metadata": {},
   "source": [
    "Loading Libraies"
   ]
  },
  {
   "cell_type": "code",
   "execution_count": 1,
   "metadata": {},
   "outputs": [],
   "source": [
    "from sklearn.model_selection import train_test_split\n",
    "from sklearn.preprocessing import LabelEncoder\n",
    "from collections import Counter"
   ]
  },
  {
   "cell_type": "markdown",
   "metadata": {},
   "source": [
    "Loading Dataset"
   ]
  },
  {
   "cell_type": "code",
   "execution_count": 4,
   "metadata": {},
   "outputs": [],
   "source": [
    "ex_data = pd.read_csv(r'./data_sample_extracted_noise_red.csv')\n",
    "ex_data['Features'] = ex_data['Features'].apply(lambda x: list(map(float, x.split(','))))"
   ]
  },
  {
   "cell_type": "code",
   "execution_count": 5,
   "metadata": {},
   "outputs": [
    {
     "data": {
      "text/html": [
       "<div>\n",
       "<style scoped>\n",
       "    .dataframe tbody tr th:only-of-type {\n",
       "        vertical-align: middle;\n",
       "    }\n",
       "\n",
       "    .dataframe tbody tr th {\n",
       "        vertical-align: top;\n",
       "    }\n",
       "\n",
       "    .dataframe thead th {\n",
       "        text-align: right;\n",
       "    }\n",
       "</style>\n",
       "<table border=\"1\" class=\"dataframe\">\n",
       "  <thead>\n",
       "    <tr style=\"text-align: right;\">\n",
       "      <th></th>\n",
       "      <th>Features</th>\n",
       "      <th>Class</th>\n",
       "    </tr>\n",
       "  </thead>\n",
       "  <tbody>\n",
       "    <tr>\n",
       "      <th>0</th>\n",
       "      <td>[-932.2881, 13.635875, 1.8276811, 4.505561, 1....</td>\n",
       "      <td>Cargo</td>\n",
       "    </tr>\n",
       "    <tr>\n",
       "      <th>1</th>\n",
       "      <td>[-953.34406, 23.712738, 5.6353164, 7.229023, 1...</td>\n",
       "      <td>Cargo</td>\n",
       "    </tr>\n",
       "    <tr>\n",
       "      <th>2</th>\n",
       "      <td>[-896.3549, 26.114866, 8.032627, 10.994141, 4....</td>\n",
       "      <td>Cargo</td>\n",
       "    </tr>\n",
       "    <tr>\n",
       "      <th>3</th>\n",
       "      <td>[-958.41956, 12.191271, 1.7338899, 1.9386969, ...</td>\n",
       "      <td>Cargo</td>\n",
       "    </tr>\n",
       "    <tr>\n",
       "      <th>4</th>\n",
       "      <td>[-896.8744, 49.558216, 24.255026, 20.094505, 1...</td>\n",
       "      <td>Cargo</td>\n",
       "    </tr>\n",
       "    <tr>\n",
       "      <th>...</th>\n",
       "      <td>...</td>\n",
       "      <td>...</td>\n",
       "    </tr>\n",
       "    <tr>\n",
       "      <th>604</th>\n",
       "      <td>[-974.24023, 2.3665962, 0.19154242, 1.5096675,...</td>\n",
       "      <td>Tug</td>\n",
       "    </tr>\n",
       "    <tr>\n",
       "      <th>605</th>\n",
       "      <td>[-938.0368, 5.373568, 1.8666614, 0.8558346, 0....</td>\n",
       "      <td>Tug</td>\n",
       "    </tr>\n",
       "    <tr>\n",
       "      <th>606</th>\n",
       "      <td>[-956.2245, 6.7470174, -0.27839443, 1.7886881,...</td>\n",
       "      <td>Tug</td>\n",
       "    </tr>\n",
       "    <tr>\n",
       "      <th>607</th>\n",
       "      <td>[-960.537, -9.796723, 5.7901726, 3.475453, -5....</td>\n",
       "      <td>Tug</td>\n",
       "    </tr>\n",
       "    <tr>\n",
       "      <th>608</th>\n",
       "      <td>[-883.8289, 6.2442126, -0.85583025, -1.1542561...</td>\n",
       "      <td>Tug</td>\n",
       "    </tr>\n",
       "  </tbody>\n",
       "</table>\n",
       "<p>609 rows × 2 columns</p>\n",
       "</div>"
      ],
      "text/plain": [
       "                                              Features  Class\n",
       "0    [-932.2881, 13.635875, 1.8276811, 4.505561, 1....  Cargo\n",
       "1    [-953.34406, 23.712738, 5.6353164, 7.229023, 1...  Cargo\n",
       "2    [-896.3549, 26.114866, 8.032627, 10.994141, 4....  Cargo\n",
       "3    [-958.41956, 12.191271, 1.7338899, 1.9386969, ...  Cargo\n",
       "4    [-896.8744, 49.558216, 24.255026, 20.094505, 1...  Cargo\n",
       "..                                                 ...    ...\n",
       "604  [-974.24023, 2.3665962, 0.19154242, 1.5096675,...    Tug\n",
       "605  [-938.0368, 5.373568, 1.8666614, 0.8558346, 0....    Tug\n",
       "606  [-956.2245, 6.7470174, -0.27839443, 1.7886881,...    Tug\n",
       "607  [-960.537, -9.796723, 5.7901726, 3.475453, -5....    Tug\n",
       "608  [-883.8289, 6.2442126, -0.85583025, -1.1542561...    Tug\n",
       "\n",
       "[609 rows x 2 columns]"
      ]
     },
     "execution_count": 5,
     "metadata": {},
     "output_type": "execute_result"
    }
   ],
   "source": [
    "ex_data"
   ]
  },
  {
   "cell_type": "markdown",
   "metadata": {},
   "source": [
    "Splitting Features"
   ]
  },
  {
   "cell_type": "code",
   "execution_count": 6,
   "metadata": {},
   "outputs": [],
   "source": [
    "X=np.array(ex_data['Features'].tolist())\n",
    "y=np.array(ex_data['Class'].tolist())"
   ]
  },
  {
   "cell_type": "code",
   "execution_count": 7,
   "metadata": {},
   "outputs": [
    {
     "name": "stdout",
     "output_type": "stream",
     "text": [
      "mfcc Features       :  (609, 40)\n",
      "Class Labels shape  :  (609,)\n"
     ]
    }
   ],
   "source": [
    "print('mfcc Features       : ',X.shape)\n",
    "print('Class Labels shape  : ',y.shape)"
   ]
  },
  {
   "cell_type": "code",
   "execution_count": 8,
   "metadata": {},
   "outputs": [],
   "source": [
    "X_copy_1 = X\n",
    "y_copy_1 = y\n",
    "\n",
    "X_copy_2 = X\n",
    "y_copy_2 = y"
   ]
  },
  {
   "cell_type": "code",
   "execution_count": 9,
   "metadata": {},
   "outputs": [],
   "source": [
    "#label encoding the class labels of y_copy_1\n",
    "\n",
    "label_encoder = LabelEncoder()\n",
    "y_copy_1 = label_encoder.fit_transform(y)"
   ]
  },
  {
   "cell_type": "code",
   "execution_count": 10,
   "metadata": {},
   "outputs": [
    {
     "data": {
      "text/plain": [
       "array([0, 0, 0, 0, 0, 0, 0, 0, 0, 0, 0, 0, 0, 0, 0, 0, 0, 0, 0, 0, 0, 0,\n",
       "       0, 0, 0, 0, 0, 0, 0, 0, 0, 0, 0, 0, 0, 0, 0, 0, 0, 0, 0, 0, 0, 0,\n",
       "       0, 0, 0, 0, 0, 0, 0, 0, 0, 0, 0, 0, 0, 0, 0, 0, 0, 0, 0, 0, 0, 0,\n",
       "       0, 0, 0, 0, 0, 0, 0, 0, 0, 0, 0, 0, 0, 0, 0, 0, 0, 0, 0, 0, 0, 0,\n",
       "       0, 0, 0, 0, 0, 0, 0, 0, 0, 0, 0, 0, 0, 0, 0, 0, 0, 0, 0, 0, 0, 1,\n",
       "       1, 1, 1, 1, 1, 1, 1, 1, 1, 1, 1, 1, 1, 1, 1, 1, 1, 1, 1, 1, 1, 1,\n",
       "       1, 1, 1, 1, 1, 1, 1, 1, 1, 1, 1, 1, 1, 1, 1, 1, 1, 1, 1, 1, 1, 1,\n",
       "       1, 1, 1, 1, 1, 1, 1, 1, 1, 1, 1, 1, 1, 1, 1, 1, 1, 1, 1, 1, 1, 1,\n",
       "       1, 1, 1, 1, 1, 1, 1, 1, 1, 1, 1, 1, 1, 1, 1, 1, 1, 1, 1, 1, 1, 1,\n",
       "       1, 1, 1, 1, 1, 1, 1, 1, 1, 1, 1, 1, 1, 1, 1, 1, 1, 1, 1, 1, 1, 1,\n",
       "       1, 1, 1, 1, 1, 1, 1, 1, 1, 1, 1, 1, 1, 1, 1, 1, 1, 1, 1, 1, 1, 1,\n",
       "       1, 1, 1, 1, 1, 1, 1, 1, 1, 1, 1, 1, 1, 1, 1, 1, 1, 1, 1, 1, 1, 1,\n",
       "       1, 1, 1, 1, 1, 1, 1, 1, 1, 1, 1, 1, 1, 1, 1, 1, 1, 1, 1, 1, 1, 1,\n",
       "       1, 1, 1, 1, 1, 1, 1, 1, 1, 1, 1, 1, 1, 1, 2, 2, 2, 2, 2, 2, 2, 2,\n",
       "       2, 2, 2, 2, 2, 2, 2, 2, 2, 2, 2, 2, 2, 2, 2, 2, 2, 2, 2, 2, 2, 2,\n",
       "       2, 2, 2, 2, 2, 2, 2, 2, 2, 2, 2, 2, 2, 2, 2, 2, 2, 2, 2, 2, 2, 2,\n",
       "       2, 2, 2, 2, 2, 2, 2, 2, 2, 2, 2, 2, 2, 2, 2, 2, 2, 2, 2, 2, 2, 2,\n",
       "       2, 2, 2, 2, 2, 2, 2, 2, 2, 2, 2, 2, 2, 2, 2, 2, 2, 2, 2, 2, 2, 2,\n",
       "       2, 2, 2, 2, 2, 2, 2, 2, 2, 2, 2, 2, 2, 2, 2, 2, 2, 2, 2, 2, 2, 2,\n",
       "       2, 2, 2, 2, 2, 2, 2, 2, 2, 2, 2, 2, 2, 2, 2, 2, 2, 2, 2, 2, 2, 2,\n",
       "       2, 2, 2, 2, 2, 2, 2, 2, 2, 2, 2, 2, 2, 2, 2, 2, 2, 2, 2, 2, 2, 2,\n",
       "       2, 2, 2, 2, 2, 2, 2, 2, 2, 2, 2, 2, 2, 2, 2, 2, 2, 2, 2, 2, 2, 2,\n",
       "       2, 2, 2, 2, 2, 2, 2, 2, 2, 2, 2, 2, 2, 2, 2, 2, 2, 2, 2, 2, 2, 2,\n",
       "       2, 2, 2, 2, 2, 2, 2, 2, 2, 2, 2, 2, 2, 2, 2, 2, 2, 2, 2, 2, 2, 2,\n",
       "       2, 2, 2, 2, 2, 2, 2, 2, 2, 2, 2, 2, 3, 3, 3, 3, 3, 3, 3, 3, 3, 3,\n",
       "       3, 3, 3, 3, 3, 3, 3, 3, 3, 3, 3, 3, 3, 3, 3, 3, 3, 3, 3, 3, 3, 3,\n",
       "       3, 3, 3, 3, 3, 3, 3, 3, 3, 3, 3, 3, 3, 3, 3, 3, 3, 3, 3, 3, 3, 3,\n",
       "       3, 3, 3, 3, 3, 3, 3, 3, 3, 3, 3, 3, 3, 3, 3], dtype=int64)"
      ]
     },
     "execution_count": 10,
     "metadata": {},
     "output_type": "execute_result"
    }
   ],
   "source": [
    "y_copy_1"
   ]
  },
  {
   "cell_type": "code",
   "execution_count": 11,
   "metadata": {},
   "outputs": [],
   "source": [
    "X_train,X_test,y_train,y_test=train_test_split(X_copy_1,y_copy_1,test_size=0.2,random_state=0)"
   ]
  },
  {
   "cell_type": "code",
   "execution_count": 26,
   "metadata": {},
   "outputs": [
    {
     "data": {
      "text/plain": [
       "array([[-9.56502500e+02,  4.45939900e+00,  3.96129160e+00, ...,\n",
       "         5.26133400e-01,  6.06229250e-01,  1.35178160e-01],\n",
       "       [-9.18785300e+02,  2.41164900e+01,  5.96756640e-02, ...,\n",
       "         6.61435900e-01,  7.74208070e-01,  9.92941600e-01],\n",
       "       [-9.32873800e+02,  3.43862460e+01,  1.24659650e+01, ...,\n",
       "         1.03055330e+00,  6.05297600e-01,  7.81642700e-01],\n",
       "       ...,\n",
       "       [-8.66937600e+02,  3.10620670e+01,  8.38586400e-01, ...,\n",
       "         9.16596830e-01, -6.48454100e-02,  3.67324950e-02],\n",
       "       [-9.24480700e+02,  7.63614600e-01,  3.34505900e+00, ...,\n",
       "         6.98121960e-01,  7.15963100e-01,  1.19171776e-01],\n",
       "       [-9.62628600e+02,  4.97976100e+00,  3.17668560e-01, ...,\n",
       "         7.68911100e-01,  1.07794740e+00,  7.26504200e-01]])"
      ]
     },
     "execution_count": 26,
     "metadata": {},
     "output_type": "execute_result"
    }
   ],
   "source": [
    "X_test"
   ]
  },
  {
   "cell_type": "markdown",
   "metadata": {},
   "source": [
    "Technique to handle imbalance data"
   ]
  },
  {
   "cell_type": "code",
   "execution_count": 82,
   "metadata": {},
   "outputs": [],
   "source": [
    "# Create a list to store indices of samples from each category\n",
    "category_indices = {category: np.where(y == category)[0] for category in np.unique(y)}\n",
    "\n",
    "# Calculate the minimum number of samples across all categories\n",
    "min_samples = min(len(indices) for indices in category_indices.values())\n",
    "\n",
    "# Initialize lists to store train and test indices\n",
    "train_indices = []\n",
    "test_indices = []\n",
    "\n",
    "# Define the fixed portion (percentage) for training and testing\n",
    "train_portion = 0.8\n",
    "test_portion = 0.2"
   ]
  },
  {
   "cell_type": "code",
   "execution_count": 83,
   "metadata": {},
   "outputs": [],
   "source": [
    "# Iterate through each category\n",
    "for category, indices in category_indices.items():\n",
    "    # Select a fixed number of samples from each category\n",
    "    num_samples = min_samples\n",
    "    num_train_samples = int(train_portion * num_samples)\n",
    "    num_test_samples = int(test_portion * num_samples)\n",
    "\n",
    "    # Randomly shuffle the indices for each category\n",
    "    shuffled_indices = np.random.permutation(indices)\n",
    "\n",
    "    # Select samples for training and testing\n",
    "    train_indices.extend(shuffled_indices[:num_train_samples])\n",
    "    test_indices.extend(shuffled_indices[num_train_samples:num_train_samples + num_test_samples])\n"
   ]
  },
  {
   "cell_type": "code",
   "execution_count": 84,
   "metadata": {},
   "outputs": [],
   "source": [
    "# Split the data using the selected train and test indices\n",
    "X_train = X[train_indices]\n",
    "y_train = y[train_indices]\n",
    "X_test = X[test_indices]\n",
    "y_test = y[test_indices]"
   ]
  },
  {
   "cell_type": "code",
   "execution_count": 19,
   "metadata": {},
   "outputs": [],
   "source": [
    "y_train_encoded = label_encoder.fit_transform(y_train)\n",
    "y_test_encoded = label_encoder.transform(y_test)"
   ]
  },
  {
   "cell_type": "code",
   "execution_count": 86,
   "metadata": {},
   "outputs": [
    {
     "data": {
      "text/plain": [
       "array(['Cargo', 'Cargo', 'Cargo', 'Cargo', 'Cargo', 'Cargo', 'Cargo',\n",
       "       'Cargo', 'Cargo', 'Cargo', 'Cargo', 'Cargo', 'Cargo', 'Cargo',\n",
       "       'Cargo', 'Cargo', 'Cargo', 'Cargo', 'Cargo', 'Cargo', 'Cargo',\n",
       "       'Cargo', 'Cargo', 'Cargo', 'Cargo', 'Cargo', 'Cargo', 'Cargo',\n",
       "       'Cargo', 'Cargo', 'Cargo', 'Cargo', 'Cargo', 'Cargo', 'Cargo',\n",
       "       'Cargo', 'Cargo', 'Cargo', 'Cargo', 'Cargo', 'Cargo', 'Cargo',\n",
       "       'Cargo', 'Cargo', 'Cargo', 'Cargo', 'Cargo', 'Cargo', 'Cargo',\n",
       "       'Cargo', 'Cargo', 'Cargo', 'Cargo', 'Cargo', 'Cargo', 'Passenger',\n",
       "       'Passenger', 'Passenger', 'Passenger', 'Passenger', 'Passenger',\n",
       "       'Passenger', 'Passenger', 'Passenger', 'Passenger', 'Passenger',\n",
       "       'Passenger', 'Passenger', 'Passenger', 'Passenger', 'Passenger',\n",
       "       'Passenger', 'Passenger', 'Passenger', 'Passenger', 'Passenger',\n",
       "       'Passenger', 'Passenger', 'Passenger', 'Passenger', 'Passenger',\n",
       "       'Passenger', 'Passenger', 'Passenger', 'Passenger', 'Passenger',\n",
       "       'Passenger', 'Passenger', 'Passenger', 'Passenger', 'Passenger',\n",
       "       'Passenger', 'Passenger', 'Passenger', 'Passenger', 'Passenger',\n",
       "       'Passenger', 'Passenger', 'Passenger', 'Passenger', 'Passenger',\n",
       "       'Passenger', 'Passenger', 'Passenger', 'Passenger', 'Passenger',\n",
       "       'Passenger', 'Passenger', 'Passenger', 'Passenger', 'Tanker',\n",
       "       'Tanker', 'Tanker', 'Tanker', 'Tanker', 'Tanker', 'Tanker',\n",
       "       'Tanker', 'Tanker', 'Tanker', 'Tanker', 'Tanker', 'Tanker',\n",
       "       'Tanker', 'Tanker', 'Tanker', 'Tanker', 'Tanker', 'Tanker',\n",
       "       'Tanker', 'Tanker', 'Tanker', 'Tanker', 'Tanker', 'Tanker',\n",
       "       'Tanker', 'Tanker', 'Tanker', 'Tanker', 'Tanker', 'Tanker',\n",
       "       'Tanker', 'Tanker', 'Tanker', 'Tanker', 'Tanker', 'Tanker',\n",
       "       'Tanker', 'Tanker', 'Tanker', 'Tanker', 'Tanker', 'Tanker',\n",
       "       'Tanker', 'Tanker', 'Tanker', 'Tanker', 'Tanker', 'Tanker',\n",
       "       'Tanker', 'Tanker', 'Tanker', 'Tanker', 'Tanker', 'Tanker', 'Tug',\n",
       "       'Tug', 'Tug', 'Tug', 'Tug', 'Tug', 'Tug', 'Tug', 'Tug', 'Tug',\n",
       "       'Tug', 'Tug', 'Tug', 'Tug', 'Tug', 'Tug', 'Tug', 'Tug', 'Tug',\n",
       "       'Tug', 'Tug', 'Tug', 'Tug', 'Tug', 'Tug', 'Tug', 'Tug', 'Tug',\n",
       "       'Tug', 'Tug', 'Tug', 'Tug', 'Tug', 'Tug', 'Tug', 'Tug', 'Tug',\n",
       "       'Tug', 'Tug', 'Tug', 'Tug', 'Tug', 'Tug', 'Tug', 'Tug', 'Tug',\n",
       "       'Tug', 'Tug', 'Tug', 'Tug', 'Tug', 'Tug', 'Tug', 'Tug', 'Tug'],\n",
       "      dtype='<U9')"
      ]
     },
     "execution_count": 86,
     "metadata": {},
     "output_type": "execute_result"
    }
   ],
   "source": [
    "y_train"
   ]
  },
  {
   "cell_type": "code",
   "execution_count": 12,
   "metadata": {},
   "outputs": [
    {
     "name": "stdout",
     "output_type": "stream",
     "text": [
      "2: 189\n",
      "0: 84\n",
      "1: 158\n",
      "3: 56\n"
     ]
    }
   ],
   "source": [
    "# Count the occurrences of each category\n",
    "category_count = Counter(y_train)\n",
    "\n",
    "# Print the total count of each category\n",
    "for category, count in category_count.items():\n",
    "    print(f'{category}: {count}')"
   ]
  },
  {
   "cell_type": "markdown",
   "metadata": {},
   "source": [
    "-----------------------\n",
    "Machine Learning Models\n",
    "-----------------------"
   ]
  },
  {
   "cell_type": "markdown",
   "metadata": {},
   "source": [
    "---------\n",
    "SVM"
   ]
  },
  {
   "cell_type": "markdown",
   "metadata": {},
   "source": [
    "Loading Libraries"
   ]
  },
  {
   "cell_type": "code",
   "execution_count": 13,
   "metadata": {},
   "outputs": [],
   "source": [
    "from sklearn.svm import SVC\n",
    "from sklearn.model_selection import GridSearchCV\n",
    "from sklearn.preprocessing import StandardScaler\n",
    "from sklearn.pipeline import Pipeline\n",
    "from sklearn.metrics import confusion_matrix\n",
    "import seaborn as sn\n",
    "from sklearn.metrics import classification_report"
   ]
  },
  {
   "cell_type": "markdown",
   "metadata": {},
   "source": [
    "Defining Parameters for SVM"
   ]
  },
  {
   "cell_type": "code",
   "execution_count": 14,
   "metadata": {},
   "outputs": [],
   "source": [
    "svm_pipeline = Pipeline([\n",
    "    ('scaler', StandardScaler()),\n",
    "    ('svm', SVC(kernel='rbf'))\n",
    "])\n",
    "\n",
    "param_grid = {\n",
    "    'svm__C': [0.1, 1, 10],\n",
    "    'svm__gamma': [0.1, 1, 10] \n",
    "}"
   ]
  },
  {
   "cell_type": "code",
   "execution_count": 30,
   "metadata": {},
   "outputs": [
    {
     "name": "stdout",
     "output_type": "stream",
     "text": [
      "Fitting 4 folds for each of 9 candidates, totalling 36 fits\n"
     ]
    }
   ],
   "source": [
    "grid_search = GridSearchCV(svm_pipeline, param_grid, cv=4, n_jobs=-1, verbose=2)\n",
    "grid_search.fit(X_train, y_train)\n",
    "best_params = grid_search.best_params_\n",
    "best_svm_model = grid_search.best_estimator_"
   ]
  },
  {
   "cell_type": "markdown",
   "metadata": {},
   "source": [
    "Testing Accuracy for SVM"
   ]
  },
  {
   "cell_type": "code",
   "execution_count": 32,
   "metadata": {},
   "outputs": [
    {
     "name": "stdout",
     "output_type": "stream",
     "text": [
      "Best Parameters  :: {'svm__C': 10, 'svm__gamma': 0.1}\n",
      "Test Accuracy    :: 0.6475409836065574\n"
     ]
    }
   ],
   "source": [
    "test_accuracy = best_svm_model.score(X_test, y_test)\n",
    "\n",
    "print(\"Best Parameters  ::\", best_params)\n",
    "print(\"Test Accuracy    ::\", test_accuracy)"
   ]
  },
  {
   "cell_type": "markdown",
   "metadata": {},
   "source": [
    "Confusion Matrix"
   ]
  },
  {
   "cell_type": "code",
   "execution_count": 33,
   "metadata": {},
   "outputs": [
    {
     "data": {
      "text/plain": [
       "Text(70.72222222222221, 0.5, 'Truth')"
      ]
     },
     "execution_count": 33,
     "metadata": {},
     "output_type": "execute_result"
    },
    {
     "data": {
      "image/png": "[encoded data removed]",
      "text/plain": [
       "<Figure size 800x500 with 2 Axes>"
      ]
     },
     "metadata": {},
     "output_type": "display_data"
    }
   ],
   "source": [
    "cm = confusion_matrix(y_test, grid_search.predict(X_test))\n",
    "plt.figure(figsize = (8,5))\n",
    "sn.heatmap(cm, annot=True)\n",
    "plt.xlabel('Predicted')\n",
    "plt.ylabel('Truth')"
   ]
  },
  {
   "cell_type": "code",
   "execution_count": 35,
   "metadata": {},
   "outputs": [
    {
     "data": {
      "image/png": "[encoded data removed]",
      "text/plain": [
       "<Figure size 800x500 with 2 Axes>"
      ]
     },
     "metadata": {},
     "output_type": "display_data"
    }
   ],
   "source": [
    "cm = confusion_matrix(y_test, grid_search.predict(X_test))\n",
    "\n",
    "cm_percent = cm / cm.sum(axis=1)[:, np.newaxis] * 100\n",
    "plt.figure(figsize=(8, 5))\n",
    "sn.heatmap(cm_percent, annot=True, fmt=\".1f\", cmap=\"YlGnBu\")\n",
    "plt.xlabel('Predicted')\n",
    "plt.ylabel('Truth')\n",
    "\n",
    "ax = plt.gca()\n",
    "for t in ax.texts:\n",
    "    t.set_text(t.get_text() + \"  %\")\n",
    "plt.show()"
   ]
  },
  {
   "cell_type": "markdown",
   "metadata": {},
   "source": [
    "Precision & Recall"
   ]
  },
  {
   "cell_type": "code",
   "execution_count": 34,
   "metadata": {},
   "outputs": [
    {
     "name": "stdout",
     "output_type": "stream",
     "text": [
      "              precision    recall  f1-score   support\n",
      "\n",
      "           0       0.74      0.56      0.64        25\n",
      "           1       0.48      0.45      0.47        33\n",
      "           2       0.71      0.88      0.79        51\n",
      "           3       0.56      0.38      0.45        13\n",
      "\n",
      "    accuracy                           0.65       122\n",
      "   macro avg       0.62      0.57      0.59       122\n",
      "weighted avg       0.64      0.65      0.64       122\n",
      "\n"
     ]
    }
   ],
   "source": [
    "print(classification_report(y_test, grid_search.predict(X_test))) "
   ]
  },
  {
   "cell_type": "code",
   "execution_count": 111,
   "metadata": {},
   "outputs": [
    {
     "data": {
      "text/plain": [
       "array([[-4.64658295e+02,  1.28595749e+02,  1.01827402e+01, ...,\n",
       "         7.17186809e-01,  2.99746013e+00,  1.81882119e+00],\n",
       "       [-3.87223602e+02,  1.03982079e+02,  3.97561669e+00, ...,\n",
       "         1.94586623e+00,  1.00929797e+00,  2.14922667e+00],\n",
       "       [-3.78800415e+02,  1.05399879e+02,  2.29888477e+01, ...,\n",
       "        -1.02577710e+00,  3.25005621e-01,  7.07390487e-01],\n",
       "       ...,\n",
       "       [-5.25560913e+02,  7.62880630e+01, -9.80636626e-02, ...,\n",
       "         3.29030228e+00,  5.28957224e+00,  3.84839487e+00],\n",
       "       [-4.79941193e+02,  8.59962616e+01, -6.87532872e-02, ...,\n",
       "         1.71654212e+00,  3.47529554e+00,  2.40912676e+00],\n",
       "       [-3.59434784e+02,  9.18851776e+01,  4.88475990e+00, ...,\n",
       "         3.53486037e+00, -2.99074888e-01,  2.14804411e+00]])"
      ]
     },
     "execution_count": 111,
     "metadata": {},
     "output_type": "execute_result"
    }
   ],
   "source": [
    "X_test"
   ]
  },
  {
   "cell_type": "markdown",
   "metadata": {},
   "source": [
    "---------\n",
    "Decision Tree"
   ]
  },
  {
   "cell_type": "code",
   "execution_count": null,
   "metadata": {},
   "outputs": [],
   "source": []
  },
  {
   "cell_type": "markdown",
   "metadata": {},
   "source": [
    "-----------------------\n",
    "Deep Learning Models\n",
    "-----------------------"
   ]
  },
  {
   "cell_type": "markdown",
   "metadata": {},
   "source": [
    "--------------\n",
    "Basic ANN Model"
   ]
  },
  {
   "cell_type": "markdown",
   "metadata": {},
   "source": [
    "Importing Libraries"
   ]
  },
  {
   "cell_type": "code",
   "execution_count": 15,
   "metadata": {},
   "outputs": [],
   "source": [
    "from tensorflow.keras.models import Sequential\n",
    "from tensorflow.keras.layers import Dense,Dropout,Activation,Flatten\n",
    "from tensorflow.keras.optimizers import Adam\n",
    "from sklearn import metrics\n",
    "from tensorflow.keras.callbacks import ModelCheckpoint\n",
    "from datetime import datetime"
   ]
  },
  {
   "cell_type": "code",
   "execution_count": 37,
   "metadata": {},
   "outputs": [
    {
     "data": {
      "text/plain": [
       "609"
      ]
     },
     "execution_count": 37,
     "metadata": {},
     "output_type": "execute_result"
    }
   ],
   "source": [
    "## No of classes\n",
    "num_labels=y_copy_1.shape[0]\n",
    "num_labels"
   ]
  },
  {
   "cell_type": "markdown",
   "metadata": {},
   "source": [
    "Creating Model --- Needs to understand this one"
   ]
  },
  {
   "cell_type": "code",
   "execution_count": 16,
   "metadata": {},
   "outputs": [],
   "source": [
    "model=Sequential()\n",
    "###first layer\n",
    "model.add(Dense(100,input_shape=(40,)))\n",
    "model.add(Activation('relu'))\n",
    "model.add(Dropout(0.5))\n",
    "###second layer\n",
    "model.add(Dense(200))\n",
    "model.add(Activation('relu'))\n",
    "model.add(Dropout(0.5))\n",
    "###third layer\n",
    "model.add(Dense(100))\n",
    "model.add(Activation('relu'))\n",
    "model.add(Dropout(0.5))\n",
    "\n",
    "###final layer\n",
    "model.add(Dense(len(np.unique(y_train)), activation='softmax'))"
   ]
  },
  {
   "cell_type": "code",
   "execution_count": 17,
   "metadata": {},
   "outputs": [
    {
     "name": "stdout",
     "output_type": "stream",
     "text": [
      "Model: \"sequential\"\n",
      "_________________________________________________________________\n",
      " Layer (type)                Output Shape              Param #   \n",
      "=================================================================\n",
      " dense (Dense)               (None, 100)               4100      \n",
      "                                                                 \n",
      " activation (Activation)     (None, 100)               0         \n",
      "                                                                 \n",
      " dropout (Dropout)           (None, 100)               0         \n",
      "                                                                 \n",
      " dense_1 (Dense)             (None, 200)               20200     \n",
      "                                                                 \n",
      " activation_1 (Activation)   (None, 200)               0         \n",
      "                                                                 \n",
      " dropout_1 (Dropout)         (None, 200)               0         \n",
      "                                                                 \n",
      " dense_2 (Dense)             (None, 100)               20100     \n",
      "                                                                 \n",
      " activation_2 (Activation)   (None, 100)               0         \n",
      "                                                                 \n",
      " dropout_2 (Dropout)         (None, 100)               0         \n",
      "                                                                 \n",
      " dense_3 (Dense)             (None, 4)                 404       \n",
      "                                                                 \n",
      "=================================================================\n",
      "Total params: 44804 (175.02 KB)\n",
      "Trainable params: 44804 (175.02 KB)\n",
      "Non-trainable params: 0 (0.00 Byte)\n",
      "_________________________________________________________________\n"
     ]
    }
   ],
   "source": [
    "model.summary()"
   ]
  },
  {
   "cell_type": "code",
   "execution_count": 18,
   "metadata": {},
   "outputs": [],
   "source": [
    "model.compile(optimizer='adam', loss='sparse_categorical_crossentropy', metrics=['accuracy'])"
   ]
  },
  {
   "cell_type": "code",
   "execution_count": 21,
   "metadata": {},
   "outputs": [
    {
     "data": {
      "text/plain": [
       "array([2, 0, 2, 2, 1, 1, 1, 1, 2, 2, 2, 2, 2, 2, 1, 3, 1, 3, 2, 1, 1, 2,\n",
       "       2, 1, 0, 1, 2, 3, 0, 1, 1, 2, 0, 1, 2, 1, 0, 2, 2, 0, 2, 0, 3, 0,\n",
       "       2, 0, 1, 3, 2, 1, 2, 1, 2, 2, 0, 3, 2, 2, 2, 2, 1, 1, 2, 3, 1, 1,\n",
       "       2, 2, 1, 2, 2, 1, 1, 3, 1, 1, 1, 0, 0, 1, 1, 2, 2, 1, 3, 2, 2, 1,\n",
       "       2, 3, 2, 2, 2, 1, 1, 1, 0, 2, 2, 0, 3, 1, 2, 2, 2, 1, 2, 3, 2, 2,\n",
       "       2, 1, 2, 0, 2, 1, 3, 3, 3, 2, 2, 1, 3, 1, 0, 0, 0, 1, 0, 0, 2, 0,\n",
       "       1, 0, 2, 2, 2, 0, 0, 2, 1, 2, 1, 2, 2, 1, 0, 2, 2, 2, 1, 1, 1, 0,\n",
       "       3, 3, 2, 1, 0, 2, 2, 1, 0, 1, 0, 2, 2, 2, 2, 0, 1, 2, 1, 2, 3, 0,\n",
       "       1, 1, 2, 3, 1, 1, 3, 1, 0, 2, 2, 3, 3, 1, 3, 1, 2, 2, 2, 1, 1, 1,\n",
       "       3, 2, 1, 0, 2, 0, 0, 2, 3, 2, 2, 2, 0, 3, 3, 2, 2, 1, 1, 1, 0, 2,\n",
       "       3, 2, 2, 1, 2, 0, 0, 2, 1, 3, 1, 1, 1, 2, 2, 1, 2, 3, 2, 2, 1, 2,\n",
       "       1, 2, 2, 2, 2, 3, 1, 2, 1, 2, 2, 3, 2, 1, 1, 1, 0, 0, 1, 0, 2, 2,\n",
       "       0, 1, 2, 3, 2, 2, 2, 1, 2, 2, 1, 0, 2, 1, 0, 2, 0, 2, 2, 2, 2, 3,\n",
       "       1, 0, 2, 3, 1, 2, 2, 1, 1, 0, 2, 2, 2, 1, 3, 1, 1, 3, 1, 1, 1, 0,\n",
       "       0, 2, 1, 2, 2, 1, 1, 2, 1, 1, 1, 1, 2, 0, 1, 2, 0, 2, 3, 2, 0, 1,\n",
       "       2, 1, 1, 1, 2, 2, 1, 0, 2, 1, 2, 2, 2, 2, 0, 1, 1, 2, 1, 0, 2, 2,\n",
       "       1, 2, 2, 2, 1, 1, 2, 1, 2, 1, 2, 2, 3, 1, 2, 2, 2, 3, 0, 2, 1, 3,\n",
       "       1, 2, 1, 0, 0, 1, 1, 1, 1, 0, 3, 2, 1, 2, 3, 3, 1, 3, 1, 0, 0, 2,\n",
       "       0, 0, 0, 0, 0, 0, 2, 1, 1, 1, 0, 2, 1, 0, 2, 2, 2, 2, 1, 2, 2, 1,\n",
       "       1, 1, 0, 3, 1, 2, 2, 1, 1, 1, 1, 0, 2, 1, 0, 2, 0, 0, 2, 1, 1, 0,\n",
       "       2, 1, 3, 2, 0, 2, 2, 1, 2, 3, 0, 3, 1, 0, 1, 2, 2, 1, 1, 3, 3, 1,\n",
       "       1, 2, 1, 1, 0, 2, 2, 1, 0, 2, 1, 0, 3, 2, 2, 2, 3, 2, 0, 3, 1, 0,\n",
       "       2, 1, 3], dtype=int64)"
      ]
     },
     "execution_count": 21,
     "metadata": {},
     "output_type": "execute_result"
    }
   ],
   "source": [
    "y_train_encoded"
   ]
  },
  {
   "cell_type": "code",
   "execution_count": 22,
   "metadata": {},
   "outputs": [
    {
     "name": "stdout",
     "output_type": "stream",
     "text": [
      "Epoch 1/100\n",
      " 1/16 [>.............................] - ETA: 10s - loss: 227.4800 - accuracy: 0.1250\n",
      "Epoch 1: val_loss improved from inf to 14.12121, saving model to saved_models\\audio_classification.hdf5\n",
      "16/16 [==============================] - 1s 46ms/step - loss: 111.5837 - accuracy: 0.3368 - val_loss: 14.1212 - val_accuracy: 0.2049\n",
      "Epoch 2/100\n",
      " 1/16 [>.............................] - ETA: 0s - loss: 46.5188 - accuracy: 0.4375"
     ]
    },
    {
     "name": "stderr",
     "output_type": "stream",
     "text": [
      "C:\\Users\\oceanvue\\AppData\\Roaming\\Python\\Python310\\site-packages\\keras\\src\\engine\\training.py:3000: UserWarning: You are saving your model as an HDF5 file via `model.save()`. This file format is considered legacy. We recommend using instead the native Keras format, e.g. `model.save('my_model.keras')`.\n",
      "  saving_api.save_model(\n"
     ]
    },
    {
     "name": "stdout",
     "output_type": "stream",
     "text": [
      "\n",
      "Epoch 2: val_loss improved from 14.12121 to 5.61323, saving model to saved_models\\audio_classification.hdf5\n",
      "16/16 [==============================] - 0s 6ms/step - loss: 72.9697 - accuracy: 0.2936 - val_loss: 5.6132 - val_accuracy: 0.2951\n",
      "Epoch 3/100\n",
      " 1/16 [>.............................] - ETA: 0s - loss: 52.5978 - accuracy: 0.3750\n",
      "Epoch 3: val_loss did not improve from 5.61323\n",
      "16/16 [==============================] - 0s 3ms/step - loss: 51.8093 - accuracy: 0.3265 - val_loss: 6.2902 - val_accuracy: 0.2049\n",
      "Epoch 4/100\n",
      " 1/16 [>.............................] - ETA: 0s - loss: 40.6058 - accuracy: 0.2812\n",
      "Epoch 4: val_loss improved from 5.61323 to 3.62657, saving model to saved_models\\audio_classification.hdf5\n",
      "16/16 [==============================] - 0s 7ms/step - loss: 38.3752 - accuracy: 0.3121 - val_loss: 3.6266 - val_accuracy: 0.3197\n",
      "Epoch 5/100\n",
      " 1/16 [>.............................] - ETA: 0s - loss: 33.7973 - accuracy: 0.2812\n",
      "Epoch 5: val_loss improved from 3.62657 to 2.05317, saving model to saved_models\\audio_classification.hdf5\n",
      "16/16 [==============================] - 0s 5ms/step - loss: 31.6605 - accuracy: 0.2998 - val_loss: 2.0532 - val_accuracy: 0.4180\n",
      "Epoch 6/100\n",
      " 1/16 [>.............................] - ETA: 0s - loss: 30.3394 - accuracy: 0.4375\n",
      "Epoch 6: val_loss improved from 2.05317 to 1.62036, saving model to saved_models\\audio_classification.hdf5\n",
      "16/16 [==============================] - 0s 7ms/step - loss: 26.7994 - accuracy: 0.3265 - val_loss: 1.6204 - val_accuracy: 0.3443\n",
      "Epoch 7/100\n",
      " 1/16 [>.............................] - ETA: 0s - loss: 27.5820 - accuracy: 0.2500\n",
      "Epoch 7: val_loss improved from 1.62036 to 1.58938, saving model to saved_models\\audio_classification.hdf5\n",
      "16/16 [==============================] - 0s 6ms/step - loss: 22.2958 - accuracy: 0.2998 - val_loss: 1.5894 - val_accuracy: 0.2049\n",
      "Epoch 8/100\n",
      " 1/16 [>.............................] - ETA: 0s - loss: 26.3909 - accuracy: 0.2812\n",
      "Epoch 8: val_loss improved from 1.58938 to 1.50803, saving model to saved_models\\audio_classification.hdf5\n",
      "16/16 [==============================] - 0s 5ms/step - loss: 17.7796 - accuracy: 0.3162 - val_loss: 1.5080 - val_accuracy: 0.2213\n",
      "Epoch 9/100\n",
      " 1/16 [>.............................] - ETA: 0s - loss: 13.7170 - accuracy: 0.3750\n",
      "Epoch 9: val_loss improved from 1.50803 to 1.48276, saving model to saved_models\\audio_classification.hdf5\n",
      "16/16 [==============================] - 0s 5ms/step - loss: 15.5343 - accuracy: 0.2977 - val_loss: 1.4828 - val_accuracy: 0.2049\n",
      "Epoch 10/100\n",
      " 1/16 [>.............................] - ETA: 0s - loss: 14.4540 - accuracy: 0.3750\n",
      "Epoch 10: val_loss improved from 1.48276 to 1.44731, saving model to saved_models\\audio_classification.hdf5\n",
      "16/16 [==============================] - 0s 6ms/step - loss: 13.5063 - accuracy: 0.2669 - val_loss: 1.4473 - val_accuracy: 0.2049\n",
      "Epoch 11/100\n",
      " 1/16 [>.............................] - ETA: 0s - loss: 10.1517 - accuracy: 0.2188\n",
      "Epoch 11: val_loss did not improve from 1.44731\n",
      "16/16 [==============================] - 0s 3ms/step - loss: 11.5171 - accuracy: 0.2813 - val_loss: 1.4531 - val_accuracy: 0.2049\n",
      "Epoch 12/100\n",
      " 1/16 [>.............................] - ETA: 0s - loss: 7.8719 - accuracy: 0.3750\n",
      "Epoch 12: val_loss did not improve from 1.44731\n",
      "16/16 [==============================] - 0s 3ms/step - loss: 8.7503 - accuracy: 0.2731 - val_loss: 1.4856 - val_accuracy: 0.2049\n",
      "Epoch 13/100\n",
      " 1/16 [>.............................] - ETA: 0s - loss: 10.4814 - accuracy: 0.1875\n",
      "Epoch 13: val_loss improved from 1.44731 to 1.42869, saving model to saved_models\\audio_classification.hdf5\n",
      "16/16 [==============================] - 0s 5ms/step - loss: 8.6071 - accuracy: 0.2649 - val_loss: 1.4287 - val_accuracy: 0.2049\n",
      "Epoch 14/100\n",
      " 1/16 [>.............................] - ETA: 0s - loss: 7.3246 - accuracy: 0.2812\n",
      "Epoch 14: val_loss improved from 1.42869 to 1.39930, saving model to saved_models\\audio_classification.hdf5\n",
      "16/16 [==============================] - 0s 7ms/step - loss: 7.3715 - accuracy: 0.2998 - val_loss: 1.3993 - val_accuracy: 0.2049\n",
      "Epoch 15/100\n",
      " 1/16 [>.............................] - ETA: 0s - loss: 5.1402 - accuracy: 0.3750\n",
      "Epoch 15: val_loss improved from 1.39930 to 1.38169, saving model to saved_models\\audio_classification.hdf5\n",
      "16/16 [==============================] - 0s 4ms/step - loss: 5.8939 - accuracy: 0.3244 - val_loss: 1.3817 - val_accuracy: 0.2049\n",
      "Epoch 16/100\n",
      " 1/16 [>.............................] - ETA: 0s - loss: 4.6582 - accuracy: 0.3438\n",
      "Epoch 16: val_loss improved from 1.38169 to 1.36269, saving model to saved_models\\audio_classification.hdf5\n",
      "16/16 [==============================] - 0s 5ms/step - loss: 4.9861 - accuracy: 0.2731 - val_loss: 1.3627 - val_accuracy: 0.2049\n",
      "Epoch 17/100\n",
      " 1/16 [>.............................] - ETA: 0s - loss: 5.6168 - accuracy: 0.1562\n",
      "Epoch 17: val_loss improved from 1.36269 to 1.33373, saving model to saved_models\\audio_classification.hdf5\n",
      "16/16 [==============================] - 0s 5ms/step - loss: 4.5607 - accuracy: 0.2710 - val_loss: 1.3337 - val_accuracy: 0.4180\n",
      "Epoch 18/100\n",
      " 1/16 [>.............................] - ETA: 0s - loss: 6.3595 - accuracy: 0.2500\n",
      "Epoch 18: val_loss did not improve from 1.33373\n",
      "16/16 [==============================] - 0s 3ms/step - loss: 4.3856 - accuracy: 0.2957 - val_loss: 1.3337 - val_accuracy: 0.4180\n",
      "Epoch 19/100\n",
      " 1/16 [>.............................] - ETA: 0s - loss: 3.6603 - accuracy: 0.3125\n",
      "Epoch 19: val_loss improved from 1.33373 to 1.33142, saving model to saved_models\\audio_classification.hdf5\n",
      "16/16 [==============================] - 0s 5ms/step - loss: 3.6456 - accuracy: 0.2998 - val_loss: 1.3314 - val_accuracy: 0.4180\n",
      "Epoch 20/100\n",
      " 1/16 [>.............................] - ETA: 0s - loss: 2.5432 - accuracy: 0.4062\n",
      "Epoch 20: val_loss did not improve from 1.33142\n",
      "16/16 [==============================] - 0s 3ms/step - loss: 3.4159 - accuracy: 0.3121 - val_loss: 1.3347 - val_accuracy: 0.2787\n",
      "Epoch 21/100\n",
      " 1/16 [>.............................] - ETA: 0s - loss: 4.3166 - accuracy: 0.1562\n",
      "Epoch 21: val_loss did not improve from 1.33142\n",
      "16/16 [==============================] - 0s 3ms/step - loss: 3.4543 - accuracy: 0.3018 - val_loss: 1.3348 - val_accuracy: 0.2869\n",
      "Epoch 22/100\n",
      " 1/16 [>.............................] - ETA: 0s - loss: 2.4010 - accuracy: 0.2188\n",
      "Epoch 22: val_loss did not improve from 1.33142\n",
      "16/16 [==============================] - 0s 3ms/step - loss: 3.0764 - accuracy: 0.3285 - val_loss: 1.3322 - val_accuracy: 0.4180\n",
      "Epoch 23/100\n",
      " 1/16 [>.............................] - ETA: 0s - loss: 2.9206 - accuracy: 0.1875\n",
      "Epoch 23: val_loss improved from 1.33142 to 1.32405, saving model to saved_models\\audio_classification.hdf5\n",
      "16/16 [==============================] - 0s 7ms/step - loss: 2.6705 - accuracy: 0.3162 - val_loss: 1.3240 - val_accuracy: 0.4180\n",
      "Epoch 24/100\n",
      " 1/16 [>.............................] - ETA: 0s - loss: 3.2501 - accuracy: 0.1562\n",
      "Epoch 24: val_loss did not improve from 1.32405\n",
      "16/16 [==============================] - 0s 3ms/step - loss: 2.5227 - accuracy: 0.2916 - val_loss: 1.3349 - val_accuracy: 0.4180\n",
      "Epoch 25/100\n",
      " 1/16 [>.............................] - ETA: 0s - loss: 1.9565 - accuracy: 0.3438\n",
      "Epoch 25: val_loss did not improve from 1.32405\n",
      "16/16 [==============================] - 0s 3ms/step - loss: 2.0561 - accuracy: 0.3162 - val_loss: 1.3511 - val_accuracy: 0.2705\n",
      "Epoch 26/100\n",
      " 1/16 [>.............................] - ETA: 0s - loss: 2.7442 - accuracy: 0.2500\n",
      "Epoch 26: val_loss did not improve from 1.32405\n",
      "16/16 [==============================] - 0s 3ms/step - loss: 2.0596 - accuracy: 0.3080 - val_loss: 1.3244 - val_accuracy: 0.4180\n",
      "Epoch 27/100\n",
      " 1/16 [>.............................] - ETA: 0s - loss: 2.2260 - accuracy: 0.3125\n",
      "Epoch 27: val_loss did not improve from 1.32405\n",
      "16/16 [==============================] - 0s 3ms/step - loss: 1.8315 - accuracy: 0.3676 - val_loss: 1.3251 - val_accuracy: 0.4180\n",
      "Epoch 28/100\n",
      " 1/16 [>.............................] - ETA: 0s - loss: 1.8397 - accuracy: 0.2812\n",
      "Epoch 28: val_loss did not improve from 1.32405\n",
      "16/16 [==============================] - 0s 3ms/step - loss: 2.1128 - accuracy: 0.3326 - val_loss: 1.3245 - val_accuracy: 0.4180\n",
      "Epoch 29/100\n",
      " 1/16 [>.............................] - ETA: 0s - loss: 2.6273 - accuracy: 0.3750\n",
      "Epoch 29: val_loss improved from 1.32405 to 1.31410, saving model to saved_models\\audio_classification.hdf5\n",
      "16/16 [==============================] - 0s 8ms/step - loss: 2.0883 - accuracy: 0.3224 - val_loss: 1.3141 - val_accuracy: 0.4180\n",
      "Epoch 30/100\n",
      " 1/16 [>.............................] - ETA: 0s - loss: 2.5924 - accuracy: 0.3750\n",
      "Epoch 30: val_loss did not improve from 1.31410\n",
      "16/16 [==============================] - 0s 3ms/step - loss: 1.9598 - accuracy: 0.3409 - val_loss: 1.3173 - val_accuracy: 0.4180\n",
      "Epoch 31/100\n",
      " 1/16 [>.............................] - ETA: 0s - loss: 1.8170 - accuracy: 0.3125\n",
      "Epoch 31: val_loss did not improve from 1.31410\n",
      "16/16 [==============================] - 0s 3ms/step - loss: 1.8929 - accuracy: 0.3860 - val_loss: 1.3199 - val_accuracy: 0.4180\n",
      "Epoch 32/100\n",
      " 1/16 [>.............................] - ETA: 0s - loss: 1.8699 - accuracy: 0.3438\n",
      "Epoch 32: val_loss did not improve from 1.31410\n",
      "16/16 [==============================] - 0s 3ms/step - loss: 1.7356 - accuracy: 0.3840 - val_loss: 1.3186 - val_accuracy: 0.4180\n",
      "Epoch 33/100\n",
      " 1/16 [>.............................] - ETA: 0s - loss: 1.3023 - accuracy: 0.2188\n",
      "Epoch 33: val_loss did not improve from 1.31410\n",
      "16/16 [==============================] - 0s 3ms/step - loss: 1.7369 - accuracy: 0.3491 - val_loss: 1.3197 - val_accuracy: 0.4180\n",
      "Epoch 34/100\n",
      " 1/16 [>.............................] - ETA: 0s - loss: 2.1006 - accuracy: 0.4375\n",
      "Epoch 34: val_loss did not improve from 1.31410\n",
      "16/16 [==============================] - 0s 3ms/step - loss: 1.7800 - accuracy: 0.3778 - val_loss: 1.3209 - val_accuracy: 0.2705\n",
      "Epoch 35/100\n",
      " 1/16 [>.............................] - ETA: 0s - loss: 1.4804 - accuracy: 0.3750\n",
      "Epoch 35: val_loss improved from 1.31410 to 1.30733, saving model to saved_models\\audio_classification.hdf5\n",
      "16/16 [==============================] - 0s 6ms/step - loss: 1.6801 - accuracy: 0.3840 - val_loss: 1.3073 - val_accuracy: 0.4180\n",
      "Epoch 36/100\n",
      " 1/16 [>.............................] - ETA: 0s - loss: 1.7783 - accuracy: 0.4062\n",
      "Epoch 36: val_loss did not improve from 1.30733\n",
      "16/16 [==============================] - 0s 3ms/step - loss: 1.6333 - accuracy: 0.3963 - val_loss: 1.3109 - val_accuracy: 0.4180\n",
      "Epoch 37/100\n",
      " 1/16 [>.............................] - ETA: 0s - loss: 1.6963 - accuracy: 0.1562\n",
      "Epoch 37: val_loss did not improve from 1.30733\n",
      "16/16 [==============================] - 0s 3ms/step - loss: 1.7058 - accuracy: 0.3142 - val_loss: 1.3204 - val_accuracy: 0.4180\n",
      "Epoch 38/100\n",
      " 1/16 [>.............................] - ETA: 0s - loss: 1.4345 - accuracy: 0.3750\n",
      "Epoch 38: val_loss did not improve from 1.30733\n",
      "16/16 [==============================] - 0s 3ms/step - loss: 1.5996 - accuracy: 0.3450 - val_loss: 1.3121 - val_accuracy: 0.4180\n",
      "Epoch 39/100\n",
      " 1/16 [>.............................] - ETA: 0s - loss: 1.7304 - accuracy: 0.4062\n",
      "Epoch 39: val_loss did not improve from 1.30733\n",
      "16/16 [==============================] - 0s 3ms/step - loss: 1.5872 - accuracy: 0.3717 - val_loss: 1.3156 - val_accuracy: 0.4180\n",
      "Epoch 40/100\n",
      " 1/16 [>.............................] - ETA: 0s - loss: 2.2289 - accuracy: 0.3438\n",
      "Epoch 40: val_loss did not improve from 1.30733\n",
      "16/16 [==============================] - 0s 3ms/step - loss: 1.7069 - accuracy: 0.3634 - val_loss: 1.3142 - val_accuracy: 0.4180\n",
      "Epoch 41/100\n",
      " 1/16 [>.............................] - ETA: 0s - loss: 1.9810 - accuracy: 0.3438\n",
      "Epoch 41: val_loss did not improve from 1.30733\n",
      "16/16 [==============================] - 0s 3ms/step - loss: 1.5564 - accuracy: 0.3840 - val_loss: 1.3168 - val_accuracy: 0.4180\n",
      "Epoch 42/100\n",
      " 1/16 [>.............................] - ETA: 0s - loss: 1.3688 - accuracy: 0.4062\n",
      "Epoch 42: val_loss did not improve from 1.30733\n",
      "16/16 [==============================] - 0s 3ms/step - loss: 1.6390 - accuracy: 0.3388 - val_loss: 1.3148 - val_accuracy: 0.2705\n",
      "Epoch 43/100\n",
      " 1/16 [>.............................] - ETA: 0s - loss: 1.8130 - accuracy: 0.3125\n",
      "Epoch 43: val_loss improved from 1.30733 to 1.29939, saving model to saved_models\\audio_classification.hdf5\n",
      "16/16 [==============================] - 0s 11ms/step - loss: 1.5610 - accuracy: 0.3614 - val_loss: 1.2994 - val_accuracy: 0.4180\n",
      "Epoch 44/100\n",
      " 1/16 [>.............................] - ETA: 0s - loss: 1.3695 - accuracy: 0.4688\n",
      "Epoch 44: val_loss improved from 1.29939 to 1.29633, saving model to saved_models\\audio_classification.hdf5\n",
      "16/16 [==============================] - 0s 6ms/step - loss: 1.4907 - accuracy: 0.3901 - val_loss: 1.2963 - val_accuracy: 0.4180\n",
      "Epoch 45/100\n",
      " 1/16 [>.............................] - ETA: 0s - loss: 1.2469 - accuracy: 0.3125\n",
      "Epoch 45: val_loss did not improve from 1.29633\n",
      "16/16 [==============================] - 0s 3ms/step - loss: 1.4741 - accuracy: 0.3840 - val_loss: 1.3080 - val_accuracy: 0.4672\n",
      "Epoch 46/100\n",
      " 1/16 [>.............................] - ETA: 0s - loss: 1.4253 - accuracy: 0.3750\n",
      "Epoch 46: val_loss did not improve from 1.29633\n",
      "16/16 [==============================] - 0s 3ms/step - loss: 1.5289 - accuracy: 0.3943 - val_loss: 1.3139 - val_accuracy: 0.3770\n",
      "Epoch 47/100\n",
      " 1/16 [>.............................] - ETA: 0s - loss: 1.2716 - accuracy: 0.3438\n",
      "Epoch 47: val_loss did not improve from 1.29633\n",
      "16/16 [==============================] - 0s 3ms/step - loss: 1.4353 - accuracy: 0.3634 - val_loss: 1.3061 - val_accuracy: 0.4180\n",
      "Epoch 48/100\n",
      " 1/16 [>.............................] - ETA: 0s - loss: 1.3530 - accuracy: 0.3125\n",
      "Epoch 48: val_loss did not improve from 1.29633\n",
      "16/16 [==============================] - 0s 3ms/step - loss: 1.4770 - accuracy: 0.3737 - val_loss: 1.3028 - val_accuracy: 0.4180\n",
      "Epoch 49/100\n",
      " 1/16 [>.............................] - ETA: 0s - loss: 1.4606 - accuracy: 0.4062\n",
      "Epoch 49: val_loss did not improve from 1.29633\n",
      "16/16 [==============================] - 0s 3ms/step - loss: 1.4224 - accuracy: 0.3943 - val_loss: 1.3094 - val_accuracy: 0.4180\n",
      "Epoch 50/100\n",
      " 1/16 [>.............................] - ETA: 0s - loss: 1.3378 - accuracy: 0.3438\n",
      "Epoch 50: val_loss did not improve from 1.29633\n",
      "16/16 [==============================] - 0s 3ms/step - loss: 1.3878 - accuracy: 0.3634 - val_loss: 1.3119 - val_accuracy: 0.4180\n",
      "Epoch 51/100\n",
      " 1/16 [>.............................] - ETA: 0s - loss: 1.2381 - accuracy: 0.4375\n",
      "Epoch 51: val_loss did not improve from 1.29633\n",
      "16/16 [==============================] - 0s 3ms/step - loss: 1.3719 - accuracy: 0.3881 - val_loss: 1.3033 - val_accuracy: 0.4180\n",
      "Epoch 52/100\n",
      " 1/16 [>.............................] - ETA: 0s - loss: 1.2775 - accuracy: 0.4375\n",
      "Epoch 52: val_loss did not improve from 1.29633\n",
      "16/16 [==============================] - 0s 3ms/step - loss: 1.3984 - accuracy: 0.3717 - val_loss: 1.3024 - val_accuracy: 0.4180\n",
      "Epoch 53/100\n",
      " 1/16 [>.............................] - ETA: 0s - loss: 1.3215 - accuracy: 0.3750\n",
      "Epoch 53: val_loss did not improve from 1.29633\n",
      "16/16 [==============================] - 0s 3ms/step - loss: 1.4353 - accuracy: 0.3676 - val_loss: 1.3031 - val_accuracy: 0.4180\n",
      "Epoch 54/100\n",
      " 1/16 [>.............................] - ETA: 0s - loss: 1.4694 - accuracy: 0.1875\n",
      "Epoch 54: val_loss did not improve from 1.29633\n",
      "16/16 [==============================] - 0s 4ms/step - loss: 1.4251 - accuracy: 0.3840 - val_loss: 1.3099 - val_accuracy: 0.4180\n",
      "Epoch 55/100\n",
      " 1/16 [>.............................] - ETA: 0s - loss: 1.2587 - accuracy: 0.4375\n",
      "Epoch 55: val_loss did not improve from 1.29633\n",
      "16/16 [==============================] - 0s 3ms/step - loss: 1.3945 - accuracy: 0.3860 - val_loss: 1.3057 - val_accuracy: 0.4180\n",
      "Epoch 56/100\n",
      " 1/16 [>.............................] - ETA: 0s - loss: 1.4818 - accuracy: 0.2188\n",
      "Epoch 56: val_loss did not improve from 1.29633\n",
      "16/16 [==============================] - 0s 3ms/step - loss: 1.4308 - accuracy: 0.3778 - val_loss: 1.3031 - val_accuracy: 0.4180\n",
      "Epoch 57/100\n",
      " 1/16 [>.............................] - ETA: 0s - loss: 1.3639 - accuracy: 0.2500\n",
      "Epoch 57: val_loss did not improve from 1.29633\n",
      "16/16 [==============================] - 0s 3ms/step - loss: 1.3853 - accuracy: 0.3758 - val_loss: 1.3018 - val_accuracy: 0.4180\n",
      "Epoch 58/100\n",
      " 1/16 [>.............................] - ETA: 0s - loss: 1.5895 - accuracy: 0.4688\n",
      "Epoch 58: val_loss did not improve from 1.29633\n",
      "16/16 [==============================] - 0s 3ms/step - loss: 1.5274 - accuracy: 0.3860 - val_loss: 1.3012 - val_accuracy: 0.4180\n",
      "Epoch 59/100\n",
      " 1/16 [>.............................] - ETA: 0s - loss: 1.2883 - accuracy: 0.3438\n",
      "Epoch 59: val_loss did not improve from 1.29633\n",
      "16/16 [==============================] - 0s 3ms/step - loss: 1.4028 - accuracy: 0.3901 - val_loss: 1.3007 - val_accuracy: 0.4180\n",
      "Epoch 60/100\n",
      " 1/16 [>.............................] - ETA: 0s - loss: 1.3569 - accuracy: 0.2812\n",
      "Epoch 60: val_loss did not improve from 1.29633\n",
      "16/16 [==============================] - 0s 3ms/step - loss: 1.4358 - accuracy: 0.3593 - val_loss: 1.3011 - val_accuracy: 0.4180\n",
      "Epoch 61/100\n",
      " 1/16 [>.............................] - ETA: 0s - loss: 1.3284 - accuracy: 0.3750\n",
      "Epoch 61: val_loss did not improve from 1.29633\n",
      "16/16 [==============================] - 0s 3ms/step - loss: 1.3115 - accuracy: 0.3901 - val_loss: 1.3000 - val_accuracy: 0.4180\n",
      "Epoch 62/100\n",
      " 1/16 [>.............................] - ETA: 0s - loss: 1.2662 - accuracy: 0.5000\n",
      "Epoch 62: val_loss did not improve from 1.29633\n",
      "16/16 [==============================] - 0s 3ms/step - loss: 1.3390 - accuracy: 0.3901 - val_loss: 1.3000 - val_accuracy: 0.4180\n",
      "Epoch 63/100\n",
      " 1/16 [>.............................] - ETA: 0s - loss: 1.3393 - accuracy: 0.3125\n",
      "Epoch 63: val_loss did not improve from 1.29633\n",
      "16/16 [==============================] - 0s 3ms/step - loss: 1.3811 - accuracy: 0.3922 - val_loss: 1.3009 - val_accuracy: 0.4180\n",
      "Epoch 64/100\n",
      " 1/16 [>.............................] - ETA: 0s - loss: 1.4038 - accuracy: 0.3750\n",
      "Epoch 64: val_loss did not improve from 1.29633\n",
      "16/16 [==============================] - 0s 3ms/step - loss: 1.3397 - accuracy: 0.3922 - val_loss: 1.3008 - val_accuracy: 0.4180\n",
      "Epoch 65/100\n",
      " 1/16 [>.............................] - ETA: 0s - loss: 1.2736 - accuracy: 0.3750\n",
      "Epoch 65: val_loss did not improve from 1.29633\n",
      "16/16 [==============================] - 0s 3ms/step - loss: 1.3629 - accuracy: 0.3881 - val_loss: 1.3001 - val_accuracy: 0.4180\n",
      "Epoch 66/100\n",
      " 1/16 [>.............................] - ETA: 0s - loss: 1.4476 - accuracy: 0.3125\n",
      "Epoch 66: val_loss did not improve from 1.29633\n",
      "16/16 [==============================] - 0s 3ms/step - loss: 1.3450 - accuracy: 0.4004 - val_loss: 1.3008 - val_accuracy: 0.4180\n",
      "Epoch 67/100\n",
      " 1/16 [>.............................] - ETA: 0s - loss: 1.2837 - accuracy: 0.3750\n",
      "Epoch 67: val_loss did not improve from 1.29633\n",
      "16/16 [==============================] - 0s 3ms/step - loss: 1.3194 - accuracy: 0.3676 - val_loss: 1.2991 - val_accuracy: 0.4180\n",
      "Epoch 68/100\n",
      " 1/16 [>.............................] - ETA: 0s - loss: 1.3380 - accuracy: 0.3125\n",
      "Epoch 68: val_loss did not improve from 1.29633\n",
      "16/16 [==============================] - 0s 4ms/step - loss: 1.3609 - accuracy: 0.3901 - val_loss: 1.2973 - val_accuracy: 0.4180\n",
      "Epoch 69/100\n",
      " 1/16 [>.............................] - ETA: 0s - loss: 1.2277 - accuracy: 0.5312\n",
      "Epoch 69: val_loss did not improve from 1.29633\n",
      "16/16 [==============================] - 0s 3ms/step - loss: 1.3341 - accuracy: 0.3840 - val_loss: 1.2976 - val_accuracy: 0.4180\n",
      "Epoch 70/100\n",
      " 1/16 [>.............................] - ETA: 0s - loss: 1.7129 - accuracy: 0.3438\n",
      "Epoch 70: val_loss did not improve from 1.29633\n",
      "16/16 [==============================] - 0s 3ms/step - loss: 1.3841 - accuracy: 0.3860 - val_loss: 1.2980 - val_accuracy: 0.4180\n",
      "Epoch 71/100\n",
      " 1/16 [>.............................] - ETA: 0s - loss: 1.3559 - accuracy: 0.3125\n",
      "Epoch 71: val_loss did not improve from 1.29633\n",
      "16/16 [==============================] - 0s 4ms/step - loss: 1.3743 - accuracy: 0.3593 - val_loss: 1.2973 - val_accuracy: 0.4180\n",
      "Epoch 72/100\n",
      " 1/16 [>.............................] - ETA: 0s - loss: 1.2680 - accuracy: 0.4375\n",
      "Epoch 72: val_loss did not improve from 1.29633\n",
      "16/16 [==============================] - 0s 3ms/step - loss: 1.4179 - accuracy: 0.3819 - val_loss: 1.2966 - val_accuracy: 0.4180\n",
      "Epoch 73/100\n",
      " 1/16 [>.............................] - ETA: 0s - loss: 1.2265 - accuracy: 0.4062\n",
      "Epoch 73: val_loss did not improve from 1.29633\n",
      "16/16 [==============================] - 0s 3ms/step - loss: 1.3586 - accuracy: 0.3778 - val_loss: 1.2977 - val_accuracy: 0.4180\n",
      "Epoch 74/100\n",
      " 1/16 [>.............................] - ETA: 0s - loss: 1.4301 - accuracy: 0.3438\n",
      "Epoch 74: val_loss did not improve from 1.29633\n",
      "16/16 [==============================] - 0s 3ms/step - loss: 1.4279 - accuracy: 0.3778 - val_loss: 1.2978 - val_accuracy: 0.4180\n",
      "Epoch 75/100\n",
      " 1/16 [>.............................] - ETA: 0s - loss: 1.3753 - accuracy: 0.3438\n",
      "Epoch 75: val_loss did not improve from 1.29633\n",
      "16/16 [==============================] - 0s 3ms/step - loss: 1.3544 - accuracy: 0.3840 - val_loss: 1.2975 - val_accuracy: 0.4180\n",
      "Epoch 76/100\n",
      " 1/16 [>.............................] - ETA: 0s - loss: 1.3435 - accuracy: 0.3750\n",
      "Epoch 76: val_loss did not improve from 1.29633\n",
      "16/16 [==============================] - 0s 3ms/step - loss: 1.3528 - accuracy: 0.3860 - val_loss: 1.2972 - val_accuracy: 0.4180\n",
      "Epoch 77/100\n",
      " 1/16 [>.............................] - ETA: 0s - loss: 1.2552 - accuracy: 0.5312\n",
      "Epoch 77: val_loss did not improve from 1.29633\n",
      "16/16 [==============================] - 0s 3ms/step - loss: 1.3116 - accuracy: 0.3963 - val_loss: 1.2968 - val_accuracy: 0.4180\n",
      "Epoch 78/100\n",
      " 1/16 [>.............................] - ETA: 0s - loss: 1.3680 - accuracy: 0.3438\n",
      "Epoch 78: val_loss did not improve from 1.29633\n",
      "16/16 [==============================] - 0s 3ms/step - loss: 1.3263 - accuracy: 0.3717 - val_loss: 1.2964 - val_accuracy: 0.4180\n",
      "Epoch 79/100\n",
      " 1/16 [>.............................] - ETA: 0s - loss: 1.3843 - accuracy: 0.5000\n",
      "Epoch 79: val_loss improved from 1.29633 to 1.29603, saving model to saved_models\\audio_classification.hdf5\n",
      "16/16 [==============================] - 0s 12ms/step - loss: 1.3268 - accuracy: 0.4127 - val_loss: 1.2960 - val_accuracy: 0.4180\n",
      "Epoch 80/100\n",
      " 1/16 [>.............................] - ETA: 0s - loss: 1.3817 - accuracy: 0.3750\n",
      "Epoch 80: val_loss improved from 1.29603 to 1.29555, saving model to saved_models\\audio_classification.hdf5\n",
      "16/16 [==============================] - 0s 13ms/step - loss: 1.3337 - accuracy: 0.3799 - val_loss: 1.2956 - val_accuracy: 0.4180\n",
      "Epoch 81/100\n",
      " 1/16 [>.............................] - ETA: 0s - loss: 1.4015 - accuracy: 0.4375\n",
      "Epoch 81: val_loss improved from 1.29555 to 1.29524, saving model to saved_models\\audio_classification.hdf5\n",
      "16/16 [==============================] - 0s 9ms/step - loss: 1.3506 - accuracy: 0.3717 - val_loss: 1.2952 - val_accuracy: 0.4180\n",
      "Epoch 82/100\n",
      " 1/16 [>.............................] - ETA: 0s - loss: 1.1820 - accuracy: 0.5312\n",
      "Epoch 82: val_loss improved from 1.29524 to 1.29459, saving model to saved_models\\audio_classification.hdf5\n",
      "16/16 [==============================] - 0s 7ms/step - loss: 1.3351 - accuracy: 0.3860 - val_loss: 1.2946 - val_accuracy: 0.4180\n",
      "Epoch 83/100\n",
      " 1/16 [>.............................] - ETA: 0s - loss: 1.3067 - accuracy: 0.3750\n",
      "Epoch 83: val_loss improved from 1.29459 to 1.29425, saving model to saved_models\\audio_classification.hdf5\n",
      "16/16 [==============================] - 0s 7ms/step - loss: 1.3704 - accuracy: 0.3737 - val_loss: 1.2942 - val_accuracy: 0.4180\n",
      "Epoch 84/100\n",
      " 1/16 [>.............................] - ETA: 0s - loss: 1.2663 - accuracy: 0.3438\n",
      "Epoch 84: val_loss improved from 1.29425 to 1.29416, saving model to saved_models\\audio_classification.hdf5\n",
      "16/16 [==============================] - 0s 6ms/step - loss: 1.3528 - accuracy: 0.3819 - val_loss: 1.2942 - val_accuracy: 0.4180\n",
      "Epoch 85/100\n",
      " 1/16 [>.............................] - ETA: 0s - loss: 1.3899 - accuracy: 0.4375\n",
      "Epoch 85: val_loss did not improve from 1.29416\n",
      "16/16 [==============================] - 0s 3ms/step - loss: 1.3494 - accuracy: 0.3860 - val_loss: 1.2942 - val_accuracy: 0.4180\n",
      "Epoch 86/100\n",
      " 1/16 [>.............................] - ETA: 0s - loss: 1.2825 - accuracy: 0.4062\n",
      "Epoch 86: val_loss improved from 1.29416 to 1.29407, saving model to saved_models\\audio_classification.hdf5\n",
      "16/16 [==============================] - 0s 7ms/step - loss: 1.3449 - accuracy: 0.3860 - val_loss: 1.2941 - val_accuracy: 0.4180\n",
      "Epoch 87/100\n",
      " 1/16 [>.............................] - ETA: 0s - loss: 1.6565 - accuracy: 0.2500\n",
      "Epoch 87: val_loss improved from 1.29407 to 1.29387, saving model to saved_models\\audio_classification.hdf5\n",
      "16/16 [==============================] - 0s 7ms/step - loss: 1.3273 - accuracy: 0.3901 - val_loss: 1.2939 - val_accuracy: 0.4180\n",
      "Epoch 88/100\n",
      " 1/16 [>.............................] - ETA: 0s - loss: 1.2626 - accuracy: 0.3750\n",
      "Epoch 88: val_loss improved from 1.29387 to 1.29374, saving model to saved_models\\audio_classification.hdf5\n",
      "16/16 [==============================] - 0s 7ms/step - loss: 1.3213 - accuracy: 0.3840 - val_loss: 1.2937 - val_accuracy: 0.4180\n",
      "Epoch 89/100\n",
      " 1/16 [>.............................] - ETA: 0s - loss: 1.3334 - accuracy: 0.3438\n",
      "Epoch 89: val_loss improved from 1.29374 to 1.29357, saving model to saved_models\\audio_classification.hdf5\n",
      "16/16 [==============================] - 0s 5ms/step - loss: 1.3281 - accuracy: 0.3901 - val_loss: 1.2936 - val_accuracy: 0.4180\n",
      "Epoch 90/100\n",
      " 1/16 [>.............................] - ETA: 0s - loss: 1.2567 - accuracy: 0.4062\n",
      "Epoch 90: val_loss improved from 1.29357 to 1.29335, saving model to saved_models\\audio_classification.hdf5\n",
      "16/16 [==============================] - 0s 5ms/step - loss: 1.3572 - accuracy: 0.3778 - val_loss: 1.2934 - val_accuracy: 0.4180\n",
      "Epoch 91/100\n",
      " 1/16 [>.............................] - ETA: 0s - loss: 1.1838 - accuracy: 0.5000\n",
      "Epoch 91: val_loss did not improve from 1.29335\n",
      "16/16 [==============================] - 0s 3ms/step - loss: 1.3118 - accuracy: 0.3901 - val_loss: 1.2934 - val_accuracy: 0.4180\n",
      "Epoch 92/100\n",
      " 1/16 [>.............................] - ETA: 0s - loss: 1.2975 - accuracy: 0.3438\n",
      "Epoch 92: val_loss improved from 1.29335 to 1.29318, saving model to saved_models\\audio_classification.hdf5\n",
      "16/16 [==============================] - 0s 5ms/step - loss: 1.3208 - accuracy: 0.3819 - val_loss: 1.2932 - val_accuracy: 0.4180\n",
      "Epoch 93/100\n",
      " 1/16 [>.............................] - ETA: 0s - loss: 1.2481 - accuracy: 0.5000\n",
      "Epoch 93: val_loss improved from 1.29318 to 1.29294, saving model to saved_models\\audio_classification.hdf5\n",
      "16/16 [==============================] - 0s 4ms/step - loss: 1.3241 - accuracy: 0.3840 - val_loss: 1.2929 - val_accuracy: 0.4180\n",
      "Epoch 94/100\n",
      " 1/16 [>.............................] - ETA: 0s - loss: 1.2141 - accuracy: 0.4375\n",
      "Epoch 94: val_loss improved from 1.29294 to 1.29292, saving model to saved_models\\audio_classification.hdf5\n",
      "16/16 [==============================] - 0s 7ms/step - loss: 1.3301 - accuracy: 0.3737 - val_loss: 1.2929 - val_accuracy: 0.4180\n",
      "Epoch 95/100\n",
      " 1/16 [>.............................] - ETA: 0s - loss: 1.2423 - accuracy: 0.3438\n",
      "Epoch 95: val_loss did not improve from 1.29292\n",
      "16/16 [==============================] - 0s 3ms/step - loss: 1.3278 - accuracy: 0.3860 - val_loss: 1.2930 - val_accuracy: 0.4180\n",
      "Epoch 96/100\n",
      " 1/16 [>.............................] - ETA: 0s - loss: 1.2931 - accuracy: 0.4062\n",
      "Epoch 96: val_loss improved from 1.29292 to 1.29270, saving model to saved_models\\audio_classification.hdf5\n",
      "16/16 [==============================] - 0s 9ms/step - loss: 1.2958 - accuracy: 0.3819 - val_loss: 1.2927 - val_accuracy: 0.4180\n",
      "Epoch 97/100\n",
      " 1/16 [>.............................] - ETA: 0s - loss: 1.3154 - accuracy: 0.2188\n",
      "Epoch 97: val_loss improved from 1.29270 to 1.29252, saving model to saved_models\\audio_classification.hdf5\n",
      "16/16 [==============================] - 0s 9ms/step - loss: 1.3074 - accuracy: 0.3943 - val_loss: 1.2925 - val_accuracy: 0.4180\n",
      "Epoch 98/100\n",
      " 1/16 [>.............................] - ETA: 0s - loss: 1.3802 - accuracy: 0.3125\n",
      "Epoch 98: val_loss improved from 1.29252 to 1.29240, saving model to saved_models\\audio_classification.hdf5\n",
      "16/16 [==============================] - 0s 9ms/step - loss: 1.3374 - accuracy: 0.3881 - val_loss: 1.2924 - val_accuracy: 0.4180\n",
      "Epoch 99/100\n",
      " 1/16 [>.............................] - ETA: 0s - loss: 1.3563 - accuracy: 0.3125\n",
      "Epoch 99: val_loss improved from 1.29240 to 1.29223, saving model to saved_models\\audio_classification.hdf5\n",
      "16/16 [==============================] - 0s 8ms/step - loss: 1.3098 - accuracy: 0.3922 - val_loss: 1.2922 - val_accuracy: 0.4180\n",
      "Epoch 100/100\n",
      " 1/16 [>.............................] - ETA: 0s - loss: 1.2483 - accuracy: 0.4688\n",
      "Epoch 100: val_loss improved from 1.29223 to 1.29202, saving model to saved_models\\audio_classification.hdf5\n",
      "16/16 [==============================] - 0s 8ms/step - loss: 1.3083 - accuracy: 0.3840 - val_loss: 1.2920 - val_accuracy: 0.4180\n",
      "Training completed in time:  0:00:08.773095\n"
     ]
    }
   ],
   "source": [
    "num_epochs = 100\n",
    "num_batch_size = 32\n",
    "\n",
    "checkpointer = ModelCheckpoint(filepath='saved_models/audio_classification.hdf5',verbose=1, save_best_only=True)\n",
    "start = datetime.now()\n",
    "\n",
    "model.fit(X_train, y_train_encoded, batch_size=num_batch_size, epochs=num_epochs, validation_data=(X_test, y_test_encoded), callbacks=[checkpointer], verbose=1)\n",
    "\n",
    "duration = datetime.now() - start\n",
    "print(\"Training completed in time: \", duration)"
   ]
  },
  {
   "cell_type": "markdown",
   "metadata": {},
   "source": [
    "Testing Model Performance"
   ]
  },
  {
   "cell_type": "markdown",
   "metadata": {},
   "source": [
    "Classification Report"
   ]
  },
  {
   "cell_type": "code",
   "execution_count": 25,
   "metadata": {},
   "outputs": [
    {
     "data": {
      "text/plain": [
       "array([[-9.56502500e+02,  4.45939900e+00,  3.96129160e+00, ...,\n",
       "         5.26133400e-01,  6.06229250e-01,  1.35178160e-01],\n",
       "       [-9.18785300e+02,  2.41164900e+01,  5.96756640e-02, ...,\n",
       "         6.61435900e-01,  7.74208070e-01,  9.92941600e-01],\n",
       "       [-9.32873800e+02,  3.43862460e+01,  1.24659650e+01, ...,\n",
       "         1.03055330e+00,  6.05297600e-01,  7.81642700e-01],\n",
       "       ...,\n",
       "       [-8.66937600e+02,  3.10620670e+01,  8.38586400e-01, ...,\n",
       "         9.16596830e-01, -6.48454100e-02,  3.67324950e-02],\n",
       "       [-9.24480700e+02,  7.63614600e-01,  3.34505900e+00, ...,\n",
       "         6.98121960e-01,  7.15963100e-01,  1.19171776e-01],\n",
       "       [-9.62628600e+02,  4.97976100e+00,  3.17668560e-01, ...,\n",
       "         7.68911100e-01,  1.07794740e+00,  7.26504200e-01]])"
      ]
     },
     "execution_count": 25,
     "metadata": {},
     "output_type": "execute_result"
    }
   ],
   "source": [
    "X_test"
   ]
  },
  {
   "cell_type": "code",
   "execution_count": 23,
   "metadata": {},
   "outputs": [
    {
     "name": "stdout",
     "output_type": "stream",
     "text": [
      "4/4 [==============================] - 0s 1ms/step\n",
      "              precision    recall  f1-score   support\n",
      "\n",
      "           0       0.00      0.00      0.00        25\n",
      "           1       0.00      0.00      0.00        33\n",
      "           2       0.42      1.00      0.59        51\n",
      "           3       0.00      0.00      0.00        13\n",
      "\n",
      "    accuracy                           0.42       122\n",
      "   macro avg       0.10      0.25      0.15       122\n",
      "weighted avg       0.17      0.42      0.25       122\n",
      "\n"
     ]
    },
    {
     "name": "stderr",
     "output_type": "stream",
     "text": [
      "c:\\ProgramData\\anaconda3\\lib\\site-packages\\sklearn\\metrics\\_classification.py:1344: UndefinedMetricWarning: Precision and F-score are ill-defined and being set to 0.0 in labels with no predicted samples. Use `zero_division` parameter to control this behavior.\n",
      "  _warn_prf(average, modifier, msg_start, len(result))\n",
      "c:\\ProgramData\\anaconda3\\lib\\site-packages\\sklearn\\metrics\\_classification.py:1344: UndefinedMetricWarning: Precision and F-score are ill-defined and being set to 0.0 in labels with no predicted samples. Use `zero_division` parameter to control this behavior.\n",
      "  _warn_prf(average, modifier, msg_start, len(result))\n",
      "c:\\ProgramData\\anaconda3\\lib\\site-packages\\sklearn\\metrics\\_classification.py:1344: UndefinedMetricWarning: Precision and F-score are ill-defined and being set to 0.0 in labels with no predicted samples. Use `zero_division` parameter to control this behavior.\n",
      "  _warn_prf(average, modifier, msg_start, len(result))\n"
     ]
    }
   ],
   "source": [
    "y_pred = model.predict(X_test)\n",
    "y_pred_classes = np.argmax(y_pred, axis=1)\n",
    "\n",
    "# Decode labels\n",
    "y_test_decoded = label_encoder.inverse_transform(y_test_encoded)\n",
    "y_pred_decoded = label_encoder.inverse_transform(y_pred_classes)\n",
    "\n",
    "# Print classification report\n",
    "print(classification_report(y_test_decoded, y_pred_decoded))"
   ]
  },
  {
   "cell_type": "markdown",
   "metadata": {},
   "source": [
    "Model Accuracy"
   ]
  },
  {
   "cell_type": "code",
   "execution_count": 24,
   "metadata": {},
   "outputs": [
    {
     "name": "stdout",
     "output_type": "stream",
     "text": [
      "0.41803279519081116\n"
     ]
    }
   ],
   "source": [
    "test_accuracy=model.evaluate(X_test,y_test_encoded,verbose=0)\n",
    "print(test_accuracy[1])"
   ]
  },
  {
   "cell_type": "markdown",
   "metadata": {},
   "source": [
    "Confusion Matrix"
   ]
  },
  {
   "cell_type": "code",
   "execution_count": 26,
   "metadata": {},
   "outputs": [
    {
     "data": {
      "text/plain": [
       "Text(70.72222222222221, 0.5, 'Truth')"
      ]
     },
     "execution_count": 26,
     "metadata": {},
     "output_type": "execute_result"
    },
    {
     "data": {
      "image/png": "[encoded data removed]",
      "text/plain": [
       "<Figure size 800x500 with 2 Axes>"
      ]
     },
     "metadata": {},
     "output_type": "display_data"
    }
   ],
   "source": [
    "cm = confusion_matrix(y_test_decoded, y_pred_decoded)\n",
    "plt.figure(figsize = (8,5))\n",
    "sn.heatmap(cm, annot=True)\n",
    "plt.xlabel('Predicted')\n",
    "plt.ylabel('Truth')"
   ]
  },
  {
   "cell_type": "markdown",
   "metadata": {},
   "source": [
    "---------------\n",
    "Unseen Data Testing\n",
    "---------------"
   ]
  }
 ],
 "metadata": {
  "kernelspec": {
   "display_name": "base",
   "language": "python",
   "name": "python3"
  },
  "language_info": {
   "codemirror_mode": {
    "name": "ipython",
    "version": 3
   },
   "file_extension": ".py",
   "mimetype": "text/x-python",
   "name": "python",
   "nbconvert_exporter": "python",
   "pygments_lexer": "ipython3",
   "version": "3.10.9"
  },
  "orig_nbformat": 4
 },
 "nbformat": 4,
 "nbformat_minor": 2
}
