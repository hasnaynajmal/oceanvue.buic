{
 "cells": [
  {
   "cell_type": "code",
   "execution_count": 1,
   "metadata": {},
   "outputs": [],
   "source": [
    "#### Extracting MFCC's For every audio file\n",
    "import pandas as pd\n",
    "import os\n",
    "import librosa"
   ]
  },
  {
   "cell_type": "code",
   "execution_count": 2,
   "metadata": {},
   "outputs": [
    {
     "data": {
      "text/html": [
       "<div>\n",
       "<style scoped>\n",
       "    .dataframe tbody tr th:only-of-type {\n",
       "        vertical-align: middle;\n",
       "    }\n",
       "\n",
       "    .dataframe tbody tr th {\n",
       "        vertical-align: top;\n",
       "    }\n",
       "\n",
       "    .dataframe thead th {\n",
       "        text-align: right;\n",
       "    }\n",
       "</style>\n",
       "<table border=\"1\" class=\"dataframe\">\n",
       "  <thead>\n",
       "    <tr style=\"text-align: right;\">\n",
       "      <th></th>\n",
       "      <th>Recording ID</th>\n",
       "      <th>File_name</th>\n",
       "      <th>Folder_ID</th>\n",
       "      <th>Class_ID</th>\n",
       "      <th>Class</th>\n",
       "      <th>File_path</th>\n",
       "      <th>Ship Name</th>\n",
       "      <th>Date of Recording</th>\n",
       "      <th>Time of Recording</th>\n",
       "      <th>Durations (s)</th>\n",
       "      <th>Distance (m)</th>\n",
       "    </tr>\n",
       "  </thead>\n",
       "  <tbody>\n",
       "    <tr>\n",
       "      <th>0</th>\n",
       "      <td>1</td>\n",
       "      <td>1.wav</td>\n",
       "      <td>1</td>\n",
       "      <td>1</td>\n",
       "      <td>Cargo</td>\n",
       "      <td>Cargo\\1\\1.wav</td>\n",
       "      <td>SEASPAN SWIFT</td>\n",
       "      <td>20171104</td>\n",
       "      <td>203623</td>\n",
       "      <td>458</td>\n",
       "      <td>1583-1981</td>\n",
       "    </tr>\n",
       "    <tr>\n",
       "      <th>1</th>\n",
       "      <td>2</td>\n",
       "      <td>2.wav</td>\n",
       "      <td>2</td>\n",
       "      <td>1</td>\n",
       "      <td>Cargo</td>\n",
       "      <td>Cargo\\2\\2.wav</td>\n",
       "      <td>ISTRA ACE</td>\n",
       "      <td>20171104</td>\n",
       "      <td>223241</td>\n",
       "      <td>441</td>\n",
       "      <td>1535-1779</td>\n",
       "    </tr>\n",
       "    <tr>\n",
       "      <th>2</th>\n",
       "      <td>3</td>\n",
       "      <td>3.wav</td>\n",
       "      <td>3</td>\n",
       "      <td>1</td>\n",
       "      <td>Cargo</td>\n",
       "      <td>Cargo\\3\\3.wav</td>\n",
       "      <td>SAMOS WARRIOR</td>\n",
       "      <td>20171105</td>\n",
       "      <td>84406</td>\n",
       "      <td>297</td>\n",
       "      <td>642-1520</td>\n",
       "    </tr>\n",
       "    <tr>\n",
       "      <th>3</th>\n",
       "      <td>4</td>\n",
       "      <td>4.wav</td>\n",
       "      <td>4</td>\n",
       "      <td>1</td>\n",
       "      <td>Cargo</td>\n",
       "      <td>Cargo\\4\\4.wav</td>\n",
       "      <td>NYK REMUS</td>\n",
       "      <td>20171106</td>\n",
       "      <td>115234</td>\n",
       "      <td>331</td>\n",
       "      <td>1579-1906</td>\n",
       "    </tr>\n",
       "    <tr>\n",
       "      <th>4</th>\n",
       "      <td>5</td>\n",
       "      <td>5.wav</td>\n",
       "      <td>5</td>\n",
       "      <td>1</td>\n",
       "      <td>Cargo</td>\n",
       "      <td>Cargo\\5\\5.wav</td>\n",
       "      <td>SEASPAN RELIANT</td>\n",
       "      <td>20171107</td>\n",
       "      <td>452</td>\n",
       "      <td>208</td>\n",
       "      <td>477-1241</td>\n",
       "    </tr>\n",
       "  </tbody>\n",
       "</table>\n",
       "</div>"
      ],
      "text/plain": [
       "   Recording ID File_name  Folder_ID  Class_ID  Class      File_path  \\\n",
       "0             1     1.wav          1         1  Cargo  Cargo\\1\\1.wav   \n",
       "1             2     2.wav          2         1  Cargo  Cargo\\2\\2.wav   \n",
       "2             3     3.wav          3         1  Cargo  Cargo\\3\\3.wav   \n",
       "3             4     4.wav          4         1  Cargo  Cargo\\4\\4.wav   \n",
       "4             5     5.wav          5         1  Cargo  Cargo\\5\\5.wav   \n",
       "\n",
       "         Ship Name  Date of Recording  Time of Recording  Durations (s)  \\\n",
       "0    SEASPAN SWIFT           20171104             203623            458   \n",
       "1        ISTRA ACE           20171104             223241            441   \n",
       "2    SAMOS WARRIOR           20171105              84406            297   \n",
       "3        NYK REMUS           20171106             115234            331   \n",
       "4  SEASPAN RELIANT           20171107                452            208   \n",
       "\n",
       "  Distance (m)  \n",
       "0    1583-1981  \n",
       "1    1535-1779  \n",
       "2     642-1520  \n",
       "3    1579-1906  \n",
       "4     477-1241  "
      ]
     },
     "execution_count": 2,
     "metadata": {},
     "output_type": "execute_result"
    }
   ],
   "source": [
    "audio_dataset_path='C:/Users/oceanvue/Desktop/DeepShip Dataset'\n",
    "metadata=pd.read_csv('C:/Users/oceanvue/Desktop/DeepShip Dataset/metadata-detailed.csv')\n",
    "metadata.head()"
   ]
  },
  {
   "cell_type": "code",
   "execution_count": 3,
   "metadata": {},
   "outputs": [],
   "source": [
    "def features_extractor(file):\n",
    "    audio, sample_rate = librosa.load(file_name, res_type='kaiser_fast') \n",
    "    mfccs_features = librosa.feature.mfcc(y=audio, sr=sample_rate, n_mfcc=40)\n",
    "    mfccs_scaled_features = np.mean(mfccs_features.T,axis=0)\n",
    "    \n",
    "    return mfccs_scaled_features"
   ]
  },
  {
   "cell_type": "code",
   "execution_count": 4,
   "metadata": {},
   "outputs": [
    {
     "name": "stderr",
     "output_type": "stream",
     "text": [
      "0it [00:00, ?it/s]\n"
     ]
    },
    {
     "ename": "KeyError",
     "evalue": "'fold'",
     "output_type": "error",
     "traceback": [
      "\u001b[1;31m---------------------------------------------------------------------------\u001b[0m",
      "\u001b[1;31mKeyError\u001b[0m                                  Traceback (most recent call last)",
      "File \u001b[1;32mc:\\ProgramData\\anaconda3\\lib\\site-packages\\pandas\\core\\indexes\\base.py:3802\u001b[0m, in \u001b[0;36mIndex.get_loc\u001b[1;34m(self, key, method, tolerance)\u001b[0m\n\u001b[0;32m   3801\u001b[0m \u001b[39mtry\u001b[39;00m:\n\u001b[1;32m-> 3802\u001b[0m     \u001b[39mreturn\u001b[39;00m \u001b[39mself\u001b[39;49m\u001b[39m.\u001b[39;49m_engine\u001b[39m.\u001b[39;49mget_loc(casted_key)\n\u001b[0;32m   3803\u001b[0m \u001b[39mexcept\u001b[39;00m \u001b[39mKeyError\u001b[39;00m \u001b[39mas\u001b[39;00m err:\n",
      "File \u001b[1;32mc:\\ProgramData\\anaconda3\\lib\\site-packages\\pandas\\_libs\\index.pyx:138\u001b[0m, in \u001b[0;36mpandas._libs.index.IndexEngine.get_loc\u001b[1;34m()\u001b[0m\n",
      "File \u001b[1;32mc:\\ProgramData\\anaconda3\\lib\\site-packages\\pandas\\_libs\\index.pyx:165\u001b[0m, in \u001b[0;36mpandas._libs.index.IndexEngine.get_loc\u001b[1;34m()\u001b[0m\n",
      "File \u001b[1;32mpandas\\_libs\\hashtable_class_helper.pxi:5745\u001b[0m, in \u001b[0;36mpandas._libs.hashtable.PyObjectHashTable.get_item\u001b[1;34m()\u001b[0m\n",
      "File \u001b[1;32mpandas\\_libs\\hashtable_class_helper.pxi:5753\u001b[0m, in \u001b[0;36mpandas._libs.hashtable.PyObjectHashTable.get_item\u001b[1;34m()\u001b[0m\n",
      "\u001b[1;31mKeyError\u001b[0m: 'fold'",
      "\nThe above exception was the direct cause of the following exception:\n",
      "\u001b[1;31mKeyError\u001b[0m                                  Traceback (most recent call last)",
      "Cell \u001b[1;32mIn[4], line 11\u001b[0m\n\u001b[0;32m      9\u001b[0m extracted_features\u001b[39m=\u001b[39m[]\n\u001b[0;32m     10\u001b[0m \u001b[39mfor\u001b[39;00m index_num,row \u001b[39min\u001b[39;00m tqdm(metadata\u001b[39m.\u001b[39miterrows()):\n\u001b[1;32m---> 11\u001b[0m     file_name \u001b[39m=\u001b[39m os\u001b[39m.\u001b[39mpath\u001b[39m.\u001b[39mjoin(os\u001b[39m.\u001b[39mpath\u001b[39m.\u001b[39mabspath(audio_dataset_path),\u001b[39m'\u001b[39m\u001b[39mfold\u001b[39m\u001b[39m'\u001b[39m\u001b[39m+\u001b[39m\u001b[39mstr\u001b[39m(row[\u001b[39m\"\u001b[39;49m\u001b[39mfold\u001b[39;49m\u001b[39m\"\u001b[39;49m])\u001b[39m+\u001b[39m\u001b[39m'\u001b[39m\u001b[39m/\u001b[39m\u001b[39m'\u001b[39m,\u001b[39mstr\u001b[39m(row[\u001b[39m\"\u001b[39m\u001b[39mslice_file_name\u001b[39m\u001b[39m\"\u001b[39m]))\n\u001b[0;32m     12\u001b[0m     final_class_labels\u001b[39m=\u001b[39mrow[\u001b[39m\"\u001b[39m\u001b[39mclass\u001b[39m\u001b[39m\"\u001b[39m]\n\u001b[0;32m     13\u001b[0m     data\u001b[39m=\u001b[39mfeatures_extractor(file_name)\n",
      "File \u001b[1;32mc:\\ProgramData\\anaconda3\\lib\\site-packages\\pandas\\core\\series.py:981\u001b[0m, in \u001b[0;36mSeries.__getitem__\u001b[1;34m(self, key)\u001b[0m\n\u001b[0;32m    978\u001b[0m     \u001b[39mreturn\u001b[39;00m \u001b[39mself\u001b[39m\u001b[39m.\u001b[39m_values[key]\n\u001b[0;32m    980\u001b[0m \u001b[39melif\u001b[39;00m key_is_scalar:\n\u001b[1;32m--> 981\u001b[0m     \u001b[39mreturn\u001b[39;00m \u001b[39mself\u001b[39;49m\u001b[39m.\u001b[39;49m_get_value(key)\n\u001b[0;32m    983\u001b[0m \u001b[39mif\u001b[39;00m is_hashable(key):\n\u001b[0;32m    984\u001b[0m     \u001b[39m# Otherwise index.get_value will raise InvalidIndexError\u001b[39;00m\n\u001b[0;32m    985\u001b[0m     \u001b[39mtry\u001b[39;00m:\n\u001b[0;32m    986\u001b[0m         \u001b[39m# For labels that don't resolve as scalars like tuples and frozensets\u001b[39;00m\n",
      "File \u001b[1;32mc:\\ProgramData\\anaconda3\\lib\\site-packages\\pandas\\core\\series.py:1089\u001b[0m, in \u001b[0;36mSeries._get_value\u001b[1;34m(self, label, takeable)\u001b[0m\n\u001b[0;32m   1086\u001b[0m     \u001b[39mreturn\u001b[39;00m \u001b[39mself\u001b[39m\u001b[39m.\u001b[39m_values[label]\n\u001b[0;32m   1088\u001b[0m \u001b[39m# Similar to Index.get_value, but we do not fall back to positional\u001b[39;00m\n\u001b[1;32m-> 1089\u001b[0m loc \u001b[39m=\u001b[39m \u001b[39mself\u001b[39;49m\u001b[39m.\u001b[39;49mindex\u001b[39m.\u001b[39;49mget_loc(label)\n\u001b[0;32m   1090\u001b[0m \u001b[39mreturn\u001b[39;00m \u001b[39mself\u001b[39m\u001b[39m.\u001b[39mindex\u001b[39m.\u001b[39m_get_values_for_loc(\u001b[39mself\u001b[39m, loc, label)\n",
      "File \u001b[1;32mc:\\ProgramData\\anaconda3\\lib\\site-packages\\pandas\\core\\indexes\\base.py:3804\u001b[0m, in \u001b[0;36mIndex.get_loc\u001b[1;34m(self, key, method, tolerance)\u001b[0m\n\u001b[0;32m   3802\u001b[0m     \u001b[39mreturn\u001b[39;00m \u001b[39mself\u001b[39m\u001b[39m.\u001b[39m_engine\u001b[39m.\u001b[39mget_loc(casted_key)\n\u001b[0;32m   3803\u001b[0m \u001b[39mexcept\u001b[39;00m \u001b[39mKeyError\u001b[39;00m \u001b[39mas\u001b[39;00m err:\n\u001b[1;32m-> 3804\u001b[0m     \u001b[39mraise\u001b[39;00m \u001b[39mKeyError\u001b[39;00m(key) \u001b[39mfrom\u001b[39;00m \u001b[39merr\u001b[39;00m\n\u001b[0;32m   3805\u001b[0m \u001b[39mexcept\u001b[39;00m \u001b[39mTypeError\u001b[39;00m:\n\u001b[0;32m   3806\u001b[0m     \u001b[39m# If we have a listlike key, _check_indexing_error will raise\u001b[39;00m\n\u001b[0;32m   3807\u001b[0m     \u001b[39m#  InvalidIndexError. Otherwise we fall through and re-raise\u001b[39;00m\n\u001b[0;32m   3808\u001b[0m     \u001b[39m#  the TypeError.\u001b[39;00m\n\u001b[0;32m   3809\u001b[0m     \u001b[39mself\u001b[39m\u001b[39m.\u001b[39m_check_indexing_error(key)\n",
      "\u001b[1;31mKeyError\u001b[0m: 'fold'"
     ]
    }
   ],
   "source": [
    "audio_dataset_path='C:/Users/oceanvue/Desktop/DeepShip Dataset'\n",
    "metadata=pd.read_csv('C:/Users/oceanvue/Desktop/DeepShip Dataset/metadata-detailed.csv')\n",
    "metadata.head()\n",
    "\n",
    "import numpy as np\n",
    "from tqdm import tqdm\n",
    "### Now we iterate through every audio file and extract features \n",
    "### using Mel-Frequency Cepstral Coefficients\n",
    "extracted_features=[]\n",
    "for index_num,row in tqdm(metadata.iterrows()):\n",
    "    file_name = os.path.join(os.path.abspath(audio_dataset_path),'fold'+str(row[\"fold\"])+'/',str(row[\"slice_file_name\"]))\n",
    "    final_class_labels=row[\"class\"]\n",
    "    data=features_extractor(file_name)\n",
    "    extracted_features.append([data,final_class_labels])"
   ]
  },
  {
   "cell_type": "code",
   "execution_count": 5,
   "metadata": {},
   "outputs": [
    {
     "name": "stderr",
     "output_type": "stream",
     "text": [
      "0it [00:00, ?it/s]"
     ]
    },
    {
     "name": "stdout",
     "output_type": "stream",
     "text": [
      "C:\\Users\\oceanvue\\Desktop\\DeepShip Dataset\\Cargo\\1\\1.wav\n"
     ]
    },
    {
     "name": "stderr",
     "output_type": "stream",
     "text": [
      "1it [00:05,  5.24s/it]"
     ]
    },
    {
     "name": "stdout",
     "output_type": "stream",
     "text": [
      "C:\\Users\\oceanvue\\Desktop\\DeepShip Dataset\\Cargo\\2\\2.wav\n"
     ]
    },
    {
     "name": "stderr",
     "output_type": "stream",
     "text": [
      "2it [00:07,  3.62s/it]"
     ]
    },
    {
     "name": "stdout",
     "output_type": "stream",
     "text": [
      "C:\\Users\\oceanvue\\Desktop\\DeepShip Dataset\\Cargo\\3\\3.wav\n"
     ]
    },
    {
     "name": "stderr",
     "output_type": "stream",
     "text": [
      "3it [00:09,  2.78s/it]"
     ]
    },
    {
     "name": "stdout",
     "output_type": "stream",
     "text": [
      "C:\\Users\\oceanvue\\Desktop\\DeepShip Dataset\\Cargo\\4\\4.wav\n"
     ]
    },
    {
     "name": "stderr",
     "output_type": "stream",
     "text": [
      "4it [00:11,  2.43s/it]"
     ]
    },
    {
     "name": "stdout",
     "output_type": "stream",
     "text": [
      "C:\\Users\\oceanvue\\Desktop\\DeepShip Dataset\\Cargo\\5\\5.wav\n"
     ]
    },
    {
     "name": "stderr",
     "output_type": "stream",
     "text": [
      "5it [00:12,  1.99s/it]"
     ]
    },
    {
     "name": "stdout",
     "output_type": "stream",
     "text": [
      "C:\\Users\\oceanvue\\Desktop\\DeepShip Dataset\\Cargo\\6\\6.wav\n"
     ]
    },
    {
     "name": "stderr",
     "output_type": "stream",
     "text": [
      "6it [00:15,  2.26s/it]"
     ]
    },
    {
     "name": "stdout",
     "output_type": "stream",
     "text": [
      "C:\\Users\\oceanvue\\Desktop\\DeepShip Dataset\\Cargo\\7\\7.wav\n"
     ]
    },
    {
     "name": "stderr",
     "output_type": "stream",
     "text": [
      "7it [00:18,  2.50s/it]"
     ]
    },
    {
     "name": "stdout",
     "output_type": "stream",
     "text": [
      "C:\\Users\\oceanvue\\Desktop\\DeepShip Dataset\\Cargo\\8\\8.wav\n"
     ]
    },
    {
     "name": "stderr",
     "output_type": "stream",
     "text": [
      "8it [00:19,  2.22s/it]"
     ]
    },
    {
     "name": "stdout",
     "output_type": "stream",
     "text": [
      "C:\\Users\\oceanvue\\Desktop\\DeepShip Dataset\\Cargo\\9\\9.wav\n"
     ]
    },
    {
     "name": "stderr",
     "output_type": "stream",
     "text": [
      "9it [00:21,  2.06s/it]"
     ]
    },
    {
     "name": "stdout",
     "output_type": "stream",
     "text": [
      "C:\\Users\\oceanvue\\Desktop\\DeepShip Dataset\\Cargo\\10\\10.wav\n"
     ]
    },
    {
     "name": "stderr",
     "output_type": "stream",
     "text": [
      "10it [00:23,  1.95s/it]"
     ]
    },
    {
     "name": "stdout",
     "output_type": "stream",
     "text": [
      "C:\\Users\\oceanvue\\Desktop\\DeepShip Dataset\\Cargo\\11\\11.wav\n"
     ]
    },
    {
     "name": "stderr",
     "output_type": "stream",
     "text": [
      "11it [00:26,  2.17s/it]"
     ]
    },
    {
     "name": "stdout",
     "output_type": "stream",
     "text": [
      "C:\\Users\\oceanvue\\Desktop\\DeepShip Dataset\\Cargo\\12\\12.wav\n"
     ]
    },
    {
     "name": "stderr",
     "output_type": "stream",
     "text": [
      "12it [00:27,  1.96s/it]"
     ]
    },
    {
     "name": "stdout",
     "output_type": "stream",
     "text": [
      "C:\\Users\\oceanvue\\Desktop\\DeepShip Dataset\\Cargo\\13\\13.wav\n"
     ]
    },
    {
     "name": "stderr",
     "output_type": "stream",
     "text": [
      "13it [00:29,  1.98s/it]"
     ]
    },
    {
     "name": "stdout",
     "output_type": "stream",
     "text": [
      "C:\\Users\\oceanvue\\Desktop\\DeepShip Dataset\\Cargo\\14\\14.wav\n"
     ]
    },
    {
     "name": "stderr",
     "output_type": "stream",
     "text": [
      "14it [00:31,  2.05s/it]"
     ]
    },
    {
     "name": "stdout",
     "output_type": "stream",
     "text": [
      "C:\\Users\\oceanvue\\Desktop\\DeepShip Dataset\\Cargo\\15\\15.wav\n"
     ]
    },
    {
     "name": "stderr",
     "output_type": "stream",
     "text": [
      "15it [00:32,  1.76s/it]"
     ]
    },
    {
     "name": "stdout",
     "output_type": "stream",
     "text": [
      "C:\\Users\\oceanvue\\Desktop\\DeepShip Dataset\\Cargo\\16\\16.wav\n"
     ]
    },
    {
     "name": "stderr",
     "output_type": "stream",
     "text": [
      "16it [00:34,  1.74s/it]"
     ]
    },
    {
     "name": "stdout",
     "output_type": "stream",
     "text": [
      "C:\\Users\\oceanvue\\Desktop\\DeepShip Dataset\\Cargo\\17\\17.wav\n"
     ]
    },
    {
     "name": "stderr",
     "output_type": "stream",
     "text": [
      "17it [00:35,  1.60s/it]"
     ]
    },
    {
     "name": "stdout",
     "output_type": "stream",
     "text": [
      "C:\\Users\\oceanvue\\Desktop\\DeepShip Dataset\\Cargo\\18\\18.wav\n"
     ]
    },
    {
     "name": "stderr",
     "output_type": "stream",
     "text": [
      "18it [00:38,  1.87s/it]"
     ]
    },
    {
     "name": "stdout",
     "output_type": "stream",
     "text": [
      "C:\\Users\\oceanvue\\Desktop\\DeepShip Dataset\\Cargo\\19\\19.wav\n"
     ]
    },
    {
     "name": "stderr",
     "output_type": "stream",
     "text": [
      "19it [00:40,  1.90s/it]"
     ]
    },
    {
     "name": "stdout",
     "output_type": "stream",
     "text": [
      "C:\\Users\\oceanvue\\Desktop\\DeepShip Dataset\\Cargo\\20\\20.wav\n"
     ]
    },
    {
     "name": "stderr",
     "output_type": "stream",
     "text": [
      "20it [00:42,  2.03s/it]"
     ]
    },
    {
     "name": "stdout",
     "output_type": "stream",
     "text": [
      "C:\\Users\\oceanvue\\Desktop\\DeepShip Dataset\\Cargo\\21\\21.wav\n"
     ]
    },
    {
     "name": "stderr",
     "output_type": "stream",
     "text": [
      "21it [00:43,  1.78s/it]"
     ]
    },
    {
     "name": "stdout",
     "output_type": "stream",
     "text": [
      "C:\\Users\\oceanvue\\Desktop\\DeepShip Dataset\\Cargo\\22\\22.wav\n"
     ]
    },
    {
     "name": "stderr",
     "output_type": "stream",
     "text": [
      "22it [00:45,  1.86s/it]"
     ]
    },
    {
     "name": "stdout",
     "output_type": "stream",
     "text": [
      "C:\\Users\\oceanvue\\Desktop\\DeepShip Dataset\\Cargo\\23\\23.wav\n"
     ]
    },
    {
     "name": "stderr",
     "output_type": "stream",
     "text": [
      "23it [00:47,  1.67s/it]"
     ]
    },
    {
     "name": "stdout",
     "output_type": "stream",
     "text": [
      "C:\\Users\\oceanvue\\Desktop\\DeepShip Dataset\\Cargo\\24\\24.wav\n"
     ]
    },
    {
     "name": "stderr",
     "output_type": "stream",
     "text": [
      "24it [00:48,  1.69s/it]"
     ]
    },
    {
     "name": "stdout",
     "output_type": "stream",
     "text": [
      "C:\\Users\\oceanvue\\Desktop\\DeepShip Dataset\\Cargo\\25\\25.wav\n"
     ]
    },
    {
     "name": "stderr",
     "output_type": "stream",
     "text": [
      "25it [00:51,  1.83s/it]"
     ]
    },
    {
     "name": "stdout",
     "output_type": "stream",
     "text": [
      "C:\\Users\\oceanvue\\Desktop\\DeepShip Dataset\\Cargo\\26\\26.wav\n"
     ]
    },
    {
     "name": "stderr",
     "output_type": "stream",
     "text": [
      "26it [00:52,  1.67s/it]"
     ]
    },
    {
     "name": "stdout",
     "output_type": "stream",
     "text": [
      "C:\\Users\\oceanvue\\Desktop\\DeepShip Dataset\\Cargo\\27\\27.wav\n"
     ]
    },
    {
     "name": "stderr",
     "output_type": "stream",
     "text": [
      "27it [00:53,  1.52s/it]"
     ]
    },
    {
     "name": "stdout",
     "output_type": "stream",
     "text": [
      "C:\\Users\\oceanvue\\Desktop\\DeepShip Dataset\\Cargo\\28\\28.wav\n"
     ]
    },
    {
     "name": "stderr",
     "output_type": "stream",
     "text": [
      "28it [00:56,  1.90s/it]"
     ]
    },
    {
     "name": "stdout",
     "output_type": "stream",
     "text": [
      "C:\\Users\\oceanvue\\Desktop\\DeepShip Dataset\\Cargo\\29\\29.wav\n"
     ]
    },
    {
     "name": "stderr",
     "output_type": "stream",
     "text": [
      "29it [00:58,  1.94s/it]"
     ]
    },
    {
     "name": "stdout",
     "output_type": "stream",
     "text": [
      "C:\\Users\\oceanvue\\Desktop\\DeepShip Dataset\\Cargo\\30\\30.wav\n"
     ]
    },
    {
     "name": "stderr",
     "output_type": "stream",
     "text": [
      "30it [01:00,  1.92s/it]"
     ]
    },
    {
     "name": "stdout",
     "output_type": "stream",
     "text": [
      "C:\\Users\\oceanvue\\Desktop\\DeepShip Dataset\\Cargo\\31\\31.wav\n"
     ]
    },
    {
     "name": "stderr",
     "output_type": "stream",
     "text": [
      "31it [01:06,  3.09s/it]"
     ]
    },
    {
     "name": "stdout",
     "output_type": "stream",
     "text": [
      "C:\\Users\\oceanvue\\Desktop\\DeepShip Dataset\\Cargo\\32\\32.wav\n"
     ]
    },
    {
     "name": "stderr",
     "output_type": "stream",
     "text": [
      "32it [01:10,  3.41s/it]"
     ]
    },
    {
     "name": "stdout",
     "output_type": "stream",
     "text": [
      "C:\\Users\\oceanvue\\Desktop\\DeepShip Dataset\\Cargo\\33\\33.wav\n"
     ]
    },
    {
     "name": "stderr",
     "output_type": "stream",
     "text": [
      "33it [01:12,  2.99s/it]"
     ]
    },
    {
     "name": "stdout",
     "output_type": "stream",
     "text": [
      "C:\\Users\\oceanvue\\Desktop\\DeepShip Dataset\\Cargo\\34\\34.wav\n"
     ]
    },
    {
     "name": "stderr",
     "output_type": "stream",
     "text": [
      "34it [01:14,  2.81s/it]"
     ]
    },
    {
     "name": "stdout",
     "output_type": "stream",
     "text": [
      "C:\\Users\\oceanvue\\Desktop\\DeepShip Dataset\\Cargo\\35\\35.wav\n"
     ]
    },
    {
     "name": "stderr",
     "output_type": "stream",
     "text": [
      "35it [01:16,  2.50s/it]"
     ]
    },
    {
     "name": "stdout",
     "output_type": "stream",
     "text": [
      "C:\\Users\\oceanvue\\Desktop\\DeepShip Dataset\\Cargo\\36\\36.wav\n"
     ]
    },
    {
     "name": "stderr",
     "output_type": "stream",
     "text": [
      "36it [01:17,  2.22s/it]"
     ]
    },
    {
     "name": "stdout",
     "output_type": "stream",
     "text": [
      "C:\\Users\\oceanvue\\Desktop\\DeepShip Dataset\\Cargo\\37\\37.wav\n"
     ]
    },
    {
     "name": "stderr",
     "output_type": "stream",
     "text": [
      "37it [01:20,  2.35s/it]"
     ]
    },
    {
     "name": "stdout",
     "output_type": "stream",
     "text": [
      "C:\\Users\\oceanvue\\Desktop\\DeepShip Dataset\\Cargo\\38\\38.wav\n"
     ]
    },
    {
     "name": "stderr",
     "output_type": "stream",
     "text": [
      "38it [01:21,  1.99s/it]"
     ]
    },
    {
     "name": "stdout",
     "output_type": "stream",
     "text": [
      "C:\\Users\\oceanvue\\Desktop\\DeepShip Dataset\\Cargo\\39\\39.wav\n"
     ]
    },
    {
     "name": "stderr",
     "output_type": "stream",
     "text": [
      "39it [01:23,  2.01s/it]"
     ]
    },
    {
     "name": "stdout",
     "output_type": "stream",
     "text": [
      "C:\\Users\\oceanvue\\Desktop\\DeepShip Dataset\\Cargo\\40\\40.wav\n"
     ]
    },
    {
     "name": "stderr",
     "output_type": "stream",
     "text": [
      "40it [01:26,  2.32s/it]"
     ]
    },
    {
     "name": "stdout",
     "output_type": "stream",
     "text": [
      "C:\\Users\\oceanvue\\Desktop\\DeepShip Dataset\\Cargo\\41\\41.wav\n"
     ]
    },
    {
     "name": "stderr",
     "output_type": "stream",
     "text": [
      "41it [01:27,  1.95s/it]"
     ]
    },
    {
     "name": "stdout",
     "output_type": "stream",
     "text": [
      "C:\\Users\\oceanvue\\Desktop\\DeepShip Dataset\\Cargo\\42\\42.wav\n"
     ]
    },
    {
     "name": "stderr",
     "output_type": "stream",
     "text": [
      "42it [01:30,  2.12s/it]"
     ]
    },
    {
     "name": "stdout",
     "output_type": "stream",
     "text": [
      "C:\\Users\\oceanvue\\Desktop\\DeepShip Dataset\\Cargo\\43\\43.wav\n"
     ]
    },
    {
     "name": "stderr",
     "output_type": "stream",
     "text": [
      "43it [01:32,  2.09s/it]"
     ]
    },
    {
     "name": "stdout",
     "output_type": "stream",
     "text": [
      "C:\\Users\\oceanvue\\Desktop\\DeepShip Dataset\\Cargo\\44\\44.wav\n"
     ]
    },
    {
     "name": "stderr",
     "output_type": "stream",
     "text": [
      "44it [01:33,  1.82s/it]"
     ]
    },
    {
     "name": "stdout",
     "output_type": "stream",
     "text": [
      "C:\\Users\\oceanvue\\Desktop\\DeepShip Dataset\\Cargo\\45\\45.wav\n"
     ]
    },
    {
     "name": "stderr",
     "output_type": "stream",
     "text": [
      "45it [01:35,  1.91s/it]"
     ]
    },
    {
     "name": "stdout",
     "output_type": "stream",
     "text": [
      "C:\\Users\\oceanvue\\Desktop\\DeepShip Dataset\\Cargo\\46\\46.wav\n"
     ]
    },
    {
     "name": "stderr",
     "output_type": "stream",
     "text": [
      "46it [01:39,  2.35s/it]"
     ]
    },
    {
     "name": "stdout",
     "output_type": "stream",
     "text": [
      "C:\\Users\\oceanvue\\Desktop\\DeepShip Dataset\\Cargo\\47\\47.wav\n"
     ]
    },
    {
     "name": "stderr",
     "output_type": "stream",
     "text": [
      "47it [01:40,  2.02s/it]"
     ]
    },
    {
     "name": "stdout",
     "output_type": "stream",
     "text": [
      "C:\\Users\\oceanvue\\Desktop\\DeepShip Dataset\\Cargo\\48\\48.wav\n"
     ]
    },
    {
     "name": "stderr",
     "output_type": "stream",
     "text": [
      "48it [01:43,  2.29s/it]"
     ]
    },
    {
     "name": "stdout",
     "output_type": "stream",
     "text": [
      "C:\\Users\\oceanvue\\Desktop\\DeepShip Dataset\\Cargo\\49\\49.wav\n"
     ]
    },
    {
     "name": "stderr",
     "output_type": "stream",
     "text": [
      "49it [01:44,  2.06s/it]"
     ]
    },
    {
     "name": "stdout",
     "output_type": "stream",
     "text": [
      "C:\\Users\\oceanvue\\Desktop\\DeepShip Dataset\\Cargo\\50\\50.wav\n"
     ]
    },
    {
     "name": "stderr",
     "output_type": "stream",
     "text": [
      "50it [01:46,  1.88s/it]"
     ]
    },
    {
     "name": "stdout",
     "output_type": "stream",
     "text": [
      "C:\\Users\\oceanvue\\Desktop\\DeepShip Dataset\\Cargo\\51\\51.wav\n"
     ]
    },
    {
     "name": "stderr",
     "output_type": "stream",
     "text": [
      "51it [01:49,  2.14s/it]"
     ]
    },
    {
     "name": "stdout",
     "output_type": "stream",
     "text": [
      "C:\\Users\\oceanvue\\Desktop\\DeepShip Dataset\\Cargo\\52\\52.wav\n"
     ]
    },
    {
     "name": "stderr",
     "output_type": "stream",
     "text": [
      "52it [01:51,  2.14s/it]"
     ]
    },
    {
     "name": "stdout",
     "output_type": "stream",
     "text": [
      "C:\\Users\\oceanvue\\Desktop\\DeepShip Dataset\\Cargo\\53\\53.wav\n"
     ]
    },
    {
     "name": "stderr",
     "output_type": "stream",
     "text": [
      "53it [01:53,  2.12s/it]"
     ]
    },
    {
     "name": "stdout",
     "output_type": "stream",
     "text": [
      "C:\\Users\\oceanvue\\Desktop\\DeepShip Dataset\\Cargo\\54\\54.wav\n"
     ]
    },
    {
     "name": "stderr",
     "output_type": "stream",
     "text": [
      "54it [01:55,  2.18s/it]"
     ]
    },
    {
     "name": "stdout",
     "output_type": "stream",
     "text": [
      "C:\\Users\\oceanvue\\Desktop\\DeepShip Dataset\\Cargo\\55\\55.wav\n"
     ]
    },
    {
     "name": "stderr",
     "output_type": "stream",
     "text": [
      "55it [01:57,  2.15s/it]"
     ]
    },
    {
     "name": "stdout",
     "output_type": "stream",
     "text": [
      "C:\\Users\\oceanvue\\Desktop\\DeepShip Dataset\\Cargo\\56\\56.wav\n"
     ]
    },
    {
     "name": "stderr",
     "output_type": "stream",
     "text": [
      "56it [02:00,  2.48s/it]"
     ]
    },
    {
     "name": "stdout",
     "output_type": "stream",
     "text": [
      "C:\\Users\\oceanvue\\Desktop\\DeepShip Dataset\\Cargo\\57\\57.wav\n"
     ]
    },
    {
     "name": "stderr",
     "output_type": "stream",
     "text": [
      "57it [02:03,  2.39s/it]"
     ]
    },
    {
     "name": "stdout",
     "output_type": "stream",
     "text": [
      "C:\\Users\\oceanvue\\Desktop\\DeepShip Dataset\\Cargo\\58\\58.wav\n"
     ]
    },
    {
     "name": "stderr",
     "output_type": "stream",
     "text": [
      "58it [02:05,  2.44s/it]"
     ]
    },
    {
     "name": "stdout",
     "output_type": "stream",
     "text": [
      "C:\\Users\\oceanvue\\Desktop\\DeepShip Dataset\\Cargo\\59\\59.wav\n"
     ]
    },
    {
     "name": "stderr",
     "output_type": "stream",
     "text": [
      "59it [02:07,  2.26s/it]"
     ]
    },
    {
     "name": "stdout",
     "output_type": "stream",
     "text": [
      "C:\\Users\\oceanvue\\Desktop\\DeepShip Dataset\\Cargo\\60\\60.wav\n"
     ]
    },
    {
     "name": "stderr",
     "output_type": "stream",
     "text": [
      "60it [02:09,  2.10s/it]"
     ]
    },
    {
     "name": "stdout",
     "output_type": "stream",
     "text": [
      "C:\\Users\\oceanvue\\Desktop\\DeepShip Dataset\\Cargo\\61\\61.wav\n"
     ]
    },
    {
     "name": "stderr",
     "output_type": "stream",
     "text": [
      "61it [02:11,  2.07s/it]"
     ]
    },
    {
     "name": "stdout",
     "output_type": "stream",
     "text": [
      "C:\\Users\\oceanvue\\Desktop\\DeepShip Dataset\\Cargo\\62\\62.wav\n"
     ]
    },
    {
     "name": "stderr",
     "output_type": "stream",
     "text": [
      "62it [02:12,  1.81s/it]"
     ]
    },
    {
     "name": "stdout",
     "output_type": "stream",
     "text": [
      "C:\\Users\\oceanvue\\Desktop\\DeepShip Dataset\\Cargo\\63\\63.wav\n"
     ]
    },
    {
     "name": "stderr",
     "output_type": "stream",
     "text": [
      "63it [02:14,  1.90s/it]"
     ]
    },
    {
     "name": "stdout",
     "output_type": "stream",
     "text": [
      "C:\\Users\\oceanvue\\Desktop\\DeepShip Dataset\\Cargo\\64\\64.wav\n"
     ]
    },
    {
     "name": "stderr",
     "output_type": "stream",
     "text": [
      "64it [02:17,  2.34s/it]"
     ]
    },
    {
     "name": "stdout",
     "output_type": "stream",
     "text": [
      "C:\\Users\\oceanvue\\Desktop\\DeepShip Dataset\\Cargo\\65\\65.wav\n"
     ]
    },
    {
     "name": "stderr",
     "output_type": "stream",
     "text": [
      "65it [02:20,  2.29s/it]"
     ]
    },
    {
     "name": "stdout",
     "output_type": "stream",
     "text": [
      "C:\\Users\\oceanvue\\Desktop\\DeepShip Dataset\\Cargo\\66\\66.wav\n"
     ]
    },
    {
     "name": "stderr",
     "output_type": "stream",
     "text": [
      "66it [02:21,  1.98s/it]"
     ]
    },
    {
     "name": "stdout",
     "output_type": "stream",
     "text": [
      "C:\\Users\\oceanvue\\Desktop\\DeepShip Dataset\\Cargo\\67\\67.wav\n"
     ]
    },
    {
     "name": "stderr",
     "output_type": "stream",
     "text": [
      "67it [02:22,  1.76s/it]"
     ]
    },
    {
     "name": "stdout",
     "output_type": "stream",
     "text": [
      "C:\\Users\\oceanvue\\Desktop\\DeepShip Dataset\\Cargo\\68\\68.wav\n"
     ]
    },
    {
     "name": "stderr",
     "output_type": "stream",
     "text": [
      "68it [02:24,  1.87s/it]"
     ]
    },
    {
     "name": "stdout",
     "output_type": "stream",
     "text": [
      "C:\\Users\\oceanvue\\Desktop\\DeepShip Dataset\\Cargo\\69\\69.wav\n"
     ]
    },
    {
     "name": "stderr",
     "output_type": "stream",
     "text": [
      "69it [02:25,  1.64s/it]"
     ]
    },
    {
     "name": "stdout",
     "output_type": "stream",
     "text": [
      "C:\\Users\\oceanvue\\Desktop\\DeepShip Dataset\\Cargo\\70\\70.wav\n"
     ]
    },
    {
     "name": "stderr",
     "output_type": "stream",
     "text": [
      "70it [02:27,  1.80s/it]"
     ]
    },
    {
     "name": "stdout",
     "output_type": "stream",
     "text": [
      "C:\\Users\\oceanvue\\Desktop\\DeepShip Dataset\\Cargo\\71\\71.wav\n"
     ]
    },
    {
     "name": "stderr",
     "output_type": "stream",
     "text": [
      "71it [02:29,  1.74s/it]"
     ]
    },
    {
     "name": "stdout",
     "output_type": "stream",
     "text": [
      "C:\\Users\\oceanvue\\Desktop\\DeepShip Dataset\\Cargo\\72\\72.wav\n"
     ]
    },
    {
     "name": "stderr",
     "output_type": "stream",
     "text": [
      "72it [02:31,  1.77s/it]"
     ]
    },
    {
     "name": "stdout",
     "output_type": "stream",
     "text": [
      "C:\\Users\\oceanvue\\Desktop\\DeepShip Dataset\\Cargo\\73\\73.wav\n"
     ]
    },
    {
     "name": "stderr",
     "output_type": "stream",
     "text": [
      "73it [02:34,  2.05s/it]"
     ]
    },
    {
     "name": "stdout",
     "output_type": "stream",
     "text": [
      "C:\\Users\\oceanvue\\Desktop\\DeepShip Dataset\\Cargo\\74\\74.wav\n"
     ]
    },
    {
     "name": "stderr",
     "output_type": "stream",
     "text": [
      "74it [02:36,  2.16s/it]"
     ]
    },
    {
     "name": "stdout",
     "output_type": "stream",
     "text": [
      "C:\\Users\\oceanvue\\Desktop\\DeepShip Dataset\\Cargo\\75\\75.wav\n"
     ]
    },
    {
     "name": "stderr",
     "output_type": "stream",
     "text": [
      "75it [02:37,  1.91s/it]"
     ]
    },
    {
     "name": "stdout",
     "output_type": "stream",
     "text": [
      "C:\\Users\\oceanvue\\Desktop\\DeepShip Dataset\\Cargo\\76\\76.wav\n"
     ]
    },
    {
     "name": "stderr",
     "output_type": "stream",
     "text": [
      "76it [02:40,  2.20s/it]"
     ]
    },
    {
     "name": "stdout",
     "output_type": "stream",
     "text": [
      "C:\\Users\\oceanvue\\Desktop\\DeepShip Dataset\\Cargo\\77\\77.wav\n"
     ]
    },
    {
     "name": "stderr",
     "output_type": "stream",
     "text": [
      "77it [02:42,  2.18s/it]"
     ]
    },
    {
     "name": "stdout",
     "output_type": "stream",
     "text": [
      "C:\\Users\\oceanvue\\Desktop\\DeepShip Dataset\\Cargo\\78\\78.wav\n"
     ]
    },
    {
     "name": "stderr",
     "output_type": "stream",
     "text": [
      "78it [02:44,  1.87s/it]"
     ]
    },
    {
     "name": "stdout",
     "output_type": "stream",
     "text": [
      "C:\\Users\\oceanvue\\Desktop\\DeepShip Dataset\\Cargo\\79\\79.wav\n"
     ]
    },
    {
     "name": "stderr",
     "output_type": "stream",
     "text": [
      "79it [02:45,  1.74s/it]"
     ]
    },
    {
     "name": "stdout",
     "output_type": "stream",
     "text": [
      "C:\\Users\\oceanvue\\Desktop\\DeepShip Dataset\\Cargo\\80\\80.wav\n"
     ]
    },
    {
     "name": "stderr",
     "output_type": "stream",
     "text": [
      "80it [02:48,  2.03s/it]"
     ]
    },
    {
     "name": "stdout",
     "output_type": "stream",
     "text": [
      "C:\\Users\\oceanvue\\Desktop\\DeepShip Dataset\\Cargo\\81\\81.wav\n"
     ]
    },
    {
     "name": "stderr",
     "output_type": "stream",
     "text": [
      "81it [02:51,  2.42s/it]"
     ]
    },
    {
     "name": "stdout",
     "output_type": "stream",
     "text": [
      "C:\\Users\\oceanvue\\Desktop\\DeepShip Dataset\\Cargo\\82\\82.wav\n"
     ]
    },
    {
     "name": "stderr",
     "output_type": "stream",
     "text": [
      "82it [02:52,  2.11s/it]"
     ]
    },
    {
     "name": "stdout",
     "output_type": "stream",
     "text": [
      "C:\\Users\\oceanvue\\Desktop\\DeepShip Dataset\\Cargo\\83\\83.wav\n"
     ]
    },
    {
     "name": "stderr",
     "output_type": "stream",
     "text": [
      "83it [02:54,  1.92s/it]"
     ]
    },
    {
     "name": "stdout",
     "output_type": "stream",
     "text": [
      "C:\\Users\\oceanvue\\Desktop\\DeepShip Dataset\\Cargo\\84\\84.wav\n"
     ]
    },
    {
     "name": "stderr",
     "output_type": "stream",
     "text": [
      "84it [02:56,  1.98s/it]"
     ]
    },
    {
     "name": "stdout",
     "output_type": "stream",
     "text": [
      "C:\\Users\\oceanvue\\Desktop\\DeepShip Dataset\\Cargo\\85\\85.wav\n"
     ]
    },
    {
     "name": "stderr",
     "output_type": "stream",
     "text": [
      "85it [02:59,  2.33s/it]"
     ]
    },
    {
     "name": "stdout",
     "output_type": "stream",
     "text": [
      "C:\\Users\\oceanvue\\Desktop\\DeepShip Dataset\\Cargo\\86\\86.wav\n"
     ]
    },
    {
     "name": "stderr",
     "output_type": "stream",
     "text": [
      "86it [03:00,  2.00s/it]"
     ]
    },
    {
     "name": "stdout",
     "output_type": "stream",
     "text": [
      "C:\\Users\\oceanvue\\Desktop\\DeepShip Dataset\\Cargo\\87\\87.wav\n"
     ]
    },
    {
     "name": "stderr",
     "output_type": "stream",
     "text": [
      "87it [03:03,  2.12s/it]"
     ]
    },
    {
     "name": "stdout",
     "output_type": "stream",
     "text": [
      "C:\\Users\\oceanvue\\Desktop\\DeepShip Dataset\\Cargo\\88\\88.wav\n"
     ]
    },
    {
     "name": "stderr",
     "output_type": "stream",
     "text": [
      "88it [03:06,  2.46s/it]"
     ]
    },
    {
     "name": "stdout",
     "output_type": "stream",
     "text": [
      "C:\\Users\\oceanvue\\Desktop\\DeepShip Dataset\\Cargo\\89\\89.wav\n"
     ]
    },
    {
     "name": "stderr",
     "output_type": "stream",
     "text": [
      "89it [03:08,  2.39s/it]"
     ]
    },
    {
     "name": "stdout",
     "output_type": "stream",
     "text": [
      "C:\\Users\\oceanvue\\Desktop\\DeepShip Dataset\\Cargo\\90\\90.wav\n"
     ]
    },
    {
     "name": "stderr",
     "output_type": "stream",
     "text": [
      "90it [03:10,  2.32s/it]"
     ]
    },
    {
     "name": "stdout",
     "output_type": "stream",
     "text": [
      "C:\\Users\\oceanvue\\Desktop\\DeepShip Dataset\\Cargo\\91\\91.wav\n"
     ]
    },
    {
     "name": "stderr",
     "output_type": "stream",
     "text": [
      "91it [03:12,  2.07s/it]"
     ]
    },
    {
     "name": "stdout",
     "output_type": "stream",
     "text": [
      "C:\\Users\\oceanvue\\Desktop\\DeepShip Dataset\\Cargo\\92\\92.wav\n"
     ]
    },
    {
     "name": "stderr",
     "output_type": "stream",
     "text": [
      "92it [03:14,  2.09s/it]"
     ]
    },
    {
     "name": "stdout",
     "output_type": "stream",
     "text": [
      "C:\\Users\\oceanvue\\Desktop\\DeepShip Dataset\\Cargo\\93\\93.wav\n"
     ]
    },
    {
     "name": "stderr",
     "output_type": "stream",
     "text": [
      "93it [03:15,  1.83s/it]"
     ]
    },
    {
     "name": "stdout",
     "output_type": "stream",
     "text": [
      "C:\\Users\\oceanvue\\Desktop\\DeepShip Dataset\\Cargo\\94\\94.wav\n"
     ]
    },
    {
     "name": "stderr",
     "output_type": "stream",
     "text": [
      "94it [03:18,  2.03s/it]"
     ]
    },
    {
     "name": "stdout",
     "output_type": "stream",
     "text": [
      "C:\\Users\\oceanvue\\Desktop\\DeepShip Dataset\\Cargo\\95\\95.wav\n"
     ]
    },
    {
     "name": "stderr",
     "output_type": "stream",
     "text": [
      "95it [03:19,  1.88s/it]"
     ]
    },
    {
     "name": "stdout",
     "output_type": "stream",
     "text": [
      "C:\\Users\\oceanvue\\Desktop\\DeepShip Dataset\\Cargo\\96\\96.wav\n"
     ]
    },
    {
     "name": "stderr",
     "output_type": "stream",
     "text": [
      "96it [03:21,  1.70s/it]"
     ]
    },
    {
     "name": "stdout",
     "output_type": "stream",
     "text": [
      "C:\\Users\\oceanvue\\Desktop\\DeepShip Dataset\\Cargo\\97\\97.wav\n"
     ]
    },
    {
     "name": "stderr",
     "output_type": "stream",
     "text": [
      "97it [03:22,  1.71s/it]"
     ]
    },
    {
     "name": "stdout",
     "output_type": "stream",
     "text": [
      "C:\\Users\\oceanvue\\Desktop\\DeepShip Dataset\\Cargo\\98\\98.wav\n"
     ]
    },
    {
     "name": "stderr",
     "output_type": "stream",
     "text": [
      "98it [03:26,  2.19s/it]"
     ]
    },
    {
     "name": "stdout",
     "output_type": "stream",
     "text": [
      "C:\\Users\\oceanvue\\Desktop\\DeepShip Dataset\\Cargo\\99\\99.wav\n"
     ]
    },
    {
     "name": "stderr",
     "output_type": "stream",
     "text": [
      "99it [03:27,  1.86s/it]"
     ]
    },
    {
     "name": "stdout",
     "output_type": "stream",
     "text": [
      "C:\\Users\\oceanvue\\Desktop\\DeepShip Dataset\\Cargo\\100\\100.wav\n"
     ]
    },
    {
     "name": "stderr",
     "output_type": "stream",
     "text": [
      "100it [03:29,  1.92s/it]"
     ]
    },
    {
     "name": "stdout",
     "output_type": "stream",
     "text": [
      "C:\\Users\\oceanvue\\Desktop\\DeepShip Dataset\\Cargo\\101\\101.wav\n"
     ]
    },
    {
     "name": "stderr",
     "output_type": "stream",
     "text": [
      "101it [03:31,  1.90s/it]"
     ]
    },
    {
     "name": "stdout",
     "output_type": "stream",
     "text": [
      "C:\\Users\\oceanvue\\Desktop\\DeepShip Dataset\\Cargo\\102\\102.wav\n"
     ]
    },
    {
     "name": "stderr",
     "output_type": "stream",
     "text": [
      "102it [03:33,  2.10s/it]"
     ]
    },
    {
     "name": "stdout",
     "output_type": "stream",
     "text": [
      "C:\\Users\\oceanvue\\Desktop\\DeepShip Dataset\\Cargo\\103\\103.wav\n"
     ]
    },
    {
     "name": "stderr",
     "output_type": "stream",
     "text": [
      "103it [03:34,  1.82s/it]"
     ]
    },
    {
     "name": "stdout",
     "output_type": "stream",
     "text": [
      "C:\\Users\\oceanvue\\Desktop\\DeepShip Dataset\\Cargo\\104\\104.wav\n"
     ]
    },
    {
     "name": "stderr",
     "output_type": "stream",
     "text": [
      "104it [03:36,  1.73s/it]"
     ]
    },
    {
     "name": "stdout",
     "output_type": "stream",
     "text": [
      "C:\\Users\\oceanvue\\Desktop\\DeepShip Dataset\\Cargo\\105\\105.wav\n"
     ]
    },
    {
     "name": "stderr",
     "output_type": "stream",
     "text": [
      "105it [03:39,  2.06s/it]"
     ]
    },
    {
     "name": "stdout",
     "output_type": "stream",
     "text": [
      "C:\\Users\\oceanvue\\Desktop\\DeepShip Dataset\\Cargo\\106\\106.wav\n"
     ]
    },
    {
     "name": "stderr",
     "output_type": "stream",
     "text": [
      "106it [03:41,  2.03s/it]"
     ]
    },
    {
     "name": "stdout",
     "output_type": "stream",
     "text": [
      "C:\\Users\\oceanvue\\Desktop\\DeepShip Dataset\\Cargo\\107\\107.wav\n"
     ]
    },
    {
     "name": "stderr",
     "output_type": "stream",
     "text": [
      "107it [03:42,  1.83s/it]"
     ]
    },
    {
     "name": "stdout",
     "output_type": "stream",
     "text": [
      "C:\\Users\\oceanvue\\Desktop\\DeepShip Dataset\\Cargo\\108\\108.wav\n"
     ]
    },
    {
     "name": "stderr",
     "output_type": "stream",
     "text": [
      "108it [03:44,  1.91s/it]"
     ]
    },
    {
     "name": "stdout",
     "output_type": "stream",
     "text": [
      "C:\\Users\\oceanvue\\Desktop\\DeepShip Dataset\\Cargo\\109\\109.wav\n"
     ]
    },
    {
     "name": "stderr",
     "output_type": "stream",
     "text": [
      "109it [03:48,  2.50s/it]"
     ]
    },
    {
     "name": "stdout",
     "output_type": "stream",
     "text": [
      "C:\\Users\\oceanvue\\Desktop\\DeepShip Dataset\\Passenger\\1\\1.wav\n"
     ]
    },
    {
     "name": "stderr",
     "output_type": "stream",
     "text": [
      "110it [03:48,  1.83s/it]"
     ]
    },
    {
     "name": "stdout",
     "output_type": "stream",
     "text": [
      "C:\\Users\\oceanvue\\Desktop\\DeepShip Dataset\\Passenger\\2\\2.wav\n"
     ]
    },
    {
     "name": "stderr",
     "output_type": "stream",
     "text": [
      "111it [03:50,  1.87s/it]"
     ]
    },
    {
     "name": "stdout",
     "output_type": "stream",
     "text": [
      "C:\\Users\\oceanvue\\Desktop\\DeepShip Dataset\\Passenger\\3\\3.wav\n"
     ]
    },
    {
     "name": "stderr",
     "output_type": "stream",
     "text": [
      "112it [03:54,  2.33s/it]"
     ]
    },
    {
     "name": "stdout",
     "output_type": "stream",
     "text": [
      "C:\\Users\\oceanvue\\Desktop\\DeepShip Dataset\\Passenger\\4\\4.wav\n"
     ]
    },
    {
     "name": "stderr",
     "output_type": "stream",
     "text": [
      "114it [03:55,  1.44s/it]"
     ]
    },
    {
     "name": "stdout",
     "output_type": "stream",
     "text": [
      "C:\\Users\\oceanvue\\Desktop\\DeepShip Dataset\\Passenger\\5\\5.wav\n",
      "C:\\Users\\oceanvue\\Desktop\\DeepShip Dataset\\Passenger\\6\\6.wav\n"
     ]
    },
    {
     "name": "stderr",
     "output_type": "stream",
     "text": [
      "115it [03:55,  1.08s/it]"
     ]
    },
    {
     "name": "stdout",
     "output_type": "stream",
     "text": [
      "C:\\Users\\oceanvue\\Desktop\\DeepShip Dataset\\Passenger\\7\\7.wav\n"
     ]
    },
    {
     "name": "stderr",
     "output_type": "stream",
     "text": [
      "117it [03:57,  1.00it/s]"
     ]
    },
    {
     "name": "stdout",
     "output_type": "stream",
     "text": [
      "C:\\Users\\oceanvue\\Desktop\\DeepShip Dataset\\Passenger\\8\\8.wav\n",
      "C:\\Users\\oceanvue\\Desktop\\DeepShip Dataset\\Passenger\\9\\9.wav\n"
     ]
    },
    {
     "name": "stderr",
     "output_type": "stream",
     "text": [
      "118it [03:57,  1.37it/s]"
     ]
    },
    {
     "name": "stdout",
     "output_type": "stream",
     "text": [
      "C:\\Users\\oceanvue\\Desktop\\DeepShip Dataset\\Passenger\\10\\10.wav\n"
     ]
    },
    {
     "name": "stderr",
     "output_type": "stream",
     "text": [
      "119it [04:00,  1.16s/it]"
     ]
    },
    {
     "name": "stdout",
     "output_type": "stream",
     "text": [
      "C:\\Users\\oceanvue\\Desktop\\DeepShip Dataset\\Passenger\\11\\11.wav\n"
     ]
    },
    {
     "name": "stderr",
     "output_type": "stream",
     "text": [
      "121it [04:03,  1.20s/it]"
     ]
    },
    {
     "name": "stdout",
     "output_type": "stream",
     "text": [
      "C:\\Users\\oceanvue\\Desktop\\DeepShip Dataset\\Passenger\\12\\12.wav\n",
      "C:\\Users\\oceanvue\\Desktop\\DeepShip Dataset\\Passenger\\13\\13.wav\n"
     ]
    },
    {
     "name": "stderr",
     "output_type": "stream",
     "text": [
      "122it [04:04,  1.25s/it]"
     ]
    },
    {
     "name": "stdout",
     "output_type": "stream",
     "text": [
      "C:\\Users\\oceanvue\\Desktop\\DeepShip Dataset\\Passenger\\14\\14.wav\n"
     ]
    },
    {
     "name": "stderr",
     "output_type": "stream",
     "text": [
      "123it [04:04,  1.02it/s]"
     ]
    },
    {
     "name": "stdout",
     "output_type": "stream",
     "text": [
      "C:\\Users\\oceanvue\\Desktop\\DeepShip Dataset\\Passenger\\15\\15.wav\n"
     ]
    },
    {
     "name": "stderr",
     "output_type": "stream",
     "text": [
      "125it [04:07,  1.07s/it]"
     ]
    },
    {
     "name": "stdout",
     "output_type": "stream",
     "text": [
      "C:\\Users\\oceanvue\\Desktop\\DeepShip Dataset\\Passenger\\16\\16.wav\n",
      "C:\\Users\\oceanvue\\Desktop\\DeepShip Dataset\\Passenger\\17\\17.wav\n"
     ]
    },
    {
     "name": "stderr",
     "output_type": "stream",
     "text": [
      "126it [04:07,  1.23it/s]"
     ]
    },
    {
     "name": "stdout",
     "output_type": "stream",
     "text": [
      "C:\\Users\\oceanvue\\Desktop\\DeepShip Dataset\\Passenger\\18\\18.wav\n"
     ]
    },
    {
     "name": "stderr",
     "output_type": "stream",
     "text": [
      "127it [04:09,  1.00s/it]"
     ]
    },
    {
     "name": "stdout",
     "output_type": "stream",
     "text": [
      "C:\\Users\\oceanvue\\Desktop\\DeepShip Dataset\\Passenger\\19\\19.wav\n"
     ]
    },
    {
     "name": "stderr",
     "output_type": "stream",
     "text": [
      "128it [04:10,  1.01s/it]"
     ]
    },
    {
     "name": "stdout",
     "output_type": "stream",
     "text": [
      "C:\\Users\\oceanvue\\Desktop\\DeepShip Dataset\\Passenger\\20\\20.wav\n"
     ]
    },
    {
     "name": "stderr",
     "output_type": "stream",
     "text": [
      "129it [04:12,  1.39s/it]"
     ]
    },
    {
     "name": "stdout",
     "output_type": "stream",
     "text": [
      "C:\\Users\\oceanvue\\Desktop\\DeepShip Dataset\\Passenger\\21\\21.wav\n"
     ]
    },
    {
     "name": "stderr",
     "output_type": "stream",
     "text": [
      "130it [04:17,  2.35s/it]"
     ]
    },
    {
     "name": "stdout",
     "output_type": "stream",
     "text": [
      "C:\\Users\\oceanvue\\Desktop\\DeepShip Dataset\\Passenger\\22\\22.wav\n"
     ]
    },
    {
     "name": "stderr",
     "output_type": "stream",
     "text": [
      "131it [04:19,  2.31s/it]"
     ]
    },
    {
     "name": "stdout",
     "output_type": "stream",
     "text": [
      "C:\\Users\\oceanvue\\Desktop\\DeepShip Dataset\\Passenger\\23\\23.wav\n"
     ]
    },
    {
     "name": "stderr",
     "output_type": "stream",
     "text": [
      "132it [04:20,  1.86s/it]"
     ]
    },
    {
     "name": "stdout",
     "output_type": "stream",
     "text": [
      "C:\\Users\\oceanvue\\Desktop\\DeepShip Dataset\\Passenger\\24\\24.wav\n"
     ]
    },
    {
     "name": "stderr",
     "output_type": "stream",
     "text": [
      "133it [04:26,  3.22s/it]"
     ]
    },
    {
     "name": "stdout",
     "output_type": "stream",
     "text": [
      "C:\\Users\\oceanvue\\Desktop\\DeepShip Dataset\\Passenger\\25\\25.wav\n"
     ]
    },
    {
     "name": "stderr",
     "output_type": "stream",
     "text": [
      "134it [04:27,  2.47s/it]"
     ]
    },
    {
     "name": "stdout",
     "output_type": "stream",
     "text": [
      "C:\\Users\\oceanvue\\Desktop\\DeepShip Dataset\\Passenger\\26\\26.wav\n"
     ]
    },
    {
     "name": "stderr",
     "output_type": "stream",
     "text": [
      "135it [04:29,  2.29s/it]"
     ]
    },
    {
     "name": "stdout",
     "output_type": "stream",
     "text": [
      "C:\\Users\\oceanvue\\Desktop\\DeepShip Dataset\\Passenger\\27\\27.wav\n"
     ]
    },
    {
     "name": "stderr",
     "output_type": "stream",
     "text": [
      "136it [04:29,  1.68s/it]"
     ]
    },
    {
     "name": "stdout",
     "output_type": "stream",
     "text": [
      "C:\\Users\\oceanvue\\Desktop\\DeepShip Dataset\\Passenger\\28\\28.wav\n"
     ]
    },
    {
     "name": "stderr",
     "output_type": "stream",
     "text": [
      "137it [04:30,  1.64s/it]"
     ]
    },
    {
     "name": "stdout",
     "output_type": "stream",
     "text": [
      "C:\\Users\\oceanvue\\Desktop\\DeepShip Dataset\\Passenger\\29\\29.wav\n"
     ]
    },
    {
     "name": "stderr",
     "output_type": "stream",
     "text": [
      "140it [04:31,  1.42it/s]"
     ]
    },
    {
     "name": "stdout",
     "output_type": "stream",
     "text": [
      "C:\\Users\\oceanvue\\Desktop\\DeepShip Dataset\\Passenger\\30\\30.wav\n",
      "C:\\Users\\oceanvue\\Desktop\\DeepShip Dataset\\Passenger\\31\\31.wav\n",
      "C:\\Users\\oceanvue\\Desktop\\DeepShip Dataset\\Passenger\\32\\32.wav\n"
     ]
    },
    {
     "name": "stderr",
     "output_type": "stream",
     "text": [
      "141it [04:31,  1.58it/s]"
     ]
    },
    {
     "name": "stdout",
     "output_type": "stream",
     "text": [
      "C:\\Users\\oceanvue\\Desktop\\DeepShip Dataset\\Passenger\\33\\33.wav\n"
     ]
    },
    {
     "name": "stderr",
     "output_type": "stream",
     "text": [
      "142it [04:32,  1.53it/s]"
     ]
    },
    {
     "name": "stdout",
     "output_type": "stream",
     "text": [
      "C:\\Users\\oceanvue\\Desktop\\DeepShip Dataset\\Passenger\\34\\34.wav\n"
     ]
    },
    {
     "name": "stderr",
     "output_type": "stream",
     "text": [
      "143it [04:34,  1.03s/it]"
     ]
    },
    {
     "name": "stdout",
     "output_type": "stream",
     "text": [
      "C:\\Users\\oceanvue\\Desktop\\DeepShip Dataset\\Passenger\\35\\35.wav\n"
     ]
    },
    {
     "name": "stderr",
     "output_type": "stream",
     "text": [
      "144it [04:36,  1.21s/it]"
     ]
    },
    {
     "name": "stdout",
     "output_type": "stream",
     "text": [
      "C:\\Users\\oceanvue\\Desktop\\DeepShip Dataset\\Passenger\\36\\36.wav\n"
     ]
    },
    {
     "name": "stderr",
     "output_type": "stream",
     "text": [
      "145it [04:37,  1.34s/it]"
     ]
    },
    {
     "name": "stdout",
     "output_type": "stream",
     "text": [
      "C:\\Users\\oceanvue\\Desktop\\DeepShip Dataset\\Passenger\\37\\37.wav\n"
     ]
    },
    {
     "name": "stderr",
     "output_type": "stream",
     "text": [
      "146it [04:38,  1.24s/it]"
     ]
    },
    {
     "name": "stdout",
     "output_type": "stream",
     "text": [
      "C:\\Users\\oceanvue\\Desktop\\DeepShip Dataset\\Passenger\\38\\38.wav\n"
     ]
    },
    {
     "name": "stderr",
     "output_type": "stream",
     "text": [
      "147it [04:40,  1.31s/it]"
     ]
    },
    {
     "name": "stdout",
     "output_type": "stream",
     "text": [
      "C:\\Users\\oceanvue\\Desktop\\DeepShip Dataset\\Passenger\\39\\39.wav\n"
     ]
    },
    {
     "name": "stderr",
     "output_type": "stream",
     "text": [
      "148it [04:42,  1.44s/it]"
     ]
    },
    {
     "name": "stdout",
     "output_type": "stream",
     "text": [
      "C:\\Users\\oceanvue\\Desktop\\DeepShip Dataset\\Passenger\\40\\40.wav\n"
     ]
    },
    {
     "name": "stderr",
     "output_type": "stream",
     "text": [
      "150it [04:44,  1.29s/it]"
     ]
    },
    {
     "name": "stdout",
     "output_type": "stream",
     "text": [
      "C:\\Users\\oceanvue\\Desktop\\DeepShip Dataset\\Passenger\\41\\41.wav\n",
      "C:\\Users\\oceanvue\\Desktop\\DeepShip Dataset\\Passenger\\42\\42.wav\n"
     ]
    },
    {
     "name": "stderr",
     "output_type": "stream",
     "text": [
      "151it [04:46,  1.47s/it]"
     ]
    },
    {
     "name": "stdout",
     "output_type": "stream",
     "text": [
      "C:\\Users\\oceanvue\\Desktop\\DeepShip Dataset\\Passenger\\43\\43.wav\n"
     ]
    },
    {
     "name": "stderr",
     "output_type": "stream",
     "text": [
      "152it [04:48,  1.53s/it]"
     ]
    },
    {
     "name": "stdout",
     "output_type": "stream",
     "text": [
      "C:\\Users\\oceanvue\\Desktop\\DeepShip Dataset\\Passenger\\44\\44.wav\n"
     ]
    },
    {
     "name": "stderr",
     "output_type": "stream",
     "text": [
      "153it [04:49,  1.49s/it]"
     ]
    },
    {
     "name": "stdout",
     "output_type": "stream",
     "text": [
      "C:\\Users\\oceanvue\\Desktop\\DeepShip Dataset\\Passenger\\45\\45.wav\n"
     ]
    },
    {
     "name": "stderr",
     "output_type": "stream",
     "text": [
      "154it [04:51,  1.63s/it]"
     ]
    },
    {
     "name": "stdout",
     "output_type": "stream",
     "text": [
      "C:\\Users\\oceanvue\\Desktop\\DeepShip Dataset\\Passenger\\46\\46.wav\n"
     ]
    },
    {
     "name": "stderr",
     "output_type": "stream",
     "text": [
      "155it [04:53,  1.74s/it]"
     ]
    },
    {
     "name": "stdout",
     "output_type": "stream",
     "text": [
      "C:\\Users\\oceanvue\\Desktop\\DeepShip Dataset\\Passenger\\47\\47.wav\n"
     ]
    },
    {
     "name": "stderr",
     "output_type": "stream",
     "text": [
      "156it [04:55,  1.78s/it]"
     ]
    },
    {
     "name": "stdout",
     "output_type": "stream",
     "text": [
      "C:\\Users\\oceanvue\\Desktop\\DeepShip Dataset\\Passenger\\48\\48.wav\n"
     ]
    },
    {
     "name": "stderr",
     "output_type": "stream",
     "text": [
      "157it [04:57,  1.90s/it]"
     ]
    },
    {
     "name": "stdout",
     "output_type": "stream",
     "text": [
      "C:\\Users\\oceanvue\\Desktop\\DeepShip Dataset\\Passenger\\49\\49.wav\n"
     ]
    },
    {
     "name": "stderr",
     "output_type": "stream",
     "text": [
      "158it [05:01,  2.36s/it]"
     ]
    },
    {
     "name": "stdout",
     "output_type": "stream",
     "text": [
      "C:\\Users\\oceanvue\\Desktop\\DeepShip Dataset\\Passenger\\50\\50.wav\n"
     ]
    },
    {
     "name": "stderr",
     "output_type": "stream",
     "text": [
      "159it [05:02,  1.95s/it]"
     ]
    },
    {
     "name": "stdout",
     "output_type": "stream",
     "text": [
      "C:\\Users\\oceanvue\\Desktop\\DeepShip Dataset\\Passenger\\51\\51.wav\n"
     ]
    },
    {
     "name": "stderr",
     "output_type": "stream",
     "text": [
      "160it [05:03,  1.90s/it]"
     ]
    },
    {
     "name": "stdout",
     "output_type": "stream",
     "text": [
      "C:\\Users\\oceanvue\\Desktop\\DeepShip Dataset\\Passenger\\52\\52.wav\n"
     ]
    },
    {
     "name": "stderr",
     "output_type": "stream",
     "text": [
      "161it [05:05,  1.86s/it]"
     ]
    },
    {
     "name": "stdout",
     "output_type": "stream",
     "text": [
      "C:\\Users\\oceanvue\\Desktop\\DeepShip Dataset\\Passenger\\53\\53.wav\n"
     ]
    },
    {
     "name": "stderr",
     "output_type": "stream",
     "text": [
      "162it [05:06,  1.42s/it]"
     ]
    },
    {
     "name": "stdout",
     "output_type": "stream",
     "text": [
      "C:\\Users\\oceanvue\\Desktop\\DeepShip Dataset\\Passenger\\54\\54.wav\n"
     ]
    },
    {
     "name": "stderr",
     "output_type": "stream",
     "text": [
      "163it [05:13,  3.27s/it]"
     ]
    },
    {
     "name": "stdout",
     "output_type": "stream",
     "text": [
      "C:\\Users\\oceanvue\\Desktop\\DeepShip Dataset\\Passenger\\55\\55.wav\n"
     ]
    },
    {
     "name": "stderr",
     "output_type": "stream",
     "text": [
      "164it [05:16,  3.13s/it]"
     ]
    },
    {
     "name": "stdout",
     "output_type": "stream",
     "text": [
      "C:\\Users\\oceanvue\\Desktop\\DeepShip Dataset\\Passenger\\56\\56.wav\n"
     ]
    },
    {
     "name": "stderr",
     "output_type": "stream",
     "text": [
      "165it [05:17,  2.58s/it]"
     ]
    },
    {
     "name": "stdout",
     "output_type": "stream",
     "text": [
      "C:\\Users\\oceanvue\\Desktop\\DeepShip Dataset\\Passenger\\57\\57.wav\n"
     ]
    },
    {
     "name": "stderr",
     "output_type": "stream",
     "text": [
      "166it [05:20,  2.74s/it]"
     ]
    },
    {
     "name": "stdout",
     "output_type": "stream",
     "text": [
      "C:\\Users\\oceanvue\\Desktop\\DeepShip Dataset\\Passenger\\58\\58.wav\n"
     ]
    },
    {
     "name": "stderr",
     "output_type": "stream",
     "text": [
      "167it [05:23,  2.83s/it]"
     ]
    },
    {
     "name": "stdout",
     "output_type": "stream",
     "text": [
      "C:\\Users\\oceanvue\\Desktop\\DeepShip Dataset\\Passenger\\59\\59.wav\n"
     ]
    },
    {
     "name": "stderr",
     "output_type": "stream",
     "text": [
      "169it [05:24,  1.59s/it]"
     ]
    },
    {
     "name": "stdout",
     "output_type": "stream",
     "text": [
      "C:\\Users\\oceanvue\\Desktop\\DeepShip Dataset\\Passenger\\60\\60.wav\n",
      "C:\\Users\\oceanvue\\Desktop\\DeepShip Dataset\\Passenger\\61\\61.wav\n"
     ]
    },
    {
     "name": "stderr",
     "output_type": "stream",
     "text": [
      "170it [05:25,  1.39s/it]"
     ]
    },
    {
     "name": "stdout",
     "output_type": "stream",
     "text": [
      "C:\\Users\\oceanvue\\Desktop\\DeepShip Dataset\\Passenger\\62\\62.wav\n"
     ]
    },
    {
     "name": "stderr",
     "output_type": "stream",
     "text": [
      "172it [05:27,  1.05it/s]"
     ]
    },
    {
     "name": "stdout",
     "output_type": "stream",
     "text": [
      "C:\\Users\\oceanvue\\Desktop\\DeepShip Dataset\\Passenger\\63\\63.wav\n",
      "C:\\Users\\oceanvue\\Desktop\\DeepShip Dataset\\Passenger\\64\\64.wav\n"
     ]
    },
    {
     "name": "stderr",
     "output_type": "stream",
     "text": [
      "173it [05:27,  1.39it/s]"
     ]
    },
    {
     "name": "stdout",
     "output_type": "stream",
     "text": [
      "C:\\Users\\oceanvue\\Desktop\\DeepShip Dataset\\Passenger\\65\\65.wav\n"
     ]
    },
    {
     "name": "stderr",
     "output_type": "stream",
     "text": [
      "174it [05:29,  1.06s/it]"
     ]
    },
    {
     "name": "stdout",
     "output_type": "stream",
     "text": [
      "C:\\Users\\oceanvue\\Desktop\\DeepShip Dataset\\Passenger\\66\\66.wav\n"
     ]
    },
    {
     "name": "stderr",
     "output_type": "stream",
     "text": [
      "175it [05:29,  1.17it/s]"
     ]
    },
    {
     "name": "stdout",
     "output_type": "stream",
     "text": [
      "C:\\Users\\oceanvue\\Desktop\\DeepShip Dataset\\Passenger\\67\\67.wav\n"
     ]
    },
    {
     "name": "stderr",
     "output_type": "stream",
     "text": [
      "176it [05:31,  1.10s/it]"
     ]
    },
    {
     "name": "stdout",
     "output_type": "stream",
     "text": [
      "C:\\Users\\oceanvue\\Desktop\\DeepShip Dataset\\Passenger\\68\\68.wav\n"
     ]
    },
    {
     "name": "stderr",
     "output_type": "stream",
     "text": [
      "177it [05:31,  1.02it/s]"
     ]
    },
    {
     "name": "stdout",
     "output_type": "stream",
     "text": [
      "C:\\Users\\oceanvue\\Desktop\\DeepShip Dataset\\Passenger\\69\\69.wav\n"
     ]
    },
    {
     "name": "stderr",
     "output_type": "stream",
     "text": [
      "179it [05:32,  1.64it/s]"
     ]
    },
    {
     "name": "stdout",
     "output_type": "stream",
     "text": [
      "C:\\Users\\oceanvue\\Desktop\\DeepShip Dataset\\Passenger\\70\\70.wav\n",
      "C:\\Users\\oceanvue\\Desktop\\DeepShip Dataset\\Passenger\\71\\71.wav\n"
     ]
    },
    {
     "name": "stderr",
     "output_type": "stream",
     "text": [
      "180it [05:34,  1.04s/it]"
     ]
    },
    {
     "name": "stdout",
     "output_type": "stream",
     "text": [
      "C:\\Users\\oceanvue\\Desktop\\DeepShip Dataset\\Passenger\\72\\72.wav\n"
     ]
    },
    {
     "name": "stderr",
     "output_type": "stream",
     "text": [
      "181it [05:35,  1.16s/it]"
     ]
    },
    {
     "name": "stdout",
     "output_type": "stream",
     "text": [
      "C:\\Users\\oceanvue\\Desktop\\DeepShip Dataset\\Passenger\\73\\73.wav\n",
      "C:\\Users\\oceanvue\\Desktop\\DeepShip Dataset\\Passenger\\74\\74.wav\n"
     ]
    },
    {
     "name": "stderr",
     "output_type": "stream",
     "text": [
      "183it [05:38,  1.13s/it]"
     ]
    },
    {
     "name": "stdout",
     "output_type": "stream",
     "text": [
      "C:\\Users\\oceanvue\\Desktop\\DeepShip Dataset\\Passenger\\75\\75.wav\n"
     ]
    },
    {
     "name": "stderr",
     "output_type": "stream",
     "text": [
      "184it [05:40,  1.36s/it]"
     ]
    },
    {
     "name": "stdout",
     "output_type": "stream",
     "text": [
      "C:\\Users\\oceanvue\\Desktop\\DeepShip Dataset\\Passenger\\76\\76.wav\n"
     ]
    },
    {
     "name": "stderr",
     "output_type": "stream",
     "text": [
      "185it [05:43,  1.87s/it]"
     ]
    },
    {
     "name": "stdout",
     "output_type": "stream",
     "text": [
      "C:\\Users\\oceanvue\\Desktop\\DeepShip Dataset\\Passenger\\77\\77.wav\n"
     ]
    },
    {
     "name": "stderr",
     "output_type": "stream",
     "text": [
      "186it [05:44,  1.70s/it]"
     ]
    },
    {
     "name": "stdout",
     "output_type": "stream",
     "text": [
      "C:\\Users\\oceanvue\\Desktop\\DeepShip Dataset\\Passenger\\78\\78.wav\n"
     ]
    },
    {
     "name": "stderr",
     "output_type": "stream",
     "text": [
      "187it [05:44,  1.28s/it]"
     ]
    },
    {
     "name": "stdout",
     "output_type": "stream",
     "text": [
      "C:\\Users\\oceanvue\\Desktop\\DeepShip Dataset\\Passenger\\79\\79.wav\n"
     ]
    },
    {
     "name": "stderr",
     "output_type": "stream",
     "text": [
      "188it [05:45,  1.01it/s]"
     ]
    },
    {
     "name": "stdout",
     "output_type": "stream",
     "text": [
      "C:\\Users\\oceanvue\\Desktop\\DeepShip Dataset\\Passenger\\80\\80.wav\n"
     ]
    },
    {
     "name": "stderr",
     "output_type": "stream",
     "text": [
      "189it [05:45,  1.25it/s]"
     ]
    },
    {
     "name": "stdout",
     "output_type": "stream",
     "text": [
      "C:\\Users\\oceanvue\\Desktop\\DeepShip Dataset\\Passenger\\81\\81.wav\n",
      "C:\\Users\\oceanvue\\Desktop\\DeepShip Dataset\\Passenger\\82\\82.wav\n"
     ]
    },
    {
     "name": "stderr",
     "output_type": "stream",
     "text": [
      "191it [05:45,  1.94it/s]"
     ]
    },
    {
     "name": "stdout",
     "output_type": "stream",
     "text": [
      "C:\\Users\\oceanvue\\Desktop\\DeepShip Dataset\\Passenger\\83\\83.wav\n"
     ]
    },
    {
     "name": "stderr",
     "output_type": "stream",
     "text": [
      "192it [05:46,  1.67it/s]"
     ]
    },
    {
     "name": "stdout",
     "output_type": "stream",
     "text": [
      "C:\\Users\\oceanvue\\Desktop\\DeepShip Dataset\\Passenger\\84\\84.wav\n"
     ]
    },
    {
     "name": "stderr",
     "output_type": "stream",
     "text": [
      "193it [05:47,  1.57it/s]"
     ]
    },
    {
     "name": "stdout",
     "output_type": "stream",
     "text": [
      "C:\\Users\\oceanvue\\Desktop\\DeepShip Dataset\\Passenger\\85\\85.wav\n"
     ]
    },
    {
     "name": "stderr",
     "output_type": "stream",
     "text": [
      "194it [05:49,  1.06s/it]"
     ]
    },
    {
     "name": "stdout",
     "output_type": "stream",
     "text": [
      "C:\\Users\\oceanvue\\Desktop\\DeepShip Dataset\\Passenger\\86\\86.wav\n"
     ]
    },
    {
     "name": "stderr",
     "output_type": "stream",
     "text": [
      "195it [05:49,  1.15it/s]"
     ]
    },
    {
     "name": "stdout",
     "output_type": "stream",
     "text": [
      "C:\\Users\\oceanvue\\Desktop\\DeepShip Dataset\\Passenger\\87\\87.wav\n"
     ]
    },
    {
     "name": "stderr",
     "output_type": "stream",
     "text": [
      "196it [05:52,  1.24s/it]"
     ]
    },
    {
     "name": "stdout",
     "output_type": "stream",
     "text": [
      "C:\\Users\\oceanvue\\Desktop\\DeepShip Dataset\\Passenger\\88\\88.wav\n"
     ]
    },
    {
     "name": "stderr",
     "output_type": "stream",
     "text": [
      "197it [05:53,  1.37s/it]"
     ]
    },
    {
     "name": "stdout",
     "output_type": "stream",
     "text": [
      "C:\\Users\\oceanvue\\Desktop\\DeepShip Dataset\\Passenger\\89\\89.wav\n"
     ]
    },
    {
     "name": "stderr",
     "output_type": "stream",
     "text": [
      "198it [05:54,  1.08s/it]"
     ]
    },
    {
     "name": "stdout",
     "output_type": "stream",
     "text": [
      "C:\\Users\\oceanvue\\Desktop\\DeepShip Dataset\\Passenger\\90\\90.wav\n"
     ]
    },
    {
     "name": "stderr",
     "output_type": "stream",
     "text": [
      "199it [05:55,  1.28s/it]"
     ]
    },
    {
     "name": "stdout",
     "output_type": "stream",
     "text": [
      "C:\\Users\\oceanvue\\Desktop\\DeepShip Dataset\\Passenger\\91\\91.wav\n"
     ]
    },
    {
     "name": "stderr",
     "output_type": "stream",
     "text": [
      "200it [05:56,  1.03it/s]"
     ]
    },
    {
     "name": "stdout",
     "output_type": "stream",
     "text": [
      "C:\\Users\\oceanvue\\Desktop\\DeepShip Dataset\\Passenger\\92\\92.wav\n"
     ]
    },
    {
     "name": "stderr",
     "output_type": "stream",
     "text": [
      "201it [05:57,  1.16s/it]"
     ]
    },
    {
     "name": "stdout",
     "output_type": "stream",
     "text": [
      "C:\\Users\\oceanvue\\Desktop\\DeepShip Dataset\\Passenger\\93\\93.wav\n"
     ]
    },
    {
     "name": "stderr",
     "output_type": "stream",
     "text": [
      "202it [05:58,  1.04s/it]"
     ]
    },
    {
     "name": "stdout",
     "output_type": "stream",
     "text": [
      "C:\\Users\\oceanvue\\Desktop\\DeepShip Dataset\\Passenger\\94\\94.wav\n"
     ]
    },
    {
     "name": "stderr",
     "output_type": "stream",
     "text": [
      "203it [06:01,  1.57s/it]"
     ]
    },
    {
     "name": "stdout",
     "output_type": "stream",
     "text": [
      "C:\\Users\\oceanvue\\Desktop\\DeepShip Dataset\\Passenger\\95\\95.wav\n"
     ]
    },
    {
     "name": "stderr",
     "output_type": "stream",
     "text": [
      "204it [06:02,  1.42s/it]"
     ]
    },
    {
     "name": "stdout",
     "output_type": "stream",
     "text": [
      "C:\\Users\\oceanvue\\Desktop\\DeepShip Dataset\\Passenger\\96\\96.wav\n"
     ]
    },
    {
     "name": "stderr",
     "output_type": "stream",
     "text": [
      "205it [06:13,  4.23s/it]"
     ]
    },
    {
     "name": "stdout",
     "output_type": "stream",
     "text": [
      "C:\\Users\\oceanvue\\Desktop\\DeepShip Dataset\\Passenger\\97\\97.wav\n"
     ]
    },
    {
     "name": "stderr",
     "output_type": "stream",
     "text": [
      "206it [06:13,  3.04s/it]"
     ]
    },
    {
     "name": "stdout",
     "output_type": "stream",
     "text": [
      "C:\\Users\\oceanvue\\Desktop\\DeepShip Dataset\\Passenger\\98\\98.wav\n"
     ]
    },
    {
     "name": "stderr",
     "output_type": "stream",
     "text": [
      "207it [06:14,  2.45s/it]"
     ]
    },
    {
     "name": "stdout",
     "output_type": "stream",
     "text": [
      "C:\\Users\\oceanvue\\Desktop\\DeepShip Dataset\\Passenger\\99\\99.wav\n"
     ]
    },
    {
     "name": "stderr",
     "output_type": "stream",
     "text": [
      "208it [06:16,  2.21s/it]"
     ]
    },
    {
     "name": "stdout",
     "output_type": "stream",
     "text": [
      "C:\\Users\\oceanvue\\Desktop\\DeepShip Dataset\\Passenger\\100\\100.wav\n"
     ]
    },
    {
     "name": "stderr",
     "output_type": "stream",
     "text": [
      "209it [06:16,  1.68s/it]"
     ]
    },
    {
     "name": "stdout",
     "output_type": "stream",
     "text": [
      "C:\\Users\\oceanvue\\Desktop\\DeepShip Dataset\\Passenger\\101\\101.wav\n"
     ]
    },
    {
     "name": "stderr",
     "output_type": "stream",
     "text": [
      "210it [06:20,  2.46s/it]"
     ]
    },
    {
     "name": "stdout",
     "output_type": "stream",
     "text": [
      "C:\\Users\\oceanvue\\Desktop\\DeepShip Dataset\\Passenger\\102\\102.wav\n"
     ]
    },
    {
     "name": "stderr",
     "output_type": "stream",
     "text": [
      "211it [06:22,  2.22s/it]"
     ]
    },
    {
     "name": "stdout",
     "output_type": "stream",
     "text": [
      "C:\\Users\\oceanvue\\Desktop\\DeepShip Dataset\\Passenger\\103\\103.wav\n"
     ]
    },
    {
     "name": "stderr",
     "output_type": "stream",
     "text": [
      "213it [06:26,  2.00s/it]"
     ]
    },
    {
     "name": "stdout",
     "output_type": "stream",
     "text": [
      "C:\\Users\\oceanvue\\Desktop\\DeepShip Dataset\\Passenger\\104\\104.wav\n",
      "C:\\Users\\oceanvue\\Desktop\\DeepShip Dataset\\Passenger\\105\\105.wav\n"
     ]
    },
    {
     "name": "stderr",
     "output_type": "stream",
     "text": [
      "214it [06:28,  1.94s/it]"
     ]
    },
    {
     "name": "stdout",
     "output_type": "stream",
     "text": [
      "C:\\Users\\oceanvue\\Desktop\\DeepShip Dataset\\Passenger\\106\\106.wav\n"
     ]
    },
    {
     "name": "stderr",
     "output_type": "stream",
     "text": [
      "215it [06:29,  1.45s/it]"
     ]
    },
    {
     "name": "stdout",
     "output_type": "stream",
     "text": [
      "C:\\Users\\oceanvue\\Desktop\\DeepShip Dataset\\Passenger\\107\\107.wav\n"
     ]
    },
    {
     "name": "stderr",
     "output_type": "stream",
     "text": [
      "216it [06:32,  2.17s/it]"
     ]
    },
    {
     "name": "stdout",
     "output_type": "stream",
     "text": [
      "C:\\Users\\oceanvue\\Desktop\\DeepShip Dataset\\Passenger\\108\\108.wav\n"
     ]
    },
    {
     "name": "stderr",
     "output_type": "stream",
     "text": [
      "217it [06:34,  2.00s/it]"
     ]
    },
    {
     "name": "stdout",
     "output_type": "stream",
     "text": [
      "C:\\Users\\oceanvue\\Desktop\\DeepShip Dataset\\Passenger\\109\\109.wav\n"
     ]
    },
    {
     "name": "stderr",
     "output_type": "stream",
     "text": [
      "218it [06:35,  1.62s/it]"
     ]
    },
    {
     "name": "stdout",
     "output_type": "stream",
     "text": [
      "C:\\Users\\oceanvue\\Desktop\\DeepShip Dataset\\Passenger\\110\\110.wav\n"
     ]
    },
    {
     "name": "stderr",
     "output_type": "stream",
     "text": [
      "219it [06:35,  1.28s/it]"
     ]
    },
    {
     "name": "stdout",
     "output_type": "stream",
     "text": [
      "C:\\Users\\oceanvue\\Desktop\\DeepShip Dataset\\Passenger\\111\\111.wav\n"
     ]
    },
    {
     "name": "stderr",
     "output_type": "stream",
     "text": [
      "220it [06:36,  1.05s/it]"
     ]
    },
    {
     "name": "stdout",
     "output_type": "stream",
     "text": [
      "C:\\Users\\oceanvue\\Desktop\\DeepShip Dataset\\Passenger\\112\\112.wav\n"
     ]
    },
    {
     "name": "stderr",
     "output_type": "stream",
     "text": [
      "221it [06:38,  1.40s/it]"
     ]
    },
    {
     "name": "stdout",
     "output_type": "stream",
     "text": [
      "C:\\Users\\oceanvue\\Desktop\\DeepShip Dataset\\Passenger\\113\\113.wav\n"
     ]
    },
    {
     "name": "stderr",
     "output_type": "stream",
     "text": [
      "222it [06:39,  1.24s/it]"
     ]
    },
    {
     "name": "stdout",
     "output_type": "stream",
     "text": [
      "C:\\Users\\oceanvue\\Desktop\\DeepShip Dataset\\Passenger\\114\\114.wav\n"
     ]
    },
    {
     "name": "stderr",
     "output_type": "stream",
     "text": [
      "223it [06:42,  1.79s/it]"
     ]
    },
    {
     "name": "stdout",
     "output_type": "stream",
     "text": [
      "C:\\Users\\oceanvue\\Desktop\\DeepShip Dataset\\Passenger\\115\\115.wav\n"
     ]
    },
    {
     "name": "stderr",
     "output_type": "stream",
     "text": [
      "224it [06:45,  2.18s/it]"
     ]
    },
    {
     "name": "stdout",
     "output_type": "stream",
     "text": [
      "C:\\Users\\oceanvue\\Desktop\\DeepShip Dataset\\Passenger\\116\\116.wav\n"
     ]
    },
    {
     "name": "stderr",
     "output_type": "stream",
     "text": [
      "225it [06:47,  2.22s/it]"
     ]
    },
    {
     "name": "stdout",
     "output_type": "stream",
     "text": [
      "C:\\Users\\oceanvue\\Desktop\\DeepShip Dataset\\Passenger\\117\\117.wav\n"
     ]
    },
    {
     "name": "stderr",
     "output_type": "stream",
     "text": [
      "226it [06:50,  2.31s/it]"
     ]
    },
    {
     "name": "stdout",
     "output_type": "stream",
     "text": [
      "C:\\Users\\oceanvue\\Desktop\\DeepShip Dataset\\Passenger\\118\\118.wav\n"
     ]
    },
    {
     "name": "stderr",
     "output_type": "stream",
     "text": [
      "227it [06:51,  1.93s/it]"
     ]
    },
    {
     "name": "stdout",
     "output_type": "stream",
     "text": [
      "C:\\Users\\oceanvue\\Desktop\\DeepShip Dataset\\Passenger\\119\\119.wav\n"
     ]
    },
    {
     "name": "stderr",
     "output_type": "stream",
     "text": [
      "228it [06:51,  1.42s/it]"
     ]
    },
    {
     "name": "stdout",
     "output_type": "stream",
     "text": [
      "C:\\Users\\oceanvue\\Desktop\\DeepShip Dataset\\Passenger\\120\\120.wav\n"
     ]
    },
    {
     "name": "stderr",
     "output_type": "stream",
     "text": [
      "229it [06:52,  1.28s/it]"
     ]
    },
    {
     "name": "stdout",
     "output_type": "stream",
     "text": [
      "C:\\Users\\oceanvue\\Desktop\\DeepShip Dataset\\Passenger\\121\\121.wav\n"
     ]
    },
    {
     "name": "stderr",
     "output_type": "stream",
     "text": [
      "230it [06:52,  1.03it/s]"
     ]
    },
    {
     "name": "stdout",
     "output_type": "stream",
     "text": [
      "C:\\Users\\oceanvue\\Desktop\\DeepShip Dataset\\Passenger\\122\\122.wav\n"
     ]
    },
    {
     "name": "stderr",
     "output_type": "stream",
     "text": [
      "231it [06:54,  1.22s/it]"
     ]
    },
    {
     "name": "stdout",
     "output_type": "stream",
     "text": [
      "C:\\Users\\oceanvue\\Desktop\\DeepShip Dataset\\Passenger\\123\\123.wav\n"
     ]
    },
    {
     "name": "stderr",
     "output_type": "stream",
     "text": [
      "232it [06:57,  1.58s/it]"
     ]
    },
    {
     "name": "stdout",
     "output_type": "stream",
     "text": [
      "C:\\Users\\oceanvue\\Desktop\\DeepShip Dataset\\Passenger\\124\\124.wav\n"
     ]
    },
    {
     "name": "stderr",
     "output_type": "stream",
     "text": [
      "233it [06:59,  1.75s/it]"
     ]
    },
    {
     "name": "stdout",
     "output_type": "stream",
     "text": [
      "C:\\Users\\oceanvue\\Desktop\\DeepShip Dataset\\Passenger\\125\\125.wav\n"
     ]
    },
    {
     "name": "stderr",
     "output_type": "stream",
     "text": [
      "234it [07:02,  2.18s/it]"
     ]
    },
    {
     "name": "stdout",
     "output_type": "stream",
     "text": [
      "C:\\Users\\oceanvue\\Desktop\\DeepShip Dataset\\Passenger\\126\\126.wav\n",
      "C:\\Users\\oceanvue\\Desktop\\DeepShip Dataset\\Passenger\\127\\127.wav\n"
     ]
    },
    {
     "name": "stderr",
     "output_type": "stream",
     "text": [
      "237it [07:03,  1.12s/it]"
     ]
    },
    {
     "name": "stdout",
     "output_type": "stream",
     "text": [
      "C:\\Users\\oceanvue\\Desktop\\DeepShip Dataset\\Passenger\\128\\128.wav\n",
      "C:\\Users\\oceanvue\\Desktop\\DeepShip Dataset\\Passenger\\129\\129.wav\n"
     ]
    },
    {
     "name": "stderr",
     "output_type": "stream",
     "text": [
      "238it [07:05,  1.32s/it]"
     ]
    },
    {
     "name": "stdout",
     "output_type": "stream",
     "text": [
      "C:\\Users\\oceanvue\\Desktop\\DeepShip Dataset\\Passenger\\130\\130.wav\n"
     ]
    },
    {
     "name": "stderr",
     "output_type": "stream",
     "text": [
      "239it [07:06,  1.36s/it]"
     ]
    },
    {
     "name": "stdout",
     "output_type": "stream",
     "text": [
      "C:\\Users\\oceanvue\\Desktop\\DeepShip Dataset\\Passenger\\131\\131.wav\n"
     ]
    },
    {
     "name": "stderr",
     "output_type": "stream",
     "text": [
      "241it [07:08,  1.07it/s]"
     ]
    },
    {
     "name": "stdout",
     "output_type": "stream",
     "text": [
      "C:\\Users\\oceanvue\\Desktop\\DeepShip Dataset\\Passenger\\132\\132.wav\n",
      "C:\\Users\\oceanvue\\Desktop\\DeepShip Dataset\\Passenger\\133\\133.wav\n"
     ]
    },
    {
     "name": "stderr",
     "output_type": "stream",
     "text": [
      "243it [07:09,  1.28it/s]"
     ]
    },
    {
     "name": "stdout",
     "output_type": "stream",
     "text": [
      "C:\\Users\\oceanvue\\Desktop\\DeepShip Dataset\\Passenger\\134\\134.wav\n",
      "C:\\Users\\oceanvue\\Desktop\\DeepShip Dataset\\Passenger\\135\\135.wav\n"
     ]
    },
    {
     "name": "stderr",
     "output_type": "stream",
     "text": [
      "244it [07:11,  1.15s/it]"
     ]
    },
    {
     "name": "stdout",
     "output_type": "stream",
     "text": [
      "C:\\Users\\oceanvue\\Desktop\\DeepShip Dataset\\Passenger\\136\\136.wav\n"
     ]
    },
    {
     "name": "stderr",
     "output_type": "stream",
     "text": [
      "245it [07:13,  1.34s/it]"
     ]
    },
    {
     "name": "stdout",
     "output_type": "stream",
     "text": [
      "C:\\Users\\oceanvue\\Desktop\\DeepShip Dataset\\Passenger\\139\\139.wav\n"
     ]
    },
    {
     "name": "stderr",
     "output_type": "stream",
     "text": [
      "246it [07:14,  1.33s/it]"
     ]
    },
    {
     "name": "stdout",
     "output_type": "stream",
     "text": [
      "C:\\Users\\oceanvue\\Desktop\\DeepShip Dataset\\Passenger\\140\\140.wav\n"
     ]
    },
    {
     "name": "stderr",
     "output_type": "stream",
     "text": [
      "247it [07:16,  1.45s/it]"
     ]
    },
    {
     "name": "stdout",
     "output_type": "stream",
     "text": [
      "C:\\Users\\oceanvue\\Desktop\\DeepShip Dataset\\Passenger\\141\\141.wav\n"
     ]
    },
    {
     "name": "stderr",
     "output_type": "stream",
     "text": [
      "248it [07:18,  1.51s/it]"
     ]
    },
    {
     "name": "stdout",
     "output_type": "stream",
     "text": [
      "C:\\Users\\oceanvue\\Desktop\\DeepShip Dataset\\Passenger\\142\\142.wav\n"
     ]
    },
    {
     "name": "stderr",
     "output_type": "stream",
     "text": [
      "249it [07:19,  1.64s/it]"
     ]
    },
    {
     "name": "stdout",
     "output_type": "stream",
     "text": [
      "C:\\Users\\oceanvue\\Desktop\\DeepShip Dataset\\Passenger\\143\\143.wav\n"
     ]
    },
    {
     "name": "stderr",
     "output_type": "stream",
     "text": [
      "250it [07:20,  1.40s/it]"
     ]
    },
    {
     "name": "stdout",
     "output_type": "stream",
     "text": [
      "C:\\Users\\oceanvue\\Desktop\\DeepShip Dataset\\Passenger\\144\\144.wav\n"
     ]
    },
    {
     "name": "stderr",
     "output_type": "stream",
     "text": [
      "251it [07:21,  1.06s/it]"
     ]
    },
    {
     "name": "stdout",
     "output_type": "stream",
     "text": [
      "C:\\Users\\oceanvue\\Desktop\\DeepShip Dataset\\Passenger\\145\\145.wav\n"
     ]
    },
    {
     "name": "stderr",
     "output_type": "stream",
     "text": [
      "252it [07:22,  1.13s/it]"
     ]
    },
    {
     "name": "stdout",
     "output_type": "stream",
     "text": [
      "C:\\Users\\oceanvue\\Desktop\\DeepShip Dataset\\Passenger\\146\\146.wav\n"
     ]
    },
    {
     "name": "stderr",
     "output_type": "stream",
     "text": [
      "253it [07:23,  1.22s/it]"
     ]
    },
    {
     "name": "stdout",
     "output_type": "stream",
     "text": [
      "C:\\Users\\oceanvue\\Desktop\\DeepShip Dataset\\Passenger\\147\\147.wav\n"
     ]
    },
    {
     "name": "stderr",
     "output_type": "stream",
     "text": [
      "254it [07:24,  1.12s/it]"
     ]
    },
    {
     "name": "stdout",
     "output_type": "stream",
     "text": [
      "C:\\Users\\oceanvue\\Desktop\\DeepShip Dataset\\Passenger\\148\\148.wav\n"
     ]
    },
    {
     "name": "stderr",
     "output_type": "stream",
     "text": [
      "255it [07:25,  1.09it/s]"
     ]
    },
    {
     "name": "stdout",
     "output_type": "stream",
     "text": [
      "C:\\Users\\oceanvue\\Desktop\\DeepShip Dataset\\Passenger\\149\\149.wav\n"
     ]
    },
    {
     "name": "stderr",
     "output_type": "stream",
     "text": [
      "256it [07:27,  1.35s/it]"
     ]
    },
    {
     "name": "stdout",
     "output_type": "stream",
     "text": [
      "C:\\Users\\oceanvue\\Desktop\\DeepShip Dataset\\Passenger\\150\\150.wav\n"
     ]
    },
    {
     "name": "stderr",
     "output_type": "stream",
     "text": [
      "257it [07:27,  1.10s/it]"
     ]
    },
    {
     "name": "stdout",
     "output_type": "stream",
     "text": [
      "C:\\Users\\oceanvue\\Desktop\\DeepShip Dataset\\Passenger\\151\\151.wav\n"
     ]
    },
    {
     "name": "stderr",
     "output_type": "stream",
     "text": [
      "258it [07:33,  2.54s/it]"
     ]
    },
    {
     "name": "stdout",
     "output_type": "stream",
     "text": [
      "C:\\Users\\oceanvue\\Desktop\\DeepShip Dataset\\Passenger\\152\\152.wav\n"
     ]
    },
    {
     "name": "stderr",
     "output_type": "stream",
     "text": [
      "259it [07:34,  2.00s/it]"
     ]
    },
    {
     "name": "stdout",
     "output_type": "stream",
     "text": [
      "C:\\Users\\oceanvue\\Desktop\\DeepShip Dataset\\Passenger\\153\\153.wav\n"
     ]
    },
    {
     "name": "stderr",
     "output_type": "stream",
     "text": [
      "260it [07:36,  2.00s/it]"
     ]
    },
    {
     "name": "stdout",
     "output_type": "stream",
     "text": [
      "C:\\Users\\oceanvue\\Desktop\\DeepShip Dataset\\Passenger\\154\\154.wav\n"
     ]
    },
    {
     "name": "stderr",
     "output_type": "stream",
     "text": [
      "261it [07:37,  1.59s/it]"
     ]
    },
    {
     "name": "stdout",
     "output_type": "stream",
     "text": [
      "C:\\Users\\oceanvue\\Desktop\\DeepShip Dataset\\Passenger\\155\\155.wav\n"
     ]
    },
    {
     "name": "stderr",
     "output_type": "stream",
     "text": [
      "262it [07:39,  1.79s/it]"
     ]
    },
    {
     "name": "stdout",
     "output_type": "stream",
     "text": [
      "C:\\Users\\oceanvue\\Desktop\\DeepShip Dataset\\Passenger\\156\\156.wav\n"
     ]
    },
    {
     "name": "stderr",
     "output_type": "stream",
     "text": [
      "263it [07:39,  1.34s/it]"
     ]
    },
    {
     "name": "stdout",
     "output_type": "stream",
     "text": [
      "C:\\Users\\oceanvue\\Desktop\\DeepShip Dataset\\Passenger\\157\\157.wav\n"
     ]
    },
    {
     "name": "stderr",
     "output_type": "stream",
     "text": [
      "265it [07:42,  1.16s/it]"
     ]
    },
    {
     "name": "stdout",
     "output_type": "stream",
     "text": [
      "C:\\Users\\oceanvue\\Desktop\\DeepShip Dataset\\Passenger\\158\\158.wav\n",
      "C:\\Users\\oceanvue\\Desktop\\DeepShip Dataset\\Passenger\\159\\159.wav\n"
     ]
    },
    {
     "name": "stderr",
     "output_type": "stream",
     "text": [
      "266it [07:44,  1.46s/it]"
     ]
    },
    {
     "name": "stdout",
     "output_type": "stream",
     "text": [
      "C:\\Users\\oceanvue\\Desktop\\DeepShip Dataset\\Passenger\\160\\160.wav\n"
     ]
    },
    {
     "name": "stderr",
     "output_type": "stream",
     "text": [
      "267it [07:45,  1.31s/it]"
     ]
    },
    {
     "name": "stdout",
     "output_type": "stream",
     "text": [
      "C:\\Users\\oceanvue\\Desktop\\DeepShip Dataset\\Passenger\\161\\161.wav\n"
     ]
    },
    {
     "name": "stderr",
     "output_type": "stream",
     "text": [
      "268it [07:47,  1.52s/it]"
     ]
    },
    {
     "name": "stdout",
     "output_type": "stream",
     "text": [
      "C:\\Users\\oceanvue\\Desktop\\DeepShip Dataset\\Passenger\\162\\162.wav\n"
     ]
    },
    {
     "name": "stderr",
     "output_type": "stream",
     "text": [
      "269it [07:47,  1.24s/it]"
     ]
    },
    {
     "name": "stdout",
     "output_type": "stream",
     "text": [
      "C:\\Users\\oceanvue\\Desktop\\DeepShip Dataset\\Passenger\\163\\163.wav\n"
     ]
    },
    {
     "name": "stderr",
     "output_type": "stream",
     "text": [
      "270it [07:50,  1.73s/it]"
     ]
    },
    {
     "name": "stdout",
     "output_type": "stream",
     "text": [
      "C:\\Users\\oceanvue\\Desktop\\DeepShip Dataset\\Passenger\\164\\164.wav\n"
     ]
    },
    {
     "name": "stderr",
     "output_type": "stream",
     "text": [
      "271it [07:52,  1.87s/it]"
     ]
    },
    {
     "name": "stdout",
     "output_type": "stream",
     "text": [
      "C:\\Users\\oceanvue\\Desktop\\DeepShip Dataset\\Passenger\\165\\165.wav\n",
      "C:\\Users\\oceanvue\\Desktop\\DeepShip Dataset\\Passenger\\166\\166.wav\n"
     ]
    },
    {
     "name": "stderr",
     "output_type": "stream",
     "text": [
      "273it [07:55,  1.55s/it]"
     ]
    },
    {
     "name": "stdout",
     "output_type": "stream",
     "text": [
      "C:\\Users\\oceanvue\\Desktop\\DeepShip Dataset\\Passenger\\167\\167.wav\n",
      "C:\\Users\\oceanvue\\Desktop\\DeepShip Dataset\\Passenger\\168\\168.wav\n"
     ]
    },
    {
     "name": "stderr",
     "output_type": "stream",
     "text": [
      "275it [07:56,  1.09s/it]"
     ]
    },
    {
     "name": "stdout",
     "output_type": "stream",
     "text": [
      "C:\\Users\\oceanvue\\Desktop\\DeepShip Dataset\\Passenger\\169\\169.wav\n"
     ]
    },
    {
     "name": "stderr",
     "output_type": "stream",
     "text": [
      "276it [07:56,  1.08it/s]"
     ]
    },
    {
     "name": "stdout",
     "output_type": "stream",
     "text": [
      "C:\\Users\\oceanvue\\Desktop\\DeepShip Dataset\\Passenger\\170\\170.wav\n"
     ]
    },
    {
     "name": "stderr",
     "output_type": "stream",
     "text": [
      "277it [07:58,  1.18s/it]"
     ]
    },
    {
     "name": "stdout",
     "output_type": "stream",
     "text": [
      "C:\\Users\\oceanvue\\Desktop\\DeepShip Dataset\\Passenger\\171\\171.wav\n"
     ]
    },
    {
     "name": "stderr",
     "output_type": "stream",
     "text": [
      "278it [08:02,  2.01s/it]"
     ]
    },
    {
     "name": "stdout",
     "output_type": "stream",
     "text": [
      "C:\\Users\\oceanvue\\Desktop\\DeepShip Dataset\\Passenger\\172\\172.wav\n"
     ]
    },
    {
     "name": "stderr",
     "output_type": "stream",
     "text": [
      "279it [08:04,  1.85s/it]"
     ]
    },
    {
     "name": "stdout",
     "output_type": "stream",
     "text": [
      "C:\\Users\\oceanvue\\Desktop\\DeepShip Dataset\\Passenger\\173\\173.wav\n"
     ]
    },
    {
     "name": "stderr",
     "output_type": "stream",
     "text": [
      "281it [08:05,  1.22s/it]"
     ]
    },
    {
     "name": "stdout",
     "output_type": "stream",
     "text": [
      "C:\\Users\\oceanvue\\Desktop\\DeepShip Dataset\\Passenger\\174\\174.wav\n",
      "C:\\Users\\oceanvue\\Desktop\\DeepShip Dataset\\Passenger\\175\\175.wav\n"
     ]
    },
    {
     "name": "stderr",
     "output_type": "stream",
     "text": [
      "282it [08:07,  1.46s/it]"
     ]
    },
    {
     "name": "stdout",
     "output_type": "stream",
     "text": [
      "C:\\Users\\oceanvue\\Desktop\\DeepShip Dataset\\Passenger\\176\\176.wav\n"
     ]
    },
    {
     "name": "stderr",
     "output_type": "stream",
     "text": [
      "283it [08:10,  1.80s/it]"
     ]
    },
    {
     "name": "stdout",
     "output_type": "stream",
     "text": [
      "C:\\Users\\oceanvue\\Desktop\\DeepShip Dataset\\Passenger\\177\\177.wav\n"
     ]
    },
    {
     "name": "stderr",
     "output_type": "stream",
     "text": [
      "284it [08:11,  1.64s/it]"
     ]
    },
    {
     "name": "stdout",
     "output_type": "stream",
     "text": [
      "C:\\Users\\oceanvue\\Desktop\\DeepShip Dataset\\Passenger\\178\\178.wav\n"
     ]
    },
    {
     "name": "stderr",
     "output_type": "stream",
     "text": [
      "285it [08:13,  1.75s/it]"
     ]
    },
    {
     "name": "stdout",
     "output_type": "stream",
     "text": [
      "C:\\Users\\oceanvue\\Desktop\\DeepShip Dataset\\Passenger\\179\\179.wav\n"
     ]
    },
    {
     "name": "stderr",
     "output_type": "stream",
     "text": [
      "286it [08:16,  2.30s/it]"
     ]
    },
    {
     "name": "stdout",
     "output_type": "stream",
     "text": [
      "C:\\Users\\oceanvue\\Desktop\\DeepShip Dataset\\Passenger\\180\\180.wav\n"
     ]
    },
    {
     "name": "stderr",
     "output_type": "stream",
     "text": [
      "287it [08:17,  1.81s/it]"
     ]
    },
    {
     "name": "stdout",
     "output_type": "stream",
     "text": [
      "C:\\Users\\oceanvue\\Desktop\\DeepShip Dataset\\Passenger\\181\\181.wav\n"
     ]
    },
    {
     "name": "stderr",
     "output_type": "stream",
     "text": [
      "288it [08:18,  1.41s/it]"
     ]
    },
    {
     "name": "stdout",
     "output_type": "stream",
     "text": [
      "C:\\Users\\oceanvue\\Desktop\\DeepShip Dataset\\Passenger\\182\\182.wav\n"
     ]
    },
    {
     "name": "stderr",
     "output_type": "stream",
     "text": [
      "289it [08:19,  1.41s/it]"
     ]
    },
    {
     "name": "stdout",
     "output_type": "stream",
     "text": [
      "C:\\Users\\oceanvue\\Desktop\\DeepShip Dataset\\Passenger\\183\\183.wav\n"
     ]
    },
    {
     "name": "stderr",
     "output_type": "stream",
     "text": [
      "290it [08:21,  1.68s/it]"
     ]
    },
    {
     "name": "stdout",
     "output_type": "stream",
     "text": [
      "C:\\Users\\oceanvue\\Desktop\\DeepShip Dataset\\Passenger\\184\\184.wav\n"
     ]
    },
    {
     "name": "stderr",
     "output_type": "stream",
     "text": [
      "291it [08:22,  1.30s/it]"
     ]
    },
    {
     "name": "stdout",
     "output_type": "stream",
     "text": [
      "C:\\Users\\oceanvue\\Desktop\\DeepShip Dataset\\Passenger\\185\\185.wav\n"
     ]
    },
    {
     "name": "stderr",
     "output_type": "stream",
     "text": [
      "292it [08:24,  1.63s/it]"
     ]
    },
    {
     "name": "stdout",
     "output_type": "stream",
     "text": [
      "C:\\Users\\oceanvue\\Desktop\\DeepShip Dataset\\Passenger\\186\\186.wav\n"
     ]
    },
    {
     "name": "stderr",
     "output_type": "stream",
     "text": [
      "293it [08:26,  1.81s/it]"
     ]
    },
    {
     "name": "stdout",
     "output_type": "stream",
     "text": [
      "C:\\Users\\oceanvue\\Desktop\\DeepShip Dataset\\Passenger\\187\\187.wav\n"
     ]
    },
    {
     "name": "stderr",
     "output_type": "stream",
     "text": [
      "294it [08:27,  1.36s/it]"
     ]
    },
    {
     "name": "stdout",
     "output_type": "stream",
     "text": [
      "C:\\Users\\oceanvue\\Desktop\\DeepShip Dataset\\Passenger\\188\\188.wav\n"
     ]
    },
    {
     "name": "stderr",
     "output_type": "stream",
     "text": [
      "295it [08:27,  1.05s/it]"
     ]
    },
    {
     "name": "stdout",
     "output_type": "stream",
     "text": [
      "C:\\Users\\oceanvue\\Desktop\\DeepShip Dataset\\Passenger\\189\\189.wav\n",
      "C:\\Users\\oceanvue\\Desktop\\DeepShip Dataset\\Passenger\\190\\190.wav\n"
     ]
    },
    {
     "name": "stderr",
     "output_type": "stream",
     "text": [
      "299it [08:27,  2.43it/s]"
     ]
    },
    {
     "name": "stdout",
     "output_type": "stream",
     "text": [
      "C:\\Users\\oceanvue\\Desktop\\DeepShip Dataset\\Passenger\\191\\191.wav\n",
      "C:\\Users\\oceanvue\\Desktop\\DeepShip Dataset\\Passenger\\192\\192.wav\n",
      "C:\\Users\\oceanvue\\Desktop\\DeepShip Dataset\\Passenger\\193\\193.wav\n"
     ]
    },
    {
     "name": "stderr",
     "output_type": "stream",
     "text": [
      "300it [08:28,  1.88it/s]"
     ]
    },
    {
     "name": "stdout",
     "output_type": "stream",
     "text": [
      "C:\\Users\\oceanvue\\Desktop\\DeepShip Dataset\\Tanker\\1\\1.wav\n"
     ]
    },
    {
     "name": "stderr",
     "output_type": "stream",
     "text": [
      "301it [08:30,  1.25it/s]"
     ]
    },
    {
     "name": "stdout",
     "output_type": "stream",
     "text": [
      "C:\\Users\\oceanvue\\Desktop\\DeepShip Dataset\\Tanker\\2\\2.wav\n"
     ]
    },
    {
     "name": "stderr",
     "output_type": "stream",
     "text": [
      "302it [08:31,  1.21it/s]"
     ]
    },
    {
     "name": "stdout",
     "output_type": "stream",
     "text": [
      "C:\\Users\\oceanvue\\Desktop\\DeepShip Dataset\\Tanker\\3\\3.wav\n"
     ]
    },
    {
     "name": "stderr",
     "output_type": "stream",
     "text": [
      "303it [08:33,  1.21s/it]"
     ]
    },
    {
     "name": "stdout",
     "output_type": "stream",
     "text": [
      "C:\\Users\\oceanvue\\Desktop\\DeepShip Dataset\\Tanker\\4\\4.wav\n"
     ]
    },
    {
     "name": "stderr",
     "output_type": "stream",
     "text": [
      "304it [08:35,  1.32s/it]"
     ]
    },
    {
     "name": "stdout",
     "output_type": "stream",
     "text": [
      "C:\\Users\\oceanvue\\Desktop\\DeepShip Dataset\\Tanker\\5\\5.wav\n"
     ]
    },
    {
     "name": "stderr",
     "output_type": "stream",
     "text": [
      "305it [08:35,  1.04s/it]"
     ]
    },
    {
     "name": "stdout",
     "output_type": "stream",
     "text": [
      "C:\\Users\\oceanvue\\Desktop\\DeepShip Dataset\\Tanker\\6\\6.wav\n"
     ]
    },
    {
     "name": "stderr",
     "output_type": "stream",
     "text": [
      "306it [08:36,  1.04s/it]"
     ]
    },
    {
     "name": "stdout",
     "output_type": "stream",
     "text": [
      "C:\\Users\\oceanvue\\Desktop\\DeepShip Dataset\\Tanker\\7\\7.wav\n"
     ]
    },
    {
     "name": "stderr",
     "output_type": "stream",
     "text": [
      "307it [08:39,  1.60s/it]"
     ]
    },
    {
     "name": "stdout",
     "output_type": "stream",
     "text": [
      "C:\\Users\\oceanvue\\Desktop\\DeepShip Dataset\\Tanker\\8\\8.wav\n"
     ]
    },
    {
     "name": "stderr",
     "output_type": "stream",
     "text": [
      "309it [08:40,  1.11it/s]"
     ]
    },
    {
     "name": "stdout",
     "output_type": "stream",
     "text": [
      "C:\\Users\\oceanvue\\Desktop\\DeepShip Dataset\\Tanker\\9\\9.wav\n",
      "C:\\Users\\oceanvue\\Desktop\\DeepShip Dataset\\Tanker\\10\\10.wav\n"
     ]
    },
    {
     "name": "stderr",
     "output_type": "stream",
     "text": [
      "310it [08:40,  1.40it/s]"
     ]
    },
    {
     "name": "stdout",
     "output_type": "stream",
     "text": [
      "C:\\Users\\oceanvue\\Desktop\\DeepShip Dataset\\Tanker\\11\\11.wav\n"
     ]
    },
    {
     "name": "stderr",
     "output_type": "stream",
     "text": [
      "311it [08:42,  1.20s/it]"
     ]
    },
    {
     "name": "stdout",
     "output_type": "stream",
     "text": [
      "C:\\Users\\oceanvue\\Desktop\\DeepShip Dataset\\Tanker\\12\\12.wav\n"
     ]
    },
    {
     "name": "stderr",
     "output_type": "stream",
     "text": [
      "312it [08:43,  1.09it/s]"
     ]
    },
    {
     "name": "stdout",
     "output_type": "stream",
     "text": [
      "C:\\Users\\oceanvue\\Desktop\\DeepShip Dataset\\Tanker\\13\\13.wav\n"
     ]
    },
    {
     "name": "stderr",
     "output_type": "stream",
     "text": [
      "314it [08:44,  1.40it/s]"
     ]
    },
    {
     "name": "stdout",
     "output_type": "stream",
     "text": [
      "C:\\Users\\oceanvue\\Desktop\\DeepShip Dataset\\Tanker\\14\\14.wav\n",
      "C:\\Users\\oceanvue\\Desktop\\DeepShip Dataset\\Tanker\\15\\15.wav\n"
     ]
    },
    {
     "name": "stderr",
     "output_type": "stream",
     "text": [
      "315it [08:46,  1.20s/it]"
     ]
    },
    {
     "name": "stdout",
     "output_type": "stream",
     "text": [
      "C:\\Users\\oceanvue\\Desktop\\DeepShip Dataset\\Tanker\\16\\16.wav\n"
     ]
    },
    {
     "name": "stderr",
     "output_type": "stream",
     "text": [
      "316it [08:49,  1.71s/it]"
     ]
    },
    {
     "name": "stdout",
     "output_type": "stream",
     "text": [
      "C:\\Users\\oceanvue\\Desktop\\DeepShip Dataset\\Tanker\\17\\17.wav\n"
     ]
    },
    {
     "name": "stderr",
     "output_type": "stream",
     "text": [
      "317it [08:51,  1.84s/it]"
     ]
    },
    {
     "name": "stdout",
     "output_type": "stream",
     "text": [
      "C:\\Users\\oceanvue\\Desktop\\DeepShip Dataset\\Tanker\\18\\18.wav\n"
     ]
    },
    {
     "name": "stderr",
     "output_type": "stream",
     "text": [
      "319it [08:52,  1.03s/it]"
     ]
    },
    {
     "name": "stdout",
     "output_type": "stream",
     "text": [
      "C:\\Users\\oceanvue\\Desktop\\DeepShip Dataset\\Tanker\\19\\19.wav\n",
      "C:\\Users\\oceanvue\\Desktop\\DeepShip Dataset\\Tanker\\20\\20.wav\n"
     ]
    },
    {
     "name": "stderr",
     "output_type": "stream",
     "text": [
      "321it [08:52,  1.46it/s]"
     ]
    },
    {
     "name": "stdout",
     "output_type": "stream",
     "text": [
      "C:\\Users\\oceanvue\\Desktop\\DeepShip Dataset\\Tanker\\21\\21.wav\n",
      "C:\\Users\\oceanvue\\Desktop\\DeepShip Dataset\\Tanker\\22\\22.wav\n"
     ]
    },
    {
     "name": "stderr",
     "output_type": "stream",
     "text": [
      "322it [08:55,  1.18s/it]"
     ]
    },
    {
     "name": "stdout",
     "output_type": "stream",
     "text": [
      "C:\\Users\\oceanvue\\Desktop\\DeepShip Dataset\\Tanker\\23\\23.wav\n"
     ]
    },
    {
     "name": "stderr",
     "output_type": "stream",
     "text": [
      "324it [08:57,  1.11s/it]"
     ]
    },
    {
     "name": "stdout",
     "output_type": "stream",
     "text": [
      "C:\\Users\\oceanvue\\Desktop\\DeepShip Dataset\\Tanker\\24\\24.wav\n",
      "C:\\Users\\oceanvue\\Desktop\\DeepShip Dataset\\Tanker\\25\\25.wav\n"
     ]
    },
    {
     "name": "stderr",
     "output_type": "stream",
     "text": [
      "325it [09:00,  1.69s/it]"
     ]
    },
    {
     "name": "stdout",
     "output_type": "stream",
     "text": [
      "C:\\Users\\oceanvue\\Desktop\\DeepShip Dataset\\Tanker\\26\\26.wav\n"
     ]
    },
    {
     "name": "stderr",
     "output_type": "stream",
     "text": [
      "326it [09:02,  1.79s/it]"
     ]
    },
    {
     "name": "stdout",
     "output_type": "stream",
     "text": [
      "C:\\Users\\oceanvue\\Desktop\\DeepShip Dataset\\Tanker\\27\\27.wav\n"
     ]
    },
    {
     "name": "stderr",
     "output_type": "stream",
     "text": [
      "327it [09:04,  1.86s/it]"
     ]
    },
    {
     "name": "stdout",
     "output_type": "stream",
     "text": [
      "C:\\Users\\oceanvue\\Desktop\\DeepShip Dataset\\Tanker\\28\\28.wav\n"
     ]
    },
    {
     "name": "stderr",
     "output_type": "stream",
     "text": [
      "328it [09:07,  1.99s/it]"
     ]
    },
    {
     "name": "stdout",
     "output_type": "stream",
     "text": [
      "C:\\Users\\oceanvue\\Desktop\\DeepShip Dataset\\Tanker\\29\\29.wav\n"
     ]
    },
    {
     "name": "stderr",
     "output_type": "stream",
     "text": [
      "329it [09:07,  1.60s/it]"
     ]
    },
    {
     "name": "stdout",
     "output_type": "stream",
     "text": [
      "C:\\Users\\oceanvue\\Desktop\\DeepShip Dataset\\Tanker\\30\\30.wav\n"
     ]
    },
    {
     "name": "stderr",
     "output_type": "stream",
     "text": [
      "330it [09:08,  1.19s/it]"
     ]
    },
    {
     "name": "stdout",
     "output_type": "stream",
     "text": [
      "C:\\Users\\oceanvue\\Desktop\\DeepShip Dataset\\Tanker\\31\\31.wav\n"
     ]
    },
    {
     "name": "stderr",
     "output_type": "stream",
     "text": [
      "331it [09:09,  1.38s/it]"
     ]
    },
    {
     "name": "stdout",
     "output_type": "stream",
     "text": [
      "C:\\Users\\oceanvue\\Desktop\\DeepShip Dataset\\Tanker\\32\\32.wav\n"
     ]
    },
    {
     "name": "stderr",
     "output_type": "stream",
     "text": [
      "333it [09:10,  1.30it/s]"
     ]
    },
    {
     "name": "stdout",
     "output_type": "stream",
     "text": [
      "C:\\Users\\oceanvue\\Desktop\\DeepShip Dataset\\Tanker\\33\\33.wav\n",
      "C:\\Users\\oceanvue\\Desktop\\DeepShip Dataset\\Tanker\\34\\34.wav\n"
     ]
    },
    {
     "name": "stderr",
     "output_type": "stream",
     "text": [
      "335it [09:11,  1.35it/s]"
     ]
    },
    {
     "name": "stdout",
     "output_type": "stream",
     "text": [
      "C:\\Users\\oceanvue\\Desktop\\DeepShip Dataset\\Tanker\\35\\35.wav\n",
      "C:\\Users\\oceanvue\\Desktop\\DeepShip Dataset\\Tanker\\36\\36.wav\n"
     ]
    },
    {
     "name": "stderr",
     "output_type": "stream",
     "text": [
      "336it [09:14,  1.38s/it]"
     ]
    },
    {
     "name": "stdout",
     "output_type": "stream",
     "text": [
      "C:\\Users\\oceanvue\\Desktop\\DeepShip Dataset\\Tanker\\37\\37.wav\n"
     ]
    },
    {
     "name": "stderr",
     "output_type": "stream",
     "text": [
      "337it [09:16,  1.39s/it]"
     ]
    },
    {
     "name": "stdout",
     "output_type": "stream",
     "text": [
      "C:\\Users\\oceanvue\\Desktop\\DeepShip Dataset\\Tanker\\38\\38.wav\n"
     ]
    },
    {
     "name": "stderr",
     "output_type": "stream",
     "text": [
      "338it [09:17,  1.29s/it]"
     ]
    },
    {
     "name": "stdout",
     "output_type": "stream",
     "text": [
      "C:\\Users\\oceanvue\\Desktop\\DeepShip Dataset\\Tanker\\39\\39.wav\n"
     ]
    },
    {
     "name": "stderr",
     "output_type": "stream",
     "text": [
      "339it [09:18,  1.14s/it]"
     ]
    },
    {
     "name": "stdout",
     "output_type": "stream",
     "text": [
      "C:\\Users\\oceanvue\\Desktop\\DeepShip Dataset\\Tanker\\40\\40.wav\n"
     ]
    },
    {
     "name": "stderr",
     "output_type": "stream",
     "text": [
      "340it [09:19,  1.22s/it]"
     ]
    },
    {
     "name": "stdout",
     "output_type": "stream",
     "text": [
      "C:\\Users\\oceanvue\\Desktop\\DeepShip Dataset\\Tanker\\41\\41.wav\n"
     ]
    },
    {
     "name": "stderr",
     "output_type": "stream",
     "text": [
      "341it [09:19,  1.06it/s]"
     ]
    },
    {
     "name": "stdout",
     "output_type": "stream",
     "text": [
      "C:\\Users\\oceanvue\\Desktop\\DeepShip Dataset\\Tanker\\42\\42.wav\n"
     ]
    },
    {
     "name": "stderr",
     "output_type": "stream",
     "text": [
      "342it [09:20,  1.25it/s]"
     ]
    },
    {
     "name": "stdout",
     "output_type": "stream",
     "text": [
      "C:\\Users\\oceanvue\\Desktop\\DeepShip Dataset\\Tanker\\43\\43.wav\n"
     ]
    },
    {
     "name": "stderr",
     "output_type": "stream",
     "text": [
      "343it [09:20,  1.59it/s]"
     ]
    },
    {
     "name": "stdout",
     "output_type": "stream",
     "text": [
      "C:\\Users\\oceanvue\\Desktop\\DeepShip Dataset\\Tanker\\44\\44.wav\n"
     ]
    },
    {
     "name": "stderr",
     "output_type": "stream",
     "text": [
      "344it [09:21,  1.23it/s]"
     ]
    },
    {
     "name": "stdout",
     "output_type": "stream",
     "text": [
      "C:\\Users\\oceanvue\\Desktop\\DeepShip Dataset\\Tanker\\45\\45.wav\n"
     ]
    },
    {
     "name": "stderr",
     "output_type": "stream",
     "text": [
      "345it [09:23,  1.01s/it]"
     ]
    },
    {
     "name": "stdout",
     "output_type": "stream",
     "text": [
      "C:\\Users\\oceanvue\\Desktop\\DeepShip Dataset\\Tanker\\46\\46.wav\n"
     ]
    },
    {
     "name": "stderr",
     "output_type": "stream",
     "text": [
      "347it [09:25,  1.02it/s]"
     ]
    },
    {
     "name": "stdout",
     "output_type": "stream",
     "text": [
      "C:\\Users\\oceanvue\\Desktop\\DeepShip Dataset\\Tanker\\47\\47.wav\n",
      "C:\\Users\\oceanvue\\Desktop\\DeepShip Dataset\\Tanker\\48\\48.wav\n"
     ]
    },
    {
     "name": "stderr",
     "output_type": "stream",
     "text": [
      "348it [09:25,  1.29it/s]"
     ]
    },
    {
     "name": "stdout",
     "output_type": "stream",
     "text": [
      "C:\\Users\\oceanvue\\Desktop\\DeepShip Dataset\\Tanker\\49\\49.wav\n"
     ]
    },
    {
     "name": "stderr",
     "output_type": "stream",
     "text": [
      "349it [09:25,  1.60it/s]"
     ]
    },
    {
     "name": "stdout",
     "output_type": "stream",
     "text": [
      "C:\\Users\\oceanvue\\Desktop\\DeepShip Dataset\\Tanker\\50\\50.wav\n",
      "C:\\Users\\oceanvue\\Desktop\\DeepShip Dataset\\Tanker\\51\\51.wav\n"
     ]
    },
    {
     "name": "stderr",
     "output_type": "stream",
     "text": [
      "351it [09:27,  1.72it/s]"
     ]
    },
    {
     "name": "stdout",
     "output_type": "stream",
     "text": [
      "C:\\Users\\oceanvue\\Desktop\\DeepShip Dataset\\Tanker\\52\\52.wav\n"
     ]
    },
    {
     "name": "stderr",
     "output_type": "stream",
     "text": [
      "352it [09:27,  1.95it/s]"
     ]
    },
    {
     "name": "stdout",
     "output_type": "stream",
     "text": [
      "C:\\Users\\oceanvue\\Desktop\\DeepShip Dataset\\Tanker\\53\\53.wav\n"
     ]
    },
    {
     "name": "stderr",
     "output_type": "stream",
     "text": [
      "353it [09:27,  2.23it/s]"
     ]
    },
    {
     "name": "stdout",
     "output_type": "stream",
     "text": [
      "C:\\Users\\oceanvue\\Desktop\\DeepShip Dataset\\Tanker\\54\\54.wav\n"
     ]
    },
    {
     "name": "stderr",
     "output_type": "stream",
     "text": [
      "354it [09:28,  2.27it/s]"
     ]
    },
    {
     "name": "stdout",
     "output_type": "stream",
     "text": [
      "C:\\Users\\oceanvue\\Desktop\\DeepShip Dataset\\Tanker\\55\\55.wav\n"
     ]
    },
    {
     "name": "stderr",
     "output_type": "stream",
     "text": [
      "355it [09:28,  2.19it/s]"
     ]
    },
    {
     "name": "stdout",
     "output_type": "stream",
     "text": [
      "C:\\Users\\oceanvue\\Desktop\\DeepShip Dataset\\Tanker\\56\\56.wav\n"
     ]
    },
    {
     "name": "stderr",
     "output_type": "stream",
     "text": [
      "356it [09:29,  2.01it/s]"
     ]
    },
    {
     "name": "stdout",
     "output_type": "stream",
     "text": [
      "C:\\Users\\oceanvue\\Desktop\\DeepShip Dataset\\Tanker\\57\\57.wav\n",
      "C:\\Users\\oceanvue\\Desktop\\DeepShip Dataset\\Tanker\\58\\58.wav\n"
     ]
    },
    {
     "name": "stderr",
     "output_type": "stream",
     "text": [
      "358it [09:31,  1.12it/s]"
     ]
    },
    {
     "name": "stdout",
     "output_type": "stream",
     "text": [
      "C:\\Users\\oceanvue\\Desktop\\DeepShip Dataset\\Tanker\\59\\59.wav\n"
     ]
    },
    {
     "name": "stderr",
     "output_type": "stream",
     "text": [
      "360it [09:32,  1.60it/s]"
     ]
    },
    {
     "name": "stdout",
     "output_type": "stream",
     "text": [
      "C:\\Users\\oceanvue\\Desktop\\DeepShip Dataset\\Tanker\\60\\60.wav\n",
      "C:\\Users\\oceanvue\\Desktop\\DeepShip Dataset\\Tanker\\61\\61.wav\n"
     ]
    },
    {
     "name": "stderr",
     "output_type": "stream",
     "text": [
      "361it [09:32,  1.91it/s]"
     ]
    },
    {
     "name": "stdout",
     "output_type": "stream",
     "text": [
      "C:\\Users\\oceanvue\\Desktop\\DeepShip Dataset\\Tanker\\62\\62.wav\n"
     ]
    },
    {
     "name": "stderr",
     "output_type": "stream",
     "text": [
      "362it [09:32,  2.24it/s]"
     ]
    },
    {
     "name": "stdout",
     "output_type": "stream",
     "text": [
      "C:\\Users\\oceanvue\\Desktop\\DeepShip Dataset\\Tanker\\63\\63.wav\n"
     ]
    },
    {
     "name": "stderr",
     "output_type": "stream",
     "text": [
      "364it [09:35,  1.45it/s]"
     ]
    },
    {
     "name": "stdout",
     "output_type": "stream",
     "text": [
      "C:\\Users\\oceanvue\\Desktop\\DeepShip Dataset\\Tanker\\64\\64.wav\n",
      "C:\\Users\\oceanvue\\Desktop\\DeepShip Dataset\\Tanker\\65\\65.wav\n"
     ]
    },
    {
     "name": "stderr",
     "output_type": "stream",
     "text": [
      "365it [09:38,  1.34s/it]"
     ]
    },
    {
     "name": "stdout",
     "output_type": "stream",
     "text": [
      "C:\\Users\\oceanvue\\Desktop\\DeepShip Dataset\\Tanker\\66\\66.wav\n",
      "C:\\Users\\oceanvue\\Desktop\\DeepShip Dataset\\Tanker\\67\\67.wav\n"
     ]
    },
    {
     "name": "stderr",
     "output_type": "stream",
     "text": [
      "367it [09:38,  1.26it/s]"
     ]
    },
    {
     "name": "stdout",
     "output_type": "stream",
     "text": [
      "C:\\Users\\oceanvue\\Desktop\\DeepShip Dataset\\Tanker\\68\\68.wav\n"
     ]
    },
    {
     "name": "stderr",
     "output_type": "stream",
     "text": [
      "368it [09:39,  1.27it/s]"
     ]
    },
    {
     "name": "stdout",
     "output_type": "stream",
     "text": [
      "C:\\Users\\oceanvue\\Desktop\\DeepShip Dataset\\Tanker\\69\\69.wav\n"
     ]
    },
    {
     "name": "stderr",
     "output_type": "stream",
     "text": [
      "369it [09:39,  1.52it/s]"
     ]
    },
    {
     "name": "stdout",
     "output_type": "stream",
     "text": [
      "C:\\Users\\oceanvue\\Desktop\\DeepShip Dataset\\Tanker\\70\\70.wav\n"
     ]
    },
    {
     "name": "stderr",
     "output_type": "stream",
     "text": [
      "372it [09:41,  1.63it/s]"
     ]
    },
    {
     "name": "stdout",
     "output_type": "stream",
     "text": [
      "C:\\Users\\oceanvue\\Desktop\\DeepShip Dataset\\Tanker\\71\\71.wav\n",
      "C:\\Users\\oceanvue\\Desktop\\DeepShip Dataset\\Tanker\\72\\72.wav\n",
      "C:\\Users\\oceanvue\\Desktop\\DeepShip Dataset\\Tanker\\73\\73.wav\n"
     ]
    },
    {
     "name": "stderr",
     "output_type": "stream",
     "text": [
      "373it [09:41,  1.99it/s]"
     ]
    },
    {
     "name": "stdout",
     "output_type": "stream",
     "text": [
      "C:\\Users\\oceanvue\\Desktop\\DeepShip Dataset\\Tanker\\74\\74.wav\n"
     ]
    },
    {
     "name": "stderr",
     "output_type": "stream",
     "text": [
      "374it [09:43,  1.43it/s]"
     ]
    },
    {
     "name": "stdout",
     "output_type": "stream",
     "text": [
      "C:\\Users\\oceanvue\\Desktop\\DeepShip Dataset\\Tanker\\75\\75.wav\n"
     ]
    },
    {
     "name": "stderr",
     "output_type": "stream",
     "text": [
      "375it [09:46,  1.42s/it]"
     ]
    },
    {
     "name": "stdout",
     "output_type": "stream",
     "text": [
      "C:\\Users\\oceanvue\\Desktop\\DeepShip Dataset\\Tanker\\76\\76.wav\n"
     ]
    },
    {
     "name": "stderr",
     "output_type": "stream",
     "text": [
      "376it [09:46,  1.11s/it]"
     ]
    },
    {
     "name": "stdout",
     "output_type": "stream",
     "text": [
      "C:\\Users\\oceanvue\\Desktop\\DeepShip Dataset\\Tanker\\77\\77.wav\n"
     ]
    },
    {
     "name": "stderr",
     "output_type": "stream",
     "text": [
      "377it [09:50,  1.72s/it]"
     ]
    },
    {
     "name": "stdout",
     "output_type": "stream",
     "text": [
      "C:\\Users\\oceanvue\\Desktop\\DeepShip Dataset\\Tanker\\78\\78.wav\n"
     ]
    },
    {
     "name": "stderr",
     "output_type": "stream",
     "text": [
      "378it [09:50,  1.31s/it]"
     ]
    },
    {
     "name": "stdout",
     "output_type": "stream",
     "text": [
      "C:\\Users\\oceanvue\\Desktop\\DeepShip Dataset\\Tanker\\79\\79.wav\n"
     ]
    },
    {
     "name": "stderr",
     "output_type": "stream",
     "text": [
      "379it [09:50,  1.00it/s]"
     ]
    },
    {
     "name": "stdout",
     "output_type": "stream",
     "text": [
      "C:\\Users\\oceanvue\\Desktop\\DeepShip Dataset\\Tanker\\80\\80.wav\n"
     ]
    },
    {
     "name": "stderr",
     "output_type": "stream",
     "text": [
      "380it [09:50,  1.26it/s]"
     ]
    },
    {
     "name": "stdout",
     "output_type": "stream",
     "text": [
      "C:\\Users\\oceanvue\\Desktop\\DeepShip Dataset\\Tanker\\81\\81.wav\n"
     ]
    },
    {
     "name": "stderr",
     "output_type": "stream",
     "text": [
      "381it [09:53,  1.47s/it]"
     ]
    },
    {
     "name": "stdout",
     "output_type": "stream",
     "text": [
      "C:\\Users\\oceanvue\\Desktop\\DeepShip Dataset\\Tanker\\82\\82.wav\n"
     ]
    },
    {
     "name": "stderr",
     "output_type": "stream",
     "text": [
      "382it [09:55,  1.55s/it]"
     ]
    },
    {
     "name": "stdout",
     "output_type": "stream",
     "text": [
      "C:\\Users\\oceanvue\\Desktop\\DeepShip Dataset\\Tanker\\83\\83.wav\n"
     ]
    },
    {
     "name": "stderr",
     "output_type": "stream",
     "text": [
      "383it [09:55,  1.17s/it]"
     ]
    },
    {
     "name": "stdout",
     "output_type": "stream",
     "text": [
      "C:\\Users\\oceanvue\\Desktop\\DeepShip Dataset\\Tanker\\84\\84.wav\n"
     ]
    },
    {
     "name": "stderr",
     "output_type": "stream",
     "text": [
      "385it [09:57,  1.10it/s]"
     ]
    },
    {
     "name": "stdout",
     "output_type": "stream",
     "text": [
      "C:\\Users\\oceanvue\\Desktop\\DeepShip Dataset\\Tanker\\85\\85.wav\n",
      "C:\\Users\\oceanvue\\Desktop\\DeepShip Dataset\\Tanker\\86\\86.wav\n"
     ]
    },
    {
     "name": "stderr",
     "output_type": "stream",
     "text": [
      "386it [09:59,  1.14s/it]"
     ]
    },
    {
     "name": "stdout",
     "output_type": "stream",
     "text": [
      "C:\\Users\\oceanvue\\Desktop\\DeepShip Dataset\\Tanker\\87\\87.wav\n"
     ]
    },
    {
     "name": "stderr",
     "output_type": "stream",
     "text": [
      "388it [09:59,  1.44it/s]"
     ]
    },
    {
     "name": "stdout",
     "output_type": "stream",
     "text": [
      "C:\\Users\\oceanvue\\Desktop\\DeepShip Dataset\\Tanker\\88\\88.wav\n",
      "C:\\Users\\oceanvue\\Desktop\\DeepShip Dataset\\Tanker\\89\\89.wav\n"
     ]
    },
    {
     "name": "stderr",
     "output_type": "stream",
     "text": [
      "390it [10:01,  1.43it/s]"
     ]
    },
    {
     "name": "stdout",
     "output_type": "stream",
     "text": [
      "C:\\Users\\oceanvue\\Desktop\\DeepShip Dataset\\Tanker\\90\\90.wav\n",
      "C:\\Users\\oceanvue\\Desktop\\DeepShip Dataset\\Tanker\\91\\91.wav\n"
     ]
    },
    {
     "name": "stderr",
     "output_type": "stream",
     "text": [
      "391it [10:01,  1.73it/s]"
     ]
    },
    {
     "name": "stdout",
     "output_type": "stream",
     "text": [
      "C:\\Users\\oceanvue\\Desktop\\DeepShip Dataset\\Tanker\\92\\92.wav\n"
     ]
    },
    {
     "name": "stderr",
     "output_type": "stream",
     "text": [
      "392it [10:01,  2.07it/s]"
     ]
    },
    {
     "name": "stdout",
     "output_type": "stream",
     "text": [
      "C:\\Users\\oceanvue\\Desktop\\DeepShip Dataset\\Tanker\\93\\93.wav\n"
     ]
    },
    {
     "name": "stderr",
     "output_type": "stream",
     "text": [
      "394it [10:03,  1.93it/s]"
     ]
    },
    {
     "name": "stdout",
     "output_type": "stream",
     "text": [
      "C:\\Users\\oceanvue\\Desktop\\DeepShip Dataset\\Tanker\\94\\94.wav\n",
      "C:\\Users\\oceanvue\\Desktop\\DeepShip Dataset\\Tanker\\95\\95.wav\n"
     ]
    },
    {
     "name": "stderr",
     "output_type": "stream",
     "text": [
      "396it [10:06,  1.06it/s]"
     ]
    },
    {
     "name": "stdout",
     "output_type": "stream",
     "text": [
      "C:\\Users\\oceanvue\\Desktop\\DeepShip Dataset\\Tanker\\96\\96.wav\n",
      "C:\\Users\\oceanvue\\Desktop\\DeepShip Dataset\\Tanker\\97\\97.wav\n"
     ]
    },
    {
     "name": "stderr",
     "output_type": "stream",
     "text": [
      "397it [10:06,  1.30it/s]"
     ]
    },
    {
     "name": "stdout",
     "output_type": "stream",
     "text": [
      "C:\\Users\\oceanvue\\Desktop\\DeepShip Dataset\\Tanker\\98\\98.wav\n"
     ]
    },
    {
     "name": "stderr",
     "output_type": "stream",
     "text": [
      "398it [10:08,  1.13s/it]"
     ]
    },
    {
     "name": "stdout",
     "output_type": "stream",
     "text": [
      "C:\\Users\\oceanvue\\Desktop\\DeepShip Dataset\\Tanker\\99\\99.wav\n"
     ]
    },
    {
     "name": "stderr",
     "output_type": "stream",
     "text": [
      "399it [10:09,  1.05it/s]"
     ]
    },
    {
     "name": "stdout",
     "output_type": "stream",
     "text": [
      "C:\\Users\\oceanvue\\Desktop\\DeepShip Dataset\\Tanker\\100\\100.wav\n"
     ]
    },
    {
     "name": "stderr",
     "output_type": "stream",
     "text": [
      "400it [10:11,  1.31s/it]"
     ]
    },
    {
     "name": "stdout",
     "output_type": "stream",
     "text": [
      "C:\\Users\\oceanvue\\Desktop\\DeepShip Dataset\\Tanker\\101\\101.wav\n"
     ]
    },
    {
     "name": "stderr",
     "output_type": "stream",
     "text": [
      "401it [10:12,  1.27s/it]"
     ]
    },
    {
     "name": "stdout",
     "output_type": "stream",
     "text": [
      "C:\\Users\\oceanvue\\Desktop\\DeepShip Dataset\\Tanker\\102\\102.wav\n"
     ]
    },
    {
     "name": "stderr",
     "output_type": "stream",
     "text": [
      "402it [10:15,  1.78s/it]"
     ]
    },
    {
     "name": "stdout",
     "output_type": "stream",
     "text": [
      "C:\\Users\\oceanvue\\Desktop\\DeepShip Dataset\\Tanker\\103\\103.wav\n"
     ]
    },
    {
     "name": "stderr",
     "output_type": "stream",
     "text": [
      "403it [10:16,  1.50s/it]"
     ]
    },
    {
     "name": "stdout",
     "output_type": "stream",
     "text": [
      "C:\\Users\\oceanvue\\Desktop\\DeepShip Dataset\\Tanker\\104\\104.wav\n"
     ]
    },
    {
     "name": "stderr",
     "output_type": "stream",
     "text": [
      "404it [10:19,  1.99s/it]"
     ]
    },
    {
     "name": "stdout",
     "output_type": "stream",
     "text": [
      "C:\\Users\\oceanvue\\Desktop\\DeepShip Dataset\\Tanker\\105\\105.wav\n"
     ]
    },
    {
     "name": "stderr",
     "output_type": "stream",
     "text": [
      "405it [10:21,  1.98s/it]"
     ]
    },
    {
     "name": "stdout",
     "output_type": "stream",
     "text": [
      "C:\\Users\\oceanvue\\Desktop\\DeepShip Dataset\\Tanker\\106\\106.wav\n"
     ]
    },
    {
     "name": "stderr",
     "output_type": "stream",
     "text": [
      "406it [10:22,  1.78s/it]"
     ]
    },
    {
     "name": "stdout",
     "output_type": "stream",
     "text": [
      "C:\\Users\\oceanvue\\Desktop\\DeepShip Dataset\\Tanker\\107\\107.wav\n"
     ]
    },
    {
     "name": "stderr",
     "output_type": "stream",
     "text": [
      "408it [10:23,  1.11s/it]"
     ]
    },
    {
     "name": "stdout",
     "output_type": "stream",
     "text": [
      "C:\\Users\\oceanvue\\Desktop\\DeepShip Dataset\\Tanker\\108\\108.wav\n"
     ]
    },
    {
     "name": "stderr",
     "output_type": "stream",
     "text": [
      "409it [10:24,  1.22it/s]"
     ]
    },
    {
     "name": "stdout",
     "output_type": "stream",
     "text": [
      "C:\\Users\\oceanvue\\Desktop\\DeepShip Dataset\\Tanker\\109\\109.wav\n",
      "C:\\Users\\oceanvue\\Desktop\\DeepShip Dataset\\Tanker\\110\\110.wav\n"
     ]
    },
    {
     "name": "stderr",
     "output_type": "stream",
     "text": [
      "410it [10:26,  1.35s/it]"
     ]
    },
    {
     "name": "stdout",
     "output_type": "stream",
     "text": [
      "C:\\Users\\oceanvue\\Desktop\\DeepShip Dataset\\Tanker\\111\\111.wav\n"
     ]
    },
    {
     "name": "stderr",
     "output_type": "stream",
     "text": [
      "411it [10:26,  1.03s/it]"
     ]
    },
    {
     "name": "stdout",
     "output_type": "stream",
     "text": [
      "C:\\Users\\oceanvue\\Desktop\\DeepShip Dataset\\Tanker\\112\\112.wav\n"
     ]
    },
    {
     "name": "stderr",
     "output_type": "stream",
     "text": [
      "412it [10:29,  1.46s/it]"
     ]
    },
    {
     "name": "stdout",
     "output_type": "stream",
     "text": [
      "C:\\Users\\oceanvue\\Desktop\\DeepShip Dataset\\Tanker\\113\\113.wav\n"
     ]
    },
    {
     "name": "stderr",
     "output_type": "stream",
     "text": [
      "413it [10:29,  1.11s/it]"
     ]
    },
    {
     "name": "stdout",
     "output_type": "stream",
     "text": [
      "C:\\Users\\oceanvue\\Desktop\\DeepShip Dataset\\Tanker\\114\\114.wav\n",
      "C:\\Users\\oceanvue\\Desktop\\DeepShip Dataset\\Tanker\\115\\115.wav\n"
     ]
    },
    {
     "name": "stderr",
     "output_type": "stream",
     "text": [
      "415it [10:32,  1.19s/it]"
     ]
    },
    {
     "name": "stdout",
     "output_type": "stream",
     "text": [
      "C:\\Users\\oceanvue\\Desktop\\DeepShip Dataset\\Tanker\\116\\116.wav\n"
     ]
    },
    {
     "name": "stderr",
     "output_type": "stream",
     "text": [
      "416it [10:32,  1.05it/s]"
     ]
    },
    {
     "name": "stdout",
     "output_type": "stream",
     "text": [
      "C:\\Users\\oceanvue\\Desktop\\DeepShip Dataset\\Tanker\\117\\117.wav\n"
     ]
    },
    {
     "name": "stderr",
     "output_type": "stream",
     "text": [
      "417it [10:33,  1.15it/s]"
     ]
    },
    {
     "name": "stdout",
     "output_type": "stream",
     "text": [
      "C:\\Users\\oceanvue\\Desktop\\DeepShip Dataset\\Tanker\\118\\118.wav\n"
     ]
    },
    {
     "name": "stderr",
     "output_type": "stream",
     "text": [
      "418it [10:33,  1.24it/s]"
     ]
    },
    {
     "name": "stdout",
     "output_type": "stream",
     "text": [
      "C:\\Users\\oceanvue\\Desktop\\DeepShip Dataset\\Tanker\\119\\119.wav\n"
     ]
    },
    {
     "name": "stderr",
     "output_type": "stream",
     "text": [
      "419it [10:36,  1.45s/it]"
     ]
    },
    {
     "name": "stdout",
     "output_type": "stream",
     "text": [
      "C:\\Users\\oceanvue\\Desktop\\DeepShip Dataset\\Tanker\\120\\120.wav\n"
     ]
    },
    {
     "name": "stderr",
     "output_type": "stream",
     "text": [
      "421it [10:39,  1.19s/it]"
     ]
    },
    {
     "name": "stdout",
     "output_type": "stream",
     "text": [
      "C:\\Users\\oceanvue\\Desktop\\DeepShip Dataset\\Tanker\\121\\121.wav\n",
      "C:\\Users\\oceanvue\\Desktop\\DeepShip Dataset\\Tanker\\122\\122.wav\n"
     ]
    },
    {
     "name": "stderr",
     "output_type": "stream",
     "text": [
      "422it [10:41,  1.42s/it]"
     ]
    },
    {
     "name": "stdout",
     "output_type": "stream",
     "text": [
      "C:\\Users\\oceanvue\\Desktop\\DeepShip Dataset\\Tanker\\123\\123.wav\n"
     ]
    },
    {
     "name": "stderr",
     "output_type": "stream",
     "text": [
      "423it [10:43,  1.62s/it]"
     ]
    },
    {
     "name": "stdout",
     "output_type": "stream",
     "text": [
      "C:\\Users\\oceanvue\\Desktop\\DeepShip Dataset\\Tanker\\124\\124.wav\n",
      "C:\\Users\\oceanvue\\Desktop\\DeepShip Dataset\\Tanker\\125\\125.wav\n"
     ]
    },
    {
     "name": "stderr",
     "output_type": "stream",
     "text": [
      "425it [10:46,  1.58s/it]"
     ]
    },
    {
     "name": "stdout",
     "output_type": "stream",
     "text": [
      "C:\\Users\\oceanvue\\Desktop\\DeepShip Dataset\\Tanker\\126\\126.wav\n"
     ]
    },
    {
     "name": "stderr",
     "output_type": "stream",
     "text": [
      "427it [10:46,  1.02it/s]"
     ]
    },
    {
     "name": "stdout",
     "output_type": "stream",
     "text": [
      "C:\\Users\\oceanvue\\Desktop\\DeepShip Dataset\\Tanker\\127\\127.wav\n",
      "C:\\Users\\oceanvue\\Desktop\\DeepShip Dataset\\Tanker\\128\\128.wav\n"
     ]
    },
    {
     "name": "stderr",
     "output_type": "stream",
     "text": [
      "428it [10:48,  1.23s/it]"
     ]
    },
    {
     "name": "stdout",
     "output_type": "stream",
     "text": [
      "C:\\Users\\oceanvue\\Desktop\\DeepShip Dataset\\Tanker\\129\\129.wav\n"
     ]
    },
    {
     "name": "stderr",
     "output_type": "stream",
     "text": [
      "429it [10:49,  1.25s/it]"
     ]
    },
    {
     "name": "stdout",
     "output_type": "stream",
     "text": [
      "C:\\Users\\oceanvue\\Desktop\\DeepShip Dataset\\Tanker\\130\\130.wav\n"
     ]
    },
    {
     "name": "stderr",
     "output_type": "stream",
     "text": [
      "430it [10:50,  1.02s/it]"
     ]
    },
    {
     "name": "stdout",
     "output_type": "stream",
     "text": [
      "C:\\Users\\oceanvue\\Desktop\\DeepShip Dataset\\Tanker\\131\\131.wav\n",
      "C:\\Users\\oceanvue\\Desktop\\DeepShip Dataset\\Tanker\\132\\132.wav\n"
     ]
    },
    {
     "name": "stderr",
     "output_type": "stream",
     "text": [
      "432it [10:50,  1.48it/s]"
     ]
    },
    {
     "name": "stdout",
     "output_type": "stream",
     "text": [
      "C:\\Users\\oceanvue\\Desktop\\DeepShip Dataset\\Tanker\\133\\133.wav\n"
     ]
    },
    {
     "name": "stderr",
     "output_type": "stream",
     "text": [
      "434it [10:53,  1.16it/s]"
     ]
    },
    {
     "name": "stdout",
     "output_type": "stream",
     "text": [
      "C:\\Users\\oceanvue\\Desktop\\DeepShip Dataset\\Tanker\\134\\134.wav\n",
      "C:\\Users\\oceanvue\\Desktop\\DeepShip Dataset\\Tanker\\135\\135.wav\n"
     ]
    },
    {
     "name": "stderr",
     "output_type": "stream",
     "text": [
      "435it [10:53,  1.32it/s]"
     ]
    },
    {
     "name": "stdout",
     "output_type": "stream",
     "text": [
      "C:\\Users\\oceanvue\\Desktop\\DeepShip Dataset\\Tanker\\136\\136.wav\n"
     ]
    },
    {
     "name": "stderr",
     "output_type": "stream",
     "text": [
      "436it [10:56,  1.22s/it]"
     ]
    },
    {
     "name": "stdout",
     "output_type": "stream",
     "text": [
      "C:\\Users\\oceanvue\\Desktop\\DeepShip Dataset\\Tanker\\137\\137.wav\n"
     ]
    },
    {
     "name": "stderr",
     "output_type": "stream",
     "text": [
      "437it [10:58,  1.45s/it]"
     ]
    },
    {
     "name": "stdout",
     "output_type": "stream",
     "text": [
      "C:\\Users\\oceanvue\\Desktop\\DeepShip Dataset\\Tanker\\138\\138.wav\n"
     ]
    },
    {
     "name": "stderr",
     "output_type": "stream",
     "text": [
      "438it [10:59,  1.48s/it]"
     ]
    },
    {
     "name": "stdout",
     "output_type": "stream",
     "text": [
      "C:\\Users\\oceanvue\\Desktop\\DeepShip Dataset\\Tanker\\139\\139.wav\n"
     ]
    },
    {
     "name": "stderr",
     "output_type": "stream",
     "text": [
      "439it [11:00,  1.31s/it]"
     ]
    },
    {
     "name": "stdout",
     "output_type": "stream",
     "text": [
      "C:\\Users\\oceanvue\\Desktop\\DeepShip Dataset\\Tanker\\140\\140.wav\n"
     ]
    },
    {
     "name": "stderr",
     "output_type": "stream",
     "text": [
      "440it [11:01,  1.02s/it]"
     ]
    },
    {
     "name": "stdout",
     "output_type": "stream",
     "text": [
      "C:\\Users\\oceanvue\\Desktop\\DeepShip Dataset\\Tanker\\141\\141.wav\n"
     ]
    },
    {
     "name": "stderr",
     "output_type": "stream",
     "text": [
      "441it [11:01,  1.13it/s]"
     ]
    },
    {
     "name": "stdout",
     "output_type": "stream",
     "text": [
      "C:\\Users\\oceanvue\\Desktop\\DeepShip Dataset\\Tanker\\142\\142.wav\n"
     ]
    },
    {
     "name": "stderr",
     "output_type": "stream",
     "text": [
      "442it [11:04,  1.32s/it]"
     ]
    },
    {
     "name": "stdout",
     "output_type": "stream",
     "text": [
      "C:\\Users\\oceanvue\\Desktop\\DeepShip Dataset\\Tanker\\143\\143.wav\n"
     ]
    },
    {
     "name": "stderr",
     "output_type": "stream",
     "text": [
      "443it [11:04,  1.02s/it]"
     ]
    },
    {
     "name": "stdout",
     "output_type": "stream",
     "text": [
      "C:\\Users\\oceanvue\\Desktop\\DeepShip Dataset\\Tanker\\144\\144.wav\n"
     ]
    },
    {
     "name": "stderr",
     "output_type": "stream",
     "text": [
      "444it [11:04,  1.16it/s]"
     ]
    },
    {
     "name": "stdout",
     "output_type": "stream",
     "text": [
      "C:\\Users\\oceanvue\\Desktop\\DeepShip Dataset\\Tanker\\145\\145.wav\n"
     ]
    },
    {
     "name": "stderr",
     "output_type": "stream",
     "text": [
      "446it [11:05,  1.83it/s]"
     ]
    },
    {
     "name": "stdout",
     "output_type": "stream",
     "text": [
      "C:\\Users\\oceanvue\\Desktop\\DeepShip Dataset\\Tanker\\146\\146.wav\n",
      "C:\\Users\\oceanvue\\Desktop\\DeepShip Dataset\\Tanker\\147\\147.wav\n"
     ]
    },
    {
     "name": "stderr",
     "output_type": "stream",
     "text": [
      "447it [11:05,  2.19it/s]"
     ]
    },
    {
     "name": "stdout",
     "output_type": "stream",
     "text": [
      "C:\\Users\\oceanvue\\Desktop\\DeepShip Dataset\\Tanker\\148\\148.wav\n",
      "C:\\Users\\oceanvue\\Desktop\\DeepShip Dataset\\Tanker\\149\\149.wav\n"
     ]
    },
    {
     "name": "stderr",
     "output_type": "stream",
     "text": [
      "449it [11:08,  1.02it/s]"
     ]
    },
    {
     "name": "stdout",
     "output_type": "stream",
     "text": [
      "C:\\Users\\oceanvue\\Desktop\\DeepShip Dataset\\Tanker\\150\\150.wav\n"
     ]
    },
    {
     "name": "stderr",
     "output_type": "stream",
     "text": [
      "451it [11:11,  1.03it/s]"
     ]
    },
    {
     "name": "stdout",
     "output_type": "stream",
     "text": [
      "C:\\Users\\oceanvue\\Desktop\\DeepShip Dataset\\Tanker\\151\\151.wav\n",
      "C:\\Users\\oceanvue\\Desktop\\DeepShip Dataset\\Tanker\\152\\152.wav\n"
     ]
    },
    {
     "name": "stderr",
     "output_type": "stream",
     "text": [
      "453it [11:13,  1.04s/it]"
     ]
    },
    {
     "name": "stdout",
     "output_type": "stream",
     "text": [
      "C:\\Users\\oceanvue\\Desktop\\DeepShip Dataset\\Tanker\\153\\153.wav\n",
      "C:\\Users\\oceanvue\\Desktop\\DeepShip Dataset\\Tanker\\154\\154.wav\n"
     ]
    },
    {
     "name": "stderr",
     "output_type": "stream",
     "text": [
      "454it [11:13,  1.30it/s]"
     ]
    },
    {
     "name": "stdout",
     "output_type": "stream",
     "text": [
      "C:\\Users\\oceanvue\\Desktop\\DeepShip Dataset\\Tanker\\155\\155.wav\n"
     ]
    },
    {
     "name": "stderr",
     "output_type": "stream",
     "text": [
      "455it [11:14,  1.64it/s]"
     ]
    },
    {
     "name": "stdout",
     "output_type": "stream",
     "text": [
      "C:\\Users\\oceanvue\\Desktop\\DeepShip Dataset\\Tanker\\156\\156.wav\n"
     ]
    },
    {
     "name": "stderr",
     "output_type": "stream",
     "text": [
      "456it [11:14,  1.61it/s]"
     ]
    },
    {
     "name": "stdout",
     "output_type": "stream",
     "text": [
      "C:\\Users\\oceanvue\\Desktop\\DeepShip Dataset\\Tanker\\157\\157.wav\n"
     ]
    },
    {
     "name": "stderr",
     "output_type": "stream",
     "text": [
      "457it [11:16,  1.08s/it]"
     ]
    },
    {
     "name": "stdout",
     "output_type": "stream",
     "text": [
      "C:\\Users\\oceanvue\\Desktop\\DeepShip Dataset\\Tanker\\158\\158.wav\n"
     ]
    },
    {
     "name": "stderr",
     "output_type": "stream",
     "text": [
      "458it [11:19,  1.47s/it]"
     ]
    },
    {
     "name": "stdout",
     "output_type": "stream",
     "text": [
      "C:\\Users\\oceanvue\\Desktop\\DeepShip Dataset\\Tanker\\159\\159.wav\n"
     ]
    },
    {
     "name": "stderr",
     "output_type": "stream",
     "text": [
      "459it [11:21,  1.60s/it]"
     ]
    },
    {
     "name": "stdout",
     "output_type": "stream",
     "text": [
      "C:\\Users\\oceanvue\\Desktop\\DeepShip Dataset\\Tanker\\160\\160.wav\n"
     ]
    },
    {
     "name": "stderr",
     "output_type": "stream",
     "text": [
      "460it [11:21,  1.30s/it]"
     ]
    },
    {
     "name": "stdout",
     "output_type": "stream",
     "text": [
      "C:\\Users\\oceanvue\\Desktop\\DeepShip Dataset\\Tanker\\161\\161.wav\n"
     ]
    },
    {
     "name": "stderr",
     "output_type": "stream",
     "text": [
      "461it [11:21,  1.01it/s]"
     ]
    },
    {
     "name": "stdout",
     "output_type": "stream",
     "text": [
      "C:\\Users\\oceanvue\\Desktop\\DeepShip Dataset\\Tanker\\162\\162.wav\n"
     ]
    },
    {
     "name": "stderr",
     "output_type": "stream",
     "text": [
      "462it [11:24,  1.57s/it]"
     ]
    },
    {
     "name": "stdout",
     "output_type": "stream",
     "text": [
      "C:\\Users\\oceanvue\\Desktop\\DeepShip Dataset\\Tanker\\163\\163.wav\n",
      "C:\\Users\\oceanvue\\Desktop\\DeepShip Dataset\\Tanker\\164\\164.wav\n"
     ]
    },
    {
     "name": "stderr",
     "output_type": "stream",
     "text": [
      "464it [11:26,  1.23s/it]"
     ]
    },
    {
     "name": "stdout",
     "output_type": "stream",
     "text": [
      "C:\\Users\\oceanvue\\Desktop\\DeepShip Dataset\\Tanker\\165\\165.wav\n",
      "C:\\Users\\oceanvue\\Desktop\\DeepShip Dataset\\Tanker\\166\\166.wav\n"
     ]
    },
    {
     "name": "stderr",
     "output_type": "stream",
     "text": [
      "466it [11:26,  1.24it/s]"
     ]
    },
    {
     "name": "stdout",
     "output_type": "stream",
     "text": [
      "C:\\Users\\oceanvue\\Desktop\\DeepShip Dataset\\Tanker\\167\\167.wav\n"
     ]
    },
    {
     "name": "stderr",
     "output_type": "stream",
     "text": [
      "467it [11:27,  1.49it/s]"
     ]
    },
    {
     "name": "stdout",
     "output_type": "stream",
     "text": [
      "C:\\Users\\oceanvue\\Desktop\\DeepShip Dataset\\Tanker\\168\\168.wav\n",
      "C:\\Users\\oceanvue\\Desktop\\DeepShip Dataset\\Tanker\\169\\169.wav\n"
     ]
    },
    {
     "name": "stderr",
     "output_type": "stream",
     "text": [
      "470it [11:30,  1.19it/s]"
     ]
    },
    {
     "name": "stdout",
     "output_type": "stream",
     "text": [
      "C:\\Users\\oceanvue\\Desktop\\DeepShip Dataset\\Tanker\\170\\170.wav\n",
      "C:\\Users\\oceanvue\\Desktop\\DeepShip Dataset\\Tanker\\171\\171.wav\n"
     ]
    },
    {
     "name": "stderr",
     "output_type": "stream",
     "text": [
      "471it [11:32,  1.14s/it]"
     ]
    },
    {
     "name": "stdout",
     "output_type": "stream",
     "text": [
      "C:\\Users\\oceanvue\\Desktop\\DeepShip Dataset\\Tanker\\172\\172.wav\n"
     ]
    },
    {
     "name": "stderr",
     "output_type": "stream",
     "text": [
      "472it [11:34,  1.39s/it]"
     ]
    },
    {
     "name": "stdout",
     "output_type": "stream",
     "text": [
      "C:\\Users\\oceanvue\\Desktop\\DeepShip Dataset\\Tanker\\173\\173.wav\n"
     ]
    },
    {
     "name": "stderr",
     "output_type": "stream",
     "text": [
      "473it [11:35,  1.12s/it]"
     ]
    },
    {
     "name": "stdout",
     "output_type": "stream",
     "text": [
      "C:\\Users\\oceanvue\\Desktop\\DeepShip Dataset\\Tanker\\174\\174.wav\n"
     ]
    },
    {
     "name": "stderr",
     "output_type": "stream",
     "text": [
      "474it [11:36,  1.09s/it]"
     ]
    },
    {
     "name": "stdout",
     "output_type": "stream",
     "text": [
      "C:\\Users\\oceanvue\\Desktop\\DeepShip Dataset\\Tanker\\175\\175.wav\n"
     ]
    },
    {
     "name": "stderr",
     "output_type": "stream",
     "text": [
      "475it [11:36,  1.04it/s]"
     ]
    },
    {
     "name": "stdout",
     "output_type": "stream",
     "text": [
      "C:\\Users\\oceanvue\\Desktop\\DeepShip Dataset\\Tanker\\176\\176.wav\n"
     ]
    },
    {
     "name": "stderr",
     "output_type": "stream",
     "text": [
      "476it [11:37,  1.07it/s]"
     ]
    },
    {
     "name": "stdout",
     "output_type": "stream",
     "text": [
      "C:\\Users\\oceanvue\\Desktop\\DeepShip Dataset\\Tanker\\177\\177.wav\n"
     ]
    },
    {
     "name": "stderr",
     "output_type": "stream",
     "text": [
      "477it [11:37,  1.37it/s]"
     ]
    },
    {
     "name": "stdout",
     "output_type": "stream",
     "text": [
      "C:\\Users\\oceanvue\\Desktop\\DeepShip Dataset\\Tanker\\178\\178.wav\n"
     ]
    },
    {
     "name": "stderr",
     "output_type": "stream",
     "text": [
      "478it [11:40,  1.36s/it]"
     ]
    },
    {
     "name": "stdout",
     "output_type": "stream",
     "text": [
      "C:\\Users\\oceanvue\\Desktop\\DeepShip Dataset\\Tanker\\179\\179.wav\n"
     ]
    },
    {
     "name": "stderr",
     "output_type": "stream",
     "text": [
      "479it [11:42,  1.63s/it]"
     ]
    },
    {
     "name": "stdout",
     "output_type": "stream",
     "text": [
      "C:\\Users\\oceanvue\\Desktop\\DeepShip Dataset\\Tanker\\180\\180.wav\n"
     ]
    },
    {
     "name": "stderr",
     "output_type": "stream",
     "text": [
      "480it [11:44,  1.55s/it]"
     ]
    },
    {
     "name": "stdout",
     "output_type": "stream",
     "text": [
      "C:\\Users\\oceanvue\\Desktop\\DeepShip Dataset\\Tanker\\181\\181.wav\n"
     ]
    },
    {
     "name": "stderr",
     "output_type": "stream",
     "text": [
      "481it [11:46,  1.65s/it]"
     ]
    },
    {
     "name": "stdout",
     "output_type": "stream",
     "text": [
      "C:\\Users\\oceanvue\\Desktop\\DeepShip Dataset\\Tanker\\182\\182.wav\n"
     ]
    },
    {
     "name": "stderr",
     "output_type": "stream",
     "text": [
      "482it [11:48,  1.69s/it]"
     ]
    },
    {
     "name": "stdout",
     "output_type": "stream",
     "text": [
      "C:\\Users\\oceanvue\\Desktop\\DeepShip Dataset\\Tanker\\183\\183.wav\n"
     ]
    },
    {
     "name": "stderr",
     "output_type": "stream",
     "text": [
      "483it [11:49,  1.61s/it]"
     ]
    },
    {
     "name": "stdout",
     "output_type": "stream",
     "text": [
      "C:\\Users\\oceanvue\\Desktop\\DeepShip Dataset\\Tanker\\184\\184.wav\n"
     ]
    },
    {
     "name": "stderr",
     "output_type": "stream",
     "text": [
      "485it [11:50,  1.07it/s]"
     ]
    },
    {
     "name": "stdout",
     "output_type": "stream",
     "text": [
      "C:\\Users\\oceanvue\\Desktop\\DeepShip Dataset\\Tanker\\185\\185.wav\n",
      "C:\\Users\\oceanvue\\Desktop\\DeepShip Dataset\\Tanker\\186\\186.wav\n"
     ]
    },
    {
     "name": "stderr",
     "output_type": "stream",
     "text": [
      "486it [11:51,  1.06it/s]"
     ]
    },
    {
     "name": "stdout",
     "output_type": "stream",
     "text": [
      "C:\\Users\\oceanvue\\Desktop\\DeepShip Dataset\\Tanker\\187\\187.wav\n"
     ]
    },
    {
     "name": "stderr",
     "output_type": "stream",
     "text": [
      "487it [11:53,  1.30s/it]"
     ]
    },
    {
     "name": "stdout",
     "output_type": "stream",
     "text": [
      "C:\\Users\\oceanvue\\Desktop\\DeepShip Dataset\\Tanker\\188\\188.wav\n"
     ]
    },
    {
     "name": "stderr",
     "output_type": "stream",
     "text": [
      "488it [11:53,  1.07s/it]"
     ]
    },
    {
     "name": "stdout",
     "output_type": "stream",
     "text": [
      "C:\\Users\\oceanvue\\Desktop\\DeepShip Dataset\\Tanker\\189\\189.wav\n",
      "C:\\Users\\oceanvue\\Desktop\\DeepShip Dataset\\Tanker\\190\\190.wav\n"
     ]
    },
    {
     "name": "stderr",
     "output_type": "stream",
     "text": [
      "490it [11:55,  1.05it/s]"
     ]
    },
    {
     "name": "stdout",
     "output_type": "stream",
     "text": [
      "C:\\Users\\oceanvue\\Desktop\\DeepShip Dataset\\Tanker\\191\\191.wav\n",
      "C:\\Users\\oceanvue\\Desktop\\DeepShip Dataset\\Tanker\\192\\192.wav\n"
     ]
    },
    {
     "name": "stderr",
     "output_type": "stream",
     "text": [
      "492it [11:57,  1.07it/s]"
     ]
    },
    {
     "name": "stdout",
     "output_type": "stream",
     "text": [
      "C:\\Users\\oceanvue\\Desktop\\DeepShip Dataset\\Tanker\\193\\193.wav\n"
     ]
    },
    {
     "name": "stderr",
     "output_type": "stream",
     "text": [
      "493it [11:59,  1.30s/it]"
     ]
    },
    {
     "name": "stdout",
     "output_type": "stream",
     "text": [
      "C:\\Users\\oceanvue\\Desktop\\DeepShip Dataset\\Tanker\\194\\194.wav\n"
     ]
    },
    {
     "name": "stderr",
     "output_type": "stream",
     "text": [
      "495it [12:03,  1.50s/it]"
     ]
    },
    {
     "name": "stdout",
     "output_type": "stream",
     "text": [
      "C:\\Users\\oceanvue\\Desktop\\DeepShip Dataset\\Tanker\\195\\195.wav\n",
      "C:\\Users\\oceanvue\\Desktop\\DeepShip Dataset\\Tanker\\196\\196.wav\n"
     ]
    },
    {
     "name": "stderr",
     "output_type": "stream",
     "text": [
      "496it [12:04,  1.16s/it]"
     ]
    },
    {
     "name": "stdout",
     "output_type": "stream",
     "text": [
      "C:\\Users\\oceanvue\\Desktop\\DeepShip Dataset\\Tanker\\197\\197.wav\n",
      "C:\\Users\\oceanvue\\Desktop\\DeepShip Dataset\\Tanker\\198\\198.wav\n"
     ]
    },
    {
     "name": "stderr",
     "output_type": "stream",
     "text": [
      "498it [12:04,  1.37it/s]"
     ]
    },
    {
     "name": "stdout",
     "output_type": "stream",
     "text": [
      "C:\\Users\\oceanvue\\Desktop\\DeepShip Dataset\\Tanker\\199\\199.wav\n"
     ]
    },
    {
     "name": "stderr",
     "output_type": "stream",
     "text": [
      "499it [12:08,  1.47s/it]"
     ]
    },
    {
     "name": "stdout",
     "output_type": "stream",
     "text": [
      "C:\\Users\\oceanvue\\Desktop\\DeepShip Dataset\\Tanker\\200\\200.wav\n"
     ]
    },
    {
     "name": "stderr",
     "output_type": "stream",
     "text": [
      "500it [12:09,  1.50s/it]"
     ]
    },
    {
     "name": "stdout",
     "output_type": "stream",
     "text": [
      "C:\\Users\\oceanvue\\Desktop\\DeepShip Dataset\\Tanker\\201\\201.wav\n"
     ]
    },
    {
     "name": "stderr",
     "output_type": "stream",
     "text": [
      "501it [12:12,  1.68s/it]"
     ]
    },
    {
     "name": "stdout",
     "output_type": "stream",
     "text": [
      "C:\\Users\\oceanvue\\Desktop\\DeepShip Dataset\\Tanker\\202\\202.wav\n"
     ]
    },
    {
     "name": "stderr",
     "output_type": "stream",
     "text": [
      "502it [12:15,  2.08s/it]"
     ]
    },
    {
     "name": "stdout",
     "output_type": "stream",
     "text": [
      "C:\\Users\\oceanvue\\Desktop\\DeepShip Dataset\\Tanker\\203\\203.wav\n"
     ]
    },
    {
     "name": "stderr",
     "output_type": "stream",
     "text": [
      "503it [12:15,  1.55s/it]"
     ]
    },
    {
     "name": "stdout",
     "output_type": "stream",
     "text": [
      "C:\\Users\\oceanvue\\Desktop\\DeepShip Dataset\\Tanker\\204\\204.wav\n"
     ]
    },
    {
     "name": "stderr",
     "output_type": "stream",
     "text": [
      "504it [12:15,  1.21s/it]"
     ]
    },
    {
     "name": "stdout",
     "output_type": "stream",
     "text": [
      "C:\\Users\\oceanvue\\Desktop\\DeepShip Dataset\\Tanker\\205\\205.wav\n"
     ]
    },
    {
     "name": "stderr",
     "output_type": "stream",
     "text": [
      "505it [12:17,  1.40s/it]"
     ]
    },
    {
     "name": "stdout",
     "output_type": "stream",
     "text": [
      "C:\\Users\\oceanvue\\Desktop\\DeepShip Dataset\\Tanker\\206\\206.wav\n"
     ]
    },
    {
     "name": "stderr",
     "output_type": "stream",
     "text": [
      "506it [12:19,  1.41s/it]"
     ]
    },
    {
     "name": "stdout",
     "output_type": "stream",
     "text": [
      "C:\\Users\\oceanvue\\Desktop\\DeepShip Dataset\\Tanker\\207\\207.wav\n"
     ]
    },
    {
     "name": "stderr",
     "output_type": "stream",
     "text": [
      "507it [12:19,  1.12s/it]"
     ]
    },
    {
     "name": "stdout",
     "output_type": "stream",
     "text": [
      "C:\\Users\\oceanvue\\Desktop\\DeepShip Dataset\\Tanker\\208\\208.wav\n"
     ]
    },
    {
     "name": "stderr",
     "output_type": "stream",
     "text": [
      "509it [12:20,  1.21it/s]"
     ]
    },
    {
     "name": "stdout",
     "output_type": "stream",
     "text": [
      "C:\\Users\\oceanvue\\Desktop\\DeepShip Dataset\\Tanker\\209\\209.wav\n",
      "C:\\Users\\oceanvue\\Desktop\\DeepShip Dataset\\Tanker\\210\\210.wav\n"
     ]
    },
    {
     "name": "stderr",
     "output_type": "stream",
     "text": [
      "510it [12:21,  1.44it/s]"
     ]
    },
    {
     "name": "stdout",
     "output_type": "stream",
     "text": [
      "C:\\Users\\oceanvue\\Desktop\\DeepShip Dataset\\Tanker\\211\\211.wav\n"
     ]
    },
    {
     "name": "stderr",
     "output_type": "stream",
     "text": [
      "511it [12:22,  1.30it/s]"
     ]
    },
    {
     "name": "stdout",
     "output_type": "stream",
     "text": [
      "C:\\Users\\oceanvue\\Desktop\\DeepShip Dataset\\Tanker\\212\\212.wav\n"
     ]
    },
    {
     "name": "stderr",
     "output_type": "stream",
     "text": [
      "512it [12:24,  1.19s/it]"
     ]
    },
    {
     "name": "stdout",
     "output_type": "stream",
     "text": [
      "C:\\Users\\oceanvue\\Desktop\\DeepShip Dataset\\Tanker\\213\\213.wav\n"
     ]
    },
    {
     "name": "stderr",
     "output_type": "stream",
     "text": [
      "514it [12:25,  1.22it/s]"
     ]
    },
    {
     "name": "stdout",
     "output_type": "stream",
     "text": [
      "C:\\Users\\oceanvue\\Desktop\\DeepShip Dataset\\Tanker\\214\\214.wav\n",
      "C:\\Users\\oceanvue\\Desktop\\DeepShip Dataset\\Tanker\\215\\215.wav\n"
     ]
    },
    {
     "name": "stderr",
     "output_type": "stream",
     "text": [
      "515it [12:27,  1.15s/it]"
     ]
    },
    {
     "name": "stdout",
     "output_type": "stream",
     "text": [
      "C:\\Users\\oceanvue\\Desktop\\DeepShip Dataset\\Tanker\\216\\216.wav\n"
     ]
    },
    {
     "name": "stderr",
     "output_type": "stream",
     "text": [
      "516it [12:29,  1.42s/it]"
     ]
    },
    {
     "name": "stdout",
     "output_type": "stream",
     "text": [
      "C:\\Users\\oceanvue\\Desktop\\DeepShip Dataset\\Tanker\\217\\217.wav\n"
     ]
    },
    {
     "name": "stderr",
     "output_type": "stream",
     "text": [
      "517it [12:31,  1.61s/it]"
     ]
    },
    {
     "name": "stdout",
     "output_type": "stream",
     "text": [
      "C:\\Users\\oceanvue\\Desktop\\DeepShip Dataset\\Tanker\\218\\218.wav\n"
     ]
    },
    {
     "name": "stderr",
     "output_type": "stream",
     "text": [
      "518it [12:31,  1.23s/it]"
     ]
    },
    {
     "name": "stdout",
     "output_type": "stream",
     "text": [
      "C:\\Users\\oceanvue\\Desktop\\DeepShip Dataset\\Tanker\\219\\219.wav\n"
     ]
    },
    {
     "name": "stderr",
     "output_type": "stream",
     "text": [
      "519it [12:32,  1.06it/s]"
     ]
    },
    {
     "name": "stdout",
     "output_type": "stream",
     "text": [
      "C:\\Users\\oceanvue\\Desktop\\DeepShip Dataset\\Tanker\\220\\220.wav\n"
     ]
    },
    {
     "name": "stderr",
     "output_type": "stream",
     "text": [
      "520it [12:34,  1.30s/it]"
     ]
    },
    {
     "name": "stdout",
     "output_type": "stream",
     "text": [
      "C:\\Users\\oceanvue\\Desktop\\DeepShip Dataset\\Tanker\\221\\221.wav\n"
     ]
    },
    {
     "name": "stderr",
     "output_type": "stream",
     "text": [
      "521it [12:34,  1.02it/s]"
     ]
    },
    {
     "name": "stdout",
     "output_type": "stream",
     "text": [
      "C:\\Users\\oceanvue\\Desktop\\DeepShip Dataset\\Tanker\\222\\222.wav\n"
     ]
    },
    {
     "name": "stderr",
     "output_type": "stream",
     "text": [
      "522it [12:37,  1.59s/it]"
     ]
    },
    {
     "name": "stdout",
     "output_type": "stream",
     "text": [
      "C:\\Users\\oceanvue\\Desktop\\DeepShip Dataset\\Tanker\\223\\223.wav\n"
     ]
    },
    {
     "name": "stderr",
     "output_type": "stream",
     "text": [
      "523it [12:40,  1.91s/it]"
     ]
    },
    {
     "name": "stdout",
     "output_type": "stream",
     "text": [
      "C:\\Users\\oceanvue\\Desktop\\DeepShip Dataset\\Tanker\\224\\224.wav\n"
     ]
    },
    {
     "name": "stderr",
     "output_type": "stream",
     "text": [
      "524it [12:42,  2.00s/it]"
     ]
    },
    {
     "name": "stdout",
     "output_type": "stream",
     "text": [
      "C:\\Users\\oceanvue\\Desktop\\DeepShip Dataset\\Tanker\\225\\225.wav\n"
     ]
    },
    {
     "name": "stderr",
     "output_type": "stream",
     "text": [
      "526it [12:42,  1.09s/it]"
     ]
    },
    {
     "name": "stdout",
     "output_type": "stream",
     "text": [
      "C:\\Users\\oceanvue\\Desktop\\DeepShip Dataset\\Tanker\\226\\226.wav\n",
      "C:\\Users\\oceanvue\\Desktop\\DeepShip Dataset\\Tanker\\227\\227.wav\n"
     ]
    },
    {
     "name": "stderr",
     "output_type": "stream",
     "text": [
      "527it [12:45,  1.64s/it]"
     ]
    },
    {
     "name": "stdout",
     "output_type": "stream",
     "text": [
      "C:\\Users\\oceanvue\\Desktop\\DeepShip Dataset\\Tanker\\228\\228.wav\n"
     ]
    },
    {
     "name": "stderr",
     "output_type": "stream",
     "text": [
      "528it [12:47,  1.77s/it]"
     ]
    },
    {
     "name": "stdout",
     "output_type": "stream",
     "text": [
      "C:\\Users\\oceanvue\\Desktop\\DeepShip Dataset\\Tanker\\229\\229.wav\n"
     ]
    },
    {
     "name": "stderr",
     "output_type": "stream",
     "text": [
      "529it [12:48,  1.37s/it]"
     ]
    },
    {
     "name": "stdout",
     "output_type": "stream",
     "text": [
      "C:\\Users\\oceanvue\\Desktop\\DeepShip Dataset\\Tanker\\230\\230.wav\n"
     ]
    },
    {
     "name": "stderr",
     "output_type": "stream",
     "text": [
      "530it [12:50,  1.58s/it]"
     ]
    },
    {
     "name": "stdout",
     "output_type": "stream",
     "text": [
      "C:\\Users\\oceanvue\\Desktop\\DeepShip Dataset\\Tanker\\231\\231.wav\n"
     ]
    },
    {
     "name": "stderr",
     "output_type": "stream",
     "text": [
      "532it [12:52,  1.33s/it]"
     ]
    },
    {
     "name": "stdout",
     "output_type": "stream",
     "text": [
      "C:\\Users\\oceanvue\\Desktop\\DeepShip Dataset\\Tanker\\232\\232.wav\n"
     ]
    },
    {
     "name": "stderr",
     "output_type": "stream",
     "text": [
      "533it [12:52,  1.03it/s]"
     ]
    },
    {
     "name": "stdout",
     "output_type": "stream",
     "text": [
      "C:\\Users\\oceanvue\\Desktop\\DeepShip Dataset\\Tanker\\233\\233.wav\n",
      "C:\\Users\\oceanvue\\Desktop\\DeepShip Dataset\\Tanker\\234\\234.wav\n"
     ]
    },
    {
     "name": "stderr",
     "output_type": "stream",
     "text": [
      "534it [12:53,  1.37it/s]"
     ]
    },
    {
     "name": "stdout",
     "output_type": "stream",
     "text": [
      "C:\\Users\\oceanvue\\Desktop\\DeepShip Dataset\\Tanker\\235\\235.wav\n"
     ]
    },
    {
     "name": "stderr",
     "output_type": "stream",
     "text": [
      "536it [12:53,  1.84it/s]"
     ]
    },
    {
     "name": "stdout",
     "output_type": "stream",
     "text": [
      "C:\\Users\\oceanvue\\Desktop\\DeepShip Dataset\\Tanker\\236\\236.wav\n",
      "C:\\Users\\oceanvue\\Desktop\\DeepShip Dataset\\Tanker\\237\\237.wav\n"
     ]
    },
    {
     "name": "stderr",
     "output_type": "stream",
     "text": [
      "537it [12:55,  1.12it/s]"
     ]
    },
    {
     "name": "stdout",
     "output_type": "stream",
     "text": [
      "C:\\Users\\oceanvue\\Desktop\\DeepShip Dataset\\Tanker\\238\\238.wav\n"
     ]
    },
    {
     "name": "stderr",
     "output_type": "stream",
     "text": [
      "538it [12:56,  1.28it/s]"
     ]
    },
    {
     "name": "stdout",
     "output_type": "stream",
     "text": [
      "C:\\Users\\oceanvue\\Desktop\\DeepShip Dataset\\Tanker\\239\\239.wav\n"
     ]
    },
    {
     "name": "stderr",
     "output_type": "stream",
     "text": [
      "539it [12:59,  1.57s/it]"
     ]
    },
    {
     "name": "stdout",
     "output_type": "stream",
     "text": [
      "C:\\Users\\oceanvue\\Desktop\\DeepShip Dataset\\Tanker\\240\\240.wav\n",
      "C:\\Users\\oceanvue\\Desktop\\DeepShip Dataset\\Tug\\1\\1.wav\n"
     ]
    },
    {
     "name": "stderr",
     "output_type": "stream",
     "text": [
      "541it [13:03,  1.71s/it]"
     ]
    },
    {
     "name": "stdout",
     "output_type": "stream",
     "text": [
      "C:\\Users\\oceanvue\\Desktop\\DeepShip Dataset\\Tug\\2\\2.wav\n"
     ]
    },
    {
     "name": "stderr",
     "output_type": "stream",
     "text": [
      "542it [13:09,  2.90s/it]"
     ]
    },
    {
     "name": "stdout",
     "output_type": "stream",
     "text": [
      "C:\\Users\\oceanvue\\Desktop\\DeepShip Dataset\\Tug\\3\\3.wav\n"
     ]
    },
    {
     "name": "stderr",
     "output_type": "stream",
     "text": [
      "543it [13:13,  3.15s/it]"
     ]
    },
    {
     "name": "stdout",
     "output_type": "stream",
     "text": [
      "C:\\Users\\oceanvue\\Desktop\\DeepShip Dataset\\Tug\\4\\4.wav\n"
     ]
    },
    {
     "name": "stderr",
     "output_type": "stream",
     "text": [
      "544it [13:19,  3.91s/it]"
     ]
    },
    {
     "name": "stdout",
     "output_type": "stream",
     "text": [
      "C:\\Users\\oceanvue\\Desktop\\DeepShip Dataset\\Tug\\5\\5.wav\n"
     ]
    },
    {
     "name": "stderr",
     "output_type": "stream",
     "text": [
      "545it [13:23,  3.81s/it]"
     ]
    },
    {
     "name": "stdout",
     "output_type": "stream",
     "text": [
      "C:\\Users\\oceanvue\\Desktop\\DeepShip Dataset\\Tug\\6\\6.wav\n"
     ]
    },
    {
     "name": "stderr",
     "output_type": "stream",
     "text": [
      "546it [13:25,  3.36s/it]"
     ]
    },
    {
     "name": "stdout",
     "output_type": "stream",
     "text": [
      "C:\\Users\\oceanvue\\Desktop\\DeepShip Dataset\\Tug\\7\\7.wav\n"
     ]
    },
    {
     "name": "stderr",
     "output_type": "stream",
     "text": [
      "547it [13:27,  3.04s/it]"
     ]
    },
    {
     "name": "stdout",
     "output_type": "stream",
     "text": [
      "C:\\Users\\oceanvue\\Desktop\\DeepShip Dataset\\Tug\\8\\8.wav\n"
     ]
    },
    {
     "name": "stderr",
     "output_type": "stream",
     "text": [
      "548it [13:31,  3.25s/it]"
     ]
    },
    {
     "name": "stdout",
     "output_type": "stream",
     "text": [
      "C:\\Users\\oceanvue\\Desktop\\DeepShip Dataset\\Tug\\9\\9.wav\n"
     ]
    },
    {
     "name": "stderr",
     "output_type": "stream",
     "text": [
      "549it [13:32,  2.65s/it]"
     ]
    },
    {
     "name": "stdout",
     "output_type": "stream",
     "text": [
      "C:\\Users\\oceanvue\\Desktop\\DeepShip Dataset\\Tug\\10\\10.wav\n"
     ]
    },
    {
     "name": "stderr",
     "output_type": "stream",
     "text": [
      "550it [13:35,  2.79s/it]"
     ]
    },
    {
     "name": "stdout",
     "output_type": "stream",
     "text": [
      "C:\\Users\\oceanvue\\Desktop\\DeepShip Dataset\\Tug\\11\\11.wav\n"
     ]
    },
    {
     "name": "stderr",
     "output_type": "stream",
     "text": [
      "551it [13:40,  3.24s/it]"
     ]
    },
    {
     "name": "stdout",
     "output_type": "stream",
     "text": [
      "C:\\Users\\oceanvue\\Desktop\\DeepShip Dataset\\Tug\\12\\12.wav\n"
     ]
    },
    {
     "name": "stderr",
     "output_type": "stream",
     "text": [
      "552it [13:45,  3.90s/it]"
     ]
    },
    {
     "name": "stdout",
     "output_type": "stream",
     "text": [
      "C:\\Users\\oceanvue\\Desktop\\DeepShip Dataset\\Tug\\13\\13.wav\n"
     ]
    },
    {
     "name": "stderr",
     "output_type": "stream",
     "text": [
      "553it [13:49,  3.87s/it]"
     ]
    },
    {
     "name": "stdout",
     "output_type": "stream",
     "text": [
      "C:\\Users\\oceanvue\\Desktop\\DeepShip Dataset\\Tug\\14\\14.wav\n"
     ]
    },
    {
     "name": "stderr",
     "output_type": "stream",
     "text": [
      "554it [13:53,  4.11s/it]"
     ]
    },
    {
     "name": "stdout",
     "output_type": "stream",
     "text": [
      "C:\\Users\\oceanvue\\Desktop\\DeepShip Dataset\\Tug\\15\\15.wav\n"
     ]
    },
    {
     "name": "stderr",
     "output_type": "stream",
     "text": [
      "555it [13:56,  3.57s/it]"
     ]
    },
    {
     "name": "stdout",
     "output_type": "stream",
     "text": [
      "C:\\Users\\oceanvue\\Desktop\\DeepShip Dataset\\Tug\\16\\16.wav\n"
     ]
    },
    {
     "name": "stderr",
     "output_type": "stream",
     "text": [
      "556it [14:01,  4.07s/it]"
     ]
    },
    {
     "name": "stdout",
     "output_type": "stream",
     "text": [
      "C:\\Users\\oceanvue\\Desktop\\DeepShip Dataset\\Tug\\17\\17.wav\n"
     ]
    },
    {
     "name": "stderr",
     "output_type": "stream",
     "text": [
      "557it [14:05,  4.13s/it]"
     ]
    },
    {
     "name": "stdout",
     "output_type": "stream",
     "text": [
      "C:\\Users\\oceanvue\\Desktop\\DeepShip Dataset\\Tug\\18\\18.wav\n"
     ]
    },
    {
     "name": "stderr",
     "output_type": "stream",
     "text": [
      "558it [14:08,  3.57s/it]"
     ]
    },
    {
     "name": "stdout",
     "output_type": "stream",
     "text": [
      "C:\\Users\\oceanvue\\Desktop\\DeepShip Dataset\\Tug\\19\\19.wav\n"
     ]
    },
    {
     "name": "stderr",
     "output_type": "stream",
     "text": [
      "559it [14:14,  4.32s/it]"
     ]
    },
    {
     "name": "stdout",
     "output_type": "stream",
     "text": [
      "C:\\Users\\oceanvue\\Desktop\\DeepShip Dataset\\Tug\\20\\20.wav\n"
     ]
    },
    {
     "name": "stderr",
     "output_type": "stream",
     "text": [
      "560it [14:18,  4.31s/it]"
     ]
    },
    {
     "name": "stdout",
     "output_type": "stream",
     "text": [
      "C:\\Users\\oceanvue\\Desktop\\DeepShip Dataset\\Tug\\21\\21.wav\n"
     ]
    },
    {
     "name": "stderr",
     "output_type": "stream",
     "text": [
      "561it [14:25,  5.08s/it]"
     ]
    },
    {
     "name": "stdout",
     "output_type": "stream",
     "text": [
      "C:\\Users\\oceanvue\\Desktop\\DeepShip Dataset\\Tug\\22\\22.wav\n"
     ]
    },
    {
     "name": "stderr",
     "output_type": "stream",
     "text": [
      "562it [14:28,  4.63s/it]"
     ]
    },
    {
     "name": "stdout",
     "output_type": "stream",
     "text": [
      "C:\\Users\\oceanvue\\Desktop\\DeepShip Dataset\\Tug\\23\\23.wav\n"
     ]
    },
    {
     "name": "stderr",
     "output_type": "stream",
     "text": [
      "563it [14:30,  3.75s/it]"
     ]
    },
    {
     "name": "stdout",
     "output_type": "stream",
     "text": [
      "C:\\Users\\oceanvue\\Desktop\\DeepShip Dataset\\Tug\\24\\24.wav\n"
     ]
    },
    {
     "name": "stderr",
     "output_type": "stream",
     "text": [
      "564it [14:40,  5.67s/it]"
     ]
    },
    {
     "name": "stdout",
     "output_type": "stream",
     "text": [
      "C:\\Users\\oceanvue\\Desktop\\DeepShip Dataset\\Tug\\25\\25.wav\n"
     ]
    },
    {
     "name": "stderr",
     "output_type": "stream",
     "text": [
      "565it [14:45,  5.55s/it]"
     ]
    },
    {
     "name": "stdout",
     "output_type": "stream",
     "text": [
      "C:\\Users\\oceanvue\\Desktop\\DeepShip Dataset\\Tug\\26\\26.wav\n"
     ]
    },
    {
     "name": "stderr",
     "output_type": "stream",
     "text": [
      "566it [14:48,  4.75s/it]"
     ]
    },
    {
     "name": "stdout",
     "output_type": "stream",
     "text": [
      "C:\\Users\\oceanvue\\Desktop\\DeepShip Dataset\\Tug\\27\\27.wav\n"
     ]
    },
    {
     "name": "stderr",
     "output_type": "stream",
     "text": [
      "567it [14:51,  4.26s/it]"
     ]
    },
    {
     "name": "stdout",
     "output_type": "stream",
     "text": [
      "C:\\Users\\oceanvue\\Desktop\\DeepShip Dataset\\Tug\\28\\28.wav\n"
     ]
    },
    {
     "name": "stderr",
     "output_type": "stream",
     "text": [
      "568it [14:53,  3.56s/it]"
     ]
    },
    {
     "name": "stdout",
     "output_type": "stream",
     "text": [
      "C:\\Users\\oceanvue\\Desktop\\DeepShip Dataset\\Tug\\29\\29.wav\n"
     ]
    },
    {
     "name": "stderr",
     "output_type": "stream",
     "text": [
      "569it [14:55,  2.90s/it]"
     ]
    },
    {
     "name": "stdout",
     "output_type": "stream",
     "text": [
      "C:\\Users\\oceanvue\\Desktop\\DeepShip Dataset\\Tug\\30\\30.wav\n"
     ]
    },
    {
     "name": "stderr",
     "output_type": "stream",
     "text": [
      "570it [14:58,  3.02s/it]"
     ]
    },
    {
     "name": "stdout",
     "output_type": "stream",
     "text": [
      "C:\\Users\\oceanvue\\Desktop\\DeepShip Dataset\\Tug\\31\\31.wav\n"
     ]
    },
    {
     "name": "stderr",
     "output_type": "stream",
     "text": [
      "571it [15:00,  2.70s/it]"
     ]
    },
    {
     "name": "stdout",
     "output_type": "stream",
     "text": [
      "C:\\Users\\oceanvue\\Desktop\\DeepShip Dataset\\Tug\\32\\32.wav\n"
     ]
    },
    {
     "name": "stderr",
     "output_type": "stream",
     "text": [
      "572it [15:03,  2.77s/it]"
     ]
    },
    {
     "name": "stdout",
     "output_type": "stream",
     "text": [
      "C:\\Users\\oceanvue\\Desktop\\DeepShip Dataset\\Tug\\33\\33.wav\n"
     ]
    },
    {
     "name": "stderr",
     "output_type": "stream",
     "text": [
      "573it [15:07,  3.04s/it]"
     ]
    },
    {
     "name": "stdout",
     "output_type": "stream",
     "text": [
      "C:\\Users\\oceanvue\\Desktop\\DeepShip Dataset\\Tug\\34\\34.wav\n"
     ]
    },
    {
     "name": "stderr",
     "output_type": "stream",
     "text": [
      "574it [15:10,  3.05s/it]"
     ]
    },
    {
     "name": "stdout",
     "output_type": "stream",
     "text": [
      "C:\\Users\\oceanvue\\Desktop\\DeepShip Dataset\\Tug\\35\\35.wav\n"
     ]
    },
    {
     "name": "stderr",
     "output_type": "stream",
     "text": [
      "575it [15:14,  3.28s/it]"
     ]
    },
    {
     "name": "stdout",
     "output_type": "stream",
     "text": [
      "C:\\Users\\oceanvue\\Desktop\\DeepShip Dataset\\Tug\\36\\36.wav\n"
     ]
    },
    {
     "name": "stderr",
     "output_type": "stream",
     "text": [
      "576it [15:17,  3.44s/it]"
     ]
    },
    {
     "name": "stdout",
     "output_type": "stream",
     "text": [
      "C:\\Users\\oceanvue\\Desktop\\DeepShip Dataset\\Tug\\37\\37.wav\n"
     ]
    },
    {
     "name": "stderr",
     "output_type": "stream",
     "text": [
      "577it [15:19,  3.03s/it]"
     ]
    },
    {
     "name": "stdout",
     "output_type": "stream",
     "text": [
      "C:\\Users\\oceanvue\\Desktop\\DeepShip Dataset\\Tug\\38\\38.wav\n"
     ]
    },
    {
     "name": "stderr",
     "output_type": "stream",
     "text": [
      "578it [15:24,  3.51s/it]"
     ]
    },
    {
     "name": "stdout",
     "output_type": "stream",
     "text": [
      "C:\\Users\\oceanvue\\Desktop\\DeepShip Dataset\\Tug\\39\\39.wav\n"
     ]
    },
    {
     "name": "stderr",
     "output_type": "stream",
     "text": [
      "579it [15:28,  3.70s/it]"
     ]
    },
    {
     "name": "stdout",
     "output_type": "stream",
     "text": [
      "C:\\Users\\oceanvue\\Desktop\\DeepShip Dataset\\Tug\\40\\40.wav\n"
     ]
    },
    {
     "name": "stderr",
     "output_type": "stream",
     "text": [
      "580it [15:29,  2.94s/it]"
     ]
    },
    {
     "name": "stdout",
     "output_type": "stream",
     "text": [
      "C:\\Users\\oceanvue\\Desktop\\DeepShip Dataset\\Tug\\41\\41.wav\n"
     ]
    },
    {
     "name": "stderr",
     "output_type": "stream",
     "text": [
      "581it [15:33,  3.12s/it]"
     ]
    },
    {
     "name": "stdout",
     "output_type": "stream",
     "text": [
      "C:\\Users\\oceanvue\\Desktop\\DeepShip Dataset\\Tug\\42\\42.wav\n"
     ]
    },
    {
     "name": "stderr",
     "output_type": "stream",
     "text": [
      "582it [15:35,  2.73s/it]"
     ]
    },
    {
     "name": "stdout",
     "output_type": "stream",
     "text": [
      "C:\\Users\\oceanvue\\Desktop\\DeepShip Dataset\\Tug\\43\\43.wav\n"
     ]
    },
    {
     "name": "stderr",
     "output_type": "stream",
     "text": [
      "583it [15:39,  3.28s/it]"
     ]
    },
    {
     "name": "stdout",
     "output_type": "stream",
     "text": [
      "C:\\Users\\oceanvue\\Desktop\\DeepShip Dataset\\Tug\\44\\44.wav\n"
     ]
    },
    {
     "name": "stderr",
     "output_type": "stream",
     "text": [
      "584it [15:42,  2.99s/it]"
     ]
    },
    {
     "name": "stdout",
     "output_type": "stream",
     "text": [
      "C:\\Users\\oceanvue\\Desktop\\DeepShip Dataset\\Tug\\45\\45.wav\n"
     ]
    },
    {
     "name": "stderr",
     "output_type": "stream",
     "text": [
      "585it [15:44,  2.67s/it]"
     ]
    },
    {
     "name": "stdout",
     "output_type": "stream",
     "text": [
      "C:\\Users\\oceanvue\\Desktop\\DeepShip Dataset\\Tug\\46\\46.wav\n"
     ]
    },
    {
     "name": "stderr",
     "output_type": "stream",
     "text": [
      "586it [15:46,  2.48s/it]"
     ]
    },
    {
     "name": "stdout",
     "output_type": "stream",
     "text": [
      "C:\\Users\\oceanvue\\Desktop\\DeepShip Dataset\\Tug\\47\\47.wav\n"
     ]
    },
    {
     "name": "stderr",
     "output_type": "stream",
     "text": [
      "587it [15:50,  3.00s/it]"
     ]
    },
    {
     "name": "stdout",
     "output_type": "stream",
     "text": [
      "C:\\Users\\oceanvue\\Desktop\\DeepShip Dataset\\Tug\\48\\48.wav\n"
     ]
    },
    {
     "name": "stderr",
     "output_type": "stream",
     "text": [
      "588it [15:53,  3.12s/it]"
     ]
    },
    {
     "name": "stdout",
     "output_type": "stream",
     "text": [
      "C:\\Users\\oceanvue\\Desktop\\DeepShip Dataset\\Tug\\49\\49.wav\n"
     ]
    },
    {
     "name": "stderr",
     "output_type": "stream",
     "text": [
      "589it [15:54,  2.55s/it]"
     ]
    },
    {
     "name": "stdout",
     "output_type": "stream",
     "text": [
      "C:\\Users\\oceanvue\\Desktop\\DeepShip Dataset\\Tug\\50\\50.wav\n"
     ]
    },
    {
     "name": "stderr",
     "output_type": "stream",
     "text": [
      "590it [15:56,  2.40s/it]"
     ]
    },
    {
     "name": "stdout",
     "output_type": "stream",
     "text": [
      "C:\\Users\\oceanvue\\Desktop\\DeepShip Dataset\\Tug\\51\\51.wav\n"
     ]
    },
    {
     "name": "stderr",
     "output_type": "stream",
     "text": [
      "591it [16:01,  3.16s/it]"
     ]
    },
    {
     "name": "stdout",
     "output_type": "stream",
     "text": [
      "C:\\Users\\oceanvue\\Desktop\\DeepShip Dataset\\Tug\\52\\52.wav\n"
     ]
    },
    {
     "name": "stderr",
     "output_type": "stream",
     "text": [
      "592it [16:06,  3.68s/it]"
     ]
    },
    {
     "name": "stdout",
     "output_type": "stream",
     "text": [
      "C:\\Users\\oceanvue\\Desktop\\DeepShip Dataset\\Tug\\53\\53.wav\n"
     ]
    },
    {
     "name": "stderr",
     "output_type": "stream",
     "text": [
      "593it [16:08,  3.05s/it]"
     ]
    },
    {
     "name": "stdout",
     "output_type": "stream",
     "text": [
      "C:\\Users\\oceanvue\\Desktop\\DeepShip Dataset\\Tug\\54\\54.wav\n"
     ]
    },
    {
     "name": "stderr",
     "output_type": "stream",
     "text": [
      "594it [16:12,  3.35s/it]"
     ]
    },
    {
     "name": "stdout",
     "output_type": "stream",
     "text": [
      "C:\\Users\\oceanvue\\Desktop\\DeepShip Dataset\\Tug\\55\\55.wav\n"
     ]
    },
    {
     "name": "stderr",
     "output_type": "stream",
     "text": [
      "595it [16:14,  2.92s/it]"
     ]
    },
    {
     "name": "stdout",
     "output_type": "stream",
     "text": [
      "C:\\Users\\oceanvue\\Desktop\\DeepShip Dataset\\Tug\\56\\56.wav\n"
     ]
    },
    {
     "name": "stderr",
     "output_type": "stream",
     "text": [
      "596it [16:15,  2.52s/it]"
     ]
    },
    {
     "name": "stdout",
     "output_type": "stream",
     "text": [
      "C:\\Users\\oceanvue\\Desktop\\DeepShip Dataset\\Tug\\57\\57.wav\n"
     ]
    },
    {
     "name": "stderr",
     "output_type": "stream",
     "text": [
      "597it [16:19,  2.70s/it]"
     ]
    },
    {
     "name": "stdout",
     "output_type": "stream",
     "text": [
      "C:\\Users\\oceanvue\\Desktop\\DeepShip Dataset\\Tug\\58\\58.wav\n"
     ]
    },
    {
     "name": "stderr",
     "output_type": "stream",
     "text": [
      "598it [16:22,  2.86s/it]"
     ]
    },
    {
     "name": "stdout",
     "output_type": "stream",
     "text": [
      "C:\\Users\\oceanvue\\Desktop\\DeepShip Dataset\\Tug\\59\\59.wav\n"
     ]
    },
    {
     "name": "stderr",
     "output_type": "stream",
     "text": [
      "599it [16:25,  3.09s/it]"
     ]
    },
    {
     "name": "stdout",
     "output_type": "stream",
     "text": [
      "C:\\Users\\oceanvue\\Desktop\\DeepShip Dataset\\Tug\\60\\60.wav\n"
     ]
    },
    {
     "name": "stderr",
     "output_type": "stream",
     "text": [
      "600it [16:30,  3.53s/it]"
     ]
    },
    {
     "name": "stdout",
     "output_type": "stream",
     "text": [
      "C:\\Users\\oceanvue\\Desktop\\DeepShip Dataset\\Tug\\61\\61.wav\n"
     ]
    },
    {
     "name": "stderr",
     "output_type": "stream",
     "text": [
      "601it [16:31,  2.89s/it]"
     ]
    },
    {
     "name": "stdout",
     "output_type": "stream",
     "text": [
      "C:\\Users\\oceanvue\\Desktop\\DeepShip Dataset\\Tug\\62\\62.wav\n"
     ]
    },
    {
     "name": "stderr",
     "output_type": "stream",
     "text": [
      "602it [16:34,  2.81s/it]"
     ]
    },
    {
     "name": "stdout",
     "output_type": "stream",
     "text": [
      "C:\\Users\\oceanvue\\Desktop\\DeepShip Dataset\\Tug\\63\\63.wav\n"
     ]
    },
    {
     "name": "stderr",
     "output_type": "stream",
     "text": [
      "603it [16:36,  2.45s/it]"
     ]
    },
    {
     "name": "stdout",
     "output_type": "stream",
     "text": [
      "C:\\Users\\oceanvue\\Desktop\\DeepShip Dataset\\Tug\\64\\64.wav\n"
     ]
    },
    {
     "name": "stderr",
     "output_type": "stream",
     "text": [
      "604it [16:39,  2.69s/it]"
     ]
    },
    {
     "name": "stdout",
     "output_type": "stream",
     "text": [
      "C:\\Users\\oceanvue\\Desktop\\DeepShip Dataset\\Tug\\65\\65.wav\n"
     ]
    },
    {
     "name": "stderr",
     "output_type": "stream",
     "text": [
      "605it [16:41,  2.64s/it]"
     ]
    },
    {
     "name": "stdout",
     "output_type": "stream",
     "text": [
      "C:\\Users\\oceanvue\\Desktop\\DeepShip Dataset\\Tug\\66\\66.wav\n"
     ]
    },
    {
     "name": "stderr",
     "output_type": "stream",
     "text": [
      "606it [16:45,  2.99s/it]"
     ]
    },
    {
     "name": "stdout",
     "output_type": "stream",
     "text": [
      "C:\\Users\\oceanvue\\Desktop\\DeepShip Dataset\\Tug\\67\\67.wav\n"
     ]
    },
    {
     "name": "stderr",
     "output_type": "stream",
     "text": [
      "607it [16:47,  2.74s/it]"
     ]
    },
    {
     "name": "stdout",
     "output_type": "stream",
     "text": [
      "C:\\Users\\oceanvue\\Desktop\\DeepShip Dataset\\Tug\\68\\68.wav\n"
     ]
    },
    {
     "name": "stderr",
     "output_type": "stream",
     "text": [
      "608it [16:50,  2.78s/it]"
     ]
    },
    {
     "name": "stdout",
     "output_type": "stream",
     "text": [
      "C:\\Users\\oceanvue\\Desktop\\DeepShip Dataset\\Tug\\69\\69.wav\n"
     ]
    },
    {
     "name": "stderr",
     "output_type": "stream",
     "text": [
      "609it [16:55,  1.67s/it]\n"
     ]
    }
   ],
   "source": [
    "import numpy as np\n",
    "from tqdm import tqdm\n",
    "\n",
    "# Initialize a list to store extracted features and labels\n",
    "extracted_features = []\n",
    "\n",
    "# Iterate through metadata and extract features\n",
    "for index_num, row in tqdm(metadata.iterrows()):\n",
    "    file_name = os.path.join(os.path.abspath(audio_dataset_path), row['Class'], str(row['Folder_ID']), row['File_name'])\n",
    "\n",
    "    print(file_name)\n",
    "\n",
    "    final_class_label = row['Class']\n",
    "    data = features_extractor(file_name)\n",
    "    extracted_features.append([data, final_class_label])"
   ]
  },
  {
   "cell_type": "code",
   "execution_count": 6,
   "metadata": {},
   "outputs": [],
   "source": [
    "# Convert the list to a DataFrame\n",
    "extracted_features_df = pd.DataFrame(extracted_features, columns=[\"Features\", \"Class\"])"
   ]
  },
  {
   "cell_type": "code",
   "execution_count": 7,
   "metadata": {},
   "outputs": [
    {
     "data": {
      "text/html": [
       "<div>\n",
       "<style scoped>\n",
       "    .dataframe tbody tr th:only-of-type {\n",
       "        vertical-align: middle;\n",
       "    }\n",
       "\n",
       "    .dataframe tbody tr th {\n",
       "        vertical-align: top;\n",
       "    }\n",
       "\n",
       "    .dataframe thead th {\n",
       "        text-align: right;\n",
       "    }\n",
       "</style>\n",
       "<table border=\"1\" class=\"dataframe\">\n",
       "  <thead>\n",
       "    <tr style=\"text-align: right;\">\n",
       "      <th></th>\n",
       "      <th>Features</th>\n",
       "      <th>Class</th>\n",
       "    </tr>\n",
       "  </thead>\n",
       "  <tbody>\n",
       "    <tr>\n",
       "      <th>0</th>\n",
       "      <td>[-351.62512, 86.87263, -14.980208, 21.255037, ...</td>\n",
       "      <td>Cargo</td>\n",
       "    </tr>\n",
       "    <tr>\n",
       "      <th>1</th>\n",
       "      <td>[-433.63748, 102.78814, 4.263644, 31.529789, -...</td>\n",
       "      <td>Cargo</td>\n",
       "    </tr>\n",
       "    <tr>\n",
       "      <th>2</th>\n",
       "      <td>[-459.4379, 118.98667, 14.566436, 32.147232, 1...</td>\n",
       "      <td>Cargo</td>\n",
       "    </tr>\n",
       "    <tr>\n",
       "      <th>3</th>\n",
       "      <td>[-503.51062, 129.89467, 12.606634, 29.421463, ...</td>\n",
       "      <td>Cargo</td>\n",
       "    </tr>\n",
       "    <tr>\n",
       "      <th>4</th>\n",
       "      <td>[-290.6702, 115.29109, -9.099596, 26.168022, -...</td>\n",
       "      <td>Cargo</td>\n",
       "    </tr>\n",
       "    <tr>\n",
       "      <th>...</th>\n",
       "      <td>...</td>\n",
       "      <td>...</td>\n",
       "    </tr>\n",
       "    <tr>\n",
       "      <th>604</th>\n",
       "      <td>[-497.346, 64.05011, -9.535233, 23.641584, -7....</td>\n",
       "      <td>Tug</td>\n",
       "    </tr>\n",
       "    <tr>\n",
       "      <th>605</th>\n",
       "      <td>[-507.68927, 109.86592, 2.8518202, 18.831621, ...</td>\n",
       "      <td>Tug</td>\n",
       "    </tr>\n",
       "    <tr>\n",
       "      <th>606</th>\n",
       "      <td>[-408.82434, 100.63271, -5.6173587, 23.328585,...</td>\n",
       "      <td>Tug</td>\n",
       "    </tr>\n",
       "    <tr>\n",
       "      <th>607</th>\n",
       "      <td>[-433.46265, 86.5696, -6.832019, 20.460762, -1...</td>\n",
       "      <td>Tug</td>\n",
       "    </tr>\n",
       "    <tr>\n",
       "      <th>608</th>\n",
       "      <td>[-443.96454, 85.135635, -11.1473, 16.660887, -...</td>\n",
       "      <td>Tug</td>\n",
       "    </tr>\n",
       "  </tbody>\n",
       "</table>\n",
       "<p>609 rows × 2 columns</p>\n",
       "</div>"
      ],
      "text/plain": [
       "                                              Features  Class\n",
       "0    [-351.62512, 86.87263, -14.980208, 21.255037, ...  Cargo\n",
       "1    [-433.63748, 102.78814, 4.263644, 31.529789, -...  Cargo\n",
       "2    [-459.4379, 118.98667, 14.566436, 32.147232, 1...  Cargo\n",
       "3    [-503.51062, 129.89467, 12.606634, 29.421463, ...  Cargo\n",
       "4    [-290.6702, 115.29109, -9.099596, 26.168022, -...  Cargo\n",
       "..                                                 ...    ...\n",
       "604  [-497.346, 64.05011, -9.535233, 23.641584, -7....    Tug\n",
       "605  [-507.68927, 109.86592, 2.8518202, 18.831621, ...    Tug\n",
       "606  [-408.82434, 100.63271, -5.6173587, 23.328585,...    Tug\n",
       "607  [-433.46265, 86.5696, -6.832019, 20.460762, -1...    Tug\n",
       "608  [-443.96454, 85.135635, -11.1473, 16.660887, -...    Tug\n",
       "\n",
       "[609 rows x 2 columns]"
      ]
     },
     "execution_count": 7,
     "metadata": {},
     "output_type": "execute_result"
    }
   ],
   "source": [
    "extracted_features_df"
   ]
  },
  {
   "cell_type": "code",
   "execution_count": 16,
   "metadata": {},
   "outputs": [],
   "source": [
    "import pandas as pd\n",
    "import matplotlib.pyplot as plt\n",
    "import seaborn as sns"
   ]
  },
  {
   "cell_type": "code",
   "execution_count": 17,
   "metadata": {},
   "outputs": [
    {
     "data": {
      "image/png": "[encoded data removed]",
      "text/plain": [
       "<Figure size 1000x600 with 2 Axes>"
      ]
     },
     "metadata": {},
     "output_type": "display_data"
    }
   ],
   "source": [
    "mfcc_array = np.array(extracted_features_df['Features'].tolist())\n",
    "\n",
    "# Create a heatmap using seaborn\n",
    "plt.figure(figsize=(10, 6))\n",
    "sns.heatmap(mfcc_array, cmap='viridis', annot=False, xticklabels=False, yticklabels=False)\n",
    "plt.title('MFCC Heatmap')\n",
    "plt.xlabel('MFCC Coefficients')\n",
    "plt.ylabel('Samples')\n",
    "plt.show()"
   ]
  },
  {
   "cell_type": "markdown",
   "metadata": {},
   "source": [
    "-------------\n",
    "Model Work"
   ]
  },
  {
   "cell_type": "code",
   "execution_count": 20,
   "metadata": {},
   "outputs": [],
   "source": [
    "### Split the dataset into independent and dependent dataset\n",
    "X=np.array(extracted_features_df['Features'].tolist())\n",
    "y=np.array(extracted_features_df['Class'].tolist())"
   ]
  },
  {
   "cell_type": "code",
   "execution_count": 21,
   "metadata": {},
   "outputs": [
    {
     "data": {
      "text/plain": [
       "(609, 40)"
      ]
     },
     "execution_count": 21,
     "metadata": {},
     "output_type": "execute_result"
    }
   ],
   "source": [
    "X.shape"
   ]
  },
  {
   "cell_type": "code",
   "execution_count": 22,
   "metadata": {},
   "outputs": [],
   "source": [
    "### Label Encoding\n",
    "y=np.array(pd.get_dummies(y))"
   ]
  },
  {
   "cell_type": "code",
   "execution_count": 23,
   "metadata": {},
   "outputs": [
    {
     "data": {
      "text/plain": [
       "(609, 4)"
      ]
     },
     "execution_count": 23,
     "metadata": {},
     "output_type": "execute_result"
    }
   ],
   "source": [
    "y.shape"
   ]
  },
  {
   "cell_type": "code",
   "execution_count": 24,
   "metadata": {},
   "outputs": [],
   "source": [
    "### Train Test Split\n",
    "from sklearn.model_selection import train_test_split\n",
    "X_train,X_test,y_train,y_test=train_test_split(X,y,test_size=0.2,random_state=0)"
   ]
  },
  {
   "cell_type": "code",
   "execution_count": 25,
   "metadata": {},
   "outputs": [
    {
     "data": {
      "text/plain": [
       "array([[-5.23812317e+02,  9.58793106e+01,  1.12663431e+01, ...,\n",
       "        -1.31639528e+00,  1.25633585e+00,  9.13648546e-01],\n",
       "       [-3.66353760e+02,  1.07401863e+02,  8.40762329e+00, ...,\n",
       "        -1.06095560e-01,  2.24530506e+00,  1.44555700e+00],\n",
       "       [-3.48543884e+02,  1.17586273e+02,  1.34929934e+01, ...,\n",
       "         2.80866504e+00,  1.86784863e+00,  3.33094299e-01],\n",
       "       ...,\n",
       "       [-4.56019012e+02,  1.21223694e+02,  1.32880402e+01, ...,\n",
       "        -1.17163137e-01,  1.68281031e+00, -1.66021079e-01],\n",
       "       [-3.71841797e+02,  9.37755356e+01,  5.18041754e+00, ...,\n",
       "         1.59511626e+00,  1.17397988e+00,  1.83495677e+00],\n",
       "       [-4.24449982e+02,  1.02234093e+02, -3.55333877e+00, ...,\n",
       "         1.51345611e+00,  5.10763693e+00,  4.22436380e+00]], dtype=float32)"
      ]
     },
     "execution_count": 25,
     "metadata": {},
     "output_type": "execute_result"
    }
   ],
   "source": [
    "X_train"
   ]
  },
  {
   "cell_type": "markdown",
   "metadata": {},
   "source": [
    "Model Creation"
   ]
  },
  {
   "cell_type": "code",
   "execution_count": 27,
   "metadata": {},
   "outputs": [
    {
     "name": "stdout",
     "output_type": "stream",
     "text": [
      "Defaulting to user installation because normal site-packages is not writeable\n",
      "Collecting tensorflow\n",
      "  Downloading tensorflow-2.13.0-cp310-cp310-win_amd64.whl (1.9 kB)\n",
      "Collecting tensorflow-intel==2.13.0\n",
      "  Downloading tensorflow_intel-2.13.0-cp310-cp310-win_amd64.whl (276.5 MB)\n",
      "     -------------------------------------- 276.5/276.5 MB 5.7 MB/s eta 0:00:00\n",
      "Collecting flatbuffers>=23.1.21\n",
      "  Downloading flatbuffers-23.5.26-py2.py3-none-any.whl (26 kB)\n",
      "Requirement already satisfied: setuptools in c:\\programdata\\anaconda3\\lib\\site-packages (from tensorflow-intel==2.13.0->tensorflow) (65.6.3)\n",
      "Requirement already satisfied: six>=1.12.0 in c:\\programdata\\anaconda3\\lib\\site-packages (from tensorflow-intel==2.13.0->tensorflow) (1.16.0)\n",
      "Collecting tensorflow-io-gcs-filesystem>=0.23.1\n",
      "  Downloading tensorflow_io_gcs_filesystem-0.31.0-cp310-cp310-win_amd64.whl (1.5 MB)\n",
      "     ---------------------------------------- 1.5/1.5 MB 6.7 MB/s eta 0:00:00\n",
      "Collecting google-pasta>=0.1.1\n",
      "  Downloading google_pasta-0.2.0-py3-none-any.whl (57 kB)\n",
      "     ---------------------------------------- 57.5/57.5 kB 3.1 MB/s eta 0:00:00\n",
      "Collecting tensorboard<2.14,>=2.13\n",
      "  Downloading tensorboard-2.13.0-py3-none-any.whl (5.6 MB)\n",
      "     ---------------------------------------- 5.6/5.6 MB 7.3 MB/s eta 0:00:00\n",
      "Collecting termcolor>=1.1.0\n",
      "  Downloading termcolor-2.3.0-py3-none-any.whl (6.9 kB)\n",
      "Collecting absl-py>=1.0.0\n",
      "  Downloading absl_py-1.4.0-py3-none-any.whl (126 kB)\n",
      "     -------------------------------------- 126.5/126.5 kB 7.3 MB/s eta 0:00:00\n",
      "Collecting libclang>=13.0.0\n",
      "  Downloading libclang-16.0.6-py2.py3-none-win_amd64.whl (24.4 MB)\n",
      "     ---------------------------------------- 24.4/24.4 MB 8.5 MB/s eta 0:00:00\n",
      "Collecting astunparse>=1.6.0\n",
      "  Downloading astunparse-1.6.3-py2.py3-none-any.whl (12 kB)\n",
      "Collecting keras<2.14,>=2.13.1\n",
      "  Downloading keras-2.13.1-py3-none-any.whl (1.7 MB)\n",
      "     ---------------------------------------- 1.7/1.7 MB 9.1 MB/s eta 0:00:00\n",
      "Requirement already satisfied: packaging in c:\\programdata\\anaconda3\\lib\\site-packages (from tensorflow-intel==2.13.0->tensorflow) (22.0)\n",
      "Requirement already satisfied: h5py>=2.9.0 in c:\\programdata\\anaconda3\\lib\\site-packages (from tensorflow-intel==2.13.0->tensorflow) (3.7.0)\n",
      "Collecting opt-einsum>=2.3.2\n",
      "  Downloading opt_einsum-3.3.0-py3-none-any.whl (65 kB)\n",
      "     ---------------------------------------- 65.5/65.5 kB 3.5 MB/s eta 0:00:00\n",
      "Collecting protobuf!=4.21.0,!=4.21.1,!=4.21.2,!=4.21.3,!=4.21.4,!=4.21.5,<5.0.0dev,>=3.20.3\n",
      "  Downloading protobuf-4.24.0-cp310-abi3-win_amd64.whl (430 kB)\n",
      "     -------------------------------------- 430.5/430.5 kB 6.8 MB/s eta 0:00:00\n",
      "Requirement already satisfied: wrapt>=1.11.0 in c:\\programdata\\anaconda3\\lib\\site-packages (from tensorflow-intel==2.13.0->tensorflow) (1.14.1)\n",
      "Collecting gast<=0.4.0,>=0.2.1\n",
      "  Downloading gast-0.4.0-py3-none-any.whl (9.8 kB)\n",
      "Requirement already satisfied: numpy<=1.24.3,>=1.22 in c:\\programdata\\anaconda3\\lib\\site-packages (from tensorflow-intel==2.13.0->tensorflow) (1.23.5)\n",
      "Collecting grpcio<2.0,>=1.24.3\n",
      "  Downloading grpcio-1.56.2-cp310-cp310-win_amd64.whl (4.2 MB)\n",
      "     ---------------------------------------- 4.2/4.2 MB 8.7 MB/s eta 0:00:00\n",
      "Requirement already satisfied: typing-extensions<4.6.0,>=3.6.6 in c:\\programdata\\anaconda3\\lib\\site-packages (from tensorflow-intel==2.13.0->tensorflow) (4.4.0)\n",
      "Collecting tensorflow-estimator<2.14,>=2.13.0\n",
      "  Downloading tensorflow_estimator-2.13.0-py2.py3-none-any.whl (440 kB)\n",
      "     -------------------------------------- 440.8/440.8 kB 9.2 MB/s eta 0:00:00\n",
      "Requirement already satisfied: wheel<1.0,>=0.23.0 in c:\\programdata\\anaconda3\\lib\\site-packages (from astunparse>=1.6.0->tensorflow-intel==2.13.0->tensorflow) (0.38.4)\n",
      "Collecting tensorboard-data-server<0.8.0,>=0.7.0\n",
      "  Downloading tensorboard_data_server-0.7.1-py3-none-any.whl (2.4 kB)\n",
      "Requirement already satisfied: markdown>=2.6.8 in c:\\programdata\\anaconda3\\lib\\site-packages (from tensorboard<2.14,>=2.13->tensorflow-intel==2.13.0->tensorflow) (3.4.1)\n",
      "Collecting google-auth<3,>=1.6.3\n",
      "  Downloading google_auth-2.22.0-py2.py3-none-any.whl (181 kB)\n",
      "     ------------------------------------- 181.8/181.8 kB 11.4 MB/s eta 0:00:00\n",
      "Collecting google-auth-oauthlib<1.1,>=0.5\n",
      "  Downloading google_auth_oauthlib-1.0.0-py2.py3-none-any.whl (18 kB)\n",
      "Requirement already satisfied: requests<3,>=2.21.0 in c:\\programdata\\anaconda3\\lib\\site-packages (from tensorboard<2.14,>=2.13->tensorflow-intel==2.13.0->tensorflow) (2.28.1)\n",
      "Requirement already satisfied: werkzeug>=1.0.1 in c:\\programdata\\anaconda3\\lib\\site-packages (from tensorboard<2.14,>=2.13->tensorflow-intel==2.13.0->tensorflow) (2.2.2)\n",
      "Requirement already satisfied: pyasn1-modules>=0.2.1 in c:\\programdata\\anaconda3\\lib\\site-packages (from google-auth<3,>=1.6.3->tensorboard<2.14,>=2.13->tensorflow-intel==2.13.0->tensorflow) (0.2.8)\n",
      "Collecting rsa<5,>=3.1.4\n",
      "  Downloading rsa-4.9-py3-none-any.whl (34 kB)\n",
      "Requirement already satisfied: urllib3<2.0 in c:\\programdata\\anaconda3\\lib\\site-packages (from google-auth<3,>=1.6.3->tensorboard<2.14,>=2.13->tensorflow-intel==2.13.0->tensorflow) (1.26.14)\n",
      "Collecting cachetools<6.0,>=2.0.0\n",
      "  Downloading cachetools-5.3.1-py3-none-any.whl (9.3 kB)\n",
      "Collecting requests-oauthlib>=0.7.0\n",
      "  Downloading requests_oauthlib-1.3.1-py2.py3-none-any.whl (23 kB)\n",
      "Requirement already satisfied: idna<4,>=2.5 in c:\\programdata\\anaconda3\\lib\\site-packages (from requests<3,>=2.21.0->tensorboard<2.14,>=2.13->tensorflow-intel==2.13.0->tensorflow) (3.4)\n",
      "Requirement already satisfied: certifi>=2017.4.17 in c:\\programdata\\anaconda3\\lib\\site-packages (from requests<3,>=2.21.0->tensorboard<2.14,>=2.13->tensorflow-intel==2.13.0->tensorflow) (2023.7.22)\n",
      "Requirement already satisfied: charset-normalizer<3,>=2 in c:\\programdata\\anaconda3\\lib\\site-packages (from requests<3,>=2.21.0->tensorboard<2.14,>=2.13->tensorflow-intel==2.13.0->tensorflow) (2.0.4)\n",
      "Requirement already satisfied: MarkupSafe>=2.1.1 in c:\\programdata\\anaconda3\\lib\\site-packages (from werkzeug>=1.0.1->tensorboard<2.14,>=2.13->tensorflow-intel==2.13.0->tensorflow) (2.1.1)\n",
      "Requirement already satisfied: pyasn1<0.5.0,>=0.4.6 in c:\\programdata\\anaconda3\\lib\\site-packages (from pyasn1-modules>=0.2.1->google-auth<3,>=1.6.3->tensorboard<2.14,>=2.13->tensorflow-intel==2.13.0->tensorflow) (0.4.8)\n",
      "Collecting oauthlib>=3.0.0\n",
      "  Downloading oauthlib-3.2.2-py3-none-any.whl (151 kB)\n",
      "     ---------------------------------------- 151.7/151.7 kB ? eta 0:00:00\n",
      "Installing collected packages: libclang, flatbuffers, termcolor, tensorflow-io-gcs-filesystem, tensorflow-estimator, tensorboard-data-server, rsa, protobuf, opt-einsum, oauthlib, keras, grpcio, google-pasta, gast, cachetools, astunparse, absl-py, requests-oauthlib, google-auth, google-auth-oauthlib, tensorboard, tensorflow-intel, tensorflow\n",
      "Successfully installed absl-py-1.4.0 astunparse-1.6.3 cachetools-5.3.1 flatbuffers-23.5.26 gast-0.4.0 google-auth-2.22.0 google-auth-oauthlib-1.0.0 google-pasta-0.2.0 grpcio-1.56.2 keras-2.13.1 libclang-16.0.6 oauthlib-3.2.2 opt-einsum-3.3.0 protobuf-4.24.0 requests-oauthlib-1.3.1 rsa-4.9 tensorboard-2.13.0 tensorboard-data-server-0.7.1 tensorflow-2.13.0 tensorflow-estimator-2.13.0 tensorflow-intel-2.13.0 tensorflow-io-gcs-filesystem-0.31.0 termcolor-2.3.0\n",
      "Note: you may need to restart the kernel to use updated packages.\n"
     ]
    },
    {
     "name": "stderr",
     "output_type": "stream",
     "text": [
      "  WARNING: The scripts pyrsa-decrypt.exe, pyrsa-encrypt.exe, pyrsa-keygen.exe, pyrsa-priv2pub.exe, pyrsa-sign.exe and pyrsa-verify.exe are installed in 'C:\\Users\\oceanvue\\AppData\\Roaming\\Python\\Python310\\Scripts' which is not on PATH.\n",
      "  Consider adding this directory to PATH or, if you prefer to suppress this warning, use --no-warn-script-location.\n",
      "  WARNING: The script google-oauthlib-tool.exe is installed in 'C:\\Users\\oceanvue\\AppData\\Roaming\\Python\\Python310\\Scripts' which is not on PATH.\n",
      "  Consider adding this directory to PATH or, if you prefer to suppress this warning, use --no-warn-script-location.\n",
      "  WARNING: The script tensorboard.exe is installed in 'C:\\Users\\oceanvue\\AppData\\Roaming\\Python\\Python310\\Scripts' which is not on PATH.\n",
      "  Consider adding this directory to PATH or, if you prefer to suppress this warning, use --no-warn-script-location.\n",
      "  WARNING: The scripts estimator_ckpt_converter.exe, import_pb_to_tensorboard.exe, saved_model_cli.exe, tensorboard.exe, tf_upgrade_v2.exe, tflite_convert.exe, toco.exe and toco_from_protos.exe are installed in 'C:\\Users\\oceanvue\\AppData\\Roaming\\Python\\Python310\\Scripts' which is not on PATH.\n",
      "  Consider adding this directory to PATH or, if you prefer to suppress this warning, use --no-warn-script-location.\n"
     ]
    }
   ],
   "source": [
    "pip install tensorflow"
   ]
  },
  {
   "cell_type": "code",
   "execution_count": 28,
   "metadata": {},
   "outputs": [
    {
     "name": "stdout",
     "output_type": "stream",
     "text": [
      "2.13.0\n"
     ]
    }
   ],
   "source": [
    "import tensorflow as tf\n",
    "print(tf.__version__)"
   ]
  },
  {
   "cell_type": "code",
   "execution_count": 29,
   "metadata": {},
   "outputs": [],
   "source": [
    "from tensorflow.keras.models import Sequential\n",
    "from tensorflow.keras.layers import Dense,Dropout,Activation,Flatten\n",
    "from tensorflow.keras.optimizers import Adam\n",
    "from sklearn import metrics"
   ]
  },
  {
   "cell_type": "code",
   "execution_count": 30,
   "metadata": {},
   "outputs": [],
   "source": [
    "### No of classes\n",
    "num_labels=y.shape[1]"
   ]
  },
  {
   "cell_type": "code",
   "execution_count": 31,
   "metadata": {},
   "outputs": [
    {
     "ename": "TypeError",
     "evalue": "Dense.__init__() missing 1 required positional argument: 'units'",
     "output_type": "error",
     "traceback": [
      "\u001b[1;31m---------------------------------------------------------------------------\u001b[0m",
      "\u001b[1;31mTypeError\u001b[0m                                 Traceback (most recent call last)",
      "Cell \u001b[1;32mIn[31], line 1\u001b[0m\n\u001b[1;32m----> 1\u001b[0m Dense()\n",
      "File \u001b[1;32m~\\AppData\\Roaming\\Python\\Python310\\site-packages\\keras\\src\\dtensor\\utils.py:96\u001b[0m, in \u001b[0;36mallow_initializer_layout.<locals>._wrap_function\u001b[1;34m(layer_instance, *args, **kwargs)\u001b[0m\n\u001b[0;32m     93\u001b[0m         \u001b[39mif\u001b[39;00m layout:\n\u001b[0;32m     94\u001b[0m             layout_args[variable_name \u001b[39m+\u001b[39m \u001b[39m\"\u001b[39m\u001b[39m_layout\u001b[39m\u001b[39m\"\u001b[39m] \u001b[39m=\u001b[39m layout\n\u001b[1;32m---> 96\u001b[0m init_method(layer_instance, \u001b[39m*\u001b[39margs, \u001b[39m*\u001b[39m\u001b[39m*\u001b[39mkwargs)\n\u001b[0;32m     98\u001b[0m \u001b[39m# Inject the layout parameter after the invocation of __init__()\u001b[39;00m\n\u001b[0;32m     99\u001b[0m \u001b[39mfor\u001b[39;00m layout_param_name, layout \u001b[39min\u001b[39;00m layout_args\u001b[39m.\u001b[39mitems():\n",
      "\u001b[1;31mTypeError\u001b[0m: Dense.__init__() missing 1 required positional argument: 'units'"
     ]
    }
   ],
   "source": [
    "Dense()"
   ]
  },
  {
   "cell_type": "code",
   "execution_count": 32,
   "metadata": {},
   "outputs": [],
   "source": [
    "model=Sequential()\n",
    "###first layer\n",
    "model.add(Dense(100,input_shape=(40,)))\n",
    "model.add(Activation('relu'))\n",
    "model.add(Dropout(0.5))\n",
    "###second layer\n",
    "model.add(Dense(200))\n",
    "model.add(Activation('relu'))\n",
    "model.add(Dropout(0.5))\n",
    "###third layer\n",
    "model.add(Dense(100))\n",
    "model.add(Activation('relu'))\n",
    "model.add(Dropout(0.5))\n",
    "\n",
    "###final layer\n",
    "model.add(Dense(num_labels))\n",
    "model.add(Activation('softmax'))"
   ]
  },
  {
   "cell_type": "code",
   "execution_count": 33,
   "metadata": {},
   "outputs": [
    {
     "name": "stdout",
     "output_type": "stream",
     "text": [
      "Model: \"sequential\"\n",
      "_________________________________________________________________\n",
      " Layer (type)                Output Shape              Param #   \n",
      "=================================================================\n",
      " dense (Dense)               (None, 100)               4100      \n",
      "                                                                 \n",
      " activation (Activation)     (None, 100)               0         \n",
      "                                                                 \n",
      " dropout (Dropout)           (None, 100)               0         \n",
      "                                                                 \n",
      " dense_1 (Dense)             (None, 200)               20200     \n",
      "                                                                 \n",
      " activation_1 (Activation)   (None, 200)               0         \n",
      "                                                                 \n",
      " dropout_1 (Dropout)         (None, 200)               0         \n",
      "                                                                 \n",
      " dense_2 (Dense)             (None, 100)               20100     \n",
      "                                                                 \n",
      " activation_2 (Activation)   (None, 100)               0         \n",
      "                                                                 \n",
      " dropout_2 (Dropout)         (None, 100)               0         \n",
      "                                                                 \n",
      " dense_3 (Dense)             (None, 4)                 404       \n",
      "                                                                 \n",
      " activation_3 (Activation)   (None, 4)                 0         \n",
      "                                                                 \n",
      "=================================================================\n",
      "Total params: 44804 (175.02 KB)\n",
      "Trainable params: 44804 (175.02 KB)\n",
      "Non-trainable params: 0 (0.00 Byte)\n",
      "_________________________________________________________________\n"
     ]
    }
   ],
   "source": [
    "model.summary()"
   ]
  },
  {
   "cell_type": "code",
   "execution_count": 34,
   "metadata": {},
   "outputs": [],
   "source": [
    "model.compile(loss='categorical_crossentropy',metrics=['accuracy'],optimizer='adam')"
   ]
  },
  {
   "cell_type": "code",
   "execution_count": 44,
   "metadata": {},
   "outputs": [
    {
     "name": "stdout",
     "output_type": "stream",
     "text": [
      "Epoch 1/1000\n",
      " 1/16 [>.............................] - ETA: 0s - loss: 0.8204 - accuracy: 0.5312\n",
      "Epoch 1: val_loss improved from inf to 1.01634, saving model to saved_models\\audio_classification.hdf5\n",
      "16/16 [==============================] - 1s 36ms/step - loss: 0.6631 - accuracy: 0.7207 - val_loss: 1.0163 - val_accuracy: 0.6557\n",
      "Epoch 2/1000\n",
      " 1/16 [>.............................] - ETA: 0s - loss: 0.5305 - accuracy: 0.7812\n",
      "Epoch 2: val_loss did not improve from 1.01634\n",
      "16/16 [==============================] - 0s 3ms/step - loss: 0.6873 - accuracy: 0.7125 - val_loss: 1.0897 - val_accuracy: 0.6148\n",
      "Epoch 3/1000\n",
      " 1/16 [>.............................] - ETA: 0s - loss: 0.6557 - accuracy: 0.7188\n",
      "Epoch 3: val_loss did not improve from 1.01634\n",
      "16/16 [==============================] - 0s 3ms/step - loss: 0.6403 - accuracy: 0.7474 - val_loss: 1.0575 - val_accuracy: 0.6230\n",
      "Epoch 4/1000\n",
      " 1/16 [>.............................] - ETA: 0s - loss: 0.6928 - accuracy: 0.6875\n",
      "Epoch 4: val_loss did not improve from 1.01634\n",
      "16/16 [==============================] - 0s 4ms/step - loss: 0.6491 - accuracy: 0.7146 - val_loss: 1.0801 - val_accuracy: 0.6557\n",
      "Epoch 5/1000\n",
      " 1/16 [>.............................] - ETA: 0s - loss: 0.6715 - accuracy: 0.7188\n",
      "Epoch 5: val_loss did not improve from 1.01634\n",
      "16/16 [==============================] - 0s 3ms/step - loss: 0.6910 - accuracy: 0.7105 - val_loss: 1.0459 - val_accuracy: 0.6393\n",
      "Epoch 6/1000\n",
      " 1/16 [>.............................] - ETA: 0s - loss: 0.6526 - accuracy: 0.7188\n",
      "Epoch 6: val_loss improved from 1.01634 to 1.01025, saving model to saved_models\\audio_classification.hdf5\n",
      "16/16 [==============================] - 0s 11ms/step - loss: 0.7023 - accuracy: 0.6961 - val_loss: 1.0102 - val_accuracy: 0.6393\n",
      "Epoch 7/1000\n",
      " 1/16 [>.............................] - ETA: 0s - loss: 0.6393 - accuracy: 0.7500\n",
      "Epoch 7: val_loss improved from 1.01025 to 0.99130, saving model to saved_models\\audio_classification.hdf5\n",
      "16/16 [==============================] - 0s 5ms/step - loss: 0.7852 - accuracy: 0.6879 - val_loss: 0.9913 - val_accuracy: 0.6475\n",
      "Epoch 8/1000\n",
      " 1/16 [>.............................] - ETA: 0s - loss: 0.8267 - accuracy: 0.5938\n",
      "Epoch 8: val_loss did not improve from 0.99130\n",
      "16/16 [==============================] - 0s 3ms/step - loss: 0.7379 - accuracy: 0.6899 - val_loss: 0.9937 - val_accuracy: 0.6230\n",
      "Epoch 9/1000\n",
      " 1/16 [>.............................] - ETA: 0s - loss: 0.6046 - accuracy: 0.8438\n",
      "Epoch 9: val_loss did not improve from 0.99130\n",
      "16/16 [==============================] - 0s 3ms/step - loss: 0.6990 - accuracy: 0.7207 - val_loss: 1.0152 - val_accuracy: 0.6230\n",
      "Epoch 10/1000\n",
      " 1/16 [>.............................] - ETA: 0s - loss: 0.6605 - accuracy: 0.6875\n",
      "Epoch 10: val_loss improved from 0.99130 to 0.96959, saving model to saved_models\\audio_classification.hdf5\n",
      "16/16 [==============================] - 0s 4ms/step - loss: 0.6824 - accuracy: 0.7125 - val_loss: 0.9696 - val_accuracy: 0.6230\n",
      "Epoch 11/1000\n",
      " 1/16 [>.............................] - ETA: 0s - loss: 0.6855 - accuracy: 0.7500\n",
      "Epoch 11: val_loss did not improve from 0.96959\n",
      "16/16 [==============================] - 0s 3ms/step - loss: 0.7077 - accuracy: 0.7105 - val_loss: 1.0797 - val_accuracy: 0.6148\n",
      "Epoch 12/1000\n",
      " 1/16 [>.............................] - ETA: 0s - loss: 0.7012 - accuracy: 0.7188\n",
      "Epoch 12: val_loss improved from 0.96959 to 0.94632, saving model to saved_models\\audio_classification.hdf5\n",
      "16/16 [==============================] - 0s 5ms/step - loss: 0.7251 - accuracy: 0.7105 - val_loss: 0.9463 - val_accuracy: 0.6230\n",
      "Epoch 13/1000\n",
      " 1/16 [>.............................] - ETA: 0s - loss: 0.7850 - accuracy: 0.7188\n",
      "Epoch 13: val_loss did not improve from 0.94632\n",
      "16/16 [==============================] - 0s 3ms/step - loss: 0.7355 - accuracy: 0.6858 - val_loss: 0.9827 - val_accuracy: 0.6066\n",
      "Epoch 14/1000\n",
      " 1/16 [>.............................] - ETA: 0s - loss: 0.5912 - accuracy: 0.7188\n",
      "Epoch 14: val_loss did not improve from 0.94632\n",
      "16/16 [==============================] - 0s 3ms/step - loss: 0.6614 - accuracy: 0.7290 - val_loss: 1.0375 - val_accuracy: 0.6148\n",
      "Epoch 15/1000\n",
      " 1/16 [>.............................] - ETA: 0s - loss: 0.4968 - accuracy: 0.7500\n",
      "Epoch 15: val_loss did not improve from 0.94632\n",
      "16/16 [==============================] - 0s 3ms/step - loss: 0.6862 - accuracy: 0.7166 - val_loss: 1.0334 - val_accuracy: 0.6148\n",
      "Epoch 16/1000\n",
      " 1/16 [>.............................] - ETA: 0s - loss: 0.6628 - accuracy: 0.6875\n",
      "Epoch 16: val_loss did not improve from 0.94632\n",
      "16/16 [==============================] - 0s 3ms/step - loss: 0.6936 - accuracy: 0.7207 - val_loss: 1.0157 - val_accuracy: 0.6230\n",
      "Epoch 17/1000\n",
      " 1/16 [>.............................] - ETA: 0s - loss: 0.8465 - accuracy: 0.5938\n",
      "Epoch 17: val_loss did not improve from 0.94632\n",
      "16/16 [==============================] - 0s 3ms/step - loss: 0.6958 - accuracy: 0.7064 - val_loss: 0.9945 - val_accuracy: 0.6475\n",
      "Epoch 18/1000\n",
      " 1/16 [>.............................] - ETA: 0s - loss: 0.8060 - accuracy: 0.6250\n",
      "Epoch 18: val_loss did not improve from 0.94632\n",
      "16/16 [==============================] - 0s 3ms/step - loss: 0.6566 - accuracy: 0.7105 - val_loss: 1.0311 - val_accuracy: 0.6230\n",
      "Epoch 19/1000\n",
      " 1/16 [>.............................] - ETA: 0s - loss: 0.7164 - accuracy: 0.6250\n",
      "Epoch 19: val_loss did not improve from 0.94632\n",
      "16/16 [==============================] - 0s 3ms/step - loss: 0.6859 - accuracy: 0.7084 - val_loss: 1.0442 - val_accuracy: 0.6066\n",
      "Epoch 20/1000\n",
      " 1/16 [>.............................] - ETA: 0s - loss: 0.6398 - accuracy: 0.7188\n",
      "Epoch 20: val_loss did not improve from 0.94632\n",
      "16/16 [==============================] - 0s 3ms/step - loss: 0.6777 - accuracy: 0.7166 - val_loss: 1.0322 - val_accuracy: 0.6148\n",
      "Epoch 21/1000\n",
      " 1/16 [>.............................] - ETA: 0s - loss: 0.8595 - accuracy: 0.5938\n",
      "Epoch 21: val_loss did not improve from 0.94632\n",
      "16/16 [==============================] - 0s 3ms/step - loss: 0.7148 - accuracy: 0.6838 - val_loss: 1.0895 - val_accuracy: 0.5902\n",
      "Epoch 22/1000\n",
      " 1/16 [>.............................] - ETA: 0s - loss: 0.7227 - accuracy: 0.7500\n",
      "Epoch 22: val_loss did not improve from 0.94632\n",
      "16/16 [==============================] - 0s 4ms/step - loss: 0.6936 - accuracy: 0.6879 - val_loss: 1.0322 - val_accuracy: 0.6066\n",
      "Epoch 23/1000\n",
      " 1/16 [>.............................] - ETA: 0s - loss: 0.5355 - accuracy: 0.8125\n",
      "Epoch 23: val_loss did not improve from 0.94632\n",
      "16/16 [==============================] - 0s 3ms/step - loss: 0.6835 - accuracy: 0.7248 - val_loss: 1.0190 - val_accuracy: 0.6393\n",
      "Epoch 24/1000\n",
      " 1/16 [>.............................] - ETA: 0s - loss: 0.6648 - accuracy: 0.6562\n",
      "Epoch 24: val_loss did not improve from 0.94632\n",
      "16/16 [==============================] - 0s 3ms/step - loss: 0.6945 - accuracy: 0.7064 - val_loss: 0.9905 - val_accuracy: 0.6803\n",
      "Epoch 25/1000\n",
      " 1/16 [>.............................] - ETA: 0s - loss: 0.6024 - accuracy: 0.6562\n",
      "Epoch 25: val_loss did not improve from 0.94632\n",
      "16/16 [==============================] - 0s 3ms/step - loss: 0.6170 - accuracy: 0.7125 - val_loss: 1.0017 - val_accuracy: 0.6475\n",
      "Epoch 26/1000\n",
      " 1/16 [>.............................] - ETA: 0s - loss: 0.6876 - accuracy: 0.7188\n",
      "Epoch 26: val_loss did not improve from 0.94632\n",
      "16/16 [==============================] - 0s 3ms/step - loss: 0.6263 - accuracy: 0.7166 - val_loss: 1.0839 - val_accuracy: 0.6475\n",
      "Epoch 27/1000\n",
      " 1/16 [>.............................] - ETA: 0s - loss: 0.6397 - accuracy: 0.7812\n",
      "Epoch 27: val_loss did not improve from 0.94632\n",
      "16/16 [==============================] - 0s 3ms/step - loss: 0.6176 - accuracy: 0.7372 - val_loss: 1.0592 - val_accuracy: 0.6311\n",
      "Epoch 28/1000\n",
      " 1/16 [>.............................] - ETA: 0s - loss: 0.7121 - accuracy: 0.7188\n",
      "Epoch 28: val_loss did not improve from 0.94632\n",
      "16/16 [==============================] - 0s 3ms/step - loss: 0.6532 - accuracy: 0.7310 - val_loss: 1.0468 - val_accuracy: 0.6311\n",
      "Epoch 29/1000\n",
      " 1/16 [>.............................] - ETA: 0s - loss: 0.8212 - accuracy: 0.5312\n",
      "Epoch 29: val_loss did not improve from 0.94632\n",
      "16/16 [==============================] - 0s 3ms/step - loss: 0.6586 - accuracy: 0.7105 - val_loss: 1.0340 - val_accuracy: 0.6393\n",
      "Epoch 30/1000\n",
      " 1/16 [>.............................] - ETA: 0s - loss: 0.5241 - accuracy: 0.8125\n",
      "Epoch 30: val_loss did not improve from 0.94632\n",
      "16/16 [==============================] - 0s 3ms/step - loss: 0.6553 - accuracy: 0.7207 - val_loss: 1.0009 - val_accuracy: 0.6475\n",
      "Epoch 31/1000\n",
      " 1/16 [>.............................] - ETA: 0s - loss: 0.7334 - accuracy: 0.6875\n",
      "Epoch 31: val_loss did not improve from 0.94632\n",
      "16/16 [==============================] - 0s 3ms/step - loss: 0.6731 - accuracy: 0.7166 - val_loss: 1.0401 - val_accuracy: 0.6148\n",
      "Epoch 32/1000\n",
      " 1/16 [>.............................] - ETA: 0s - loss: 0.6096 - accuracy: 0.7500\n",
      "Epoch 32: val_loss did not improve from 0.94632\n",
      "16/16 [==============================] - 0s 3ms/step - loss: 0.6396 - accuracy: 0.7372 - val_loss: 0.9727 - val_accuracy: 0.6639\n",
      "Epoch 33/1000\n",
      " 1/16 [>.............................] - ETA: 0s - loss: 0.5800 - accuracy: 0.6875\n",
      "Epoch 33: val_loss did not improve from 0.94632\n",
      "16/16 [==============================] - 0s 3ms/step - loss: 0.6273 - accuracy: 0.7248 - val_loss: 0.9964 - val_accuracy: 0.6639\n",
      "Epoch 34/1000\n",
      " 1/16 [>.............................] - ETA: 0s - loss: 0.6742 - accuracy: 0.5938\n",
      "Epoch 34: val_loss did not improve from 0.94632\n",
      "16/16 [==============================] - 0s 4ms/step - loss: 0.6352 - accuracy: 0.7269 - val_loss: 1.0879 - val_accuracy: 0.6311\n",
      "Epoch 35/1000\n",
      " 1/16 [>.............................] - ETA: 0s - loss: 0.5357 - accuracy: 0.7500\n",
      "Epoch 35: val_loss did not improve from 0.94632\n",
      "16/16 [==============================] - 0s 4ms/step - loss: 0.5888 - accuracy: 0.7433 - val_loss: 1.1057 - val_accuracy: 0.6148\n",
      "Epoch 36/1000\n",
      " 1/16 [>.............................] - ETA: 0s - loss: 0.6722 - accuracy: 0.6875\n",
      "Epoch 36: val_loss did not improve from 0.94632\n",
      "16/16 [==============================] - 0s 3ms/step - loss: 0.6687 - accuracy: 0.7269 - val_loss: 1.0504 - val_accuracy: 0.6393\n",
      "Epoch 37/1000\n",
      " 1/16 [>.............................] - ETA: 0s - loss: 0.5464 - accuracy: 0.9375\n",
      "Epoch 37: val_loss did not improve from 0.94632\n",
      "16/16 [==============================] - 0s 3ms/step - loss: 0.6585 - accuracy: 0.7166 - val_loss: 0.9499 - val_accuracy: 0.6557\n",
      "Epoch 38/1000\n",
      " 1/16 [>.............................] - ETA: 0s - loss: 0.5967 - accuracy: 0.7500\n",
      "Epoch 38: val_loss did not improve from 0.94632\n",
      "16/16 [==============================] - 0s 3ms/step - loss: 0.6271 - accuracy: 0.7495 - val_loss: 1.0585 - val_accuracy: 0.6230\n",
      "Epoch 39/1000\n",
      " 1/16 [>.............................] - ETA: 0s - loss: 0.7455 - accuracy: 0.6250\n",
      "Epoch 39: val_loss did not improve from 0.94632\n",
      "16/16 [==============================] - 0s 3ms/step - loss: 0.6315 - accuracy: 0.7372 - val_loss: 1.0150 - val_accuracy: 0.6475\n",
      "Epoch 40/1000\n",
      " 1/16 [>.............................] - ETA: 0s - loss: 0.7686 - accuracy: 0.6562\n",
      "Epoch 40: val_loss did not improve from 0.94632\n",
      "16/16 [==============================] - 0s 3ms/step - loss: 0.6528 - accuracy: 0.7105 - val_loss: 1.0730 - val_accuracy: 0.6230\n",
      "Epoch 41/1000\n",
      " 1/16 [>.............................] - ETA: 0s - loss: 0.5993 - accuracy: 0.6875\n",
      "Epoch 41: val_loss did not improve from 0.94632\n",
      "16/16 [==============================] - 0s 3ms/step - loss: 0.6511 - accuracy: 0.7146 - val_loss: 1.0945 - val_accuracy: 0.6721\n",
      "Epoch 42/1000\n",
      " 1/16 [>.............................] - ETA: 0s - loss: 0.6307 - accuracy: 0.6250\n",
      "Epoch 42: val_loss did not improve from 0.94632\n",
      "16/16 [==============================] - 0s 3ms/step - loss: 0.6458 - accuracy: 0.7331 - val_loss: 1.1186 - val_accuracy: 0.6066\n",
      "Epoch 43/1000\n",
      " 1/16 [>.............................] - ETA: 0s - loss: 0.6013 - accuracy: 0.8125\n",
      "Epoch 43: val_loss did not improve from 0.94632\n",
      "16/16 [==============================] - 0s 3ms/step - loss: 0.6729 - accuracy: 0.7187 - val_loss: 1.0078 - val_accuracy: 0.6311\n",
      "Epoch 44/1000\n",
      " 1/16 [>.............................] - ETA: 0s - loss: 0.6618 - accuracy: 0.7188\n",
      "Epoch 44: val_loss did not improve from 0.94632\n",
      "16/16 [==============================] - 0s 3ms/step - loss: 0.6153 - accuracy: 0.7577 - val_loss: 1.0608 - val_accuracy: 0.6311\n",
      "Epoch 45/1000\n",
      " 1/16 [>.............................] - ETA: 0s - loss: 0.5043 - accuracy: 0.8750\n",
      "Epoch 45: val_loss did not improve from 0.94632\n",
      "16/16 [==============================] - 0s 3ms/step - loss: 0.6469 - accuracy: 0.7310 - val_loss: 1.0017 - val_accuracy: 0.6557\n",
      "Epoch 46/1000\n",
      " 1/16 [>.............................] - ETA: 0s - loss: 0.6623 - accuracy: 0.7500\n",
      "Epoch 46: val_loss did not improve from 0.94632\n",
      "16/16 [==============================] - 0s 3ms/step - loss: 0.6738 - accuracy: 0.7187 - val_loss: 1.0511 - val_accuracy: 0.6230\n",
      "Epoch 47/1000\n",
      " 1/16 [>.............................] - ETA: 0s - loss: 0.5026 - accuracy: 0.8438\n",
      "Epoch 47: val_loss did not improve from 0.94632\n",
      "16/16 [==============================] - 0s 3ms/step - loss: 0.6448 - accuracy: 0.7228 - val_loss: 1.0193 - val_accuracy: 0.6557\n",
      "Epoch 48/1000\n",
      " 1/16 [>.............................] - ETA: 0s - loss: 0.7218 - accuracy: 0.6875\n",
      "Epoch 48: val_loss did not improve from 0.94632\n",
      "16/16 [==============================] - 0s 3ms/step - loss: 0.6500 - accuracy: 0.7228 - val_loss: 0.9786 - val_accuracy: 0.6639\n",
      "Epoch 49/1000\n",
      " 1/16 [>.............................] - ETA: 0s - loss: 0.4992 - accuracy: 0.7812\n",
      "Epoch 49: val_loss did not improve from 0.94632\n",
      "16/16 [==============================] - 0s 3ms/step - loss: 0.6315 - accuracy: 0.7290 - val_loss: 1.0161 - val_accuracy: 0.6475\n",
      "Epoch 50/1000\n",
      " 1/16 [>.............................] - ETA: 0s - loss: 0.5137 - accuracy: 0.8438\n",
      "Epoch 50: val_loss did not improve from 0.94632\n",
      "16/16 [==============================] - 0s 3ms/step - loss: 0.6489 - accuracy: 0.7290 - val_loss: 1.1542 - val_accuracy: 0.6230\n",
      "Epoch 51/1000\n",
      " 1/16 [>.............................] - ETA: 0s - loss: 0.4889 - accuracy: 0.8438\n",
      "Epoch 51: val_loss did not improve from 0.94632\n",
      "16/16 [==============================] - 0s 3ms/step - loss: 0.6324 - accuracy: 0.7310 - val_loss: 1.1130 - val_accuracy: 0.6475\n",
      "Epoch 52/1000\n",
      " 1/16 [>.............................] - ETA: 0s - loss: 0.6405 - accuracy: 0.7500\n",
      "Epoch 52: val_loss did not improve from 0.94632\n",
      "16/16 [==============================] - 0s 3ms/step - loss: 0.6437 - accuracy: 0.7413 - val_loss: 1.0367 - val_accuracy: 0.6393\n",
      "Epoch 53/1000\n",
      " 1/16 [>.............................] - ETA: 0s - loss: 0.5041 - accuracy: 0.7812\n",
      "Epoch 53: val_loss did not improve from 0.94632\n",
      "16/16 [==============================] - 0s 3ms/step - loss: 0.6676 - accuracy: 0.7084 - val_loss: 1.0777 - val_accuracy: 0.6557\n",
      "Epoch 54/1000\n",
      " 1/16 [>.............................] - ETA: 0s - loss: 0.5132 - accuracy: 0.7812\n",
      "Epoch 54: val_loss did not improve from 0.94632\n",
      "16/16 [==============================] - 0s 4ms/step - loss: 0.6708 - accuracy: 0.7331 - val_loss: 1.0587 - val_accuracy: 0.6475\n",
      "Epoch 55/1000\n",
      " 1/16 [>.............................] - ETA: 0s - loss: 0.4680 - accuracy: 0.9375\n",
      "Epoch 55: val_loss did not improve from 0.94632\n",
      "16/16 [==============================] - 0s 3ms/step - loss: 0.6374 - accuracy: 0.7556 - val_loss: 1.1165 - val_accuracy: 0.6393\n",
      "Epoch 56/1000\n",
      " 1/16 [>.............................] - ETA: 0s - loss: 0.6899 - accuracy: 0.6562\n",
      "Epoch 56: val_loss did not improve from 0.94632\n",
      "16/16 [==============================] - 0s 3ms/step - loss: 0.6637 - accuracy: 0.7207 - val_loss: 1.1373 - val_accuracy: 0.6066\n",
      "Epoch 57/1000\n",
      " 1/16 [>.............................] - ETA: 0s - loss: 0.5674 - accuracy: 0.7812\n",
      "Epoch 57: val_loss did not improve from 0.94632\n",
      "16/16 [==============================] - 0s 3ms/step - loss: 0.6096 - accuracy: 0.7413 - val_loss: 1.1304 - val_accuracy: 0.6148\n",
      "Epoch 58/1000\n",
      " 1/16 [>.............................] - ETA: 0s - loss: 0.5975 - accuracy: 0.7500\n",
      "Epoch 58: val_loss did not improve from 0.94632\n",
      "16/16 [==============================] - 0s 3ms/step - loss: 0.6274 - accuracy: 0.7515 - val_loss: 1.0511 - val_accuracy: 0.6393\n",
      "Epoch 59/1000\n",
      " 1/16 [>.............................] - ETA: 0s - loss: 0.5205 - accuracy: 0.7812\n",
      "Epoch 59: val_loss did not improve from 0.94632\n",
      "16/16 [==============================] - 0s 3ms/step - loss: 0.6269 - accuracy: 0.7290 - val_loss: 1.0795 - val_accuracy: 0.6066\n",
      "Epoch 60/1000\n",
      " 1/16 [>.............................] - ETA: 0s - loss: 0.6373 - accuracy: 0.7500\n",
      "Epoch 60: val_loss did not improve from 0.94632\n",
      "16/16 [==============================] - 0s 3ms/step - loss: 0.6497 - accuracy: 0.7166 - val_loss: 1.0205 - val_accuracy: 0.6885\n",
      "Epoch 61/1000\n",
      " 1/16 [>.............................] - ETA: 0s - loss: 0.5816 - accuracy: 0.6562\n",
      "Epoch 61: val_loss did not improve from 0.94632\n",
      "16/16 [==============================] - 0s 3ms/step - loss: 0.6294 - accuracy: 0.7331 - val_loss: 1.0903 - val_accuracy: 0.6311\n",
      "Epoch 62/1000\n",
      " 1/16 [>.............................] - ETA: 0s - loss: 0.6526 - accuracy: 0.6875\n",
      "Epoch 62: val_loss did not improve from 0.94632\n",
      "16/16 [==============================] - 0s 3ms/step - loss: 0.6148 - accuracy: 0.7290 - val_loss: 1.1609 - val_accuracy: 0.6066\n",
      "Epoch 63/1000\n",
      " 1/16 [>.............................] - ETA: 0s - loss: 0.6370 - accuracy: 0.7500\n",
      "Epoch 63: val_loss did not improve from 0.94632\n",
      "16/16 [==============================] - 0s 3ms/step - loss: 0.6389 - accuracy: 0.7413 - val_loss: 1.0633 - val_accuracy: 0.6475\n",
      "Epoch 64/1000\n",
      " 1/16 [>.............................] - ETA: 0s - loss: 0.4213 - accuracy: 0.8438\n",
      "Epoch 64: val_loss did not improve from 0.94632\n",
      "16/16 [==============================] - 0s 3ms/step - loss: 0.6788 - accuracy: 0.7064 - val_loss: 1.0397 - val_accuracy: 0.6475\n",
      "Epoch 65/1000\n",
      " 1/16 [>.............................] - ETA: 0s - loss: 0.5315 - accuracy: 0.7812\n",
      "Epoch 65: val_loss did not improve from 0.94632\n",
      "16/16 [==============================] - 0s 3ms/step - loss: 0.6480 - accuracy: 0.7166 - val_loss: 1.0534 - val_accuracy: 0.6230\n",
      "Epoch 66/1000\n",
      " 1/16 [>.............................] - ETA: 0s - loss: 0.8461 - accuracy: 0.6250\n",
      "Epoch 66: val_loss did not improve from 0.94632\n",
      "16/16 [==============================] - 0s 3ms/step - loss: 0.6744 - accuracy: 0.7064 - val_loss: 1.0237 - val_accuracy: 0.6475\n",
      "Epoch 67/1000\n",
      " 1/16 [>.............................] - ETA: 0s - loss: 0.6777 - accuracy: 0.6875\n",
      "Epoch 67: val_loss did not improve from 0.94632\n",
      "16/16 [==============================] - 0s 3ms/step - loss: 0.7114 - accuracy: 0.7146 - val_loss: 0.9572 - val_accuracy: 0.6639\n",
      "Epoch 68/1000\n",
      " 1/16 [>.............................] - ETA: 0s - loss: 0.5439 - accuracy: 0.8438\n",
      "Epoch 68: val_loss did not improve from 0.94632\n",
      "16/16 [==============================] - 0s 3ms/step - loss: 0.6738 - accuracy: 0.7125 - val_loss: 0.9539 - val_accuracy: 0.6557\n",
      "Epoch 69/1000\n",
      " 1/16 [>.............................] - ETA: 0s - loss: 0.6544 - accuracy: 0.6875\n",
      "Epoch 69: val_loss did not improve from 0.94632\n",
      "16/16 [==============================] - 0s 3ms/step - loss: 0.6614 - accuracy: 0.7290 - val_loss: 0.9618 - val_accuracy: 0.6393\n",
      "Epoch 70/1000\n",
      " 1/16 [>.............................] - ETA: 0s - loss: 0.5197 - accuracy: 0.8125\n",
      "Epoch 70: val_loss did not improve from 0.94632\n",
      "16/16 [==============================] - 0s 3ms/step - loss: 0.7054 - accuracy: 0.6940 - val_loss: 1.1202 - val_accuracy: 0.6066\n",
      "Epoch 71/1000\n",
      " 1/16 [>.............................] - ETA: 0s - loss: 0.5925 - accuracy: 0.7500\n",
      "Epoch 71: val_loss did not improve from 0.94632\n",
      "16/16 [==============================] - 0s 4ms/step - loss: 0.6549 - accuracy: 0.7248 - val_loss: 1.0081 - val_accuracy: 0.6475\n",
      "Epoch 72/1000\n",
      " 1/16 [>.............................] - ETA: 0s - loss: 0.7960 - accuracy: 0.6875\n",
      "Epoch 72: val_loss did not improve from 0.94632\n",
      "16/16 [==============================] - 0s 3ms/step - loss: 0.6506 - accuracy: 0.7392 - val_loss: 1.0149 - val_accuracy: 0.6557\n",
      "Epoch 73/1000\n",
      " 1/16 [>.............................] - ETA: 0s - loss: 0.6723 - accuracy: 0.7188\n",
      "Epoch 73: val_loss did not improve from 0.94632\n",
      "16/16 [==============================] - 0s 3ms/step - loss: 0.6240 - accuracy: 0.7413 - val_loss: 1.0988 - val_accuracy: 0.6230\n",
      "Epoch 74/1000\n",
      " 1/16 [>.............................] - ETA: 0s - loss: 0.7249 - accuracy: 0.7188\n",
      "Epoch 74: val_loss did not improve from 0.94632\n",
      "16/16 [==============================] - 0s 3ms/step - loss: 0.6527 - accuracy: 0.7166 - val_loss: 1.0977 - val_accuracy: 0.6557\n",
      "Epoch 75/1000\n",
      " 1/16 [>.............................] - ETA: 0s - loss: 0.4326 - accuracy: 0.8750\n",
      "Epoch 75: val_loss did not improve from 0.94632\n",
      "16/16 [==============================] - 0s 3ms/step - loss: 0.5836 - accuracy: 0.7556 - val_loss: 1.0703 - val_accuracy: 0.5984\n",
      "Epoch 76/1000\n",
      " 1/16 [>.............................] - ETA: 0s - loss: 0.7202 - accuracy: 0.7812\n",
      "Epoch 76: val_loss did not improve from 0.94632\n",
      "16/16 [==============================] - 0s 3ms/step - loss: 0.6217 - accuracy: 0.7392 - val_loss: 1.0218 - val_accuracy: 0.6393\n",
      "Epoch 77/1000\n",
      " 1/16 [>.............................] - ETA: 0s - loss: 0.5583 - accuracy: 0.6875\n",
      "Epoch 77: val_loss did not improve from 0.94632\n",
      "16/16 [==============================] - 0s 3ms/step - loss: 0.5926 - accuracy: 0.7556 - val_loss: 1.1026 - val_accuracy: 0.6230\n",
      "Epoch 78/1000\n",
      " 1/16 [>.............................] - ETA: 0s - loss: 0.9414 - accuracy: 0.5625\n",
      "Epoch 78: val_loss did not improve from 0.94632\n",
      "16/16 [==============================] - 0s 3ms/step - loss: 0.6082 - accuracy: 0.7372 - val_loss: 1.0873 - val_accuracy: 0.6393\n",
      "Epoch 79/1000\n",
      " 1/16 [>.............................] - ETA: 0s - loss: 0.4851 - accuracy: 0.8125\n",
      "Epoch 79: val_loss did not improve from 0.94632\n",
      "16/16 [==============================] - 0s 3ms/step - loss: 0.6344 - accuracy: 0.7187 - val_loss: 1.1416 - val_accuracy: 0.6639\n",
      "Epoch 80/1000\n",
      " 1/16 [>.............................] - ETA: 0s - loss: 0.4701 - accuracy: 0.8125\n",
      "Epoch 80: val_loss did not improve from 0.94632\n",
      "16/16 [==============================] - 0s 3ms/step - loss: 0.6376 - accuracy: 0.7310 - val_loss: 1.0544 - val_accuracy: 0.6803\n",
      "Epoch 81/1000\n",
      " 1/16 [>.............................] - ETA: 0s - loss: 0.6804 - accuracy: 0.6562\n",
      "Epoch 81: val_loss did not improve from 0.94632\n",
      "16/16 [==============================] - 0s 3ms/step - loss: 0.6367 - accuracy: 0.7310 - val_loss: 1.0862 - val_accuracy: 0.6639\n",
      "Epoch 82/1000\n",
      " 1/16 [>.............................] - ETA: 0s - loss: 0.6665 - accuracy: 0.7812\n",
      "Epoch 82: val_loss did not improve from 0.94632\n",
      "16/16 [==============================] - 0s 3ms/step - loss: 0.6626 - accuracy: 0.7392 - val_loss: 1.0373 - val_accuracy: 0.6148\n",
      "Epoch 83/1000\n",
      " 1/16 [>.............................] - ETA: 0s - loss: 0.5658 - accuracy: 0.7188\n",
      "Epoch 83: val_loss did not improve from 0.94632\n",
      "16/16 [==============================] - 0s 3ms/step - loss: 0.6694 - accuracy: 0.7228 - val_loss: 1.0471 - val_accuracy: 0.6393\n",
      "Epoch 84/1000\n",
      " 1/16 [>.............................] - ETA: 0s - loss: 0.4772 - accuracy: 0.7812\n",
      "Epoch 84: val_loss did not improve from 0.94632\n",
      "16/16 [==============================] - 0s 3ms/step - loss: 0.6276 - accuracy: 0.7474 - val_loss: 0.9902 - val_accuracy: 0.6557\n",
      "Epoch 85/1000\n",
      " 1/16 [>.............................] - ETA: 0s - loss: 0.7919 - accuracy: 0.6250\n",
      "Epoch 85: val_loss did not improve from 0.94632\n",
      "16/16 [==============================] - 0s 3ms/step - loss: 0.7153 - accuracy: 0.7043 - val_loss: 1.1238 - val_accuracy: 0.6230\n",
      "Epoch 86/1000\n",
      " 1/16 [>.............................] - ETA: 0s - loss: 0.5899 - accuracy: 0.6875\n",
      "Epoch 86: val_loss did not improve from 0.94632\n",
      "16/16 [==============================] - 0s 3ms/step - loss: 0.6553 - accuracy: 0.7351 - val_loss: 1.0384 - val_accuracy: 0.6311\n",
      "Epoch 87/1000\n",
      " 1/16 [>.............................] - ETA: 0s - loss: 0.8739 - accuracy: 0.7500\n",
      "Epoch 87: val_loss did not improve from 0.94632\n",
      "16/16 [==============================] - 0s 3ms/step - loss: 0.6413 - accuracy: 0.7187 - val_loss: 0.9908 - val_accuracy: 0.6311\n",
      "Epoch 88/1000\n",
      " 1/16 [>.............................] - ETA: 0s - loss: 0.5224 - accuracy: 0.8125\n",
      "Epoch 88: val_loss did not improve from 0.94632\n",
      "16/16 [==============================] - 0s 3ms/step - loss: 0.6068 - accuracy: 0.7454 - val_loss: 1.1234 - val_accuracy: 0.6230\n",
      "Epoch 89/1000\n",
      " 1/16 [>.............................] - ETA: 0s - loss: 0.6883 - accuracy: 0.6250\n",
      "Epoch 89: val_loss did not improve from 0.94632\n",
      "16/16 [==============================] - 0s 4ms/step - loss: 0.6234 - accuracy: 0.7290 - val_loss: 1.0052 - val_accuracy: 0.6803\n",
      "Epoch 90/1000\n",
      " 1/16 [>.............................] - ETA: 0s - loss: 1.0173 - accuracy: 0.5938\n",
      "Epoch 90: val_loss did not improve from 0.94632\n",
      "16/16 [==============================] - 0s 3ms/step - loss: 0.6326 - accuracy: 0.7392 - val_loss: 1.0754 - val_accuracy: 0.6148\n",
      "Epoch 91/1000\n",
      " 1/16 [>.............................] - ETA: 0s - loss: 0.5388 - accuracy: 0.7500\n",
      "Epoch 91: val_loss did not improve from 0.94632\n",
      "16/16 [==============================] - 0s 3ms/step - loss: 0.6850 - accuracy: 0.7043 - val_loss: 1.0184 - val_accuracy: 0.6230\n",
      "Epoch 92/1000\n",
      " 1/16 [>.............................] - ETA: 0s - loss: 0.7150 - accuracy: 0.7812\n",
      "Epoch 92: val_loss did not improve from 0.94632\n",
      "16/16 [==============================] - 0s 3ms/step - loss: 0.6422 - accuracy: 0.7331 - val_loss: 1.0722 - val_accuracy: 0.6475\n",
      "Epoch 93/1000\n",
      " 1/16 [>.............................] - ETA: 0s - loss: 0.4520 - accuracy: 0.8125\n",
      "Epoch 93: val_loss did not improve from 0.94632\n",
      "16/16 [==============================] - 0s 3ms/step - loss: 0.6270 - accuracy: 0.7269 - val_loss: 1.0720 - val_accuracy: 0.6311\n",
      "Epoch 94/1000\n",
      " 1/16 [>.............................] - ETA: 0s - loss: 0.5189 - accuracy: 0.8438\n",
      "Epoch 94: val_loss did not improve from 0.94632\n",
      "16/16 [==============================] - 0s 3ms/step - loss: 0.5647 - accuracy: 0.7331 - val_loss: 1.0856 - val_accuracy: 0.6311\n",
      "Epoch 95/1000\n",
      " 1/16 [>.............................] - ETA: 0s - loss: 0.4390 - accuracy: 0.8125\n",
      "Epoch 95: val_loss did not improve from 0.94632\n",
      "16/16 [==============================] - 0s 3ms/step - loss: 0.5826 - accuracy: 0.7433 - val_loss: 1.1952 - val_accuracy: 0.6475\n",
      "Epoch 96/1000\n",
      " 1/16 [>.............................] - ETA: 0s - loss: 0.4594 - accuracy: 0.7500\n",
      "Epoch 96: val_loss did not improve from 0.94632\n",
      "16/16 [==============================] - 0s 3ms/step - loss: 0.6121 - accuracy: 0.7248 - val_loss: 1.0653 - val_accuracy: 0.6311\n",
      "Epoch 97/1000\n",
      " 1/16 [>.............................] - ETA: 0s - loss: 0.7533 - accuracy: 0.6562\n",
      "Epoch 97: val_loss did not improve from 0.94632\n",
      "16/16 [==============================] - 0s 3ms/step - loss: 0.7174 - accuracy: 0.6920 - val_loss: 1.0441 - val_accuracy: 0.6639\n",
      "Epoch 98/1000\n",
      " 1/16 [>.............................] - ETA: 0s - loss: 0.5930 - accuracy: 0.7500\n",
      "Epoch 98: val_loss did not improve from 0.94632\n",
      "16/16 [==============================] - 0s 3ms/step - loss: 0.6431 - accuracy: 0.7125 - val_loss: 1.0818 - val_accuracy: 0.6639\n",
      "Epoch 99/1000\n",
      " 1/16 [>.............................] - ETA: 0s - loss: 0.6919 - accuracy: 0.6875\n",
      "Epoch 99: val_loss did not improve from 0.94632\n",
      "16/16 [==============================] - 0s 3ms/step - loss: 0.6389 - accuracy: 0.7084 - val_loss: 1.0905 - val_accuracy: 0.6148\n",
      "Epoch 100/1000\n",
      " 1/16 [>.............................] - ETA: 0s - loss: 0.6502 - accuracy: 0.7500\n",
      "Epoch 100: val_loss did not improve from 0.94632\n",
      "16/16 [==============================] - 0s 3ms/step - loss: 0.6649 - accuracy: 0.7372 - val_loss: 1.0629 - val_accuracy: 0.6475\n",
      "Epoch 101/1000\n",
      " 1/16 [>.............................] - ETA: 0s - loss: 0.3945 - accuracy: 0.8125\n",
      "Epoch 101: val_loss did not improve from 0.94632\n",
      "16/16 [==============================] - 0s 3ms/step - loss: 0.6608 - accuracy: 0.7084 - val_loss: 1.0455 - val_accuracy: 0.6311\n",
      "Epoch 102/1000\n",
      " 1/16 [>.............................] - ETA: 0s - loss: 0.6302 - accuracy: 0.7812\n",
      "Epoch 102: val_loss did not improve from 0.94632\n",
      "16/16 [==============================] - 0s 3ms/step - loss: 0.6264 - accuracy: 0.7392 - val_loss: 1.0183 - val_accuracy: 0.6311\n",
      "Epoch 103/1000\n",
      " 1/16 [>.............................] - ETA: 0s - loss: 0.6788 - accuracy: 0.6875\n",
      "Epoch 103: val_loss did not improve from 0.94632\n",
      "16/16 [==============================] - 0s 3ms/step - loss: 0.6542 - accuracy: 0.7331 - val_loss: 1.0674 - val_accuracy: 0.6311\n",
      "Epoch 104/1000\n",
      " 1/16 [>.............................] - ETA: 0s - loss: 0.6082 - accuracy: 0.7500\n",
      "Epoch 104: val_loss did not improve from 0.94632\n",
      "16/16 [==============================] - 0s 3ms/step - loss: 0.6224 - accuracy: 0.7495 - val_loss: 1.0655 - val_accuracy: 0.6393\n",
      "Epoch 105/1000\n",
      " 1/16 [>.............................] - ETA: 0s - loss: 0.5185 - accuracy: 0.7188\n",
      "Epoch 105: val_loss did not improve from 0.94632\n",
      "16/16 [==============================] - 0s 4ms/step - loss: 0.6140 - accuracy: 0.7331 - val_loss: 1.0686 - val_accuracy: 0.6230\n",
      "Epoch 106/1000\n",
      " 1/16 [>.............................] - ETA: 0s - loss: 0.5168 - accuracy: 0.7812\n",
      "Epoch 106: val_loss did not improve from 0.94632\n",
      "16/16 [==============================] - 0s 3ms/step - loss: 0.6096 - accuracy: 0.7433 - val_loss: 1.1279 - val_accuracy: 0.6311\n",
      "Epoch 107/1000\n",
      " 1/16 [>.............................] - ETA: 0s - loss: 0.7702 - accuracy: 0.7500\n",
      "Epoch 107: val_loss did not improve from 0.94632\n",
      "16/16 [==============================] - 0s 3ms/step - loss: 0.6013 - accuracy: 0.7536 - val_loss: 1.1260 - val_accuracy: 0.6311\n",
      "Epoch 108/1000\n",
      " 1/16 [>.............................] - ETA: 0s - loss: 0.5304 - accuracy: 0.6875\n",
      "Epoch 108: val_loss did not improve from 0.94632\n",
      "16/16 [==============================] - 0s 3ms/step - loss: 0.6101 - accuracy: 0.7207 - val_loss: 1.1013 - val_accuracy: 0.6721\n",
      "Epoch 109/1000\n",
      " 1/16 [>.............................] - ETA: 0s - loss: 0.8191 - accuracy: 0.5938\n",
      "Epoch 109: val_loss did not improve from 0.94632\n",
      "16/16 [==============================] - 0s 3ms/step - loss: 0.5947 - accuracy: 0.7454 - val_loss: 1.1312 - val_accuracy: 0.6066\n",
      "Epoch 110/1000\n",
      " 1/16 [>.............................] - ETA: 0s - loss: 0.5390 - accuracy: 0.7500\n",
      "Epoch 110: val_loss did not improve from 0.94632\n",
      "16/16 [==============================] - 0s 3ms/step - loss: 0.6047 - accuracy: 0.7392 - val_loss: 1.1087 - val_accuracy: 0.6311\n",
      "Epoch 111/1000\n",
      " 1/16 [>.............................] - ETA: 0s - loss: 0.7587 - accuracy: 0.6250\n",
      "Epoch 111: val_loss did not improve from 0.94632\n",
      "16/16 [==============================] - 0s 3ms/step - loss: 0.6045 - accuracy: 0.7433 - val_loss: 1.1730 - val_accuracy: 0.6066\n",
      "Epoch 112/1000\n",
      " 1/16 [>.............................] - ETA: 0s - loss: 0.5392 - accuracy: 0.7812\n",
      "Epoch 112: val_loss did not improve from 0.94632\n",
      "16/16 [==============================] - 0s 3ms/step - loss: 0.5909 - accuracy: 0.7495 - val_loss: 1.1166 - val_accuracy: 0.6311\n",
      "Epoch 113/1000\n",
      " 1/16 [>.............................] - ETA: 0s - loss: 0.6633 - accuracy: 0.6562\n",
      "Epoch 113: val_loss did not improve from 0.94632\n",
      "16/16 [==============================] - 0s 3ms/step - loss: 0.6449 - accuracy: 0.7166 - val_loss: 1.0954 - val_accuracy: 0.6148\n",
      "Epoch 114/1000\n",
      " 1/16 [>.............................] - ETA: 0s - loss: 0.5847 - accuracy: 0.7188\n",
      "Epoch 114: val_loss did not improve from 0.94632\n",
      "16/16 [==============================] - 0s 3ms/step - loss: 0.6428 - accuracy: 0.7166 - val_loss: 1.1002 - val_accuracy: 0.6393\n",
      "Epoch 115/1000\n",
      " 1/16 [>.............................] - ETA: 0s - loss: 0.7392 - accuracy: 0.6250\n",
      "Epoch 115: val_loss did not improve from 0.94632\n",
      "16/16 [==============================] - 0s 3ms/step - loss: 0.7015 - accuracy: 0.6879 - val_loss: 1.1437 - val_accuracy: 0.5984\n",
      "Epoch 116/1000\n",
      " 1/16 [>.............................] - ETA: 0s - loss: 0.6255 - accuracy: 0.6562\n",
      "Epoch 116: val_loss did not improve from 0.94632\n",
      "16/16 [==============================] - 0s 3ms/step - loss: 0.6337 - accuracy: 0.7269 - val_loss: 1.1249 - val_accuracy: 0.6230\n",
      "Epoch 117/1000\n",
      " 1/16 [>.............................] - ETA: 0s - loss: 0.4826 - accuracy: 0.7500\n",
      "Epoch 117: val_loss did not improve from 0.94632\n",
      "16/16 [==============================] - 0s 3ms/step - loss: 0.6482 - accuracy: 0.7248 - val_loss: 1.1344 - val_accuracy: 0.6311\n",
      "Epoch 118/1000\n",
      " 1/16 [>.............................] - ETA: 0s - loss: 0.6973 - accuracy: 0.6562\n",
      "Epoch 118: val_loss did not improve from 0.94632\n",
      "16/16 [==============================] - 0s 3ms/step - loss: 0.6475 - accuracy: 0.7023 - val_loss: 1.0417 - val_accuracy: 0.6475\n",
      "Epoch 119/1000\n",
      " 1/16 [>.............................] - ETA: 0s - loss: 0.5157 - accuracy: 0.7812\n",
      "Epoch 119: val_loss did not improve from 0.94632\n",
      "16/16 [==============================] - 0s 3ms/step - loss: 0.6677 - accuracy: 0.6940 - val_loss: 1.1729 - val_accuracy: 0.6557\n",
      "Epoch 120/1000\n",
      " 1/16 [>.............................] - ETA: 0s - loss: 0.4601 - accuracy: 0.8125\n",
      "Epoch 120: val_loss did not improve from 0.94632\n",
      "16/16 [==============================] - 0s 4ms/step - loss: 0.6131 - accuracy: 0.7146 - val_loss: 1.1342 - val_accuracy: 0.6557\n",
      "Epoch 121/1000\n",
      " 1/16 [>.............................] - ETA: 0s - loss: 0.6549 - accuracy: 0.6562\n",
      "Epoch 121: val_loss did not improve from 0.94632\n",
      "16/16 [==============================] - 0s 3ms/step - loss: 0.6122 - accuracy: 0.7146 - val_loss: 1.1062 - val_accuracy: 0.6475\n",
      "Epoch 122/1000\n",
      " 1/16 [>.............................] - ETA: 0s - loss: 0.5470 - accuracy: 0.7500\n",
      "Epoch 122: val_loss did not improve from 0.94632\n",
      "16/16 [==============================] - 0s 3ms/step - loss: 0.6494 - accuracy: 0.7248 - val_loss: 1.1661 - val_accuracy: 0.6148\n",
      "Epoch 123/1000\n",
      " 1/16 [>.............................] - ETA: 0s - loss: 0.8069 - accuracy: 0.6562\n",
      "Epoch 123: val_loss did not improve from 0.94632\n",
      "16/16 [==============================] - 0s 3ms/step - loss: 0.6362 - accuracy: 0.7207 - val_loss: 1.0288 - val_accuracy: 0.6393\n",
      "Epoch 124/1000\n",
      " 1/16 [>.............................] - ETA: 0s - loss: 0.6852 - accuracy: 0.6562\n",
      "Epoch 124: val_loss did not improve from 0.94632\n",
      "16/16 [==============================] - 0s 3ms/step - loss: 0.6086 - accuracy: 0.7269 - val_loss: 1.1533 - val_accuracy: 0.6557\n",
      "Epoch 125/1000\n",
      " 1/16 [>.............................] - ETA: 0s - loss: 0.6016 - accuracy: 0.7500\n",
      "Epoch 125: val_loss did not improve from 0.94632\n",
      "16/16 [==============================] - 0s 3ms/step - loss: 0.6349 - accuracy: 0.7351 - val_loss: 1.0763 - val_accuracy: 0.6393\n",
      "Epoch 126/1000\n",
      " 1/16 [>.............................] - ETA: 0s - loss: 0.6200 - accuracy: 0.6562\n",
      "Epoch 126: val_loss did not improve from 0.94632\n",
      "16/16 [==============================] - 0s 3ms/step - loss: 0.6361 - accuracy: 0.7043 - val_loss: 1.0980 - val_accuracy: 0.6393\n",
      "Epoch 127/1000\n",
      " 1/16 [>.............................] - ETA: 0s - loss: 0.6137 - accuracy: 0.6875\n",
      "Epoch 127: val_loss did not improve from 0.94632\n",
      "16/16 [==============================] - 0s 3ms/step - loss: 0.6634 - accuracy: 0.7084 - val_loss: 1.0882 - val_accuracy: 0.6311\n",
      "Epoch 128/1000\n",
      " 1/16 [>.............................] - ETA: 0s - loss: 0.6511 - accuracy: 0.6562\n",
      "Epoch 128: val_loss did not improve from 0.94632\n",
      "16/16 [==============================] - 0s 3ms/step - loss: 0.6146 - accuracy: 0.7043 - val_loss: 1.0935 - val_accuracy: 0.6557\n",
      "Epoch 129/1000\n",
      " 1/16 [>.............................] - ETA: 0s - loss: 0.7018 - accuracy: 0.5625\n",
      "Epoch 129: val_loss did not improve from 0.94632\n",
      "16/16 [==============================] - 0s 3ms/step - loss: 0.6678 - accuracy: 0.7084 - val_loss: 1.0204 - val_accuracy: 0.6393\n",
      "Epoch 130/1000\n",
      " 1/16 [>.............................] - ETA: 0s - loss: 0.6265 - accuracy: 0.7500\n",
      "Epoch 130: val_loss did not improve from 0.94632\n",
      "16/16 [==============================] - 0s 3ms/step - loss: 0.5757 - accuracy: 0.7454 - val_loss: 1.0860 - val_accuracy: 0.6475\n",
      "Epoch 131/1000\n",
      " 1/16 [>.............................] - ETA: 0s - loss: 0.7808 - accuracy: 0.6875\n",
      "Epoch 131: val_loss did not improve from 0.94632\n",
      "16/16 [==============================] - 0s 3ms/step - loss: 0.6648 - accuracy: 0.7105 - val_loss: 1.1135 - val_accuracy: 0.5984\n",
      "Epoch 132/1000\n",
      " 1/16 [>.............................] - ETA: 0s - loss: 0.9135 - accuracy: 0.5625\n",
      "Epoch 132: val_loss did not improve from 0.94632\n",
      "16/16 [==============================] - 0s 3ms/step - loss: 0.6357 - accuracy: 0.7331 - val_loss: 1.1088 - val_accuracy: 0.6230\n",
      "Epoch 133/1000\n",
      " 1/16 [>.............................] - ETA: 0s - loss: 0.5360 - accuracy: 0.7812\n",
      "Epoch 133: val_loss did not improve from 0.94632\n",
      "16/16 [==============================] - 0s 3ms/step - loss: 0.6859 - accuracy: 0.7064 - val_loss: 1.0473 - val_accuracy: 0.6557\n",
      "Epoch 134/1000\n",
      " 1/16 [>.............................] - ETA: 0s - loss: 0.7659 - accuracy: 0.6562\n",
      "Epoch 134: val_loss did not improve from 0.94632\n",
      "16/16 [==============================] - 0s 3ms/step - loss: 0.6479 - accuracy: 0.7125 - val_loss: 1.0828 - val_accuracy: 0.6393\n",
      "Epoch 135/1000\n",
      " 1/16 [>.............................] - ETA: 0s - loss: 0.6792 - accuracy: 0.6875\n",
      "Epoch 135: val_loss did not improve from 0.94632\n",
      "16/16 [==============================] - 0s 4ms/step - loss: 0.6268 - accuracy: 0.7125 - val_loss: 1.0456 - val_accuracy: 0.6393\n",
      "Epoch 136/1000\n",
      " 1/16 [>.............................] - ETA: 0s - loss: 0.5210 - accuracy: 0.7812\n",
      "Epoch 136: val_loss did not improve from 0.94632\n",
      "16/16 [==============================] - 0s 3ms/step - loss: 0.6215 - accuracy: 0.7433 - val_loss: 1.0944 - val_accuracy: 0.6639\n",
      "Epoch 137/1000\n",
      " 1/16 [>.............................] - ETA: 0s - loss: 0.5740 - accuracy: 0.8125\n",
      "Epoch 137: val_loss did not improve from 0.94632\n",
      "16/16 [==============================] - 0s 3ms/step - loss: 0.6066 - accuracy: 0.7269 - val_loss: 1.0896 - val_accuracy: 0.6393\n",
      "Epoch 138/1000\n",
      " 1/16 [>.............................] - ETA: 0s - loss: 0.6490 - accuracy: 0.8125\n",
      "Epoch 138: val_loss did not improve from 0.94632\n",
      "16/16 [==============================] - 0s 3ms/step - loss: 0.5833 - accuracy: 0.7228 - val_loss: 1.1247 - val_accuracy: 0.6066\n",
      "Epoch 139/1000\n",
      " 1/16 [>.............................] - ETA: 0s - loss: 0.6901 - accuracy: 0.7500\n",
      "Epoch 139: val_loss did not improve from 0.94632\n",
      "16/16 [==============================] - 0s 3ms/step - loss: 0.6538 - accuracy: 0.7064 - val_loss: 0.9915 - val_accuracy: 0.6475\n",
      "Epoch 140/1000\n",
      " 1/16 [>.............................] - ETA: 0s - loss: 0.7242 - accuracy: 0.6875\n",
      "Epoch 140: val_loss did not improve from 0.94632\n",
      "16/16 [==============================] - 0s 3ms/step - loss: 0.6334 - accuracy: 0.7166 - val_loss: 1.1501 - val_accuracy: 0.6475\n",
      "Epoch 141/1000\n",
      " 1/16 [>.............................] - ETA: 0s - loss: 0.9425 - accuracy: 0.6875\n",
      "Epoch 141: val_loss did not improve from 0.94632\n",
      "16/16 [==============================] - 0s 3ms/step - loss: 0.6452 - accuracy: 0.7310 - val_loss: 1.0216 - val_accuracy: 0.6557\n",
      "Epoch 142/1000\n",
      " 1/16 [>.............................] - ETA: 0s - loss: 0.6342 - accuracy: 0.7812\n",
      "Epoch 142: val_loss did not improve from 0.94632\n",
      "16/16 [==============================] - 0s 3ms/step - loss: 0.6341 - accuracy: 0.7269 - val_loss: 1.0880 - val_accuracy: 0.6311\n",
      "Epoch 143/1000\n",
      " 1/16 [>.............................] - ETA: 0s - loss: 0.7731 - accuracy: 0.7188\n",
      "Epoch 143: val_loss did not improve from 0.94632\n",
      "16/16 [==============================] - 0s 3ms/step - loss: 0.7002 - accuracy: 0.7146 - val_loss: 0.9527 - val_accuracy: 0.6803\n",
      "Epoch 144/1000\n",
      " 1/16 [>.............................] - ETA: 0s - loss: 0.3953 - accuracy: 0.9062\n",
      "Epoch 144: val_loss improved from 0.94632 to 0.93503, saving model to saved_models\\audio_classification.hdf5\n",
      "16/16 [==============================] - 0s 10ms/step - loss: 0.6857 - accuracy: 0.7084 - val_loss: 0.9350 - val_accuracy: 0.6475\n",
      "Epoch 145/1000\n",
      " 1/16 [>.............................] - ETA: 0s - loss: 0.5659 - accuracy: 0.7500\n",
      "Epoch 145: val_loss did not improve from 0.93503\n",
      "16/16 [==============================] - 0s 3ms/step - loss: 0.6538 - accuracy: 0.7187 - val_loss: 1.0234 - val_accuracy: 0.6311\n",
      "Epoch 146/1000\n",
      " 1/16 [>.............................] - ETA: 0s - loss: 0.6823 - accuracy: 0.5938\n",
      "Epoch 146: val_loss did not improve from 0.93503\n",
      "16/16 [==============================] - 0s 3ms/step - loss: 0.6347 - accuracy: 0.7248 - val_loss: 1.0787 - val_accuracy: 0.6230\n",
      "Epoch 147/1000\n",
      " 1/16 [>.............................] - ETA: 0s - loss: 0.4551 - accuracy: 0.8438\n",
      "Epoch 147: val_loss did not improve from 0.93503\n",
      "16/16 [==============================] - 0s 3ms/step - loss: 0.6182 - accuracy: 0.7413 - val_loss: 0.9959 - val_accuracy: 0.6721\n",
      "Epoch 148/1000\n",
      " 1/16 [>.............................] - ETA: 0s - loss: 0.7753 - accuracy: 0.6562\n",
      "Epoch 148: val_loss did not improve from 0.93503\n",
      "16/16 [==============================] - 0s 3ms/step - loss: 0.6118 - accuracy: 0.7372 - val_loss: 1.1037 - val_accuracy: 0.6148\n",
      "Epoch 149/1000\n",
      " 1/16 [>.............................] - ETA: 0s - loss: 0.4567 - accuracy: 0.8125\n",
      "Epoch 149: val_loss did not improve from 0.93503\n",
      "16/16 [==============================] - 0s 3ms/step - loss: 0.6056 - accuracy: 0.7331 - val_loss: 1.1075 - val_accuracy: 0.6311\n",
      "Epoch 150/1000\n",
      " 1/16 [>.............................] - ETA: 0s - loss: 0.7030 - accuracy: 0.6875\n",
      "Epoch 150: val_loss did not improve from 0.93503\n",
      "16/16 [==============================] - 0s 3ms/step - loss: 0.6650 - accuracy: 0.7105 - val_loss: 1.0952 - val_accuracy: 0.6311\n",
      "Epoch 151/1000\n",
      " 1/16 [>.............................] - ETA: 0s - loss: 0.6258 - accuracy: 0.6562\n",
      "Epoch 151: val_loss did not improve from 0.93503\n",
      "16/16 [==============================] - 0s 3ms/step - loss: 0.5991 - accuracy: 0.7269 - val_loss: 1.1539 - val_accuracy: 0.6148\n",
      "Epoch 152/1000\n",
      " 1/16 [>.............................] - ETA: 0s - loss: 0.5830 - accuracy: 0.7812\n",
      "Epoch 152: val_loss did not improve from 0.93503\n",
      "16/16 [==============================] - 0s 3ms/step - loss: 0.6288 - accuracy: 0.7207 - val_loss: 1.1470 - val_accuracy: 0.6393\n",
      "Epoch 153/1000\n",
      " 1/16 [>.............................] - ETA: 0s - loss: 0.5703 - accuracy: 0.8438\n",
      "Epoch 153: val_loss did not improve from 0.93503\n",
      "16/16 [==============================] - 0s 3ms/step - loss: 0.6222 - accuracy: 0.7392 - val_loss: 1.1727 - val_accuracy: 0.6148\n",
      "Epoch 154/1000\n",
      " 1/16 [>.............................] - ETA: 0s - loss: 0.3898 - accuracy: 0.8125\n",
      "Epoch 154: val_loss did not improve from 0.93503\n",
      "16/16 [==============================] - 0s 3ms/step - loss: 0.5966 - accuracy: 0.7310 - val_loss: 1.1041 - val_accuracy: 0.6311\n",
      "Epoch 155/1000\n",
      " 1/16 [>.............................] - ETA: 0s - loss: 0.7802 - accuracy: 0.6875\n",
      "Epoch 155: val_loss did not improve from 0.93503\n",
      "16/16 [==============================] - 0s 3ms/step - loss: 0.6699 - accuracy: 0.7187 - val_loss: 1.1622 - val_accuracy: 0.6066\n",
      "Epoch 156/1000\n",
      " 1/16 [>.............................] - ETA: 0s - loss: 0.5763 - accuracy: 0.7500\n",
      "Epoch 156: val_loss did not improve from 0.93503\n",
      "16/16 [==============================] - 0s 3ms/step - loss: 0.6353 - accuracy: 0.7433 - val_loss: 1.1154 - val_accuracy: 0.6311\n",
      "Epoch 157/1000\n",
      " 1/16 [>.............................] - ETA: 0s - loss: 0.6418 - accuracy: 0.6562\n",
      "Epoch 157: val_loss did not improve from 0.93503\n",
      "16/16 [==============================] - 0s 3ms/step - loss: 0.6210 - accuracy: 0.7392 - val_loss: 1.1176 - val_accuracy: 0.6230\n",
      "Epoch 158/1000\n",
      " 1/16 [>.............................] - ETA: 0s - loss: 0.7256 - accuracy: 0.6562\n",
      "Epoch 158: val_loss did not improve from 0.93503\n",
      "16/16 [==============================] - 0s 3ms/step - loss: 0.6552 - accuracy: 0.7084 - val_loss: 1.0878 - val_accuracy: 0.6311\n",
      "Epoch 159/1000\n",
      " 1/16 [>.............................] - ETA: 0s - loss: 0.7916 - accuracy: 0.7500\n",
      "Epoch 159: val_loss did not improve from 0.93503\n",
      "16/16 [==============================] - 0s 3ms/step - loss: 0.6324 - accuracy: 0.7351 - val_loss: 1.0258 - val_accuracy: 0.6393\n",
      "Epoch 160/1000\n",
      " 1/16 [>.............................] - ETA: 0s - loss: 0.8459 - accuracy: 0.6250\n",
      "Epoch 160: val_loss did not improve from 0.93503\n",
      "16/16 [==============================] - 0s 3ms/step - loss: 0.6517 - accuracy: 0.7084 - val_loss: 1.1277 - val_accuracy: 0.6721\n",
      "Epoch 161/1000\n",
      " 1/16 [>.............................] - ETA: 0s - loss: 0.7281 - accuracy: 0.6875\n",
      "Epoch 161: val_loss did not improve from 0.93503\n",
      "16/16 [==============================] - 0s 3ms/step - loss: 0.6041 - accuracy: 0.7290 - val_loss: 1.1324 - val_accuracy: 0.6311\n",
      "Epoch 162/1000\n",
      " 1/16 [>.............................] - ETA: 0s - loss: 0.5809 - accuracy: 0.7500\n",
      "Epoch 162: val_loss did not improve from 0.93503\n",
      "16/16 [==============================] - 0s 3ms/step - loss: 0.6175 - accuracy: 0.7372 - val_loss: 1.0776 - val_accuracy: 0.6311\n",
      "Epoch 163/1000\n",
      " 1/16 [>.............................] - ETA: 0s - loss: 0.6091 - accuracy: 0.7188\n",
      "Epoch 163: val_loss did not improve from 0.93503\n",
      "16/16 [==============================] - 0s 3ms/step - loss: 0.5966 - accuracy: 0.7433 - val_loss: 1.1564 - val_accuracy: 0.6230\n",
      "Epoch 164/1000\n",
      " 1/16 [>.............................] - ETA: 0s - loss: 0.6611 - accuracy: 0.7500\n",
      "Epoch 164: val_loss did not improve from 0.93503\n",
      "16/16 [==============================] - 0s 3ms/step - loss: 0.6133 - accuracy: 0.7680 - val_loss: 1.0562 - val_accuracy: 0.6148\n",
      "Epoch 165/1000\n",
      " 1/16 [>.............................] - ETA: 0s - loss: 0.5305 - accuracy: 0.8438\n",
      "Epoch 165: val_loss did not improve from 0.93503\n",
      "16/16 [==============================] - 0s 3ms/step - loss: 0.5950 - accuracy: 0.7618 - val_loss: 1.1324 - val_accuracy: 0.6557\n",
      "Epoch 166/1000\n",
      " 1/16 [>.............................] - ETA: 0s - loss: 0.6535 - accuracy: 0.7812\n",
      "Epoch 166: val_loss did not improve from 0.93503\n",
      "16/16 [==============================] - 0s 4ms/step - loss: 0.6196 - accuracy: 0.7351 - val_loss: 1.1490 - val_accuracy: 0.6230\n",
      "Epoch 167/1000\n",
      " 1/16 [>.............................] - ETA: 0s - loss: 0.7348 - accuracy: 0.5938\n",
      "Epoch 167: val_loss did not improve from 0.93503\n",
      "16/16 [==============================] - 0s 3ms/step - loss: 0.6484 - accuracy: 0.7413 - val_loss: 1.0123 - val_accuracy: 0.6230\n",
      "Epoch 168/1000\n",
      " 1/16 [>.............................] - ETA: 0s - loss: 0.5549 - accuracy: 0.8125\n",
      "Epoch 168: val_loss did not improve from 0.93503\n",
      "16/16 [==============================] - 0s 3ms/step - loss: 0.6251 - accuracy: 0.7433 - val_loss: 1.0617 - val_accuracy: 0.6557\n",
      "Epoch 169/1000\n",
      " 1/16 [>.............................] - ETA: 0s - loss: 0.7894 - accuracy: 0.6250\n",
      "Epoch 169: val_loss did not improve from 0.93503\n",
      "16/16 [==============================] - 0s 3ms/step - loss: 0.6213 - accuracy: 0.7433 - val_loss: 1.0194 - val_accuracy: 0.6721\n",
      "Epoch 170/1000\n",
      " 1/16 [>.............................] - ETA: 0s - loss: 0.7395 - accuracy: 0.7500\n",
      "Epoch 170: val_loss did not improve from 0.93503\n",
      "16/16 [==============================] - 0s 3ms/step - loss: 0.6005 - accuracy: 0.7351 - val_loss: 1.0143 - val_accuracy: 0.6885\n",
      "Epoch 171/1000\n",
      " 1/16 [>.............................] - ETA: 0s - loss: 0.5658 - accuracy: 0.6875\n",
      "Epoch 171: val_loss did not improve from 0.93503\n",
      "16/16 [==============================] - 0s 3ms/step - loss: 0.6476 - accuracy: 0.7187 - val_loss: 1.0683 - val_accuracy: 0.6475\n",
      "Epoch 172/1000\n",
      " 1/16 [>.............................] - ETA: 0s - loss: 0.4750 - accuracy: 0.7500\n",
      "Epoch 172: val_loss did not improve from 0.93503\n",
      "16/16 [==============================] - 0s 3ms/step - loss: 0.6422 - accuracy: 0.7413 - val_loss: 1.0977 - val_accuracy: 0.6475\n",
      "Epoch 173/1000\n",
      " 1/16 [>.............................] - ETA: 0s - loss: 0.4165 - accuracy: 0.8750\n",
      "Epoch 173: val_loss did not improve from 0.93503\n",
      "16/16 [==============================] - 0s 3ms/step - loss: 0.6411 - accuracy: 0.7351 - val_loss: 1.0700 - val_accuracy: 0.6393\n",
      "Epoch 174/1000\n",
      " 1/16 [>.............................] - ETA: 0s - loss: 0.5869 - accuracy: 0.7188\n",
      "Epoch 174: val_loss did not improve from 0.93503\n",
      "16/16 [==============================] - 0s 3ms/step - loss: 0.6048 - accuracy: 0.7433 - val_loss: 1.1283 - val_accuracy: 0.6148\n",
      "Epoch 175/1000\n",
      " 1/16 [>.............................] - ETA: 0s - loss: 0.8297 - accuracy: 0.8438\n",
      "Epoch 175: val_loss did not improve from 0.93503\n",
      "16/16 [==============================] - 0s 3ms/step - loss: 0.7883 - accuracy: 0.6858 - val_loss: 1.0245 - val_accuracy: 0.6557\n",
      "Epoch 176/1000\n",
      " 1/16 [>.............................] - ETA: 0s - loss: 0.5428 - accuracy: 0.8438\n",
      "Epoch 176: val_loss did not improve from 0.93503\n",
      "16/16 [==============================] - 0s 3ms/step - loss: 0.6349 - accuracy: 0.7536 - val_loss: 0.9726 - val_accuracy: 0.6803\n",
      "Epoch 177/1000\n",
      " 1/16 [>.............................] - ETA: 0s - loss: 0.6551 - accuracy: 0.7812\n",
      "Epoch 177: val_loss did not improve from 0.93503\n",
      "16/16 [==============================] - 0s 3ms/step - loss: 0.6390 - accuracy: 0.7248 - val_loss: 1.0248 - val_accuracy: 0.6393\n",
      "Epoch 178/1000\n",
      " 1/16 [>.............................] - ETA: 0s - loss: 0.4313 - accuracy: 0.8438\n",
      "Epoch 178: val_loss did not improve from 0.93503\n",
      "16/16 [==============================] - 0s 3ms/step - loss: 0.6068 - accuracy: 0.7351 - val_loss: 1.1172 - val_accuracy: 0.6393\n",
      "Epoch 179/1000\n",
      " 1/16 [>.............................] - ETA: 0s - loss: 0.7034 - accuracy: 0.6250\n",
      "Epoch 179: val_loss did not improve from 0.93503\n",
      "16/16 [==============================] - 0s 3ms/step - loss: 0.6466 - accuracy: 0.7269 - val_loss: 1.1034 - val_accuracy: 0.5984\n",
      "Epoch 180/1000\n",
      " 1/16 [>.............................] - ETA: 0s - loss: 0.6843 - accuracy: 0.6875\n",
      "Epoch 180: val_loss did not improve from 0.93503\n",
      "16/16 [==============================] - 0s 4ms/step - loss: 0.7028 - accuracy: 0.7207 - val_loss: 1.0001 - val_accuracy: 0.6230\n",
      "Epoch 181/1000\n",
      " 1/16 [>.............................] - ETA: 0s - loss: 0.9632 - accuracy: 0.6250\n",
      "Epoch 181: val_loss did not improve from 0.93503\n",
      "16/16 [==============================] - 0s 3ms/step - loss: 0.7007 - accuracy: 0.7269 - val_loss: 0.9939 - val_accuracy: 0.6475\n",
      "Epoch 182/1000\n",
      " 1/16 [>.............................] - ETA: 0s - loss: 0.6966 - accuracy: 0.6562\n",
      "Epoch 182: val_loss did not improve from 0.93503\n",
      "16/16 [==============================] - 0s 3ms/step - loss: 0.6349 - accuracy: 0.7310 - val_loss: 1.0351 - val_accuracy: 0.6393\n",
      "Epoch 183/1000\n",
      " 1/16 [>.............................] - ETA: 0s - loss: 0.6544 - accuracy: 0.6875\n",
      "Epoch 183: val_loss did not improve from 0.93503\n",
      "16/16 [==============================] - 0s 3ms/step - loss: 0.6408 - accuracy: 0.7310 - val_loss: 1.0371 - val_accuracy: 0.6557\n",
      "Epoch 184/1000\n",
      " 1/16 [>.............................] - ETA: 0s - loss: 0.8371 - accuracy: 0.7500\n",
      "Epoch 184: val_loss did not improve from 0.93503\n",
      "16/16 [==============================] - 0s 3ms/step - loss: 0.6279 - accuracy: 0.7269 - val_loss: 1.0974 - val_accuracy: 0.6066\n",
      "Epoch 185/1000\n",
      " 1/16 [>.............................] - ETA: 0s - loss: 0.6346 - accuracy: 0.7812\n",
      "Epoch 185: val_loss did not improve from 0.93503\n",
      "16/16 [==============================] - 0s 3ms/step - loss: 0.6334 - accuracy: 0.7125 - val_loss: 1.0756 - val_accuracy: 0.6148\n",
      "Epoch 186/1000\n",
      " 1/16 [>.............................] - ETA: 0s - loss: 0.7574 - accuracy: 0.6875\n",
      "Epoch 186: val_loss did not improve from 0.93503\n",
      "16/16 [==============================] - 0s 3ms/step - loss: 0.5817 - accuracy: 0.7618 - val_loss: 1.0729 - val_accuracy: 0.6721\n",
      "Epoch 187/1000\n",
      " 1/16 [>.............................] - ETA: 0s - loss: 0.5861 - accuracy: 0.8125\n",
      "Epoch 187: val_loss did not improve from 0.93503\n",
      "16/16 [==============================] - 0s 3ms/step - loss: 0.6103 - accuracy: 0.7392 - val_loss: 1.1267 - val_accuracy: 0.6393\n",
      "Epoch 188/1000\n",
      " 1/16 [>.............................] - ETA: 0s - loss: 0.6883 - accuracy: 0.7188\n",
      "Epoch 188: val_loss did not improve from 0.93503\n",
      "16/16 [==============================] - 0s 3ms/step - loss: 0.6153 - accuracy: 0.7454 - val_loss: 1.0568 - val_accuracy: 0.6311\n",
      "Epoch 189/1000\n",
      " 1/16 [>.............................] - ETA: 0s - loss: 0.4837 - accuracy: 0.8125\n",
      "Epoch 189: val_loss did not improve from 0.93503\n",
      "16/16 [==============================] - 0s 3ms/step - loss: 0.6580 - accuracy: 0.7084 - val_loss: 1.0379 - val_accuracy: 0.6393\n",
      "Epoch 190/1000\n",
      " 1/16 [>.............................] - ETA: 0s - loss: 0.5229 - accuracy: 0.8125\n",
      "Epoch 190: val_loss did not improve from 0.93503\n",
      "16/16 [==============================] - 0s 3ms/step - loss: 0.6273 - accuracy: 0.7372 - val_loss: 1.1443 - val_accuracy: 0.6557\n",
      "Epoch 191/1000\n",
      " 1/16 [>.............................] - ETA: 0s - loss: 0.7686 - accuracy: 0.6875\n",
      "Epoch 191: val_loss did not improve from 0.93503\n",
      "16/16 [==============================] - 0s 3ms/step - loss: 0.6579 - accuracy: 0.7166 - val_loss: 1.2131 - val_accuracy: 0.6230\n",
      "Epoch 192/1000\n",
      " 1/16 [>.............................] - ETA: 0s - loss: 0.7327 - accuracy: 0.7500\n",
      "Epoch 192: val_loss did not improve from 0.93503\n",
      "16/16 [==============================] - 0s 3ms/step - loss: 0.6345 - accuracy: 0.7454 - val_loss: 1.0771 - val_accuracy: 0.6475\n",
      "Epoch 193/1000\n",
      " 1/16 [>.............................] - ETA: 0s - loss: 0.6260 - accuracy: 0.7188\n",
      "Epoch 193: val_loss did not improve from 0.93503\n",
      "16/16 [==============================] - 0s 3ms/step - loss: 0.5745 - accuracy: 0.7536 - val_loss: 1.1884 - val_accuracy: 0.6066\n",
      "Epoch 194/1000\n",
      " 1/16 [>.............................] - ETA: 0s - loss: 0.8417 - accuracy: 0.6562\n",
      "Epoch 194: val_loss did not improve from 0.93503\n",
      "16/16 [==============================] - 0s 4ms/step - loss: 0.6209 - accuracy: 0.7454 - val_loss: 1.1713 - val_accuracy: 0.6393\n",
      "Epoch 195/1000\n",
      " 1/16 [>.............................] - ETA: 0s - loss: 0.5574 - accuracy: 0.7188\n",
      "Epoch 195: val_loss did not improve from 0.93503\n",
      "16/16 [==============================] - 0s 3ms/step - loss: 0.6053 - accuracy: 0.7454 - val_loss: 1.1101 - val_accuracy: 0.6393\n",
      "Epoch 196/1000\n",
      " 1/16 [>.............................] - ETA: 0s - loss: 0.4454 - accuracy: 0.6562\n",
      "Epoch 196: val_loss did not improve from 0.93503\n",
      "16/16 [==============================] - 0s 3ms/step - loss: 0.6233 - accuracy: 0.7228 - val_loss: 1.1304 - val_accuracy: 0.6393\n",
      "Epoch 197/1000\n",
      " 1/16 [>.............................] - ETA: 0s - loss: 0.6832 - accuracy: 0.6562\n",
      "Epoch 197: val_loss did not improve from 0.93503\n",
      "16/16 [==============================] - 0s 3ms/step - loss: 0.6210 - accuracy: 0.7454 - val_loss: 1.1260 - val_accuracy: 0.6230\n",
      "Epoch 198/1000\n",
      " 1/16 [>.............................] - ETA: 0s - loss: 0.6814 - accuracy: 0.7188\n",
      "Epoch 198: val_loss did not improve from 0.93503\n",
      "16/16 [==============================] - 0s 3ms/step - loss: 0.6189 - accuracy: 0.7351 - val_loss: 1.1448 - val_accuracy: 0.6475\n",
      "Epoch 199/1000\n",
      " 1/16 [>.............................] - ETA: 0s - loss: 0.5718 - accuracy: 0.7500\n",
      "Epoch 199: val_loss did not improve from 0.93503\n",
      "16/16 [==============================] - 0s 3ms/step - loss: 0.5994 - accuracy: 0.7207 - val_loss: 1.0767 - val_accuracy: 0.6393\n",
      "Epoch 200/1000\n",
      " 1/16 [>.............................] - ETA: 0s - loss: 0.6011 - accuracy: 0.7500\n",
      "Epoch 200: val_loss did not improve from 0.93503\n",
      "16/16 [==============================] - 0s 3ms/step - loss: 0.6338 - accuracy: 0.7228 - val_loss: 1.1000 - val_accuracy: 0.6639\n",
      "Epoch 201/1000\n",
      " 1/16 [>.............................] - ETA: 0s - loss: 0.4831 - accuracy: 0.8750\n",
      "Epoch 201: val_loss did not improve from 0.93503\n",
      "16/16 [==============================] - 0s 3ms/step - loss: 0.5463 - accuracy: 0.7659 - val_loss: 1.1871 - val_accuracy: 0.6311\n",
      "Epoch 202/1000\n",
      " 1/16 [>.............................] - ETA: 0s - loss: 0.4368 - accuracy: 0.8125\n",
      "Epoch 202: val_loss did not improve from 0.93503\n",
      "16/16 [==============================] - 0s 3ms/step - loss: 0.6034 - accuracy: 0.7433 - val_loss: 1.2211 - val_accuracy: 0.6230\n",
      "Epoch 203/1000\n",
      " 1/16 [>.............................] - ETA: 0s - loss: 0.4727 - accuracy: 0.8125\n",
      "Epoch 203: val_loss did not improve from 0.93503\n",
      "16/16 [==============================] - 0s 3ms/step - loss: 0.5890 - accuracy: 0.7515 - val_loss: 1.0628 - val_accuracy: 0.6311\n",
      "Epoch 204/1000\n",
      " 1/16 [>.............................] - ETA: 0s - loss: 0.5265 - accuracy: 0.8125\n",
      "Epoch 204: val_loss did not improve from 0.93503\n",
      "16/16 [==============================] - 0s 3ms/step - loss: 0.6824 - accuracy: 0.7310 - val_loss: 1.0753 - val_accuracy: 0.6393\n",
      "Epoch 205/1000\n",
      " 1/16 [>.............................] - ETA: 0s - loss: 0.6284 - accuracy: 0.7188\n",
      "Epoch 205: val_loss did not improve from 0.93503\n",
      "16/16 [==============================] - 0s 3ms/step - loss: 0.6183 - accuracy: 0.7598 - val_loss: 1.1461 - val_accuracy: 0.6557\n",
      "Epoch 206/1000\n",
      " 1/16 [>.............................] - ETA: 0s - loss: 0.5739 - accuracy: 0.7188\n",
      "Epoch 206: val_loss did not improve from 0.93503\n",
      "16/16 [==============================] - 0s 3ms/step - loss: 0.6034 - accuracy: 0.7474 - val_loss: 1.0985 - val_accuracy: 0.6475\n",
      "Epoch 207/1000\n",
      " 1/16 [>.............................] - ETA: 0s - loss: 0.4295 - accuracy: 0.8750\n",
      "Epoch 207: val_loss did not improve from 0.93503\n",
      "16/16 [==============================] - 0s 3ms/step - loss: 0.5709 - accuracy: 0.7413 - val_loss: 1.1807 - val_accuracy: 0.6475\n",
      "Epoch 208/1000\n",
      " 1/16 [>.............................] - ETA: 0s - loss: 0.7903 - accuracy: 0.6562\n",
      "Epoch 208: val_loss did not improve from 0.93503\n",
      "16/16 [==============================] - 0s 3ms/step - loss: 0.5740 - accuracy: 0.7474 - val_loss: 1.2475 - val_accuracy: 0.6311\n",
      "Epoch 209/1000\n",
      " 1/16 [>.............................] - ETA: 0s - loss: 0.6055 - accuracy: 0.7188\n",
      "Epoch 209: val_loss did not improve from 0.93503\n",
      "16/16 [==============================] - 0s 3ms/step - loss: 0.6146 - accuracy: 0.7372 - val_loss: 1.2651 - val_accuracy: 0.6311\n",
      "Epoch 210/1000\n",
      " 1/16 [>.............................] - ETA: 0s - loss: 0.5838 - accuracy: 0.7812\n",
      "Epoch 210: val_loss did not improve from 0.93503\n",
      "16/16 [==============================] - 0s 3ms/step - loss: 0.6105 - accuracy: 0.7556 - val_loss: 1.2198 - val_accuracy: 0.6475\n",
      "Epoch 211/1000\n",
      " 1/16 [>.............................] - ETA: 0s - loss: 0.6887 - accuracy: 0.6875\n",
      "Epoch 211: val_loss did not improve from 0.93503\n",
      "16/16 [==============================] - 0s 3ms/step - loss: 0.5600 - accuracy: 0.7454 - val_loss: 1.1506 - val_accuracy: 0.6721\n",
      "Epoch 212/1000\n",
      " 1/16 [>.............................] - ETA: 0s - loss: 0.6803 - accuracy: 0.7188\n",
      "Epoch 212: val_loss did not improve from 0.93503\n",
      "16/16 [==============================] - 0s 3ms/step - loss: 0.6314 - accuracy: 0.7310 - val_loss: 1.1400 - val_accuracy: 0.6066\n",
      "Epoch 213/1000\n",
      " 1/16 [>.............................] - ETA: 0s - loss: 0.5508 - accuracy: 0.8125\n",
      "Epoch 213: val_loss did not improve from 0.93503\n",
      "16/16 [==============================] - 0s 3ms/step - loss: 0.5690 - accuracy: 0.7618 - val_loss: 1.1721 - val_accuracy: 0.6311\n",
      "Epoch 214/1000\n",
      " 1/16 [>.............................] - ETA: 0s - loss: 0.7103 - accuracy: 0.6875\n",
      "Epoch 214: val_loss did not improve from 0.93503\n",
      "16/16 [==============================] - 0s 3ms/step - loss: 0.6101 - accuracy: 0.7598 - val_loss: 1.1911 - val_accuracy: 0.6148\n",
      "Epoch 215/1000\n",
      " 1/16 [>.............................] - ETA: 0s - loss: 0.7766 - accuracy: 0.6562\n",
      "Epoch 215: val_loss did not improve from 0.93503\n",
      "16/16 [==============================] - 0s 3ms/step - loss: 0.5985 - accuracy: 0.7454 - val_loss: 1.1376 - val_accuracy: 0.6393\n",
      "Epoch 216/1000\n",
      " 1/16 [>.............................] - ETA: 0s - loss: 0.5282 - accuracy: 0.7188\n",
      "Epoch 216: val_loss did not improve from 0.93503\n",
      "16/16 [==============================] - 0s 4ms/step - loss: 0.6066 - accuracy: 0.7248 - val_loss: 1.1513 - val_accuracy: 0.6230\n",
      "Epoch 217/1000\n",
      " 1/16 [>.............................] - ETA: 0s - loss: 0.4371 - accuracy: 0.8750\n",
      "Epoch 217: val_loss did not improve from 0.93503\n",
      "16/16 [==============================] - 0s 3ms/step - loss: 0.6034 - accuracy: 0.7372 - val_loss: 1.1629 - val_accuracy: 0.6803\n",
      "Epoch 218/1000\n",
      " 1/16 [>.............................] - ETA: 0s - loss: 0.7621 - accuracy: 0.6250\n",
      "Epoch 218: val_loss did not improve from 0.93503\n",
      "16/16 [==============================] - 0s 3ms/step - loss: 0.5929 - accuracy: 0.7351 - val_loss: 1.1516 - val_accuracy: 0.6148\n",
      "Epoch 219/1000\n",
      " 1/16 [>.............................] - ETA: 0s - loss: 0.5838 - accuracy: 0.6562\n",
      "Epoch 219: val_loss did not improve from 0.93503\n",
      "16/16 [==============================] - 0s 3ms/step - loss: 0.5871 - accuracy: 0.7146 - val_loss: 1.1589 - val_accuracy: 0.6475\n",
      "Epoch 220/1000\n",
      " 1/16 [>.............................] - ETA: 0s - loss: 0.6988 - accuracy: 0.7500\n",
      "Epoch 220: val_loss did not improve from 0.93503\n",
      "16/16 [==============================] - 0s 3ms/step - loss: 0.5638 - accuracy: 0.7598 - val_loss: 1.1709 - val_accuracy: 0.6639\n",
      "Epoch 221/1000\n",
      " 1/16 [>.............................] - ETA: 0s - loss: 0.7304 - accuracy: 0.7500\n",
      "Epoch 221: val_loss did not improve from 0.93503\n",
      "16/16 [==============================] - 0s 3ms/step - loss: 0.6836 - accuracy: 0.7228 - val_loss: 1.0834 - val_accuracy: 0.6557\n",
      "Epoch 222/1000\n",
      " 1/16 [>.............................] - ETA: 0s - loss: 0.5402 - accuracy: 0.7812\n",
      "Epoch 222: val_loss did not improve from 0.93503\n",
      "16/16 [==============================] - 0s 3ms/step - loss: 0.5980 - accuracy: 0.7269 - val_loss: 1.1097 - val_accuracy: 0.6475\n",
      "Epoch 223/1000\n",
      " 1/16 [>.............................] - ETA: 0s - loss: 0.4526 - accuracy: 0.8125\n",
      "Epoch 223: val_loss did not improve from 0.93503\n",
      "16/16 [==============================] - 0s 3ms/step - loss: 0.5604 - accuracy: 0.7495 - val_loss: 1.1413 - val_accuracy: 0.6639\n",
      "Epoch 224/1000\n",
      " 1/16 [>.............................] - ETA: 0s - loss: 0.6830 - accuracy: 0.6875\n",
      "Epoch 224: val_loss did not improve from 0.93503\n",
      "16/16 [==============================] - 0s 3ms/step - loss: 0.5485 - accuracy: 0.7556 - val_loss: 1.1928 - val_accuracy: 0.6639\n",
      "Epoch 225/1000\n",
      " 1/16 [>.............................] - ETA: 0s - loss: 0.4900 - accuracy: 0.8438\n",
      "Epoch 225: val_loss did not improve from 0.93503\n",
      "16/16 [==============================] - 0s 4ms/step - loss: 0.5644 - accuracy: 0.7782 - val_loss: 1.1710 - val_accuracy: 0.6557\n",
      "Epoch 226/1000\n",
      " 1/16 [>.............................] - ETA: 0s - loss: 0.7284 - accuracy: 0.6562\n",
      "Epoch 226: val_loss did not improve from 0.93503\n",
      "16/16 [==============================] - 0s 4ms/step - loss: 0.6336 - accuracy: 0.7290 - val_loss: 1.1441 - val_accuracy: 0.6639\n",
      "Epoch 227/1000\n",
      " 1/16 [>.............................] - ETA: 0s - loss: 0.4043 - accuracy: 0.7500\n",
      "Epoch 227: val_loss did not improve from 0.93503\n",
      "16/16 [==============================] - 0s 4ms/step - loss: 0.6209 - accuracy: 0.7495 - val_loss: 1.0107 - val_accuracy: 0.6475\n",
      "Epoch 228/1000\n",
      " 1/16 [>.............................] - ETA: 0s - loss: 0.6709 - accuracy: 0.6250\n",
      "Epoch 228: val_loss did not improve from 0.93503\n",
      "16/16 [==============================] - 0s 4ms/step - loss: 0.7241 - accuracy: 0.7125 - val_loss: 1.1105 - val_accuracy: 0.6393\n",
      "Epoch 229/1000\n",
      " 1/16 [>.............................] - ETA: 0s - loss: 0.5733 - accuracy: 0.7812\n",
      "Epoch 229: val_loss did not improve from 0.93503\n",
      "16/16 [==============================] - 0s 4ms/step - loss: 0.6838 - accuracy: 0.7023 - val_loss: 1.0106 - val_accuracy: 0.6475\n",
      "Epoch 230/1000\n",
      " 1/16 [>.............................] - ETA: 0s - loss: 0.6048 - accuracy: 0.7188\n",
      "Epoch 230: val_loss did not improve from 0.93503\n",
      "16/16 [==============================] - 0s 4ms/step - loss: 0.6512 - accuracy: 0.7228 - val_loss: 1.0728 - val_accuracy: 0.6475\n",
      "Epoch 231/1000\n",
      " 1/16 [>.............................] - ETA: 0s - loss: 0.6302 - accuracy: 0.7188\n",
      "Epoch 231: val_loss did not improve from 0.93503\n",
      "16/16 [==============================] - 0s 4ms/step - loss: 0.6244 - accuracy: 0.7248 - val_loss: 1.1075 - val_accuracy: 0.6639\n",
      "Epoch 232/1000\n",
      " 1/16 [>.............................] - ETA: 0s - loss: 0.6441 - accuracy: 0.6875\n",
      "Epoch 232: val_loss did not improve from 0.93503\n",
      "16/16 [==============================] - 0s 3ms/step - loss: 0.5927 - accuracy: 0.7228 - val_loss: 1.1120 - val_accuracy: 0.6311\n",
      "Epoch 233/1000\n",
      " 1/16 [>.............................] - ETA: 0s - loss: 0.6927 - accuracy: 0.5938\n",
      "Epoch 233: val_loss did not improve from 0.93503\n",
      "16/16 [==============================] - 0s 3ms/step - loss: 0.6461 - accuracy: 0.7248 - val_loss: 1.1242 - val_accuracy: 0.6639\n",
      "Epoch 234/1000\n",
      " 1/16 [>.............................] - ETA: 0s - loss: 0.6987 - accuracy: 0.6875\n",
      "Epoch 234: val_loss did not improve from 0.93503\n",
      "16/16 [==============================] - 0s 4ms/step - loss: 0.6350 - accuracy: 0.6920 - val_loss: 1.1041 - val_accuracy: 0.6475\n",
      "Epoch 235/1000\n",
      " 1/16 [>.............................] - ETA: 0s - loss: 0.6415 - accuracy: 0.6250\n",
      "Epoch 235: val_loss did not improve from 0.93503\n",
      "16/16 [==============================] - 0s 4ms/step - loss: 0.6784 - accuracy: 0.7187 - val_loss: 1.0536 - val_accuracy: 0.6557\n",
      "Epoch 236/1000\n",
      " 1/16 [>.............................] - ETA: 0s - loss: 0.6678 - accuracy: 0.6875\n",
      "Epoch 236: val_loss did not improve from 0.93503\n",
      "16/16 [==============================] - 0s 4ms/step - loss: 0.6673 - accuracy: 0.7166 - val_loss: 1.0417 - val_accuracy: 0.6721\n",
      "Epoch 237/1000\n",
      " 1/16 [>.............................] - ETA: 0s - loss: 0.8476 - accuracy: 0.6562\n",
      "Epoch 237: val_loss did not improve from 0.93503\n",
      "16/16 [==============================] - 0s 4ms/step - loss: 0.6240 - accuracy: 0.7392 - val_loss: 1.1093 - val_accuracy: 0.6475\n",
      "Epoch 238/1000\n",
      " 1/16 [>.............................] - ETA: 0s - loss: 0.6450 - accuracy: 0.7812\n",
      "Epoch 238: val_loss did not improve from 0.93503\n",
      "16/16 [==============================] - 0s 4ms/step - loss: 0.6038 - accuracy: 0.7515 - val_loss: 1.1748 - val_accuracy: 0.6557\n",
      "Epoch 239/1000\n",
      " 1/16 [>.............................] - ETA: 0s - loss: 0.5233 - accuracy: 0.7188\n",
      "Epoch 239: val_loss did not improve from 0.93503\n",
      "16/16 [==============================] - 0s 3ms/step - loss: 0.6050 - accuracy: 0.7372 - val_loss: 1.1964 - val_accuracy: 0.6475\n",
      "Epoch 240/1000\n",
      " 1/16 [>.............................] - ETA: 0s - loss: 0.5514 - accuracy: 0.7188\n",
      "Epoch 240: val_loss did not improve from 0.93503\n",
      "16/16 [==============================] - 0s 4ms/step - loss: 0.5753 - accuracy: 0.7515 - val_loss: 1.1943 - val_accuracy: 0.6311\n",
      "Epoch 241/1000\n",
      " 1/16 [>.............................] - ETA: 0s - loss: 0.5297 - accuracy: 0.7812\n",
      "Epoch 241: val_loss did not improve from 0.93503\n",
      "16/16 [==============================] - 0s 4ms/step - loss: 0.5444 - accuracy: 0.7433 - val_loss: 1.1975 - val_accuracy: 0.6557\n",
      "Epoch 242/1000\n",
      " 1/16 [>.............................] - ETA: 0s - loss: 0.7975 - accuracy: 0.6875\n",
      "Epoch 242: val_loss did not improve from 0.93503\n",
      "16/16 [==============================] - 0s 3ms/step - loss: 0.5597 - accuracy: 0.7639 - val_loss: 1.1764 - val_accuracy: 0.6393\n",
      "Epoch 243/1000\n",
      " 1/16 [>.............................] - ETA: 0s - loss: 0.5200 - accuracy: 0.8438\n",
      "Epoch 243: val_loss did not improve from 0.93503\n",
      "16/16 [==============================] - 0s 4ms/step - loss: 0.6030 - accuracy: 0.7536 - val_loss: 1.0853 - val_accuracy: 0.6393\n",
      "Epoch 244/1000\n",
      " 1/16 [>.............................] - ETA: 0s - loss: 0.4815 - accuracy: 0.8750\n",
      "Epoch 244: val_loss did not improve from 0.93503\n",
      "16/16 [==============================] - 0s 4ms/step - loss: 0.6069 - accuracy: 0.7331 - val_loss: 1.1457 - val_accuracy: 0.6557\n",
      "Epoch 245/1000\n",
      " 1/16 [>.............................] - ETA: 0s - loss: 0.6904 - accuracy: 0.7188\n",
      "Epoch 245: val_loss did not improve from 0.93503\n",
      "16/16 [==============================] - 0s 4ms/step - loss: 0.5595 - accuracy: 0.7536 - val_loss: 1.1800 - val_accuracy: 0.6393\n",
      "Epoch 246/1000\n",
      " 1/16 [>.............................] - ETA: 0s - loss: 0.5601 - accuracy: 0.7500\n",
      "Epoch 246: val_loss did not improve from 0.93503\n",
      "16/16 [==============================] - 0s 4ms/step - loss: 0.5950 - accuracy: 0.7372 - val_loss: 1.1698 - val_accuracy: 0.6639\n",
      "Epoch 247/1000\n",
      " 1/16 [>.............................] - ETA: 0s - loss: 0.6711 - accuracy: 0.7812\n",
      "Epoch 247: val_loss did not improve from 0.93503\n",
      "16/16 [==============================] - 0s 4ms/step - loss: 0.5907 - accuracy: 0.7577 - val_loss: 1.1601 - val_accuracy: 0.6475\n",
      "Epoch 248/1000\n",
      " 1/16 [>.............................] - ETA: 0s - loss: 0.7581 - accuracy: 0.7500\n",
      "Epoch 248: val_loss did not improve from 0.93503\n",
      "16/16 [==============================] - 0s 4ms/step - loss: 0.6062 - accuracy: 0.7515 - val_loss: 1.1472 - val_accuracy: 0.6148\n",
      "Epoch 249/1000\n",
      " 1/16 [>.............................] - ETA: 0s - loss: 0.5726 - accuracy: 0.6875\n",
      "Epoch 249: val_loss did not improve from 0.93503\n",
      "16/16 [==============================] - 0s 4ms/step - loss: 0.5920 - accuracy: 0.7084 - val_loss: 1.1463 - val_accuracy: 0.6475\n",
      "Epoch 250/1000\n",
      " 1/16 [>.............................] - ETA: 0s - loss: 0.5943 - accuracy: 0.7812\n",
      "Epoch 250: val_loss did not improve from 0.93503\n",
      "16/16 [==============================] - 0s 4ms/step - loss: 0.5416 - accuracy: 0.7700 - val_loss: 1.1843 - val_accuracy: 0.6721\n",
      "Epoch 251/1000\n",
      " 1/16 [>.............................] - ETA: 0s - loss: 0.5641 - accuracy: 0.6875\n",
      "Epoch 251: val_loss did not improve from 0.93503\n",
      "16/16 [==============================] - 0s 3ms/step - loss: 0.5850 - accuracy: 0.7392 - val_loss: 1.1589 - val_accuracy: 0.6557\n",
      "Epoch 252/1000\n",
      " 1/16 [>.............................] - ETA: 0s - loss: 0.4876 - accuracy: 0.7500\n",
      "Epoch 252: val_loss did not improve from 0.93503\n",
      "16/16 [==============================] - 0s 4ms/step - loss: 0.5917 - accuracy: 0.7433 - val_loss: 1.1777 - val_accuracy: 0.6475\n",
      "Epoch 253/1000\n",
      " 1/16 [>.............................] - ETA: 0s - loss: 0.5491 - accuracy: 0.7500\n",
      "Epoch 253: val_loss did not improve from 0.93503\n",
      "16/16 [==============================] - 0s 3ms/step - loss: 0.5365 - accuracy: 0.7680 - val_loss: 1.2608 - val_accuracy: 0.6721\n",
      "Epoch 254/1000\n",
      " 1/16 [>.............................] - ETA: 0s - loss: 0.5762 - accuracy: 0.6875\n",
      "Epoch 254: val_loss did not improve from 0.93503\n",
      "16/16 [==============================] - 0s 4ms/step - loss: 0.5731 - accuracy: 0.7454 - val_loss: 1.2109 - val_accuracy: 0.6475\n",
      "Epoch 255/1000\n",
      " 1/16 [>.............................] - ETA: 0s - loss: 0.5024 - accuracy: 0.7812\n",
      "Epoch 255: val_loss did not improve from 0.93503\n",
      "16/16 [==============================] - 0s 4ms/step - loss: 0.5186 - accuracy: 0.7680 - val_loss: 1.2202 - val_accuracy: 0.6557\n",
      "Epoch 256/1000\n",
      " 1/16 [>.............................] - ETA: 0s - loss: 0.5077 - accuracy: 0.7500\n",
      "Epoch 256: val_loss did not improve from 0.93503\n",
      "16/16 [==============================] - 0s 4ms/step - loss: 0.5963 - accuracy: 0.7536 - val_loss: 1.1740 - val_accuracy: 0.6475\n",
      "Epoch 257/1000\n",
      " 1/16 [>.............................] - ETA: 0s - loss: 0.7710 - accuracy: 0.7188\n",
      "Epoch 257: val_loss did not improve from 0.93503\n",
      "16/16 [==============================] - 0s 4ms/step - loss: 0.6029 - accuracy: 0.7351 - val_loss: 1.1589 - val_accuracy: 0.6721\n",
      "Epoch 258/1000\n",
      " 1/16 [>.............................] - ETA: 0s - loss: 0.6975 - accuracy: 0.6562\n",
      "Epoch 258: val_loss did not improve from 0.93503\n",
      "16/16 [==============================] - 0s 4ms/step - loss: 0.5798 - accuracy: 0.7618 - val_loss: 1.1776 - val_accuracy: 0.6311\n",
      "Epoch 259/1000\n",
      " 1/16 [>.............................] - ETA: 0s - loss: 0.4311 - accuracy: 0.7812\n",
      "Epoch 259: val_loss did not improve from 0.93503\n",
      "16/16 [==============================] - 0s 4ms/step - loss: 0.6063 - accuracy: 0.7639 - val_loss: 1.0631 - val_accuracy: 0.6557\n",
      "Epoch 260/1000\n",
      " 1/16 [>.............................] - ETA: 0s - loss: 0.5156 - accuracy: 0.7500\n",
      "Epoch 260: val_loss did not improve from 0.93503\n",
      "16/16 [==============================] - 0s 4ms/step - loss: 0.5523 - accuracy: 0.7680 - val_loss: 1.1106 - val_accuracy: 0.6639\n",
      "Epoch 261/1000\n",
      " 1/16 [>.............................] - ETA: 0s - loss: 0.4029 - accuracy: 0.8438\n",
      "Epoch 261: val_loss did not improve from 0.93503\n",
      "16/16 [==============================] - 0s 4ms/step - loss: 0.5978 - accuracy: 0.7433 - val_loss: 1.1052 - val_accuracy: 0.6393\n",
      "Epoch 262/1000\n",
      " 1/16 [>.............................] - ETA: 0s - loss: 0.4651 - accuracy: 0.7500\n",
      "Epoch 262: val_loss did not improve from 0.93503\n",
      "16/16 [==============================] - 0s 4ms/step - loss: 0.6093 - accuracy: 0.7392 - val_loss: 1.1923 - val_accuracy: 0.6230\n",
      "Epoch 263/1000\n",
      " 1/16 [>.............................] - ETA: 0s - loss: 0.4249 - accuracy: 0.8438\n",
      "Epoch 263: val_loss did not improve from 0.93503\n",
      "16/16 [==============================] - 0s 3ms/step - loss: 0.5681 - accuracy: 0.7536 - val_loss: 1.1901 - val_accuracy: 0.6557\n",
      "Epoch 264/1000\n",
      " 1/16 [>.............................] - ETA: 0s - loss: 0.6397 - accuracy: 0.7812\n",
      "Epoch 264: val_loss did not improve from 0.93503\n",
      "16/16 [==============================] - 0s 3ms/step - loss: 0.6066 - accuracy: 0.7392 - val_loss: 1.2943 - val_accuracy: 0.6475\n",
      "Epoch 265/1000\n",
      " 1/16 [>.............................] - ETA: 0s - loss: 0.5559 - accuracy: 0.7812\n",
      "Epoch 265: val_loss did not improve from 0.93503\n",
      "16/16 [==============================] - 0s 3ms/step - loss: 0.6349 - accuracy: 0.7392 - val_loss: 1.1706 - val_accuracy: 0.6475\n",
      "Epoch 266/1000\n",
      " 1/16 [>.............................] - ETA: 0s - loss: 0.4730 - accuracy: 0.7812\n",
      "Epoch 266: val_loss did not improve from 0.93503\n",
      "16/16 [==============================] - 0s 4ms/step - loss: 0.6062 - accuracy: 0.7413 - val_loss: 1.1576 - val_accuracy: 0.6475\n",
      "Epoch 267/1000\n",
      " 1/16 [>.............................] - ETA: 0s - loss: 0.6227 - accuracy: 0.6250\n",
      "Epoch 267: val_loss did not improve from 0.93503\n",
      "16/16 [==============================] - 0s 4ms/step - loss: 0.6137 - accuracy: 0.7228 - val_loss: 1.1241 - val_accuracy: 0.6475\n",
      "Epoch 268/1000\n",
      " 1/16 [>.............................] - ETA: 0s - loss: 0.5867 - accuracy: 0.7188\n",
      "Epoch 268: val_loss did not improve from 0.93503\n",
      "16/16 [==============================] - 0s 4ms/step - loss: 0.6005 - accuracy: 0.7351 - val_loss: 1.1255 - val_accuracy: 0.6475\n",
      "Epoch 269/1000\n",
      " 1/16 [>.............................] - ETA: 0s - loss: 0.9070 - accuracy: 0.7188\n",
      "Epoch 269: val_loss did not improve from 0.93503\n",
      "16/16 [==============================] - 0s 4ms/step - loss: 0.5959 - accuracy: 0.7351 - val_loss: 1.1674 - val_accuracy: 0.6475\n",
      "Epoch 270/1000\n",
      " 1/16 [>.............................] - ETA: 0s - loss: 0.5142 - accuracy: 0.8438\n",
      "Epoch 270: val_loss did not improve from 0.93503\n",
      "16/16 [==============================] - 0s 4ms/step - loss: 0.5725 - accuracy: 0.7413 - val_loss: 1.2216 - val_accuracy: 0.6311\n",
      "Epoch 271/1000\n",
      " 1/16 [>.............................] - ETA: 0s - loss: 0.6241 - accuracy: 0.7500\n",
      "Epoch 271: val_loss did not improve from 0.93503\n",
      "16/16 [==============================] - 0s 4ms/step - loss: 0.5846 - accuracy: 0.7413 - val_loss: 1.1485 - val_accuracy: 0.6639\n",
      "Epoch 272/1000\n",
      " 1/16 [>.............................] - ETA: 0s - loss: 0.7744 - accuracy: 0.7188\n",
      "Epoch 272: val_loss did not improve from 0.93503\n",
      "16/16 [==============================] - 0s 4ms/step - loss: 0.5924 - accuracy: 0.7700 - val_loss: 1.1303 - val_accuracy: 0.6639\n",
      "Epoch 273/1000\n",
      " 1/16 [>.............................] - ETA: 0s - loss: 0.8027 - accuracy: 0.5938\n",
      "Epoch 273: val_loss did not improve from 0.93503\n",
      "16/16 [==============================] - 0s 4ms/step - loss: 0.6216 - accuracy: 0.7248 - val_loss: 1.1176 - val_accuracy: 0.6557\n",
      "Epoch 274/1000\n",
      " 1/16 [>.............................] - ETA: 0s - loss: 0.7482 - accuracy: 0.6250\n",
      "Epoch 274: val_loss did not improve from 0.93503\n",
      "16/16 [==============================] - 0s 4ms/step - loss: 0.6051 - accuracy: 0.7413 - val_loss: 1.1967 - val_accuracy: 0.6066\n",
      "Epoch 275/1000\n",
      " 1/16 [>.............................] - ETA: 0s - loss: 0.5047 - accuracy: 0.7500\n",
      "Epoch 275: val_loss did not improve from 0.93503\n",
      "16/16 [==============================] - 0s 3ms/step - loss: 0.6095 - accuracy: 0.7310 - val_loss: 1.1391 - val_accuracy: 0.6230\n",
      "Epoch 276/1000\n",
      " 1/16 [>.............................] - ETA: 0s - loss: 0.7578 - accuracy: 0.6562\n",
      "Epoch 276: val_loss did not improve from 0.93503\n",
      "16/16 [==============================] - 0s 4ms/step - loss: 0.5883 - accuracy: 0.7433 - val_loss: 1.0741 - val_accuracy: 0.6393\n",
      "Epoch 277/1000\n",
      " 1/16 [>.............................] - ETA: 0s - loss: 0.6982 - accuracy: 0.7812\n",
      "Epoch 277: val_loss did not improve from 0.93503\n",
      "16/16 [==============================] - 0s 4ms/step - loss: 0.6372 - accuracy: 0.7310 - val_loss: 1.1726 - val_accuracy: 0.6393\n",
      "Epoch 278/1000\n",
      " 1/16 [>.............................] - ETA: 0s - loss: 0.5733 - accuracy: 0.6875\n",
      "Epoch 278: val_loss did not improve from 0.93503\n",
      "16/16 [==============================] - 0s 4ms/step - loss: 0.6101 - accuracy: 0.7351 - val_loss: 1.1659 - val_accuracy: 0.6393\n",
      "Epoch 279/1000\n",
      " 1/16 [>.............................] - ETA: 0s - loss: 0.4243 - accuracy: 0.8438\n",
      "Epoch 279: val_loss did not improve from 0.93503\n",
      "16/16 [==============================] - 0s 4ms/step - loss: 0.5542 - accuracy: 0.7700 - val_loss: 1.2928 - val_accuracy: 0.6311\n",
      "Epoch 280/1000\n",
      " 1/16 [>.............................] - ETA: 0s - loss: 0.3691 - accuracy: 0.8750\n",
      "Epoch 280: val_loss did not improve from 0.93503\n",
      "16/16 [==============================] - 0s 4ms/step - loss: 0.5393 - accuracy: 0.7803 - val_loss: 1.1803 - val_accuracy: 0.6721\n",
      "Epoch 281/1000\n",
      " 1/16 [>.............................] - ETA: 0s - loss: 0.5035 - accuracy: 0.7188\n",
      "Epoch 281: val_loss did not improve from 0.93503\n",
      "16/16 [==============================] - 0s 3ms/step - loss: 0.5597 - accuracy: 0.7577 - val_loss: 1.1494 - val_accuracy: 0.6557\n",
      "Epoch 282/1000\n",
      " 1/16 [>.............................] - ETA: 0s - loss: 0.6009 - accuracy: 0.7188\n",
      "Epoch 282: val_loss did not improve from 0.93503\n",
      "16/16 [==============================] - 0s 4ms/step - loss: 0.5707 - accuracy: 0.7577 - val_loss: 1.3163 - val_accuracy: 0.6393\n",
      "Epoch 283/1000\n",
      " 1/16 [>.............................] - ETA: 0s - loss: 0.6684 - accuracy: 0.7188\n",
      "Epoch 283: val_loss did not improve from 0.93503\n",
      "16/16 [==============================] - 0s 3ms/step - loss: 0.6014 - accuracy: 0.7536 - val_loss: 1.2143 - val_accuracy: 0.6311\n",
      "Epoch 284/1000\n",
      " 1/16 [>.............................] - ETA: 0s - loss: 0.7571 - accuracy: 0.6250\n",
      "Epoch 284: val_loss did not improve from 0.93503\n",
      "16/16 [==============================] - 0s 3ms/step - loss: 0.5741 - accuracy: 0.7577 - val_loss: 1.2273 - val_accuracy: 0.6230\n",
      "Epoch 285/1000\n",
      " 1/16 [>.............................] - ETA: 0s - loss: 0.6839 - accuracy: 0.7812\n",
      "Epoch 285: val_loss did not improve from 0.93503\n",
      "16/16 [==============================] - 0s 3ms/step - loss: 0.5681 - accuracy: 0.7639 - val_loss: 1.1728 - val_accuracy: 0.6475\n",
      "Epoch 286/1000\n",
      " 1/16 [>.............................] - ETA: 0s - loss: 0.3921 - accuracy: 0.8438\n",
      "Epoch 286: val_loss did not improve from 0.93503\n",
      "16/16 [==============================] - 0s 4ms/step - loss: 0.5593 - accuracy: 0.7659 - val_loss: 1.1519 - val_accuracy: 0.6393\n",
      "Epoch 287/1000\n",
      " 1/16 [>.............................] - ETA: 0s - loss: 0.5159 - accuracy: 0.7812\n",
      "Epoch 287: val_loss did not improve from 0.93503\n",
      "16/16 [==============================] - 0s 4ms/step - loss: 0.5397 - accuracy: 0.7598 - val_loss: 1.2127 - val_accuracy: 0.6393\n",
      "Epoch 288/1000\n",
      " 1/16 [>.............................] - ETA: 0s - loss: 0.6746 - accuracy: 0.7500\n",
      "Epoch 288: val_loss did not improve from 0.93503\n",
      "16/16 [==============================] - 0s 4ms/step - loss: 0.6282 - accuracy: 0.7577 - val_loss: 1.1881 - val_accuracy: 0.6230\n",
      "Epoch 289/1000\n",
      " 1/16 [>.............................] - ETA: 0s - loss: 0.9183 - accuracy: 0.6562\n",
      "Epoch 289: val_loss did not improve from 0.93503\n",
      "16/16 [==============================] - 0s 4ms/step - loss: 0.6669 - accuracy: 0.7351 - val_loss: 1.1541 - val_accuracy: 0.6393\n",
      "Epoch 290/1000\n",
      " 1/16 [>.............................] - ETA: 0s - loss: 0.5565 - accuracy: 0.7812\n",
      "Epoch 290: val_loss did not improve from 0.93503\n",
      "16/16 [==============================] - 0s 4ms/step - loss: 0.6504 - accuracy: 0.7290 - val_loss: 1.1250 - val_accuracy: 0.6311\n",
      "Epoch 291/1000\n",
      " 1/16 [>.............................] - ETA: 0s - loss: 0.9000 - accuracy: 0.6875\n",
      "Epoch 291: val_loss did not improve from 0.93503\n",
      "16/16 [==============================] - 0s 4ms/step - loss: 0.6302 - accuracy: 0.7495 - val_loss: 1.0360 - val_accuracy: 0.6721\n",
      "Epoch 292/1000\n",
      " 1/16 [>.............................] - ETA: 0s - loss: 0.4521 - accuracy: 0.8438\n",
      "Epoch 292: val_loss did not improve from 0.93503\n",
      "16/16 [==============================] - 0s 4ms/step - loss: 0.6270 - accuracy: 0.7228 - val_loss: 1.1147 - val_accuracy: 0.6557\n",
      "Epoch 293/1000\n",
      " 1/16 [>.............................] - ETA: 0s - loss: 0.4599 - accuracy: 0.8750\n",
      "Epoch 293: val_loss did not improve from 0.93503\n",
      "16/16 [==============================] - 0s 3ms/step - loss: 0.6066 - accuracy: 0.7515 - val_loss: 1.1657 - val_accuracy: 0.6557\n",
      "Epoch 294/1000\n",
      " 1/16 [>.............................] - ETA: 0s - loss: 0.5037 - accuracy: 0.7500\n",
      "Epoch 294: val_loss did not improve from 0.93503\n",
      "16/16 [==============================] - 0s 4ms/step - loss: 0.6081 - accuracy: 0.7269 - val_loss: 1.1133 - val_accuracy: 0.6557\n",
      "Epoch 295/1000\n",
      " 1/16 [>.............................] - ETA: 0s - loss: 0.7370 - accuracy: 0.6562\n",
      "Epoch 295: val_loss did not improve from 0.93503\n",
      "16/16 [==============================] - 0s 3ms/step - loss: 0.6060 - accuracy: 0.7413 - val_loss: 1.1364 - val_accuracy: 0.6557\n",
      "Epoch 296/1000\n",
      " 1/16 [>.............................] - ETA: 0s - loss: 0.6520 - accuracy: 0.7188\n",
      "Epoch 296: val_loss did not improve from 0.93503\n",
      "16/16 [==============================] - 0s 4ms/step - loss: 0.6126 - accuracy: 0.7536 - val_loss: 1.1073 - val_accuracy: 0.6557\n",
      "Epoch 297/1000\n",
      " 1/16 [>.............................] - ETA: 0s - loss: 0.6617 - accuracy: 0.7500\n",
      "Epoch 297: val_loss did not improve from 0.93503\n",
      "16/16 [==============================] - 0s 4ms/step - loss: 0.6410 - accuracy: 0.7310 - val_loss: 1.0386 - val_accuracy: 0.6639\n",
      "Epoch 298/1000\n",
      " 1/16 [>.............................] - ETA: 0s - loss: 0.8068 - accuracy: 0.5938\n",
      "Epoch 298: val_loss did not improve from 0.93503\n",
      "16/16 [==============================] - 0s 4ms/step - loss: 0.6451 - accuracy: 0.7372 - val_loss: 1.0256 - val_accuracy: 0.6475\n",
      "Epoch 299/1000\n",
      " 1/16 [>.............................] - ETA: 0s - loss: 0.6439 - accuracy: 0.6875\n",
      "Epoch 299: val_loss did not improve from 0.93503\n",
      "16/16 [==============================] - 0s 4ms/step - loss: 0.6188 - accuracy: 0.7392 - val_loss: 1.0236 - val_accuracy: 0.6557\n",
      "Epoch 300/1000\n",
      " 1/16 [>.............................] - ETA: 0s - loss: 0.4549 - accuracy: 0.8438\n",
      "Epoch 300: val_loss did not improve from 0.93503\n",
      "16/16 [==============================] - 0s 4ms/step - loss: 0.5693 - accuracy: 0.7577 - val_loss: 1.0094 - val_accuracy: 0.6639\n",
      "Epoch 301/1000\n",
      " 1/16 [>.............................] - ETA: 0s - loss: 0.6878 - accuracy: 0.7500\n",
      "Epoch 301: val_loss did not improve from 0.93503\n",
      "16/16 [==============================] - 0s 4ms/step - loss: 0.5671 - accuracy: 0.7515 - val_loss: 1.1025 - val_accuracy: 0.6393\n",
      "Epoch 302/1000\n",
      " 1/16 [>.............................] - ETA: 0s - loss: 0.8063 - accuracy: 0.8438\n",
      "Epoch 302: val_loss did not improve from 0.93503\n",
      "16/16 [==============================] - 0s 4ms/step - loss: 0.6010 - accuracy: 0.7474 - val_loss: 1.0549 - val_accuracy: 0.6639\n",
      "Epoch 303/1000\n",
      " 1/16 [>.............................] - ETA: 0s - loss: 0.8067 - accuracy: 0.7188\n",
      "Epoch 303: val_loss did not improve from 0.93503\n",
      "16/16 [==============================] - 0s 4ms/step - loss: 0.6275 - accuracy: 0.7474 - val_loss: 1.0833 - val_accuracy: 0.6557\n",
      "Epoch 304/1000\n",
      " 1/16 [>.............................] - ETA: 0s - loss: 0.7138 - accuracy: 0.6875\n",
      "Epoch 304: val_loss did not improve from 0.93503\n",
      "16/16 [==============================] - 0s 3ms/step - loss: 0.6370 - accuracy: 0.7454 - val_loss: 1.0887 - val_accuracy: 0.6475\n",
      "Epoch 305/1000\n",
      " 1/16 [>.............................] - ETA: 0s - loss: 0.4150 - accuracy: 0.8125\n",
      "Epoch 305: val_loss did not improve from 0.93503\n",
      "16/16 [==============================] - 0s 4ms/step - loss: 0.5671 - accuracy: 0.7495 - val_loss: 1.1060 - val_accuracy: 0.6721\n",
      "Epoch 306/1000\n",
      " 1/16 [>.............................] - ETA: 0s - loss: 0.7486 - accuracy: 0.6875\n",
      "Epoch 306: val_loss did not improve from 0.93503\n",
      "16/16 [==============================] - 0s 4ms/step - loss: 0.6337 - accuracy: 0.7433 - val_loss: 1.0536 - val_accuracy: 0.6803\n",
      "Epoch 307/1000\n",
      " 1/16 [>.............................] - ETA: 0s - loss: 0.9050 - accuracy: 0.6562\n",
      "Epoch 307: val_loss did not improve from 0.93503\n",
      "16/16 [==============================] - 0s 4ms/step - loss: 0.6032 - accuracy: 0.7454 - val_loss: 1.1454 - val_accuracy: 0.6393\n",
      "Epoch 308/1000\n",
      " 1/16 [>.............................] - ETA: 0s - loss: 0.7271 - accuracy: 0.6562\n",
      "Epoch 308: val_loss did not improve from 0.93503\n",
      "16/16 [==============================] - 0s 4ms/step - loss: 0.6249 - accuracy: 0.7495 - val_loss: 1.1785 - val_accuracy: 0.6066\n",
      "Epoch 309/1000\n",
      " 1/16 [>.............................] - ETA: 0s - loss: 0.7297 - accuracy: 0.7812\n",
      "Epoch 309: val_loss did not improve from 0.93503\n",
      "16/16 [==============================] - 0s 4ms/step - loss: 0.6221 - accuracy: 0.7310 - val_loss: 1.1099 - val_accuracy: 0.6475\n",
      "Epoch 310/1000\n",
      " 1/16 [>.............................] - ETA: 0s - loss: 0.6728 - accuracy: 0.6875\n",
      "Epoch 310: val_loss did not improve from 0.93503\n",
      "16/16 [==============================] - 0s 4ms/step - loss: 0.6080 - accuracy: 0.7310 - val_loss: 1.0501 - val_accuracy: 0.6557\n",
      "Epoch 311/1000\n",
      " 1/16 [>.............................] - ETA: 0s - loss: 0.7747 - accuracy: 0.6562\n",
      "Epoch 311: val_loss did not improve from 0.93503\n",
      "16/16 [==============================] - 0s 4ms/step - loss: 0.5871 - accuracy: 0.7515 - val_loss: 1.0936 - val_accuracy: 0.6475\n",
      "Epoch 312/1000\n",
      " 1/16 [>.............................] - ETA: 0s - loss: 0.5468 - accuracy: 0.7812\n",
      "Epoch 312: val_loss did not improve from 0.93503\n",
      "16/16 [==============================] - 0s 4ms/step - loss: 0.5884 - accuracy: 0.7372 - val_loss: 1.0779 - val_accuracy: 0.6475\n",
      "Epoch 313/1000\n",
      " 1/16 [>.............................] - ETA: 0s - loss: 0.5036 - accuracy: 0.7500\n",
      "Epoch 313: val_loss did not improve from 0.93503\n",
      "16/16 [==============================] - 0s 4ms/step - loss: 0.5945 - accuracy: 0.7372 - val_loss: 1.0912 - val_accuracy: 0.6885\n",
      "Epoch 314/1000\n",
      " 1/16 [>.............................] - ETA: 0s - loss: 0.6066 - accuracy: 0.7500\n",
      "Epoch 314: val_loss did not improve from 0.93503\n",
      "16/16 [==============================] - 0s 4ms/step - loss: 0.6452 - accuracy: 0.7248 - val_loss: 1.0933 - val_accuracy: 0.6393\n",
      "Epoch 315/1000\n",
      " 1/16 [>.............................] - ETA: 0s - loss: 0.6272 - accuracy: 0.6250\n",
      "Epoch 315: val_loss did not improve from 0.93503\n",
      "16/16 [==============================] - 0s 4ms/step - loss: 0.6178 - accuracy: 0.7474 - val_loss: 1.2046 - val_accuracy: 0.6475\n",
      "Epoch 316/1000\n",
      " 1/16 [>.............................] - ETA: 0s - loss: 0.6128 - accuracy: 0.7188\n",
      "Epoch 316: val_loss did not improve from 0.93503\n",
      "16/16 [==============================] - 0s 4ms/step - loss: 0.6187 - accuracy: 0.7454 - val_loss: 1.1597 - val_accuracy: 0.6393\n",
      "Epoch 317/1000\n",
      " 1/16 [>.............................] - ETA: 0s - loss: 0.6613 - accuracy: 0.6562\n",
      "Epoch 317: val_loss did not improve from 0.93503\n",
      "16/16 [==============================] - 0s 4ms/step - loss: 0.5509 - accuracy: 0.7700 - val_loss: 1.1168 - val_accuracy: 0.6639\n",
      "Epoch 318/1000\n",
      " 1/16 [>.............................] - ETA: 0s - loss: 0.7278 - accuracy: 0.5938\n",
      "Epoch 318: val_loss did not improve from 0.93503\n",
      "16/16 [==============================] - 0s 4ms/step - loss: 0.6390 - accuracy: 0.7187 - val_loss: 1.1125 - val_accuracy: 0.6311\n",
      "Epoch 319/1000\n",
      " 1/16 [>.............................] - ETA: 0s - loss: 0.6381 - accuracy: 0.8125\n",
      "Epoch 319: val_loss did not improve from 0.93503\n",
      "16/16 [==============================] - 0s 3ms/step - loss: 0.6807 - accuracy: 0.7392 - val_loss: 1.1503 - val_accuracy: 0.6475\n",
      "Epoch 320/1000\n",
      " 1/16 [>.............................] - ETA: 0s - loss: 0.4476 - accuracy: 0.8750\n",
      "Epoch 320: val_loss did not improve from 0.93503\n",
      "16/16 [==============================] - 0s 4ms/step - loss: 0.6544 - accuracy: 0.7351 - val_loss: 1.2025 - val_accuracy: 0.6311\n",
      "Epoch 321/1000\n",
      " 1/16 [>.............................] - ETA: 0s - loss: 0.5163 - accuracy: 0.7812\n",
      "Epoch 321: val_loss did not improve from 0.93503\n",
      "16/16 [==============================] - 0s 4ms/step - loss: 0.6307 - accuracy: 0.7310 - val_loss: 1.2030 - val_accuracy: 0.6311\n",
      "Epoch 322/1000\n",
      " 1/16 [>.............................] - ETA: 0s - loss: 0.5552 - accuracy: 0.7500\n",
      "Epoch 322: val_loss did not improve from 0.93503\n",
      "16/16 [==============================] - 0s 4ms/step - loss: 0.5709 - accuracy: 0.7433 - val_loss: 1.1702 - val_accuracy: 0.6803\n",
      "Epoch 323/1000\n",
      " 1/16 [>.............................] - ETA: 0s - loss: 0.7002 - accuracy: 0.8125\n",
      "Epoch 323: val_loss did not improve from 0.93503\n",
      "16/16 [==============================] - 0s 4ms/step - loss: 0.5801 - accuracy: 0.7721 - val_loss: 1.1448 - val_accuracy: 0.6557\n",
      "Epoch 324/1000\n",
      " 1/16 [>.............................] - ETA: 0s - loss: 0.3803 - accuracy: 0.8750\n",
      "Epoch 324: val_loss did not improve from 0.93503\n",
      "16/16 [==============================] - 0s 5ms/step - loss: 0.6210 - accuracy: 0.7413 - val_loss: 1.1898 - val_accuracy: 0.6639\n",
      "Epoch 325/1000\n",
      " 1/16 [>.............................] - ETA: 0s - loss: 0.6173 - accuracy: 0.7188\n",
      "Epoch 325: val_loss did not improve from 0.93503\n",
      "16/16 [==============================] - 0s 4ms/step - loss: 0.6118 - accuracy: 0.7413 - val_loss: 1.1668 - val_accuracy: 0.6393\n",
      "Epoch 326/1000\n",
      " 1/16 [>.............................] - ETA: 0s - loss: 0.3755 - accuracy: 0.8750\n",
      "Epoch 326: val_loss did not improve from 0.93503\n",
      "16/16 [==============================] - 0s 4ms/step - loss: 0.5622 - accuracy: 0.7495 - val_loss: 1.2663 - val_accuracy: 0.6148\n",
      "Epoch 327/1000\n",
      " 1/16 [>.............................] - ETA: 0s - loss: 0.4904 - accuracy: 0.8438\n",
      "Epoch 327: val_loss did not improve from 0.93503\n",
      "16/16 [==============================] - 0s 4ms/step - loss: 0.6063 - accuracy: 0.7454 - val_loss: 1.1086 - val_accuracy: 0.6230\n",
      "Epoch 328/1000\n",
      " 1/16 [>.............................] - ETA: 0s - loss: 0.4967 - accuracy: 0.7500\n",
      "Epoch 328: val_loss did not improve from 0.93503\n",
      "16/16 [==============================] - 0s 4ms/step - loss: 0.5690 - accuracy: 0.7392 - val_loss: 1.1134 - val_accuracy: 0.6475\n",
      "Epoch 329/1000\n",
      " 1/16 [>.............................] - ETA: 0s - loss: 0.5414 - accuracy: 0.8125\n",
      "Epoch 329: val_loss did not improve from 0.93503\n",
      "16/16 [==============================] - 0s 4ms/step - loss: 0.6034 - accuracy: 0.7248 - val_loss: 1.1477 - val_accuracy: 0.6148\n",
      "Epoch 330/1000\n",
      " 1/16 [>.............................] - ETA: 0s - loss: 0.7064 - accuracy: 0.7500\n",
      "Epoch 330: val_loss did not improve from 0.93503\n",
      "16/16 [==============================] - 0s 4ms/step - loss: 0.6609 - accuracy: 0.7269 - val_loss: 1.1289 - val_accuracy: 0.6803\n",
      "Epoch 331/1000\n",
      " 1/16 [>.............................] - ETA: 0s - loss: 0.5828 - accuracy: 0.7812\n",
      "Epoch 331: val_loss did not improve from 0.93503\n",
      "16/16 [==============================] - 0s 4ms/step - loss: 0.5736 - accuracy: 0.7536 - val_loss: 1.0981 - val_accuracy: 0.6721\n",
      "Epoch 332/1000\n",
      " 1/16 [>.............................] - ETA: 0s - loss: 0.8828 - accuracy: 0.6250\n",
      "Epoch 332: val_loss did not improve from 0.93503\n",
      "16/16 [==============================] - 0s 4ms/step - loss: 0.6195 - accuracy: 0.7228 - val_loss: 1.1894 - val_accuracy: 0.6311\n",
      "Epoch 333/1000\n",
      " 1/16 [>.............................] - ETA: 0s - loss: 0.7281 - accuracy: 0.7188\n",
      "Epoch 333: val_loss did not improve from 0.93503\n",
      "16/16 [==============================] - 0s 5ms/step - loss: 0.6026 - accuracy: 0.7454 - val_loss: 1.0713 - val_accuracy: 0.6475\n",
      "Epoch 334/1000\n",
      " 1/16 [>.............................] - ETA: 0s - loss: 0.6012 - accuracy: 0.7188\n",
      "Epoch 334: val_loss did not improve from 0.93503\n",
      "16/16 [==============================] - 0s 4ms/step - loss: 0.6288 - accuracy: 0.7392 - val_loss: 1.0785 - val_accuracy: 0.6639\n",
      "Epoch 335/1000\n",
      " 1/16 [>.............................] - ETA: 0s - loss: 0.6330 - accuracy: 0.8125\n",
      "Epoch 335: val_loss did not improve from 0.93503\n",
      "16/16 [==============================] - 0s 4ms/step - loss: 0.6055 - accuracy: 0.7310 - val_loss: 1.1789 - val_accuracy: 0.6311\n",
      "Epoch 336/1000\n",
      " 1/16 [>.............................] - ETA: 0s - loss: 0.8268 - accuracy: 0.6562\n",
      "Epoch 336: val_loss did not improve from 0.93503\n",
      "16/16 [==============================] - 0s 4ms/step - loss: 0.5948 - accuracy: 0.7454 - val_loss: 1.0611 - val_accuracy: 0.6721\n",
      "Epoch 337/1000\n",
      " 1/16 [>.............................] - ETA: 0s - loss: 0.6000 - accuracy: 0.7500\n",
      "Epoch 337: val_loss did not improve from 0.93503\n",
      "16/16 [==============================] - 0s 4ms/step - loss: 0.5899 - accuracy: 0.7515 - val_loss: 1.0858 - val_accuracy: 0.6721\n",
      "Epoch 338/1000\n",
      " 1/16 [>.............................] - ETA: 0s - loss: 0.4807 - accuracy: 0.8125\n",
      "Epoch 338: val_loss did not improve from 0.93503\n",
      "16/16 [==============================] - 0s 4ms/step - loss: 0.5633 - accuracy: 0.7639 - val_loss: 1.2126 - val_accuracy: 0.6557\n",
      "Epoch 339/1000\n",
      " 1/16 [>.............................] - ETA: 0s - loss: 0.5891 - accuracy: 0.8125\n",
      "Epoch 339: val_loss did not improve from 0.93503\n",
      "16/16 [==============================] - 0s 4ms/step - loss: 0.5899 - accuracy: 0.7556 - val_loss: 1.1130 - val_accuracy: 0.6721\n",
      "Epoch 340/1000\n",
      " 1/16 [>.............................] - ETA: 0s - loss: 0.5583 - accuracy: 0.7188\n",
      "Epoch 340: val_loss did not improve from 0.93503\n",
      "16/16 [==============================] - 0s 4ms/step - loss: 0.5992 - accuracy: 0.7392 - val_loss: 1.0904 - val_accuracy: 0.6475\n",
      "Epoch 341/1000\n",
      " 1/16 [>.............................] - ETA: 0s - loss: 0.5578 - accuracy: 0.7500\n",
      "Epoch 341: val_loss did not improve from 0.93503\n",
      "16/16 [==============================] - 0s 4ms/step - loss: 0.5796 - accuracy: 0.7741 - val_loss: 1.1817 - val_accuracy: 0.6393\n",
      "Epoch 342/1000\n",
      " 1/16 [>.............................] - ETA: 0s - loss: 0.5776 - accuracy: 0.7812\n",
      "Epoch 342: val_loss did not improve from 0.93503\n",
      "16/16 [==============================] - 0s 5ms/step - loss: 0.6117 - accuracy: 0.7762 - val_loss: 1.1293 - val_accuracy: 0.6393\n",
      "Epoch 343/1000\n",
      " 1/16 [>.............................] - ETA: 0s - loss: 0.4844 - accuracy: 0.7812\n",
      "Epoch 343: val_loss did not improve from 0.93503\n",
      "16/16 [==============================] - 0s 4ms/step - loss: 0.6126 - accuracy: 0.7536 - val_loss: 1.1672 - val_accuracy: 0.6393\n",
      "Epoch 344/1000\n",
      " 1/16 [>.............................] - ETA: 0s - loss: 0.5246 - accuracy: 0.7812\n",
      "Epoch 344: val_loss did not improve from 0.93503\n",
      "16/16 [==============================] - 0s 4ms/step - loss: 0.6200 - accuracy: 0.7556 - val_loss: 1.1802 - val_accuracy: 0.6639\n",
      "Epoch 345/1000\n",
      " 1/16 [>.............................] - ETA: 0s - loss: 0.7140 - accuracy: 0.7812\n",
      "Epoch 345: val_loss did not improve from 0.93503\n",
      "16/16 [==============================] - 0s 4ms/step - loss: 0.6066 - accuracy: 0.7454 - val_loss: 1.1762 - val_accuracy: 0.6475\n",
      "Epoch 346/1000\n",
      " 1/16 [>.............................] - ETA: 0s - loss: 0.8680 - accuracy: 0.6250\n",
      "Epoch 346: val_loss did not improve from 0.93503\n",
      "16/16 [==============================] - 0s 4ms/step - loss: 0.6651 - accuracy: 0.7228 - val_loss: 1.0772 - val_accuracy: 0.6393\n",
      "Epoch 347/1000\n",
      " 1/16 [>.............................] - ETA: 0s - loss: 0.4442 - accuracy: 0.8125\n",
      "Epoch 347: val_loss did not improve from 0.93503\n",
      "16/16 [==============================] - 0s 4ms/step - loss: 0.6189 - accuracy: 0.7392 - val_loss: 1.1364 - val_accuracy: 0.6066\n",
      "Epoch 348/1000\n",
      " 1/16 [>.............................] - ETA: 0s - loss: 0.6217 - accuracy: 0.7188\n",
      "Epoch 348: val_loss did not improve from 0.93503\n",
      "16/16 [==============================] - 0s 4ms/step - loss: 0.6101 - accuracy: 0.7269 - val_loss: 1.1671 - val_accuracy: 0.6311\n",
      "Epoch 349/1000\n",
      " 1/16 [>.............................] - ETA: 0s - loss: 0.5880 - accuracy: 0.7188\n",
      "Epoch 349: val_loss did not improve from 0.93503\n",
      "16/16 [==============================] - 0s 4ms/step - loss: 0.5838 - accuracy: 0.7433 - val_loss: 1.1316 - val_accuracy: 0.6148\n",
      "Epoch 350/1000\n",
      " 1/16 [>.............................] - ETA: 0s - loss: 0.5788 - accuracy: 0.7500\n",
      "Epoch 350: val_loss did not improve from 0.93503\n",
      "16/16 [==============================] - 0s 4ms/step - loss: 0.5808 - accuracy: 0.7618 - val_loss: 1.1282 - val_accuracy: 0.6639\n",
      "Epoch 351/1000\n",
      " 1/16 [>.............................] - ETA: 0s - loss: 0.5718 - accuracy: 0.7812\n",
      "Epoch 351: val_loss did not improve from 0.93503\n",
      "16/16 [==============================] - 0s 5ms/step - loss: 0.5864 - accuracy: 0.7290 - val_loss: 1.2174 - val_accuracy: 0.6393\n",
      "Epoch 352/1000\n",
      " 1/16 [>.............................] - ETA: 0s - loss: 0.7452 - accuracy: 0.6562\n",
      "Epoch 352: val_loss did not improve from 0.93503\n",
      "16/16 [==============================] - 0s 4ms/step - loss: 0.6194 - accuracy: 0.7310 - val_loss: 1.1643 - val_accuracy: 0.6311\n",
      "Epoch 353/1000\n",
      " 1/16 [>.............................] - ETA: 0s - loss: 0.5636 - accuracy: 0.6875\n",
      "Epoch 353: val_loss did not improve from 0.93503\n",
      "16/16 [==============================] - 0s 4ms/step - loss: 0.6171 - accuracy: 0.7515 - val_loss: 1.1351 - val_accuracy: 0.6311\n",
      "Epoch 354/1000\n",
      " 1/16 [>.............................] - ETA: 0s - loss: 0.5832 - accuracy: 0.7812\n",
      "Epoch 354: val_loss did not improve from 0.93503\n",
      "16/16 [==============================] - 0s 4ms/step - loss: 0.6126 - accuracy: 0.7598 - val_loss: 1.1257 - val_accuracy: 0.6393\n",
      "Epoch 355/1000\n",
      " 1/16 [>.............................] - ETA: 0s - loss: 0.4855 - accuracy: 0.7812\n",
      "Epoch 355: val_loss did not improve from 0.93503\n",
      "16/16 [==============================] - 0s 4ms/step - loss: 0.5859 - accuracy: 0.7598 - val_loss: 1.1990 - val_accuracy: 0.6393\n",
      "Epoch 356/1000\n",
      " 1/16 [>.............................] - ETA: 0s - loss: 0.7768 - accuracy: 0.5938\n",
      "Epoch 356: val_loss did not improve from 0.93503\n",
      "16/16 [==============================] - 0s 4ms/step - loss: 0.6235 - accuracy: 0.7372 - val_loss: 1.1678 - val_accuracy: 0.6557\n",
      "Epoch 357/1000\n",
      " 1/16 [>.............................] - ETA: 0s - loss: 0.7491 - accuracy: 0.6875\n",
      "Epoch 357: val_loss did not improve from 0.93503\n",
      "16/16 [==============================] - 0s 4ms/step - loss: 0.5998 - accuracy: 0.7556 - val_loss: 1.1299 - val_accuracy: 0.6393\n",
      "Epoch 358/1000\n",
      " 1/16 [>.............................] - ETA: 0s - loss: 0.5298 - accuracy: 0.8125\n",
      "Epoch 358: val_loss did not improve from 0.93503\n",
      "16/16 [==============================] - 0s 4ms/step - loss: 0.6062 - accuracy: 0.7577 - val_loss: 1.2824 - val_accuracy: 0.6475\n",
      "Epoch 359/1000\n",
      " 1/16 [>.............................] - ETA: 0s - loss: 0.6874 - accuracy: 0.6875\n",
      "Epoch 359: val_loss did not improve from 0.93503\n",
      "16/16 [==============================] - 0s 5ms/step - loss: 0.5742 - accuracy: 0.7556 - val_loss: 1.1520 - val_accuracy: 0.6475\n",
      "Epoch 360/1000\n",
      " 1/16 [>.............................] - ETA: 0s - loss: 0.6174 - accuracy: 0.7812\n",
      "Epoch 360: val_loss did not improve from 0.93503\n",
      "16/16 [==============================] - 0s 4ms/step - loss: 0.5977 - accuracy: 0.7700 - val_loss: 1.1860 - val_accuracy: 0.6230\n",
      "Epoch 361/1000\n",
      " 1/16 [>.............................] - ETA: 0s - loss: 0.4768 - accuracy: 0.7812\n",
      "Epoch 361: val_loss did not improve from 0.93503\n",
      "16/16 [==============================] - 0s 4ms/step - loss: 0.5803 - accuracy: 0.7515 - val_loss: 1.2134 - val_accuracy: 0.6066\n",
      "Epoch 362/1000\n",
      " 1/16 [>.............................] - ETA: 0s - loss: 0.5393 - accuracy: 0.7188\n",
      "Epoch 362: val_loss did not improve from 0.93503\n",
      "16/16 [==============================] - 0s 4ms/step - loss: 0.6192 - accuracy: 0.7474 - val_loss: 1.1930 - val_accuracy: 0.6393\n",
      "Epoch 363/1000\n",
      " 1/16 [>.............................] - ETA: 0s - loss: 1.0300 - accuracy: 0.5938\n",
      "Epoch 363: val_loss did not improve from 0.93503\n",
      "16/16 [==============================] - 0s 4ms/step - loss: 0.6599 - accuracy: 0.7187 - val_loss: 1.1275 - val_accuracy: 0.5902\n",
      "Epoch 364/1000\n",
      " 1/16 [>.............................] - ETA: 0s - loss: 0.5746 - accuracy: 0.7812\n",
      "Epoch 364: val_loss did not improve from 0.93503\n",
      "16/16 [==============================] - 0s 3ms/step - loss: 0.5964 - accuracy: 0.7331 - val_loss: 1.2015 - val_accuracy: 0.5820\n",
      "Epoch 365/1000\n",
      " 1/16 [>.............................] - ETA: 0s - loss: 0.8091 - accuracy: 0.5938\n",
      "Epoch 365: val_loss did not improve from 0.93503\n",
      "16/16 [==============================] - 0s 3ms/step - loss: 0.6794 - accuracy: 0.7331 - val_loss: 1.1099 - val_accuracy: 0.6230\n",
      "Epoch 366/1000\n",
      " 1/16 [>.............................] - ETA: 0s - loss: 0.4137 - accuracy: 0.8750\n",
      "Epoch 366: val_loss did not improve from 0.93503\n",
      "16/16 [==============================] - 0s 4ms/step - loss: 0.5706 - accuracy: 0.7700 - val_loss: 1.2970 - val_accuracy: 0.6066\n",
      "Epoch 367/1000\n",
      " 1/16 [>.............................] - ETA: 0s - loss: 0.8620 - accuracy: 0.5938\n",
      "Epoch 367: val_loss did not improve from 0.93503\n",
      "16/16 [==============================] - 0s 4ms/step - loss: 0.6085 - accuracy: 0.7269 - val_loss: 1.1537 - val_accuracy: 0.6311\n",
      "Epoch 368/1000\n",
      " 1/16 [>.............................] - ETA: 0s - loss: 0.5735 - accuracy: 0.6562\n",
      "Epoch 368: val_loss did not improve from 0.93503\n",
      "16/16 [==============================] - 0s 4ms/step - loss: 0.5902 - accuracy: 0.7290 - val_loss: 1.1945 - val_accuracy: 0.6475\n",
      "Epoch 369/1000\n",
      " 1/16 [>.............................] - ETA: 0s - loss: 0.4817 - accuracy: 0.7188\n",
      "Epoch 369: val_loss did not improve from 0.93503\n",
      "16/16 [==============================] - 0s 4ms/step - loss: 0.5661 - accuracy: 0.7474 - val_loss: 1.1974 - val_accuracy: 0.6230\n",
      "Epoch 370/1000\n",
      " 1/16 [>.............................] - ETA: 0s - loss: 0.6795 - accuracy: 0.7500\n",
      "Epoch 370: val_loss did not improve from 0.93503\n",
      "16/16 [==============================] - 0s 4ms/step - loss: 0.6476 - accuracy: 0.7228 - val_loss: 1.2594 - val_accuracy: 0.6230\n",
      "Epoch 371/1000\n",
      " 1/16 [>.............................] - ETA: 0s - loss: 0.5745 - accuracy: 0.7188\n",
      "Epoch 371: val_loss did not improve from 0.93503\n",
      "16/16 [==============================] - 0s 4ms/step - loss: 0.5644 - accuracy: 0.7515 - val_loss: 1.3876 - val_accuracy: 0.6148\n",
      "Epoch 372/1000\n",
      " 1/16 [>.............................] - ETA: 0s - loss: 0.5042 - accuracy: 0.7812\n",
      "Epoch 372: val_loss did not improve from 0.93503\n",
      "16/16 [==============================] - 0s 3ms/step - loss: 0.5688 - accuracy: 0.7639 - val_loss: 1.2936 - val_accuracy: 0.6311\n",
      "Epoch 373/1000\n",
      " 1/16 [>.............................] - ETA: 0s - loss: 0.5633 - accuracy: 0.7188\n",
      "Epoch 373: val_loss did not improve from 0.93503\n",
      "16/16 [==============================] - 0s 4ms/step - loss: 0.5652 - accuracy: 0.7741 - val_loss: 1.2687 - val_accuracy: 0.6475\n",
      "Epoch 374/1000\n",
      " 1/16 [>.............................] - ETA: 0s - loss: 0.4948 - accuracy: 0.8438\n",
      "Epoch 374: val_loss did not improve from 0.93503\n",
      "16/16 [==============================] - 0s 4ms/step - loss: 0.6105 - accuracy: 0.7536 - val_loss: 1.2334 - val_accuracy: 0.6311\n",
      "Epoch 375/1000\n",
      " 1/16 [>.............................] - ETA: 0s - loss: 0.6950 - accuracy: 0.6875\n",
      "Epoch 375: val_loss did not improve from 0.93503\n",
      "16/16 [==============================] - 0s 4ms/step - loss: 0.5739 - accuracy: 0.7331 - val_loss: 1.2224 - val_accuracy: 0.6393\n",
      "Epoch 376/1000\n",
      " 1/16 [>.............................] - ETA: 0s - loss: 0.6948 - accuracy: 0.6562\n",
      "Epoch 376: val_loss did not improve from 0.93503\n",
      "16/16 [==============================] - 0s 4ms/step - loss: 0.5987 - accuracy: 0.7454 - val_loss: 1.1650 - val_accuracy: 0.6066\n",
      "Epoch 377/1000\n",
      " 1/16 [>.............................] - ETA: 0s - loss: 0.5540 - accuracy: 0.6875\n",
      "Epoch 377: val_loss did not improve from 0.93503\n",
      "16/16 [==============================] - 0s 5ms/step - loss: 0.5895 - accuracy: 0.7310 - val_loss: 1.2322 - val_accuracy: 0.6393\n",
      "Epoch 378/1000\n",
      " 1/16 [>.............................] - ETA: 0s - loss: 0.4767 - accuracy: 0.8125\n",
      "Epoch 378: val_loss did not improve from 0.93503\n",
      "16/16 [==============================] - 0s 4ms/step - loss: 0.6041 - accuracy: 0.7413 - val_loss: 1.1752 - val_accuracy: 0.6230\n",
      "Epoch 379/1000\n",
      " 1/16 [>.............................] - ETA: 0s - loss: 0.5338 - accuracy: 0.8125\n",
      "Epoch 379: val_loss did not improve from 0.93503\n",
      "16/16 [==============================] - 0s 4ms/step - loss: 0.5708 - accuracy: 0.7515 - val_loss: 1.2024 - val_accuracy: 0.6311\n",
      "Epoch 380/1000\n",
      " 1/16 [>.............................] - ETA: 0s - loss: 0.7155 - accuracy: 0.6250\n",
      "Epoch 380: val_loss did not improve from 0.93503\n",
      "16/16 [==============================] - 0s 3ms/step - loss: 0.5832 - accuracy: 0.7536 - val_loss: 1.2179 - val_accuracy: 0.6475\n",
      "Epoch 381/1000\n",
      " 1/16 [>.............................] - ETA: 0s - loss: 0.5236 - accuracy: 0.7500\n",
      "Epoch 381: val_loss did not improve from 0.93503\n",
      "16/16 [==============================] - 0s 3ms/step - loss: 0.5989 - accuracy: 0.7577 - val_loss: 1.2731 - val_accuracy: 0.6393\n",
      "Epoch 382/1000\n",
      " 1/16 [>.............................] - ETA: 0s - loss: 0.5817 - accuracy: 0.7812\n",
      "Epoch 382: val_loss did not improve from 0.93503\n",
      "16/16 [==============================] - 0s 4ms/step - loss: 0.5820 - accuracy: 0.7474 - val_loss: 1.2182 - val_accuracy: 0.6393\n",
      "Epoch 383/1000\n",
      " 1/16 [>.............................] - ETA: 0s - loss: 0.4109 - accuracy: 0.7812\n",
      "Epoch 383: val_loss did not improve from 0.93503\n",
      "16/16 [==============================] - 0s 4ms/step - loss: 0.6255 - accuracy: 0.7392 - val_loss: 1.3774 - val_accuracy: 0.6148\n",
      "Epoch 384/1000\n",
      " 1/16 [>.............................] - ETA: 0s - loss: 0.5309 - accuracy: 0.7188\n",
      "Epoch 384: val_loss did not improve from 0.93503\n",
      "16/16 [==============================] - 0s 4ms/step - loss: 0.6165 - accuracy: 0.7331 - val_loss: 1.2275 - val_accuracy: 0.6311\n",
      "Epoch 385/1000\n",
      " 1/16 [>.............................] - ETA: 0s - loss: 0.4919 - accuracy: 0.7500\n",
      "Epoch 385: val_loss did not improve from 0.93503\n",
      "16/16 [==============================] - 0s 4ms/step - loss: 0.5662 - accuracy: 0.7577 - val_loss: 1.2140 - val_accuracy: 0.6230\n",
      "Epoch 386/1000\n",
      " 1/16 [>.............................] - ETA: 0s - loss: 0.4033 - accuracy: 0.8125\n",
      "Epoch 386: val_loss did not improve from 0.93503\n",
      "16/16 [==============================] - 0s 4ms/step - loss: 0.6795 - accuracy: 0.7146 - val_loss: 1.1227 - val_accuracy: 0.6393\n",
      "Epoch 387/1000\n",
      " 1/16 [>.............................] - ETA: 0s - loss: 0.7271 - accuracy: 0.6562\n",
      "Epoch 387: val_loss did not improve from 0.93503\n",
      "16/16 [==============================] - 0s 4ms/step - loss: 0.6483 - accuracy: 0.7125 - val_loss: 1.0082 - val_accuracy: 0.6393\n",
      "Epoch 388/1000\n",
      " 1/16 [>.............................] - ETA: 0s - loss: 0.5385 - accuracy: 0.7188\n",
      "Epoch 388: val_loss did not improve from 0.93503\n",
      "16/16 [==============================] - 0s 4ms/step - loss: 0.6596 - accuracy: 0.7269 - val_loss: 1.1179 - val_accuracy: 0.6393\n",
      "Epoch 389/1000\n",
      " 1/16 [>.............................] - ETA: 0s - loss: 0.5967 - accuracy: 0.7812\n",
      "Epoch 389: val_loss did not improve from 0.93503\n",
      "16/16 [==============================] - 0s 4ms/step - loss: 0.6040 - accuracy: 0.7392 - val_loss: 1.2293 - val_accuracy: 0.6311\n",
      "Epoch 390/1000\n",
      " 1/16 [>.............................] - ETA: 0s - loss: 0.5496 - accuracy: 0.7500\n",
      "Epoch 390: val_loss did not improve from 0.93503\n",
      "16/16 [==============================] - 0s 4ms/step - loss: 0.6114 - accuracy: 0.7290 - val_loss: 1.2587 - val_accuracy: 0.6230\n",
      "Epoch 391/1000\n",
      " 1/16 [>.............................] - ETA: 0s - loss: 0.4246 - accuracy: 0.7812\n",
      "Epoch 391: val_loss did not improve from 0.93503\n",
      "16/16 [==============================] - 0s 4ms/step - loss: 0.6380 - accuracy: 0.7125 - val_loss: 1.3846 - val_accuracy: 0.5984\n",
      "Epoch 392/1000\n",
      " 1/16 [>.............................] - ETA: 0s - loss: 0.6384 - accuracy: 0.6562\n",
      "Epoch 392: val_loss did not improve from 0.93503\n",
      "16/16 [==============================] - 0s 4ms/step - loss: 0.6456 - accuracy: 0.7331 - val_loss: 1.1714 - val_accuracy: 0.6393\n",
      "Epoch 393/1000\n",
      " 1/16 [>.............................] - ETA: 0s - loss: 0.6481 - accuracy: 0.7812\n",
      "Epoch 393: val_loss did not improve from 0.93503\n",
      "16/16 [==============================] - 0s 4ms/step - loss: 0.6574 - accuracy: 0.7290 - val_loss: 1.1306 - val_accuracy: 0.6639\n",
      "Epoch 394/1000\n",
      " 1/16 [>.............................] - ETA: 0s - loss: 0.7943 - accuracy: 0.6562\n",
      "Epoch 394: val_loss did not improve from 0.93503\n",
      "16/16 [==============================] - 0s 4ms/step - loss: 0.5761 - accuracy: 0.7495 - val_loss: 1.1406 - val_accuracy: 0.6475\n",
      "Epoch 395/1000\n",
      " 1/16 [>.............................] - ETA: 0s - loss: 0.7373 - accuracy: 0.6562\n",
      "Epoch 395: val_loss did not improve from 0.93503\n",
      "16/16 [==============================] - 0s 4ms/step - loss: 0.6433 - accuracy: 0.7515 - val_loss: 1.1830 - val_accuracy: 0.6066\n",
      "Epoch 396/1000\n",
      " 1/16 [>.............................] - ETA: 0s - loss: 0.5651 - accuracy: 0.7188\n",
      "Epoch 396: val_loss did not improve from 0.93503\n",
      "16/16 [==============================] - 0s 4ms/step - loss: 0.5640 - accuracy: 0.7536 - val_loss: 1.2611 - val_accuracy: 0.6230\n",
      "Epoch 397/1000\n",
      " 1/16 [>.............................] - ETA: 0s - loss: 0.5553 - accuracy: 0.7188\n",
      "Epoch 397: val_loss did not improve from 0.93503\n",
      "16/16 [==============================] - 0s 4ms/step - loss: 0.5817 - accuracy: 0.7372 - val_loss: 1.1744 - val_accuracy: 0.6475\n",
      "Epoch 398/1000\n",
      " 1/16 [>.............................] - ETA: 0s - loss: 0.4183 - accuracy: 0.8125\n",
      "Epoch 398: val_loss did not improve from 0.93503\n",
      "16/16 [==============================] - 0s 4ms/step - loss: 0.5897 - accuracy: 0.7495 - val_loss: 1.1783 - val_accuracy: 0.6557\n",
      "Epoch 399/1000\n",
      " 1/16 [>.............................] - ETA: 0s - loss: 0.4210 - accuracy: 0.7812\n",
      "Epoch 399: val_loss did not improve from 0.93503\n",
      "16/16 [==============================] - 0s 4ms/step - loss: 0.6189 - accuracy: 0.7290 - val_loss: 1.1756 - val_accuracy: 0.6393\n",
      "Epoch 400/1000\n",
      " 1/16 [>.............................] - ETA: 0s - loss: 1.4056 - accuracy: 0.5000\n",
      "Epoch 400: val_loss did not improve from 0.93503\n",
      "16/16 [==============================] - 0s 4ms/step - loss: 0.6494 - accuracy: 0.7146 - val_loss: 1.1287 - val_accuracy: 0.6803\n",
      "Epoch 401/1000\n",
      " 1/16 [>.............................] - ETA: 0s - loss: 0.5946 - accuracy: 0.7188\n",
      "Epoch 401: val_loss did not improve from 0.93503\n",
      "16/16 [==============================] - 0s 3ms/step - loss: 0.5280 - accuracy: 0.7762 - val_loss: 1.2131 - val_accuracy: 0.6475\n",
      "Epoch 402/1000\n",
      " 1/16 [>.............................] - ETA: 0s - loss: 0.4917 - accuracy: 0.7812\n",
      "Epoch 402: val_loss did not improve from 0.93503\n",
      "16/16 [==============================] - 0s 4ms/step - loss: 0.5796 - accuracy: 0.7515 - val_loss: 1.2370 - val_accuracy: 0.6230\n",
      "Epoch 403/1000\n",
      " 1/16 [>.............................] - ETA: 0s - loss: 0.9356 - accuracy: 0.5938\n",
      "Epoch 403: val_loss did not improve from 0.93503\n",
      "16/16 [==============================] - 0s 3ms/step - loss: 0.5852 - accuracy: 0.7536 - val_loss: 1.2134 - val_accuracy: 0.6639\n",
      "Epoch 404/1000\n",
      " 1/16 [>.............................] - ETA: 0s - loss: 0.5166 - accuracy: 0.8438\n",
      "Epoch 404: val_loss did not improve from 0.93503\n",
      "16/16 [==============================] - 0s 4ms/step - loss: 0.6016 - accuracy: 0.7392 - val_loss: 1.2341 - val_accuracy: 0.6475\n",
      "Epoch 405/1000\n",
      " 1/16 [>.............................] - ETA: 0s - loss: 0.4824 - accuracy: 0.8125\n",
      "Epoch 405: val_loss did not improve from 0.93503\n",
      "16/16 [==============================] - 0s 4ms/step - loss: 0.5673 - accuracy: 0.7474 - val_loss: 1.2793 - val_accuracy: 0.6393\n",
      "Epoch 406/1000\n",
      " 1/16 [>.............................] - ETA: 0s - loss: 0.5878 - accuracy: 0.6875\n",
      "Epoch 406: val_loss did not improve from 0.93503\n",
      "16/16 [==============================] - 0s 4ms/step - loss: 0.5895 - accuracy: 0.7433 - val_loss: 1.2011 - val_accuracy: 0.6721\n",
      "Epoch 407/1000\n",
      " 1/16 [>.............................] - ETA: 0s - loss: 0.6024 - accuracy: 0.7500\n",
      "Epoch 407: val_loss did not improve from 0.93503\n",
      "16/16 [==============================] - 0s 4ms/step - loss: 0.6100 - accuracy: 0.7392 - val_loss: 1.2363 - val_accuracy: 0.6393\n",
      "Epoch 408/1000\n",
      " 1/16 [>.............................] - ETA: 0s - loss: 0.3953 - accuracy: 0.8750\n",
      "Epoch 408: val_loss did not improve from 0.93503\n",
      "16/16 [==============================] - 0s 3ms/step - loss: 0.6610 - accuracy: 0.7105 - val_loss: 1.2532 - val_accuracy: 0.6148\n",
      "Epoch 409/1000\n",
      " 1/16 [>.............................] - ETA: 0s - loss: 0.7997 - accuracy: 0.5938\n",
      "Epoch 409: val_loss did not improve from 0.93503\n",
      "16/16 [==============================] - 0s 3ms/step - loss: 0.6783 - accuracy: 0.6858 - val_loss: 1.1388 - val_accuracy: 0.6393\n",
      "Epoch 410/1000\n",
      " 1/16 [>.............................] - ETA: 0s - loss: 0.6682 - accuracy: 0.6250\n",
      "Epoch 410: val_loss did not improve from 0.93503\n",
      "16/16 [==============================] - 0s 4ms/step - loss: 0.6498 - accuracy: 0.7064 - val_loss: 1.1579 - val_accuracy: 0.6557\n",
      "Epoch 411/1000\n",
      " 1/16 [>.............................] - ETA: 0s - loss: 0.6210 - accuracy: 0.6562\n",
      "Epoch 411: val_loss did not improve from 0.93503\n",
      "16/16 [==============================] - 0s 3ms/step - loss: 0.5957 - accuracy: 0.7392 - val_loss: 1.1449 - val_accuracy: 0.6557\n",
      "Epoch 412/1000\n",
      " 1/16 [>.............................] - ETA: 0s - loss: 0.6171 - accuracy: 0.6875\n",
      "Epoch 412: val_loss did not improve from 0.93503\n",
      "16/16 [==============================] - 0s 4ms/step - loss: 0.6101 - accuracy: 0.7269 - val_loss: 1.1969 - val_accuracy: 0.6230\n",
      "Epoch 413/1000\n",
      " 1/16 [>.............................] - ETA: 0s - loss: 0.7341 - accuracy: 0.7812\n",
      "Epoch 413: val_loss did not improve from 0.93503\n",
      "16/16 [==============================] - 0s 4ms/step - loss: 0.6294 - accuracy: 0.7372 - val_loss: 1.2310 - val_accuracy: 0.6393\n",
      "Epoch 414/1000\n",
      " 1/16 [>.............................] - ETA: 0s - loss: 0.6844 - accuracy: 0.7188\n",
      "Epoch 414: val_loss did not improve from 0.93503\n",
      "16/16 [==============================] - 0s 4ms/step - loss: 0.6071 - accuracy: 0.7392 - val_loss: 1.2991 - val_accuracy: 0.6230\n",
      "Epoch 415/1000\n",
      " 1/16 [>.............................] - ETA: 0s - loss: 0.5543 - accuracy: 0.7500\n",
      "Epoch 415: val_loss did not improve from 0.93503\n",
      "16/16 [==============================] - 0s 4ms/step - loss: 0.6813 - accuracy: 0.7146 - val_loss: 1.1491 - val_accuracy: 0.6230\n",
      "Epoch 416/1000\n",
      " 1/16 [>.............................] - ETA: 0s - loss: 0.7578 - accuracy: 0.6562\n",
      "Epoch 416: val_loss did not improve from 0.93503\n",
      "16/16 [==============================] - 0s 4ms/step - loss: 0.6351 - accuracy: 0.7248 - val_loss: 1.1840 - val_accuracy: 0.6557\n",
      "Epoch 417/1000\n",
      " 1/16 [>.............................] - ETA: 0s - loss: 0.7794 - accuracy: 0.6875\n",
      "Epoch 417: val_loss did not improve from 0.93503\n",
      "16/16 [==============================] - 0s 4ms/step - loss: 0.6407 - accuracy: 0.7392 - val_loss: 1.1803 - val_accuracy: 0.6475\n",
      "Epoch 418/1000\n",
      " 1/16 [>.............................] - ETA: 0s - loss: 0.6240 - accuracy: 0.6562\n",
      "Epoch 418: val_loss did not improve from 0.93503\n",
      "16/16 [==============================] - 0s 4ms/step - loss: 0.6508 - accuracy: 0.7248 - val_loss: 1.2804 - val_accuracy: 0.6148\n",
      "Epoch 419/1000\n",
      " 1/16 [>.............................] - ETA: 0s - loss: 0.7159 - accuracy: 0.6875\n",
      "Epoch 419: val_loss did not improve from 0.93503\n",
      "16/16 [==============================] - 0s 4ms/step - loss: 0.6317 - accuracy: 0.7351 - val_loss: 1.2038 - val_accuracy: 0.6557\n",
      "Epoch 420/1000\n",
      " 1/16 [>.............................] - ETA: 0s - loss: 0.7205 - accuracy: 0.6562\n",
      "Epoch 420: val_loss did not improve from 0.93503\n",
      "16/16 [==============================] - 0s 4ms/step - loss: 0.6288 - accuracy: 0.7495 - val_loss: 1.2137 - val_accuracy: 0.6393\n",
      "Epoch 421/1000\n",
      " 1/16 [>.............................] - ETA: 0s - loss: 0.6212 - accuracy: 0.6875\n",
      "Epoch 421: val_loss did not improve from 0.93503\n",
      "16/16 [==============================] - 0s 4ms/step - loss: 0.5759 - accuracy: 0.7782 - val_loss: 1.2365 - val_accuracy: 0.6311\n",
      "Epoch 422/1000\n",
      " 1/16 [>.............................] - ETA: 0s - loss: 0.7044 - accuracy: 0.6562\n",
      "Epoch 422: val_loss did not improve from 0.93503\n",
      "16/16 [==============================] - 0s 4ms/step - loss: 0.6184 - accuracy: 0.7331 - val_loss: 1.2245 - val_accuracy: 0.6475\n",
      "Epoch 423/1000\n",
      " 1/16 [>.............................] - ETA: 0s - loss: 0.4795 - accuracy: 0.7500\n",
      "Epoch 423: val_loss did not improve from 0.93503\n",
      "16/16 [==============================] - 0s 4ms/step - loss: 0.6257 - accuracy: 0.7433 - val_loss: 1.2307 - val_accuracy: 0.6557\n",
      "Epoch 424/1000\n",
      " 1/16 [>.............................] - ETA: 0s - loss: 0.6132 - accuracy: 0.7188\n",
      "Epoch 424: val_loss did not improve from 0.93503\n",
      "16/16 [==============================] - 0s 3ms/step - loss: 0.6030 - accuracy: 0.7392 - val_loss: 1.2339 - val_accuracy: 0.6311\n",
      "Epoch 425/1000\n",
      " 1/16 [>.............................] - ETA: 0s - loss: 0.4899 - accuracy: 0.7812\n",
      "Epoch 425: val_loss did not improve from 0.93503\n",
      "16/16 [==============================] - 0s 3ms/step - loss: 0.6063 - accuracy: 0.7577 - val_loss: 1.2051 - val_accuracy: 0.6393\n",
      "Epoch 426/1000\n",
      " 1/16 [>.............................] - ETA: 0s - loss: 0.3760 - accuracy: 0.8750\n",
      "Epoch 426: val_loss did not improve from 0.93503\n",
      "16/16 [==============================] - 0s 3ms/step - loss: 0.5913 - accuracy: 0.7372 - val_loss: 1.1957 - val_accuracy: 0.6311\n",
      "Epoch 427/1000\n",
      " 1/16 [>.............................] - ETA: 0s - loss: 0.5605 - accuracy: 0.8125\n",
      "Epoch 427: val_loss did not improve from 0.93503\n",
      "16/16 [==============================] - 0s 4ms/step - loss: 0.5833 - accuracy: 0.7598 - val_loss: 1.2251 - val_accuracy: 0.6557\n",
      "Epoch 428/1000\n",
      " 1/16 [>.............................] - ETA: 0s - loss: 0.4620 - accuracy: 0.8438\n",
      "Epoch 428: val_loss did not improve from 0.93503\n",
      "16/16 [==============================] - 0s 4ms/step - loss: 0.5651 - accuracy: 0.7659 - val_loss: 1.1662 - val_accuracy: 0.6557\n",
      "Epoch 429/1000\n",
      " 1/16 [>.............................] - ETA: 0s - loss: 0.6017 - accuracy: 0.7500\n",
      "Epoch 429: val_loss did not improve from 0.93503\n",
      "16/16 [==============================] - 0s 4ms/step - loss: 0.5520 - accuracy: 0.7515 - val_loss: 1.1218 - val_accuracy: 0.6393\n",
      "Epoch 430/1000\n",
      " 1/16 [>.............................] - ETA: 0s - loss: 0.4283 - accuracy: 0.7500\n",
      "Epoch 430: val_loss did not improve from 0.93503\n",
      "16/16 [==============================] - 0s 4ms/step - loss: 0.6012 - accuracy: 0.7146 - val_loss: 1.2035 - val_accuracy: 0.6311\n",
      "Epoch 431/1000\n",
      " 1/16 [>.............................] - ETA: 0s - loss: 0.6022 - accuracy: 0.8438\n",
      "Epoch 431: val_loss did not improve from 0.93503\n",
      "16/16 [==============================] - 0s 4ms/step - loss: 0.5303 - accuracy: 0.7803 - val_loss: 1.2845 - val_accuracy: 0.6393\n",
      "Epoch 432/1000\n",
      " 1/16 [>.............................] - ETA: 0s - loss: 0.5416 - accuracy: 0.7188\n",
      "Epoch 432: val_loss did not improve from 0.93503\n",
      "16/16 [==============================] - 0s 4ms/step - loss: 0.5679 - accuracy: 0.7454 - val_loss: 1.3325 - val_accuracy: 0.6230\n",
      "Epoch 433/1000\n",
      " 1/16 [>.............................] - ETA: 0s - loss: 1.0285 - accuracy: 0.8125\n",
      "Epoch 433: val_loss did not improve from 0.93503\n",
      "16/16 [==============================] - 0s 4ms/step - loss: 0.6458 - accuracy: 0.7515 - val_loss: 1.1953 - val_accuracy: 0.6311\n",
      "Epoch 434/1000\n",
      " 1/16 [>.............................] - ETA: 0s - loss: 0.5560 - accuracy: 0.7188\n",
      "Epoch 434: val_loss did not improve from 0.93503\n",
      "16/16 [==============================] - 0s 4ms/step - loss: 0.5809 - accuracy: 0.7598 - val_loss: 1.1653 - val_accuracy: 0.6557\n",
      "Epoch 435/1000\n",
      " 1/16 [>.............................] - ETA: 0s - loss: 0.4437 - accuracy: 0.8125\n",
      "Epoch 435: val_loss did not improve from 0.93503\n",
      "16/16 [==============================] - 0s 4ms/step - loss: 0.5784 - accuracy: 0.7351 - val_loss: 1.1956 - val_accuracy: 0.6066\n",
      "Epoch 436/1000\n",
      " 1/16 [>.............................] - ETA: 0s - loss: 0.6361 - accuracy: 0.6875\n",
      "Epoch 436: val_loss did not improve from 0.93503\n",
      "16/16 [==============================] - 0s 4ms/step - loss: 0.6344 - accuracy: 0.7495 - val_loss: 1.2907 - val_accuracy: 0.6557\n",
      "Epoch 437/1000\n",
      " 1/16 [>.............................] - ETA: 0s - loss: 0.5409 - accuracy: 0.8125\n",
      "Epoch 437: val_loss did not improve from 0.93503\n",
      "16/16 [==============================] - 0s 4ms/step - loss: 0.6374 - accuracy: 0.7248 - val_loss: 1.2193 - val_accuracy: 0.6393\n",
      "Epoch 438/1000\n",
      " 1/16 [>.............................] - ETA: 0s - loss: 0.8026 - accuracy: 0.6875\n",
      "Epoch 438: val_loss did not improve from 0.93503\n",
      "16/16 [==============================] - 0s 3ms/step - loss: 0.6404 - accuracy: 0.7372 - val_loss: 1.2788 - val_accuracy: 0.6393\n",
      "Epoch 439/1000\n",
      " 1/16 [>.............................] - ETA: 0s - loss: 0.6855 - accuracy: 0.6562\n",
      "Epoch 439: val_loss did not improve from 0.93503\n",
      "16/16 [==============================] - 0s 3ms/step - loss: 0.5993 - accuracy: 0.7207 - val_loss: 1.1647 - val_accuracy: 0.6230\n",
      "Epoch 440/1000\n",
      " 1/16 [>.............................] - ETA: 0s - loss: 0.5067 - accuracy: 0.6875\n",
      "Epoch 440: val_loss did not improve from 0.93503\n",
      "16/16 [==============================] - 0s 4ms/step - loss: 0.5753 - accuracy: 0.7207 - val_loss: 1.2112 - val_accuracy: 0.6311\n",
      "Epoch 441/1000\n",
      " 1/16 [>.............................] - ETA: 0s - loss: 0.7483 - accuracy: 0.6562\n",
      "Epoch 441: val_loss did not improve from 0.93503\n",
      "16/16 [==============================] - 0s 4ms/step - loss: 0.6799 - accuracy: 0.7043 - val_loss: 1.2343 - val_accuracy: 0.6148\n",
      "Epoch 442/1000\n",
      " 1/16 [>.............................] - ETA: 0s - loss: 0.6364 - accuracy: 0.7188\n",
      "Epoch 442: val_loss did not improve from 0.93503\n",
      "16/16 [==============================] - 0s 4ms/step - loss: 0.5790 - accuracy: 0.7413 - val_loss: 1.2481 - val_accuracy: 0.6311\n",
      "Epoch 443/1000\n",
      " 1/16 [>.............................] - ETA: 0s - loss: 0.4895 - accuracy: 0.7812\n",
      "Epoch 443: val_loss did not improve from 0.93503\n",
      "16/16 [==============================] - 0s 4ms/step - loss: 0.5959 - accuracy: 0.7372 - val_loss: 1.1437 - val_accuracy: 0.6311\n",
      "Epoch 444/1000\n",
      " 1/16 [>.............................] - ETA: 0s - loss: 0.5423 - accuracy: 0.7188\n",
      "Epoch 444: val_loss did not improve from 0.93503\n",
      "16/16 [==============================] - 0s 4ms/step - loss: 0.6190 - accuracy: 0.7207 - val_loss: 1.2319 - val_accuracy: 0.6311\n",
      "Epoch 445/1000\n",
      " 1/16 [>.............................] - ETA: 0s - loss: 0.5885 - accuracy: 0.6875\n",
      "Epoch 445: val_loss did not improve from 0.93503\n",
      "16/16 [==============================] - 0s 4ms/step - loss: 0.5439 - accuracy: 0.7721 - val_loss: 1.1665 - val_accuracy: 0.6557\n",
      "Epoch 446/1000\n",
      " 1/16 [>.............................] - ETA: 0s - loss: 0.4317 - accuracy: 0.6875\n",
      "Epoch 446: val_loss did not improve from 0.93503\n",
      "16/16 [==============================] - 0s 4ms/step - loss: 0.5677 - accuracy: 0.7515 - val_loss: 1.3381 - val_accuracy: 0.6557\n",
      "Epoch 447/1000\n",
      " 1/16 [>.............................] - ETA: 0s - loss: 1.0323 - accuracy: 0.7188\n",
      "Epoch 447: val_loss did not improve from 0.93503\n",
      "16/16 [==============================] - 0s 4ms/step - loss: 0.6136 - accuracy: 0.7454 - val_loss: 1.2101 - val_accuracy: 0.6393\n",
      "Epoch 448/1000\n",
      " 1/16 [>.............................] - ETA: 0s - loss: 0.4898 - accuracy: 0.8750\n",
      "Epoch 448: val_loss did not improve from 0.93503\n",
      "16/16 [==============================] - 0s 4ms/step - loss: 0.6075 - accuracy: 0.7392 - val_loss: 1.3095 - val_accuracy: 0.6639\n",
      "Epoch 449/1000\n",
      " 1/16 [>.............................] - ETA: 0s - loss: 0.5179 - accuracy: 0.6875\n",
      "Epoch 449: val_loss did not improve from 0.93503\n",
      "16/16 [==============================] - 0s 4ms/step - loss: 0.6182 - accuracy: 0.7495 - val_loss: 1.1864 - val_accuracy: 0.6311\n",
      "Epoch 450/1000\n",
      " 1/16 [>.............................] - ETA: 0s - loss: 0.5046 - accuracy: 0.8438\n",
      "Epoch 450: val_loss did not improve from 0.93503\n",
      "16/16 [==============================] - 0s 4ms/step - loss: 0.6317 - accuracy: 0.7269 - val_loss: 1.0582 - val_accuracy: 0.6557\n",
      "Epoch 451/1000\n",
      " 1/16 [>.............................] - ETA: 0s - loss: 0.6802 - accuracy: 0.8125\n",
      "Epoch 451: val_loss did not improve from 0.93503\n",
      "16/16 [==============================] - 0s 4ms/step - loss: 0.6184 - accuracy: 0.7659 - val_loss: 1.0641 - val_accuracy: 0.6393\n",
      "Epoch 452/1000\n",
      " 1/16 [>.............................] - ETA: 0s - loss: 0.7210 - accuracy: 0.6875\n",
      "Epoch 452: val_loss did not improve from 0.93503\n",
      "16/16 [==============================] - 0s 4ms/step - loss: 0.6249 - accuracy: 0.7372 - val_loss: 1.1024 - val_accuracy: 0.6148\n",
      "Epoch 453/1000\n",
      " 1/16 [>.............................] - ETA: 0s - loss: 0.3723 - accuracy: 0.8750\n",
      "Epoch 453: val_loss did not improve from 0.93503\n",
      "16/16 [==============================] - 0s 3ms/step - loss: 0.5998 - accuracy: 0.7454 - val_loss: 1.1424 - val_accuracy: 0.6311\n",
      "Epoch 454/1000\n",
      " 1/16 [>.............................] - ETA: 0s - loss: 0.6000 - accuracy: 0.7500\n",
      "Epoch 454: val_loss did not improve from 0.93503\n",
      "16/16 [==============================] - 0s 4ms/step - loss: 0.5830 - accuracy: 0.7700 - val_loss: 1.1291 - val_accuracy: 0.6803\n",
      "Epoch 455/1000\n",
      " 1/16 [>.............................] - ETA: 0s - loss: 0.6061 - accuracy: 0.7188\n",
      "Epoch 455: val_loss did not improve from 0.93503\n",
      "16/16 [==============================] - 0s 4ms/step - loss: 0.6036 - accuracy: 0.7351 - val_loss: 1.1485 - val_accuracy: 0.6639\n",
      "Epoch 456/1000\n",
      " 1/16 [>.............................] - ETA: 0s - loss: 0.6585 - accuracy: 0.7500\n",
      "Epoch 456: val_loss did not improve from 0.93503\n",
      "16/16 [==============================] - 0s 4ms/step - loss: 0.5794 - accuracy: 0.7762 - val_loss: 1.2003 - val_accuracy: 0.6393\n",
      "Epoch 457/1000\n",
      " 1/16 [>.............................] - ETA: 0s - loss: 0.4817 - accuracy: 0.8125\n",
      "Epoch 457: val_loss did not improve from 0.93503\n",
      "16/16 [==============================] - 0s 4ms/step - loss: 0.5881 - accuracy: 0.7536 - val_loss: 1.3103 - val_accuracy: 0.6311\n",
      "Epoch 458/1000\n",
      " 1/16 [>.............................] - ETA: 0s - loss: 1.2458 - accuracy: 0.6250\n",
      "Epoch 458: val_loss did not improve from 0.93503\n",
      "16/16 [==============================] - 0s 4ms/step - loss: 0.5869 - accuracy: 0.7454 - val_loss: 1.1909 - val_accuracy: 0.6721\n",
      "Epoch 459/1000\n",
      " 1/16 [>.............................] - ETA: 0s - loss: 0.7153 - accuracy: 0.7500\n",
      "Epoch 459: val_loss did not improve from 0.93503\n",
      "16/16 [==============================] - 0s 4ms/step - loss: 0.5954 - accuracy: 0.7536 - val_loss: 1.1947 - val_accuracy: 0.6475\n",
      "Epoch 460/1000\n",
      " 1/16 [>.............................] - ETA: 0s - loss: 0.4264 - accuracy: 0.8438\n",
      "Epoch 460: val_loss did not improve from 0.93503\n",
      "16/16 [==============================] - 0s 4ms/step - loss: 0.6089 - accuracy: 0.7618 - val_loss: 1.1554 - val_accuracy: 0.6639\n",
      "Epoch 461/1000\n",
      " 1/16 [>.............................] - ETA: 0s - loss: 0.6674 - accuracy: 0.7500\n",
      "Epoch 461: val_loss did not improve from 0.93503\n",
      "16/16 [==============================] - 0s 4ms/step - loss: 0.6215 - accuracy: 0.7454 - val_loss: 1.1462 - val_accuracy: 0.6230\n",
      "Epoch 462/1000\n",
      " 1/16 [>.............................] - ETA: 0s - loss: 0.7022 - accuracy: 0.7188\n",
      "Epoch 462: val_loss did not improve from 0.93503\n",
      "16/16 [==============================] - 0s 4ms/step - loss: 0.6463 - accuracy: 0.7207 - val_loss: 1.1649 - val_accuracy: 0.6311\n",
      "Epoch 463/1000\n",
      " 1/16 [>.............................] - ETA: 0s - loss: 0.7237 - accuracy: 0.6875\n",
      "Epoch 463: val_loss did not improve from 0.93503\n",
      "16/16 [==============================] - 0s 4ms/step - loss: 0.6533 - accuracy: 0.7310 - val_loss: 1.1615 - val_accuracy: 0.6393\n",
      "Epoch 464/1000\n",
      " 1/16 [>.............................] - ETA: 0s - loss: 0.6765 - accuracy: 0.5938\n",
      "Epoch 464: val_loss did not improve from 0.93503\n",
      "16/16 [==============================] - 0s 4ms/step - loss: 0.5777 - accuracy: 0.7207 - val_loss: 1.2724 - val_accuracy: 0.6393\n",
      "Epoch 465/1000\n",
      " 1/16 [>.............................] - ETA: 0s - loss: 0.7950 - accuracy: 0.5938\n",
      "Epoch 465: val_loss did not improve from 0.93503\n",
      "16/16 [==============================] - 0s 4ms/step - loss: 0.5466 - accuracy: 0.7598 - val_loss: 1.2138 - val_accuracy: 0.6311\n",
      "Epoch 466/1000\n",
      " 1/16 [>.............................] - ETA: 0s - loss: 0.6111 - accuracy: 0.6875\n",
      "Epoch 466: val_loss did not improve from 0.93503\n",
      "16/16 [==============================] - 0s 3ms/step - loss: 0.5429 - accuracy: 0.7515 - val_loss: 1.2959 - val_accuracy: 0.6475\n",
      "Epoch 467/1000\n",
      " 1/16 [>.............................] - ETA: 0s - loss: 0.6493 - accuracy: 0.8125\n",
      "Epoch 467: val_loss did not improve from 0.93503\n",
      "16/16 [==============================] - 0s 4ms/step - loss: 0.6166 - accuracy: 0.7598 - val_loss: 1.2219 - val_accuracy: 0.6557\n",
      "Epoch 468/1000\n",
      " 1/16 [>.............................] - ETA: 0s - loss: 0.5008 - accuracy: 0.7812\n",
      "Epoch 468: val_loss did not improve from 0.93503\n",
      "16/16 [==============================] - 0s 4ms/step - loss: 0.6177 - accuracy: 0.7556 - val_loss: 1.2291 - val_accuracy: 0.6557\n",
      "Epoch 469/1000\n",
      " 1/16 [>.............................] - ETA: 0s - loss: 1.0656 - accuracy: 0.6562\n",
      "Epoch 469: val_loss did not improve from 0.93503\n",
      "16/16 [==============================] - 0s 4ms/step - loss: 0.6248 - accuracy: 0.7392 - val_loss: 1.2194 - val_accuracy: 0.6311\n",
      "Epoch 470/1000\n",
      " 1/16 [>.............................] - ETA: 0s - loss: 0.3476 - accuracy: 0.8438\n",
      "Epoch 470: val_loss did not improve from 0.93503\n",
      "16/16 [==============================] - 0s 4ms/step - loss: 0.5874 - accuracy: 0.7351 - val_loss: 1.2273 - val_accuracy: 0.6393\n",
      "Epoch 471/1000\n",
      " 1/16 [>.............................] - ETA: 0s - loss: 0.6014 - accuracy: 0.7500\n",
      "Epoch 471: val_loss did not improve from 0.93503\n",
      "16/16 [==============================] - 0s 4ms/step - loss: 0.5825 - accuracy: 0.7618 - val_loss: 1.1635 - val_accuracy: 0.6311\n",
      "Epoch 472/1000\n",
      " 1/16 [>.............................] - ETA: 0s - loss: 0.7485 - accuracy: 0.6875\n",
      "Epoch 472: val_loss did not improve from 0.93503\n",
      "16/16 [==============================] - 0s 4ms/step - loss: 0.5801 - accuracy: 0.7515 - val_loss: 1.2611 - val_accuracy: 0.6311\n",
      "Epoch 473/1000\n",
      " 1/16 [>.............................] - ETA: 0s - loss: 0.6073 - accuracy: 0.6562\n",
      "Epoch 473: val_loss did not improve from 0.93503\n",
      "16/16 [==============================] - 0s 4ms/step - loss: 0.5554 - accuracy: 0.7495 - val_loss: 1.1708 - val_accuracy: 0.6311\n",
      "Epoch 474/1000\n",
      " 1/16 [>.............................] - ETA: 0s - loss: 0.3793 - accuracy: 0.8438\n",
      "Epoch 474: val_loss did not improve from 0.93503\n",
      "16/16 [==============================] - 0s 4ms/step - loss: 0.5409 - accuracy: 0.7721 - val_loss: 1.2393 - val_accuracy: 0.6311\n",
      "Epoch 475/1000\n",
      " 1/16 [>.............................] - ETA: 0s - loss: 0.6364 - accuracy: 0.7188\n",
      "Epoch 475: val_loss did not improve from 0.93503\n",
      "16/16 [==============================] - 0s 4ms/step - loss: 0.5564 - accuracy: 0.7639 - val_loss: 1.2530 - val_accuracy: 0.6639\n",
      "Epoch 476/1000\n",
      " 1/16 [>.............................] - ETA: 0s - loss: 0.6467 - accuracy: 0.6875\n",
      "Epoch 476: val_loss did not improve from 0.93503\n",
      "16/16 [==============================] - 0s 4ms/step - loss: 0.5415 - accuracy: 0.7495 - val_loss: 1.2243 - val_accuracy: 0.6557\n",
      "Epoch 477/1000\n",
      " 1/16 [>.............................] - ETA: 0s - loss: 0.3720 - accuracy: 0.8438\n",
      "Epoch 477: val_loss did not improve from 0.93503\n",
      "16/16 [==============================] - 0s 4ms/step - loss: 0.5539 - accuracy: 0.7659 - val_loss: 1.2781 - val_accuracy: 0.6311\n",
      "Epoch 478/1000\n",
      " 1/16 [>.............................] - ETA: 0s - loss: 0.6124 - accuracy: 0.7188\n",
      "Epoch 478: val_loss did not improve from 0.93503\n",
      "16/16 [==============================] - 0s 4ms/step - loss: 0.5444 - accuracy: 0.7618 - val_loss: 1.2765 - val_accuracy: 0.6393\n",
      "Epoch 479/1000\n",
      " 1/16 [>.............................] - ETA: 0s - loss: 0.6069 - accuracy: 0.8438\n",
      "Epoch 479: val_loss did not improve from 0.93503\n",
      "16/16 [==============================] - 0s 4ms/step - loss: 0.5649 - accuracy: 0.7680 - val_loss: 1.2358 - val_accuracy: 0.6393\n",
      "Epoch 480/1000\n",
      " 1/16 [>.............................] - ETA: 0s - loss: 0.7828 - accuracy: 0.6250\n",
      "Epoch 480: val_loss did not improve from 0.93503\n",
      "16/16 [==============================] - 0s 3ms/step - loss: 0.5998 - accuracy: 0.7290 - val_loss: 1.1615 - val_accuracy: 0.6230\n",
      "Epoch 481/1000\n",
      " 1/16 [>.............................] - ETA: 0s - loss: 0.7436 - accuracy: 0.7500\n",
      "Epoch 481: val_loss did not improve from 0.93503\n",
      "16/16 [==============================] - 0s 4ms/step - loss: 0.5568 - accuracy: 0.7536 - val_loss: 1.3075 - val_accuracy: 0.6148\n",
      "Epoch 482/1000\n",
      " 1/16 [>.............................] - ETA: 0s - loss: 0.5842 - accuracy: 0.7500\n",
      "Epoch 482: val_loss did not improve from 0.93503\n",
      "16/16 [==============================] - 0s 4ms/step - loss: 0.5497 - accuracy: 0.7556 - val_loss: 1.2718 - val_accuracy: 0.6475\n",
      "Epoch 483/1000\n",
      " 1/16 [>.............................] - ETA: 0s - loss: 0.7599 - accuracy: 0.8750\n",
      "Epoch 483: val_loss did not improve from 0.93503\n",
      "16/16 [==============================] - 0s 4ms/step - loss: 0.5798 - accuracy: 0.7577 - val_loss: 1.2261 - val_accuracy: 0.6475\n",
      "Epoch 484/1000\n",
      " 1/16 [>.............................] - ETA: 0s - loss: 0.4210 - accuracy: 0.8438\n",
      "Epoch 484: val_loss did not improve from 0.93503\n",
      "16/16 [==============================] - 0s 4ms/step - loss: 0.6041 - accuracy: 0.7433 - val_loss: 1.3130 - val_accuracy: 0.6393\n",
      "Epoch 485/1000\n",
      " 1/16 [>.............................] - ETA: 0s - loss: 0.5548 - accuracy: 0.7500\n",
      "Epoch 485: val_loss did not improve from 0.93503\n",
      "16/16 [==============================] - 0s 4ms/step - loss: 0.6466 - accuracy: 0.7187 - val_loss: 1.0970 - val_accuracy: 0.6557\n",
      "Epoch 486/1000\n",
      " 1/16 [>.............................] - ETA: 0s - loss: 0.5987 - accuracy: 0.7188\n",
      "Epoch 486: val_loss did not improve from 0.93503\n",
      "16/16 [==============================] - 0s 4ms/step - loss: 0.6457 - accuracy: 0.7269 - val_loss: 1.0555 - val_accuracy: 0.6311\n",
      "Epoch 487/1000\n",
      " 1/16 [>.............................] - ETA: 0s - loss: 0.5113 - accuracy: 0.8125\n",
      "Epoch 487: val_loss did not improve from 0.93503\n",
      "16/16 [==============================] - 0s 4ms/step - loss: 0.6622 - accuracy: 0.7372 - val_loss: 1.0696 - val_accuracy: 0.6230\n",
      "Epoch 488/1000\n",
      " 1/16 [>.............................] - ETA: 0s - loss: 0.5303 - accuracy: 0.6875\n",
      "Epoch 488: val_loss did not improve from 0.93503\n",
      "16/16 [==============================] - 0s 4ms/step - loss: 0.7028 - accuracy: 0.7105 - val_loss: 1.0623 - val_accuracy: 0.6475\n",
      "Epoch 489/1000\n",
      " 1/16 [>.............................] - ETA: 0s - loss: 0.7299 - accuracy: 0.7500\n",
      "Epoch 489: val_loss did not improve from 0.93503\n",
      "16/16 [==============================] - 0s 4ms/step - loss: 0.6981 - accuracy: 0.7002 - val_loss: 1.0265 - val_accuracy: 0.6639\n",
      "Epoch 490/1000\n",
      " 1/16 [>.............................] - ETA: 0s - loss: 0.3858 - accuracy: 0.7500\n",
      "Epoch 490: val_loss did not improve from 0.93503\n",
      "16/16 [==============================] - 0s 4ms/step - loss: 0.5950 - accuracy: 0.7413 - val_loss: 1.0988 - val_accuracy: 0.6557\n",
      "Epoch 491/1000\n",
      " 1/16 [>.............................] - ETA: 0s - loss: 0.5838 - accuracy: 0.7812\n",
      "Epoch 491: val_loss did not improve from 0.93503\n",
      "16/16 [==============================] - 0s 4ms/step - loss: 0.5673 - accuracy: 0.7577 - val_loss: 1.1048 - val_accuracy: 0.6148\n",
      "Epoch 492/1000\n",
      " 1/16 [>.............................] - ETA: 0s - loss: 0.6447 - accuracy: 0.7500\n",
      "Epoch 492: val_loss did not improve from 0.93503\n",
      "16/16 [==============================] - 0s 4ms/step - loss: 0.6028 - accuracy: 0.7495 - val_loss: 1.0916 - val_accuracy: 0.6148\n",
      "Epoch 493/1000\n",
      " 1/16 [>.............................] - ETA: 0s - loss: 0.4698 - accuracy: 0.7188\n",
      "Epoch 493: val_loss did not improve from 0.93503\n",
      "16/16 [==============================] - 0s 3ms/step - loss: 0.5878 - accuracy: 0.7577 - val_loss: 1.1175 - val_accuracy: 0.6639\n",
      "Epoch 494/1000\n",
      " 1/16 [>.............................] - ETA: 0s - loss: 0.7334 - accuracy: 0.7188\n",
      "Epoch 494: val_loss did not improve from 0.93503\n",
      "16/16 [==============================] - 0s 4ms/step - loss: 0.5902 - accuracy: 0.7598 - val_loss: 1.1161 - val_accuracy: 0.6393\n",
      "Epoch 495/1000\n",
      " 1/16 [>.............................] - ETA: 0s - loss: 0.5259 - accuracy: 0.8125\n",
      "Epoch 495: val_loss did not improve from 0.93503\n",
      "16/16 [==============================] - 0s 4ms/step - loss: 0.6375 - accuracy: 0.7228 - val_loss: 1.0861 - val_accuracy: 0.6475\n",
      "Epoch 496/1000\n",
      " 1/16 [>.............................] - ETA: 0s - loss: 0.6536 - accuracy: 0.7188\n",
      "Epoch 496: val_loss did not improve from 0.93503\n",
      "16/16 [==============================] - 0s 3ms/step - loss: 0.6028 - accuracy: 0.7228 - val_loss: 1.1775 - val_accuracy: 0.6066\n",
      "Epoch 497/1000\n",
      " 1/16 [>.............................] - ETA: 0s - loss: 0.7000 - accuracy: 0.6875\n",
      "Epoch 497: val_loss did not improve from 0.93503\n",
      "16/16 [==============================] - 0s 4ms/step - loss: 0.5448 - accuracy: 0.7495 - val_loss: 1.1858 - val_accuracy: 0.6557\n",
      "Epoch 498/1000\n",
      " 1/16 [>.............................] - ETA: 0s - loss: 0.6067 - accuracy: 0.7500\n",
      "Epoch 498: val_loss did not improve from 0.93503\n",
      "16/16 [==============================] - 0s 5ms/step - loss: 0.6019 - accuracy: 0.7290 - val_loss: 1.1012 - val_accuracy: 0.6393\n",
      "Epoch 499/1000\n",
      " 1/16 [>.............................] - ETA: 0s - loss: 0.5627 - accuracy: 0.7188\n",
      "Epoch 499: val_loss did not improve from 0.93503\n",
      "16/16 [==============================] - 0s 4ms/step - loss: 0.6034 - accuracy: 0.7187 - val_loss: 1.1239 - val_accuracy: 0.6721\n",
      "Epoch 500/1000\n",
      " 1/16 [>.............................] - ETA: 0s - loss: 0.6943 - accuracy: 0.7500\n",
      "Epoch 500: val_loss did not improve from 0.93503\n",
      "16/16 [==============================] - 0s 4ms/step - loss: 0.6332 - accuracy: 0.7331 - val_loss: 1.1943 - val_accuracy: 0.6475\n",
      "Epoch 501/1000\n",
      " 1/16 [>.............................] - ETA: 0s - loss: 0.5391 - accuracy: 0.8125\n",
      "Epoch 501: val_loss did not improve from 0.93503\n",
      "16/16 [==============================] - 0s 4ms/step - loss: 0.5817 - accuracy: 0.7536 - val_loss: 1.1190 - val_accuracy: 0.6148\n",
      "Epoch 502/1000\n",
      " 1/16 [>.............................] - ETA: 0s - loss: 0.7593 - accuracy: 0.6875\n",
      "Epoch 502: val_loss did not improve from 0.93503\n",
      "16/16 [==============================] - 0s 4ms/step - loss: 0.6072 - accuracy: 0.7372 - val_loss: 1.0615 - val_accuracy: 0.6393\n",
      "Epoch 503/1000\n",
      " 1/16 [>.............................] - ETA: 0s - loss: 0.6337 - accuracy: 0.7500\n",
      "Epoch 503: val_loss did not improve from 0.93503\n",
      "16/16 [==============================] - 0s 4ms/step - loss: 0.6083 - accuracy: 0.7351 - val_loss: 1.0504 - val_accuracy: 0.6803\n",
      "Epoch 504/1000\n",
      " 1/16 [>.............................] - ETA: 0s - loss: 0.6050 - accuracy: 0.6875\n",
      "Epoch 504: val_loss did not improve from 0.93503\n",
      "16/16 [==============================] - 0s 3ms/step - loss: 0.5699 - accuracy: 0.7331 - val_loss: 1.1068 - val_accuracy: 0.6557\n",
      "Epoch 505/1000\n",
      " 1/16 [>.............................] - ETA: 0s - loss: 0.5588 - accuracy: 0.8125\n",
      "Epoch 505: val_loss did not improve from 0.93503\n",
      "16/16 [==============================] - 0s 4ms/step - loss: 0.6103 - accuracy: 0.7269 - val_loss: 1.1458 - val_accuracy: 0.6230\n",
      "Epoch 506/1000\n",
      " 1/16 [>.............................] - ETA: 0s - loss: 0.4732 - accuracy: 0.7812\n",
      "Epoch 506: val_loss did not improve from 0.93503\n",
      "16/16 [==============================] - 0s 4ms/step - loss: 0.5830 - accuracy: 0.7433 - val_loss: 1.1616 - val_accuracy: 0.6475\n",
      "Epoch 507/1000\n",
      " 1/16 [>.............................] - ETA: 0s - loss: 0.3814 - accuracy: 0.8438\n",
      "Epoch 507: val_loss did not improve from 0.93503\n",
      "16/16 [==============================] - 0s 4ms/step - loss: 0.6050 - accuracy: 0.7392 - val_loss: 1.1445 - val_accuracy: 0.6311\n",
      "Epoch 508/1000\n",
      " 1/16 [>.............................] - ETA: 0s - loss: 0.5640 - accuracy: 0.6562\n",
      "Epoch 508: val_loss did not improve from 0.93503\n",
      "16/16 [==============================] - 0s 4ms/step - loss: 0.5882 - accuracy: 0.7372 - val_loss: 1.0992 - val_accuracy: 0.6803\n",
      "Epoch 509/1000\n",
      " 1/16 [>.............................] - ETA: 0s - loss: 0.7214 - accuracy: 0.7812\n",
      "Epoch 509: val_loss did not improve from 0.93503\n",
      "16/16 [==============================] - 0s 4ms/step - loss: 0.5877 - accuracy: 0.7536 - val_loss: 1.1667 - val_accuracy: 0.6393\n",
      "Epoch 510/1000\n",
      " 1/16 [>.............................] - ETA: 0s - loss: 0.6600 - accuracy: 0.6562\n",
      "Epoch 510: val_loss did not improve from 0.93503\n",
      "16/16 [==============================] - 0s 4ms/step - loss: 0.6161 - accuracy: 0.7495 - val_loss: 1.1817 - val_accuracy: 0.6393\n",
      "Epoch 511/1000\n",
      " 1/16 [>.............................] - ETA: 0s - loss: 1.1887 - accuracy: 0.6875\n",
      "Epoch 511: val_loss did not improve from 0.93503\n",
      "16/16 [==============================] - 0s 4ms/step - loss: 0.5928 - accuracy: 0.7598 - val_loss: 1.1431 - val_accuracy: 0.6475\n",
      "Epoch 512/1000\n",
      " 1/16 [>.............................] - ETA: 0s - loss: 0.4821 - accuracy: 0.7812\n",
      "Epoch 512: val_loss did not improve from 0.93503\n",
      "16/16 [==============================] - 0s 5ms/step - loss: 0.6032 - accuracy: 0.7413 - val_loss: 1.1075 - val_accuracy: 0.6721\n",
      "Epoch 513/1000\n",
      " 1/16 [>.............................] - ETA: 0s - loss: 0.5506 - accuracy: 0.7500\n",
      "Epoch 513: val_loss did not improve from 0.93503\n",
      "16/16 [==============================] - 0s 4ms/step - loss: 0.5993 - accuracy: 0.7433 - val_loss: 1.1463 - val_accuracy: 0.6475\n",
      "Epoch 514/1000\n",
      " 1/16 [>.............................] - ETA: 0s - loss: 0.6874 - accuracy: 0.7188\n",
      "Epoch 514: val_loss did not improve from 0.93503\n",
      "16/16 [==============================] - 0s 4ms/step - loss: 0.5696 - accuracy: 0.7454 - val_loss: 1.1438 - val_accuracy: 0.6230\n",
      "Epoch 515/1000\n",
      " 1/16 [>.............................] - ETA: 0s - loss: 0.4256 - accuracy: 0.8438\n",
      "Epoch 515: val_loss did not improve from 0.93503\n",
      "16/16 [==============================] - 0s 4ms/step - loss: 0.5890 - accuracy: 0.7495 - val_loss: 1.1403 - val_accuracy: 0.6475\n",
      "Epoch 516/1000\n",
      " 1/16 [>.............................] - ETA: 0s - loss: 0.5096 - accuracy: 0.7500\n",
      "Epoch 516: val_loss did not improve from 0.93503\n",
      "16/16 [==============================] - 0s 4ms/step - loss: 0.5430 - accuracy: 0.7618 - val_loss: 1.1999 - val_accuracy: 0.6475\n",
      "Epoch 517/1000\n",
      " 1/16 [>.............................] - ETA: 0s - loss: 0.3260 - accuracy: 0.7812\n",
      "Epoch 517: val_loss did not improve from 0.93503\n",
      "16/16 [==============================] - 0s 4ms/step - loss: 0.6251 - accuracy: 0.7351 - val_loss: 1.0468 - val_accuracy: 0.6803\n",
      "Epoch 518/1000\n",
      " 1/16 [>.............................] - ETA: 0s - loss: 0.6456 - accuracy: 0.7188\n",
      "Epoch 518: val_loss did not improve from 0.93503\n",
      "16/16 [==============================] - 0s 4ms/step - loss: 0.6380 - accuracy: 0.7413 - val_loss: 1.0565 - val_accuracy: 0.6557\n",
      "Epoch 519/1000\n",
      " 1/16 [>.............................] - ETA: 0s - loss: 0.8244 - accuracy: 0.6562\n",
      "Epoch 519: val_loss did not improve from 0.93503\n",
      "16/16 [==============================] - 0s 4ms/step - loss: 0.6578 - accuracy: 0.7290 - val_loss: 1.0074 - val_accuracy: 0.6557\n",
      "Epoch 520/1000\n",
      " 1/16 [>.............................] - ETA: 0s - loss: 0.6522 - accuracy: 0.7812\n",
      "Epoch 520: val_loss did not improve from 0.93503\n",
      "16/16 [==============================] - 0s 4ms/step - loss: 0.6664 - accuracy: 0.7187 - val_loss: 1.0729 - val_accuracy: 0.6557\n",
      "Epoch 521/1000\n",
      " 1/16 [>.............................] - ETA: 0s - loss: 0.3930 - accuracy: 0.9375\n",
      "Epoch 521: val_loss did not improve from 0.93503\n",
      "16/16 [==============================] - 0s 4ms/step - loss: 0.6534 - accuracy: 0.7105 - val_loss: 0.9717 - val_accuracy: 0.6885\n",
      "Epoch 522/1000\n",
      " 1/16 [>.............................] - ETA: 0s - loss: 0.6394 - accuracy: 0.6562\n",
      "Epoch 522: val_loss did not improve from 0.93503\n",
      "16/16 [==============================] - 0s 4ms/step - loss: 0.6419 - accuracy: 0.7228 - val_loss: 0.9946 - val_accuracy: 0.6885\n",
      "Epoch 523/1000\n",
      " 1/16 [>.............................] - ETA: 0s - loss: 0.5561 - accuracy: 0.8438\n",
      "Epoch 523: val_loss did not improve from 0.93503\n",
      "16/16 [==============================] - 0s 4ms/step - loss: 0.6281 - accuracy: 0.7331 - val_loss: 1.0085 - val_accuracy: 0.6803\n",
      "Epoch 524/1000\n",
      " 1/16 [>.............................] - ETA: 0s - loss: 0.6498 - accuracy: 0.6875\n",
      "Epoch 524: val_loss did not improve from 0.93503\n",
      "16/16 [==============================] - 0s 3ms/step - loss: 0.6494 - accuracy: 0.7248 - val_loss: 1.0928 - val_accuracy: 0.6557\n",
      "Epoch 525/1000\n",
      " 1/16 [>.............................] - ETA: 0s - loss: 0.8413 - accuracy: 0.6562\n",
      "Epoch 525: val_loss did not improve from 0.93503\n",
      "16/16 [==============================] - 0s 3ms/step - loss: 0.6119 - accuracy: 0.7474 - val_loss: 1.1374 - val_accuracy: 0.6393\n",
      "Epoch 526/1000\n",
      " 1/16 [>.............................] - ETA: 0s - loss: 0.6352 - accuracy: 0.6875\n",
      "Epoch 526: val_loss did not improve from 0.93503\n",
      "16/16 [==============================] - 0s 4ms/step - loss: 0.5790 - accuracy: 0.7536 - val_loss: 1.0998 - val_accuracy: 0.6721\n",
      "Epoch 527/1000\n",
      " 1/16 [>.............................] - ETA: 0s - loss: 0.5967 - accuracy: 0.7188\n",
      "Epoch 527: val_loss did not improve from 0.93503\n",
      "16/16 [==============================] - 0s 4ms/step - loss: 0.5626 - accuracy: 0.7474 - val_loss: 1.1784 - val_accuracy: 0.6393\n",
      "Epoch 528/1000\n",
      " 1/16 [>.............................] - ETA: 0s - loss: 0.5553 - accuracy: 0.8750\n",
      "Epoch 528: val_loss did not improve from 0.93503\n",
      "16/16 [==============================] - 0s 3ms/step - loss: 0.5675 - accuracy: 0.7680 - val_loss: 1.3981 - val_accuracy: 0.5902\n",
      "Epoch 529/1000\n",
      " 1/16 [>.............................] - ETA: 0s - loss: 0.6380 - accuracy: 0.7188\n",
      "Epoch 529: val_loss did not improve from 0.93503\n",
      "16/16 [==============================] - 0s 4ms/step - loss: 0.5514 - accuracy: 0.7515 - val_loss: 1.3664 - val_accuracy: 0.5984\n",
      "Epoch 530/1000\n",
      " 1/16 [>.............................] - ETA: 0s - loss: 0.5836 - accuracy: 0.7812\n",
      "Epoch 530: val_loss did not improve from 0.93503\n",
      "16/16 [==============================] - 0s 4ms/step - loss: 0.5520 - accuracy: 0.7659 - val_loss: 1.2274 - val_accuracy: 0.6475\n",
      "Epoch 531/1000\n",
      " 1/16 [>.............................] - ETA: 0s - loss: 0.3899 - accuracy: 0.8125\n",
      "Epoch 531: val_loss did not improve from 0.93503\n",
      "16/16 [==============================] - 0s 4ms/step - loss: 0.6292 - accuracy: 0.7392 - val_loss: 1.2079 - val_accuracy: 0.6311\n",
      "Epoch 532/1000\n",
      " 1/16 [>.............................] - ETA: 0s - loss: 0.6233 - accuracy: 0.7188\n",
      "Epoch 532: val_loss did not improve from 0.93503\n",
      "16/16 [==============================] - 0s 4ms/step - loss: 0.4814 - accuracy: 0.8049 - val_loss: 1.2945 - val_accuracy: 0.5902\n",
      "Epoch 533/1000\n",
      " 1/16 [>.............................] - ETA: 0s - loss: 0.4493 - accuracy: 0.8125\n",
      "Epoch 533: val_loss did not improve from 0.93503\n",
      "16/16 [==============================] - 0s 4ms/step - loss: 0.5411 - accuracy: 0.7639 - val_loss: 1.3538 - val_accuracy: 0.6148\n",
      "Epoch 534/1000\n",
      " 1/16 [>.............................] - ETA: 0s - loss: 0.5495 - accuracy: 0.7812\n",
      "Epoch 534: val_loss did not improve from 0.93503\n",
      "16/16 [==============================] - 0s 4ms/step - loss: 0.5334 - accuracy: 0.7844 - val_loss: 1.3058 - val_accuracy: 0.6393\n",
      "Epoch 535/1000\n",
      " 1/16 [>.............................] - ETA: 0s - loss: 0.5959 - accuracy: 0.7188\n",
      "Epoch 535: val_loss did not improve from 0.93503\n",
      "16/16 [==============================] - 0s 4ms/step - loss: 0.5941 - accuracy: 0.7474 - val_loss: 1.1544 - val_accuracy: 0.6557\n",
      "Epoch 536/1000\n",
      " 1/16 [>.............................] - ETA: 0s - loss: 0.8943 - accuracy: 0.6250\n",
      "Epoch 536: val_loss did not improve from 0.93503\n",
      "16/16 [==============================] - 0s 3ms/step - loss: 0.6016 - accuracy: 0.7433 - val_loss: 1.1040 - val_accuracy: 0.6557\n",
      "Epoch 537/1000\n",
      " 1/16 [>.............................] - ETA: 0s - loss: 0.5695 - accuracy: 0.7500\n",
      "Epoch 537: val_loss did not improve from 0.93503\n",
      "16/16 [==============================] - 0s 3ms/step - loss: 0.5692 - accuracy: 0.7515 - val_loss: 1.1596 - val_accuracy: 0.6393\n",
      "Epoch 538/1000\n",
      " 1/16 [>.............................] - ETA: 0s - loss: 0.5504 - accuracy: 0.7500\n",
      "Epoch 538: val_loss did not improve from 0.93503\n",
      "16/16 [==============================] - 0s 4ms/step - loss: 0.5903 - accuracy: 0.7474 - val_loss: 1.1709 - val_accuracy: 0.6557\n",
      "Epoch 539/1000\n",
      " 1/16 [>.............................] - ETA: 0s - loss: 0.5257 - accuracy: 0.8438\n",
      "Epoch 539: val_loss did not improve from 0.93503\n",
      "16/16 [==============================] - 0s 4ms/step - loss: 0.5218 - accuracy: 0.7762 - val_loss: 1.2552 - val_accuracy: 0.6639\n",
      "Epoch 540/1000\n",
      " 1/16 [>.............................] - ETA: 0s - loss: 0.5166 - accuracy: 0.7812\n",
      "Epoch 540: val_loss did not improve from 0.93503\n",
      "16/16 [==============================] - 0s 4ms/step - loss: 0.5492 - accuracy: 0.7700 - val_loss: 1.2001 - val_accuracy: 0.6393\n",
      "Epoch 541/1000\n",
      " 1/16 [>.............................] - ETA: 0s - loss: 0.8478 - accuracy: 0.6875\n",
      "Epoch 541: val_loss did not improve from 0.93503\n",
      "16/16 [==============================] - 0s 4ms/step - loss: 0.6024 - accuracy: 0.7639 - val_loss: 1.1953 - val_accuracy: 0.6475\n",
      "Epoch 542/1000\n",
      " 1/16 [>.............................] - ETA: 0s - loss: 0.5475 - accuracy: 0.7500\n",
      "Epoch 542: val_loss did not improve from 0.93503\n",
      "16/16 [==============================] - 0s 4ms/step - loss: 0.5063 - accuracy: 0.7803 - val_loss: 1.3298 - val_accuracy: 0.6230\n",
      "Epoch 543/1000\n",
      " 1/16 [>.............................] - ETA: 0s - loss: 0.8502 - accuracy: 0.7812\n",
      "Epoch 543: val_loss did not improve from 0.93503\n",
      "16/16 [==============================] - 0s 4ms/step - loss: 0.5526 - accuracy: 0.7618 - val_loss: 1.2817 - val_accuracy: 0.6393\n",
      "Epoch 544/1000\n",
      " 1/16 [>.............................] - ETA: 0s - loss: 0.4362 - accuracy: 0.7500\n",
      "Epoch 544: val_loss did not improve from 0.93503\n",
      "16/16 [==============================] - 0s 4ms/step - loss: 0.5499 - accuracy: 0.7618 - val_loss: 1.1788 - val_accuracy: 0.6557\n",
      "Epoch 545/1000\n",
      " 1/16 [>.............................] - ETA: 0s - loss: 0.5996 - accuracy: 0.7500\n",
      "Epoch 545: val_loss did not improve from 0.93503\n",
      "16/16 [==============================] - 0s 4ms/step - loss: 0.5950 - accuracy: 0.7331 - val_loss: 1.3370 - val_accuracy: 0.6230\n",
      "Epoch 546/1000\n",
      " 1/16 [>.............................] - ETA: 0s - loss: 0.4058 - accuracy: 0.8438\n",
      "Epoch 546: val_loss did not improve from 0.93503\n",
      "16/16 [==============================] - 0s 4ms/step - loss: 0.5790 - accuracy: 0.7536 - val_loss: 1.3032 - val_accuracy: 0.6475\n",
      "Epoch 547/1000\n",
      " 1/16 [>.............................] - ETA: 0s - loss: 0.3973 - accuracy: 0.7812\n",
      "Epoch 547: val_loss did not improve from 0.93503\n",
      "16/16 [==============================] - 0s 4ms/step - loss: 0.6556 - accuracy: 0.7290 - val_loss: 1.3432 - val_accuracy: 0.6311\n",
      "Epoch 548/1000\n",
      " 1/16 [>.............................] - ETA: 0s - loss: 0.8713 - accuracy: 0.5938\n",
      "Epoch 548: val_loss did not improve from 0.93503\n",
      "16/16 [==============================] - 0s 4ms/step - loss: 0.6047 - accuracy: 0.7454 - val_loss: 1.2811 - val_accuracy: 0.6148\n",
      "Epoch 549/1000\n",
      " 1/16 [>.............................] - ETA: 0s - loss: 0.4948 - accuracy: 0.8125\n",
      "Epoch 549: val_loss did not improve from 0.93503\n",
      "16/16 [==============================] - 0s 4ms/step - loss: 0.5717 - accuracy: 0.7556 - val_loss: 1.2028 - val_accuracy: 0.6393\n",
      "Epoch 550/1000\n",
      " 1/16 [>.............................] - ETA: 0s - loss: 0.8257 - accuracy: 0.6250\n",
      "Epoch 550: val_loss did not improve from 0.93503\n",
      "16/16 [==============================] - 0s 4ms/step - loss: 0.6204 - accuracy: 0.7269 - val_loss: 1.2190 - val_accuracy: 0.6311\n",
      "Epoch 551/1000\n",
      " 1/16 [>.............................] - ETA: 0s - loss: 0.7520 - accuracy: 0.6250\n",
      "Epoch 551: val_loss did not improve from 0.93503\n",
      "16/16 [==============================] - 0s 4ms/step - loss: 0.5925 - accuracy: 0.7248 - val_loss: 1.1398 - val_accuracy: 0.6721\n",
      "Epoch 552/1000\n",
      " 1/16 [>.............................] - ETA: 0s - loss: 0.5595 - accuracy: 0.7812\n",
      "Epoch 552: val_loss did not improve from 0.93503\n",
      "16/16 [==============================] - 0s 4ms/step - loss: 0.5833 - accuracy: 0.7454 - val_loss: 1.1867 - val_accuracy: 0.6475\n",
      "Epoch 553/1000\n",
      " 1/16 [>.............................] - ETA: 0s - loss: 0.6720 - accuracy: 0.6875\n",
      "Epoch 553: val_loss did not improve from 0.93503\n",
      "16/16 [==============================] - 0s 4ms/step - loss: 0.5940 - accuracy: 0.7207 - val_loss: 1.1748 - val_accuracy: 0.6721\n",
      "Epoch 554/1000\n",
      " 1/16 [>.............................] - ETA: 0s - loss: 0.5603 - accuracy: 0.8125\n",
      "Epoch 554: val_loss did not improve from 0.93503\n",
      "16/16 [==============================] - 0s 4ms/step - loss: 0.5691 - accuracy: 0.7598 - val_loss: 1.1742 - val_accuracy: 0.6557\n",
      "Epoch 555/1000\n",
      " 1/16 [>.............................] - ETA: 0s - loss: 0.5073 - accuracy: 0.7812\n",
      "Epoch 555: val_loss did not improve from 0.93503\n",
      "16/16 [==============================] - 0s 4ms/step - loss: 0.5971 - accuracy: 0.7515 - val_loss: 1.2300 - val_accuracy: 0.6311\n",
      "Epoch 556/1000\n",
      " 1/16 [>.............................] - ETA: 0s - loss: 0.5908 - accuracy: 0.7812\n",
      "Epoch 556: val_loss did not improve from 0.93503\n",
      "16/16 [==============================] - 0s 4ms/step - loss: 0.5891 - accuracy: 0.7515 - val_loss: 1.2128 - val_accuracy: 0.6557\n",
      "Epoch 557/1000\n",
      " 1/16 [>.............................] - ETA: 0s - loss: 0.6455 - accuracy: 0.6250\n",
      "Epoch 557: val_loss did not improve from 0.93503\n",
      "16/16 [==============================] - 0s 4ms/step - loss: 0.6595 - accuracy: 0.7248 - val_loss: 1.1409 - val_accuracy: 0.6393\n",
      "Epoch 558/1000\n",
      " 1/16 [>.............................] - ETA: 0s - loss: 0.5512 - accuracy: 0.7812\n",
      "Epoch 558: val_loss did not improve from 0.93503\n",
      "16/16 [==============================] - 0s 4ms/step - loss: 0.6279 - accuracy: 0.7310 - val_loss: 1.1663 - val_accuracy: 0.6311\n",
      "Epoch 559/1000\n",
      " 1/16 [>.............................] - ETA: 0s - loss: 0.6311 - accuracy: 0.6875\n",
      "Epoch 559: val_loss did not improve from 0.93503\n",
      "16/16 [==============================] - 0s 4ms/step - loss: 0.5642 - accuracy: 0.7515 - val_loss: 1.1610 - val_accuracy: 0.6393\n",
      "Epoch 560/1000\n",
      " 1/16 [>.............................] - ETA: 0s - loss: 0.6664 - accuracy: 0.6875\n",
      "Epoch 560: val_loss did not improve from 0.93503\n",
      "16/16 [==============================] - 0s 4ms/step - loss: 0.5861 - accuracy: 0.7474 - val_loss: 1.1642 - val_accuracy: 0.6475\n",
      "Epoch 561/1000\n",
      " 1/16 [>.............................] - ETA: 0s - loss: 0.5073 - accuracy: 0.7500\n",
      "Epoch 561: val_loss did not improve from 0.93503\n",
      "16/16 [==============================] - 0s 4ms/step - loss: 0.5546 - accuracy: 0.7556 - val_loss: 1.2589 - val_accuracy: 0.6230\n",
      "Epoch 562/1000\n",
      " 1/16 [>.............................] - ETA: 0s - loss: 0.6818 - accuracy: 0.6562\n",
      "Epoch 562: val_loss did not improve from 0.93503\n",
      "16/16 [==============================] - 0s 4ms/step - loss: 0.6151 - accuracy: 0.7248 - val_loss: 1.1426 - val_accuracy: 0.6721\n",
      "Epoch 563/1000\n",
      " 1/16 [>.............................] - ETA: 0s - loss: 0.5874 - accuracy: 0.6875\n",
      "Epoch 563: val_loss did not improve from 0.93503\n",
      "16/16 [==============================] - 0s 4ms/step - loss: 0.5889 - accuracy: 0.7495 - val_loss: 1.1803 - val_accuracy: 0.6557\n",
      "Epoch 564/1000\n",
      " 1/16 [>.............................] - ETA: 0s - loss: 0.3968 - accuracy: 0.8125\n",
      "Epoch 564: val_loss did not improve from 0.93503\n",
      "16/16 [==============================] - 0s 4ms/step - loss: 0.5728 - accuracy: 0.7639 - val_loss: 1.3323 - val_accuracy: 0.6148\n",
      "Epoch 565/1000\n",
      " 1/16 [>.............................] - ETA: 0s - loss: 0.6891 - accuracy: 0.6562\n",
      "Epoch 565: val_loss did not improve from 0.93503\n",
      "16/16 [==============================] - 0s 4ms/step - loss: 0.5816 - accuracy: 0.7577 - val_loss: 1.2214 - val_accuracy: 0.6311\n",
      "Epoch 566/1000\n",
      " 1/16 [>.............................] - ETA: 0s - loss: 0.4819 - accuracy: 0.8750\n",
      "Epoch 566: val_loss did not improve from 0.93503\n",
      "16/16 [==============================] - 0s 3ms/step - loss: 0.5613 - accuracy: 0.7474 - val_loss: 1.2688 - val_accuracy: 0.6393\n",
      "Epoch 567/1000\n",
      " 1/16 [>.............................] - ETA: 0s - loss: 0.5922 - accuracy: 0.7812\n",
      "Epoch 567: val_loss did not improve from 0.93503\n",
      "16/16 [==============================] - 0s 4ms/step - loss: 0.5906 - accuracy: 0.7495 - val_loss: 1.2668 - val_accuracy: 0.6230\n",
      "Epoch 568/1000\n",
      " 1/16 [>.............................] - ETA: 0s - loss: 0.4506 - accuracy: 0.8125\n",
      "Epoch 568: val_loss did not improve from 0.93503\n",
      "16/16 [==============================] - 0s 4ms/step - loss: 0.5253 - accuracy: 0.7639 - val_loss: 1.1880 - val_accuracy: 0.6803\n",
      "Epoch 569/1000\n",
      " 1/16 [>.............................] - ETA: 0s - loss: 0.5403 - accuracy: 0.7188\n",
      "Epoch 569: val_loss did not improve from 0.93503\n",
      "16/16 [==============================] - 0s 4ms/step - loss: 0.5408 - accuracy: 0.7536 - val_loss: 1.2923 - val_accuracy: 0.6230\n",
      "Epoch 570/1000\n",
      " 1/16 [>.............................] - ETA: 0s - loss: 0.8470 - accuracy: 0.6875\n",
      "Epoch 570: val_loss did not improve from 0.93503\n",
      "16/16 [==============================] - 0s 4ms/step - loss: 0.6021 - accuracy: 0.7700 - val_loss: 1.2837 - val_accuracy: 0.6311\n",
      "Epoch 571/1000\n",
      " 1/16 [>.............................] - ETA: 0s - loss: 0.5234 - accuracy: 0.7500\n",
      "Epoch 571: val_loss did not improve from 0.93503\n",
      "16/16 [==============================] - 0s 4ms/step - loss: 0.6005 - accuracy: 0.7310 - val_loss: 1.3550 - val_accuracy: 0.6557\n",
      "Epoch 572/1000\n",
      " 1/16 [>.............................] - ETA: 0s - loss: 0.6332 - accuracy: 0.7812\n",
      "Epoch 572: val_loss did not improve from 0.93503\n",
      "16/16 [==============================] - 0s 4ms/step - loss: 0.5552 - accuracy: 0.7762 - val_loss: 1.2322 - val_accuracy: 0.6639\n",
      "Epoch 573/1000\n",
      " 1/16 [>.............................] - ETA: 0s - loss: 0.4784 - accuracy: 0.8125\n",
      "Epoch 573: val_loss did not improve from 0.93503\n",
      "16/16 [==============================] - 0s 5ms/step - loss: 0.5757 - accuracy: 0.7515 - val_loss: 1.2912 - val_accuracy: 0.6230\n",
      "Epoch 574/1000\n",
      " 1/16 [>.............................] - ETA: 0s - loss: 0.5272 - accuracy: 0.7188\n",
      "Epoch 574: val_loss did not improve from 0.93503\n",
      "16/16 [==============================] - 0s 4ms/step - loss: 0.5817 - accuracy: 0.7659 - val_loss: 1.2522 - val_accuracy: 0.6311\n",
      "Epoch 575/1000\n",
      " 1/16 [>.............................] - ETA: 0s - loss: 0.4179 - accuracy: 0.8438\n",
      "Epoch 575: val_loss did not improve from 0.93503\n",
      "16/16 [==============================] - 0s 4ms/step - loss: 0.5980 - accuracy: 0.7392 - val_loss: 1.3012 - val_accuracy: 0.5656\n",
      "Epoch 576/1000\n",
      " 1/16 [>.............................] - ETA: 0s - loss: 0.6675 - accuracy: 0.8438\n",
      "Epoch 576: val_loss did not improve from 0.93503\n",
      "16/16 [==============================] - 0s 4ms/step - loss: 0.5862 - accuracy: 0.7659 - val_loss: 1.2915 - val_accuracy: 0.5902\n",
      "Epoch 577/1000\n",
      " 1/16 [>.............................] - ETA: 0s - loss: 0.3967 - accuracy: 0.8438\n",
      "Epoch 577: val_loss did not improve from 0.93503\n",
      "16/16 [==============================] - 0s 4ms/step - loss: 0.5522 - accuracy: 0.7536 - val_loss: 1.2862 - val_accuracy: 0.6148\n",
      "Epoch 578/1000\n",
      " 1/16 [>.............................] - ETA: 0s - loss: 0.4420 - accuracy: 0.7812\n",
      "Epoch 578: val_loss did not improve from 0.93503\n",
      "16/16 [==============================] - 0s 4ms/step - loss: 0.5647 - accuracy: 0.7659 - val_loss: 1.2795 - val_accuracy: 0.6639\n",
      "Epoch 579/1000\n",
      " 1/16 [>.............................] - ETA: 0s - loss: 0.5977 - accuracy: 0.7812\n",
      "Epoch 579: val_loss did not improve from 0.93503\n",
      "16/16 [==============================] - 0s 4ms/step - loss: 0.6287 - accuracy: 0.7454 - val_loss: 1.2652 - val_accuracy: 0.6475\n",
      "Epoch 580/1000\n",
      " 1/16 [>.............................] - ETA: 0s - loss: 0.4605 - accuracy: 0.7812\n",
      "Epoch 580: val_loss did not improve from 0.93503\n",
      "16/16 [==============================] - 0s 4ms/step - loss: 0.5739 - accuracy: 0.7454 - val_loss: 1.2919 - val_accuracy: 0.6148\n",
      "Epoch 581/1000\n",
      " 1/16 [>.............................] - ETA: 0s - loss: 0.5821 - accuracy: 0.7500\n",
      "Epoch 581: val_loss did not improve from 0.93503\n",
      "16/16 [==============================] - 0s 4ms/step - loss: 0.5702 - accuracy: 0.7495 - val_loss: 1.3342 - val_accuracy: 0.6557\n",
      "Epoch 582/1000\n",
      " 1/16 [>.............................] - ETA: 0s - loss: 0.6842 - accuracy: 0.7500\n",
      "Epoch 582: val_loss did not improve from 0.93503\n",
      "16/16 [==============================] - 0s 4ms/step - loss: 0.5082 - accuracy: 0.7721 - val_loss: 1.4573 - val_accuracy: 0.5738\n",
      "Epoch 583/1000\n",
      " 1/16 [>.............................] - ETA: 0s - loss: 0.6362 - accuracy: 0.5938\n",
      "Epoch 583: val_loss did not improve from 0.93503\n",
      "16/16 [==============================] - 0s 5ms/step - loss: 0.5733 - accuracy: 0.7639 - val_loss: 1.3203 - val_accuracy: 0.5984\n",
      "Epoch 584/1000\n",
      " 1/16 [>.............................] - ETA: 0s - loss: 0.6820 - accuracy: 0.6250\n",
      "Epoch 584: val_loss did not improve from 0.93503\n",
      "16/16 [==============================] - 0s 4ms/step - loss: 0.5333 - accuracy: 0.7803 - val_loss: 1.3790 - val_accuracy: 0.6475\n",
      "Epoch 585/1000\n",
      " 1/16 [>.............................] - ETA: 0s - loss: 0.4294 - accuracy: 0.7812\n",
      "Epoch 585: val_loss did not improve from 0.93503\n",
      "16/16 [==============================] - 0s 4ms/step - loss: 0.5673 - accuracy: 0.7700 - val_loss: 1.2874 - val_accuracy: 0.6311\n",
      "Epoch 586/1000\n",
      " 1/16 [>.............................] - ETA: 0s - loss: 0.6647 - accuracy: 0.6250\n",
      "Epoch 586: val_loss did not improve from 0.93503\n",
      "16/16 [==============================] - 0s 4ms/step - loss: 0.5684 - accuracy: 0.7680 - val_loss: 1.2865 - val_accuracy: 0.6311\n",
      "Epoch 587/1000\n",
      " 1/16 [>.............................] - ETA: 0s - loss: 0.5778 - accuracy: 0.6875\n",
      "Epoch 587: val_loss did not improve from 0.93503\n",
      "16/16 [==============================] - 0s 4ms/step - loss: 0.5488 - accuracy: 0.7618 - val_loss: 1.3846 - val_accuracy: 0.6230\n",
      "Epoch 588/1000\n",
      " 1/16 [>.............................] - ETA: 0s - loss: 0.4784 - accuracy: 0.8438\n",
      "Epoch 588: val_loss did not improve from 0.93503\n",
      "16/16 [==============================] - 0s 4ms/step - loss: 0.5474 - accuracy: 0.7556 - val_loss: 1.4022 - val_accuracy: 0.6311\n",
      "Epoch 589/1000\n",
      " 1/16 [>.............................] - ETA: 0s - loss: 0.5490 - accuracy: 0.7188\n",
      "Epoch 589: val_loss did not improve from 0.93503\n",
      "16/16 [==============================] - 0s 4ms/step - loss: 0.5413 - accuracy: 0.7351 - val_loss: 1.3843 - val_accuracy: 0.6393\n",
      "Epoch 590/1000\n",
      " 1/16 [>.............................] - ETA: 0s - loss: 0.3082 - accuracy: 0.8750\n",
      "Epoch 590: val_loss did not improve from 0.93503\n",
      "16/16 [==============================] - 0s 4ms/step - loss: 0.5088 - accuracy: 0.7885 - val_loss: 1.4544 - val_accuracy: 0.6148\n",
      "Epoch 591/1000\n",
      " 1/16 [>.............................] - ETA: 0s - loss: 0.5201 - accuracy: 0.8750\n",
      "Epoch 591: val_loss did not improve from 0.93503\n",
      "16/16 [==============================] - 0s 4ms/step - loss: 0.5192 - accuracy: 0.7721 - val_loss: 1.3652 - val_accuracy: 0.6230\n",
      "Epoch 592/1000\n",
      " 1/16 [>.............................] - ETA: 0s - loss: 0.6713 - accuracy: 0.6875\n",
      "Epoch 592: val_loss did not improve from 0.93503\n",
      "16/16 [==============================] - 0s 4ms/step - loss: 0.5710 - accuracy: 0.7536 - val_loss: 1.2874 - val_accuracy: 0.6066\n",
      "Epoch 593/1000\n",
      " 1/16 [>.............................] - ETA: 0s - loss: 0.7619 - accuracy: 0.5938\n",
      "Epoch 593: val_loss did not improve from 0.93503\n",
      "16/16 [==============================] - 0s 4ms/step - loss: 0.5805 - accuracy: 0.7495 - val_loss: 1.2329 - val_accuracy: 0.6557\n",
      "Epoch 594/1000\n",
      " 1/16 [>.............................] - ETA: 0s - loss: 0.5553 - accuracy: 0.7812\n",
      "Epoch 594: val_loss did not improve from 0.93503\n",
      "16/16 [==============================] - 0s 4ms/step - loss: 0.5798 - accuracy: 0.7515 - val_loss: 1.2257 - val_accuracy: 0.6557\n",
      "Epoch 595/1000\n",
      " 1/16 [>.............................] - ETA: 0s - loss: 0.5386 - accuracy: 0.7812\n",
      "Epoch 595: val_loss did not improve from 0.93503\n",
      "16/16 [==============================] - 0s 4ms/step - loss: 0.6345 - accuracy: 0.7290 - val_loss: 1.2907 - val_accuracy: 0.6639\n",
      "Epoch 596/1000\n",
      " 1/16 [>.............................] - ETA: 0s - loss: 0.6185 - accuracy: 0.6875\n",
      "Epoch 596: val_loss did not improve from 0.93503\n",
      "16/16 [==============================] - 0s 4ms/step - loss: 0.6366 - accuracy: 0.7002 - val_loss: 1.2308 - val_accuracy: 0.6066\n",
      "Epoch 597/1000\n",
      " 1/16 [>.............................] - ETA: 0s - loss: 0.4514 - accuracy: 0.7812\n",
      "Epoch 597: val_loss did not improve from 0.93503\n",
      "16/16 [==============================] - 0s 4ms/step - loss: 0.5981 - accuracy: 0.7310 - val_loss: 1.3704 - val_accuracy: 0.5820\n",
      "Epoch 598/1000\n",
      " 1/16 [>.............................] - ETA: 0s - loss: 0.5938 - accuracy: 0.8125\n",
      "Epoch 598: val_loss did not improve from 0.93503\n",
      "16/16 [==============================] - 0s 5ms/step - loss: 0.5737 - accuracy: 0.7598 - val_loss: 1.2660 - val_accuracy: 0.6311\n",
      "Epoch 599/1000\n",
      " 1/16 [>.............................] - ETA: 0s - loss: 0.6066 - accuracy: 0.8125\n",
      "Epoch 599: val_loss did not improve from 0.93503\n",
      "16/16 [==============================] - 0s 4ms/step - loss: 0.5695 - accuracy: 0.7495 - val_loss: 1.3073 - val_accuracy: 0.6066\n",
      "Epoch 600/1000\n",
      " 1/16 [>.............................] - ETA: 0s - loss: 0.8097 - accuracy: 0.8125\n",
      "Epoch 600: val_loss did not improve from 0.93503\n",
      "16/16 [==============================] - 0s 4ms/step - loss: 0.5833 - accuracy: 0.7556 - val_loss: 1.2889 - val_accuracy: 0.6393\n",
      "Epoch 601/1000\n",
      " 1/16 [>.............................] - ETA: 0s - loss: 0.4349 - accuracy: 0.7812\n",
      "Epoch 601: val_loss did not improve from 0.93503\n",
      "16/16 [==============================] - 0s 4ms/step - loss: 0.5224 - accuracy: 0.7618 - val_loss: 1.2864 - val_accuracy: 0.6393\n",
      "Epoch 602/1000\n",
      " 1/16 [>.............................] - ETA: 0s - loss: 0.3679 - accuracy: 0.8438\n",
      "Epoch 602: val_loss did not improve from 0.93503\n",
      "16/16 [==============================] - 0s 4ms/step - loss: 0.5312 - accuracy: 0.7782 - val_loss: 1.3139 - val_accuracy: 0.6393\n",
      "Epoch 603/1000\n",
      " 1/16 [>.............................] - ETA: 0s - loss: 0.5080 - accuracy: 0.8125\n",
      "Epoch 603: val_loss did not improve from 0.93503\n",
      "16/16 [==============================] - 0s 5ms/step - loss: 0.5825 - accuracy: 0.7577 - val_loss: 1.3168 - val_accuracy: 0.6066\n",
      "Epoch 604/1000\n",
      " 1/16 [>.............................] - ETA: 0s - loss: 0.3904 - accuracy: 0.8438\n",
      "Epoch 604: val_loss did not improve from 0.93503\n",
      "16/16 [==============================] - 0s 4ms/step - loss: 0.5108 - accuracy: 0.7680 - val_loss: 1.3463 - val_accuracy: 0.6557\n",
      "Epoch 605/1000\n",
      " 1/16 [>.............................] - ETA: 0s - loss: 0.4762 - accuracy: 0.8125\n",
      "Epoch 605: val_loss did not improve from 0.93503\n",
      "16/16 [==============================] - 0s 4ms/step - loss: 0.5342 - accuracy: 0.7639 - val_loss: 1.3650 - val_accuracy: 0.6148\n",
      "Epoch 606/1000\n",
      " 1/16 [>.............................] - ETA: 0s - loss: 0.8132 - accuracy: 0.6250\n",
      "Epoch 606: val_loss did not improve from 0.93503\n",
      "16/16 [==============================] - 0s 4ms/step - loss: 0.5114 - accuracy: 0.7741 - val_loss: 1.3884 - val_accuracy: 0.6311\n",
      "Epoch 607/1000\n",
      " 1/16 [>.............................] - ETA: 0s - loss: 0.5982 - accuracy: 0.6875\n",
      "Epoch 607: val_loss did not improve from 0.93503\n",
      "16/16 [==============================] - 0s 4ms/step - loss: 0.5427 - accuracy: 0.7741 - val_loss: 1.3051 - val_accuracy: 0.6393\n",
      "Epoch 608/1000\n",
      " 1/16 [>.............................] - ETA: 0s - loss: 0.6304 - accuracy: 0.7812\n",
      "Epoch 608: val_loss did not improve from 0.93503\n",
      "16/16 [==============================] - 0s 4ms/step - loss: 0.5661 - accuracy: 0.7741 - val_loss: 1.3996 - val_accuracy: 0.6230\n",
      "Epoch 609/1000\n",
      " 1/16 [>.............................] - ETA: 0s - loss: 0.8138 - accuracy: 0.7188\n",
      "Epoch 609: val_loss did not improve from 0.93503\n",
      "16/16 [==============================] - 0s 5ms/step - loss: 0.5876 - accuracy: 0.7474 - val_loss: 1.3761 - val_accuracy: 0.6475\n",
      "Epoch 610/1000\n",
      " 1/16 [>.............................] - ETA: 0s - loss: 0.5400 - accuracy: 0.6875\n",
      "Epoch 610: val_loss did not improve from 0.93503\n",
      "16/16 [==============================] - 0s 4ms/step - loss: 0.5998 - accuracy: 0.7454 - val_loss: 1.2789 - val_accuracy: 0.6393\n",
      "Epoch 611/1000\n",
      " 1/16 [>.............................] - ETA: 0s - loss: 0.4977 - accuracy: 0.8125\n",
      "Epoch 611: val_loss did not improve from 0.93503\n",
      "16/16 [==============================] - 0s 4ms/step - loss: 0.5502 - accuracy: 0.7372 - val_loss: 1.3689 - val_accuracy: 0.6311\n",
      "Epoch 612/1000\n",
      " 1/16 [>.............................] - ETA: 0s - loss: 0.4016 - accuracy: 0.7812\n",
      "Epoch 612: val_loss did not improve from 0.93503\n",
      "16/16 [==============================] - 0s 4ms/step - loss: 0.5237 - accuracy: 0.7454 - val_loss: 1.2847 - val_accuracy: 0.6393\n",
      "Epoch 613/1000\n",
      " 1/16 [>.............................] - ETA: 0s - loss: 0.4840 - accuracy: 0.8125\n",
      "Epoch 613: val_loss did not improve from 0.93503\n",
      "16/16 [==============================] - 0s 4ms/step - loss: 0.4965 - accuracy: 0.7659 - val_loss: 1.4658 - val_accuracy: 0.6393\n",
      "Epoch 614/1000\n",
      " 1/16 [>.............................] - ETA: 0s - loss: 0.5599 - accuracy: 0.7188\n",
      "Epoch 614: val_loss did not improve from 0.93503\n",
      "16/16 [==============================] - 0s 4ms/step - loss: 0.5640 - accuracy: 0.7433 - val_loss: 1.3287 - val_accuracy: 0.6475\n",
      "Epoch 615/1000\n",
      " 1/16 [>.............................] - ETA: 0s - loss: 0.5064 - accuracy: 0.7500\n",
      "Epoch 615: val_loss did not improve from 0.93503\n",
      "16/16 [==============================] - 0s 4ms/step - loss: 0.5557 - accuracy: 0.7556 - val_loss: 1.2906 - val_accuracy: 0.6230\n",
      "Epoch 616/1000\n",
      " 1/16 [>.............................] - ETA: 0s - loss: 0.4841 - accuracy: 0.8125\n",
      "Epoch 616: val_loss did not improve from 0.93503\n",
      "16/16 [==============================] - 0s 4ms/step - loss: 0.5208 - accuracy: 0.7823 - val_loss: 1.3462 - val_accuracy: 0.6393\n",
      "Epoch 617/1000\n",
      " 1/16 [>.............................] - ETA: 0s - loss: 0.4560 - accuracy: 0.8125\n",
      "Epoch 617: val_loss did not improve from 0.93503\n",
      "16/16 [==============================] - 0s 4ms/step - loss: 0.5035 - accuracy: 0.7823 - val_loss: 1.2482 - val_accuracy: 0.6721\n",
      "Epoch 618/1000\n",
      " 1/16 [>.............................] - ETA: 0s - loss: 0.4797 - accuracy: 0.8125\n",
      "Epoch 618: val_loss did not improve from 0.93503\n",
      "16/16 [==============================] - 0s 5ms/step - loss: 0.5347 - accuracy: 0.7639 - val_loss: 1.2545 - val_accuracy: 0.6393\n",
      "Epoch 619/1000\n",
      " 1/16 [>.............................] - ETA: 0s - loss: 0.4230 - accuracy: 0.7500\n",
      "Epoch 619: val_loss did not improve from 0.93503\n",
      "16/16 [==============================] - 0s 4ms/step - loss: 0.5345 - accuracy: 0.7823 - val_loss: 1.2686 - val_accuracy: 0.6557\n",
      "Epoch 620/1000\n",
      " 1/16 [>.............................] - ETA: 0s - loss: 0.4509 - accuracy: 0.8438\n",
      "Epoch 620: val_loss did not improve from 0.93503\n",
      "16/16 [==============================] - 0s 4ms/step - loss: 0.5324 - accuracy: 0.7762 - val_loss: 1.2765 - val_accuracy: 0.6639\n",
      "Epoch 621/1000\n",
      " 1/16 [>.............................] - ETA: 0s - loss: 0.5217 - accuracy: 0.7500\n",
      "Epoch 621: val_loss did not improve from 0.93503\n",
      "16/16 [==============================] - 0s 4ms/step - loss: 0.5651 - accuracy: 0.7782 - val_loss: 1.2693 - val_accuracy: 0.6311\n",
      "Epoch 622/1000\n",
      " 1/16 [>.............................] - ETA: 0s - loss: 0.6227 - accuracy: 0.7812\n",
      "Epoch 622: val_loss did not improve from 0.93503\n",
      "16/16 [==============================] - 0s 4ms/step - loss: 0.5870 - accuracy: 0.7331 - val_loss: 1.2785 - val_accuracy: 0.6393\n",
      "Epoch 623/1000\n",
      " 1/16 [>.............................] - ETA: 0s - loss: 0.4459 - accuracy: 0.7500\n",
      "Epoch 623: val_loss did not improve from 0.93503\n",
      "16/16 [==============================] - 0s 3ms/step - loss: 0.5743 - accuracy: 0.7598 - val_loss: 1.1885 - val_accuracy: 0.6148\n",
      "Epoch 624/1000\n",
      " 1/16 [>.............................] - ETA: 0s - loss: 0.5337 - accuracy: 0.7188\n",
      "Epoch 624: val_loss did not improve from 0.93503\n",
      "16/16 [==============================] - 0s 5ms/step - loss: 0.5973 - accuracy: 0.7515 - val_loss: 1.2490 - val_accuracy: 0.6230\n",
      "Epoch 625/1000\n",
      " 1/16 [>.............................] - ETA: 0s - loss: 0.5837 - accuracy: 0.6875\n",
      "Epoch 625: val_loss did not improve from 0.93503\n",
      "16/16 [==============================] - 0s 4ms/step - loss: 0.6091 - accuracy: 0.7207 - val_loss: 1.2317 - val_accuracy: 0.6721\n",
      "Epoch 626/1000\n",
      " 1/16 [>.............................] - ETA: 0s - loss: 0.4608 - accuracy: 0.7812\n",
      "Epoch 626: val_loss did not improve from 0.93503\n",
      "16/16 [==============================] - 0s 4ms/step - loss: 0.5801 - accuracy: 0.7351 - val_loss: 1.2262 - val_accuracy: 0.6475\n",
      "Epoch 627/1000\n",
      " 1/16 [>.............................] - ETA: 0s - loss: 0.5866 - accuracy: 0.7188\n",
      "Epoch 627: val_loss did not improve from 0.93503\n",
      "16/16 [==============================] - 0s 4ms/step - loss: 0.6123 - accuracy: 0.7269 - val_loss: 1.3684 - val_accuracy: 0.6066\n",
      "Epoch 628/1000\n",
      " 1/16 [>.............................] - ETA: 0s - loss: 0.4511 - accuracy: 0.7500\n",
      "Epoch 628: val_loss did not improve from 0.93503\n",
      "16/16 [==============================] - 0s 4ms/step - loss: 0.5427 - accuracy: 0.7659 - val_loss: 1.2930 - val_accuracy: 0.6557\n",
      "Epoch 629/1000\n",
      " 1/16 [>.............................] - ETA: 0s - loss: 0.4768 - accuracy: 0.7188\n",
      "Epoch 629: val_loss did not improve from 0.93503\n",
      "16/16 [==============================] - 0s 4ms/step - loss: 0.5569 - accuracy: 0.7413 - val_loss: 1.2499 - val_accuracy: 0.6803\n",
      "Epoch 630/1000\n",
      " 1/16 [>.............................] - ETA: 0s - loss: 0.7975 - accuracy: 0.6250\n",
      "Epoch 630: val_loss did not improve from 0.93503\n",
      "16/16 [==============================] - 0s 4ms/step - loss: 0.5817 - accuracy: 0.7351 - val_loss: 1.2493 - val_accuracy: 0.6230\n",
      "Epoch 631/1000\n",
      " 1/16 [>.............................] - ETA: 0s - loss: 0.5795 - accuracy: 0.7500\n",
      "Epoch 631: val_loss did not improve from 0.93503\n",
      "16/16 [==============================] - 0s 4ms/step - loss: 0.5277 - accuracy: 0.7741 - val_loss: 1.2942 - val_accuracy: 0.6311\n",
      "Epoch 632/1000\n",
      " 1/16 [>.............................] - ETA: 0s - loss: 0.5886 - accuracy: 0.6250\n",
      "Epoch 632: val_loss did not improve from 0.93503\n",
      "16/16 [==============================] - 0s 4ms/step - loss: 0.5543 - accuracy: 0.7556 - val_loss: 1.2882 - val_accuracy: 0.6393\n",
      "Epoch 633/1000\n",
      " 1/16 [>.............................] - ETA: 0s - loss: 0.4625 - accuracy: 0.8438\n",
      "Epoch 633: val_loss did not improve from 0.93503\n",
      "16/16 [==============================] - 0s 4ms/step - loss: 0.5559 - accuracy: 0.7741 - val_loss: 1.3356 - val_accuracy: 0.6066\n",
      "Epoch 634/1000\n",
      " 1/16 [>.............................] - ETA: 0s - loss: 0.6311 - accuracy: 0.6562\n",
      "Epoch 634: val_loss did not improve from 0.93503\n",
      "16/16 [==============================] - 0s 4ms/step - loss: 0.5829 - accuracy: 0.7700 - val_loss: 1.1916 - val_accuracy: 0.6230\n",
      "Epoch 635/1000\n",
      " 1/16 [>.............................] - ETA: 0s - loss: 0.4936 - accuracy: 0.7500\n",
      "Epoch 635: val_loss did not improve from 0.93503\n",
      "16/16 [==============================] - 0s 4ms/step - loss: 0.5304 - accuracy: 0.7782 - val_loss: 1.3696 - val_accuracy: 0.6475\n",
      "Epoch 636/1000\n",
      " 1/16 [>.............................] - ETA: 0s - loss: 0.7212 - accuracy: 0.8438\n",
      "Epoch 636: val_loss did not improve from 0.93503\n",
      "16/16 [==============================] - 0s 4ms/step - loss: 0.5332 - accuracy: 0.7598 - val_loss: 1.1799 - val_accuracy: 0.6311\n",
      "Epoch 637/1000\n",
      " 1/16 [>.............................] - ETA: 0s - loss: 0.5407 - accuracy: 0.7188\n",
      "Epoch 637: val_loss did not improve from 0.93503\n",
      "16/16 [==============================] - 0s 4ms/step - loss: 0.5380 - accuracy: 0.7741 - val_loss: 1.3153 - val_accuracy: 0.6311\n",
      "Epoch 638/1000\n",
      " 1/16 [>.............................] - ETA: 0s - loss: 0.7602 - accuracy: 0.7500\n",
      "Epoch 638: val_loss did not improve from 0.93503\n",
      "16/16 [==============================] - 0s 4ms/step - loss: 0.6122 - accuracy: 0.7454 - val_loss: 1.3181 - val_accuracy: 0.6393\n",
      "Epoch 639/1000\n",
      " 1/16 [>.............................] - ETA: 0s - loss: 0.6447 - accuracy: 0.7812\n",
      "Epoch 639: val_loss did not improve from 0.93503\n",
      "16/16 [==============================] - 0s 4ms/step - loss: 0.6008 - accuracy: 0.7310 - val_loss: 1.2136 - val_accuracy: 0.6230\n",
      "Epoch 640/1000\n",
      " 1/16 [>.............................] - ETA: 0s - loss: 0.7494 - accuracy: 0.6875\n",
      "Epoch 640: val_loss did not improve from 0.93503\n",
      "16/16 [==============================] - 0s 4ms/step - loss: 0.5975 - accuracy: 0.7495 - val_loss: 1.2190 - val_accuracy: 0.6393\n",
      "Epoch 641/1000\n",
      " 1/16 [>.............................] - ETA: 0s - loss: 0.8552 - accuracy: 0.5625\n",
      "Epoch 641: val_loss did not improve from 0.93503\n",
      "16/16 [==============================] - 0s 4ms/step - loss: 0.5787 - accuracy: 0.7372 - val_loss: 1.1591 - val_accuracy: 0.6311\n",
      "Epoch 642/1000\n",
      " 1/16 [>.............................] - ETA: 0s - loss: 0.4898 - accuracy: 0.8438\n",
      "Epoch 642: val_loss did not improve from 0.93503\n",
      "16/16 [==============================] - 0s 4ms/step - loss: 0.6159 - accuracy: 0.7331 - val_loss: 1.1824 - val_accuracy: 0.6475\n",
      "Epoch 643/1000\n",
      " 1/16 [>.............................] - ETA: 0s - loss: 0.7483 - accuracy: 0.6250\n",
      "Epoch 643: val_loss did not improve from 0.93503\n",
      "16/16 [==============================] - 0s 4ms/step - loss: 0.6280 - accuracy: 0.7269 - val_loss: 1.2376 - val_accuracy: 0.6639\n",
      "Epoch 644/1000\n",
      " 1/16 [>.............................] - ETA: 0s - loss: 0.6202 - accuracy: 0.6875\n",
      "Epoch 644: val_loss did not improve from 0.93503\n",
      "16/16 [==============================] - 0s 4ms/step - loss: 0.6449 - accuracy: 0.7248 - val_loss: 1.1924 - val_accuracy: 0.6066\n",
      "Epoch 645/1000\n",
      " 1/16 [>.............................] - ETA: 0s - loss: 0.7165 - accuracy: 0.5938\n",
      "Epoch 645: val_loss did not improve from 0.93503\n",
      "16/16 [==============================] - 0s 4ms/step - loss: 0.6295 - accuracy: 0.7228 - val_loss: 1.2529 - val_accuracy: 0.6148\n",
      "Epoch 646/1000\n",
      " 1/16 [>.............................] - ETA: 0s - loss: 0.5000 - accuracy: 0.6875\n",
      "Epoch 646: val_loss did not improve from 0.93503\n",
      "16/16 [==============================] - 0s 3ms/step - loss: 0.5972 - accuracy: 0.7372 - val_loss: 1.1811 - val_accuracy: 0.6557\n",
      "Epoch 647/1000\n",
      " 1/16 [>.............................] - ETA: 0s - loss: 0.4059 - accuracy: 0.8125\n",
      "Epoch 647: val_loss did not improve from 0.93503\n",
      "16/16 [==============================] - 0s 4ms/step - loss: 0.5960 - accuracy: 0.7577 - val_loss: 1.1563 - val_accuracy: 0.6803\n",
      "Epoch 648/1000\n",
      " 1/16 [>.............................] - ETA: 0s - loss: 0.6415 - accuracy: 0.7188\n",
      "Epoch 648: val_loss did not improve from 0.93503\n",
      "16/16 [==============================] - 0s 4ms/step - loss: 0.5867 - accuracy: 0.7536 - val_loss: 1.1537 - val_accuracy: 0.6721\n",
      "Epoch 649/1000\n",
      " 1/16 [>.............................] - ETA: 0s - loss: 0.8206 - accuracy: 0.6562\n",
      "Epoch 649: val_loss did not improve from 0.93503\n",
      "16/16 [==============================] - 0s 4ms/step - loss: 0.5708 - accuracy: 0.7474 - val_loss: 1.2644 - val_accuracy: 0.6311\n",
      "Epoch 650/1000\n",
      " 1/16 [>.............................] - ETA: 0s - loss: 0.5288 - accuracy: 0.8125\n",
      "Epoch 650: val_loss did not improve from 0.93503\n",
      "16/16 [==============================] - 0s 3ms/step - loss: 0.5710 - accuracy: 0.7741 - val_loss: 1.3879 - val_accuracy: 0.6230\n",
      "Epoch 651/1000\n",
      " 1/16 [>.............................] - ETA: 0s - loss: 0.4478 - accuracy: 0.8438\n",
      "Epoch 651: val_loss did not improve from 0.93503\n",
      "16/16 [==============================] - 0s 4ms/step - loss: 0.5395 - accuracy: 0.7618 - val_loss: 1.2774 - val_accuracy: 0.6230\n",
      "Epoch 652/1000\n",
      " 1/16 [>.............................] - ETA: 0s - loss: 0.7922 - accuracy: 0.6250\n",
      "Epoch 652: val_loss did not improve from 0.93503\n",
      "16/16 [==============================] - 0s 4ms/step - loss: 0.5795 - accuracy: 0.7515 - val_loss: 1.3429 - val_accuracy: 0.5902\n",
      "Epoch 653/1000\n",
      " 1/16 [>.............................] - ETA: 0s - loss: 0.4244 - accuracy: 0.8125\n",
      "Epoch 653: val_loss did not improve from 0.93503\n",
      "16/16 [==============================] - 0s 4ms/step - loss: 0.5657 - accuracy: 0.7515 - val_loss: 1.2157 - val_accuracy: 0.6475\n",
      "Epoch 654/1000\n",
      " 1/16 [>.............................] - ETA: 0s - loss: 0.5760 - accuracy: 0.7188\n",
      "Epoch 654: val_loss did not improve from 0.93503\n",
      "16/16 [==============================] - 0s 4ms/step - loss: 0.5043 - accuracy: 0.7618 - val_loss: 1.2096 - val_accuracy: 0.6311\n",
      "Epoch 655/1000\n",
      " 1/16 [>.............................] - ETA: 0s - loss: 0.5619 - accuracy: 0.7188\n",
      "Epoch 655: val_loss did not improve from 0.93503\n",
      "16/16 [==============================] - 0s 4ms/step - loss: 0.5820 - accuracy: 0.7248 - val_loss: 1.2873 - val_accuracy: 0.6393\n",
      "Epoch 656/1000\n",
      " 1/16 [>.............................] - ETA: 0s - loss: 0.4436 - accuracy: 0.7812\n",
      "Epoch 656: val_loss did not improve from 0.93503\n",
      "16/16 [==============================] - 0s 3ms/step - loss: 0.5840 - accuracy: 0.7495 - val_loss: 1.2809 - val_accuracy: 0.6557\n",
      "Epoch 657/1000\n",
      " 1/16 [>.............................] - ETA: 0s - loss: 0.6217 - accuracy: 0.8125\n",
      "Epoch 657: val_loss did not improve from 0.93503\n",
      "16/16 [==============================] - 0s 4ms/step - loss: 0.5712 - accuracy: 0.7433 - val_loss: 1.2903 - val_accuracy: 0.6230\n",
      "Epoch 658/1000\n",
      " 1/16 [>.............................] - ETA: 0s - loss: 0.6060 - accuracy: 0.7812\n",
      "Epoch 658: val_loss did not improve from 0.93503\n",
      "16/16 [==============================] - 0s 4ms/step - loss: 0.5266 - accuracy: 0.7515 - val_loss: 1.2122 - val_accuracy: 0.6393\n",
      "Epoch 659/1000\n",
      " 1/16 [>.............................] - ETA: 0s - loss: 0.4882 - accuracy: 0.7812\n",
      "Epoch 659: val_loss did not improve from 0.93503\n",
      "16/16 [==============================] - 0s 4ms/step - loss: 0.5613 - accuracy: 0.7556 - val_loss: 1.1712 - val_accuracy: 0.6393\n",
      "Epoch 660/1000\n",
      " 1/16 [>.............................] - ETA: 0s - loss: 0.5544 - accuracy: 0.8125\n",
      "Epoch 660: val_loss did not improve from 0.93503\n",
      "16/16 [==============================] - 0s 4ms/step - loss: 0.5874 - accuracy: 0.7556 - val_loss: 1.1675 - val_accuracy: 0.6393\n",
      "Epoch 661/1000\n",
      " 1/16 [>.............................] - ETA: 0s - loss: 0.7103 - accuracy: 0.7188\n",
      "Epoch 661: val_loss did not improve from 0.93503\n",
      "16/16 [==============================] - 0s 4ms/step - loss: 0.6705 - accuracy: 0.7248 - val_loss: 1.2854 - val_accuracy: 0.6066\n",
      "Epoch 662/1000\n",
      " 1/16 [>.............................] - ETA: 0s - loss: 0.6292 - accuracy: 0.7188\n",
      "Epoch 662: val_loss did not improve from 0.93503\n",
      "16/16 [==============================] - 0s 5ms/step - loss: 0.6099 - accuracy: 0.7495 - val_loss: 1.1030 - val_accuracy: 0.6721\n",
      "Epoch 663/1000\n",
      " 1/16 [>.............................] - ETA: 0s - loss: 0.5564 - accuracy: 0.8125\n",
      "Epoch 663: val_loss did not improve from 0.93503\n",
      "16/16 [==============================] - 0s 4ms/step - loss: 0.5971 - accuracy: 0.7331 - val_loss: 1.1089 - val_accuracy: 0.6721\n",
      "Epoch 664/1000\n",
      " 1/16 [>.............................] - ETA: 0s - loss: 0.6525 - accuracy: 0.7500\n",
      "Epoch 664: val_loss did not improve from 0.93503\n",
      "16/16 [==============================] - 0s 4ms/step - loss: 0.5773 - accuracy: 0.7536 - val_loss: 1.2394 - val_accuracy: 0.6475\n",
      "Epoch 665/1000\n",
      " 1/16 [>.............................] - ETA: 0s - loss: 0.6017 - accuracy: 0.7188\n",
      "Epoch 665: val_loss did not improve from 0.93503\n",
      "16/16 [==============================] - 0s 4ms/step - loss: 0.5651 - accuracy: 0.7515 - val_loss: 1.3051 - val_accuracy: 0.6475\n",
      "Epoch 666/1000\n",
      " 1/16 [>.............................] - ETA: 0s - loss: 0.6080 - accuracy: 0.6562\n",
      "Epoch 666: val_loss did not improve from 0.93503\n",
      "16/16 [==============================] - 0s 5ms/step - loss: 0.5999 - accuracy: 0.7310 - val_loss: 1.1640 - val_accuracy: 0.6639\n",
      "Epoch 667/1000\n",
      " 1/16 [>.............................] - ETA: 0s - loss: 0.3520 - accuracy: 0.8438\n",
      "Epoch 667: val_loss did not improve from 0.93503\n",
      "16/16 [==============================] - 0s 4ms/step - loss: 0.5120 - accuracy: 0.7741 - val_loss: 1.2569 - val_accuracy: 0.6393\n",
      "Epoch 668/1000\n",
      " 1/16 [>.............................] - ETA: 0s - loss: 0.6676 - accuracy: 0.6562\n",
      "Epoch 668: val_loss did not improve from 0.93503\n",
      "16/16 [==============================] - 0s 4ms/step - loss: 0.6054 - accuracy: 0.7413 - val_loss: 1.2302 - val_accuracy: 0.6475\n",
      "Epoch 669/1000\n",
      " 1/16 [>.............................] - ETA: 0s - loss: 0.5368 - accuracy: 0.7188\n",
      "Epoch 669: val_loss did not improve from 0.93503\n",
      "16/16 [==============================] - 0s 4ms/step - loss: 0.5540 - accuracy: 0.7454 - val_loss: 1.2655 - val_accuracy: 0.6557\n",
      "Epoch 670/1000\n",
      " 1/16 [>.............................] - ETA: 0s - loss: 0.5761 - accuracy: 0.7500\n",
      "Epoch 670: val_loss did not improve from 0.93503\n",
      "16/16 [==============================] - 0s 4ms/step - loss: 0.5535 - accuracy: 0.7680 - val_loss: 1.3032 - val_accuracy: 0.6475\n",
      "Epoch 671/1000\n",
      " 1/16 [>.............................] - ETA: 0s - loss: 0.7216 - accuracy: 0.7812\n",
      "Epoch 671: val_loss did not improve from 0.93503\n",
      "16/16 [==============================] - 0s 4ms/step - loss: 0.5597 - accuracy: 0.7803 - val_loss: 1.3490 - val_accuracy: 0.6393\n",
      "Epoch 672/1000\n",
      " 1/16 [>.............................] - ETA: 0s - loss: 0.4969 - accuracy: 0.8750\n",
      "Epoch 672: val_loss did not improve from 0.93503\n",
      "16/16 [==============================] - 0s 4ms/step - loss: 0.5828 - accuracy: 0.7495 - val_loss: 1.2328 - val_accuracy: 0.6393\n",
      "Epoch 673/1000\n",
      " 1/16 [>.............................] - ETA: 0s - loss: 0.3905 - accuracy: 0.7812\n",
      "Epoch 673: val_loss did not improve from 0.93503\n",
      "16/16 [==============================] - 0s 4ms/step - loss: 0.5814 - accuracy: 0.7413 - val_loss: 1.2976 - val_accuracy: 0.5902\n",
      "Epoch 674/1000\n",
      " 1/16 [>.............................] - ETA: 0s - loss: 0.4863 - accuracy: 0.7188\n",
      "Epoch 674: val_loss did not improve from 0.93503\n",
      "16/16 [==============================] - 0s 3ms/step - loss: 0.5909 - accuracy: 0.7433 - val_loss: 1.1814 - val_accuracy: 0.6803\n",
      "Epoch 675/1000\n",
      " 1/16 [>.............................] - ETA: 0s - loss: 0.3716 - accuracy: 0.9062\n",
      "Epoch 675: val_loss did not improve from 0.93503\n",
      "16/16 [==============================] - 0s 3ms/step - loss: 0.5962 - accuracy: 0.7433 - val_loss: 1.1626 - val_accuracy: 0.6639\n",
      "Epoch 676/1000\n",
      " 1/16 [>.............................] - ETA: 0s - loss: 0.7418 - accuracy: 0.5312\n",
      "Epoch 676: val_loss did not improve from 0.93503\n",
      "16/16 [==============================] - 0s 4ms/step - loss: 0.6481 - accuracy: 0.7187 - val_loss: 1.1786 - val_accuracy: 0.6311\n",
      "Epoch 677/1000\n",
      " 1/16 [>.............................] - ETA: 0s - loss: 0.7032 - accuracy: 0.7500\n",
      "Epoch 677: val_loss did not improve from 0.93503\n",
      "16/16 [==============================] - 0s 4ms/step - loss: 0.5855 - accuracy: 0.7556 - val_loss: 1.2667 - val_accuracy: 0.6393\n",
      "Epoch 678/1000\n",
      " 1/16 [>.............................] - ETA: 0s - loss: 0.6302 - accuracy: 0.7812\n",
      "Epoch 678: val_loss did not improve from 0.93503\n",
      "16/16 [==============================] - 0s 4ms/step - loss: 0.5698 - accuracy: 0.7659 - val_loss: 1.1860 - val_accuracy: 0.6639\n",
      "Epoch 679/1000\n",
      " 1/16 [>.............................] - ETA: 0s - loss: 0.4507 - accuracy: 0.7812\n",
      "Epoch 679: val_loss did not improve from 0.93503\n",
      "16/16 [==============================] - 0s 3ms/step - loss: 0.6089 - accuracy: 0.7269 - val_loss: 1.1859 - val_accuracy: 0.6639\n",
      "Epoch 680/1000\n",
      " 1/16 [>.............................] - ETA: 0s - loss: 0.4691 - accuracy: 0.7812\n",
      "Epoch 680: val_loss did not improve from 0.93503\n",
      "16/16 [==============================] - 0s 4ms/step - loss: 0.5633 - accuracy: 0.7721 - val_loss: 1.2803 - val_accuracy: 0.6393\n",
      "Epoch 681/1000\n",
      " 1/16 [>.............................] - ETA: 0s - loss: 0.5641 - accuracy: 0.8125\n",
      "Epoch 681: val_loss did not improve from 0.93503\n",
      "16/16 [==============================] - 0s 4ms/step - loss: 0.5953 - accuracy: 0.7392 - val_loss: 1.2831 - val_accuracy: 0.6311\n",
      "Epoch 682/1000\n",
      " 1/16 [>.............................] - ETA: 0s - loss: 0.7334 - accuracy: 0.7500\n",
      "Epoch 682: val_loss did not improve from 0.93503\n",
      "16/16 [==============================] - 0s 4ms/step - loss: 0.5420 - accuracy: 0.7598 - val_loss: 1.3502 - val_accuracy: 0.6066\n",
      "Epoch 683/1000\n",
      " 1/16 [>.............................] - ETA: 0s - loss: 0.4065 - accuracy: 0.7812\n",
      "Epoch 683: val_loss did not improve from 0.93503\n",
      "16/16 [==============================] - 0s 4ms/step - loss: 0.5576 - accuracy: 0.7536 - val_loss: 1.2091 - val_accuracy: 0.6311\n",
      "Epoch 684/1000\n",
      " 1/16 [>.............................] - ETA: 0s - loss: 0.4575 - accuracy: 0.8438\n",
      "Epoch 684: val_loss did not improve from 0.93503\n",
      "16/16 [==============================] - 0s 4ms/step - loss: 0.5772 - accuracy: 0.7454 - val_loss: 1.2129 - val_accuracy: 0.6475\n",
      "Epoch 685/1000\n",
      " 1/16 [>.............................] - ETA: 0s - loss: 0.4121 - accuracy: 0.8750\n",
      "Epoch 685: val_loss did not improve from 0.93503\n",
      "16/16 [==============================] - 0s 4ms/step - loss: 0.5040 - accuracy: 0.7864 - val_loss: 1.3440 - val_accuracy: 0.6230\n",
      "Epoch 686/1000\n",
      " 1/16 [>.............................] - ETA: 0s - loss: 0.5919 - accuracy: 0.6875\n",
      "Epoch 686: val_loss did not improve from 0.93503\n",
      "16/16 [==============================] - 0s 4ms/step - loss: 0.4914 - accuracy: 0.7721 - val_loss: 1.3642 - val_accuracy: 0.6230\n",
      "Epoch 687/1000\n",
      " 1/16 [>.............................] - ETA: 0s - loss: 0.6621 - accuracy: 0.6875\n",
      "Epoch 687: val_loss did not improve from 0.93503\n",
      "16/16 [==============================] - 0s 3ms/step - loss: 0.5335 - accuracy: 0.7782 - val_loss: 1.3934 - val_accuracy: 0.6066\n",
      "Epoch 688/1000\n",
      " 1/16 [>.............................] - ETA: 0s - loss: 0.5028 - accuracy: 0.8125\n",
      "Epoch 688: val_loss did not improve from 0.93503\n",
      "16/16 [==============================] - 0s 3ms/step - loss: 0.5514 - accuracy: 0.7618 - val_loss: 1.3278 - val_accuracy: 0.6311\n",
      "Epoch 689/1000\n",
      " 1/16 [>.............................] - ETA: 0s - loss: 0.5654 - accuracy: 0.7500\n",
      "Epoch 689: val_loss did not improve from 0.93503\n",
      "16/16 [==============================] - 0s 4ms/step - loss: 0.5641 - accuracy: 0.7495 - val_loss: 1.2489 - val_accuracy: 0.6230\n",
      "Epoch 690/1000\n",
      " 1/16 [>.............................] - ETA: 0s - loss: 0.4268 - accuracy: 0.8750\n",
      "Epoch 690: val_loss did not improve from 0.93503\n",
      "16/16 [==============================] - 0s 4ms/step - loss: 0.5913 - accuracy: 0.7474 - val_loss: 1.2693 - val_accuracy: 0.6639\n",
      "Epoch 691/1000\n",
      " 1/16 [>.............................] - ETA: 0s - loss: 0.8151 - accuracy: 0.6562\n",
      "Epoch 691: val_loss did not improve from 0.93503\n",
      "16/16 [==============================] - 0s 4ms/step - loss: 0.5950 - accuracy: 0.7454 - val_loss: 1.3258 - val_accuracy: 0.6311\n",
      "Epoch 692/1000\n",
      " 1/16 [>.............................] - ETA: 0s - loss: 0.5184 - accuracy: 0.8438\n",
      "Epoch 692: val_loss did not improve from 0.93503\n",
      "16/16 [==============================] - 0s 4ms/step - loss: 0.5394 - accuracy: 0.7700 - val_loss: 1.3173 - val_accuracy: 0.6148\n",
      "Epoch 693/1000\n",
      " 1/16 [>.............................] - ETA: 0s - loss: 0.5401 - accuracy: 0.7188\n",
      "Epoch 693: val_loss did not improve from 0.93503\n",
      "16/16 [==============================] - 0s 4ms/step - loss: 0.5103 - accuracy: 0.7762 - val_loss: 1.2641 - val_accuracy: 0.6557\n",
      "Epoch 694/1000\n",
      " 1/16 [>.............................] - ETA: 0s - loss: 0.5166 - accuracy: 0.8125\n",
      "Epoch 694: val_loss did not improve from 0.93503\n",
      "16/16 [==============================] - 0s 3ms/step - loss: 0.5031 - accuracy: 0.7803 - val_loss: 1.3861 - val_accuracy: 0.6230\n",
      "Epoch 695/1000\n",
      " 1/16 [>.............................] - ETA: 0s - loss: 0.5485 - accuracy: 0.7500\n",
      "Epoch 695: val_loss did not improve from 0.93503\n",
      "16/16 [==============================] - 0s 4ms/step - loss: 0.5613 - accuracy: 0.7700 - val_loss: 1.3467 - val_accuracy: 0.6311\n",
      "Epoch 696/1000\n",
      " 1/16 [>.............................] - ETA: 0s - loss: 0.2708 - accuracy: 0.9062\n",
      "Epoch 696: val_loss did not improve from 0.93503\n",
      "16/16 [==============================] - 0s 4ms/step - loss: 0.5593 - accuracy: 0.7659 - val_loss: 1.3452 - val_accuracy: 0.6393\n",
      "Epoch 697/1000\n",
      " 1/16 [>.............................] - ETA: 0s - loss: 0.7093 - accuracy: 0.6875\n",
      "Epoch 697: val_loss did not improve from 0.93503\n",
      "16/16 [==============================] - 0s 4ms/step - loss: 0.5527 - accuracy: 0.7659 - val_loss: 1.2709 - val_accuracy: 0.6148\n",
      "Epoch 698/1000\n",
      " 1/16 [>.............................] - ETA: 0s - loss: 0.3473 - accuracy: 0.9062\n",
      "Epoch 698: val_loss did not improve from 0.93503\n",
      "16/16 [==============================] - 0s 4ms/step - loss: 0.5878 - accuracy: 0.7495 - val_loss: 1.4189 - val_accuracy: 0.6230\n",
      "Epoch 699/1000\n",
      " 1/16 [>.............................] - ETA: 0s - loss: 0.5010 - accuracy: 0.8125\n",
      "Epoch 699: val_loss did not improve from 0.93503\n",
      "16/16 [==============================] - 0s 3ms/step - loss: 0.5576 - accuracy: 0.7556 - val_loss: 1.2834 - val_accuracy: 0.6311\n",
      "Epoch 700/1000\n",
      " 1/16 [>.............................] - ETA: 0s - loss: 0.6079 - accuracy: 0.7188\n",
      "Epoch 700: val_loss did not improve from 0.93503\n",
      "16/16 [==============================] - 0s 3ms/step - loss: 0.5777 - accuracy: 0.7515 - val_loss: 1.2259 - val_accuracy: 0.6475\n",
      "Epoch 701/1000\n",
      " 1/16 [>.............................] - ETA: 0s - loss: 0.4767 - accuracy: 0.7812\n",
      "Epoch 701: val_loss did not improve from 0.93503\n",
      "16/16 [==============================] - 0s 4ms/step - loss: 0.5757 - accuracy: 0.7618 - val_loss: 1.3238 - val_accuracy: 0.6639\n",
      "Epoch 702/1000\n",
      " 1/16 [>.............................] - ETA: 0s - loss: 0.4754 - accuracy: 0.7188\n",
      "Epoch 702: val_loss did not improve from 0.93503\n",
      "16/16 [==============================] - 0s 4ms/step - loss: 0.5803 - accuracy: 0.7392 - val_loss: 1.3371 - val_accuracy: 0.6393\n",
      "Epoch 703/1000\n",
      " 1/16 [>.............................] - ETA: 0s - loss: 0.5503 - accuracy: 0.7188\n",
      "Epoch 703: val_loss did not improve from 0.93503\n",
      "16/16 [==============================] - 0s 4ms/step - loss: 0.5396 - accuracy: 0.7659 - val_loss: 1.3387 - val_accuracy: 0.6311\n",
      "Epoch 704/1000\n",
      " 1/16 [>.............................] - ETA: 0s - loss: 0.4531 - accuracy: 0.7500\n",
      "Epoch 704: val_loss did not improve from 0.93503\n",
      "16/16 [==============================] - 0s 4ms/step - loss: 0.5354 - accuracy: 0.7700 - val_loss: 1.2977 - val_accuracy: 0.6475\n",
      "Epoch 705/1000\n",
      " 1/16 [>.............................] - ETA: 0s - loss: 0.4751 - accuracy: 0.7500\n",
      "Epoch 705: val_loss did not improve from 0.93503\n",
      "16/16 [==============================] - 0s 4ms/step - loss: 0.5342 - accuracy: 0.7639 - val_loss: 1.3128 - val_accuracy: 0.6475\n",
      "Epoch 706/1000\n",
      " 1/16 [>.............................] - ETA: 0s - loss: 0.4749 - accuracy: 0.8125\n",
      "Epoch 706: val_loss did not improve from 0.93503\n",
      "16/16 [==============================] - 0s 4ms/step - loss: 0.6289 - accuracy: 0.7331 - val_loss: 1.3306 - val_accuracy: 0.6230\n",
      "Epoch 707/1000\n",
      " 1/16 [>.............................] - ETA: 0s - loss: 0.7383 - accuracy: 0.7500\n",
      "Epoch 707: val_loss did not improve from 0.93503\n",
      "16/16 [==============================] - 0s 4ms/step - loss: 0.5889 - accuracy: 0.7413 - val_loss: 1.3067 - val_accuracy: 0.6148\n",
      "Epoch 708/1000\n",
      " 1/16 [>.............................] - ETA: 0s - loss: 0.4870 - accuracy: 0.7812\n",
      "Epoch 708: val_loss did not improve from 0.93503\n",
      "16/16 [==============================] - 0s 4ms/step - loss: 0.6007 - accuracy: 0.7474 - val_loss: 1.2780 - val_accuracy: 0.6311\n",
      "Epoch 709/1000\n",
      " 1/16 [>.............................] - ETA: 0s - loss: 0.9309 - accuracy: 0.5625\n",
      "Epoch 709: val_loss did not improve from 0.93503\n",
      "16/16 [==============================] - 0s 4ms/step - loss: 0.6248 - accuracy: 0.7310 - val_loss: 1.2514 - val_accuracy: 0.6066\n",
      "Epoch 710/1000\n",
      " 1/16 [>.............................] - ETA: 0s - loss: 0.6283 - accuracy: 0.7188\n",
      "Epoch 710: val_loss did not improve from 0.93503\n",
      "16/16 [==============================] - 0s 4ms/step - loss: 0.5436 - accuracy: 0.7433 - val_loss: 1.3095 - val_accuracy: 0.6393\n",
      "Epoch 711/1000\n",
      " 1/16 [>.............................] - ETA: 0s - loss: 0.5165 - accuracy: 0.7812\n",
      "Epoch 711: val_loss did not improve from 0.93503\n",
      "16/16 [==============================] - 0s 3ms/step - loss: 0.5425 - accuracy: 0.7782 - val_loss: 1.2981 - val_accuracy: 0.6475\n",
      "Epoch 712/1000\n",
      " 1/16 [>.............................] - ETA: 0s - loss: 0.5039 - accuracy: 0.7812\n",
      "Epoch 712: val_loss did not improve from 0.93503\n",
      "16/16 [==============================] - 0s 4ms/step - loss: 0.5763 - accuracy: 0.7433 - val_loss: 1.4089 - val_accuracy: 0.6393\n",
      "Epoch 713/1000\n",
      " 1/16 [>.............................] - ETA: 0s - loss: 0.3559 - accuracy: 0.9688\n",
      "Epoch 713: val_loss did not improve from 0.93503\n",
      "16/16 [==============================] - 0s 4ms/step - loss: 0.5336 - accuracy: 0.7864 - val_loss: 1.3430 - val_accuracy: 0.6557\n",
      "Epoch 714/1000\n",
      " 1/16 [>.............................] - ETA: 0s - loss: 0.5991 - accuracy: 0.7500\n",
      "Epoch 714: val_loss did not improve from 0.93503\n",
      "16/16 [==============================] - 0s 4ms/step - loss: 0.5422 - accuracy: 0.7536 - val_loss: 1.2763 - val_accuracy: 0.6393\n",
      "Epoch 715/1000\n",
      " 1/16 [>.............................] - ETA: 0s - loss: 0.4733 - accuracy: 0.8125\n",
      "Epoch 715: val_loss did not improve from 0.93503\n",
      "16/16 [==============================] - 0s 4ms/step - loss: 0.5591 - accuracy: 0.7433 - val_loss: 1.2559 - val_accuracy: 0.6311\n",
      "Epoch 716/1000\n",
      " 1/16 [>.............................] - ETA: 0s - loss: 0.6079 - accuracy: 0.8438\n",
      "Epoch 716: val_loss did not improve from 0.93503\n",
      "16/16 [==============================] - 0s 3ms/step - loss: 0.5614 - accuracy: 0.7515 - val_loss: 1.2670 - val_accuracy: 0.6721\n",
      "Epoch 717/1000\n",
      " 1/16 [>.............................] - ETA: 0s - loss: 0.7177 - accuracy: 0.6250\n",
      "Epoch 717: val_loss did not improve from 0.93503\n",
      "16/16 [==============================] - 0s 3ms/step - loss: 0.6290 - accuracy: 0.7064 - val_loss: 1.3946 - val_accuracy: 0.5902\n",
      "Epoch 718/1000\n",
      " 1/16 [>.............................] - ETA: 0s - loss: 0.4111 - accuracy: 0.7812\n",
      "Epoch 718: val_loss did not improve from 0.93503\n",
      "16/16 [==============================] - 0s 4ms/step - loss: 0.6213 - accuracy: 0.7372 - val_loss: 1.2409 - val_accuracy: 0.6475\n",
      "Epoch 719/1000\n",
      " 1/16 [>.............................] - ETA: 0s - loss: 0.7412 - accuracy: 0.6562\n",
      "Epoch 719: val_loss did not improve from 0.93503\n",
      "16/16 [==============================] - 0s 4ms/step - loss: 0.6339 - accuracy: 0.7290 - val_loss: 1.2289 - val_accuracy: 0.6393\n",
      "Epoch 720/1000\n",
      " 1/16 [>.............................] - ETA: 0s - loss: 0.6320 - accuracy: 0.7500\n",
      "Epoch 720: val_loss did not improve from 0.93503\n",
      "16/16 [==============================] - 0s 4ms/step - loss: 0.5479 - accuracy: 0.7536 - val_loss: 1.2244 - val_accuracy: 0.6311\n",
      "Epoch 721/1000\n",
      " 1/16 [>.............................] - ETA: 0s - loss: 0.4851 - accuracy: 0.7812\n",
      "Epoch 721: val_loss did not improve from 0.93503\n",
      "16/16 [==============================] - 0s 4ms/step - loss: 0.6019 - accuracy: 0.7639 - val_loss: 1.2426 - val_accuracy: 0.6311\n",
      "Epoch 722/1000\n",
      " 1/16 [>.............................] - ETA: 0s - loss: 0.7366 - accuracy: 0.7500\n",
      "Epoch 722: val_loss did not improve from 0.93503\n",
      "16/16 [==============================] - 0s 4ms/step - loss: 0.5669 - accuracy: 0.7659 - val_loss: 1.2628 - val_accuracy: 0.6066\n",
      "Epoch 723/1000\n",
      " 1/16 [>.............................] - ETA: 0s - loss: 0.7704 - accuracy: 0.6875\n",
      "Epoch 723: val_loss did not improve from 0.93503\n",
      "16/16 [==============================] - 0s 4ms/step - loss: 0.5504 - accuracy: 0.7618 - val_loss: 1.1858 - val_accuracy: 0.6393\n",
      "Epoch 724/1000\n",
      " 1/16 [>.............................] - ETA: 0s - loss: 0.7327 - accuracy: 0.7188\n",
      "Epoch 724: val_loss did not improve from 0.93503\n",
      "16/16 [==============================] - 0s 4ms/step - loss: 0.5244 - accuracy: 0.7618 - val_loss: 1.2660 - val_accuracy: 0.6475\n",
      "Epoch 725/1000\n",
      " 1/16 [>.............................] - ETA: 0s - loss: 0.5596 - accuracy: 0.7812\n",
      "Epoch 725: val_loss did not improve from 0.93503\n",
      "16/16 [==============================] - 0s 4ms/step - loss: 0.6080 - accuracy: 0.7331 - val_loss: 1.3322 - val_accuracy: 0.6230\n",
      "Epoch 726/1000\n",
      " 1/16 [>.............................] - ETA: 0s - loss: 0.6179 - accuracy: 0.6875\n",
      "Epoch 726: val_loss did not improve from 0.93503\n",
      "16/16 [==============================] - 0s 4ms/step - loss: 0.5783 - accuracy: 0.7495 - val_loss: 1.2262 - val_accuracy: 0.6311\n",
      "Epoch 727/1000\n",
      " 1/16 [>.............................] - ETA: 0s - loss: 0.6186 - accuracy: 0.6562\n",
      "Epoch 727: val_loss did not improve from 0.93503\n",
      "16/16 [==============================] - 0s 4ms/step - loss: 0.5651 - accuracy: 0.7433 - val_loss: 1.3106 - val_accuracy: 0.6311\n",
      "Epoch 728/1000\n",
      " 1/16 [>.............................] - ETA: 0s - loss: 0.6845 - accuracy: 0.5312\n",
      "Epoch 728: val_loss did not improve from 0.93503\n",
      "16/16 [==============================] - 0s 4ms/step - loss: 0.5614 - accuracy: 0.7351 - val_loss: 1.3437 - val_accuracy: 0.6475\n",
      "Epoch 729/1000\n",
      " 1/16 [>.............................] - ETA: 0s - loss: 0.4609 - accuracy: 0.8438\n",
      "Epoch 729: val_loss did not improve from 0.93503\n",
      "16/16 [==============================] - 0s 4ms/step - loss: 0.5729 - accuracy: 0.7474 - val_loss: 1.2981 - val_accuracy: 0.6311\n",
      "Epoch 730/1000\n",
      " 1/16 [>.............................] - ETA: 0s - loss: 0.6150 - accuracy: 0.6250\n",
      "Epoch 730: val_loss did not improve from 0.93503\n",
      "16/16 [==============================] - 0s 4ms/step - loss: 0.5745 - accuracy: 0.7556 - val_loss: 1.2717 - val_accuracy: 0.6148\n",
      "Epoch 731/1000\n",
      " 1/16 [>.............................] - ETA: 0s - loss: 0.5257 - accuracy: 0.8125\n",
      "Epoch 731: val_loss did not improve from 0.93503\n",
      "16/16 [==============================] - 0s 4ms/step - loss: 0.5953 - accuracy: 0.7618 - val_loss: 1.3755 - val_accuracy: 0.6148\n",
      "Epoch 732/1000\n",
      " 1/16 [>.............................] - ETA: 0s - loss: 0.5785 - accuracy: 0.7812\n",
      "Epoch 732: val_loss did not improve from 0.93503\n",
      "16/16 [==============================] - 0s 4ms/step - loss: 0.5757 - accuracy: 0.7433 - val_loss: 1.3652 - val_accuracy: 0.6230\n",
      "Epoch 733/1000\n",
      " 1/16 [>.............................] - ETA: 0s - loss: 0.5939 - accuracy: 0.7500\n",
      "Epoch 733: val_loss did not improve from 0.93503\n",
      "16/16 [==============================] - 0s 3ms/step - loss: 0.5749 - accuracy: 0.7762 - val_loss: 1.3298 - val_accuracy: 0.6311\n",
      "Epoch 734/1000\n",
      " 1/16 [>.............................] - ETA: 0s - loss: 0.6964 - accuracy: 0.6875\n",
      "Epoch 734: val_loss did not improve from 0.93503\n",
      "16/16 [==============================] - 0s 3ms/step - loss: 0.6123 - accuracy: 0.7556 - val_loss: 1.1858 - val_accuracy: 0.6475\n",
      "Epoch 735/1000\n",
      " 1/16 [>.............................] - ETA: 0s - loss: 0.6445 - accuracy: 0.7812\n",
      "Epoch 735: val_loss did not improve from 0.93503\n",
      "16/16 [==============================] - 0s 3ms/step - loss: 0.5832 - accuracy: 0.7454 - val_loss: 1.2672 - val_accuracy: 0.6230\n",
      "Epoch 736/1000\n",
      " 1/16 [>.............................] - ETA: 0s - loss: 0.6794 - accuracy: 0.7188\n",
      "Epoch 736: val_loss did not improve from 0.93503\n",
      "16/16 [==============================] - 0s 3ms/step - loss: 0.6182 - accuracy: 0.7248 - val_loss: 1.3145 - val_accuracy: 0.6066\n",
      "Epoch 737/1000\n",
      " 1/16 [>.............................] - ETA: 0s - loss: 0.5475 - accuracy: 0.7500\n",
      "Epoch 737: val_loss did not improve from 0.93503\n",
      "16/16 [==============================] - 0s 4ms/step - loss: 0.6248 - accuracy: 0.7598 - val_loss: 1.2271 - val_accuracy: 0.6148\n",
      "Epoch 738/1000\n",
      " 1/16 [>.............................] - ETA: 0s - loss: 0.5073 - accuracy: 0.7812\n",
      "Epoch 738: val_loss did not improve from 0.93503\n",
      "16/16 [==============================] - 0s 4ms/step - loss: 0.6730 - accuracy: 0.7023 - val_loss: 1.1345 - val_accuracy: 0.6311\n",
      "Epoch 739/1000\n",
      " 1/16 [>.............................] - ETA: 0s - loss: 0.6207 - accuracy: 0.7500\n",
      "Epoch 739: val_loss did not improve from 0.93503\n",
      "16/16 [==============================] - 0s 3ms/step - loss: 0.6460 - accuracy: 0.7598 - val_loss: 1.2206 - val_accuracy: 0.6557\n",
      "Epoch 740/1000\n",
      " 1/16 [>.............................] - ETA: 0s - loss: 0.3713 - accuracy: 0.9375\n",
      "Epoch 740: val_loss did not improve from 0.93503\n",
      "16/16 [==============================] - 0s 3ms/step - loss: 0.6328 - accuracy: 0.7680 - val_loss: 1.2201 - val_accuracy: 0.6148\n",
      "Epoch 741/1000\n",
      " 1/16 [>.............................] - ETA: 0s - loss: 0.3442 - accuracy: 0.8750\n",
      "Epoch 741: val_loss did not improve from 0.93503\n",
      "16/16 [==============================] - 0s 3ms/step - loss: 0.5916 - accuracy: 0.7495 - val_loss: 1.1472 - val_accuracy: 0.6475\n",
      "Epoch 742/1000\n",
      " 1/16 [>.............................] - ETA: 0s - loss: 0.6759 - accuracy: 0.7500\n",
      "Epoch 742: val_loss did not improve from 0.93503\n",
      "16/16 [==============================] - 0s 4ms/step - loss: 0.5847 - accuracy: 0.7331 - val_loss: 1.1712 - val_accuracy: 0.6393\n",
      "Epoch 743/1000\n",
      " 1/16 [>.............................] - ETA: 0s - loss: 0.7153 - accuracy: 0.7188\n",
      "Epoch 743: val_loss did not improve from 0.93503\n",
      "16/16 [==============================] - 0s 4ms/step - loss: 0.5901 - accuracy: 0.7433 - val_loss: 1.2259 - val_accuracy: 0.6639\n",
      "Epoch 744/1000\n",
      " 1/16 [>.............................] - ETA: 0s - loss: 0.3891 - accuracy: 0.8438\n",
      "Epoch 744: val_loss did not improve from 0.93503\n",
      "16/16 [==============================] - 0s 4ms/step - loss: 0.5723 - accuracy: 0.7392 - val_loss: 1.2869 - val_accuracy: 0.6066\n",
      "Epoch 745/1000\n",
      " 1/16 [>.............................] - ETA: 0s - loss: 0.4914 - accuracy: 0.8125\n",
      "Epoch 745: val_loss did not improve from 0.93503\n",
      "16/16 [==============================] - 0s 4ms/step - loss: 0.6572 - accuracy: 0.7248 - val_loss: 1.2693 - val_accuracy: 0.6148\n",
      "Epoch 746/1000\n",
      " 1/16 [>.............................] - ETA: 0s - loss: 0.6954 - accuracy: 0.6875\n",
      "Epoch 746: val_loss did not improve from 0.93503\n",
      "16/16 [==============================] - 0s 4ms/step - loss: 0.6528 - accuracy: 0.7290 - val_loss: 1.1253 - val_accuracy: 0.6475\n",
      "Epoch 747/1000\n",
      " 1/16 [>.............................] - ETA: 0s - loss: 0.7962 - accuracy: 0.6250\n",
      "Epoch 747: val_loss did not improve from 0.93503\n",
      "16/16 [==============================] - 0s 4ms/step - loss: 0.6445 - accuracy: 0.7228 - val_loss: 1.1330 - val_accuracy: 0.6230\n",
      "Epoch 748/1000\n",
      " 1/16 [>.............................] - ETA: 0s - loss: 0.5008 - accuracy: 0.7500\n",
      "Epoch 748: val_loss did not improve from 0.93503\n",
      "16/16 [==============================] - 0s 4ms/step - loss: 0.6140 - accuracy: 0.7433 - val_loss: 1.1666 - val_accuracy: 0.5902\n",
      "Epoch 749/1000\n",
      " 1/16 [>.............................] - ETA: 0s - loss: 0.6081 - accuracy: 0.7500\n",
      "Epoch 749: val_loss did not improve from 0.93503\n",
      "16/16 [==============================] - 0s 4ms/step - loss: 0.5869 - accuracy: 0.7515 - val_loss: 1.0917 - val_accuracy: 0.6967\n",
      "Epoch 750/1000\n",
      " 1/16 [>.............................] - ETA: 0s - loss: 0.3927 - accuracy: 0.8438\n",
      "Epoch 750: val_loss did not improve from 0.93503\n",
      "16/16 [==============================] - 0s 4ms/step - loss: 0.6622 - accuracy: 0.7372 - val_loss: 1.1063 - val_accuracy: 0.6393\n",
      "Epoch 751/1000\n",
      " 1/16 [>.............................] - ETA: 0s - loss: 0.5778 - accuracy: 0.7812\n",
      "Epoch 751: val_loss did not improve from 0.93503\n",
      "16/16 [==============================] - 0s 4ms/step - loss: 0.6461 - accuracy: 0.7413 - val_loss: 1.0651 - val_accuracy: 0.6557\n",
      "Epoch 752/1000\n",
      " 1/16 [>.............................] - ETA: 0s - loss: 0.7172 - accuracy: 0.6250\n",
      "Epoch 752: val_loss did not improve from 0.93503\n",
      "16/16 [==============================] - 0s 4ms/step - loss: 0.6281 - accuracy: 0.7248 - val_loss: 1.1082 - val_accuracy: 0.6311\n",
      "Epoch 753/1000\n",
      " 1/16 [>.............................] - ETA: 0s - loss: 0.4076 - accuracy: 0.8438\n",
      "Epoch 753: val_loss did not improve from 0.93503\n",
      "16/16 [==============================] - 0s 4ms/step - loss: 0.6214 - accuracy: 0.7536 - val_loss: 1.1143 - val_accuracy: 0.6721\n",
      "Epoch 754/1000\n",
      " 1/16 [>.............................] - ETA: 0s - loss: 0.6361 - accuracy: 0.6875\n",
      "Epoch 754: val_loss did not improve from 0.93503\n",
      "16/16 [==============================] - 0s 4ms/step - loss: 0.6152 - accuracy: 0.7392 - val_loss: 1.2514 - val_accuracy: 0.6148\n",
      "Epoch 755/1000\n",
      " 1/16 [>.............................] - ETA: 0s - loss: 0.5403 - accuracy: 0.7500\n",
      "Epoch 755: val_loss did not improve from 0.93503\n",
      "16/16 [==============================] - 0s 4ms/step - loss: 0.6340 - accuracy: 0.7351 - val_loss: 1.1496 - val_accuracy: 0.6393\n",
      "Epoch 756/1000\n",
      " 1/16 [>.............................] - ETA: 0s - loss: 0.4081 - accuracy: 0.8750\n",
      "Epoch 756: val_loss did not improve from 0.93503\n",
      "16/16 [==============================] - 0s 4ms/step - loss: 0.6495 - accuracy: 0.7413 - val_loss: 1.0709 - val_accuracy: 0.6557\n",
      "Epoch 757/1000\n",
      " 1/16 [>.............................] - ETA: 0s - loss: 0.5025 - accuracy: 0.8438\n",
      "Epoch 757: val_loss did not improve from 0.93503\n",
      "16/16 [==============================] - 0s 4ms/step - loss: 0.6217 - accuracy: 0.7495 - val_loss: 1.0252 - val_accuracy: 0.7049\n",
      "Epoch 758/1000\n",
      " 1/16 [>.............................] - ETA: 0s - loss: 0.7051 - accuracy: 0.7188\n",
      "Epoch 758: val_loss did not improve from 0.93503\n",
      "16/16 [==============================] - 0s 4ms/step - loss: 0.6980 - accuracy: 0.7372 - val_loss: 1.0907 - val_accuracy: 0.6393\n",
      "Epoch 759/1000\n",
      " 1/16 [>.............................] - ETA: 0s - loss: 0.5119 - accuracy: 0.7500\n",
      "Epoch 759: val_loss did not improve from 0.93503\n",
      "16/16 [==============================] - 0s 3ms/step - loss: 0.5862 - accuracy: 0.7351 - val_loss: 1.1118 - val_accuracy: 0.6557\n",
      "Epoch 760/1000\n",
      " 1/16 [>.............................] - ETA: 0s - loss: 0.6247 - accuracy: 0.7188\n",
      "Epoch 760: val_loss did not improve from 0.93503\n",
      "16/16 [==============================] - 0s 3ms/step - loss: 0.5682 - accuracy: 0.7639 - val_loss: 1.1413 - val_accuracy: 0.6230\n",
      "Epoch 761/1000\n",
      " 1/16 [>.............................] - ETA: 0s - loss: 0.5602 - accuracy: 0.8438\n",
      "Epoch 761: val_loss did not improve from 0.93503\n",
      "16/16 [==============================] - 0s 4ms/step - loss: 0.6079 - accuracy: 0.7577 - val_loss: 1.1444 - val_accuracy: 0.6557\n",
      "Epoch 762/1000\n",
      " 1/16 [>.............................] - ETA: 0s - loss: 0.4928 - accuracy: 0.7812\n",
      "Epoch 762: val_loss did not improve from 0.93503\n",
      "16/16 [==============================] - 0s 3ms/step - loss: 0.6486 - accuracy: 0.7331 - val_loss: 1.1140 - val_accuracy: 0.6311\n",
      "Epoch 763/1000\n",
      " 1/16 [>.............................] - ETA: 0s - loss: 0.6710 - accuracy: 0.7500\n",
      "Epoch 763: val_loss did not improve from 0.93503\n",
      "16/16 [==============================] - 0s 4ms/step - loss: 0.6371 - accuracy: 0.7310 - val_loss: 1.1981 - val_accuracy: 0.6311\n",
      "Epoch 764/1000\n",
      " 1/16 [>.............................] - ETA: 0s - loss: 0.6515 - accuracy: 0.7188\n",
      "Epoch 764: val_loss did not improve from 0.93503\n",
      "16/16 [==============================] - 0s 4ms/step - loss: 0.6142 - accuracy: 0.7413 - val_loss: 1.1962 - val_accuracy: 0.6311\n",
      "Epoch 765/1000\n",
      " 1/16 [>.............................] - ETA: 0s - loss: 0.5892 - accuracy: 0.7812\n",
      "Epoch 765: val_loss did not improve from 0.93503\n",
      "16/16 [==============================] - 0s 3ms/step - loss: 0.6002 - accuracy: 0.7413 - val_loss: 1.1935 - val_accuracy: 0.6230\n",
      "Epoch 766/1000\n",
      " 1/16 [>.............................] - ETA: 0s - loss: 0.5220 - accuracy: 0.7812\n",
      "Epoch 766: val_loss did not improve from 0.93503\n",
      "16/16 [==============================] - 0s 4ms/step - loss: 0.5852 - accuracy: 0.7413 - val_loss: 1.1676 - val_accuracy: 0.5984\n",
      "Epoch 767/1000\n",
      " 1/16 [>.............................] - ETA: 0s - loss: 0.5953 - accuracy: 0.7188\n",
      "Epoch 767: val_loss did not improve from 0.93503\n",
      "16/16 [==============================] - 0s 4ms/step - loss: 0.5807 - accuracy: 0.7618 - val_loss: 1.1678 - val_accuracy: 0.6557\n",
      "Epoch 768/1000\n",
      " 1/16 [>.............................] - ETA: 0s - loss: 0.7522 - accuracy: 0.6875\n",
      "Epoch 768: val_loss did not improve from 0.93503\n",
      "16/16 [==============================] - 0s 4ms/step - loss: 0.6026 - accuracy: 0.7577 - val_loss: 1.2450 - val_accuracy: 0.6393\n",
      "Epoch 769/1000\n",
      " 1/16 [>.............................] - ETA: 0s - loss: 0.3650 - accuracy: 0.9062\n",
      "Epoch 769: val_loss did not improve from 0.93503\n",
      "16/16 [==============================] - 0s 3ms/step - loss: 0.5947 - accuracy: 0.7598 - val_loss: 1.2742 - val_accuracy: 0.5902\n",
      "Epoch 770/1000\n",
      " 1/16 [>.............................] - ETA: 0s - loss: 0.6384 - accuracy: 0.6250\n",
      "Epoch 770: val_loss did not improve from 0.93503\n",
      "16/16 [==============================] - 0s 3ms/step - loss: 0.6092 - accuracy: 0.7474 - val_loss: 1.2173 - val_accuracy: 0.5984\n",
      "Epoch 771/1000\n",
      " 1/16 [>.............................] - ETA: 0s - loss: 0.6318 - accuracy: 0.7188\n",
      "Epoch 771: val_loss did not improve from 0.93503\n",
      "16/16 [==============================] - 0s 4ms/step - loss: 0.5835 - accuracy: 0.7515 - val_loss: 1.1877 - val_accuracy: 0.6393\n",
      "Epoch 772/1000\n",
      " 1/16 [>.............................] - ETA: 0s - loss: 0.3619 - accuracy: 0.8750\n",
      "Epoch 772: val_loss did not improve from 0.93503\n",
      "16/16 [==============================] - 0s 4ms/step - loss: 0.5679 - accuracy: 0.7577 - val_loss: 1.2743 - val_accuracy: 0.6311\n",
      "Epoch 773/1000\n",
      " 1/16 [>.............................] - ETA: 0s - loss: 0.4889 - accuracy: 0.8125\n",
      "Epoch 773: val_loss did not improve from 0.93503\n",
      "16/16 [==============================] - 0s 3ms/step - loss: 0.5489 - accuracy: 0.7885 - val_loss: 1.2246 - val_accuracy: 0.6803\n",
      "Epoch 774/1000\n",
      " 1/16 [>.............................] - ETA: 0s - loss: 0.6669 - accuracy: 0.6250\n",
      "Epoch 774: val_loss did not improve from 0.93503\n",
      "16/16 [==============================] - 0s 3ms/step - loss: 0.5530 - accuracy: 0.7680 - val_loss: 1.2414 - val_accuracy: 0.6393\n",
      "Epoch 775/1000\n",
      " 1/16 [>.............................] - ETA: 0s - loss: 0.6849 - accuracy: 0.7500\n",
      "Epoch 775: val_loss did not improve from 0.93503\n",
      "16/16 [==============================] - 0s 4ms/step - loss: 0.5681 - accuracy: 0.7659 - val_loss: 1.2322 - val_accuracy: 0.6148\n",
      "Epoch 776/1000\n",
      " 1/16 [>.............................] - ETA: 0s - loss: 0.4377 - accuracy: 0.8438\n",
      "Epoch 776: val_loss did not improve from 0.93503\n",
      "16/16 [==============================] - 0s 4ms/step - loss: 0.5719 - accuracy: 0.7536 - val_loss: 1.2901 - val_accuracy: 0.6311\n",
      "Epoch 777/1000\n",
      " 1/16 [>.............................] - ETA: 0s - loss: 0.5374 - accuracy: 0.7188\n",
      "Epoch 777: val_loss did not improve from 0.93503\n",
      "16/16 [==============================] - 0s 4ms/step - loss: 0.6255 - accuracy: 0.7372 - val_loss: 1.2174 - val_accuracy: 0.6557\n",
      "Epoch 778/1000\n",
      " 1/16 [>.............................] - ETA: 0s - loss: 0.4331 - accuracy: 0.8750\n",
      "Epoch 778: val_loss did not improve from 0.93503\n",
      "16/16 [==============================] - 0s 4ms/step - loss: 0.5513 - accuracy: 0.7659 - val_loss: 1.3356 - val_accuracy: 0.6148\n",
      "Epoch 779/1000\n",
      " 1/16 [>.............................] - ETA: 0s - loss: 0.5280 - accuracy: 0.8125\n",
      "Epoch 779: val_loss did not improve from 0.93503\n",
      "16/16 [==============================] - 0s 4ms/step - loss: 0.5851 - accuracy: 0.7392 - val_loss: 1.2596 - val_accuracy: 0.6230\n",
      "Epoch 780/1000\n",
      " 1/16 [>.............................] - ETA: 0s - loss: 0.5305 - accuracy: 0.7812\n",
      "Epoch 780: val_loss did not improve from 0.93503\n",
      "16/16 [==============================] - 0s 3ms/step - loss: 0.6112 - accuracy: 0.7351 - val_loss: 1.3261 - val_accuracy: 0.6475\n",
      "Epoch 781/1000\n",
      " 1/16 [>.............................] - ETA: 0s - loss: 0.5688 - accuracy: 0.7812\n",
      "Epoch 781: val_loss did not improve from 0.93503\n",
      "16/16 [==============================] - 0s 4ms/step - loss: 0.5283 - accuracy: 0.7885 - val_loss: 1.2902 - val_accuracy: 0.6311\n",
      "Epoch 782/1000\n",
      " 1/16 [>.............................] - ETA: 0s - loss: 0.5013 - accuracy: 0.7500\n",
      "Epoch 782: val_loss did not improve from 0.93503\n",
      "16/16 [==============================] - 0s 4ms/step - loss: 0.5449 - accuracy: 0.7598 - val_loss: 1.4336 - val_accuracy: 0.6311\n",
      "Epoch 783/1000\n",
      " 1/16 [>.............................] - ETA: 0s - loss: 0.4891 - accuracy: 0.8125\n",
      "Epoch 783: val_loss did not improve from 0.93503\n",
      "16/16 [==============================] - 0s 4ms/step - loss: 0.5706 - accuracy: 0.7659 - val_loss: 1.2969 - val_accuracy: 0.6475\n",
      "Epoch 784/1000\n",
      " 1/16 [>.............................] - ETA: 0s - loss: 0.6899 - accuracy: 0.8125\n",
      "Epoch 784: val_loss did not improve from 0.93503\n",
      "16/16 [==============================] - 0s 3ms/step - loss: 0.5942 - accuracy: 0.7454 - val_loss: 1.4376 - val_accuracy: 0.6393\n",
      "Epoch 785/1000\n",
      " 1/16 [>.............................] - ETA: 0s - loss: 0.4637 - accuracy: 0.7500\n",
      "Epoch 785: val_loss did not improve from 0.93503\n",
      "16/16 [==============================] - 0s 3ms/step - loss: 0.6335 - accuracy: 0.7474 - val_loss: 1.2714 - val_accuracy: 0.6311\n",
      "Epoch 786/1000\n",
      " 1/16 [>.............................] - ETA: 0s - loss: 0.5863 - accuracy: 0.8125\n",
      "Epoch 786: val_loss did not improve from 0.93503\n",
      "16/16 [==============================] - 0s 4ms/step - loss: 0.5624 - accuracy: 0.7598 - val_loss: 1.2187 - val_accuracy: 0.6639\n",
      "Epoch 787/1000\n",
      " 1/16 [>.............................] - ETA: 0s - loss: 0.5267 - accuracy: 0.7500\n",
      "Epoch 787: val_loss did not improve from 0.93503\n",
      "16/16 [==============================] - 0s 4ms/step - loss: 0.5035 - accuracy: 0.7741 - val_loss: 1.2757 - val_accuracy: 0.6393\n",
      "Epoch 788/1000\n",
      " 1/16 [>.............................] - ETA: 0s - loss: 0.6895 - accuracy: 0.8125\n",
      "Epoch 788: val_loss did not improve from 0.93503\n",
      "16/16 [==============================] - 0s 4ms/step - loss: 0.5372 - accuracy: 0.7844 - val_loss: 1.2650 - val_accuracy: 0.6557\n",
      "Epoch 789/1000\n",
      " 1/16 [>.............................] - ETA: 0s - loss: 0.5825 - accuracy: 0.6875\n",
      "Epoch 789: val_loss did not improve from 0.93503\n",
      "16/16 [==============================] - 0s 4ms/step - loss: 0.5457 - accuracy: 0.7618 - val_loss: 1.2646 - val_accuracy: 0.6148\n",
      "Epoch 790/1000\n",
      " 1/16 [>.............................] - ETA: 0s - loss: 0.6300 - accuracy: 0.7500\n",
      "Epoch 790: val_loss did not improve from 0.93503\n",
      "16/16 [==============================] - 0s 4ms/step - loss: 0.5385 - accuracy: 0.7618 - val_loss: 1.2248 - val_accuracy: 0.6393\n",
      "Epoch 791/1000\n",
      " 1/16 [>.............................] - ETA: 0s - loss: 0.3646 - accuracy: 0.8750\n",
      "Epoch 791: val_loss did not improve from 0.93503\n",
      "16/16 [==============================] - 0s 4ms/step - loss: 0.5395 - accuracy: 0.7536 - val_loss: 1.2288 - val_accuracy: 0.6557\n",
      "Epoch 792/1000\n",
      " 1/16 [>.............................] - ETA: 0s - loss: 0.7952 - accuracy: 0.7500\n",
      "Epoch 792: val_loss did not improve from 0.93503\n",
      "16/16 [==============================] - 0s 4ms/step - loss: 0.5489 - accuracy: 0.7700 - val_loss: 1.3333 - val_accuracy: 0.6803\n",
      "Epoch 793/1000\n",
      " 1/16 [>.............................] - ETA: 0s - loss: 0.7204 - accuracy: 0.6875\n",
      "Epoch 793: val_loss did not improve from 0.93503\n",
      "16/16 [==============================] - 0s 4ms/step - loss: 0.6114 - accuracy: 0.7372 - val_loss: 1.2680 - val_accuracy: 0.6475\n",
      "Epoch 794/1000\n",
      " 1/16 [>.............................] - ETA: 0s - loss: 0.4444 - accuracy: 0.8750\n",
      "Epoch 794: val_loss did not improve from 0.93503\n",
      "16/16 [==============================] - 0s 4ms/step - loss: 0.6024 - accuracy: 0.7536 - val_loss: 1.3502 - val_accuracy: 0.6311\n",
      "Epoch 795/1000\n",
      " 1/16 [>.............................] - ETA: 0s - loss: 0.4638 - accuracy: 0.8125\n",
      "Epoch 795: val_loss did not improve from 0.93503\n",
      "16/16 [==============================] - 0s 3ms/step - loss: 0.5653 - accuracy: 0.7556 - val_loss: 1.2968 - val_accuracy: 0.6148\n",
      "Epoch 796/1000\n",
      " 1/16 [>.............................] - ETA: 0s - loss: 0.4478 - accuracy: 0.8125\n",
      "Epoch 796: val_loss did not improve from 0.93503\n",
      "16/16 [==============================] - 0s 4ms/step - loss: 0.5967 - accuracy: 0.7413 - val_loss: 1.2183 - val_accuracy: 0.6311\n",
      "Epoch 797/1000\n",
      " 1/16 [>.............................] - ETA: 0s - loss: 0.4702 - accuracy: 0.7500\n",
      "Epoch 797: val_loss did not improve from 0.93503\n",
      "16/16 [==============================] - 0s 4ms/step - loss: 0.5770 - accuracy: 0.7372 - val_loss: 1.2079 - val_accuracy: 0.6721\n",
      "Epoch 798/1000\n",
      " 1/16 [>.............................] - ETA: 0s - loss: 0.4646 - accuracy: 0.8438\n",
      "Epoch 798: val_loss did not improve from 0.93503\n",
      "16/16 [==============================] - 0s 4ms/step - loss: 0.6133 - accuracy: 0.7515 - val_loss: 1.3058 - val_accuracy: 0.6148\n",
      "Epoch 799/1000\n",
      " 1/16 [>.............................] - ETA: 0s - loss: 0.5754 - accuracy: 0.7812\n",
      "Epoch 799: val_loss did not improve from 0.93503\n",
      "16/16 [==============================] - 0s 4ms/step - loss: 0.6292 - accuracy: 0.7413 - val_loss: 1.2405 - val_accuracy: 0.6967\n",
      "Epoch 800/1000\n",
      " 1/16 [>.............................] - ETA: 0s - loss: 0.4971 - accuracy: 0.7500\n",
      "Epoch 800: val_loss did not improve from 0.93503\n",
      "16/16 [==============================] - 0s 3ms/step - loss: 0.5660 - accuracy: 0.7269 - val_loss: 1.2131 - val_accuracy: 0.6393\n",
      "Epoch 801/1000\n",
      " 1/16 [>.............................] - ETA: 0s - loss: 0.6558 - accuracy: 0.6562\n",
      "Epoch 801: val_loss did not improve from 0.93503\n",
      "16/16 [==============================] - 0s 4ms/step - loss: 0.6225 - accuracy: 0.7331 - val_loss: 1.2845 - val_accuracy: 0.6475\n",
      "Epoch 802/1000\n",
      " 1/16 [>.............................] - ETA: 0s - loss: 0.7921 - accuracy: 0.6875\n",
      "Epoch 802: val_loss did not improve from 0.93503\n",
      "16/16 [==============================] - 0s 4ms/step - loss: 0.6033 - accuracy: 0.7331 - val_loss: 1.2470 - val_accuracy: 0.6557\n",
      "Epoch 803/1000\n",
      " 1/16 [>.............................] - ETA: 0s - loss: 0.5278 - accuracy: 0.7188\n",
      "Epoch 803: val_loss did not improve from 0.93503\n",
      "16/16 [==============================] - 0s 4ms/step - loss: 0.5658 - accuracy: 0.7639 - val_loss: 1.2756 - val_accuracy: 0.6393\n",
      "Epoch 804/1000\n",
      " 1/16 [>.............................] - ETA: 0s - loss: 0.5794 - accuracy: 0.6875\n",
      "Epoch 804: val_loss did not improve from 0.93503\n",
      "16/16 [==============================] - 0s 3ms/step - loss: 0.6060 - accuracy: 0.7392 - val_loss: 1.2371 - val_accuracy: 0.6639\n",
      "Epoch 805/1000\n",
      " 1/16 [>.............................] - ETA: 0s - loss: 0.5134 - accuracy: 0.7500\n",
      "Epoch 805: val_loss did not improve from 0.93503\n",
      "16/16 [==============================] - 0s 4ms/step - loss: 0.5271 - accuracy: 0.7659 - val_loss: 1.2759 - val_accuracy: 0.6230\n",
      "Epoch 806/1000\n",
      " 1/16 [>.............................] - ETA: 0s - loss: 0.6030 - accuracy: 0.7500\n",
      "Epoch 806: val_loss did not improve from 0.93503\n",
      "16/16 [==============================] - 0s 4ms/step - loss: 0.6245 - accuracy: 0.7700 - val_loss: 1.2600 - val_accuracy: 0.6148\n",
      "Epoch 807/1000\n",
      " 1/16 [>.............................] - ETA: 0s - loss: 0.3138 - accuracy: 1.0000\n",
      "Epoch 807: val_loss did not improve from 0.93503\n",
      "16/16 [==============================] - 0s 5ms/step - loss: 0.6313 - accuracy: 0.7433 - val_loss: 1.1730 - val_accuracy: 0.6148\n",
      "Epoch 808/1000\n",
      " 1/16 [>.............................] - ETA: 0s - loss: 0.4344 - accuracy: 0.9062\n",
      "Epoch 808: val_loss did not improve from 0.93503\n",
      "16/16 [==============================] - 0s 4ms/step - loss: 0.6521 - accuracy: 0.7331 - val_loss: 1.2279 - val_accuracy: 0.6148\n",
      "Epoch 809/1000\n",
      " 1/16 [>.............................] - ETA: 0s - loss: 0.5732 - accuracy: 0.6875\n",
      "Epoch 809: val_loss did not improve from 0.93503\n",
      "16/16 [==============================] - 0s 4ms/step - loss: 0.6193 - accuracy: 0.7454 - val_loss: 1.2057 - val_accuracy: 0.6393\n",
      "Epoch 810/1000\n",
      " 1/16 [>.............................] - ETA: 0s - loss: 0.4745 - accuracy: 0.7812\n",
      "Epoch 810: val_loss did not improve from 0.93503\n",
      "16/16 [==============================] - 0s 4ms/step - loss: 0.6050 - accuracy: 0.7290 - val_loss: 1.3048 - val_accuracy: 0.6066\n",
      "Epoch 811/1000\n",
      " 1/16 [>.............................] - ETA: 0s - loss: 0.6253 - accuracy: 0.7500\n",
      "Epoch 811: val_loss did not improve from 0.93503\n",
      "16/16 [==============================] - 0s 4ms/step - loss: 0.5725 - accuracy: 0.7515 - val_loss: 1.1672 - val_accuracy: 0.6393\n",
      "Epoch 812/1000\n",
      " 1/16 [>.............................] - ETA: 0s - loss: 0.4727 - accuracy: 0.8125\n",
      "Epoch 812: val_loss did not improve from 0.93503\n",
      "16/16 [==============================] - 0s 5ms/step - loss: 0.5686 - accuracy: 0.7515 - val_loss: 1.3213 - val_accuracy: 0.6803\n",
      "Epoch 813/1000\n",
      " 1/16 [>.............................] - ETA: 0s - loss: 0.5227 - accuracy: 0.7812\n",
      "Epoch 813: val_loss did not improve from 0.93503\n",
      "16/16 [==============================] - 0s 4ms/step - loss: 0.5654 - accuracy: 0.7577 - val_loss: 1.1379 - val_accuracy: 0.6557\n",
      "Epoch 814/1000\n",
      " 1/16 [>.............................] - ETA: 0s - loss: 0.3635 - accuracy: 0.8750\n",
      "Epoch 814: val_loss did not improve from 0.93503\n",
      "16/16 [==============================] - 0s 4ms/step - loss: 0.5619 - accuracy: 0.7495 - val_loss: 1.1216 - val_accuracy: 0.6639\n",
      "Epoch 815/1000\n",
      " 1/16 [>.............................] - ETA: 0s - loss: 0.6346 - accuracy: 0.8438\n",
      "Epoch 815: val_loss did not improve from 0.93503\n",
      "16/16 [==============================] - 0s 4ms/step - loss: 0.5899 - accuracy: 0.7680 - val_loss: 1.2832 - val_accuracy: 0.6066\n",
      "Epoch 816/1000\n",
      " 1/16 [>.............................] - ETA: 0s - loss: 0.7451 - accuracy: 0.6562\n",
      "Epoch 816: val_loss did not improve from 0.93503\n",
      "16/16 [==============================] - 0s 4ms/step - loss: 0.5761 - accuracy: 0.7598 - val_loss: 1.2435 - val_accuracy: 0.6148\n",
      "Epoch 817/1000\n",
      " 1/16 [>.............................] - ETA: 0s - loss: 0.5516 - accuracy: 0.8438\n",
      "Epoch 817: val_loss did not improve from 0.93503\n",
      "16/16 [==============================] - 0s 4ms/step - loss: 0.5420 - accuracy: 0.7803 - val_loss: 1.1765 - val_accuracy: 0.6475\n",
      "Epoch 818/1000\n",
      " 1/16 [>.............................] - ETA: 0s - loss: 0.7069 - accuracy: 0.6250\n",
      "Epoch 818: val_loss did not improve from 0.93503\n",
      "16/16 [==============================] - 0s 3ms/step - loss: 0.5374 - accuracy: 0.7577 - val_loss: 1.3841 - val_accuracy: 0.6475\n",
      "Epoch 819/1000\n",
      " 1/16 [>.............................] - ETA: 0s - loss: 0.4540 - accuracy: 0.8438\n",
      "Epoch 819: val_loss did not improve from 0.93503\n",
      "16/16 [==============================] - 0s 3ms/step - loss: 0.5998 - accuracy: 0.7495 - val_loss: 1.1354 - val_accuracy: 0.6557\n",
      "Epoch 820/1000\n",
      " 1/16 [>.............................] - ETA: 0s - loss: 0.5265 - accuracy: 0.7812\n",
      "Epoch 820: val_loss did not improve from 0.93503\n",
      "16/16 [==============================] - 0s 4ms/step - loss: 0.5844 - accuracy: 0.7618 - val_loss: 1.2361 - val_accuracy: 0.6393\n",
      "Epoch 821/1000\n",
      " 1/16 [>.............................] - ETA: 0s - loss: 0.8114 - accuracy: 0.6875\n",
      "Epoch 821: val_loss did not improve from 0.93503\n",
      "16/16 [==============================] - 0s 4ms/step - loss: 0.5659 - accuracy: 0.7556 - val_loss: 1.2616 - val_accuracy: 0.6230\n",
      "Epoch 822/1000\n",
      " 1/16 [>.............................] - ETA: 0s - loss: 0.5959 - accuracy: 0.7500\n",
      "Epoch 822: val_loss did not improve from 0.93503\n",
      "16/16 [==============================] - 0s 4ms/step - loss: 0.5540 - accuracy: 0.7577 - val_loss: 1.2766 - val_accuracy: 0.6475\n",
      "Epoch 823/1000\n",
      "10/16 [=================>............] - ETA: 0s - loss: 0.5676 - accuracy: 0.7375\n",
      "Epoch 823: val_loss did not improve from 0.93503\n",
      "16/16 [==============================] - 0s 8ms/step - loss: 0.5516 - accuracy: 0.7515 - val_loss: 1.2892 - val_accuracy: 0.6393\n",
      "Epoch 824/1000\n",
      " 9/16 [===============>..............] - ETA: 0s - loss: 0.5886 - accuracy: 0.7153\n",
      "Epoch 824: val_loss did not improve from 0.93503\n",
      "16/16 [==============================] - 0s 15ms/step - loss: 0.5621 - accuracy: 0.7392 - val_loss: 1.3328 - val_accuracy: 0.6311\n",
      "Epoch 825/1000\n",
      "11/16 [===================>..........] - ETA: 0s - loss: 0.6002 - accuracy: 0.7131\n",
      "Epoch 825: val_loss did not improve from 0.93503\n",
      "16/16 [==============================] - 0s 10ms/step - loss: 0.5832 - accuracy: 0.7269 - val_loss: 1.1943 - val_accuracy: 0.6311\n",
      "Epoch 826/1000\n",
      " 1/16 [>.............................] - ETA: 0s - loss: 0.7034 - accuracy: 0.7188\n",
      "Epoch 826: val_loss did not improve from 0.93503\n",
      "16/16 [==============================] - 0s 5ms/step - loss: 0.5878 - accuracy: 0.7680 - val_loss: 1.1717 - val_accuracy: 0.6311\n",
      "Epoch 827/1000\n",
      "15/16 [===========================>..] - ETA: 0s - loss: 0.6017 - accuracy: 0.7312\n",
      "Epoch 827: val_loss did not improve from 0.93503\n",
      "16/16 [==============================] - 0s 5ms/step - loss: 0.6001 - accuracy: 0.7331 - val_loss: 1.2154 - val_accuracy: 0.6393\n",
      "Epoch 828/1000\n",
      " 1/16 [>.............................] - ETA: 0s - loss: 0.6466 - accuracy: 0.6875\n",
      "Epoch 828: val_loss did not improve from 0.93503\n",
      "16/16 [==============================] - 0s 6ms/step - loss: 0.5839 - accuracy: 0.7372 - val_loss: 1.2437 - val_accuracy: 0.6475\n",
      "Epoch 829/1000\n",
      " 1/16 [>.............................] - ETA: 0s - loss: 0.5594 - accuracy: 0.7812\n",
      "Epoch 829: val_loss did not improve from 0.93503\n",
      "16/16 [==============================] - 0s 5ms/step - loss: 0.6015 - accuracy: 0.7392 - val_loss: 1.1996 - val_accuracy: 0.6393\n",
      "Epoch 830/1000\n",
      " 1/16 [>.............................] - ETA: 0s - loss: 0.3828 - accuracy: 0.8438\n",
      "Epoch 830: val_loss did not improve from 0.93503\n",
      "16/16 [==============================] - 0s 3ms/step - loss: 0.5318 - accuracy: 0.7762 - val_loss: 1.2733 - val_accuracy: 0.6639\n",
      "Epoch 831/1000\n",
      "16/16 [==============================] - ETA: 0s - loss: 0.6245 - accuracy: 0.7269\n",
      "Epoch 831: val_loss did not improve from 0.93503\n",
      "16/16 [==============================] - 0s 7ms/step - loss: 0.6245 - accuracy: 0.7269 - val_loss: 1.3400 - val_accuracy: 0.6475\n",
      "Epoch 832/1000\n",
      "15/16 [===========================>..] - ETA: 0s - loss: 0.5399 - accuracy: 0.7437\n",
      "Epoch 832: val_loss did not improve from 0.93503\n",
      "16/16 [==============================] - 0s 7ms/step - loss: 0.5414 - accuracy: 0.7433 - val_loss: 1.2137 - val_accuracy: 0.6393\n",
      "Epoch 833/1000\n",
      " 1/16 [>.............................] - ETA: 0s - loss: 0.6190 - accuracy: 0.6562\n",
      "Epoch 833: val_loss did not improve from 0.93503\n",
      "16/16 [==============================] - 0s 5ms/step - loss: 0.5856 - accuracy: 0.7495 - val_loss: 1.2261 - val_accuracy: 0.6475\n",
      "Epoch 834/1000\n",
      " 1/16 [>.............................] - ETA: 0s - loss: 0.3754 - accuracy: 0.9062\n",
      "Epoch 834: val_loss did not improve from 0.93503\n",
      "16/16 [==============================] - 0s 5ms/step - loss: 0.6017 - accuracy: 0.7495 - val_loss: 1.2073 - val_accuracy: 0.6148\n",
      "Epoch 835/1000\n",
      " 1/16 [>.............................] - ETA: 0s - loss: 0.3687 - accuracy: 0.7812\n",
      "Epoch 835: val_loss did not improve from 0.93503\n",
      "16/16 [==============================] - 0s 6ms/step - loss: 0.5824 - accuracy: 0.7372 - val_loss: 1.2539 - val_accuracy: 0.6557\n",
      "Epoch 836/1000\n",
      " 1/16 [>.............................] - ETA: 0s - loss: 0.4665 - accuracy: 0.8750\n",
      "Epoch 836: val_loss did not improve from 0.93503\n",
      "16/16 [==============================] - 0s 6ms/step - loss: 0.5549 - accuracy: 0.7536 - val_loss: 1.2369 - val_accuracy: 0.6393\n",
      "Epoch 837/1000\n",
      "11/16 [===================>..........] - ETA: 0s - loss: 0.6076 - accuracy: 0.7614\n",
      "Epoch 837: val_loss did not improve from 0.93503\n",
      "16/16 [==============================] - 0s 7ms/step - loss: 0.5926 - accuracy: 0.7474 - val_loss: 1.1994 - val_accuracy: 0.6230\n",
      "Epoch 838/1000\n",
      " 1/16 [>.............................] - ETA: 0s - loss: 0.6229 - accuracy: 0.6562\n",
      "Epoch 838: val_loss did not improve from 0.93503\n",
      "16/16 [==============================] - 0s 6ms/step - loss: 0.5983 - accuracy: 0.7351 - val_loss: 1.1699 - val_accuracy: 0.6639\n",
      "Epoch 839/1000\n",
      "13/16 [=======================>......] - ETA: 0s - loss: 0.5677 - accuracy: 0.7933\n",
      "Epoch 839: val_loss did not improve from 0.93503\n",
      "16/16 [==============================] - 0s 8ms/step - loss: 0.5628 - accuracy: 0.7823 - val_loss: 1.1518 - val_accuracy: 0.6311\n",
      "Epoch 840/1000\n",
      "14/16 [=========================>....] - ETA: 0s - loss: 0.5781 - accuracy: 0.7344\n",
      "Epoch 840: val_loss did not improve from 0.93503\n",
      "16/16 [==============================] - 0s 8ms/step - loss: 0.5793 - accuracy: 0.7310 - val_loss: 1.1830 - val_accuracy: 0.6230\n",
      "Epoch 841/1000\n",
      "13/16 [=======================>......] - ETA: 0s - loss: 0.5815 - accuracy: 0.7428\n",
      "Epoch 841: val_loss did not improve from 0.93503\n",
      "16/16 [==============================] - 0s 8ms/step - loss: 0.6005 - accuracy: 0.7351 - val_loss: 1.1827 - val_accuracy: 0.6721\n",
      "Epoch 842/1000\n",
      "15/16 [===========================>..] - ETA: 0s - loss: 0.5363 - accuracy: 0.7604\n",
      "Epoch 842: val_loss did not improve from 0.93503\n",
      "16/16 [==============================] - 0s 8ms/step - loss: 0.5351 - accuracy: 0.7618 - val_loss: 1.2035 - val_accuracy: 0.6639\n",
      "Epoch 843/1000\n",
      "13/16 [=======================>......] - ETA: 0s - loss: 0.6473 - accuracy: 0.7236\n",
      "Epoch 843: val_loss did not improve from 0.93503\n",
      "16/16 [==============================] - 0s 8ms/step - loss: 0.6361 - accuracy: 0.7207 - val_loss: 1.2575 - val_accuracy: 0.6148\n",
      "Epoch 844/1000\n",
      "12/16 [=====================>........] - ETA: 0s - loss: 0.6090 - accuracy: 0.7135\n",
      "Epoch 844: val_loss did not improve from 0.93503\n",
      "16/16 [==============================] - 0s 9ms/step - loss: 0.6064 - accuracy: 0.7228 - val_loss: 1.1644 - val_accuracy: 0.6639\n",
      "Epoch 845/1000\n",
      "14/16 [=========================>....] - ETA: 0s - loss: 0.5598 - accuracy: 0.7656\n",
      "Epoch 845: val_loss did not improve from 0.93503\n",
      "16/16 [==============================] - 0s 9ms/step - loss: 0.5534 - accuracy: 0.7680 - val_loss: 1.1822 - val_accuracy: 0.6639\n",
      "Epoch 846/1000\n",
      "11/16 [===================>..........] - ETA: 0s - loss: 0.5210 - accuracy: 0.7699\n",
      "Epoch 846: val_loss did not improve from 0.93503\n",
      "16/16 [==============================] - 0s 9ms/step - loss: 0.5503 - accuracy: 0.7639 - val_loss: 1.2002 - val_accuracy: 0.6475\n",
      "Epoch 847/1000\n",
      " 8/16 [==============>...............] - ETA: 0s - loss: 0.5961 - accuracy: 0.7461\n",
      "Epoch 847: val_loss did not improve from 0.93503\n",
      "16/16 [==============================] - 0s 12ms/step - loss: 0.5636 - accuracy: 0.7536 - val_loss: 1.2809 - val_accuracy: 0.6803\n",
      "Epoch 848/1000\n",
      " 1/16 [>.............................] - ETA: 0s - loss: 0.7601 - accuracy: 0.7500\n",
      "Epoch 848: val_loss did not improve from 0.93503\n",
      "16/16 [==============================] - 0s 6ms/step - loss: 0.6386 - accuracy: 0.7228 - val_loss: 1.2778 - val_accuracy: 0.6557\n",
      "Epoch 849/1000\n",
      " 1/16 [>.............................] - ETA: 0s - loss: 0.3927 - accuracy: 0.8438\n",
      "Epoch 849: val_loss did not improve from 0.93503\n",
      "16/16 [==============================] - 0s 5ms/step - loss: 0.5649 - accuracy: 0.7741 - val_loss: 1.4096 - val_accuracy: 0.6148\n",
      "Epoch 850/1000\n",
      " 1/16 [>.............................] - ETA: 0s - loss: 0.4013 - accuracy: 0.8438\n",
      "Epoch 850: val_loss did not improve from 0.93503\n",
      "16/16 [==============================] - 0s 6ms/step - loss: 0.5470 - accuracy: 0.7618 - val_loss: 1.3120 - val_accuracy: 0.6393\n",
      "Epoch 851/1000\n",
      " 8/16 [==============>...............] - ETA: 0s - loss: 0.5803 - accuracy: 0.6992\n",
      "Epoch 851: val_loss did not improve from 0.93503\n",
      "16/16 [==============================] - 0s 12ms/step - loss: 0.6317 - accuracy: 0.7043 - val_loss: 1.2874 - val_accuracy: 0.6148\n",
      "Epoch 852/1000\n",
      " 9/16 [===============>..............] - ETA: 0s - loss: 0.6141 - accuracy: 0.7118\n",
      "Epoch 852: val_loss did not improve from 0.93503\n",
      "16/16 [==============================] - 0s 9ms/step - loss: 0.5985 - accuracy: 0.7351 - val_loss: 1.3165 - val_accuracy: 0.6148\n",
      "Epoch 853/1000\n",
      "12/16 [=====================>........] - ETA: 0s - loss: 0.5452 - accuracy: 0.7526\n",
      "Epoch 853: val_loss did not improve from 0.93503\n",
      "16/16 [==============================] - 0s 9ms/step - loss: 0.5586 - accuracy: 0.7474 - val_loss: 1.3396 - val_accuracy: 0.6557\n",
      "Epoch 854/1000\n",
      " 1/16 [>.............................] - ETA: 0s - loss: 0.6378 - accuracy: 0.6562\n",
      "Epoch 854: val_loss did not improve from 0.93503\n",
      "16/16 [==============================] - 0s 7ms/step - loss: 0.5477 - accuracy: 0.7577 - val_loss: 1.3830 - val_accuracy: 0.6311\n",
      "Epoch 855/1000\n",
      "10/16 [=================>............] - ETA: 0s - loss: 0.5188 - accuracy: 0.7688\n",
      "Epoch 855: val_loss did not improve from 0.93503\n",
      "16/16 [==============================] - 0s 9ms/step - loss: 0.5207 - accuracy: 0.7700 - val_loss: 1.2994 - val_accuracy: 0.6393\n",
      "Epoch 856/1000\n",
      " 9/16 [===============>..............] - ETA: 0s - loss: 0.5014 - accuracy: 0.7639\n",
      "Epoch 856: val_loss did not improve from 0.93503\n",
      "16/16 [==============================] - 0s 8ms/step - loss: 0.5050 - accuracy: 0.7495 - val_loss: 1.3509 - val_accuracy: 0.6230\n",
      "Epoch 857/1000\n",
      " 1/16 [>.............................] - ETA: 0s - loss: 0.6747 - accuracy: 0.8438\n",
      "Epoch 857: val_loss did not improve from 0.93503\n",
      "16/16 [==============================] - 0s 6ms/step - loss: 0.5507 - accuracy: 0.7680 - val_loss: 1.3396 - val_accuracy: 0.6311\n",
      "Epoch 858/1000\n",
      " 9/16 [===============>..............] - ETA: 0s - loss: 0.5414 - accuracy: 0.7535\n",
      "Epoch 858: val_loss did not improve from 0.93503\n",
      "16/16 [==============================] - 0s 12ms/step - loss: 0.5105 - accuracy: 0.7700 - val_loss: 1.3072 - val_accuracy: 0.6475\n",
      "Epoch 859/1000\n",
      "12/16 [=====================>........] - ETA: 0s - loss: 0.5198 - accuracy: 0.7526\n",
      "Epoch 859: val_loss did not improve from 0.93503\n",
      "16/16 [==============================] - 0s 9ms/step - loss: 0.5170 - accuracy: 0.7618 - val_loss: 1.2769 - val_accuracy: 0.6639\n",
      "Epoch 860/1000\n",
      " 1/16 [>.............................] - ETA: 0s - loss: 0.9075 - accuracy: 0.6875\n",
      "Epoch 860: val_loss did not improve from 0.93503\n",
      "16/16 [==============================] - 0s 5ms/step - loss: 0.6552 - accuracy: 0.7269 - val_loss: 1.3003 - val_accuracy: 0.6311\n",
      "Epoch 861/1000\n",
      "10/16 [=================>............] - ETA: 0s - loss: 0.5702 - accuracy: 0.7625\n",
      "Epoch 861: val_loss did not improve from 0.93503\n",
      "16/16 [==============================] - 0s 10ms/step - loss: 0.5902 - accuracy: 0.7659 - val_loss: 1.3071 - val_accuracy: 0.6311\n",
      "Epoch 862/1000\n",
      "10/16 [=================>............] - ETA: 0s - loss: 0.5843 - accuracy: 0.7594\n",
      "Epoch 862: val_loss did not improve from 0.93503\n",
      "16/16 [==============================] - 0s 13ms/step - loss: 0.5570 - accuracy: 0.7782 - val_loss: 1.4711 - val_accuracy: 0.6066\n",
      "Epoch 863/1000\n",
      " 1/16 [>.............................] - ETA: 0s - loss: 0.5928 - accuracy: 0.8125\n",
      "Epoch 863: val_loss did not improve from 0.93503\n",
      "16/16 [==============================] - 0s 5ms/step - loss: 0.5518 - accuracy: 0.7721 - val_loss: 1.3376 - val_accuracy: 0.6148\n",
      "Epoch 864/1000\n",
      "12/16 [=====================>........] - ETA: 0s - loss: 0.5931 - accuracy: 0.7604\n",
      "Epoch 864: val_loss did not improve from 0.93503\n",
      "16/16 [==============================] - 0s 7ms/step - loss: 0.5842 - accuracy: 0.7741 - val_loss: 1.2890 - val_accuracy: 0.6230\n",
      "Epoch 865/1000\n",
      " 8/16 [==============>...............] - ETA: 0s - loss: 0.5636 - accuracy: 0.7812\n",
      "Epoch 865: val_loss did not improve from 0.93503\n",
      "16/16 [==============================] - 0s 12ms/step - loss: 0.5592 - accuracy: 0.7741 - val_loss: 1.2790 - val_accuracy: 0.6230\n",
      "Epoch 866/1000\n",
      "13/16 [=======================>......] - ETA: 0s - loss: 0.5581 - accuracy: 0.7788\n",
      "Epoch 866: val_loss did not improve from 0.93503\n",
      "16/16 [==============================] - 0s 13ms/step - loss: 0.5676 - accuracy: 0.7700 - val_loss: 1.2661 - val_accuracy: 0.6475\n",
      "Epoch 867/1000\n",
      " 1/16 [>.............................] - ETA: 0s - loss: 0.7623 - accuracy: 0.7812\n",
      "Epoch 867: val_loss did not improve from 0.93503\n",
      "16/16 [==============================] - 0s 6ms/step - loss: 0.6095 - accuracy: 0.7454 - val_loss: 1.1766 - val_accuracy: 0.6557\n",
      "Epoch 868/1000\n",
      " 8/16 [==============>...............] - ETA: 0s - loss: 0.6222 - accuracy: 0.7500\n",
      "Epoch 868: val_loss did not improve from 0.93503\n",
      "16/16 [==============================] - 0s 14ms/step - loss: 0.5849 - accuracy: 0.7700 - val_loss: 1.1609 - val_accuracy: 0.6639\n",
      "Epoch 869/1000\n",
      " 9/16 [===============>..............] - ETA: 0s - loss: 0.4834 - accuracy: 0.7708\n",
      "Epoch 869: val_loss did not improve from 0.93503\n",
      "16/16 [==============================] - 0s 11ms/step - loss: 0.5130 - accuracy: 0.7659 - val_loss: 1.3565 - val_accuracy: 0.6230\n",
      "Epoch 870/1000\n",
      "12/16 [=====================>........] - ETA: 0s - loss: 0.5294 - accuracy: 0.7474\n",
      "Epoch 870: val_loss did not improve from 0.93503\n",
      "16/16 [==============================] - 0s 7ms/step - loss: 0.4958 - accuracy: 0.7577 - val_loss: 1.5947 - val_accuracy: 0.5984\n",
      "Epoch 871/1000\n",
      "14/16 [=========================>....] - ETA: 0s - loss: 0.5523 - accuracy: 0.7679\n",
      "Epoch 871: val_loss did not improve from 0.93503\n",
      "16/16 [==============================] - 0s 8ms/step - loss: 0.5409 - accuracy: 0.7700 - val_loss: 1.4394 - val_accuracy: 0.6393\n",
      "Epoch 872/1000\n",
      " 9/16 [===============>..............] - ETA: 0s - loss: 0.5478 - accuracy: 0.7535\n",
      "Epoch 872: val_loss did not improve from 0.93503\n",
      "16/16 [==============================] - 0s 14ms/step - loss: 0.5018 - accuracy: 0.7700 - val_loss: 1.3880 - val_accuracy: 0.6311\n",
      "Epoch 873/1000\n",
      " 9/16 [===============>..............] - ETA: 0s - loss: 0.5248 - accuracy: 0.7500\n",
      "Epoch 873: val_loss did not improve from 0.93503\n",
      "16/16 [==============================] - 0s 9ms/step - loss: 0.5270 - accuracy: 0.7598 - val_loss: 1.4674 - val_accuracy: 0.6475\n",
      "Epoch 874/1000\n",
      " 1/16 [>.............................] - ETA: 0s - loss: 0.3379 - accuracy: 0.8750\n",
      "Epoch 874: val_loss did not improve from 0.93503\n",
      "16/16 [==============================] - 0s 3ms/step - loss: 0.4927 - accuracy: 0.7618 - val_loss: 1.3842 - val_accuracy: 0.6230\n",
      "Epoch 875/1000\n",
      "14/16 [=========================>....] - ETA: 0s - loss: 0.5557 - accuracy: 0.7656\n",
      "Epoch 875: val_loss did not improve from 0.93503\n",
      "16/16 [==============================] - 0s 13ms/step - loss: 0.5567 - accuracy: 0.7639 - val_loss: 1.3190 - val_accuracy: 0.6475\n",
      "Epoch 876/1000\n",
      " 8/16 [==============>...............] - ETA: 0s - loss: 0.4588 - accuracy: 0.8125\n",
      "Epoch 876: val_loss did not improve from 0.93503\n",
      "16/16 [==============================] - 0s 10ms/step - loss: 0.5175 - accuracy: 0.7844 - val_loss: 1.3107 - val_accuracy: 0.6557\n",
      "Epoch 877/1000\n",
      " 1/16 [>.............................] - ETA: 0s - loss: 0.5777 - accuracy: 0.7500\n",
      "Epoch 877: val_loss did not improve from 0.93503\n",
      "16/16 [==============================] - 0s 6ms/step - loss: 0.5797 - accuracy: 0.7598 - val_loss: 1.3599 - val_accuracy: 0.6475\n",
      "Epoch 878/1000\n",
      " 9/16 [===============>..............] - ETA: 0s - loss: 0.5329 - accuracy: 0.7986\n",
      "Epoch 878: val_loss did not improve from 0.93503\n",
      "16/16 [==============================] - 0s 14ms/step - loss: 0.6079 - accuracy: 0.7556 - val_loss: 1.2688 - val_accuracy: 0.6475\n",
      "Epoch 879/1000\n",
      " 8/16 [==============>...............] - ETA: 0s - loss: 0.5498 - accuracy: 0.7695\n",
      "Epoch 879: val_loss did not improve from 0.93503\n",
      "16/16 [==============================] - 0s 10ms/step - loss: 0.5218 - accuracy: 0.7926 - val_loss: 1.3809 - val_accuracy: 0.6230\n",
      "Epoch 880/1000\n",
      " 1/16 [>.............................] - ETA: 0s - loss: 0.4653 - accuracy: 0.8438\n",
      "Epoch 880: val_loss did not improve from 0.93503\n",
      "16/16 [==============================] - 0s 5ms/step - loss: 0.5372 - accuracy: 0.7721 - val_loss: 1.4024 - val_accuracy: 0.6557\n",
      "Epoch 881/1000\n",
      "16/16 [==============================] - ETA: 0s - loss: 0.5629 - accuracy: 0.7803\n",
      "Epoch 881: val_loss did not improve from 0.93503\n",
      "16/16 [==============================] - 0s 16ms/step - loss: 0.5629 - accuracy: 0.7803 - val_loss: 1.4560 - val_accuracy: 0.6393\n",
      "Epoch 882/1000\n",
      " 8/16 [==============>...............] - ETA: 0s - loss: 0.5961 - accuracy: 0.7422\n",
      "Epoch 882: val_loss did not improve from 0.93503\n",
      "16/16 [==============================] - 0s 12ms/step - loss: 0.5691 - accuracy: 0.7433 - val_loss: 1.3790 - val_accuracy: 0.6639\n",
      "Epoch 883/1000\n",
      " 1/16 [>.............................] - ETA: 0s - loss: 0.4821 - accuracy: 0.7812\n",
      "Epoch 883: val_loss did not improve from 0.93503\n",
      "16/16 [==============================] - 0s 4ms/step - loss: 0.5194 - accuracy: 0.7577 - val_loss: 1.3234 - val_accuracy: 0.6311\n",
      "Epoch 884/1000\n",
      " 1/16 [>.............................] - ETA: 0s - loss: 0.4959 - accuracy: 0.7188\n",
      "Epoch 884: val_loss did not improve from 0.93503\n",
      "16/16 [==============================] - 0s 6ms/step - loss: 0.5217 - accuracy: 0.7618 - val_loss: 1.3856 - val_accuracy: 0.6639\n",
      "Epoch 885/1000\n",
      "16/16 [==============================] - ETA: 0s - loss: 0.5451 - accuracy: 0.7659\n",
      "Epoch 885: val_loss did not improve from 0.93503\n",
      "16/16 [==============================] - 0s 14ms/step - loss: 0.5451 - accuracy: 0.7659 - val_loss: 1.2863 - val_accuracy: 0.6475\n",
      "Epoch 886/1000\n",
      "14/16 [=========================>....] - ETA: 0s - loss: 0.5388 - accuracy: 0.7790\n",
      "Epoch 886: val_loss did not improve from 0.93503\n",
      "16/16 [==============================] - 0s 8ms/step - loss: 0.5413 - accuracy: 0.7782 - val_loss: 1.3132 - val_accuracy: 0.6475\n",
      "Epoch 887/1000\n",
      "14/16 [=========================>....] - ETA: 0s - loss: 0.5556 - accuracy: 0.7634\n",
      "Epoch 887: val_loss did not improve from 0.93503\n",
      "16/16 [==============================] - 0s 6ms/step - loss: 0.5646 - accuracy: 0.7639 - val_loss: 1.3734 - val_accuracy: 0.6148\n",
      "Epoch 888/1000\n",
      "14/16 [=========================>....] - ETA: 0s - loss: 0.5218 - accuracy: 0.7612\n",
      "Epoch 888: val_loss did not improve from 0.93503\n",
      "16/16 [==============================] - 0s 7ms/step - loss: 0.5211 - accuracy: 0.7639 - val_loss: 1.2107 - val_accuracy: 0.6803\n",
      "Epoch 889/1000\n",
      "10/16 [=================>............] - ETA: 0s - loss: 0.6175 - accuracy: 0.7563\n",
      "Epoch 889: val_loss did not improve from 0.93503\n",
      "16/16 [==============================] - 0s 11ms/step - loss: 0.5984 - accuracy: 0.7659 - val_loss: 1.2836 - val_accuracy: 0.6639\n",
      "Epoch 890/1000\n",
      " 9/16 [===============>..............] - ETA: 0s - loss: 0.5821 - accuracy: 0.7465\n",
      "Epoch 890: val_loss did not improve from 0.93503\n",
      "16/16 [==============================] - 0s 9ms/step - loss: 0.5813 - accuracy: 0.7495 - val_loss: 1.2865 - val_accuracy: 0.6311\n",
      "Epoch 891/1000\n",
      " 1/16 [>.............................] - ETA: 0s - loss: 0.4569 - accuracy: 0.7812\n",
      "Epoch 891: val_loss did not improve from 0.93503\n",
      "16/16 [==============================] - 0s 9ms/step - loss: 0.5179 - accuracy: 0.7680 - val_loss: 1.2176 - val_accuracy: 0.6721\n",
      "Epoch 892/1000\n",
      " 9/16 [===============>..............] - ETA: 0s - loss: 0.4871 - accuracy: 0.7639\n",
      "Epoch 892: val_loss did not improve from 0.93503\n",
      "16/16 [==============================] - 0s 7ms/step - loss: 0.5050 - accuracy: 0.7721 - val_loss: 1.2409 - val_accuracy: 0.6475\n",
      "Epoch 893/1000\n",
      "10/16 [=================>............] - ETA: 0s - loss: 0.5352 - accuracy: 0.7750\n",
      "Epoch 893: val_loss did not improve from 0.93503\n",
      "16/16 [==============================] - 0s 9ms/step - loss: 0.5380 - accuracy: 0.7680 - val_loss: 1.2707 - val_accuracy: 0.6475\n",
      "Epoch 894/1000\n",
      " 1/16 [>.............................] - ETA: 0s - loss: 0.4602 - accuracy: 0.8438\n",
      "Epoch 894: val_loss did not improve from 0.93503\n",
      "16/16 [==============================] - 0s 5ms/step - loss: 0.5696 - accuracy: 0.7536 - val_loss: 1.2550 - val_accuracy: 0.6230\n",
      "Epoch 895/1000\n",
      " 8/16 [==============>...............] - ETA: 0s - loss: 0.6133 - accuracy: 0.6992\n",
      "Epoch 895: val_loss did not improve from 0.93503\n",
      "16/16 [==============================] - 0s 8ms/step - loss: 0.6060 - accuracy: 0.7433 - val_loss: 1.1589 - val_accuracy: 0.6885\n",
      "Epoch 896/1000\n",
      "13/16 [=======================>......] - ETA: 0s - loss: 0.6133 - accuracy: 0.7236\n",
      "Epoch 896: val_loss did not improve from 0.93503\n",
      "16/16 [==============================] - 0s 10ms/step - loss: 0.6328 - accuracy: 0.7187 - val_loss: 1.2625 - val_accuracy: 0.5984\n",
      "Epoch 897/1000\n",
      " 1/16 [>.............................] - ETA: 0s - loss: 0.6190 - accuracy: 0.7188\n",
      "Epoch 897: val_loss did not improve from 0.93503\n",
      "16/16 [==============================] - 0s 7ms/step - loss: 0.6309 - accuracy: 0.7166 - val_loss: 1.2918 - val_accuracy: 0.6393\n",
      "Epoch 898/1000\n",
      "12/16 [=====================>........] - ETA: 0s - loss: 0.6165 - accuracy: 0.7526\n",
      "Epoch 898: val_loss did not improve from 0.93503\n",
      "16/16 [==============================] - 0s 9ms/step - loss: 0.5853 - accuracy: 0.7598 - val_loss: 1.2527 - val_accuracy: 0.6721\n",
      "Epoch 899/1000\n",
      "12/16 [=====================>........] - ETA: 0s - loss: 0.5812 - accuracy: 0.7682\n",
      "Epoch 899: val_loss did not improve from 0.93503\n",
      "16/16 [==============================] - 0s 9ms/step - loss: 0.5833 - accuracy: 0.7618 - val_loss: 1.3453 - val_accuracy: 0.6393\n",
      "Epoch 900/1000\n",
      " 1/16 [>.............................] - ETA: 0s - loss: 0.4338 - accuracy: 0.8125\n",
      "Epoch 900: val_loss did not improve from 0.93503\n",
      "16/16 [==============================] - 0s 6ms/step - loss: 0.5267 - accuracy: 0.7741 - val_loss: 1.3506 - val_accuracy: 0.6148\n",
      "Epoch 901/1000\n",
      "13/16 [=======================>......] - ETA: 0s - loss: 0.5289 - accuracy: 0.7692\n",
      "Epoch 901: val_loss did not improve from 0.93503\n",
      "16/16 [==============================] - 0s 12ms/step - loss: 0.5200 - accuracy: 0.7803 - val_loss: 1.3699 - val_accuracy: 0.6230\n",
      "Epoch 902/1000\n",
      " 8/16 [==============>...............] - ETA: 0s - loss: 0.6275 - accuracy: 0.7109\n",
      "Epoch 902: val_loss did not improve from 0.93503\n",
      "16/16 [==============================] - 0s 10ms/step - loss: 0.5898 - accuracy: 0.7392 - val_loss: 1.1840 - val_accuracy: 0.6639\n",
      "Epoch 903/1000\n",
      " 8/16 [==============>...............] - ETA: 0s - loss: 0.5221 - accuracy: 0.7578\n",
      "Epoch 903: val_loss did not improve from 0.93503\n",
      "16/16 [==============================] - 0s 7ms/step - loss: 0.5681 - accuracy: 0.7474 - val_loss: 1.2181 - val_accuracy: 0.6557\n",
      "Epoch 904/1000\n",
      " 8/16 [==============>...............] - ETA: 0s - loss: 0.5815 - accuracy: 0.7422\n",
      "Epoch 904: val_loss did not improve from 0.93503\n",
      "16/16 [==============================] - 0s 11ms/step - loss: 0.5721 - accuracy: 0.7536 - val_loss: 1.2134 - val_accuracy: 0.6639\n",
      "Epoch 905/1000\n",
      "12/16 [=====================>........] - ETA: 0s - loss: 0.5444 - accuracy: 0.7552\n",
      "Epoch 905: val_loss did not improve from 0.93503\n",
      "16/16 [==============================] - 0s 10ms/step - loss: 0.5455 - accuracy: 0.7454 - val_loss: 1.2811 - val_accuracy: 0.6393\n",
      "Epoch 906/1000\n",
      "10/16 [=================>............] - ETA: 0s - loss: 0.5385 - accuracy: 0.7563\n",
      "Epoch 906: val_loss did not improve from 0.93503\n",
      "16/16 [==============================] - 0s 9ms/step - loss: 0.5500 - accuracy: 0.7556 - val_loss: 1.1446 - val_accuracy: 0.6967\n",
      "Epoch 907/1000\n",
      " 1/16 [>.............................] - ETA: 0s - loss: 0.4504 - accuracy: 0.8125\n",
      "Epoch 907: val_loss did not improve from 0.93503\n",
      "16/16 [==============================] - 0s 5ms/step - loss: 0.5292 - accuracy: 0.7639 - val_loss: 1.2730 - val_accuracy: 0.6393\n",
      "Epoch 908/1000\n",
      "15/16 [===========================>..] - ETA: 0s - loss: 0.5239 - accuracy: 0.7750\n",
      "Epoch 908: val_loss did not improve from 0.93503\n",
      "16/16 [==============================] - 0s 7ms/step - loss: 0.5247 - accuracy: 0.7721 - val_loss: 1.2764 - val_accuracy: 0.6557\n",
      "Epoch 909/1000\n",
      " 9/16 [===============>..............] - ETA: 0s - loss: 0.5742 - accuracy: 0.7604\n",
      "Epoch 909: val_loss did not improve from 0.93503\n",
      "16/16 [==============================] - 0s 11ms/step - loss: 0.5357 - accuracy: 0.7823 - val_loss: 1.1854 - val_accuracy: 0.6803\n",
      "Epoch 910/1000\n",
      " 9/16 [===============>..............] - ETA: 0s - loss: 0.5953 - accuracy: 0.7639\n",
      "Epoch 910: val_loss did not improve from 0.93503\n",
      "16/16 [==============================] - 0s 7ms/step - loss: 0.5542 - accuracy: 0.7823 - val_loss: 1.2417 - val_accuracy: 0.6557\n",
      "Epoch 911/1000\n",
      " 1/16 [>.............................] - ETA: 0s - loss: 0.5235 - accuracy: 0.7500\n",
      "Epoch 911: val_loss did not improve from 0.93503\n",
      "16/16 [==============================] - 0s 6ms/step - loss: 0.5332 - accuracy: 0.7577 - val_loss: 1.3056 - val_accuracy: 0.6967\n",
      "Epoch 912/1000\n",
      " 1/16 [>.............................] - ETA: 0s - loss: 0.6340 - accuracy: 0.6250\n",
      "Epoch 912: val_loss did not improve from 0.93503\n",
      "16/16 [==============================] - 0s 7ms/step - loss: 0.5395 - accuracy: 0.7556 - val_loss: 1.2988 - val_accuracy: 0.6066\n",
      "Epoch 913/1000\n",
      "16/16 [==============================] - ETA: 0s - loss: 0.5811 - accuracy: 0.7372\n",
      "Epoch 913: val_loss did not improve from 0.93503\n",
      "16/16 [==============================] - 0s 13ms/step - loss: 0.5811 - accuracy: 0.7372 - val_loss: 1.1391 - val_accuracy: 0.6639\n",
      "Epoch 914/1000\n",
      "10/16 [=================>............] - ETA: 0s - loss: 0.6001 - accuracy: 0.7469\n",
      "Epoch 914: val_loss did not improve from 0.93503\n",
      "16/16 [==============================] - 0s 7ms/step - loss: 0.6173 - accuracy: 0.7331 - val_loss: 1.1989 - val_accuracy: 0.6721\n",
      "Epoch 915/1000\n",
      "13/16 [=======================>......] - ETA: 0s - loss: 0.5600 - accuracy: 0.7476\n",
      "Epoch 915: val_loss did not improve from 0.93503\n",
      "16/16 [==============================] - 0s 9ms/step - loss: 0.5821 - accuracy: 0.7433 - val_loss: 1.2920 - val_accuracy: 0.6639\n",
      "Epoch 916/1000\n",
      "10/16 [=================>............] - ETA: 0s - loss: 0.6216 - accuracy: 0.7437\n",
      "Epoch 916: val_loss did not improve from 0.93503\n",
      "16/16 [==============================] - 0s 10ms/step - loss: 0.5880 - accuracy: 0.7700 - val_loss: 1.1125 - val_accuracy: 0.6885\n",
      "Epoch 917/1000\n",
      " 8/16 [==============>...............] - ETA: 0s - loss: 0.5409 - accuracy: 0.7617\n",
      "Epoch 917: val_loss did not improve from 0.93503\n",
      "16/16 [==============================] - 0s 9ms/step - loss: 0.5933 - accuracy: 0.7515 - val_loss: 1.1667 - val_accuracy: 0.6557\n",
      "Epoch 918/1000\n",
      " 1/16 [>.............................] - ETA: 0s - loss: 0.4411 - accuracy: 0.8438\n",
      "Epoch 918: val_loss did not improve from 0.93503\n",
      "16/16 [==============================] - 0s 7ms/step - loss: 0.5528 - accuracy: 0.7598 - val_loss: 1.2953 - val_accuracy: 0.6475\n",
      "Epoch 919/1000\n",
      " 9/16 [===============>..............] - ETA: 0s - loss: 0.5495 - accuracy: 0.7083\n",
      "Epoch 919: val_loss did not improve from 0.93503\n",
      "16/16 [==============================] - 0s 12ms/step - loss: 0.5239 - accuracy: 0.7474 - val_loss: 1.2678 - val_accuracy: 0.6475\n",
      "Epoch 920/1000\n",
      " 9/16 [===============>..............] - ETA: 0s - loss: 0.6204 - accuracy: 0.7257\n",
      "Epoch 920: val_loss did not improve from 0.93503\n",
      "16/16 [==============================] - 0s 8ms/step - loss: 0.6180 - accuracy: 0.7290 - val_loss: 1.1706 - val_accuracy: 0.6230\n",
      "Epoch 921/1000\n",
      " 1/16 [>.............................] - ETA: 0s - loss: 0.5622 - accuracy: 0.8438\n",
      "Epoch 921: val_loss did not improve from 0.93503\n",
      "16/16 [==============================] - 0s 8ms/step - loss: 0.6387 - accuracy: 0.7433 - val_loss: 1.1050 - val_accuracy: 0.6557\n",
      "Epoch 922/1000\n",
      "10/16 [=================>............] - ETA: 0s - loss: 0.6424 - accuracy: 0.7031\n",
      "Epoch 922: val_loss did not improve from 0.93503\n",
      "16/16 [==============================] - 0s 11ms/step - loss: 0.6017 - accuracy: 0.7269 - val_loss: 1.1507 - val_accuracy: 0.6557\n",
      "Epoch 923/1000\n",
      "16/16 [==============================] - ETA: 0s - loss: 0.6527 - accuracy: 0.7228\n",
      "Epoch 923: val_loss did not improve from 0.93503\n",
      "16/16 [==============================] - 0s 11ms/step - loss: 0.6527 - accuracy: 0.7228 - val_loss: 1.1323 - val_accuracy: 0.6066\n",
      "Epoch 924/1000\n",
      " 1/16 [>.............................] - ETA: 0s - loss: 0.6996 - accuracy: 0.6875\n",
      "Epoch 924: val_loss did not improve from 0.93503\n",
      "16/16 [==============================] - 0s 4ms/step - loss: 0.6389 - accuracy: 0.7310 - val_loss: 1.2044 - val_accuracy: 0.6393\n",
      "Epoch 925/1000\n",
      "16/16 [==============================] - ETA: 0s - loss: 0.6100 - accuracy: 0.7351\n",
      "Epoch 925: val_loss did not improve from 0.93503\n",
      "16/16 [==============================] - 0s 8ms/step - loss: 0.6100 - accuracy: 0.7351 - val_loss: 1.1425 - val_accuracy: 0.6721\n",
      "Epoch 926/1000\n",
      " 9/16 [===============>..............] - ETA: 0s - loss: 0.5893 - accuracy: 0.7778\n",
      "Epoch 926: val_loss did not improve from 0.93503\n",
      "16/16 [==============================] - 0s 10ms/step - loss: 0.6126 - accuracy: 0.7495 - val_loss: 1.0862 - val_accuracy: 0.6967\n",
      "Epoch 927/1000\n",
      "14/16 [=========================>....] - ETA: 0s - loss: 0.6394 - accuracy: 0.7299\n",
      "Epoch 927: val_loss did not improve from 0.93503\n",
      "16/16 [==============================] - 0s 7ms/step - loss: 0.6358 - accuracy: 0.7351 - val_loss: 1.1092 - val_accuracy: 0.6639\n",
      "Epoch 928/1000\n",
      "14/16 [=========================>....] - ETA: 0s - loss: 0.6066 - accuracy: 0.7433\n",
      "Epoch 928: val_loss did not improve from 0.93503\n",
      "16/16 [==============================] - 0s 7ms/step - loss: 0.6041 - accuracy: 0.7454 - val_loss: 1.1046 - val_accuracy: 0.6475\n",
      "Epoch 929/1000\n",
      "13/16 [=======================>......] - ETA: 0s - loss: 0.6058 - accuracy: 0.7500\n",
      "Epoch 929: val_loss did not improve from 0.93503\n",
      "16/16 [==============================] - 0s 7ms/step - loss: 0.5909 - accuracy: 0.7495 - val_loss: 1.1667 - val_accuracy: 0.6557\n",
      "Epoch 930/1000\n",
      "15/16 [===========================>..] - ETA: 0s - loss: 0.5918 - accuracy: 0.7542\n",
      "Epoch 930: val_loss did not improve from 0.93503\n",
      "16/16 [==============================] - 0s 5ms/step - loss: 0.5887 - accuracy: 0.7556 - val_loss: 1.2323 - val_accuracy: 0.6639\n",
      "Epoch 931/1000\n",
      " 1/16 [>.............................] - ETA: 0s - loss: 0.6694 - accuracy: 0.6562\n",
      "Epoch 931: val_loss did not improve from 0.93503\n",
      "16/16 [==============================] - 0s 4ms/step - loss: 0.5310 - accuracy: 0.7659 - val_loss: 1.3460 - val_accuracy: 0.6393\n",
      "Epoch 932/1000\n",
      " 8/16 [==============>...............] - ETA: 0s - loss: 0.4709 - accuracy: 0.7852\n",
      "Epoch 932: val_loss did not improve from 0.93503\n",
      "16/16 [==============================] - 0s 9ms/step - loss: 0.5847 - accuracy: 0.7598 - val_loss: 1.3128 - val_accuracy: 0.6557\n",
      "Epoch 933/1000\n",
      " 1/16 [>.............................] - ETA: 0s - loss: 0.5390 - accuracy: 0.8438\n",
      "Epoch 933: val_loss did not improve from 0.93503\n",
      "16/16 [==============================] - 0s 7ms/step - loss: 0.5672 - accuracy: 0.7536 - val_loss: 1.1828 - val_accuracy: 0.6557\n",
      "Epoch 934/1000\n",
      " 1/16 [>.............................] - ETA: 0s - loss: 0.3564 - accuracy: 0.9062\n",
      "Epoch 934: val_loss did not improve from 0.93503\n",
      "16/16 [==============================] - 0s 5ms/step - loss: 0.5260 - accuracy: 0.7556 - val_loss: 1.2617 - val_accuracy: 0.6475\n",
      "Epoch 935/1000\n",
      "15/16 [===========================>..] - ETA: 0s - loss: 0.5442 - accuracy: 0.7604\n",
      "Epoch 935: val_loss did not improve from 0.93503\n",
      "16/16 [==============================] - 0s 7ms/step - loss: 0.5482 - accuracy: 0.7598 - val_loss: 1.2508 - val_accuracy: 0.6721\n",
      "Epoch 936/1000\n",
      " 9/16 [===============>..............] - ETA: 0s - loss: 0.6204 - accuracy: 0.7118\n",
      "Epoch 936: val_loss did not improve from 0.93503\n",
      "16/16 [==============================] - 0s 9ms/step - loss: 0.5701 - accuracy: 0.7392 - val_loss: 1.3188 - val_accuracy: 0.6311\n",
      "Epoch 937/1000\n",
      " 1/16 [>.............................] - ETA: 0s - loss: 0.7120 - accuracy: 0.6562\n",
      "Epoch 937: val_loss did not improve from 0.93503\n",
      "16/16 [==============================] - 0s 5ms/step - loss: 0.6481 - accuracy: 0.7331 - val_loss: 1.2395 - val_accuracy: 0.6721\n",
      "Epoch 938/1000\n",
      " 1/16 [>.............................] - ETA: 0s - loss: 0.4588 - accuracy: 0.8438\n",
      "Epoch 938: val_loss did not improve from 0.93503\n",
      "16/16 [==============================] - 0s 4ms/step - loss: 0.5514 - accuracy: 0.7474 - val_loss: 1.3388 - val_accuracy: 0.6311\n",
      "Epoch 939/1000\n",
      " 1/16 [>.............................] - ETA: 0s - loss: 0.4555 - accuracy: 0.8125\n",
      "Epoch 939: val_loss did not improve from 0.93503\n",
      "16/16 [==============================] - 0s 6ms/step - loss: 0.5308 - accuracy: 0.7639 - val_loss: 1.2494 - val_accuracy: 0.6311\n",
      "Epoch 940/1000\n",
      "10/16 [=================>............] - ETA: 0s - loss: 0.5727 - accuracy: 0.7656\n",
      "Epoch 940: val_loss did not improve from 0.93503\n",
      "16/16 [==============================] - 0s 12ms/step - loss: 0.5822 - accuracy: 0.7515 - val_loss: 1.2369 - val_accuracy: 0.6311\n",
      "Epoch 941/1000\n",
      " 9/16 [===============>..............] - ETA: 0s - loss: 0.5426 - accuracy: 0.7361\n",
      "Epoch 941: val_loss did not improve from 0.93503\n",
      "16/16 [==============================] - 0s 8ms/step - loss: 0.5357 - accuracy: 0.7433 - val_loss: 1.3598 - val_accuracy: 0.6230\n",
      "Epoch 942/1000\n",
      "16/16 [==============================] - ETA: 0s - loss: 0.5683 - accuracy: 0.7515\n",
      "Epoch 942: val_loss did not improve from 0.93503\n",
      "16/16 [==============================] - 0s 6ms/step - loss: 0.5683 - accuracy: 0.7515 - val_loss: 1.2775 - val_accuracy: 0.6475\n",
      "Epoch 943/1000\n",
      " 1/16 [>.............................] - ETA: 0s - loss: 0.6282 - accuracy: 0.6875\n",
      "Epoch 943: val_loss did not improve from 0.93503\n",
      "16/16 [==============================] - 0s 6ms/step - loss: 0.5981 - accuracy: 0.7413 - val_loss: 1.3064 - val_accuracy: 0.6230\n",
      "Epoch 944/1000\n",
      " 1/16 [>.............................] - ETA: 0s - loss: 0.5488 - accuracy: 0.7500\n",
      "Epoch 944: val_loss did not improve from 0.93503\n",
      "16/16 [==============================] - 0s 4ms/step - loss: 0.6259 - accuracy: 0.7372 - val_loss: 1.1984 - val_accuracy: 0.6230\n",
      "Epoch 945/1000\n",
      " 1/16 [>.............................] - ETA: 0s - loss: 0.5717 - accuracy: 0.7500\n",
      "Epoch 945: val_loss did not improve from 0.93503\n",
      "16/16 [==============================] - 0s 4ms/step - loss: 0.6191 - accuracy: 0.7166 - val_loss: 1.1037 - val_accuracy: 0.6885\n",
      "Epoch 946/1000\n",
      " 1/16 [>.............................] - ETA: 0s - loss: 0.4004 - accuracy: 0.8125\n",
      "Epoch 946: val_loss did not improve from 0.93503\n",
      "16/16 [==============================] - 0s 4ms/step - loss: 0.5832 - accuracy: 0.7433 - val_loss: 1.1918 - val_accuracy: 0.6066\n",
      "Epoch 947/1000\n",
      " 1/16 [>.............................] - ETA: 0s - loss: 0.5979 - accuracy: 0.7812\n",
      "Epoch 947: val_loss did not improve from 0.93503\n",
      "16/16 [==============================] - 0s 7ms/step - loss: 0.5656 - accuracy: 0.7413 - val_loss: 1.1963 - val_accuracy: 0.6148\n",
      "Epoch 948/1000\n",
      " 1/16 [>.............................] - ETA: 0s - loss: 0.4601 - accuracy: 0.7500\n",
      "Epoch 948: val_loss did not improve from 0.93503\n",
      "16/16 [==============================] - 0s 5ms/step - loss: 0.5594 - accuracy: 0.7413 - val_loss: 1.2267 - val_accuracy: 0.6393\n",
      "Epoch 949/1000\n",
      "14/16 [=========================>....] - ETA: 0s - loss: 0.6089 - accuracy: 0.7232\n",
      "Epoch 949: val_loss did not improve from 0.93503\n",
      "16/16 [==============================] - 0s 8ms/step - loss: 0.5942 - accuracy: 0.7372 - val_loss: 1.1233 - val_accuracy: 0.6148\n",
      "Epoch 950/1000\n",
      " 1/16 [>.............................] - ETA: 0s - loss: 0.4701 - accuracy: 0.8750\n",
      "Epoch 950: val_loss did not improve from 0.93503\n",
      "16/16 [==============================] - 0s 4ms/step - loss: 0.5673 - accuracy: 0.7536 - val_loss: 1.2229 - val_accuracy: 0.6311\n",
      "Epoch 951/1000\n",
      " 1/16 [>.............................] - ETA: 0s - loss: 0.7541 - accuracy: 0.6250\n",
      "Epoch 951: val_loss did not improve from 0.93503\n",
      "16/16 [==============================] - 0s 5ms/step - loss: 0.6306 - accuracy: 0.7413 - val_loss: 1.2369 - val_accuracy: 0.6066\n",
      "Epoch 952/1000\n",
      "12/16 [=====================>........] - ETA: 0s - loss: 0.6383 - accuracy: 0.7422\n",
      "Epoch 952: val_loss did not improve from 0.93503\n",
      "16/16 [==============================] - 0s 8ms/step - loss: 0.5975 - accuracy: 0.7577 - val_loss: 1.1572 - val_accuracy: 0.6148\n",
      "Epoch 953/1000\n",
      " 1/16 [>.............................] - ETA: 0s - loss: 0.6296 - accuracy: 0.6875\n",
      "Epoch 953: val_loss did not improve from 0.93503\n",
      "16/16 [==============================] - 0s 5ms/step - loss: 0.6100 - accuracy: 0.7146 - val_loss: 1.2243 - val_accuracy: 0.6393\n",
      "Epoch 954/1000\n",
      " 1/16 [>.............................] - ETA: 0s - loss: 0.8501 - accuracy: 0.6875\n",
      "Epoch 954: val_loss did not improve from 0.93503\n",
      "16/16 [==============================] - 0s 5ms/step - loss: 0.6011 - accuracy: 0.7372 - val_loss: 1.2428 - val_accuracy: 0.6230\n",
      "Epoch 955/1000\n",
      " 1/16 [>.............................] - ETA: 0s - loss: 0.4903 - accuracy: 0.8125\n",
      "Epoch 955: val_loss did not improve from 0.93503\n",
      "16/16 [==============================] - 0s 5ms/step - loss: 0.5545 - accuracy: 0.7598 - val_loss: 1.2646 - val_accuracy: 0.6311\n",
      "Epoch 956/1000\n",
      " 1/16 [>.............................] - ETA: 0s - loss: 0.4445 - accuracy: 0.8438\n",
      "Epoch 956: val_loss did not improve from 0.93503\n",
      "16/16 [==============================] - 0s 4ms/step - loss: 0.5903 - accuracy: 0.7392 - val_loss: 1.2489 - val_accuracy: 0.6393\n",
      "Epoch 957/1000\n",
      " 1/16 [>.............................] - ETA: 0s - loss: 0.4859 - accuracy: 0.7188\n",
      "Epoch 957: val_loss did not improve from 0.93503\n",
      "16/16 [==============================] - 0s 3ms/step - loss: 0.5919 - accuracy: 0.7187 - val_loss: 1.2027 - val_accuracy: 0.5984\n",
      "Epoch 958/1000\n",
      " 1/16 [>.............................] - ETA: 0s - loss: 0.3728 - accuracy: 0.8750\n",
      "Epoch 958: val_loss did not improve from 0.93503\n",
      "16/16 [==============================] - 0s 5ms/step - loss: 0.6248 - accuracy: 0.7290 - val_loss: 1.3153 - val_accuracy: 0.6475\n",
      "Epoch 959/1000\n",
      " 1/16 [>.............................] - ETA: 0s - loss: 0.8993 - accuracy: 0.6875\n",
      "Epoch 959: val_loss did not improve from 0.93503\n",
      "16/16 [==============================] - 0s 4ms/step - loss: 0.6407 - accuracy: 0.7269 - val_loss: 1.1774 - val_accuracy: 0.6557\n",
      "Epoch 960/1000\n",
      " 1/16 [>.............................] - ETA: 0s - loss: 0.5599 - accuracy: 0.7812\n",
      "Epoch 960: val_loss did not improve from 0.93503\n",
      "16/16 [==============================] - 0s 7ms/step - loss: 0.6271 - accuracy: 0.7639 - val_loss: 1.2430 - val_accuracy: 0.6557\n",
      "Epoch 961/1000\n",
      " 1/16 [>.............................] - ETA: 0s - loss: 0.6476 - accuracy: 0.7500\n",
      "Epoch 961: val_loss did not improve from 0.93503\n",
      "16/16 [==============================] - 0s 5ms/step - loss: 0.5903 - accuracy: 0.7556 - val_loss: 1.2190 - val_accuracy: 0.6475\n",
      "Epoch 962/1000\n",
      " 1/16 [>.............................] - ETA: 0s - loss: 0.6058 - accuracy: 0.6562\n",
      "Epoch 962: val_loss did not improve from 0.93503\n",
      "16/16 [==============================] - 0s 4ms/step - loss: 0.5977 - accuracy: 0.7351 - val_loss: 1.2696 - val_accuracy: 0.6148\n",
      "Epoch 963/1000\n",
      " 1/16 [>.............................] - ETA: 0s - loss: 0.5703 - accuracy: 0.7188\n",
      "Epoch 963: val_loss did not improve from 0.93503\n",
      "16/16 [==============================] - 0s 5ms/step - loss: 0.5654 - accuracy: 0.7495 - val_loss: 1.2760 - val_accuracy: 0.5984\n",
      "Epoch 964/1000\n",
      "13/16 [=======================>......] - ETA: 0s - loss: 0.5247 - accuracy: 0.7812\n",
      "Epoch 964: val_loss did not improve from 0.93503\n",
      "16/16 [==============================] - 0s 7ms/step - loss: 0.5482 - accuracy: 0.7680 - val_loss: 1.2862 - val_accuracy: 0.6311\n",
      "Epoch 965/1000\n",
      "14/16 [=========================>....] - ETA: 0s - loss: 0.5869 - accuracy: 0.7589\n",
      "Epoch 965: val_loss did not improve from 0.93503\n",
      "16/16 [==============================] - 0s 6ms/step - loss: 0.5980 - accuracy: 0.7536 - val_loss: 1.2381 - val_accuracy: 0.6148\n",
      "Epoch 966/1000\n",
      " 1/16 [>.............................] - ETA: 0s - loss: 0.4996 - accuracy: 0.7812\n",
      "Epoch 966: val_loss did not improve from 0.93503\n",
      "16/16 [==============================] - 0s 5ms/step - loss: 0.5464 - accuracy: 0.7741 - val_loss: 1.2437 - val_accuracy: 0.6148\n",
      "Epoch 967/1000\n",
      " 1/16 [>.............................] - ETA: 0s - loss: 0.4097 - accuracy: 0.8438\n",
      "Epoch 967: val_loss did not improve from 0.93503\n",
      "16/16 [==============================] - 0s 4ms/step - loss: 0.5640 - accuracy: 0.7433 - val_loss: 1.4797 - val_accuracy: 0.5902\n",
      "Epoch 968/1000\n",
      "14/16 [=========================>....] - ETA: 0s - loss: 0.5938 - accuracy: 0.7277\n",
      "Epoch 968: val_loss did not improve from 0.93503\n",
      "16/16 [==============================] - 0s 7ms/step - loss: 0.5984 - accuracy: 0.7351 - val_loss: 1.4517 - val_accuracy: 0.5984\n",
      "Epoch 969/1000\n",
      " 1/16 [>.............................] - ETA: 0s - loss: 0.6761 - accuracy: 0.6562\n",
      "Epoch 969: val_loss did not improve from 0.93503\n",
      "16/16 [==============================] - 0s 6ms/step - loss: 0.6007 - accuracy: 0.7125 - val_loss: 1.1783 - val_accuracy: 0.6557\n",
      "Epoch 970/1000\n",
      "13/16 [=======================>......] - ETA: 0s - loss: 0.5628 - accuracy: 0.7356\n",
      "Epoch 970: val_loss did not improve from 0.93503\n",
      "16/16 [==============================] - 0s 7ms/step - loss: 0.5857 - accuracy: 0.7269 - val_loss: 1.2122 - val_accuracy: 0.6803\n",
      "Epoch 971/1000\n",
      " 1/16 [>.............................] - ETA: 0s - loss: 0.4791 - accuracy: 0.7500\n",
      "Epoch 971: val_loss did not improve from 0.93503\n",
      "16/16 [==============================] - 0s 5ms/step - loss: 0.6034 - accuracy: 0.7413 - val_loss: 1.2932 - val_accuracy: 0.6557\n",
      "Epoch 972/1000\n",
      " 9/16 [===============>..............] - ETA: 0s - loss: 0.6072 - accuracy: 0.7396\n",
      "Epoch 972: val_loss did not improve from 0.93503\n",
      "16/16 [==============================] - 0s 11ms/step - loss: 0.5718 - accuracy: 0.7372 - val_loss: 1.2547 - val_accuracy: 0.6148\n",
      "Epoch 973/1000\n",
      "15/16 [===========================>..] - ETA: 0s - loss: 0.6330 - accuracy: 0.7292\n",
      "Epoch 973: val_loss did not improve from 0.93503\n",
      "16/16 [==============================] - 0s 10ms/step - loss: 0.6302 - accuracy: 0.7310 - val_loss: 1.1889 - val_accuracy: 0.6803\n",
      "Epoch 974/1000\n",
      " 1/16 [>.............................] - ETA: 0s - loss: 0.4160 - accuracy: 0.8750\n",
      "Epoch 974: val_loss did not improve from 0.93503\n",
      "16/16 [==============================] - 0s 5ms/step - loss: 0.5391 - accuracy: 0.7556 - val_loss: 1.2882 - val_accuracy: 0.6066\n",
      "Epoch 975/1000\n",
      "11/16 [===================>..........] - ETA: 0s - loss: 0.5739 - accuracy: 0.7699\n",
      "Epoch 975: val_loss did not improve from 0.93503\n",
      "16/16 [==============================] - 0s 11ms/step - loss: 0.5566 - accuracy: 0.7618 - val_loss: 1.2350 - val_accuracy: 0.6475\n",
      "Epoch 976/1000\n",
      "16/16 [==============================] - ETA: 0s - loss: 0.5645 - accuracy: 0.7454\n",
      "Epoch 976: val_loss did not improve from 0.93503\n",
      "16/16 [==============================] - 0s 11ms/step - loss: 0.5645 - accuracy: 0.7454 - val_loss: 1.2923 - val_accuracy: 0.6230\n",
      "Epoch 977/1000\n",
      " 1/16 [>.............................] - ETA: 0s - loss: 0.6224 - accuracy: 0.6875\n",
      "Epoch 977: val_loss did not improve from 0.93503\n",
      "16/16 [==============================] - 0s 4ms/step - loss: 0.6176 - accuracy: 0.7269 - val_loss: 1.3002 - val_accuracy: 0.6475\n",
      "Epoch 978/1000\n",
      "14/16 [=========================>....] - ETA: 0s - loss: 0.5515 - accuracy: 0.7589\n",
      "Epoch 978: val_loss did not improve from 0.93503\n",
      "16/16 [==============================] - 0s 9ms/step - loss: 0.5622 - accuracy: 0.7577 - val_loss: 1.2989 - val_accuracy: 0.6393\n",
      "Epoch 979/1000\n",
      " 8/16 [==============>...............] - ETA: 0s - loss: 0.5884 - accuracy: 0.7461\n",
      "Epoch 979: val_loss did not improve from 0.93503\n",
      "16/16 [==============================] - 0s 10ms/step - loss: 0.6079 - accuracy: 0.7454 - val_loss: 1.3003 - val_accuracy: 0.6230\n",
      "Epoch 980/1000\n",
      "13/16 [=======================>......] - ETA: 0s - loss: 0.6236 - accuracy: 0.7404\n",
      "Epoch 980: val_loss did not improve from 0.93503\n",
      "16/16 [==============================] - 0s 7ms/step - loss: 0.6167 - accuracy: 0.7474 - val_loss: 1.2909 - val_accuracy: 0.6230\n",
      "Epoch 981/1000\n",
      "11/16 [===================>..........] - ETA: 0s - loss: 0.6118 - accuracy: 0.7330\n",
      "Epoch 981: val_loss did not improve from 0.93503\n",
      "16/16 [==============================] - 0s 11ms/step - loss: 0.6019 - accuracy: 0.7372 - val_loss: 1.2048 - val_accuracy: 0.6639\n",
      "Epoch 982/1000\n",
      " 8/16 [==============>...............] - ETA: 0s - loss: 0.5641 - accuracy: 0.7305\n",
      "Epoch 982: val_loss did not improve from 0.93503\n",
      "16/16 [==============================] - 0s 13ms/step - loss: 0.5778 - accuracy: 0.7454 - val_loss: 1.2372 - val_accuracy: 0.6230\n",
      "Epoch 983/1000\n",
      "15/16 [===========================>..] - ETA: 0s - loss: 0.6104 - accuracy: 0.7375\n",
      "Epoch 983: val_loss did not improve from 0.93503\n",
      "16/16 [==============================] - 0s 5ms/step - loss: 0.6118 - accuracy: 0.7392 - val_loss: 1.3706 - val_accuracy: 0.5902\n",
      "Epoch 984/1000\n",
      "15/16 [===========================>..] - ETA: 0s - loss: 0.5696 - accuracy: 0.7583\n",
      "Epoch 984: val_loss did not improve from 0.93503\n",
      "16/16 [==============================] - 0s 8ms/step - loss: 0.5672 - accuracy: 0.7598 - val_loss: 1.3240 - val_accuracy: 0.6148\n",
      "Epoch 985/1000\n",
      "11/16 [===================>..........] - ETA: 0s - loss: 0.5718 - accuracy: 0.7557\n",
      "Epoch 985: val_loss did not improve from 0.93503\n",
      "16/16 [==============================] - 0s 12ms/step - loss: 0.5897 - accuracy: 0.7413 - val_loss: 1.2824 - val_accuracy: 0.6721\n",
      "Epoch 986/1000\n",
      "14/16 [=========================>....] - ETA: 0s - loss: 0.5398 - accuracy: 0.7790\n",
      "Epoch 986: val_loss did not improve from 0.93503\n",
      "16/16 [==============================] - 0s 6ms/step - loss: 0.5469 - accuracy: 0.7762 - val_loss: 1.2559 - val_accuracy: 0.6721\n",
      "Epoch 987/1000\n",
      "16/16 [==============================] - ETA: 0s - loss: 0.5609 - accuracy: 0.7495\n",
      "Epoch 987: val_loss did not improve from 0.93503\n",
      "16/16 [==============================] - 0s 11ms/step - loss: 0.5609 - accuracy: 0.7495 - val_loss: 1.3272 - val_accuracy: 0.6393\n",
      "Epoch 988/1000\n",
      "15/16 [===========================>..] - ETA: 0s - loss: 0.6228 - accuracy: 0.7521\n",
      "Epoch 988: val_loss did not improve from 0.93503\n",
      "16/16 [==============================] - 0s 14ms/step - loss: 0.6205 - accuracy: 0.7515 - val_loss: 1.3398 - val_accuracy: 0.6311\n",
      "Epoch 989/1000\n",
      " 1/16 [>.............................] - ETA: 0s - loss: 0.4423 - accuracy: 0.8125\n",
      "Epoch 989: val_loss did not improve from 0.93503\n",
      "16/16 [==============================] - 0s 3ms/step - loss: 0.5403 - accuracy: 0.7536 - val_loss: 1.3590 - val_accuracy: 0.6311\n",
      "Epoch 990/1000\n",
      "11/16 [===================>..........] - ETA: 0s - loss: 0.5322 - accuracy: 0.7841\n",
      "Epoch 990: val_loss did not improve from 0.93503\n",
      "16/16 [==============================] - 0s 11ms/step - loss: 0.5507 - accuracy: 0.7700 - val_loss: 1.3776 - val_accuracy: 0.5984\n",
      "Epoch 991/1000\n",
      "12/16 [=====================>........] - ETA: 0s - loss: 0.5550 - accuracy: 0.7500\n",
      "Epoch 991: val_loss did not improve from 0.93503\n",
      "16/16 [==============================] - 0s 7ms/step - loss: 0.5595 - accuracy: 0.7639 - val_loss: 1.5854 - val_accuracy: 0.6066\n",
      "Epoch 992/1000\n",
      " 1/16 [>.............................] - ETA: 0s - loss: 0.5744 - accuracy: 0.7500\n",
      "Epoch 992: val_loss did not improve from 0.93503\n",
      "16/16 [==============================] - 0s 5ms/step - loss: 0.5979 - accuracy: 0.7721 - val_loss: 1.1719 - val_accuracy: 0.6066\n",
      "Epoch 993/1000\n",
      " 1/16 [>.............................] - ETA: 0s - loss: 0.7254 - accuracy: 0.6875\n",
      "Epoch 993: val_loss did not improve from 0.93503\n",
      "16/16 [==============================] - 0s 8ms/step - loss: 0.6128 - accuracy: 0.7474 - val_loss: 1.1502 - val_accuracy: 0.6721\n",
      "Epoch 994/1000\n",
      " 8/16 [==============>...............] - ETA: 0s - loss: 0.5742 - accuracy: 0.7656\n",
      "Epoch 994: val_loss did not improve from 0.93503\n",
      "16/16 [==============================] - 0s 13ms/step - loss: 0.5519 - accuracy: 0.7639 - val_loss: 1.1645 - val_accuracy: 0.6557\n",
      "Epoch 995/1000\n",
      "16/16 [==============================] - ETA: 0s - loss: 0.5459 - accuracy: 0.7762\n",
      "Epoch 995: val_loss did not improve from 0.93503\n",
      "16/16 [==============================] - 0s 10ms/step - loss: 0.5459 - accuracy: 0.7762 - val_loss: 1.1410 - val_accuracy: 0.6639\n",
      "Epoch 996/1000\n",
      " 1/16 [>.............................] - ETA: 0s - loss: 0.4118 - accuracy: 0.8438\n",
      "Epoch 996: val_loss did not improve from 0.93503\n",
      "16/16 [==============================] - 0s 4ms/step - loss: 0.6430 - accuracy: 0.7166 - val_loss: 1.1774 - val_accuracy: 0.6393\n",
      "Epoch 997/1000\n",
      "15/16 [===========================>..] - ETA: 0s - loss: 0.5784 - accuracy: 0.7542\n",
      "Epoch 997: val_loss did not improve from 0.93503\n",
      "16/16 [==============================] - 0s 13ms/step - loss: 0.5773 - accuracy: 0.7556 - val_loss: 1.1829 - val_accuracy: 0.6393\n",
      "Epoch 998/1000\n",
      "10/16 [=================>............] - ETA: 0s - loss: 0.5782 - accuracy: 0.7312\n",
      "Epoch 998: val_loss did not improve from 0.93503\n",
      "16/16 [==============================] - 0s 9ms/step - loss: 0.5544 - accuracy: 0.7515 - val_loss: 1.1392 - val_accuracy: 0.6230\n",
      "Epoch 999/1000\n",
      " 1/16 [>.............................] - ETA: 0s - loss: 0.4912 - accuracy: 0.7500\n",
      "Epoch 999: val_loss did not improve from 0.93503\n",
      "16/16 [==============================] - 0s 4ms/step - loss: 0.6329 - accuracy: 0.7515 - val_loss: 1.2422 - val_accuracy: 0.6230\n",
      "Epoch 1000/1000\n",
      " 9/16 [===============>..............] - ETA: 0s - loss: 0.5685 - accuracy: 0.7639\n",
      "Epoch 1000: val_loss did not improve from 0.93503\n",
      "16/16 [==============================] - 0s 9ms/step - loss: 0.5589 - accuracy: 0.7659 - val_loss: 1.1915 - val_accuracy: 0.6230\n",
      "Training completed in time:  0:01:12.451106\n"
     ]
    }
   ],
   "source": [
    "## Trianing my model\n",
    "from tensorflow.keras.callbacks import ModelCheckpoint\n",
    "from datetime import datetime \n",
    "\n",
    "num_epochs = 1000\n",
    "num_batch_size = 32\n",
    "\n",
    "checkpointer = ModelCheckpoint(filepath='saved_models/audio_classification.hdf5', \n",
    "                               verbose=1, save_best_only=True)\n",
    "start = datetime.now()\n",
    "\n",
    "model.fit(X_train, y_train, batch_size=num_batch_size, epochs=num_epochs, validation_data=(X_test, y_test), callbacks=[checkpointer], verbose=1)\n",
    "\n",
    "\n",
    "duration = datetime.now() - start\n",
    "print(\"Training completed in time: \", duration)"
   ]
  },
  {
   "cell_type": "code",
   "execution_count": 45,
   "metadata": {},
   "outputs": [
    {
     "name": "stdout",
     "output_type": "stream",
     "text": [
      "0.6229507923126221\n"
     ]
    }
   ],
   "source": [
    "test_accuracy=model.evaluate(X_test,y_test,verbose=0)\n",
    "print(test_accuracy[1])"
   ]
  },
  {
   "cell_type": "code",
   "execution_count": null,
   "metadata": {},
   "outputs": [],
   "source": []
  }
 ],
 "metadata": {
  "kernelspec": {
   "display_name": "base",
   "language": "python",
   "name": "python3"
  },
  "language_info": {
   "codemirror_mode": {
    "name": "ipython",
    "version": 3
   },
   "file_extension": ".py",
   "mimetype": "text/x-python",
   "name": "python",
   "nbconvert_exporter": "python",
   "pygments_lexer": "ipython3",
   "version": "3.10.9"
  },
  "orig_nbformat": 4
 },
 "nbformat": 4,
 "nbformat_minor": 2
}
