{
 "cells": [
  {
   "cell_type": "markdown",
   "metadata": {},
   "source": [
    "Pre Processing"
   ]
  },
  {
   "cell_type": "code",
   "execution_count": 23,
   "metadata": {},
   "outputs": [],
   "source": [
    "#importing libraries\n",
    "import pandas as pd\n",
    "import os\n",
    "import librosa\n",
    "import numpy as np\n",
    "from tqdm import tqdm\n",
    "import ast\n",
    "import json\n",
    "import matplotlib.pyplot as plt\n",
    "import seaborn as sns\n",
    "from sklearn.metrics import confusion_matrix\n",
    "import seaborn as sn\n",
    "from sklearn.metrics import classification_report"
   ]
  },
  {
   "cell_type": "markdown",
   "metadata": {},
   "source": [
    "Loading Data"
   ]
  },
  {
   "cell_type": "code",
   "execution_count": 38,
   "metadata": {},
   "outputs": [],
   "source": [
    "ex_data = pd.read_csv(r'./data.csv')\n",
    "ex_data['Features'] = ex_data['Features'].apply(lambda x: list(map(float, x.split(','))))"
   ]
  },
  {
   "cell_type": "code",
   "execution_count": 39,
   "metadata": {},
   "outputs": [
    {
     "data": {
      "text/html": [
       "<div>\n",
       "<style scoped>\n",
       "    .dataframe tbody tr th:only-of-type {\n",
       "        vertical-align: middle;\n",
       "    }\n",
       "\n",
       "    .dataframe tbody tr th {\n",
       "        vertical-align: top;\n",
       "    }\n",
       "\n",
       "    .dataframe thead th {\n",
       "        text-align: right;\n",
       "    }\n",
       "</style>\n",
       "<table border=\"1\" class=\"dataframe\">\n",
       "  <thead>\n",
       "    <tr style=\"text-align: right;\">\n",
       "      <th></th>\n",
       "      <th>Features</th>\n",
       "      <th>Class</th>\n",
       "    </tr>\n",
       "  </thead>\n",
       "  <tbody>\n",
       "    <tr>\n",
       "      <th>0</th>\n",
       "      <td>[-351.6251220703125, 86.87262725830078, -14.98...</td>\n",
       "      <td>Cargo</td>\n",
       "    </tr>\n",
       "    <tr>\n",
       "      <th>1</th>\n",
       "      <td>[-433.6374816894531, 102.78813934326172, 4.263...</td>\n",
       "      <td>Cargo</td>\n",
       "    </tr>\n",
       "    <tr>\n",
       "      <th>2</th>\n",
       "      <td>[-459.4378967285156, 118.9866714477539, 14.566...</td>\n",
       "      <td>Cargo</td>\n",
       "    </tr>\n",
       "    <tr>\n",
       "      <th>3</th>\n",
       "      <td>[-503.5106201171875, 129.89466857910156, 12.60...</td>\n",
       "      <td>Cargo</td>\n",
       "    </tr>\n",
       "    <tr>\n",
       "      <th>4</th>\n",
       "      <td>[-290.6701965332031, 115.29109191894531, -9.09...</td>\n",
       "      <td>Cargo</td>\n",
       "    </tr>\n",
       "  </tbody>\n",
       "</table>\n",
       "</div>"
      ],
      "text/plain": [
       "                                            Features  Class\n",
       "0  [-351.6251220703125, 86.87262725830078, -14.98...  Cargo\n",
       "1  [-433.6374816894531, 102.78813934326172, 4.263...  Cargo\n",
       "2  [-459.4378967285156, 118.9866714477539, 14.566...  Cargo\n",
       "3  [-503.5106201171875, 129.89466857910156, 12.60...  Cargo\n",
       "4  [-290.6701965332031, 115.29109191894531, -9.09...  Cargo"
      ]
     },
     "execution_count": 39,
     "metadata": {},
     "output_type": "execute_result"
    }
   ],
   "source": [
    "ex_data.head()"
   ]
  },
  {
   "cell_type": "code",
   "execution_count": 40,
   "metadata": {},
   "outputs": [],
   "source": [
    "X=np.array(ex_data['Features'].tolist())\n",
    "y=np.array(ex_data['Class'].tolist())"
   ]
  },
  {
   "cell_type": "code",
   "execution_count": 51,
   "metadata": {},
   "outputs": [
    {
     "data": {
      "text/plain": [
       "(609, 40)"
      ]
     },
     "execution_count": 51,
     "metadata": {},
     "output_type": "execute_result"
    }
   ],
   "source": [
    "X.shape"
   ]
  },
  {
   "cell_type": "code",
   "execution_count": 50,
   "metadata": {},
   "outputs": [
    {
     "data": {
      "text/plain": [
       "(609,)"
      ]
     },
     "execution_count": 50,
     "metadata": {},
     "output_type": "execute_result"
    }
   ],
   "source": [
    "y.shape"
   ]
  },
  {
   "cell_type": "code",
   "execution_count": 41,
   "metadata": {},
   "outputs": [
    {
     "data": {
      "text/plain": [
       "array([-6.74723750e+02,  1.65773930e+02, -1.19742035e+02, -6.69267350e+01,\n",
       "       -2.83425770e+01, -3.88227900e+01, -3.84575840e+01, -1.11084600e+01,\n",
       "       -1.74820440e+01, -4.25757360e+00, -1.15574310e+01,  3.67241550e+00,\n",
       "        2.85031120e-02,  5.93416100e+00, -1.45032600e+00,  4.78073700e+00,\n",
       "        8.25253500e-01,  5.73288970e+00,  1.32782610e+00,  2.13718220e+00,\n",
       "       -4.79194670e-01,  1.82078680e+00,  1.55974760e+00,  3.21742820e+00,\n",
       "        3.68151400e+00,  3.01460400e+00,  3.43556800e+00,  2.94419300e+00,\n",
       "        4.87348650e+00,  3.39357350e+00,  4.04102100e+00,  2.01328830e+00,\n",
       "        3.69617000e+00,  2.49704650e+00,  4.71409370e+00,  2.69723650e+00,\n",
       "        3.61781330e+00,  1.78254750e+00,  3.35013460e+00,  2.42269060e+00])"
      ]
     },
     "execution_count": 41,
     "metadata": {},
     "output_type": "execute_result"
    }
   ],
   "source": [
    "X_test[1]"
   ]
  },
  {
   "cell_type": "code",
   "execution_count": 8,
   "metadata": {},
   "outputs": [
    {
     "data": {
      "text/plain": [
       "(552,)"
      ]
     },
     "execution_count": 8,
     "metadata": {},
     "output_type": "execute_result"
    }
   ],
   "source": [
    "y.shape"
   ]
  },
  {
   "cell_type": "code",
   "execution_count": 42,
   "metadata": {},
   "outputs": [],
   "source": [
    "from tensorflow.keras.utils import to_categorical\n",
    "from sklearn.preprocessing import LabelEncoder\n",
    "labelencoder=LabelEncoder()\n",
    "y=labelencoder.fit_transform(y)"
   ]
  },
  {
   "cell_type": "code",
   "execution_count": 43,
   "metadata": {},
   "outputs": [],
   "source": [
    "from sklearn.model_selection import train_test_split\n",
    "from sklearn.preprocessing import LabelEncoder\n",
    "from collections import Counter"
   ]
  },
  {
   "cell_type": "code",
   "execution_count": 44,
   "metadata": {},
   "outputs": [],
   "source": [
    "X_train,X_test,y_train,y_test=train_test_split(X,y,test_size=0.2,random_state=0)"
   ]
  },
  {
   "cell_type": "code",
   "execution_count": 45,
   "metadata": {},
   "outputs": [
    {
     "name": "stdout",
     "output_type": "stream",
     "text": [
      "2: 189\n",
      "0: 84\n",
      "1: 158\n",
      "3: 56\n"
     ]
    }
   ],
   "source": [
    "# Count the occurrences of each category\n",
    "category_count = Counter(y_train)\n",
    "\n",
    "# Print the total count of each category\n",
    "for category, count in category_count.items():\n",
    "    print(f'{category}: {count}')"
   ]
  },
  {
   "cell_type": "markdown",
   "metadata": {},
   "source": [
    "Model"
   ]
  },
  {
   "cell_type": "code",
   "execution_count": 46,
   "metadata": {},
   "outputs": [],
   "source": [
    "from tensorflow.keras.models import Sequential\n",
    "from tensorflow.keras.layers import Dense,Dropout,Activation,Flatten\n",
    "from tensorflow.keras.optimizers import Adam\n",
    "from sklearn import metrics\n",
    "from tensorflow.keras.callbacks import ModelCheckpoint\n",
    "from datetime import datetime"
   ]
  },
  {
   "cell_type": "code",
   "execution_count": 48,
   "metadata": {},
   "outputs": [
    {
     "data": {
      "text/plain": [
       "609"
      ]
     },
     "execution_count": 48,
     "metadata": {},
     "output_type": "execute_result"
    }
   ],
   "source": [
    "## No of classes\n",
    "num_labels=y.shape[0]\n",
    "num_labels"
   ]
  },
  {
   "cell_type": "code",
   "execution_count": 49,
   "metadata": {},
   "outputs": [],
   "source": [
    "model=Sequential()\n",
    "###first layer\n",
    "model.add(Dense(100,input_shape=(40,)))\n",
    "model.add(Activation('relu'))\n",
    "model.add(Dropout(0.5))\n",
    "###second layer\n",
    "model.add(Dense(200))\n",
    "model.add(Activation('relu'))\n",
    "model.add(Dropout(0.5))\n",
    "###third layer\n",
    "model.add(Dense(100))\n",
    "model.add(Activation('relu'))\n",
    "model.add(Dropout(0.5))\n",
    "\n",
    "###final layer\n",
    "model.add(Dense(len(np.unique(y_train)), activation='softmax'))"
   ]
  },
  {
   "cell_type": "code",
   "execution_count": 18,
   "metadata": {},
   "outputs": [
    {
     "name": "stdout",
     "output_type": "stream",
     "text": [
      "Model: \"sequential\"\n",
      "_________________________________________________________________\n",
      " Layer (type)                Output Shape              Param #   \n",
      "=================================================================\n",
      " dense (Dense)               (None, 100)               4100      \n",
      "                                                                 \n",
      " activation (Activation)     (None, 100)               0         \n",
      "                                                                 \n",
      " dropout (Dropout)           (None, 100)               0         \n",
      "                                                                 \n",
      " dense_1 (Dense)             (None, 200)               20200     \n",
      "                                                                 \n",
      " activation_1 (Activation)   (None, 200)               0         \n",
      "                                                                 \n",
      " dropout_1 (Dropout)         (None, 200)               0         \n",
      "                                                                 \n",
      " dense_2 (Dense)             (None, 100)               20100     \n",
      "                                                                 \n",
      " activation_2 (Activation)   (None, 100)               0         \n",
      "                                                                 \n",
      " dropout_2 (Dropout)         (None, 100)               0         \n",
      "                                                                 \n",
      " dense_3 (Dense)             (None, 4)                 404       \n",
      "                                                                 \n",
      "=================================================================\n",
      "Total params: 44804 (175.02 KB)\n",
      "Trainable params: 44804 (175.02 KB)\n",
      "Non-trainable params: 0 (0.00 Byte)\n",
      "_________________________________________________________________\n"
     ]
    }
   ],
   "source": [
    "model.summary()"
   ]
  },
  {
   "cell_type": "code",
   "execution_count": 53,
   "metadata": {},
   "outputs": [],
   "source": [
    "model.compile(optimizer='adam', loss='sparse_categorical_crossentropy', metrics=['accuracy'])"
   ]
  },
  {
   "cell_type": "code",
   "execution_count": 54,
   "metadata": {},
   "outputs": [
    {
     "name": "stdout",
     "output_type": "stream",
     "text": [
      "Epoch 1/100\n",
      "16/16 [==============================] - 2s 30ms/step - loss: 41.3107 - accuracy: 0.3018 - val_loss: 5.1976 - val_accuracy: 0.4180\n",
      "Epoch 2/100\n",
      "16/16 [==============================] - 0s 10ms/step - loss: 26.9527 - accuracy: 0.2793 - val_loss: 2.5664 - val_accuracy: 0.4262\n",
      "Epoch 3/100\n",
      "16/16 [==============================] - 0s 11ms/step - loss: 17.5842 - accuracy: 0.2936 - val_loss: 1.4264 - val_accuracy: 0.4344\n",
      "Epoch 4/100\n",
      "16/16 [==============================] - 0s 11ms/step - loss: 13.5457 - accuracy: 0.2731 - val_loss: 1.3965 - val_accuracy: 0.4918\n",
      "Epoch 5/100\n",
      "16/16 [==============================] - 0s 18ms/step - loss: 9.7351 - accuracy: 0.3018 - val_loss: 1.3897 - val_accuracy: 0.3852\n",
      "Epoch 6/100\n",
      "16/16 [==============================] - 0s 10ms/step - loss: 7.7900 - accuracy: 0.3162 - val_loss: 1.3249 - val_accuracy: 0.3197\n",
      "Epoch 7/100\n",
      "16/16 [==============================] - 0s 9ms/step - loss: 6.4746 - accuracy: 0.2977 - val_loss: 1.3889 - val_accuracy: 0.2787\n",
      "Epoch 8/100\n",
      "16/16 [==============================] - 0s 10ms/step - loss: 5.8693 - accuracy: 0.2813 - val_loss: 1.4988 - val_accuracy: 0.2623\n",
      "Epoch 9/100\n",
      "16/16 [==============================] - 0s 10ms/step - loss: 4.8298 - accuracy: 0.2731 - val_loss: 1.4847 - val_accuracy: 0.2705\n",
      "Epoch 10/100\n",
      "16/16 [==============================] - 0s 9ms/step - loss: 4.8052 - accuracy: 0.3142 - val_loss: 1.4511 - val_accuracy: 0.2705\n",
      "Epoch 11/100\n",
      "16/16 [==============================] - 0s 22ms/step - loss: 3.4178 - accuracy: 0.3121 - val_loss: 1.4262 - val_accuracy: 0.2541\n",
      "Epoch 12/100\n",
      "16/16 [==============================] - 0s 10ms/step - loss: 3.0627 - accuracy: 0.3244 - val_loss: 1.3906 - val_accuracy: 0.2705\n",
      "Epoch 13/100\n",
      "16/16 [==============================] - 0s 9ms/step - loss: 2.8117 - accuracy: 0.2793 - val_loss: 1.3985 - val_accuracy: 0.2623\n",
      "Epoch 14/100\n",
      "16/16 [==============================] - 0s 9ms/step - loss: 2.6449 - accuracy: 0.2875 - val_loss: 1.3784 - val_accuracy: 0.2623\n",
      "Epoch 15/100\n",
      "16/16 [==============================] - 0s 9ms/step - loss: 2.4169 - accuracy: 0.3080 - val_loss: 1.3763 - val_accuracy: 0.2705\n",
      "Epoch 16/100\n",
      "16/16 [==============================] - 0s 9ms/step - loss: 2.4034 - accuracy: 0.2834 - val_loss: 1.3781 - val_accuracy: 0.2623\n",
      "Epoch 17/100\n",
      "16/16 [==============================] - 0s 10ms/step - loss: 2.0838 - accuracy: 0.3060 - val_loss: 1.3803 - val_accuracy: 0.2705\n",
      "Epoch 18/100\n",
      "16/16 [==============================] - 0s 8ms/step - loss: 1.9622 - accuracy: 0.3142 - val_loss: 1.3670 - val_accuracy: 0.2459\n",
      "Epoch 19/100\n",
      "16/16 [==============================] - 0s 8ms/step - loss: 1.8436 - accuracy: 0.2957 - val_loss: 1.3673 - val_accuracy: 0.2787\n",
      "Epoch 20/100\n",
      "16/16 [==============================] - 0s 9ms/step - loss: 1.8107 - accuracy: 0.3162 - val_loss: 1.3702 - val_accuracy: 0.2787\n",
      "Epoch 21/100\n",
      "16/16 [==============================] - 0s 9ms/step - loss: 1.8296 - accuracy: 0.2854 - val_loss: 1.3692 - val_accuracy: 0.1967\n",
      "Epoch 22/100\n",
      "16/16 [==============================] - 0s 9ms/step - loss: 1.6524 - accuracy: 0.3326 - val_loss: 1.3693 - val_accuracy: 0.1639\n",
      "Epoch 23/100\n",
      "16/16 [==============================] - 0s 9ms/step - loss: 1.6123 - accuracy: 0.3326 - val_loss: 1.3646 - val_accuracy: 0.1967\n",
      "Epoch 24/100\n",
      "16/16 [==============================] - 0s 9ms/step - loss: 1.5823 - accuracy: 0.3183 - val_loss: 1.3586 - val_accuracy: 0.1967\n",
      "Epoch 25/100\n",
      "16/16 [==============================] - 0s 9ms/step - loss: 1.5551 - accuracy: 0.3573 - val_loss: 1.3528 - val_accuracy: 0.2131\n",
      "Epoch 26/100\n",
      "16/16 [==============================] - 0s 9ms/step - loss: 1.5730 - accuracy: 0.3347 - val_loss: 1.3495 - val_accuracy: 0.2869\n",
      "Epoch 27/100\n",
      "16/16 [==============================] - 0s 9ms/step - loss: 1.5582 - accuracy: 0.3060 - val_loss: 1.3467 - val_accuracy: 0.3279\n",
      "Epoch 28/100\n",
      "16/16 [==============================] - 0s 10ms/step - loss: 1.5103 - accuracy: 0.3573 - val_loss: 1.3431 - val_accuracy: 0.3607\n",
      "Epoch 29/100\n",
      "16/16 [==============================] - 0s 9ms/step - loss: 1.4658 - accuracy: 0.3491 - val_loss: 1.3390 - val_accuracy: 0.4180\n",
      "Epoch 30/100\n",
      "16/16 [==============================] - 0s 9ms/step - loss: 1.4390 - accuracy: 0.3511 - val_loss: 1.3353 - val_accuracy: 0.4180\n",
      "Epoch 31/100\n",
      "16/16 [==============================] - 0s 10ms/step - loss: 1.4365 - accuracy: 0.3306 - val_loss: 1.3327 - val_accuracy: 0.4180\n",
      "Epoch 32/100\n",
      "16/16 [==============================] - 0s 8ms/step - loss: 1.4364 - accuracy: 0.3203 - val_loss: 1.3320 - val_accuracy: 0.4180\n",
      "Epoch 33/100\n",
      "16/16 [==============================] - 0s 9ms/step - loss: 1.4408 - accuracy: 0.3388 - val_loss: 1.3295 - val_accuracy: 0.4180\n",
      "Epoch 34/100\n",
      "16/16 [==============================] - 0s 24ms/step - loss: 1.4169 - accuracy: 0.3491 - val_loss: 1.3297 - val_accuracy: 0.4180\n",
      "Epoch 35/100\n",
      "16/16 [==============================] - 0s 11ms/step - loss: 1.3962 - accuracy: 0.3593 - val_loss: 1.3283 - val_accuracy: 0.4180\n",
      "Epoch 36/100\n",
      "16/16 [==============================] - 0s 10ms/step - loss: 1.3948 - accuracy: 0.3737 - val_loss: 1.3254 - val_accuracy: 0.4180\n",
      "Epoch 37/100\n",
      "16/16 [==============================] - 0s 9ms/step - loss: 1.4103 - accuracy: 0.3984 - val_loss: 1.3251 - val_accuracy: 0.4180\n",
      "Epoch 38/100\n",
      "16/16 [==============================] - 0s 11ms/step - loss: 1.3721 - accuracy: 0.3634 - val_loss: 1.3235 - val_accuracy: 0.4180\n",
      "Epoch 39/100\n",
      "16/16 [==============================] - 0s 9ms/step - loss: 1.3772 - accuracy: 0.3840 - val_loss: 1.3195 - val_accuracy: 0.4180\n",
      "Epoch 40/100\n",
      "16/16 [==============================] - 0s 10ms/step - loss: 1.3396 - accuracy: 0.4148 - val_loss: 1.3142 - val_accuracy: 0.4180\n",
      "Epoch 41/100\n",
      "16/16 [==============================] - 0s 10ms/step - loss: 1.3653 - accuracy: 0.3655 - val_loss: 1.3140 - val_accuracy: 0.4180\n",
      "Epoch 42/100\n",
      "16/16 [==============================] - 0s 12ms/step - loss: 1.3398 - accuracy: 0.3737 - val_loss: 1.3128 - val_accuracy: 0.4180\n",
      "Epoch 43/100\n",
      "16/16 [==============================] - 0s 10ms/step - loss: 1.3474 - accuracy: 0.3552 - val_loss: 1.3146 - val_accuracy: 0.4180\n",
      "Epoch 44/100\n",
      "16/16 [==============================] - 0s 8ms/step - loss: 1.3597 - accuracy: 0.3778 - val_loss: 1.3135 - val_accuracy: 0.4180\n",
      "Epoch 45/100\n",
      "16/16 [==============================] - 0s 10ms/step - loss: 1.3533 - accuracy: 0.3634 - val_loss: 1.3119 - val_accuracy: 0.4180\n",
      "Epoch 46/100\n",
      "16/16 [==============================] - 0s 10ms/step - loss: 1.3608 - accuracy: 0.3614 - val_loss: 1.3102 - val_accuracy: 0.4180\n",
      "Epoch 47/100\n",
      "16/16 [==============================] - 0s 11ms/step - loss: 1.3280 - accuracy: 0.3696 - val_loss: 1.3082 - val_accuracy: 0.4180\n",
      "Epoch 48/100\n",
      "16/16 [==============================] - 0s 10ms/step - loss: 1.3276 - accuracy: 0.3593 - val_loss: 1.3077 - val_accuracy: 0.4180\n",
      "Epoch 49/100\n",
      "16/16 [==============================] - 0s 22ms/step - loss: 1.3132 - accuracy: 0.3758 - val_loss: 1.3056 - val_accuracy: 0.4180\n",
      "Epoch 50/100\n",
      "16/16 [==============================] - 0s 11ms/step - loss: 1.3033 - accuracy: 0.3819 - val_loss: 1.3053 - val_accuracy: 0.4180\n",
      "Epoch 51/100\n",
      "16/16 [==============================] - 0s 7ms/step - loss: 1.3174 - accuracy: 0.3758 - val_loss: 1.3060 - val_accuracy: 0.4180\n",
      "Epoch 52/100\n",
      "16/16 [==============================] - 0s 10ms/step - loss: 1.3421 - accuracy: 0.3758 - val_loss: 1.3074 - val_accuracy: 0.4180\n",
      "Epoch 53/100\n",
      "16/16 [==============================] - 0s 11ms/step - loss: 1.3386 - accuracy: 0.3532 - val_loss: 1.3033 - val_accuracy: 0.4180\n",
      "Epoch 54/100\n",
      "16/16 [==============================] - 0s 9ms/step - loss: 1.2904 - accuracy: 0.3614 - val_loss: 1.3018 - val_accuracy: 0.4180\n",
      "Epoch 55/100\n",
      "16/16 [==============================] - 0s 7ms/step - loss: 1.3500 - accuracy: 0.3963 - val_loss: 1.3025 - val_accuracy: 0.4180\n",
      "Epoch 56/100\n",
      "16/16 [==============================] - 0s 7ms/step - loss: 1.3019 - accuracy: 0.3717 - val_loss: 1.3037 - val_accuracy: 0.4180\n",
      "Epoch 57/100\n",
      "16/16 [==============================] - 0s 8ms/step - loss: 1.3141 - accuracy: 0.3470 - val_loss: 1.3030 - val_accuracy: 0.4180\n",
      "Epoch 58/100\n",
      "16/16 [==============================] - 0s 9ms/step - loss: 1.3166 - accuracy: 0.3614 - val_loss: 1.3040 - val_accuracy: 0.4180\n",
      "Epoch 59/100\n",
      "16/16 [==============================] - 0s 8ms/step - loss: 1.3131 - accuracy: 0.3840 - val_loss: 1.3049 - val_accuracy: 0.4180\n",
      "Epoch 60/100\n",
      "16/16 [==============================] - 0s 7ms/step - loss: 1.3202 - accuracy: 0.3840 - val_loss: 1.3000 - val_accuracy: 0.4180\n",
      "Epoch 61/100\n",
      "16/16 [==============================] - 0s 8ms/step - loss: 1.3205 - accuracy: 0.3676 - val_loss: 1.2962 - val_accuracy: 0.4180\n",
      "Epoch 62/100\n",
      "16/16 [==============================] - 0s 7ms/step - loss: 1.3322 - accuracy: 0.3943 - val_loss: 1.2966 - val_accuracy: 0.4180\n",
      "Epoch 63/100\n",
      "16/16 [==============================] - 0s 10ms/step - loss: 1.3301 - accuracy: 0.3819 - val_loss: 1.2992 - val_accuracy: 0.4180\n",
      "Epoch 64/100\n",
      "16/16 [==============================] - 0s 10ms/step - loss: 1.3011 - accuracy: 0.3573 - val_loss: 1.3003 - val_accuracy: 0.4180\n",
      "Epoch 65/100\n",
      "16/16 [==============================] - 0s 7ms/step - loss: 1.2941 - accuracy: 0.3819 - val_loss: 1.3014 - val_accuracy: 0.4262\n",
      "Epoch 66/100\n",
      "16/16 [==============================] - 0s 9ms/step - loss: 1.3451 - accuracy: 0.3573 - val_loss: 1.3004 - val_accuracy: 0.4180\n",
      "Epoch 67/100\n",
      "16/16 [==============================] - 0s 10ms/step - loss: 1.3295 - accuracy: 0.3532 - val_loss: 1.2990 - val_accuracy: 0.4180\n",
      "Epoch 68/100\n",
      "16/16 [==============================] - 0s 7ms/step - loss: 1.2917 - accuracy: 0.3901 - val_loss: 1.2977 - val_accuracy: 0.4180\n",
      "Epoch 69/100\n",
      "16/16 [==============================] - 0s 7ms/step - loss: 1.2810 - accuracy: 0.4209 - val_loss: 1.2960 - val_accuracy: 0.4262\n",
      "Epoch 70/100\n",
      "16/16 [==============================] - 0s 7ms/step - loss: 1.2885 - accuracy: 0.3943 - val_loss: 1.2919 - val_accuracy: 0.4098\n",
      "Epoch 71/100\n",
      "16/16 [==============================] - 0s 9ms/step - loss: 1.3039 - accuracy: 0.4209 - val_loss: 1.2871 - val_accuracy: 0.4262\n",
      "Epoch 72/100\n",
      "16/16 [==============================] - 0s 28ms/step - loss: 1.3086 - accuracy: 0.4148 - val_loss: 1.2897 - val_accuracy: 0.4262\n",
      "Epoch 73/100\n",
      "16/16 [==============================] - 0s 9ms/step - loss: 1.2982 - accuracy: 0.3984 - val_loss: 1.2880 - val_accuracy: 0.4262\n",
      "Epoch 74/100\n",
      "16/16 [==============================] - 0s 8ms/step - loss: 1.2839 - accuracy: 0.3840 - val_loss: 1.2803 - val_accuracy: 0.4262\n",
      "Epoch 75/100\n",
      "16/16 [==============================] - 0s 9ms/step - loss: 1.2577 - accuracy: 0.4168 - val_loss: 1.2699 - val_accuracy: 0.4344\n",
      "Epoch 76/100\n",
      "16/16 [==============================] - 0s 8ms/step - loss: 1.2522 - accuracy: 0.3943 - val_loss: 1.2652 - val_accuracy: 0.4344\n",
      "Epoch 77/100\n",
      "16/16 [==============================] - 0s 7ms/step - loss: 1.2851 - accuracy: 0.3758 - val_loss: 1.2760 - val_accuracy: 0.4426\n",
      "Epoch 78/100\n",
      "16/16 [==============================] - 0s 7ms/step - loss: 1.2960 - accuracy: 0.4168 - val_loss: 1.2830 - val_accuracy: 0.4344\n",
      "Epoch 79/100\n",
      "16/16 [==============================] - 0s 7ms/step - loss: 1.2565 - accuracy: 0.4086 - val_loss: 1.2724 - val_accuracy: 0.4426\n",
      "Epoch 80/100\n",
      "16/16 [==============================] - 0s 7ms/step - loss: 1.2563 - accuracy: 0.4168 - val_loss: 1.2606 - val_accuracy: 0.4508\n",
      "Epoch 81/100\n",
      "16/16 [==============================] - 0s 9ms/step - loss: 1.2630 - accuracy: 0.4189 - val_loss: 1.2423 - val_accuracy: 0.4426\n",
      "Epoch 82/100\n",
      "16/16 [==============================] - 0s 10ms/step - loss: 1.2480 - accuracy: 0.4230 - val_loss: 1.2400 - val_accuracy: 0.4426\n",
      "Epoch 83/100\n",
      "16/16 [==============================] - 0s 8ms/step - loss: 1.2451 - accuracy: 0.4271 - val_loss: 1.2320 - val_accuracy: 0.4426\n",
      "Epoch 84/100\n",
      "16/16 [==============================] - 0s 12ms/step - loss: 1.2687 - accuracy: 0.4127 - val_loss: 1.2305 - val_accuracy: 0.4426\n",
      "Epoch 85/100\n",
      "16/16 [==============================] - 0s 8ms/step - loss: 1.2456 - accuracy: 0.4004 - val_loss: 1.2203 - val_accuracy: 0.4508\n",
      "Epoch 86/100\n",
      "16/16 [==============================] - 0s 19ms/step - loss: 1.2278 - accuracy: 0.3943 - val_loss: 1.2134 - val_accuracy: 0.4672\n",
      "Epoch 87/100\n",
      "16/16 [==============================] - 0s 11ms/step - loss: 1.2179 - accuracy: 0.4251 - val_loss: 1.1927 - val_accuracy: 0.5164\n",
      "Epoch 88/100\n",
      "16/16 [==============================] - 0s 11ms/step - loss: 1.2313 - accuracy: 0.4148 - val_loss: 1.1914 - val_accuracy: 0.5246\n",
      "Epoch 89/100\n",
      "16/16 [==============================] - 0s 11ms/step - loss: 1.2491 - accuracy: 0.3943 - val_loss: 1.1991 - val_accuracy: 0.4836\n",
      "Epoch 90/100\n",
      "16/16 [==============================] - 0s 11ms/step - loss: 1.2339 - accuracy: 0.4148 - val_loss: 1.1978 - val_accuracy: 0.4672\n",
      "Epoch 91/100\n",
      "16/16 [==============================] - 0s 25ms/step - loss: 1.2274 - accuracy: 0.4251 - val_loss: 1.2001 - val_accuracy: 0.4918\n",
      "Epoch 92/100\n",
      "16/16 [==============================] - 0s 11ms/step - loss: 1.2381 - accuracy: 0.4353 - val_loss: 1.2107 - val_accuracy: 0.5410\n",
      "Epoch 93/100\n",
      "16/16 [==============================] - 0s 10ms/step - loss: 1.2317 - accuracy: 0.4292 - val_loss: 1.2074 - val_accuracy: 0.5410\n",
      "Epoch 94/100\n",
      "16/16 [==============================] - 0s 9ms/step - loss: 1.2109 - accuracy: 0.4497 - val_loss: 1.1833 - val_accuracy: 0.5574\n",
      "Epoch 95/100\n",
      "16/16 [==============================] - 0s 9ms/step - loss: 1.2081 - accuracy: 0.4682 - val_loss: 1.1643 - val_accuracy: 0.5492\n",
      "Epoch 96/100\n",
      "16/16 [==============================] - 0s 8ms/step - loss: 1.1951 - accuracy: 0.4559 - val_loss: 1.1768 - val_accuracy: 0.5574\n",
      "Epoch 97/100\n",
      "16/16 [==============================] - 0s 10ms/step - loss: 1.1928 - accuracy: 0.4333 - val_loss: 1.1579 - val_accuracy: 0.5082\n",
      "Epoch 98/100\n",
      "16/16 [==============================] - 0s 8ms/step - loss: 1.1658 - accuracy: 0.4846 - val_loss: 1.1577 - val_accuracy: 0.5328\n",
      "Epoch 99/100\n",
      "16/16 [==============================] - 0s 10ms/step - loss: 1.1974 - accuracy: 0.4435 - val_loss: 1.1575 - val_accuracy: 0.5410\n",
      "Epoch 100/100\n",
      "16/16 [==============================] - 0s 9ms/step - loss: 1.1635 - accuracy: 0.4764 - val_loss: 1.1340 - val_accuracy: 0.5410\n",
      "Training completed in time:  0:00:18.739234\n"
     ]
    }
   ],
   "source": [
    "num_epochs = 100\n",
    "num_batch_size = 32\n",
    "\n",
    "#checkpointer = ModelCheckpoint(filepath='saved_models/audio_classification.hdf5',verbose=1, save_best_only=True)\n",
    "start = datetime.now()\n",
    "\n",
    "model.fit(X_train, y_train, batch_size=num_batch_size, epochs=num_epochs, validation_data=(X_test, y_test),  verbose=1)\n",
    "\n",
    "duration = datetime.now() - start\n",
    "print(\"Training completed in time: \", duration)"
   ]
  },
  {
   "cell_type": "code",
   "execution_count": 55,
   "metadata": {},
   "outputs": [
    {
     "name": "stdout",
     "output_type": "stream",
     "text": [
      "0.5409836173057556\n"
     ]
    }
   ],
   "source": [
    "test_accuracy=model.evaluate(X_test,y_test,verbose=0)\n",
    "print(test_accuracy[1])"
   ]
  },
  {
   "cell_type": "code",
   "execution_count": 56,
   "metadata": {},
   "outputs": [
    {
     "name": "stdout",
     "output_type": "stream",
     "text": [
      "4/4 [==============================] - 0s 3ms/step\n"
     ]
    }
   ],
   "source": [
    "y_pred = model.predict(X_test)"
   ]
  },
  {
   "cell_type": "code",
   "execution_count": 57,
   "metadata": {},
   "outputs": [
    {
     "name": "stdout",
     "output_type": "stream",
     "text": [
      "              precision    recall  f1-score   support\n",
      "\n",
      "       Cargo       0.00      0.00      0.00        25\n",
      "   Passenger       0.48      0.85      0.62        33\n",
      "      Tanker       0.59      0.75      0.66        51\n",
      "         Tug       0.00      0.00      0.00        13\n",
      "\n",
      "    accuracy                           0.54       122\n",
      "   macro avg       0.27      0.40      0.32       122\n",
      "weighted avg       0.38      0.54      0.44       122\n",
      "\n"
     ]
    },
    {
     "name": "stderr",
     "output_type": "stream",
     "text": [
      "c:\\ProgramData\\anaconda3\\lib\\site-packages\\sklearn\\metrics\\_classification.py:1344: UndefinedMetricWarning: Precision and F-score are ill-defined and being set to 0.0 in labels with no predicted samples. Use `zero_division` parameter to control this behavior.\n",
      "  _warn_prf(average, modifier, msg_start, len(result))\n",
      "c:\\ProgramData\\anaconda3\\lib\\site-packages\\sklearn\\metrics\\_classification.py:1344: UndefinedMetricWarning: Precision and F-score are ill-defined and being set to 0.0 in labels with no predicted samples. Use `zero_division` parameter to control this behavior.\n",
      "  _warn_prf(average, modifier, msg_start, len(result))\n",
      "c:\\ProgramData\\anaconda3\\lib\\site-packages\\sklearn\\metrics\\_classification.py:1344: UndefinedMetricWarning: Precision and F-score are ill-defined and being set to 0.0 in labels with no predicted samples. Use `zero_division` parameter to control this behavior.\n",
      "  _warn_prf(average, modifier, msg_start, len(result))\n"
     ]
    }
   ],
   "source": [
    "y_pred_classes = np.argmax(y_pred, axis=1)\n",
    "\n",
    "# Decode labels\n",
    "y_test_decoded = labelencoder.inverse_transform(y_test)\n",
    "y_pred_decoded = labelencoder.inverse_transform(y_pred_classes)\n",
    "\n",
    "# Print classification report\n",
    "print(classification_report(y_test_decoded, y_pred_decoded))"
   ]
  },
  {
   "cell_type": "code",
   "execution_count": 58,
   "metadata": {},
   "outputs": [
    {
     "data": {
      "text/plain": [
       "Text(70.72222222222221, 0.5, 'Truth')"
      ]
     },
     "execution_count": 58,
     "metadata": {},
     "output_type": "execute_result"
    },
    {
     "data": {
      "image/png": "[encoded data removed]",
      "text/plain": [
       "<Figure size 800x500 with 2 Axes>"
      ]
     },
     "metadata": {},
     "output_type": "display_data"
    }
   ],
   "source": [
    "cm = confusion_matrix(y_test_decoded, y_pred_decoded)\n",
    "plt.figure(figsize = (8,5))\n",
    "sn.heatmap(cm, annot=True)\n",
    "plt.xlabel('Predicted')\n",
    "plt.ylabel('Truth')"
   ]
  }
 ],
 "metadata": {
  "kernelspec": {
   "display_name": "base",
   "language": "python",
   "name": "python3"
  },
  "language_info": {
   "codemirror_mode": {
    "name": "ipython",
    "version": 3
   },
   "file_extension": ".py",
   "mimetype": "text/x-python",
   "name": "python",
   "nbconvert_exporter": "python",
   "pygments_lexer": "ipython3",
   "version": "3.10.9"
  },
  "orig_nbformat": 4
 },
 "nbformat": 4,
 "nbformat_minor": 2
}
