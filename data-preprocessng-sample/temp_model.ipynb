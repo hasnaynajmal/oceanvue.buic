{
 "cells": [
  {
   "cell_type": "markdown",
   "metadata": {},
   "source": [
    "-------------------\n",
    "Data Pre Processing\n",
    "-------------------"
   ]
  },
  {
   "cell_type": "markdown",
   "metadata": {},
   "source": [
    "Loading Libraries"
   ]
  },
  {
   "cell_type": "code",
   "execution_count": 29,
   "metadata": {},
   "outputs": [],
   "source": [
    "#importing libraries\n",
    "import pandas as pd\n",
    "import os\n",
    "import librosa\n",
    "import numpy as np\n",
    "from tqdm import tqdm\n",
    "import ast\n",
    "import json\n",
    "import matplotlib.pyplot as plt\n",
    "import seaborn as sns"
   ]
  },
  {
   "cell_type": "markdown",
   "metadata": {},
   "source": [
    "Feature Extraction Functions"
   ]
  },
  {
   "cell_type": "code",
   "execution_count": 15,
   "metadata": {},
   "outputs": [],
   "source": [
    "#extracting mfcc\n",
    "\n",
    "def features_extractor(file_name):\n",
    "    audio, sample_rate = librosa.load(file_name, res_type='kaiser_fast')\n",
    "\n",
    "    mfccs_features = librosa.feature.mfcc(y=audio, sr=sample_rate, n_mfcc=40)\n",
    "    mfccs_scaled_features = np.mean(mfccs_features.T,axis=0)\n",
    "    return mfccs_scaled_features"
   ]
  },
  {
   "cell_type": "markdown",
   "metadata": {},
   "source": [
    "Reading Meta Data File"
   ]
  },
  {
   "cell_type": "code",
   "execution_count": 2,
   "metadata": {},
   "outputs": [
    {
     "data": {
      "text/html": [
       "<div>\n",
       "<style scoped>\n",
       "    .dataframe tbody tr th:only-of-type {\n",
       "        vertical-align: middle;\n",
       "    }\n",
       "\n",
       "    .dataframe tbody tr th {\n",
       "        vertical-align: top;\n",
       "    }\n",
       "\n",
       "    .dataframe thead th {\n",
       "        text-align: right;\n",
       "    }\n",
       "</style>\n",
       "<table border=\"1\" class=\"dataframe\">\n",
       "  <thead>\n",
       "    <tr style=\"text-align: right;\">\n",
       "      <th></th>\n",
       "      <th>Recording ID</th>\n",
       "      <th>File_name</th>\n",
       "      <th>Folder_ID</th>\n",
       "      <th>Class_ID</th>\n",
       "      <th>Class</th>\n",
       "      <th>File_path</th>\n",
       "      <th>Ship Name</th>\n",
       "      <th>Date of Recording</th>\n",
       "      <th>Time of Recording</th>\n",
       "      <th>Durations (s)</th>\n",
       "      <th>Distance (m)</th>\n",
       "    </tr>\n",
       "  </thead>\n",
       "  <tbody>\n",
       "    <tr>\n",
       "      <th>0</th>\n",
       "      <td>1</td>\n",
       "      <td>1.wav</td>\n",
       "      <td>1</td>\n",
       "      <td>1</td>\n",
       "      <td>Cargo</td>\n",
       "      <td>Cargo\\1\\1.wav</td>\n",
       "      <td>SEASPAN SWIFT</td>\n",
       "      <td>20171104</td>\n",
       "      <td>203623</td>\n",
       "      <td>458</td>\n",
       "      <td>1583-1981</td>\n",
       "    </tr>\n",
       "    <tr>\n",
       "      <th>1</th>\n",
       "      <td>2</td>\n",
       "      <td>2.wav</td>\n",
       "      <td>2</td>\n",
       "      <td>1</td>\n",
       "      <td>Cargo</td>\n",
       "      <td>Cargo\\2\\2.wav</td>\n",
       "      <td>ISTRA ACE</td>\n",
       "      <td>20171104</td>\n",
       "      <td>223241</td>\n",
       "      <td>441</td>\n",
       "      <td>1535-1779</td>\n",
       "    </tr>\n",
       "    <tr>\n",
       "      <th>2</th>\n",
       "      <td>3</td>\n",
       "      <td>3.wav</td>\n",
       "      <td>3</td>\n",
       "      <td>1</td>\n",
       "      <td>Cargo</td>\n",
       "      <td>Cargo\\3\\3.wav</td>\n",
       "      <td>SAMOS WARRIOR</td>\n",
       "      <td>20171105</td>\n",
       "      <td>84406</td>\n",
       "      <td>297</td>\n",
       "      <td>642-1520</td>\n",
       "    </tr>\n",
       "    <tr>\n",
       "      <th>3</th>\n",
       "      <td>4</td>\n",
       "      <td>4.wav</td>\n",
       "      <td>4</td>\n",
       "      <td>1</td>\n",
       "      <td>Cargo</td>\n",
       "      <td>Cargo\\4\\4.wav</td>\n",
       "      <td>NYK REMUS</td>\n",
       "      <td>20171106</td>\n",
       "      <td>115234</td>\n",
       "      <td>331</td>\n",
       "      <td>1579-1906</td>\n",
       "    </tr>\n",
       "    <tr>\n",
       "      <th>4</th>\n",
       "      <td>5</td>\n",
       "      <td>5.wav</td>\n",
       "      <td>5</td>\n",
       "      <td>1</td>\n",
       "      <td>Cargo</td>\n",
       "      <td>Cargo\\5\\5.wav</td>\n",
       "      <td>SEASPAN RELIANT</td>\n",
       "      <td>20171107</td>\n",
       "      <td>452</td>\n",
       "      <td>208</td>\n",
       "      <td>477-1241</td>\n",
       "    </tr>\n",
       "  </tbody>\n",
       "</table>\n",
       "</div>"
      ],
      "text/plain": [
       "   Recording ID File_name  Folder_ID  Class_ID  Class      File_path  \\\n",
       "0             1     1.wav          1         1  Cargo  Cargo\\1\\1.wav   \n",
       "1             2     2.wav          2         1  Cargo  Cargo\\2\\2.wav   \n",
       "2             3     3.wav          3         1  Cargo  Cargo\\3\\3.wav   \n",
       "3             4     4.wav          4         1  Cargo  Cargo\\4\\4.wav   \n",
       "4             5     5.wav          5         1  Cargo  Cargo\\5\\5.wav   \n",
       "\n",
       "         Ship Name  Date of Recording  Time of Recording  Durations (s)  \\\n",
       "0    SEASPAN SWIFT           20171104             203623            458   \n",
       "1        ISTRA ACE           20171104             223241            441   \n",
       "2    SAMOS WARRIOR           20171105              84406            297   \n",
       "3        NYK REMUS           20171106             115234            331   \n",
       "4  SEASPAN RELIANT           20171107                452            208   \n",
       "\n",
       "  Distance (m)  \n",
       "0    1583-1981  \n",
       "1    1535-1779  \n",
       "2     642-1520  \n",
       "3    1579-1906  \n",
       "4     477-1241  "
      ]
     },
     "execution_count": 2,
     "metadata": {},
     "output_type": "execute_result"
    }
   ],
   "source": [
    "audio_dataset_path='G:/DeepShip Dataset/'\n",
    "metadata=pd.read_csv('../metadata-detailed.csv')\n",
    "metadata.head()"
   ]
  },
  {
   "cell_type": "markdown",
   "metadata": {},
   "source": [
    "Iterating through the audio files using metadata file in order to extract features from each audio file."
   ]
  },
  {
   "cell_type": "code",
   "execution_count": 20,
   "metadata": {},
   "outputs": [],
   "source": [
    "# Initialize a list to store extracted features and labels\n",
    "extracted_features = []\n",
    "\n",
    "# Iterate through metadata and extract features\n",
    "for index_num, row in tqdm(metadata.iterrows()):\n",
    "    file_name = os.path.join(os.path.abspath(audio_dataset_path), row['Class'], str(row['Folder_ID']), row['File_name']) #getting the filename to send for feature extraction\n",
    "\n",
    "    final_class_label = row['Class'] #getting the class label of audio file\n",
    "    data = features_extractor(file_name) #sending file for mfcc extraction\n",
    "    extracted_features.append([data, final_class_label]) #appending the received features and class label to datagrame"
   ]
  },
  {
   "cell_type": "code",
   "execution_count": 21,
   "metadata": {},
   "outputs": [
    {
     "data": {
      "text/plain": [
       "[[array([-3.51625122e+02,  8.68726273e+01, -1.49802084e+01,  2.12550373e+01,\n",
       "         -7.73253870e+00,  1.45975780e+01, -4.06543827e+00,  1.45205088e+01,\n",
       "         -7.56530857e+00,  7.25171375e+00, -1.26351185e+01,  1.13892441e+01,\n",
       "         -7.16151810e+00,  8.56386757e+00, -7.48543549e+00,  7.83648443e+00,\n",
       "         -8.05403614e+00,  7.75935173e+00, -2.12605739e+00,  9.10551548e+00,\n",
       "         -5.11901188e+00,  9.68615341e+00, -6.11997485e-01,  8.58005810e+00,\n",
       "         -3.74677151e-01,  6.18445063e+00, -1.55947936e+00,  4.86904812e+00,\n",
       "         -8.25706005e-01,  3.44320488e+00, -2.29002357e+00,  3.84449553e+00,\n",
       "          8.54418635e-01,  3.36997962e+00, -6.71508491e-01,  2.61769676e+00,\n",
       "          1.00520644e-02,  2.96698213e+00,  2.92616010e+00,  7.46389961e+00],\n",
       "        dtype=float32),\n",
       "  'Cargo'],\n",
       " [array([-4.3363748e+02,  1.0278814e+02,  4.2636442e+00,  3.1529789e+01,\n",
       "         -8.7992704e-01,  1.6512604e+01,  2.8421412e+00,  1.9528469e+01,\n",
       "         -4.4790411e+00,  1.0194255e+01, -3.9700408e+00,  1.1597898e+01,\n",
       "         -7.4558729e-01,  9.2565975e+00, -3.5232611e+00,  1.0362036e+01,\n",
       "         -3.5396674e-01,  1.2176755e+01,  4.2744670e-02,  7.7713537e+00,\n",
       "         -1.0731215e+00,  9.3039198e+00,  1.2155751e+00,  8.2149572e+00,\n",
       "          1.3028299e+00,  5.1597724e+00,  2.9137945e+00,  5.3450708e+00,\n",
       "          3.4632878e+00,  4.5963092e+00,  2.4204440e+00,  4.4945674e+00,\n",
       "          3.2830260e+00,  3.8531952e+00,  4.0091877e+00,  3.6614356e+00,\n",
       "          3.2900689e+00,  2.5009923e+00,  3.5029328e+00,  2.8230503e+00],\n",
       "        dtype=float32),\n",
       "  'Cargo'],\n",
       " [array([-4.59437897e+02,  1.18986671e+02,  1.45664358e+01,  3.21472321e+01,\n",
       "          1.15149145e+01,  1.84972839e+01,  1.20528841e+01,  1.65859413e+01,\n",
       "          7.06461334e+00,  1.08042812e+01,  5.95066595e+00,  1.41056042e+01,\n",
       "          9.60150719e+00,  1.13105354e+01,  6.26265192e+00,  1.06845007e+01,\n",
       "          5.98566294e+00,  8.80289459e+00,  4.54628277e+00,  4.18468809e+00,\n",
       "         -3.28309596e-01,  1.89092278e+00,  1.42793047e+00,  2.92321801e+00,\n",
       "          1.97821605e+00,  1.13762045e+00,  1.81786907e+00,  1.50398612e+00,\n",
       "          2.96237826e+00,  1.91268671e+00,  1.29853833e+00,  1.78700900e+00,\n",
       "          8.70739520e-01,  6.54110134e-01,  1.55495560e+00,  7.42539823e-01,\n",
       "          2.72501484e-02, -2.48809889e-01,  1.44305992e+00,  4.56649661e-01],\n",
       "        dtype=float32),\n",
       "  'Cargo']]"
      ]
     },
     "execution_count": 21,
     "metadata": {},
     "output_type": "execute_result"
    }
   ],
   "source": [
    "extracted_features"
   ]
  },
  {
   "cell_type": "code",
   "execution_count": 27,
   "metadata": {},
   "outputs": [
    {
     "data": {
      "text/html": [
       "<div>\n",
       "<style scoped>\n",
       "    .dataframe tbody tr th:only-of-type {\n",
       "        vertical-align: middle;\n",
       "    }\n",
       "\n",
       "    .dataframe tbody tr th {\n",
       "        vertical-align: top;\n",
       "    }\n",
       "\n",
       "    .dataframe thead th {\n",
       "        text-align: right;\n",
       "    }\n",
       "</style>\n",
       "<table border=\"1\" class=\"dataframe\">\n",
       "  <thead>\n",
       "    <tr style=\"text-align: right;\">\n",
       "      <th></th>\n",
       "      <th>Features</th>\n",
       "      <th>Class</th>\n",
       "    </tr>\n",
       "  </thead>\n",
       "  <tbody>\n",
       "    <tr>\n",
       "      <th>0</th>\n",
       "      <td>[-351.62512, 86.87263, -14.980208, 21.255037, ...</td>\n",
       "      <td>Cargo</td>\n",
       "    </tr>\n",
       "    <tr>\n",
       "      <th>1</th>\n",
       "      <td>[-433.63748, 102.78814, 4.263644, 31.529789, -...</td>\n",
       "      <td>Cargo</td>\n",
       "    </tr>\n",
       "    <tr>\n",
       "      <th>2</th>\n",
       "      <td>[-459.4379, 118.98667, 14.566436, 32.147232, 1...</td>\n",
       "      <td>Cargo</td>\n",
       "    </tr>\n",
       "  </tbody>\n",
       "</table>\n",
       "</div>"
      ],
      "text/plain": [
       "                                            Features  Class\n",
       "0  [-351.62512, 86.87263, -14.980208, 21.255037, ...  Cargo\n",
       "1  [-433.63748, 102.78814, 4.263644, 31.529789, -...  Cargo\n",
       "2  [-459.4379, 118.98667, 14.566436, 32.147232, 1...  Cargo"
      ]
     },
     "execution_count": 27,
     "metadata": {},
     "output_type": "execute_result"
    }
   ],
   "source": [
    "extracted_features_df_for_csv = pd.DataFrame(extracted_features, columns=[\"Features\", \"Class\"])\n",
    "\n",
    "extracted_features_df_for_csv"
   ]
  },
  {
   "cell_type": "markdown",
   "metadata": {},
   "source": [
    "Saving extracted features to csv"
   ]
  },
  {
   "cell_type": "code",
   "execution_count": 71,
   "metadata": {},
   "outputs": [],
   "source": [
    "#extracted_features_df_for_csv['Features'] = extracted_features_df_for_csv['Features'].apply(lambda x: x.tolist()) #to same the extracted features in exact format\n",
    "extracted_features_df_for_csv['Features'] = extracted_features_df_for_csv['Features'].apply(lambda x: ','.join(map(str, x)))\n",
    "\n",
    "extracted_features_df_for_csv.to_csv('data_sample_extracted.csv', index=False)"
   ]
  },
  {
   "cell_type": "markdown",
   "metadata": {},
   "source": [
    "Generating a sample heatmap of mfcc coefficients"
   ]
  },
  {
   "cell_type": "code",
   "execution_count": 31,
   "metadata": {},
   "outputs": [
    {
     "data": {
      "image/png": "[encoded data removed]",
      "text/plain": [
       "<Figure size 1000x600 with 2 Axes>"
      ]
     },
     "metadata": {},
     "output_type": "display_data"
    }
   ],
   "source": [
    "mfcc_array = np.array(extracted_features_df_for_csv['Features'].tolist())\n",
    "\n",
    "plt.figure(figsize=(10, 6))\n",
    "sns.heatmap(mfcc_array, cmap='viridis', annot=False, xticklabels=False, yticklabels=False)\n",
    "plt.title('MFCC Heatmap')\n",
    "plt.xlabel('MFCC Coefficients')\n",
    "plt.ylabel('Samples')\n",
    "plt.show()"
   ]
  },
  {
   "cell_type": "markdown",
   "metadata": {},
   "source": [
    "---------------\n",
    "Model Pre Work\n",
    "---------------"
   ]
  },
  {
   "cell_type": "markdown",
   "metadata": {},
   "source": [
    "Loading Libraies"
   ]
  },
  {
   "cell_type": "code",
   "execution_count": 95,
   "metadata": {},
   "outputs": [],
   "source": [
    "from sklearn.model_selection import train_test_split\n",
    "from sklearn.preprocessing import LabelEncoder"
   ]
  },
  {
   "cell_type": "markdown",
   "metadata": {},
   "source": [
    "Loading Dataset"
   ]
  },
  {
   "cell_type": "code",
   "execution_count": 97,
   "metadata": {},
   "outputs": [],
   "source": [
    "ex_data = pd.read_csv(r'./data_sample_extracted.csv')\n",
    "ex_data['Features'] = ex_data['Features'].apply(lambda x: list(map(float, x.split(','))))"
   ]
  },
  {
   "cell_type": "code",
   "execution_count": 98,
   "metadata": {},
   "outputs": [
    {
     "data": {
      "text/html": [
       "<div>\n",
       "<style scoped>\n",
       "    .dataframe tbody tr th:only-of-type {\n",
       "        vertical-align: middle;\n",
       "    }\n",
       "\n",
       "    .dataframe tbody tr th {\n",
       "        vertical-align: top;\n",
       "    }\n",
       "\n",
       "    .dataframe thead th {\n",
       "        text-align: right;\n",
       "    }\n",
       "</style>\n",
       "<table border=\"1\" class=\"dataframe\">\n",
       "  <thead>\n",
       "    <tr style=\"text-align: right;\">\n",
       "      <th></th>\n",
       "      <th>Features</th>\n",
       "      <th>Class</th>\n",
       "    </tr>\n",
       "  </thead>\n",
       "  <tbody>\n",
       "    <tr>\n",
       "      <th>0</th>\n",
       "      <td>[-351.6251220703125, 86.87262725830078, -14.98...</td>\n",
       "      <td>Cargo</td>\n",
       "    </tr>\n",
       "    <tr>\n",
       "      <th>1</th>\n",
       "      <td>[-433.6374816894531, 102.78813934326172, 4.263...</td>\n",
       "      <td>Cargo</td>\n",
       "    </tr>\n",
       "    <tr>\n",
       "      <th>2</th>\n",
       "      <td>[-459.4378967285156, 118.9866714477539, 14.566...</td>\n",
       "      <td>Cargo</td>\n",
       "    </tr>\n",
       "    <tr>\n",
       "      <th>3</th>\n",
       "      <td>[-351.6251220703125, 86.87262725830078, -14.98...</td>\n",
       "      <td>Cargo</td>\n",
       "    </tr>\n",
       "    <tr>\n",
       "      <th>4</th>\n",
       "      <td>[-433.6374816894531, 102.78813934326172, 4.263...</td>\n",
       "      <td>Cargo</td>\n",
       "    </tr>\n",
       "    <tr>\n",
       "      <th>...</th>\n",
       "      <td>...</td>\n",
       "      <td>...</td>\n",
       "    </tr>\n",
       "    <tr>\n",
       "      <th>210</th>\n",
       "      <td>[-427.6917724609375, 92.53729248046875, 0.2251...</td>\n",
       "      <td>Tanker</td>\n",
       "    </tr>\n",
       "    <tr>\n",
       "      <th>211</th>\n",
       "      <td>[-380.00146484375, 102.57173919677734, 11.8344...</td>\n",
       "      <td>Tanker</td>\n",
       "    </tr>\n",
       "    <tr>\n",
       "      <th>212</th>\n",
       "      <td>[-547.1192626953125, 104.72801971435547, 15.45...</td>\n",
       "      <td>Tanker</td>\n",
       "    </tr>\n",
       "    <tr>\n",
       "      <th>213</th>\n",
       "      <td>[-338.3280029296875, 77.36510467529297, -3.578...</td>\n",
       "      <td>Tanker</td>\n",
       "    </tr>\n",
       "    <tr>\n",
       "      <th>214</th>\n",
       "      <td>[-427.8114318847656, 128.8433074951172, 15.710...</td>\n",
       "      <td>Tanker</td>\n",
       "    </tr>\n",
       "  </tbody>\n",
       "</table>\n",
       "<p>215 rows × 2 columns</p>\n",
       "</div>"
      ],
      "text/plain": [
       "                                              Features   Class\n",
       "0    [-351.6251220703125, 86.87262725830078, -14.98...   Cargo\n",
       "1    [-433.6374816894531, 102.78813934326172, 4.263...   Cargo\n",
       "2    [-459.4378967285156, 118.9866714477539, 14.566...   Cargo\n",
       "3    [-351.6251220703125, 86.87262725830078, -14.98...   Cargo\n",
       "4    [-433.6374816894531, 102.78813934326172, 4.263...   Cargo\n",
       "..                                                 ...     ...\n",
       "210  [-427.6917724609375, 92.53729248046875, 0.2251...  Tanker\n",
       "211  [-380.00146484375, 102.57173919677734, 11.8344...  Tanker\n",
       "212  [-547.1192626953125, 104.72801971435547, 15.45...  Tanker\n",
       "213  [-338.3280029296875, 77.36510467529297, -3.578...  Tanker\n",
       "214  [-427.8114318847656, 128.8433074951172, 15.710...  Tanker\n",
       "\n",
       "[215 rows x 2 columns]"
      ]
     },
     "execution_count": 98,
     "metadata": {},
     "output_type": "execute_result"
    }
   ],
   "source": [
    "ex_data"
   ]
  },
  {
   "cell_type": "markdown",
   "metadata": {},
   "source": [
    "Splitting Features"
   ]
  },
  {
   "cell_type": "code",
   "execution_count": 99,
   "metadata": {},
   "outputs": [],
   "source": [
    "X=np.array(ex_data['Features'].tolist())\n",
    "y=np.array(ex_data['Class'].tolist())"
   ]
  },
  {
   "cell_type": "code",
   "execution_count": 100,
   "metadata": {},
   "outputs": [
    {
     "name": "stdout",
     "output_type": "stream",
     "text": [
      "mfcc Features       :  (215, 40)\n",
      "Class Labels shape  :  (215,)\n"
     ]
    }
   ],
   "source": [
    "print('mfcc Features       : ',X.shape)\n",
    "print('Class Labels shape  : ',y.shape)"
   ]
  },
  {
   "cell_type": "code",
   "execution_count": 101,
   "metadata": {},
   "outputs": [],
   "source": [
    "X_copy_1 = X\n",
    "y_copy_1 = y\n",
    "\n",
    "X_copy_2 = X\n",
    "y_copy_2 = y"
   ]
  },
  {
   "cell_type": "code",
   "execution_count": 102,
   "metadata": {},
   "outputs": [],
   "source": [
    "#label encoding the class labels of y_copy_1\n",
    "\n",
    "label_encoder = LabelEncoder()\n",
    "y_copy_1 = label_encoder.fit_transform(y)"
   ]
  },
  {
   "cell_type": "code",
   "execution_count": 103,
   "metadata": {},
   "outputs": [
    {
     "data": {
      "text/plain": [
       "array([0, 0, 0, 0, 0, 0, 0, 0, 0, 0, 0, 1, 1, 1, 1, 1, 1, 1, 1, 1, 1, 1,\n",
       "       1, 1, 1, 1, 1, 1, 1, 1, 1, 1, 1, 1, 1, 1, 1, 1, 1, 1, 1, 1, 1, 1,\n",
       "       1, 1, 1, 1, 1, 1, 1, 1, 1, 1, 1, 1, 1, 1, 1, 1, 1, 1, 1, 1, 1, 1,\n",
       "       1, 1, 1, 1, 1, 1, 1, 1, 1, 1, 1, 1, 1, 1, 1, 1, 1, 1, 1, 1, 1, 1,\n",
       "       1, 1, 1, 1, 1, 1, 1, 1, 1, 1, 1, 1, 1, 1, 1, 1, 1, 1, 1, 1, 1, 1,\n",
       "       1, 1, 1, 1, 1, 1, 1, 1, 1, 1, 1, 1, 1, 1, 1, 1, 1, 1, 1, 1, 1, 1,\n",
       "       1, 1, 1, 1, 1, 1, 1, 1, 1, 1, 1, 1, 1, 1, 1, 1, 1, 1, 1, 1, 1, 1,\n",
       "       1, 1, 1, 1, 1, 1, 1, 1, 1, 1, 1, 1, 1, 1, 1, 1, 1, 1, 1, 1, 1, 1,\n",
       "       1, 1, 1, 1, 1, 2, 2, 2, 2, 2, 2, 2, 2, 2, 2, 2, 2, 2, 2, 2, 2, 2,\n",
       "       2, 2, 2, 2, 2, 2, 2, 2, 2, 2, 2, 2, 2, 2, 2, 2, 2], dtype=int64)"
      ]
     },
     "execution_count": 103,
     "metadata": {},
     "output_type": "execute_result"
    }
   ],
   "source": [
    "y_copy_1"
   ]
  },
  {
   "cell_type": "code",
   "execution_count": 109,
   "metadata": {},
   "outputs": [],
   "source": [
    "X_train,X_test,y_train,y_test=train_test_split(X_copy_1,y_copy_1,test_size=0.2,random_state=0)"
   ]
  },
  {
   "cell_type": "code",
   "execution_count": 110,
   "metadata": {},
   "outputs": [
    {
     "data": {
      "text/plain": [
       "array([[-3.40018585e+02,  9.06883011e+01, -1.14347811e+01, ...,\n",
       "         1.18066454e+00,  3.48915100e+00,  5.70739031e+00],\n",
       "       [-4.17812714e+02,  8.41038666e+01, -6.43273878e+00, ...,\n",
       "         1.78464249e-01,  4.62213945e+00,  5.74030757e-01],\n",
       "       [-2.84010040e+02,  1.12422707e+02, -2.89654946e+00, ...,\n",
       "         8.63035083e-01,  7.72964358e-01,  3.05006099e+00],\n",
       "       ...,\n",
       "       [-4.64686218e+02,  1.26462868e+02,  5.74954510e+00, ...,\n",
       "         1.11692202e+00,  3.09584355e+00,  2.69285989e+00],\n",
       "       [-3.37730469e+02,  9.18278198e+01, -3.10437751e+00, ...,\n",
       "         1.23607981e+00,  2.73603892e+00,  2.04979229e+00],\n",
       "       [-4.84450348e+02,  1.15464897e+02,  8.98717785e+00, ...,\n",
       "         7.38104522e-01,  1.84670234e+00,  1.37329340e+00]])"
      ]
     },
     "execution_count": 110,
     "metadata": {},
     "output_type": "execute_result"
    }
   ],
   "source": [
    "X_test"
   ]
  },
  {
   "cell_type": "markdown",
   "metadata": {},
   "source": [
    "-----------------------\n",
    "Machine Learning Models\n",
    "-----------------------"
   ]
  },
  {
   "cell_type": "markdown",
   "metadata": {},
   "source": [
    "---------\n",
    "SVM"
   ]
  },
  {
   "cell_type": "markdown",
   "metadata": {},
   "source": [
    "Loading Libraries"
   ]
  },
  {
   "cell_type": "code",
   "execution_count": 119,
   "metadata": {},
   "outputs": [],
   "source": [
    "from sklearn.svm import SVC\n",
    "from sklearn.model_selection import GridSearchCV\n",
    "from sklearn.preprocessing import StandardScaler\n",
    "from sklearn.pipeline import Pipeline\n",
    "from sklearn.metrics import confusion_matrix\n",
    "import seaborn as sn\n",
    "from sklearn.metrics import classification_report"
   ]
  },
  {
   "cell_type": "markdown",
   "metadata": {},
   "source": [
    "Defining Parameters for SVM"
   ]
  },
  {
   "cell_type": "code",
   "execution_count": 106,
   "metadata": {},
   "outputs": [],
   "source": [
    "svm_pipeline = Pipeline([\n",
    "    ('scaler', StandardScaler()),\n",
    "    ('svm', SVC(kernel='rbf'))\n",
    "])\n",
    "\n",
    "param_grid = {\n",
    "    'svm__C': [0.1, 1, 10],\n",
    "    'svm__gamma': [0.1, 1, 10] \n",
    "}"
   ]
  },
  {
   "cell_type": "code",
   "execution_count": 107,
   "metadata": {},
   "outputs": [
    {
     "name": "stdout",
     "output_type": "stream",
     "text": [
      "Fitting 4 folds for each of 9 candidates, totalling 36 fits\n"
     ]
    }
   ],
   "source": [
    "grid_search = GridSearchCV(svm_pipeline, param_grid, cv=4, n_jobs=-1, verbose=2)\n",
    "grid_search.fit(X_train, y_train)\n",
    "best_params = grid_search.best_params_\n",
    "best_svm_model = grid_search.best_estimator_"
   ]
  },
  {
   "cell_type": "markdown",
   "metadata": {},
   "source": [
    "Testing Accuracy for SVM"
   ]
  },
  {
   "cell_type": "code",
   "execution_count": 111,
   "metadata": {},
   "outputs": [
    {
     "name": "stdout",
     "output_type": "stream",
     "text": [
      "Best Parameters  :: {'svm__C': 10, 'svm__gamma': 0.1}\n",
      "Test Accuracy    :: 0.813953488372093\n"
     ]
    }
   ],
   "source": [
    "test_accuracy = best_svm_model.score(X_test, y_test)\n",
    "\n",
    "print(\"Best Parameters  ::\", best_params)\n",
    "print(\"Test Accuracy    ::\", test_accuracy)"
   ]
  },
  {
   "cell_type": "markdown",
   "metadata": {},
   "source": [
    "Confusion Matrix"
   ]
  },
  {
   "cell_type": "code",
   "execution_count": 118,
   "metadata": {},
   "outputs": [
    {
     "data": {
      "text/plain": [
       "Text(70.72222222222221, 0.5, 'Truth')"
      ]
     },
     "execution_count": 118,
     "metadata": {},
     "output_type": "execute_result"
    },
    {
     "data": {
      "image/png": "[encoded data removed]",
      "text/plain": [
       "<Figure size 800x500 with 2 Axes>"
      ]
     },
     "metadata": {},
     "output_type": "display_data"
    }
   ],
   "source": [
    "cm = confusion_matrix(y_test, grid_search.predict(X_test))\n",
    "plt.figure(figsize = (8,5))\n",
    "sn.heatmap(cm, annot=True)\n",
    "plt.xlabel('Predicted')\n",
    "plt.ylabel('Truth')"
   ]
  },
  {
   "cell_type": "markdown",
   "metadata": {},
   "source": [
    "Precision & Recall"
   ]
  },
  {
   "cell_type": "code",
   "execution_count": 120,
   "metadata": {},
   "outputs": [
    {
     "name": "stdout",
     "output_type": "stream",
     "text": [
      "              precision    recall  f1-score   support\n",
      "\n",
      "           0       1.00      0.50      0.67         2\n",
      "           1       0.84      0.94      0.89        34\n",
      "           2       0.50      0.29      0.36         7\n",
      "\n",
      "    accuracy                           0.81        43\n",
      "   macro avg       0.78      0.58      0.64        43\n",
      "weighted avg       0.79      0.81      0.79        43\n",
      "\n"
     ]
    }
   ],
   "source": [
    "print(classification_report(y_test, grid_search.predict(X_test)))"
   ]
  },
  {
   "cell_type": "markdown",
   "metadata": {},
   "source": [
    "---------\n",
    "Decision Tree"
   ]
  },
  {
   "cell_type": "code",
   "execution_count": null,
   "metadata": {},
   "outputs": [],
   "source": []
  },
  {
   "cell_type": "markdown",
   "metadata": {},
   "source": [
    "-----------------------\n",
    "Deep Learning Models\n",
    "-----------------------"
   ]
  },
  {
   "cell_type": "markdown",
   "metadata": {},
   "source": [
    "--------------\n",
    "Basic ANN Model"
   ]
  },
  {
   "cell_type": "markdown",
   "metadata": {},
   "source": [
    "Importing Libraries"
   ]
  },
  {
   "cell_type": "code",
   "execution_count": 93,
   "metadata": {},
   "outputs": [],
   "source": [
    "from tensorflow.keras.models import Sequential\n",
    "from tensorflow.keras.layers import Dense,Dropout,Activation,Flatten\n",
    "from tensorflow.keras.optimizers import Adam\n",
    "from sklearn import metrics\n",
    "from tensorflow.keras.callbacks import ModelCheckpoint\n",
    "from datetime import datetime"
   ]
  },
  {
   "cell_type": "code",
   "execution_count": 94,
   "metadata": {},
   "outputs": [
    {
     "data": {
      "text/plain": [
       "11"
      ]
     },
     "execution_count": 94,
     "metadata": {},
     "output_type": "execute_result"
    }
   ],
   "source": [
    "## No of classes\n",
    "num_labels=y_copy_1.shape[0]\n",
    "num_labels"
   ]
  },
  {
   "cell_type": "markdown",
   "metadata": {},
   "source": [
    "Creating Model --- Needs to understand this one"
   ]
  },
  {
   "cell_type": "code",
   "execution_count": null,
   "metadata": {},
   "outputs": [],
   "source": [
    "model=Sequential()\n",
    "###first layer\n",
    "model.add(Dense(100,input_shape=(40,)))\n",
    "model.add(Activation('relu'))\n",
    "model.add(Dropout(0.5))\n",
    "###second layer\n",
    "model.add(Dense(200))\n",
    "model.add(Activation('relu'))\n",
    "model.add(Dropout(0.5))\n",
    "###third layer\n",
    "model.add(Dense(100))\n",
    "model.add(Activation('relu'))\n",
    "model.add(Dropout(0.5))\n",
    "\n",
    "###final layer\n",
    "model.add(Dense(num_labels))\n",
    "model.add(Activation('softmax'))"
   ]
  },
  {
   "cell_type": "code",
   "execution_count": null,
   "metadata": {},
   "outputs": [],
   "source": [
    "model.summary()"
   ]
  },
  {
   "cell_type": "code",
   "execution_count": null,
   "metadata": {},
   "outputs": [],
   "source": [
    "model.compile(loss='categorical_crossentropy',metrics=['accuracy'],optimizer='adam')"
   ]
  },
  {
   "cell_type": "code",
   "execution_count": null,
   "metadata": {},
   "outputs": [],
   "source": [
    "num_epochs = 1500\n",
    "num_batch_size = 32\n",
    "\n",
    "checkpointer = ModelCheckpoint(filepath='saved_models/audio_classification.hdf5', \n",
    "                               verbose=1, save_best_only=True)\n",
    "start = datetime.now()\n",
    "\n",
    "model.fit(X_train, y_train, batch_size=num_batch_size, epochs=num_epochs, validation_data=(X_test, y_test), callbacks=[checkpointer], verbose=1)\n",
    "\n",
    "\n",
    "duration = datetime.now() - start\n",
    "print(\"Training completed in time: \", duration)"
   ]
  },
  {
   "cell_type": "markdown",
   "metadata": {},
   "source": [
    "Testing Model Performance"
   ]
  },
  {
   "cell_type": "code",
   "execution_count": null,
   "metadata": {},
   "outputs": [],
   "source": [
    "test_accuracy=model.evaluate(X_test,y_test,verbose=0)\n",
    "print(test_accuracy[1])"
   ]
  },
  {
   "cell_type": "markdown",
   "metadata": {},
   "source": [
    "---------------\n",
    "Unseen Data Testing\n",
    "---------------"
   ]
  }
 ],
 "metadata": {
  "kernelspec": {
   "display_name": "base",
   "language": "python",
   "name": "python3"
  },
  "language_info": {
   "codemirror_mode": {
    "name": "ipython",
    "version": 3
   },
   "file_extension": ".py",
   "mimetype": "text/x-python",
   "name": "python",
   "nbconvert_exporter": "python",
   "pygments_lexer": "ipython3",
   "version": "3.10.9"
  },
  "orig_nbformat": 4
 },
 "nbformat": 4,
 "nbformat_minor": 2
}
