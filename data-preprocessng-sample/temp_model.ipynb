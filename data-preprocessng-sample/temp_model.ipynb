{
 "cells": [
  {
   "cell_type": "markdown",
   "metadata": {},
   "source": [
    "-------------------\n",
    "Data Pre Processing\n",
    "-------------------"
   ]
  },
  {
   "cell_type": "markdown",
   "metadata": {},
   "source": [
    "Loading Libraries"
   ]
  },
  {
   "cell_type": "code",
   "execution_count": 7,
   "metadata": {},
   "outputs": [],
   "source": [
    "#importing libraries\n",
    "import pandas as pd\n",
    "import os\n",
    "import librosa\n",
    "import numpy as np\n",
    "from tqdm import tqdm\n",
    "import ast\n",
    "import json\n",
    "import matplotlib.pyplot as plt\n",
    "import seaborn as sns"
   ]
  },
  {
   "cell_type": "markdown",
   "metadata": {},
   "source": [
    "Feature Extraction Functions"
   ]
  },
  {
   "cell_type": "code",
   "execution_count": 2,
   "metadata": {},
   "outputs": [],
   "source": [
    "#extracting mfcc\n",
    "\n",
    "def features_extractor(file_name):\n",
    "    audio, sample_rate = librosa.load(file_name, res_type='kaiser_fast')\n",
    "    print(file_name)\n",
    "    mfccs_features = librosa.feature.mfcc(y=audio, sr=sample_rate, n_mfcc=40)\n",
    "    mfccs_scaled_features = np.mean(mfccs_features.T,axis=0)\n",
    "    return mfccs_scaled_features"
   ]
  },
  {
   "cell_type": "markdown",
   "metadata": {},
   "source": [
    "Reading Meta Data File"
   ]
  },
  {
   "cell_type": "code",
   "execution_count": 6,
   "metadata": {},
   "outputs": [
    {
     "data": {
      "text/html": [
       "<div>\n",
       "<style scoped>\n",
       "    .dataframe tbody tr th:only-of-type {\n",
       "        vertical-align: middle;\n",
       "    }\n",
       "\n",
       "    .dataframe tbody tr th {\n",
       "        vertical-align: top;\n",
       "    }\n",
       "\n",
       "    .dataframe thead th {\n",
       "        text-align: right;\n",
       "    }\n",
       "</style>\n",
       "<table border=\"1\" class=\"dataframe\">\n",
       "  <thead>\n",
       "    <tr style=\"text-align: right;\">\n",
       "      <th></th>\n",
       "      <th>Recording ID</th>\n",
       "      <th>File_name</th>\n",
       "      <th>Folder_ID</th>\n",
       "      <th>Class_ID</th>\n",
       "      <th>Class</th>\n",
       "      <th>File_path</th>\n",
       "    </tr>\n",
       "  </thead>\n",
       "  <tbody>\n",
       "    <tr>\n",
       "      <th>0</th>\n",
       "      <td>1</td>\n",
       "      <td>1.wav</td>\n",
       "      <td>1</td>\n",
       "      <td>1</td>\n",
       "      <td>Cargo</td>\n",
       "      <td>Cargo\\1\\1.wav</td>\n",
       "    </tr>\n",
       "    <tr>\n",
       "      <th>1</th>\n",
       "      <td>2</td>\n",
       "      <td>2.wav</td>\n",
       "      <td>2</td>\n",
       "      <td>1</td>\n",
       "      <td>Cargo</td>\n",
       "      <td>Cargo\\2\\2.wav</td>\n",
       "    </tr>\n",
       "    <tr>\n",
       "      <th>2</th>\n",
       "      <td>3</td>\n",
       "      <td>3.wav</td>\n",
       "      <td>3</td>\n",
       "      <td>1</td>\n",
       "      <td>Cargo</td>\n",
       "      <td>Cargo\\3\\3.wav</td>\n",
       "    </tr>\n",
       "    <tr>\n",
       "      <th>3</th>\n",
       "      <td>4</td>\n",
       "      <td>4.wav</td>\n",
       "      <td>4</td>\n",
       "      <td>1</td>\n",
       "      <td>Cargo</td>\n",
       "      <td>Cargo\\4\\4.wav</td>\n",
       "    </tr>\n",
       "    <tr>\n",
       "      <th>4</th>\n",
       "      <td>5</td>\n",
       "      <td>5.wav</td>\n",
       "      <td>5</td>\n",
       "      <td>1</td>\n",
       "      <td>Cargo</td>\n",
       "      <td>Cargo\\5\\5.wav</td>\n",
       "    </tr>\n",
       "  </tbody>\n",
       "</table>\n",
       "</div>"
      ],
      "text/plain": [
       "   Recording ID File_name  Folder_ID  Class_ID  Class      File_path\n",
       "0             1     1.wav          1         1  Cargo  Cargo\\1\\1.wav\n",
       "1             2     2.wav          2         1  Cargo  Cargo\\2\\2.wav\n",
       "2             3     3.wav          3         1  Cargo  Cargo\\3\\3.wav\n",
       "3             4     4.wav          4         1  Cargo  Cargo\\4\\4.wav\n",
       "4             5     5.wav          5         1  Cargo  Cargo\\5\\5.wav"
      ]
     },
     "execution_count": 6,
     "metadata": {},
     "output_type": "execute_result"
    }
   ],
   "source": [
    "audio_dataset_path='D:/ocean-vue/Augmented Dataset/'\n",
    "metadata=pd.read_csv('D:/ocean-vue/Augmented Dataset/metadata.csv')\n",
    "metadata.head()"
   ]
  },
  {
   "cell_type": "markdown",
   "metadata": {},
   "source": [
    "Iterating through the audio files using metadata file in order to extract features from each audio file."
   ]
  },
  {
   "cell_type": "code",
   "execution_count": 14,
   "metadata": {},
   "outputs": [],
   "source": [
    "# Initialize a list to store extracted features and labels\n",
    "extracted_features = []\n",
    "\n",
    "# Iterate through metadata and extract features\n",
    "for index_num, row in tqdm(metadata.iterrows()):\n",
    "    file_name = os.path.join(os.path.abspath(audio_dataset_path), row['Class'], str(row['Folder_ID']), row['File_name']) #getting the filename to send for feature extraction\n",
    "\n",
    "    final_class_label = row['Class'] #getting the class label of audio file\n",
    "    data = features_extractor(file_name) #sending file for mfcc extraction\n",
    "    extracted_features.append([data, final_class_label]) #appending the received features and class label to datagrame"
   ]
  },
  {
   "cell_type": "code",
   "execution_count": 74,
   "metadata": {},
   "outputs": [],
   "source": [
    "extracted_features"
   ]
  },
  {
   "cell_type": "code",
   "execution_count": 10,
   "metadata": {},
   "outputs": [
    {
     "data": {
      "text/html": [
       "<div>\n",
       "<style scoped>\n",
       "    .dataframe tbody tr th:only-of-type {\n",
       "        vertical-align: middle;\n",
       "    }\n",
       "\n",
       "    .dataframe tbody tr th {\n",
       "        vertical-align: top;\n",
       "    }\n",
       "\n",
       "    .dataframe thead th {\n",
       "        text-align: right;\n",
       "    }\n",
       "</style>\n",
       "<table border=\"1\" class=\"dataframe\">\n",
       "  <thead>\n",
       "    <tr style=\"text-align: right;\">\n",
       "      <th></th>\n",
       "      <th>Features</th>\n",
       "      <th>Class</th>\n",
       "    </tr>\n",
       "  </thead>\n",
       "  <tbody>\n",
       "    <tr>\n",
       "      <th>0</th>\n",
       "      <td>[-351.62512, 86.87263, -14.980208, 21.255037, ...</td>\n",
       "      <td>Cargo</td>\n",
       "    </tr>\n",
       "    <tr>\n",
       "      <th>1</th>\n",
       "      <td>[-433.63748, 102.78814, 4.263644, 31.529789, -...</td>\n",
       "      <td>Cargo</td>\n",
       "    </tr>\n",
       "    <tr>\n",
       "      <th>2</th>\n",
       "      <td>[-459.4379, 118.98667, 14.566436, 32.147232, 1...</td>\n",
       "      <td>Cargo</td>\n",
       "    </tr>\n",
       "    <tr>\n",
       "      <th>3</th>\n",
       "      <td>[-503.51062, 129.89467, 12.606634, 29.421465, ...</td>\n",
       "      <td>Cargo</td>\n",
       "    </tr>\n",
       "    <tr>\n",
       "      <th>4</th>\n",
       "      <td>[-290.6702, 115.29109, -9.099596, 26.168022, -...</td>\n",
       "      <td>Cargo</td>\n",
       "    </tr>\n",
       "    <tr>\n",
       "      <th>...</th>\n",
       "      <td>...</td>\n",
       "      <td>...</td>\n",
       "    </tr>\n",
       "    <tr>\n",
       "      <th>547</th>\n",
       "      <td>[-680.1012, 171.83755, -117.071945, -73.43425,...</td>\n",
       "      <td>Tug</td>\n",
       "    </tr>\n",
       "    <tr>\n",
       "      <th>548</th>\n",
       "      <td>[-678.93353, 159.18694, -112.26985, -83.5203, ...</td>\n",
       "      <td>Tug</td>\n",
       "    </tr>\n",
       "    <tr>\n",
       "      <th>549</th>\n",
       "      <td>[-685.2814, 171.26158, -114.44917, -72.09663, ...</td>\n",
       "      <td>Tug</td>\n",
       "    </tr>\n",
       "    <tr>\n",
       "      <th>550</th>\n",
       "      <td>[-700.2786, 153.14021, -119.12963, -63.556595,...</td>\n",
       "      <td>Tug</td>\n",
       "    </tr>\n",
       "    <tr>\n",
       "      <th>551</th>\n",
       "      <td>[-621.341, 183.7743, -130.46767, -67.64047, -2...</td>\n",
       "      <td>Tug</td>\n",
       "    </tr>\n",
       "  </tbody>\n",
       "</table>\n",
       "<p>552 rows × 2 columns</p>\n",
       "</div>"
      ],
      "text/plain": [
       "                                              Features  Class\n",
       "0    [-351.62512, 86.87263, -14.980208, 21.255037, ...  Cargo\n",
       "1    [-433.63748, 102.78814, 4.263644, 31.529789, -...  Cargo\n",
       "2    [-459.4379, 118.98667, 14.566436, 32.147232, 1...  Cargo\n",
       "3    [-503.51062, 129.89467, 12.606634, 29.421465, ...  Cargo\n",
       "4    [-290.6702, 115.29109, -9.099596, 26.168022, -...  Cargo\n",
       "..                                                 ...    ...\n",
       "547  [-680.1012, 171.83755, -117.071945, -73.43425,...    Tug\n",
       "548  [-678.93353, 159.18694, -112.26985, -83.5203, ...    Tug\n",
       "549  [-685.2814, 171.26158, -114.44917, -72.09663, ...    Tug\n",
       "550  [-700.2786, 153.14021, -119.12963, -63.556595,...    Tug\n",
       "551  [-621.341, 183.7743, -130.46767, -67.64047, -2...    Tug\n",
       "\n",
       "[552 rows x 2 columns]"
      ]
     },
     "execution_count": 10,
     "metadata": {},
     "output_type": "execute_result"
    }
   ],
   "source": [
    "extracted_features_df_for_csv = pd.DataFrame(extracted_features, columns=[\"Features\", \"Class\"])\n",
    "\n",
    "extracted_features_df_for_csv"
   ]
  },
  {
   "cell_type": "markdown",
   "metadata": {},
   "source": [
    "------------------------------------------\n",
    "REMOVE AFTER INVESTIGATION\n",
    "------------------------------------------"
   ]
  },
  {
   "cell_type": "code",
   "execution_count": 105,
   "metadata": {},
   "outputs": [
    {
     "data": {
      "text/html": [
       "<div>\n",
       "<style scoped>\n",
       "    .dataframe tbody tr th:only-of-type {\n",
       "        vertical-align: middle;\n",
       "    }\n",
       "\n",
       "    .dataframe tbody tr th {\n",
       "        vertical-align: top;\n",
       "    }\n",
       "\n",
       "    .dataframe thead th {\n",
       "        text-align: right;\n",
       "    }\n",
       "</style>\n",
       "<table border=\"1\" class=\"dataframe\">\n",
       "  <thead>\n",
       "    <tr style=\"text-align: right;\">\n",
       "      <th></th>\n",
       "      <th>feature</th>\n",
       "      <th>class</th>\n",
       "    </tr>\n",
       "  </thead>\n",
       "  <tbody>\n",
       "    <tr>\n",
       "      <th>547</th>\n",
       "      <td>[-680.1012, 171.83755, -117.071945, -73.43425,...</td>\n",
       "      <td>Tug</td>\n",
       "    </tr>\n",
       "    <tr>\n",
       "      <th>548</th>\n",
       "      <td>[-678.93353, 159.18694, -112.26985, -83.5203, ...</td>\n",
       "      <td>Tug</td>\n",
       "    </tr>\n",
       "    <tr>\n",
       "      <th>549</th>\n",
       "      <td>[-685.2814, 171.26158, -114.44917, -72.09663, ...</td>\n",
       "      <td>Tug</td>\n",
       "    </tr>\n",
       "    <tr>\n",
       "      <th>550</th>\n",
       "      <td>[-700.2786, 153.14021, -119.12963, -63.556595,...</td>\n",
       "      <td>Tug</td>\n",
       "    </tr>\n",
       "    <tr>\n",
       "      <th>551</th>\n",
       "      <td>[-621.341, 183.7743, -130.46767, -67.64047, -2...</td>\n",
       "      <td>Tug</td>\n",
       "    </tr>\n",
       "  </tbody>\n",
       "</table>\n",
       "</div>"
      ],
      "text/plain": [
       "                                               feature class\n",
       "547  [-680.1012, 171.83755, -117.071945, -73.43425,...   Tug\n",
       "548  [-678.93353, 159.18694, -112.26985, -83.5203, ...   Tug\n",
       "549  [-685.2814, 171.26158, -114.44917, -72.09663, ...   Tug\n",
       "550  [-700.2786, 153.14021, -119.12963, -63.556595,...   Tug\n",
       "551  [-621.341, 183.7743, -130.46767, -67.64047, -2...   Tug"
      ]
     },
     "execution_count": 105,
     "metadata": {},
     "output_type": "execute_result"
    }
   ],
   "source": [
    "extracted_features_df=pd.DataFrame(extracted_features,columns=['feature','class'])\n",
    "extracted_features_df.tail()\n"
   ]
  },
  {
   "cell_type": "code",
   "execution_count": 106,
   "metadata": {},
   "outputs": [
    {
     "data": {
      "text/html": [
       "<div>\n",
       "<style scoped>\n",
       "    .dataframe tbody tr th:only-of-type {\n",
       "        vertical-align: middle;\n",
       "    }\n",
       "\n",
       "    .dataframe tbody tr th {\n",
       "        vertical-align: top;\n",
       "    }\n",
       "\n",
       "    .dataframe thead th {\n",
       "        text-align: right;\n",
       "    }\n",
       "</style>\n",
       "<table border=\"1\" class=\"dataframe\">\n",
       "  <thead>\n",
       "    <tr style=\"text-align: right;\">\n",
       "      <th></th>\n",
       "      <th>feature</th>\n",
       "      <th>class</th>\n",
       "    </tr>\n",
       "  </thead>\n",
       "  <tbody>\n",
       "    <tr>\n",
       "      <th>0</th>\n",
       "      <td>[-351.62512, 86.87263, -14.980208, 21.255037, ...</td>\n",
       "      <td>Cargo</td>\n",
       "    </tr>\n",
       "    <tr>\n",
       "      <th>1</th>\n",
       "      <td>[-433.63748, 102.78814, 4.263644, 31.529789, -...</td>\n",
       "      <td>Cargo</td>\n",
       "    </tr>\n",
       "    <tr>\n",
       "      <th>2</th>\n",
       "      <td>[-459.4379, 118.98667, 14.566436, 32.147232, 1...</td>\n",
       "      <td>Cargo</td>\n",
       "    </tr>\n",
       "    <tr>\n",
       "      <th>3</th>\n",
       "      <td>[-503.51062, 129.89467, 12.606634, 29.421465, ...</td>\n",
       "      <td>Cargo</td>\n",
       "    </tr>\n",
       "    <tr>\n",
       "      <th>4</th>\n",
       "      <td>[-290.6702, 115.29109, -9.099596, 26.168022, -...</td>\n",
       "      <td>Cargo</td>\n",
       "    </tr>\n",
       "  </tbody>\n",
       "</table>\n",
       "</div>"
      ],
      "text/plain": [
       "                                             feature  class\n",
       "0  [-351.62512, 86.87263, -14.980208, 21.255037, ...  Cargo\n",
       "1  [-433.63748, 102.78814, 4.263644, 31.529789, -...  Cargo\n",
       "2  [-459.4379, 118.98667, 14.566436, 32.147232, 1...  Cargo\n",
       "3  [-503.51062, 129.89467, 12.606634, 29.421465, ...  Cargo\n",
       "4  [-290.6702, 115.29109, -9.099596, 26.168022, -...  Cargo"
      ]
     },
     "execution_count": 106,
     "metadata": {},
     "output_type": "execute_result"
    }
   ],
   "source": [
    "ex_data = extracted_features_df\n",
    "ex_data.head()"
   ]
  },
  {
   "cell_type": "code",
   "execution_count": 109,
   "metadata": {},
   "outputs": [],
   "source": [
    "### Split the dataset into independent and dependent dataset\n",
    "X=np.array(ex_data['feature'].tolist())\n",
    "y=np.array(ex_data['class'].tolist())"
   ]
  },
  {
   "cell_type": "code",
   "execution_count": 110,
   "metadata": {},
   "outputs": [],
   "source": [
    "### Label Encoding\n",
    "###y=np.array(pd.get_dummies(y))\n",
    "### Label Encoder\n",
    "from tensorflow.keras.utils import to_categorical\n",
    "from sklearn.preprocessing import LabelEncoder\n",
    "labelencoder=LabelEncoder()\n",
    "y=to_categorical(labelencoder.fit_transform(y))"
   ]
  },
  {
   "cell_type": "code",
   "execution_count": 111,
   "metadata": {},
   "outputs": [],
   "source": [
    "### Train Test Split\n",
    "from sklearn.model_selection import train_test_split\n",
    "X_train,X_test,y_train,y_test=train_test_split(X,y,test_size=0.2,random_state=0)"
   ]
  },
  {
   "cell_type": "code",
   "execution_count": 95,
   "metadata": {},
   "outputs": [
    {
     "name": "stdout",
     "output_type": "stream",
     "text": [
      "2.13.0\n"
     ]
    }
   ],
   "source": [
    "import tensorflow as tf\n",
    "print(tf.__version__)"
   ]
  },
  {
   "cell_type": "code",
   "execution_count": 96,
   "metadata": {},
   "outputs": [],
   "source": [
    "from tensorflow.keras.models import Sequential\n",
    "from tensorflow.keras.layers import Dense,Dropout,Activation,Flatten\n",
    "from tensorflow.keras.optimizers import Adam\n",
    "from sklearn import metrics"
   ]
  },
  {
   "cell_type": "code",
   "execution_count": 112,
   "metadata": {},
   "outputs": [
    {
     "data": {
      "text/plain": [
       "4"
      ]
     },
     "execution_count": 112,
     "metadata": {},
     "output_type": "execute_result"
    }
   ],
   "source": [
    "### No of classes\n",
    "num_labels=y.shape[1]\n",
    "num_labels"
   ]
  },
  {
   "cell_type": "code",
   "execution_count": 113,
   "metadata": {},
   "outputs": [],
   "source": [
    "model=Sequential()\n",
    "###first layer\n",
    "model.add(Dense(100,input_shape=(40,)))\n",
    "model.add(Activation('relu'))\n",
    "model.add(Dropout(0.5))\n",
    "###second layer\n",
    "model.add(Dense(200))\n",
    "model.add(Activation('relu'))\n",
    "model.add(Dropout(0.5))\n",
    "###third layer\n",
    "model.add(Dense(100))\n",
    "model.add(Activation('relu'))\n",
    "model.add(Dropout(0.5))\n",
    "\n",
    "###final layer\n",
    "model.add(Dense(num_labels))\n",
    "model.add(Activation('softmax'))"
   ]
  },
  {
   "cell_type": "code",
   "execution_count": 114,
   "metadata": {},
   "outputs": [],
   "source": [
    "model.compile(loss='categorical_crossentropy',metrics=['accuracy'],optimizer='adam')"
   ]
  },
  {
   "cell_type": "code",
   "execution_count": 115,
   "metadata": {},
   "outputs": [
    {
     "name": "stdout",
     "output_type": "stream",
     "text": [
      "Epoch 1/100\n",
      "14/14 [==============================] - ETA: 0s - loss: 64.4773 - accuracy: 0.2426\n",
      "Epoch 1: val_loss did not improve from 0.89923\n",
      "14/14 [==============================] - 3s 44ms/step - loss: 64.4773 - accuracy: 0.2426 - val_loss: 24.2702 - val_accuracy: 0.2342\n",
      "Epoch 2/100\n",
      " 9/14 [==================>...........] - ETA: 0s - loss: 38.0819 - accuracy: 0.2882\n",
      "Epoch 2: val_loss did not improve from 0.89923\n",
      "14/14 [==============================] - 0s 18ms/step - loss: 36.9601 - accuracy: 0.2698 - val_loss: 3.9625 - val_accuracy: 0.2793\n",
      "Epoch 3/100\n",
      " 8/14 [================>.............] - ETA: 0s - loss: 28.1117 - accuracy: 0.2383\n",
      "Epoch 3: val_loss did not improve from 0.89923\n",
      "14/14 [==============================] - 0s 20ms/step - loss: 25.5617 - accuracy: 0.2653 - val_loss: 2.1598 - val_accuracy: 0.2973\n",
      "Epoch 4/100\n",
      "11/14 [======================>.......] - ETA: 0s - loss: 20.3704 - accuracy: 0.2528\n",
      "Epoch 4: val_loss did not improve from 0.89923\n",
      "14/14 [==============================] - 1s 40ms/step - loss: 19.5483 - accuracy: 0.2630 - val_loss: 1.7872 - val_accuracy: 0.3153\n",
      "Epoch 5/100\n",
      "13/14 [==========================>...] - ETA: 0s - loss: 15.9580 - accuracy: 0.2380\n",
      "Epoch 5: val_loss did not improve from 0.89923\n",
      "14/14 [==============================] - 0s 22ms/step - loss: 15.7864 - accuracy: 0.2336 - val_loss: 1.5048 - val_accuracy: 0.3514\n",
      "Epoch 6/100\n",
      " 8/14 [================>.............] - ETA: 0s - loss: 12.0401 - accuracy: 0.2734\n",
      "Epoch 6: val_loss did not improve from 0.89923\n",
      "14/14 [==============================] - 0s 17ms/step - loss: 12.0341 - accuracy: 0.2857 - val_loss: 1.4657 - val_accuracy: 0.3153\n",
      "Epoch 7/100\n",
      " 7/14 [==============>...............] - ETA: 0s - loss: 10.4773 - accuracy: 0.2723\n",
      "Epoch 7: val_loss did not improve from 0.89923\n",
      "14/14 [==============================] - 0s 21ms/step - loss: 10.5283 - accuracy: 0.2472 - val_loss: 1.4401 - val_accuracy: 0.2432\n",
      "Epoch 8/100\n",
      " 9/14 [==================>...........] - ETA: 0s - loss: 7.6837 - accuracy: 0.2674\n",
      "Epoch 8: val_loss did not improve from 0.89923\n",
      "14/14 [==============================] - 0s 14ms/step - loss: 8.0310 - accuracy: 0.2472 - val_loss: 1.3993 - val_accuracy: 0.2342\n",
      "Epoch 9/100\n",
      " 9/14 [==================>...........] - ETA: 0s - loss: 8.1485 - accuracy: 0.2083\n",
      "Epoch 9: val_loss did not improve from 0.89923\n",
      "14/14 [==============================] - 0s 14ms/step - loss: 7.6332 - accuracy: 0.2381 - val_loss: 1.3892 - val_accuracy: 0.2613\n",
      "Epoch 10/100\n",
      " 9/14 [==================>...........] - ETA: 0s - loss: 5.9732 - accuracy: 0.2882\n",
      "Epoch 10: val_loss did not improve from 0.89923\n",
      "14/14 [==============================] - 0s 14ms/step - loss: 5.8389 - accuracy: 0.2721 - val_loss: 1.3882 - val_accuracy: 0.2523\n",
      "Epoch 11/100\n",
      " 9/14 [==================>...........] - ETA: 0s - loss: 5.5349 - accuracy: 0.2326\n",
      "Epoch 11: val_loss did not improve from 0.89923\n",
      "14/14 [==============================] - 0s 15ms/step - loss: 5.5300 - accuracy: 0.2290 - val_loss: 1.3866 - val_accuracy: 0.2342\n",
      "Epoch 12/100\n",
      "12/14 [========================>.....] - ETA: 0s - loss: 4.4864 - accuracy: 0.2943\n",
      "Epoch 12: val_loss did not improve from 0.89923\n",
      "14/14 [==============================] - 0s 29ms/step - loss: 4.3837 - accuracy: 0.2948 - val_loss: 1.3860 - val_accuracy: 0.2432\n",
      "Epoch 13/100\n",
      "12/14 [========================>.....] - ETA: 0s - loss: 4.1721 - accuracy: 0.2344\n",
      "Epoch 13: val_loss did not improve from 0.89923\n",
      "14/14 [==============================] - 0s 19ms/step - loss: 4.1582 - accuracy: 0.2358 - val_loss: 1.3858 - val_accuracy: 0.2342\n",
      "Epoch 14/100\n",
      " 9/14 [==================>...........] - ETA: 0s - loss: 3.1219 - accuracy: 0.2604\n",
      "Epoch 14: val_loss did not improve from 0.89923\n",
      "14/14 [==============================] - 0s 15ms/step - loss: 3.0427 - accuracy: 0.2721 - val_loss: 1.3869 - val_accuracy: 0.2342\n",
      "Epoch 15/100\n",
      " 9/14 [==================>...........] - ETA: 0s - loss: 3.0539 - accuracy: 0.2292\n",
      "Epoch 15: val_loss did not improve from 0.89923\n",
      "14/14 [==============================] - 0s 15ms/step - loss: 2.9504 - accuracy: 0.2336 - val_loss: 1.3872 - val_accuracy: 0.2342\n",
      "Epoch 16/100\n",
      " 9/14 [==================>...........] - ETA: 0s - loss: 2.9108 - accuracy: 0.2847\n",
      "Epoch 16: val_loss did not improve from 0.89923\n",
      "14/14 [==============================] - 0s 14ms/step - loss: 2.6887 - accuracy: 0.2789 - val_loss: 1.3873 - val_accuracy: 0.2342\n",
      "Epoch 17/100\n",
      " 8/14 [================>.............] - ETA: 0s - loss: 2.4663 - accuracy: 0.2461\n",
      "Epoch 17: val_loss did not improve from 0.89923\n",
      "14/14 [==============================] - 0s 15ms/step - loss: 2.4539 - accuracy: 0.2540 - val_loss: 1.3875 - val_accuracy: 0.2342\n",
      "Epoch 18/100\n",
      "13/14 [==========================>...] - ETA: 0s - loss: 2.2999 - accuracy: 0.2356\n",
      "Epoch 18: val_loss did not improve from 0.89923\n",
      "14/14 [==============================] - 0s 31ms/step - loss: 2.2573 - accuracy: 0.2358 - val_loss: 1.3878 - val_accuracy: 0.2342\n",
      "Epoch 19/100\n",
      "13/14 [==========================>...] - ETA: 0s - loss: 2.1108 - accuracy: 0.2476\n",
      "Epoch 19: val_loss did not improve from 0.89923\n",
      "14/14 [==============================] - 0s 16ms/step - loss: 2.0859 - accuracy: 0.2472 - val_loss: 1.3878 - val_accuracy: 0.2342\n",
      "Epoch 20/100\n",
      "10/14 [====================>.........] - ETA: 0s - loss: 2.1713 - accuracy: 0.2375\n",
      "Epoch 20: val_loss did not improve from 0.89923\n",
      "14/14 [==============================] - 0s 13ms/step - loss: 2.0415 - accuracy: 0.2653 - val_loss: 1.3879 - val_accuracy: 0.2342\n",
      "Epoch 21/100\n",
      "10/14 [====================>.........] - ETA: 0s - loss: 1.9540 - accuracy: 0.2625\n",
      "Epoch 21: val_loss did not improve from 0.89923\n",
      "14/14 [==============================] - 0s 15ms/step - loss: 1.9732 - accuracy: 0.2517 - val_loss: 1.3879 - val_accuracy: 0.2342\n",
      "Epoch 22/100\n",
      " 7/14 [==============>...............] - ETA: 0s - loss: 2.0223 - accuracy: 0.2500\n",
      "Epoch 22: val_loss did not improve from 0.89923\n",
      "14/14 [==============================] - 0s 15ms/step - loss: 1.8929 - accuracy: 0.2676 - val_loss: 1.3879 - val_accuracy: 0.2342\n",
      "Epoch 23/100\n",
      " 9/14 [==================>...........] - ETA: 0s - loss: 2.0221 - accuracy: 0.2292\n",
      "Epoch 23: val_loss did not improve from 0.89923\n",
      "14/14 [==============================] - 0s 15ms/step - loss: 1.9013 - accuracy: 0.2630 - val_loss: 1.3880 - val_accuracy: 0.2342\n",
      "Epoch 24/100\n",
      " 6/14 [===========>..................] - ETA: 0s - loss: 1.7717 - accuracy: 0.2812\n",
      "Epoch 24: val_loss did not improve from 0.89923\n",
      "14/14 [==============================] - 1s 41ms/step - loss: 1.7639 - accuracy: 0.2721 - val_loss: 1.3881 - val_accuracy: 0.2342\n",
      "Epoch 25/100\n",
      "14/14 [==============================] - ETA: 0s - loss: 1.8192 - accuracy: 0.2494\n",
      "Epoch 25: val_loss did not improve from 0.89923\n",
      "14/14 [==============================] - 0s 22ms/step - loss: 1.8192 - accuracy: 0.2494 - val_loss: 1.3882 - val_accuracy: 0.2342\n",
      "Epoch 26/100\n",
      " 9/14 [==================>...........] - ETA: 0s - loss: 1.6414 - accuracy: 0.2708\n",
      "Epoch 26: val_loss did not improve from 0.89923\n",
      "14/14 [==============================] - 0s 15ms/step - loss: 1.6812 - accuracy: 0.2698 - val_loss: 1.3881 - val_accuracy: 0.2342\n",
      "Epoch 27/100\n",
      " 9/14 [==================>...........] - ETA: 0s - loss: 1.6440 - accuracy: 0.2639\n",
      "Epoch 27: val_loss did not improve from 0.89923\n",
      "14/14 [==============================] - 0s 14ms/step - loss: 1.6595 - accuracy: 0.2472 - val_loss: 1.3881 - val_accuracy: 0.2342\n",
      "Epoch 28/100\n",
      "10/14 [====================>.........] - ETA: 0s - loss: 1.6750 - accuracy: 0.2625\n",
      "Epoch 28: val_loss did not improve from 0.89923\n",
      "14/14 [==============================] - 0s 15ms/step - loss: 1.6368 - accuracy: 0.2540 - val_loss: 1.3881 - val_accuracy: 0.2342\n",
      "Epoch 29/100\n",
      "10/14 [====================>.........] - ETA: 0s - loss: 1.7108 - accuracy: 0.2625\n",
      "Epoch 29: val_loss did not improve from 0.89923\n",
      "14/14 [==============================] - 0s 15ms/step - loss: 1.6664 - accuracy: 0.2698 - val_loss: 1.3882 - val_accuracy: 0.2342\n",
      "Epoch 30/100\n",
      "10/14 [====================>.........] - ETA: 0s - loss: 1.5625 - accuracy: 0.2625\n",
      "Epoch 30: val_loss did not improve from 0.89923\n",
      "14/14 [==============================] - 0s 14ms/step - loss: 1.5684 - accuracy: 0.2744 - val_loss: 1.3882 - val_accuracy: 0.2342\n",
      "Epoch 31/100\n",
      " 8/14 [================>.............] - ETA: 0s - loss: 1.5555 - accuracy: 0.2305\n",
      "Epoch 31: val_loss did not improve from 0.89923\n",
      "14/14 [==============================] - 0s 16ms/step - loss: 1.5069 - accuracy: 0.2200 - val_loss: 1.3884 - val_accuracy: 0.2342\n",
      "Epoch 32/100\n",
      "10/14 [====================>.........] - ETA: 0s - loss: 1.6724 - accuracy: 0.2625\n",
      "Epoch 32: val_loss did not improve from 0.89923\n",
      "14/14 [==============================] - 0s 19ms/step - loss: 1.6282 - accuracy: 0.2585 - val_loss: 1.3885 - val_accuracy: 0.2342\n",
      "Epoch 33/100\n",
      "10/14 [====================>.........] - ETA: 0s - loss: 1.5316 - accuracy: 0.2656\n",
      "Epoch 33: val_loss did not improve from 0.89923\n",
      "14/14 [==============================] - 0s 14ms/step - loss: 1.5849 - accuracy: 0.2698 - val_loss: 1.3885 - val_accuracy: 0.2342\n",
      "Epoch 34/100\n",
      "12/14 [========================>.....] - ETA: 0s - loss: 1.5157 - accuracy: 0.2526\n",
      "Epoch 34: val_loss did not improve from 0.89923\n",
      "14/14 [==============================] - 0s 34ms/step - loss: 1.5322 - accuracy: 0.2676 - val_loss: 1.3885 - val_accuracy: 0.2342\n",
      "Epoch 35/100\n",
      " 8/14 [================>.............] - ETA: 0s - loss: 1.5181 - accuracy: 0.2188\n",
      "Epoch 35: val_loss did not improve from 0.89923\n",
      "14/14 [==============================] - 0s 18ms/step - loss: 1.4900 - accuracy: 0.2404 - val_loss: 1.3886 - val_accuracy: 0.2342\n",
      "Epoch 36/100\n",
      " 9/14 [==================>...........] - ETA: 0s - loss: 1.5043 - accuracy: 0.2396\n",
      "Epoch 36: val_loss did not improve from 0.89923\n",
      "14/14 [==============================] - 0s 15ms/step - loss: 1.4968 - accuracy: 0.2472 - val_loss: 1.3886 - val_accuracy: 0.2342\n",
      "Epoch 37/100\n",
      "10/14 [====================>.........] - ETA: 0s - loss: 1.4448 - accuracy: 0.2469\n",
      "Epoch 37: val_loss did not improve from 0.89923\n",
      "14/14 [==============================] - 0s 15ms/step - loss: 1.4794 - accuracy: 0.2358 - val_loss: 1.3886 - val_accuracy: 0.2342\n",
      "Epoch 38/100\n",
      " 8/14 [================>.............] - ETA: 0s - loss: 1.4991 - accuracy: 0.2812\n",
      "Epoch 38: val_loss did not improve from 0.89923\n",
      "14/14 [==============================] - 0s 16ms/step - loss: 1.5142 - accuracy: 0.2630 - val_loss: 1.3886 - val_accuracy: 0.2342\n",
      "Epoch 39/100\n",
      " 8/14 [================>.............] - ETA: 0s - loss: 1.5209 - accuracy: 0.2500\n",
      "Epoch 39: val_loss did not improve from 0.89923\n",
      "14/14 [==============================] - 0s 15ms/step - loss: 1.4944 - accuracy: 0.2789 - val_loss: 1.3885 - val_accuracy: 0.2342\n",
      "Epoch 40/100\n",
      " 7/14 [==============>...............] - ETA: 0s - loss: 1.4776 - accuracy: 0.2679\n",
      "Epoch 40: val_loss did not improve from 0.89923\n",
      "14/14 [==============================] - 0s 16ms/step - loss: 1.4772 - accuracy: 0.2494 - val_loss: 1.3887 - val_accuracy: 0.2342\n",
      "Epoch 41/100\n",
      " 9/14 [==================>...........] - ETA: 0s - loss: 1.4127 - accuracy: 0.2708\n",
      "Epoch 41: val_loss did not improve from 0.89923\n",
      "14/14 [==============================] - 0s 13ms/step - loss: 1.4230 - accuracy: 0.2721 - val_loss: 1.3886 - val_accuracy: 0.2342\n",
      "Epoch 42/100\n",
      "13/14 [==========================>...] - ETA: 0s - loss: 1.4791 - accuracy: 0.2404\n",
      "Epoch 42: val_loss did not improve from 0.89923\n",
      "14/14 [==============================] - 0s 32ms/step - loss: 1.4725 - accuracy: 0.2336 - val_loss: 1.3886 - val_accuracy: 0.2342\n",
      "Epoch 43/100\n",
      " 6/14 [===========>..................] - ETA: 0s - loss: 1.3943 - accuracy: 0.2917\n",
      "Epoch 43: val_loss did not improve from 0.89923\n",
      "14/14 [==============================] - 0s 17ms/step - loss: 1.4090 - accuracy: 0.2971 - val_loss: 1.3886 - val_accuracy: 0.2342\n",
      "Epoch 44/100\n",
      "10/14 [====================>.........] - ETA: 0s - loss: 1.4711 - accuracy: 0.2250\n",
      "Epoch 44: val_loss did not improve from 0.89923\n",
      "14/14 [==============================] - 0s 14ms/step - loss: 1.4797 - accuracy: 0.2336 - val_loss: 1.3887 - val_accuracy: 0.2342\n",
      "Epoch 45/100\n",
      "10/14 [====================>.........] - ETA: 0s - loss: 1.4511 - accuracy: 0.2656\n",
      "Epoch 45: val_loss did not improve from 0.89923\n",
      "14/14 [==============================] - 0s 15ms/step - loss: 1.4467 - accuracy: 0.2653 - val_loss: 1.3887 - val_accuracy: 0.2342\n",
      "Epoch 46/100\n",
      " 8/14 [================>.............] - ETA: 0s - loss: 1.4477 - accuracy: 0.3125\n",
      "Epoch 46: val_loss did not improve from 0.89923\n",
      "14/14 [==============================] - 0s 16ms/step - loss: 1.4404 - accuracy: 0.2857 - val_loss: 1.3888 - val_accuracy: 0.2342\n",
      "Epoch 47/100\n",
      " 7/14 [==============>...............] - ETA: 0s - loss: 1.4399 - accuracy: 0.2589\n",
      "Epoch 47: val_loss did not improve from 0.89923\n",
      "14/14 [==============================] - 0s 16ms/step - loss: 1.4556 - accuracy: 0.2562 - val_loss: 1.3888 - val_accuracy: 0.2342\n",
      "Epoch 48/100\n",
      "10/14 [====================>.........] - ETA: 0s - loss: 1.5066 - accuracy: 0.2500\n",
      "Epoch 48: val_loss did not improve from 0.89923\n",
      "14/14 [==============================] - 0s 17ms/step - loss: 1.4879 - accuracy: 0.2540 - val_loss: 1.3888 - val_accuracy: 0.2342\n",
      "Epoch 49/100\n",
      "11/14 [======================>.......] - ETA: 0s - loss: 1.4231 - accuracy: 0.2699\n",
      "Epoch 49: val_loss did not improve from 0.89923\n",
      "14/14 [==============================] - 0s 14ms/step - loss: 1.4200 - accuracy: 0.2766 - val_loss: 1.3887 - val_accuracy: 0.2342\n",
      "Epoch 50/100\n",
      "10/14 [====================>.........] - ETA: 0s - loss: 1.4132 - accuracy: 0.2812\n",
      "Epoch 50: val_loss did not improve from 0.89923\n",
      "14/14 [==============================] - 0s 13ms/step - loss: 1.4367 - accuracy: 0.2676 - val_loss: 1.3888 - val_accuracy: 0.2342\n",
      "Epoch 51/100\n",
      " 8/14 [================>.............] - ETA: 0s - loss: 1.4293 - accuracy: 0.2656\n",
      "Epoch 51: val_loss did not improve from 0.89923\n",
      "14/14 [==============================] - 0s 13ms/step - loss: 1.4446 - accuracy: 0.2472 - val_loss: 1.3889 - val_accuracy: 0.2342\n",
      "Epoch 52/100\n",
      " 8/14 [================>.............] - ETA: 0s - loss: 1.4282 - accuracy: 0.2305\n",
      "Epoch 52: val_loss did not improve from 0.89923\n",
      "14/14 [==============================] - 0s 14ms/step - loss: 1.4545 - accuracy: 0.2472 - val_loss: 1.3889 - val_accuracy: 0.2342\n",
      "Epoch 53/100\n",
      "10/14 [====================>.........] - ETA: 0s - loss: 1.4478 - accuracy: 0.2594\n",
      "Epoch 53: val_loss did not improve from 0.89923\n",
      "14/14 [==============================] - 0s 14ms/step - loss: 1.4490 - accuracy: 0.2449 - val_loss: 1.3889 - val_accuracy: 0.2342\n",
      "Epoch 54/100\n",
      " 7/14 [==============>...............] - ETA: 0s - loss: 1.4534 - accuracy: 0.2723\n",
      "Epoch 54: val_loss did not improve from 0.89923\n",
      "14/14 [==============================] - 0s 17ms/step - loss: 1.4407 - accuracy: 0.2449 - val_loss: 1.3890 - val_accuracy: 0.2342\n",
      "Epoch 55/100\n",
      " 9/14 [==================>...........] - ETA: 0s - loss: 1.4229 - accuracy: 0.2639\n",
      "Epoch 55: val_loss did not improve from 0.89923\n",
      "14/14 [==============================] - 0s 30ms/step - loss: 1.4293 - accuracy: 0.2540 - val_loss: 1.3889 - val_accuracy: 0.2342\n",
      "Epoch 56/100\n",
      "10/14 [====================>.........] - ETA: 0s - loss: 1.4278 - accuracy: 0.2750\n",
      "Epoch 56: val_loss did not improve from 0.89923\n",
      "14/14 [==============================] - 0s 18ms/step - loss: 1.4303 - accuracy: 0.2721 - val_loss: 1.3890 - val_accuracy: 0.2342\n",
      "Epoch 57/100\n",
      "11/14 [======================>.......] - ETA: 0s - loss: 1.4257 - accuracy: 0.2614\n",
      "Epoch 57: val_loss did not improve from 0.89923\n",
      "14/14 [==============================] - 0s 13ms/step - loss: 1.4305 - accuracy: 0.2472 - val_loss: 1.3890 - val_accuracy: 0.2342\n",
      "Epoch 58/100\n",
      "10/14 [====================>.........] - ETA: 0s - loss: 1.4488 - accuracy: 0.2562\n",
      "Epoch 58: val_loss did not improve from 0.89923\n",
      "14/14 [==============================] - 0s 13ms/step - loss: 1.4386 - accuracy: 0.2585 - val_loss: 1.3889 - val_accuracy: 0.2342\n",
      "Epoch 59/100\n",
      " 7/14 [==============>...............] - ETA: 0s - loss: 1.4089 - accuracy: 0.2902\n",
      "Epoch 59: val_loss did not improve from 0.89923\n",
      "14/14 [==============================] - 0s 17ms/step - loss: 1.4138 - accuracy: 0.2472 - val_loss: 1.3890 - val_accuracy: 0.2342\n",
      "Epoch 60/100\n",
      "10/14 [====================>.........] - ETA: 0s - loss: 1.4645 - accuracy: 0.2188\n",
      "Epoch 60: val_loss did not improve from 0.89923\n",
      "14/14 [==============================] - 0s 16ms/step - loss: 1.4590 - accuracy: 0.2132 - val_loss: 1.3889 - val_accuracy: 0.2342\n",
      "Epoch 61/100\n",
      "10/14 [====================>.........] - ETA: 0s - loss: 1.4163 - accuracy: 0.2688\n",
      "Epoch 61: val_loss did not improve from 0.89923\n",
      "14/14 [==============================] - 0s 16ms/step - loss: 1.4218 - accuracy: 0.2653 - val_loss: 1.3889 - val_accuracy: 0.2342\n",
      "Epoch 62/100\n",
      " 9/14 [==================>...........] - ETA: 0s - loss: 1.3908 - accuracy: 0.2535\n",
      "Epoch 62: val_loss did not improve from 0.89923\n",
      "14/14 [==============================] - 0s 16ms/step - loss: 1.4118 - accuracy: 0.2630 - val_loss: 1.3889 - val_accuracy: 0.2342\n",
      "Epoch 63/100\n",
      " 9/14 [==================>...........] - ETA: 0s - loss: 1.4595 - accuracy: 0.2465\n",
      "Epoch 63: val_loss did not improve from 0.89923\n",
      "14/14 [==============================] - 0s 16ms/step - loss: 1.4341 - accuracy: 0.2426 - val_loss: 1.3890 - val_accuracy: 0.2342\n",
      "Epoch 64/100\n",
      " 8/14 [================>.............] - ETA: 0s - loss: 1.3671 - accuracy: 0.2812\n",
      "Epoch 64: val_loss did not improve from 0.89923\n",
      "14/14 [==============================] - 0s 18ms/step - loss: 1.3823 - accuracy: 0.2676 - val_loss: 1.3890 - val_accuracy: 0.2342\n",
      "Epoch 65/100\n",
      " 8/14 [================>.............] - ETA: 0s - loss: 1.3894 - accuracy: 0.2734\n",
      "Epoch 65: val_loss did not improve from 0.89923\n",
      "14/14 [==============================] - 0s 18ms/step - loss: 1.4105 - accuracy: 0.2676 - val_loss: 1.3891 - val_accuracy: 0.2342\n",
      "Epoch 66/100\n",
      " 9/14 [==================>...........] - ETA: 0s - loss: 1.4331 - accuracy: 0.2431\n",
      "Epoch 66: val_loss did not improve from 0.89923\n",
      "14/14 [==============================] - 0s 13ms/step - loss: 1.4236 - accuracy: 0.2540 - val_loss: 1.3891 - val_accuracy: 0.2342\n",
      "Epoch 67/100\n",
      " 9/14 [==================>...........] - ETA: 0s - loss: 1.4384 - accuracy: 0.2569\n",
      "Epoch 67: val_loss did not improve from 0.89923\n",
      "14/14 [==============================] - 0s 15ms/step - loss: 1.4186 - accuracy: 0.2517 - val_loss: 1.3892 - val_accuracy: 0.2342\n",
      "Epoch 68/100\n",
      " 7/14 [==============>...............] - ETA: 0s - loss: 1.4265 - accuracy: 0.2857\n",
      "Epoch 68: val_loss did not improve from 0.89923\n",
      "14/14 [==============================] - 0s 16ms/step - loss: 1.4252 - accuracy: 0.2766 - val_loss: 1.3891 - val_accuracy: 0.2342\n",
      "Epoch 69/100\n",
      "14/14 [==============================] - ETA: 0s - loss: 1.4065 - accuracy: 0.2676\n",
      "Epoch 69: val_loss did not improve from 0.89923\n",
      "14/14 [==============================] - 0s 35ms/step - loss: 1.4065 - accuracy: 0.2676 - val_loss: 1.3891 - val_accuracy: 0.2342\n",
      "Epoch 70/100\n",
      " 8/14 [================>.............] - ETA: 0s - loss: 1.4273 - accuracy: 0.2578\n",
      "Epoch 70: val_loss did not improve from 0.89923\n",
      "14/14 [==============================] - 0s 20ms/step - loss: 1.4170 - accuracy: 0.2358 - val_loss: 1.3893 - val_accuracy: 0.2342\n",
      "Epoch 71/100\n",
      " 9/14 [==================>...........] - ETA: 0s - loss: 1.4229 - accuracy: 0.2222\n",
      "Epoch 71: val_loss did not improve from 0.89923\n",
      "14/14 [==============================] - 0s 15ms/step - loss: 1.4056 - accuracy: 0.2313 - val_loss: 1.3892 - val_accuracy: 0.2342\n",
      "Epoch 72/100\n",
      " 9/14 [==================>...........] - ETA: 0s - loss: 1.4153 - accuracy: 0.2569\n",
      "Epoch 72: val_loss did not improve from 0.89923\n",
      "14/14 [==============================] - 0s 15ms/step - loss: 1.4125 - accuracy: 0.2608 - val_loss: 1.3892 - val_accuracy: 0.2342\n",
      "Epoch 73/100\n",
      " 9/14 [==================>...........] - ETA: 0s - loss: 1.3929 - accuracy: 0.2778\n",
      "Epoch 73: val_loss did not improve from 0.89923\n",
      "14/14 [==============================] - 0s 13ms/step - loss: 1.4056 - accuracy: 0.2766 - val_loss: 1.3893 - val_accuracy: 0.2342\n",
      "Epoch 74/100\n",
      " 8/14 [================>.............] - ETA: 0s - loss: 1.3889 - accuracy: 0.2812\n",
      "Epoch 74: val_loss did not improve from 0.89923\n",
      "14/14 [==============================] - 0s 13ms/step - loss: 1.3995 - accuracy: 0.2608 - val_loss: 1.3894 - val_accuracy: 0.2342\n",
      "Epoch 75/100\n",
      "10/14 [====================>.........] - ETA: 0s - loss: 1.4063 - accuracy: 0.2656\n",
      "Epoch 75: val_loss did not improve from 0.89923\n",
      "14/14 [==============================] - 0s 16ms/step - loss: 1.4122 - accuracy: 0.2562 - val_loss: 1.3893 - val_accuracy: 0.2342\n",
      "Epoch 76/100\n",
      " 9/14 [==================>...........] - ETA: 0s - loss: 1.4218 - accuracy: 0.2778\n",
      "Epoch 76: val_loss did not improve from 0.89923\n",
      "14/14 [==============================] - 0s 15ms/step - loss: 1.4270 - accuracy: 0.2721 - val_loss: 1.3893 - val_accuracy: 0.2342\n",
      "Epoch 77/100\n",
      " 9/14 [==================>...........] - ETA: 0s - loss: 1.3983 - accuracy: 0.2431\n",
      "Epoch 77: val_loss did not improve from 0.89923\n",
      "14/14 [==============================] - 0s 13ms/step - loss: 1.3989 - accuracy: 0.2517 - val_loss: 1.3893 - val_accuracy: 0.2342\n",
      "Epoch 78/100\n",
      "10/14 [====================>.........] - ETA: 0s - loss: 1.3909 - accuracy: 0.2781\n",
      "Epoch 78: val_loss did not improve from 0.89923\n",
      "14/14 [==============================] - 0s 14ms/step - loss: 1.4067 - accuracy: 0.2676 - val_loss: 1.3893 - val_accuracy: 0.2342\n",
      "Epoch 79/100\n",
      " 9/14 [==================>...........] - ETA: 0s - loss: 1.4022 - accuracy: 0.2396\n",
      "Epoch 79: val_loss did not improve from 0.89923\n",
      "14/14 [==============================] - 0s 14ms/step - loss: 1.4139 - accuracy: 0.2426 - val_loss: 1.3893 - val_accuracy: 0.2342\n",
      "Epoch 80/100\n",
      " 9/14 [==================>...........] - ETA: 0s - loss: 1.3994 - accuracy: 0.2431\n",
      "Epoch 80: val_loss did not improve from 0.89923\n",
      "14/14 [==============================] - 0s 14ms/step - loss: 1.4050 - accuracy: 0.2585 - val_loss: 1.3893 - val_accuracy: 0.2342\n",
      "Epoch 81/100\n",
      "10/14 [====================>.........] - ETA: 0s - loss: 1.4140 - accuracy: 0.2719\n",
      "Epoch 81: val_loss did not improve from 0.89923\n",
      "14/14 [==============================] - 0s 15ms/step - loss: 1.4181 - accuracy: 0.2653 - val_loss: 1.3893 - val_accuracy: 0.2342\n",
      "Epoch 82/100\n",
      " 9/14 [==================>...........] - ETA: 0s - loss: 1.3916 - accuracy: 0.2500\n",
      "Epoch 82: val_loss did not improve from 0.89923\n",
      "14/14 [==============================] - 0s 13ms/step - loss: 1.3884 - accuracy: 0.2630 - val_loss: 1.3893 - val_accuracy: 0.2342\n",
      "Epoch 83/100\n",
      "10/14 [====================>.........] - ETA: 0s - loss: 1.4113 - accuracy: 0.2500\n",
      "Epoch 83: val_loss did not improve from 0.89923\n",
      "14/14 [==============================] - 0s 15ms/step - loss: 1.4020 - accuracy: 0.2585 - val_loss: 1.3893 - val_accuracy: 0.2342\n",
      "Epoch 84/100\n",
      " 9/14 [==================>...........] - ETA: 0s - loss: 1.4189 - accuracy: 0.2188\n",
      "Epoch 84: val_loss did not improve from 0.89923\n",
      "14/14 [==============================] - 0s 27ms/step - loss: 1.4077 - accuracy: 0.2336 - val_loss: 1.3892 - val_accuracy: 0.2342\n",
      "Epoch 85/100\n",
      "10/14 [====================>.........] - ETA: 0s - loss: 1.3988 - accuracy: 0.2688\n",
      "Epoch 85: val_loss did not improve from 0.89923\n",
      "14/14 [==============================] - 0s 14ms/step - loss: 1.4074 - accuracy: 0.2676 - val_loss: 1.3892 - val_accuracy: 0.2342\n",
      "Epoch 86/100\n",
      "10/14 [====================>.........] - ETA: 0s - loss: 1.3876 - accuracy: 0.2438\n",
      "Epoch 86: val_loss did not improve from 0.89923\n",
      "14/14 [==============================] - 0s 13ms/step - loss: 1.4018 - accuracy: 0.2540 - val_loss: 1.3893 - val_accuracy: 0.2342\n",
      "Epoch 87/100\n",
      "13/14 [==========================>...] - ETA: 0s - loss: 1.4272 - accuracy: 0.2428\n",
      "Epoch 87: val_loss did not improve from 0.89923\n",
      "14/14 [==============================] - 0s 19ms/step - loss: 1.4289 - accuracy: 0.2404 - val_loss: 1.3893 - val_accuracy: 0.2342\n",
      "Epoch 88/100\n",
      " 9/14 [==================>...........] - ETA: 0s - loss: 1.4040 - accuracy: 0.2465\n",
      "Epoch 88: val_loss did not improve from 0.89923\n",
      "14/14 [==============================] - 0s 13ms/step - loss: 1.3956 - accuracy: 0.2472 - val_loss: 1.3892 - val_accuracy: 0.2342\n",
      "Epoch 89/100\n",
      "10/14 [====================>.........] - ETA: 0s - loss: 1.3923 - accuracy: 0.2688\n",
      "Epoch 89: val_loss did not improve from 0.89923\n",
      "14/14 [==============================] - 0s 13ms/step - loss: 1.3917 - accuracy: 0.2630 - val_loss: 1.3891 - val_accuracy: 0.2342\n",
      "Epoch 90/100\n",
      "10/14 [====================>.........] - ETA: 0s - loss: 1.4111 - accuracy: 0.2469\n",
      "Epoch 90: val_loss did not improve from 0.89923\n",
      "14/14 [==============================] - 0s 15ms/step - loss: 1.4111 - accuracy: 0.2449 - val_loss: 1.3891 - val_accuracy: 0.2342\n",
      "Epoch 91/100\n",
      " 9/14 [==================>...........] - ETA: 0s - loss: 1.3997 - accuracy: 0.2847\n",
      "Epoch 91: val_loss did not improve from 0.89923\n",
      "14/14 [==============================] - 0s 13ms/step - loss: 1.3963 - accuracy: 0.2766 - val_loss: 1.3892 - val_accuracy: 0.2342\n",
      "Epoch 92/100\n",
      " 9/14 [==================>...........] - ETA: 0s - loss: 1.4155 - accuracy: 0.2500\n",
      "Epoch 92: val_loss did not improve from 0.89923\n",
      "14/14 [==============================] - 0s 14ms/step - loss: 1.4092 - accuracy: 0.2494 - val_loss: 1.3891 - val_accuracy: 0.2342\n",
      "Epoch 93/100\n",
      "10/14 [====================>.........] - ETA: 0s - loss: 1.3957 - accuracy: 0.2625\n",
      "Epoch 93: val_loss did not improve from 0.89923\n",
      "14/14 [==============================] - 0s 13ms/step - loss: 1.3936 - accuracy: 0.2585 - val_loss: 1.3892 - val_accuracy: 0.2342\n",
      "Epoch 94/100\n",
      "10/14 [====================>.........] - ETA: 0s - loss: 1.3787 - accuracy: 0.2531\n",
      "Epoch 94: val_loss did not improve from 0.89923\n",
      "14/14 [==============================] - 0s 12ms/step - loss: 1.3883 - accuracy: 0.2630 - val_loss: 1.3891 - val_accuracy: 0.2342\n",
      "Epoch 95/100\n",
      " 7/14 [==============>...............] - ETA: 0s - loss: 1.3751 - accuracy: 0.2768\n",
      "Epoch 95: val_loss did not improve from 0.89923\n",
      "14/14 [==============================] - 0s 16ms/step - loss: 1.3931 - accuracy: 0.2834 - val_loss: 1.3892 - val_accuracy: 0.2342\n",
      "Epoch 96/100\n",
      " 9/14 [==================>...........] - ETA: 0s - loss: 1.3885 - accuracy: 0.2431\n",
      "Epoch 96: val_loss did not improve from 0.89923\n",
      "14/14 [==============================] - 0s 15ms/step - loss: 1.3922 - accuracy: 0.2494 - val_loss: 1.3891 - val_accuracy: 0.2342\n",
      "Epoch 97/100\n",
      "10/14 [====================>.........] - ETA: 0s - loss: 1.3894 - accuracy: 0.2375\n",
      "Epoch 97: val_loss did not improve from 0.89923\n",
      "14/14 [==============================] - 0s 29ms/step - loss: 1.3917 - accuracy: 0.2290 - val_loss: 1.3891 - val_accuracy: 0.2342\n",
      "Epoch 98/100\n",
      "10/14 [====================>.........] - ETA: 0s - loss: 1.3883 - accuracy: 0.2469\n",
      "Epoch 98: val_loss did not improve from 0.89923\n",
      "14/14 [==============================] - 0s 16ms/step - loss: 1.4004 - accuracy: 0.2540 - val_loss: 1.3892 - val_accuracy: 0.2342\n",
      "Epoch 99/100\n",
      " 9/14 [==================>...........] - ETA: 0s - loss: 1.4162 - accuracy: 0.2465\n",
      "Epoch 99: val_loss did not improve from 0.89923\n",
      "14/14 [==============================] - 0s 13ms/step - loss: 1.4020 - accuracy: 0.2494 - val_loss: 1.3892 - val_accuracy: 0.2342\n",
      "Epoch 100/100\n",
      "10/14 [====================>.........] - ETA: 0s - loss: 1.3995 - accuracy: 0.2625\n",
      "Epoch 100: val_loss did not improve from 0.89923\n",
      "14/14 [==============================] - 0s 14ms/step - loss: 1.3976 - accuracy: 0.2608 - val_loss: 1.3893 - val_accuracy: 0.2342\n",
      "Training completed in time:  0:00:27.836011\n"
     ]
    }
   ],
   "source": [
    "## Trianing my model\n",
    "from tensorflow.keras.callbacks import ModelCheckpoint\n",
    "from datetime import datetime \n",
    "\n",
    "num_epochs = 100\n",
    "num_batch_size = 32\n",
    "\n",
    "#checkpointer = ModelCheckpoint(filepath='saved_models/audio_classification.hdf5', verbose=1, save_best_only=True)\n",
    "start = datetime.now()\n",
    "\n",
    "model.fit(X_train, y_train, batch_size=num_batch_size, epochs=num_epochs, validation_data=(X_test, y_test), callbacks=[checkpointer], verbose=1)\n",
    "\n",
    "\n",
    "duration = datetime.now() - start\n",
    "print(\"Training completed in time: \", duration)"
   ]
  },
  {
   "cell_type": "code",
   "execution_count": 116,
   "metadata": {},
   "outputs": [
    {
     "name": "stdout",
     "output_type": "stream",
     "text": [
      "0.23423422873020172\n"
     ]
    }
   ],
   "source": [
    "test_accuracy=model.evaluate(X_test,y_test,verbose=0)\n",
    "print(test_accuracy[1])"
   ]
  },
  {
   "cell_type": "code",
   "execution_count": 104,
   "metadata": {},
   "outputs": [
    {
     "name": "stdout",
     "output_type": "stream",
     "text": [
      "4/4 [==============================] - 0s 4ms/step\n"
     ]
    }
   ],
   "source": [
    "y_pred = model.predict(X_test)"
   ]
  },
  {
   "cell_type": "code",
   "execution_count": null,
   "metadata": {},
   "outputs": [],
   "source": []
  },
  {
   "cell_type": "code",
   "execution_count": null,
   "metadata": {},
   "outputs": [],
   "source": []
  },
  {
   "cell_type": "markdown",
   "metadata": {},
   "source": [
    "------------------------------------------\n",
    "------------------------------------------"
   ]
  },
  {
   "cell_type": "markdown",
   "metadata": {},
   "source": [
    "Saving extracted features to csv"
   ]
  },
  {
   "cell_type": "code",
   "execution_count": 11,
   "metadata": {},
   "outputs": [],
   "source": [
    "#extracted_features_df_for_csv['Features'] = extracted_features_df_for_csv['Features'].apply(lambda x: x.tolist()) #to same the extracted features in exact format\n",
    "extracted_features_df_for_csv['Features'] = extracted_features_df_for_csv['Features'].apply(lambda x: ','.join(map(str, x)))\n",
    "\n",
    "extracted_features_df_for_csv.to_csv('data_sample_extracted_augmented.csv', index=False)"
   ]
  },
  {
   "cell_type": "markdown",
   "metadata": {},
   "source": [
    "Generating a sample heatmap of mfcc coefficients"
   ]
  },
  {
   "cell_type": "code",
   "execution_count": 13,
   "metadata": {},
   "outputs": [],
   "source": [
    "mfcc_array = np.array(extracted_features_df_for_csv['Features'].tolist())\n",
    "\n",
    "plt.figure(figsize=(10, 6))\n",
    "sns.heatmap(mfcc_array, cmap='viridis', annot=False, xticklabels=False, yticklabels=False)\n",
    "plt.title('MFCC Heatmap')\n",
    "plt.xlabel('MFCC Coefficients')\n",
    "plt.ylabel('Samples')\n",
    "plt.show()"
   ]
  },
  {
   "cell_type": "markdown",
   "metadata": {},
   "source": [
    "---------------\n",
    "Model Pre Work\n",
    "---------------"
   ]
  },
  {
   "cell_type": "markdown",
   "metadata": {},
   "source": [
    "Loading Libraies"
   ]
  },
  {
   "cell_type": "code",
   "execution_count": 17,
   "metadata": {},
   "outputs": [],
   "source": [
    "from sklearn.model_selection import train_test_split\n",
    "from sklearn.preprocessing import LabelEncoder\n",
    "from collections import Counter"
   ]
  },
  {
   "cell_type": "markdown",
   "metadata": {},
   "source": [
    "Loading Dataset"
   ]
  },
  {
   "cell_type": "code",
   "execution_count": 18,
   "metadata": {},
   "outputs": [],
   "source": [
    "ex_data = pd.read_csv(r'./data_sample_extracted_augmented.csv')\n",
    "ex_data['Features'] = ex_data['Features'].apply(lambda x: list(map(float, x.split(','))))"
   ]
  },
  {
   "cell_type": "code",
   "execution_count": 19,
   "metadata": {},
   "outputs": [
    {
     "data": {
      "text/html": [
       "<div>\n",
       "<style scoped>\n",
       "    .dataframe tbody tr th:only-of-type {\n",
       "        vertical-align: middle;\n",
       "    }\n",
       "\n",
       "    .dataframe tbody tr th {\n",
       "        vertical-align: top;\n",
       "    }\n",
       "\n",
       "    .dataframe thead th {\n",
       "        text-align: right;\n",
       "    }\n",
       "</style>\n",
       "<table border=\"1\" class=\"dataframe\">\n",
       "  <thead>\n",
       "    <tr style=\"text-align: right;\">\n",
       "      <th></th>\n",
       "      <th>Features</th>\n",
       "      <th>Class</th>\n",
       "    </tr>\n",
       "  </thead>\n",
       "  <tbody>\n",
       "    <tr>\n",
       "      <th>0</th>\n",
       "      <td>[-351.62512, 86.87263, -14.980208, 21.255037, ...</td>\n",
       "      <td>Cargo</td>\n",
       "    </tr>\n",
       "    <tr>\n",
       "      <th>1</th>\n",
       "      <td>[-433.63748, 102.78814, 4.263644, 31.529789, -...</td>\n",
       "      <td>Cargo</td>\n",
       "    </tr>\n",
       "    <tr>\n",
       "      <th>2</th>\n",
       "      <td>[-459.4379, 118.98667, 14.566436, 32.147232, 1...</td>\n",
       "      <td>Cargo</td>\n",
       "    </tr>\n",
       "    <tr>\n",
       "      <th>3</th>\n",
       "      <td>[-503.51062, 129.89467, 12.606634, 29.421465, ...</td>\n",
       "      <td>Cargo</td>\n",
       "    </tr>\n",
       "    <tr>\n",
       "      <th>4</th>\n",
       "      <td>[-290.6702, 115.29109, -9.099596, 26.168022, -...</td>\n",
       "      <td>Cargo</td>\n",
       "    </tr>\n",
       "    <tr>\n",
       "      <th>...</th>\n",
       "      <td>...</td>\n",
       "      <td>...</td>\n",
       "    </tr>\n",
       "    <tr>\n",
       "      <th>547</th>\n",
       "      <td>[-680.1012, 171.83755, -117.071945, -73.43425,...</td>\n",
       "      <td>Tug</td>\n",
       "    </tr>\n",
       "    <tr>\n",
       "      <th>548</th>\n",
       "      <td>[-678.93353, 159.18694, -112.26985, -83.5203, ...</td>\n",
       "      <td>Tug</td>\n",
       "    </tr>\n",
       "    <tr>\n",
       "      <th>549</th>\n",
       "      <td>[-685.2814, 171.26158, -114.44917, -72.09663, ...</td>\n",
       "      <td>Tug</td>\n",
       "    </tr>\n",
       "    <tr>\n",
       "      <th>550</th>\n",
       "      <td>[-700.2786, 153.14021, -119.12963, -63.556595,...</td>\n",
       "      <td>Tug</td>\n",
       "    </tr>\n",
       "    <tr>\n",
       "      <th>551</th>\n",
       "      <td>[-621.341, 183.7743, -130.46767, -67.64047, -2...</td>\n",
       "      <td>Tug</td>\n",
       "    </tr>\n",
       "  </tbody>\n",
       "</table>\n",
       "<p>552 rows × 2 columns</p>\n",
       "</div>"
      ],
      "text/plain": [
       "                                              Features  Class\n",
       "0    [-351.62512, 86.87263, -14.980208, 21.255037, ...  Cargo\n",
       "1    [-433.63748, 102.78814, 4.263644, 31.529789, -...  Cargo\n",
       "2    [-459.4379, 118.98667, 14.566436, 32.147232, 1...  Cargo\n",
       "3    [-503.51062, 129.89467, 12.606634, 29.421465, ...  Cargo\n",
       "4    [-290.6702, 115.29109, -9.099596, 26.168022, -...  Cargo\n",
       "..                                                 ...    ...\n",
       "547  [-680.1012, 171.83755, -117.071945, -73.43425,...    Tug\n",
       "548  [-678.93353, 159.18694, -112.26985, -83.5203, ...    Tug\n",
       "549  [-685.2814, 171.26158, -114.44917, -72.09663, ...    Tug\n",
       "550  [-700.2786, 153.14021, -119.12963, -63.556595,...    Tug\n",
       "551  [-621.341, 183.7743, -130.46767, -67.64047, -2...    Tug\n",
       "\n",
       "[552 rows x 2 columns]"
      ]
     },
     "execution_count": 19,
     "metadata": {},
     "output_type": "execute_result"
    }
   ],
   "source": [
    "ex_data"
   ]
  },
  {
   "cell_type": "markdown",
   "metadata": {},
   "source": [
    "Splitting Features"
   ]
  },
  {
   "cell_type": "code",
   "execution_count": 20,
   "metadata": {},
   "outputs": [],
   "source": [
    "X=np.array(ex_data['Features'].tolist())\n",
    "y=np.array(ex_data['Class'].tolist())"
   ]
  },
  {
   "cell_type": "code",
   "execution_count": 21,
   "metadata": {},
   "outputs": [
    {
     "name": "stdout",
     "output_type": "stream",
     "text": [
      "mfcc Features       :  (552, 40)\n",
      "Class Labels shape  :  (552,)\n"
     ]
    }
   ],
   "source": [
    "print('mfcc Features       : ',X.shape)\n",
    "print('Class Labels shape  : ',y.shape)"
   ]
  },
  {
   "cell_type": "code",
   "execution_count": 22,
   "metadata": {},
   "outputs": [],
   "source": [
    "X_copy_1 = X\n",
    "y_copy_1 = y\n",
    "\n",
    "X_copy_2 = X\n",
    "y_copy_2 = y"
   ]
  },
  {
   "cell_type": "code",
   "execution_count": 23,
   "metadata": {},
   "outputs": [],
   "source": [
    "#label encoding the class labels of y_copy_1\n",
    "\n",
    "label_encoder = LabelEncoder()\n",
    "y_copy_1 = label_encoder.fit_transform(y)"
   ]
  },
  {
   "cell_type": "code",
   "execution_count": 24,
   "metadata": {},
   "outputs": [
    {
     "data": {
      "text/plain": [
       "array([0, 0, 0, 0, 0, 0, 0, 0, 0, 0, 0, 0, 0, 0, 0, 0, 0, 0, 0, 0, 0, 0,\n",
       "       0, 0, 0, 0, 0, 0, 0, 0, 0, 0, 0, 0, 0, 0, 0, 0, 0, 0, 0, 0, 0, 0,\n",
       "       0, 0, 0, 0, 0, 0, 0, 0, 0, 0, 0, 0, 0, 0, 0, 0, 0, 0, 0, 0, 0, 0,\n",
       "       0, 0, 0, 0, 0, 0, 0, 0, 0, 0, 0, 0, 0, 0, 0, 0, 0, 0, 0, 0, 0, 0,\n",
       "       0, 0, 0, 0, 0, 0, 0, 0, 0, 0, 0, 0, 0, 0, 0, 0, 0, 0, 0, 0, 0, 0,\n",
       "       0, 0, 0, 0, 0, 0, 0, 0, 0, 0, 0, 0, 0, 0, 0, 0, 0, 0, 0, 0, 0, 0,\n",
       "       0, 0, 0, 0, 0, 0, 1, 1, 1, 1, 1, 1, 1, 1, 1, 1, 1, 1, 1, 1, 1, 1,\n",
       "       1, 1, 1, 1, 1, 1, 1, 1, 1, 1, 1, 1, 1, 1, 1, 1, 1, 1, 1, 1, 1, 1,\n",
       "       1, 1, 1, 1, 1, 1, 1, 1, 1, 1, 1, 1, 1, 1, 1, 1, 1, 1, 1, 1, 1, 1,\n",
       "       1, 1, 1, 1, 1, 1, 1, 1, 1, 1, 1, 1, 1, 1, 1, 1, 1, 1, 1, 1, 1, 1,\n",
       "       1, 1, 1, 1, 1, 1, 1, 1, 1, 1, 1, 1, 1, 1, 1, 1, 1, 1, 1, 1, 1, 1,\n",
       "       1, 1, 1, 1, 1, 1, 1, 1, 1, 1, 1, 1, 1, 1, 1, 1, 1, 1, 1, 1, 1, 1,\n",
       "       1, 1, 1, 1, 1, 1, 1, 1, 1, 1, 1, 1, 2, 2, 2, 2, 2, 2, 2, 2, 2, 2,\n",
       "       2, 2, 2, 2, 2, 2, 2, 2, 2, 2, 2, 2, 2, 2, 2, 2, 2, 2, 2, 2, 2, 2,\n",
       "       2, 2, 2, 2, 2, 2, 2, 2, 2, 2, 2, 2, 2, 2, 2, 2, 2, 2, 2, 2, 2, 2,\n",
       "       2, 2, 2, 2, 2, 2, 2, 2, 2, 2, 2, 2, 2, 2, 2, 2, 2, 2, 2, 2, 2, 2,\n",
       "       2, 2, 2, 2, 2, 2, 2, 2, 2, 2, 2, 2, 2, 2, 2, 2, 2, 2, 2, 2, 2, 2,\n",
       "       2, 2, 2, 2, 2, 2, 2, 2, 2, 2, 2, 2, 2, 2, 2, 2, 2, 2, 2, 2, 2, 2,\n",
       "       2, 2, 2, 2, 2, 2, 2, 2, 2, 2, 2, 2, 2, 2, 2, 2, 2, 2, 3, 3, 3, 3,\n",
       "       3, 3, 3, 3, 3, 3, 3, 3, 3, 3, 3, 3, 3, 3, 3, 3, 3, 3, 3, 3, 3, 3,\n",
       "       3, 3, 3, 3, 3, 3, 3, 3, 3, 3, 3, 3, 3, 3, 3, 3, 3, 3, 3, 3, 3, 3,\n",
       "       3, 3, 3, 3, 3, 3, 3, 3, 3, 3, 3, 3, 3, 3, 3, 3, 3, 3, 3, 3, 3, 3,\n",
       "       3, 3, 3, 3, 3, 3, 3, 3, 3, 3, 3, 3, 3, 3, 3, 3, 3, 3, 3, 3, 3, 3,\n",
       "       3, 3, 3, 3, 3, 3, 3, 3, 3, 3, 3, 3, 3, 3, 3, 3, 3, 3, 3, 3, 3, 3,\n",
       "       3, 3, 3, 3, 3, 3, 3, 3, 3, 3, 3, 3, 3, 3, 3, 3, 3, 3, 3, 3, 3, 3,\n",
       "       3, 3], dtype=int64)"
      ]
     },
     "execution_count": 24,
     "metadata": {},
     "output_type": "execute_result"
    }
   ],
   "source": [
    "y_copy_1"
   ]
  },
  {
   "cell_type": "code",
   "execution_count": 52,
   "metadata": {},
   "outputs": [],
   "source": [
    "X_train,X_test,y_train,y_test=train_test_split(X_copy_1,y_copy_1,test_size=0.2,random_state=0)"
   ]
  },
  {
   "cell_type": "code",
   "execution_count": 26,
   "metadata": {},
   "outputs": [
    {
     "data": {
      "text/plain": [
       "array([[-675.5819   ,  185.56732  , -105.49949  , ...,    1.3567432,\n",
       "           4.185512 ,    3.2301981],\n",
       "       [-674.72375  ,  165.77393  , -119.742035 , ...,    1.7825475,\n",
       "           3.3501346,    2.4226906],\n",
       "       [-555.7923   ,  161.03375  , -138.8322   , ...,    1.9353858,\n",
       "           2.2562468,    2.556221 ],\n",
       "       ...,\n",
       "       [-668.44794  ,  181.1135   , -102.79528  , ...,    1.1645579,\n",
       "           3.728306 ,    3.3315396],\n",
       "       [-625.4786   ,  188.99529  , -123.15782  , ...,    3.059851 ,\n",
       "           2.3438902,    2.3311086],\n",
       "       [-807.1309   ,  121.512886 ,  -69.65257  , ...,    1.3782927,\n",
       "           3.2404726,    1.9274442]])"
      ]
     },
     "execution_count": 26,
     "metadata": {},
     "output_type": "execute_result"
    }
   ],
   "source": [
    "X_test"
   ]
  },
  {
   "cell_type": "markdown",
   "metadata": {},
   "source": [
    "Technique to handle imbalance data"
   ]
  },
  {
   "cell_type": "code",
   "execution_count": 27,
   "metadata": {},
   "outputs": [],
   "source": [
    "# Create a list to store indices of samples from each category\n",
    "category_indices = {category: np.where(y == category)[0] for category in np.unique(y)}\n",
    "\n",
    "# Calculate the minimum number of samples across all categories\n",
    "min_samples = min(len(indices) for indices in category_indices.values())\n",
    "\n",
    "# Initialize lists to store train and test indices\n",
    "train_indices = []\n",
    "test_indices = []\n",
    "\n",
    "# Define the fixed portion (percentage) for training and testing\n",
    "train_portion = 0.8\n",
    "test_portion = 0.2"
   ]
  },
  {
   "cell_type": "code",
   "execution_count": 28,
   "metadata": {},
   "outputs": [],
   "source": [
    "# Iterate through each category\n",
    "for category, indices in category_indices.items():\n",
    "    # Select a fixed number of samples from each category\n",
    "    num_samples = min_samples\n",
    "    num_train_samples = int(train_portion * num_samples)\n",
    "    num_test_samples = int(test_portion * num_samples)\n",
    "\n",
    "    # Randomly shuffle the indices for each category\n",
    "    shuffled_indices = np.random.permutation(indices)\n",
    "\n",
    "    # Select samples for training and testing\n",
    "    train_indices.extend(shuffled_indices[:num_train_samples])\n",
    "    test_indices.extend(shuffled_indices[num_train_samples:num_train_samples + num_test_samples])\n"
   ]
  },
  {
   "cell_type": "code",
   "execution_count": 29,
   "metadata": {},
   "outputs": [],
   "source": [
    "# Split the data using the selected train and test indices\n",
    "X_train = X[train_indices]\n",
    "y_train = y[train_indices]\n",
    "X_test = X[test_indices]\n",
    "y_test = y[test_indices]"
   ]
  },
  {
   "cell_type": "code",
   "execution_count": 30,
   "metadata": {},
   "outputs": [],
   "source": [
    "y_train_encoded = label_encoder.fit_transform(y_train)\n",
    "y_test_encoded = label_encoder.transform(y_test)"
   ]
  },
  {
   "cell_type": "code",
   "execution_count": 31,
   "metadata": {},
   "outputs": [
    {
     "data": {
      "text/plain": [
       "array(['Cargo', 'Cargo', 'Cargo', 'Cargo', 'Cargo', 'Cargo', 'Cargo',\n",
       "       'Cargo', 'Cargo', 'Cargo', 'Cargo', 'Cargo', 'Cargo', 'Cargo',\n",
       "       'Cargo', 'Cargo', 'Cargo', 'Cargo', 'Cargo', 'Cargo', 'Cargo',\n",
       "       'Cargo', 'Cargo', 'Cargo', 'Cargo', 'Cargo', 'Cargo', 'Cargo',\n",
       "       'Cargo', 'Cargo', 'Cargo', 'Cargo', 'Cargo', 'Cargo', 'Cargo',\n",
       "       'Cargo', 'Cargo', 'Cargo', 'Cargo', 'Cargo', 'Cargo', 'Cargo',\n",
       "       'Cargo', 'Cargo', 'Cargo', 'Cargo', 'Cargo', 'Cargo', 'Cargo',\n",
       "       'Cargo', 'Cargo', 'Cargo', 'Cargo', 'Cargo', 'Cargo', 'Cargo',\n",
       "       'Cargo', 'Cargo', 'Cargo', 'Cargo', 'Cargo', 'Cargo', 'Cargo',\n",
       "       'Cargo', 'Cargo', 'Cargo', 'Cargo', 'Cargo', 'Cargo', 'Cargo',\n",
       "       'Cargo', 'Cargo', 'Cargo', 'Cargo', 'Cargo', 'Cargo', 'Cargo',\n",
       "       'Cargo', 'Cargo', 'Cargo', 'Cargo', 'Cargo', 'Cargo', 'Cargo',\n",
       "       'Cargo', 'Cargo', 'Cargo', 'Cargo', 'Cargo', 'Cargo', 'Cargo',\n",
       "       'Cargo', 'Cargo', 'Cargo', 'Cargo', 'Cargo', 'Cargo', 'Cargo',\n",
       "       'Cargo', 'Cargo', 'Cargo', 'Cargo', 'Cargo', 'Cargo', 'Cargo',\n",
       "       'Cargo', 'Cargo', 'Cargo', 'Cargo', 'Cargo', 'Passenger',\n",
       "       'Passenger', 'Passenger', 'Passenger', 'Passenger', 'Passenger',\n",
       "       'Passenger', 'Passenger', 'Passenger', 'Passenger', 'Passenger',\n",
       "       'Passenger', 'Passenger', 'Passenger', 'Passenger', 'Passenger',\n",
       "       'Passenger', 'Passenger', 'Passenger', 'Passenger', 'Passenger',\n",
       "       'Passenger', 'Passenger', 'Passenger', 'Passenger', 'Passenger',\n",
       "       'Passenger', 'Passenger', 'Passenger', 'Passenger', 'Passenger',\n",
       "       'Passenger', 'Passenger', 'Passenger', 'Passenger', 'Passenger',\n",
       "       'Passenger', 'Passenger', 'Passenger', 'Passenger', 'Passenger',\n",
       "       'Passenger', 'Passenger', 'Passenger', 'Passenger', 'Passenger',\n",
       "       'Passenger', 'Passenger', 'Passenger', 'Passenger', 'Passenger',\n",
       "       'Passenger', 'Passenger', 'Passenger', 'Passenger', 'Passenger',\n",
       "       'Passenger', 'Passenger', 'Passenger', 'Passenger', 'Passenger',\n",
       "       'Passenger', 'Passenger', 'Passenger', 'Passenger', 'Passenger',\n",
       "       'Passenger', 'Passenger', 'Passenger', 'Passenger', 'Passenger',\n",
       "       'Passenger', 'Passenger', 'Passenger', 'Passenger', 'Passenger',\n",
       "       'Passenger', 'Passenger', 'Passenger', 'Passenger', 'Passenger',\n",
       "       'Passenger', 'Passenger', 'Passenger', 'Passenger', 'Passenger',\n",
       "       'Passenger', 'Passenger', 'Passenger', 'Passenger', 'Passenger',\n",
       "       'Passenger', 'Passenger', 'Passenger', 'Passenger', 'Passenger',\n",
       "       'Passenger', 'Passenger', 'Passenger', 'Passenger', 'Passenger',\n",
       "       'Passenger', 'Passenger', 'Passenger', 'Passenger', 'Passenger',\n",
       "       'Passenger', 'Passenger', 'Passenger', 'Passenger', 'Tanker',\n",
       "       'Tanker', 'Tanker', 'Tanker', 'Tanker', 'Tanker', 'Tanker',\n",
       "       'Tanker', 'Tanker', 'Tanker', 'Tanker', 'Tanker', 'Tanker',\n",
       "       'Tanker', 'Tanker', 'Tanker', 'Tanker', 'Tanker', 'Tanker',\n",
       "       'Tanker', 'Tanker', 'Tanker', 'Tanker', 'Tanker', 'Tanker',\n",
       "       'Tanker', 'Tanker', 'Tanker', 'Tanker', 'Tanker', 'Tanker',\n",
       "       'Tanker', 'Tanker', 'Tanker', 'Tanker', 'Tanker', 'Tanker',\n",
       "       'Tanker', 'Tanker', 'Tanker', 'Tanker', 'Tanker', 'Tanker',\n",
       "       'Tanker', 'Tanker', 'Tanker', 'Tanker', 'Tanker', 'Tanker',\n",
       "       'Tanker', 'Tanker', 'Tanker', 'Tanker', 'Tanker', 'Tanker',\n",
       "       'Tanker', 'Tanker', 'Tanker', 'Tanker', 'Tanker', 'Tanker',\n",
       "       'Tanker', 'Tanker', 'Tanker', 'Tanker', 'Tanker', 'Tanker',\n",
       "       'Tanker', 'Tanker', 'Tanker', 'Tanker', 'Tanker', 'Tanker',\n",
       "       'Tanker', 'Tanker', 'Tanker', 'Tanker', 'Tanker', 'Tanker',\n",
       "       'Tanker', 'Tanker', 'Tanker', 'Tanker', 'Tanker', 'Tanker',\n",
       "       'Tanker', 'Tanker', 'Tanker', 'Tanker', 'Tanker', 'Tanker',\n",
       "       'Tanker', 'Tanker', 'Tanker', 'Tanker', 'Tanker', 'Tanker',\n",
       "       'Tanker', 'Tanker', 'Tanker', 'Tanker', 'Tanker', 'Tanker',\n",
       "       'Tanker', 'Tanker', 'Tanker', 'Tanker', 'Tanker', 'Tanker',\n",
       "       'Tanker', 'Tug', 'Tug', 'Tug', 'Tug', 'Tug', 'Tug', 'Tug', 'Tug',\n",
       "       'Tug', 'Tug', 'Tug', 'Tug', 'Tug', 'Tug', 'Tug', 'Tug', 'Tug',\n",
       "       'Tug', 'Tug', 'Tug', 'Tug', 'Tug', 'Tug', 'Tug', 'Tug', 'Tug',\n",
       "       'Tug', 'Tug', 'Tug', 'Tug', 'Tug', 'Tug', 'Tug', 'Tug', 'Tug',\n",
       "       'Tug', 'Tug', 'Tug', 'Tug', 'Tug', 'Tug', 'Tug', 'Tug', 'Tug',\n",
       "       'Tug', 'Tug', 'Tug', 'Tug', 'Tug', 'Tug', 'Tug', 'Tug', 'Tug',\n",
       "       'Tug', 'Tug', 'Tug', 'Tug', 'Tug', 'Tug', 'Tug', 'Tug', 'Tug',\n",
       "       'Tug', 'Tug', 'Tug', 'Tug', 'Tug', 'Tug', 'Tug', 'Tug', 'Tug',\n",
       "       'Tug', 'Tug', 'Tug', 'Tug', 'Tug', 'Tug', 'Tug', 'Tug', 'Tug',\n",
       "       'Tug', 'Tug', 'Tug', 'Tug', 'Tug', 'Tug', 'Tug', 'Tug', 'Tug',\n",
       "       'Tug', 'Tug', 'Tug', 'Tug', 'Tug', 'Tug', 'Tug', 'Tug', 'Tug',\n",
       "       'Tug', 'Tug', 'Tug', 'Tug', 'Tug', 'Tug', 'Tug', 'Tug', 'Tug',\n",
       "       'Tug', 'Tug', 'Tug'], dtype='<U9')"
      ]
     },
     "execution_count": 31,
     "metadata": {},
     "output_type": "execute_result"
    }
   ],
   "source": [
    "y_train"
   ]
  },
  {
   "cell_type": "code",
   "execution_count": 53,
   "metadata": {},
   "outputs": [
    {
     "name": "stdout",
     "output_type": "stream",
     "text": [
      "1: 112\n",
      "3: 110\n",
      "0: 113\n",
      "2: 106\n"
     ]
    }
   ],
   "source": [
    "# Count the occurrences of each category\n",
    "category_count = Counter(y_train)\n",
    "\n",
    "# Print the total count of each category\n",
    "for category, count in category_count.items():\n",
    "    print(f'{category}: {count}')"
   ]
  },
  {
   "cell_type": "markdown",
   "metadata": {},
   "source": [
    "-----------------------\n",
    "Machine Learning Models\n",
    "-----------------------"
   ]
  },
  {
   "cell_type": "markdown",
   "metadata": {},
   "source": [
    "---------\n",
    "SVM"
   ]
  },
  {
   "cell_type": "markdown",
   "metadata": {},
   "source": [
    "Loading Libraries"
   ]
  },
  {
   "cell_type": "code",
   "execution_count": 54,
   "metadata": {},
   "outputs": [],
   "source": [
    "from sklearn.svm import SVC\n",
    "from sklearn.model_selection import GridSearchCV\n",
    "from sklearn.preprocessing import StandardScaler\n",
    "from sklearn.pipeline import Pipeline\n",
    "from sklearn.metrics import confusion_matrix\n",
    "import seaborn as sn\n",
    "from sklearn.metrics import classification_report"
   ]
  },
  {
   "cell_type": "markdown",
   "metadata": {},
   "source": [
    "Defining Parameters for SVM"
   ]
  },
  {
   "cell_type": "code",
   "execution_count": 55,
   "metadata": {},
   "outputs": [],
   "source": [
    "svm_pipeline = Pipeline([\n",
    "    ('scaler', StandardScaler()),\n",
    "    ('svm', SVC(kernel='rbf'))\n",
    "])\n",
    "\n",
    "param_grid = {\n",
    "    'svm__C': [0.1, 1, 10],\n",
    "    'svm__gamma': [0.1, 1, 10] \n",
    "}"
   ]
  },
  {
   "cell_type": "code",
   "execution_count": 56,
   "metadata": {},
   "outputs": [
    {
     "name": "stdout",
     "output_type": "stream",
     "text": [
      "Fitting 4 folds for each of 9 candidates, totalling 36 fits\n"
     ]
    }
   ],
   "source": [
    "grid_search = GridSearchCV(svm_pipeline, param_grid, cv=4, n_jobs=-1, verbose=2)\n",
    "grid_search.fit(X_train, y_train)\n",
    "best_params = grid_search.best_params_\n",
    "best_svm_model = grid_search.best_estimator_"
   ]
  },
  {
   "cell_type": "markdown",
   "metadata": {},
   "source": [
    "Testing Accuracy for SVM"
   ]
  },
  {
   "cell_type": "code",
   "execution_count": 57,
   "metadata": {},
   "outputs": [
    {
     "name": "stdout",
     "output_type": "stream",
     "text": [
      "Best Parameters  :: {'svm__C': 10, 'svm__gamma': 0.1}\n",
      "Test Accuracy    :: 0.6126126126126126\n"
     ]
    }
   ],
   "source": [
    "test_accuracy = best_svm_model.score(X_test, y_test)\n",
    "\n",
    "print(\"Best Parameters  ::\", best_params)\n",
    "print(\"Test Accuracy    ::\", test_accuracy)"
   ]
  },
  {
   "cell_type": "markdown",
   "metadata": {},
   "source": [
    "Confusion Matrix"
   ]
  },
  {
   "cell_type": "code",
   "execution_count": 58,
   "metadata": {},
   "outputs": [
    {
     "data": {
      "text/plain": [
       "Text(70.72222222222221, 0.5, 'Truth')"
      ]
     },
     "execution_count": 58,
     "metadata": {},
     "output_type": "execute_result"
    },
    {
     "data": {
      "image/png": "[encoded data removed]",
      "text/plain": [
       "<Figure size 800x500 with 2 Axes>"
      ]
     },
     "metadata": {},
     "output_type": "display_data"
    }
   ],
   "source": [
    "cm = confusion_matrix(y_test, grid_search.predict(X_test))\n",
    "plt.figure(figsize = (8,5))\n",
    "sn.heatmap(cm, annot=True)\n",
    "plt.xlabel('Predicted')\n",
    "plt.ylabel('Truth')"
   ]
  },
  {
   "cell_type": "code",
   "execution_count": 104,
   "metadata": {},
   "outputs": [
    {
     "data": {
      "image/png": "[encoded data removed]",
      "text/plain": [
       "<Figure size 800x500 with 2 Axes>"
      ]
     },
     "metadata": {},
     "output_type": "display_data"
    }
   ],
   "source": [
    "cm = confusion_matrix(y_test, grid_search.predict(X_test))\n",
    "\n",
    "cm_percent = cm / cm.sum(axis=1)[:, np.newaxis] * 100\n",
    "plt.figure(figsize=(8, 5))\n",
    "sn.heatmap(cm_percent, annot=True, fmt=\".1f\", cmap=\"YlGnBu\")\n",
    "plt.xlabel('Predicted')\n",
    "plt.ylabel('Truth')\n",
    "\n",
    "ax = plt.gca()\n",
    "for t in ax.texts:\n",
    "    t.set_text(t.get_text() + \"  %\")\n",
    "plt.show()"
   ]
  },
  {
   "cell_type": "markdown",
   "metadata": {},
   "source": [
    "Precision & Recall"
   ]
  },
  {
   "cell_type": "code",
   "execution_count": 59,
   "metadata": {},
   "outputs": [
    {
     "name": "stdout",
     "output_type": "stream",
     "text": [
      "              precision    recall  f1-score   support\n",
      "\n",
      "           0       0.70      0.56      0.62        25\n",
      "           1       0.48      0.81      0.60        26\n",
      "           2       0.57      0.38      0.45        32\n",
      "           3       0.81      0.75      0.78        28\n",
      "\n",
      "    accuracy                           0.61       111\n",
      "   macro avg       0.64      0.62      0.61       111\n",
      "weighted avg       0.64      0.61      0.61       111\n",
      "\n"
     ]
    }
   ],
   "source": [
    "print(classification_report(y_test, grid_search.predict(X_test))) "
   ]
  },
  {
   "cell_type": "code",
   "execution_count": 60,
   "metadata": {},
   "outputs": [
    {
     "data": {
      "text/plain": [
       "array([[-675.5819   ,  185.56732  , -105.49949  , ...,    1.3567432,\n",
       "           4.185512 ,    3.2301981],\n",
       "       [-674.72375  ,  165.77393  , -119.742035 , ...,    1.7825475,\n",
       "           3.3501346,    2.4226906],\n",
       "       [-555.7923   ,  161.03375  , -138.8322   , ...,    1.9353858,\n",
       "           2.2562468,    2.556221 ],\n",
       "       ...,\n",
       "       [-668.44794  ,  181.1135   , -102.79528  , ...,    1.1645579,\n",
       "           3.728306 ,    3.3315396],\n",
       "       [-625.4786   ,  188.99529  , -123.15782  , ...,    3.059851 ,\n",
       "           2.3438902,    2.3311086],\n",
       "       [-807.1309   ,  121.512886 ,  -69.65257  , ...,    1.3782927,\n",
       "           3.2404726,    1.9274442]])"
      ]
     },
     "execution_count": 60,
     "metadata": {},
     "output_type": "execute_result"
    }
   ],
   "source": [
    "X_test"
   ]
  },
  {
   "cell_type": "markdown",
   "metadata": {},
   "source": [
    "---------\n",
    "Decision Tree"
   ]
  },
  {
   "cell_type": "code",
   "execution_count": null,
   "metadata": {},
   "outputs": [],
   "source": []
  },
  {
   "cell_type": "markdown",
   "metadata": {},
   "source": [
    "-----------------------\n",
    "Deep Learning Models\n",
    "-----------------------"
   ]
  },
  {
   "cell_type": "markdown",
   "metadata": {},
   "source": [
    "--------------\n",
    "Basic ANN Model"
   ]
  },
  {
   "cell_type": "markdown",
   "metadata": {},
   "source": [
    "Importing Libraries"
   ]
  },
  {
   "cell_type": "code",
   "execution_count": 40,
   "metadata": {},
   "outputs": [],
   "source": [
    "from tensorflow.keras.models import Sequential\n",
    "from tensorflow.keras.layers import Dense,Dropout,Activation,Flatten\n",
    "from tensorflow.keras.optimizers import Adam\n",
    "from sklearn import metrics\n",
    "from tensorflow.keras.callbacks import ModelCheckpoint\n",
    "from datetime import datetime"
   ]
  },
  {
   "cell_type": "code",
   "execution_count": 61,
   "metadata": {},
   "outputs": [
    {
     "data": {
      "text/plain": [
       "552"
      ]
     },
     "execution_count": 61,
     "metadata": {},
     "output_type": "execute_result"
    }
   ],
   "source": [
    "## No of classes\n",
    "num_labels=y_copy_1.shape[0]\n",
    "num_labels"
   ]
  },
  {
   "cell_type": "markdown",
   "metadata": {},
   "source": [
    "Creating Model --- Needs to understand this one"
   ]
  },
  {
   "cell_type": "code",
   "execution_count": 62,
   "metadata": {},
   "outputs": [],
   "source": [
    "model=Sequential()\n",
    "###first layer\n",
    "model.add(Dense(100,input_shape=(40,)))\n",
    "model.add(Activation('relu'))\n",
    "model.add(Dropout(0.5))\n",
    "###second layer\n",
    "model.add(Dense(200))\n",
    "model.add(Activation('relu'))\n",
    "model.add(Dropout(0.5))\n",
    "###third layer\n",
    "model.add(Dense(100))\n",
    "model.add(Activation('relu'))\n",
    "model.add(Dropout(0.5))\n",
    "\n",
    "###final layer\n",
    "model.add(Dense(len(np.unique(y_train)), activation='softmax'))"
   ]
  },
  {
   "cell_type": "code",
   "execution_count": 63,
   "metadata": {},
   "outputs": [
    {
     "name": "stdout",
     "output_type": "stream",
     "text": [
      "Model: \"sequential_2\"\n",
      "_________________________________________________________________\n",
      " Layer (type)                Output Shape              Param #   \n",
      "=================================================================\n",
      " dense_8 (Dense)             (None, 100)               4100      \n",
      "                                                                 \n",
      " activation_6 (Activation)   (None, 100)               0         \n",
      "                                                                 \n",
      " dropout_6 (Dropout)         (None, 100)               0         \n",
      "                                                                 \n",
      " dense_9 (Dense)             (None, 200)               20200     \n",
      "                                                                 \n",
      " activation_7 (Activation)   (None, 200)               0         \n",
      "                                                                 \n",
      " dropout_7 (Dropout)         (None, 200)               0         \n",
      "                                                                 \n",
      " dense_10 (Dense)            (None, 100)               20100     \n",
      "                                                                 \n",
      " activation_8 (Activation)   (None, 100)               0         \n",
      "                                                                 \n",
      " dropout_8 (Dropout)         (None, 100)               0         \n",
      "                                                                 \n",
      " dense_11 (Dense)            (None, 4)                 404       \n",
      "                                                                 \n",
      "=================================================================\n",
      "Total params: 44804 (175.02 KB)\n",
      "Trainable params: 44804 (175.02 KB)\n",
      "Non-trainable params: 0 (0.00 Byte)\n",
      "_________________________________________________________________\n"
     ]
    }
   ],
   "source": [
    "model.summary()"
   ]
  },
  {
   "cell_type": "code",
   "execution_count": 64,
   "metadata": {},
   "outputs": [],
   "source": [
    "model.compile(optimizer='adam', loss='sparse_categorical_crossentropy', metrics=['accuracy'])"
   ]
  },
  {
   "cell_type": "code",
   "execution_count": 72,
   "metadata": {},
   "outputs": [
    {
     "name": "stdout",
     "output_type": "stream",
     "text": [
      "Epoch 1/100\n",
      "12/14 [========================>.....] - ETA: 0s - loss: 49.2937 - accuracy: 0.2396"
     ]
    },
    {
     "ename": "ValueError",
     "evalue": "Data cardinality is ambiguous:\n  x sizes: 111\n  y sizes: 108\nMake sure all arrays contain the same number of samples.",
     "output_type": "error",
     "traceback": [
      "\u001b[1;31m---------------------------------------------------------------------------\u001b[0m",
      "\u001b[1;31mValueError\u001b[0m                                Traceback (most recent call last)",
      "Cell \u001b[1;32mIn[72], line 7\u001b[0m\n\u001b[0;32m      4\u001b[0m \u001b[39m#checkpointer = ModelCheckpoint(filepath='saved_models/audio_classification.hdf5',verbose=1, save_best_only=True)\u001b[39;00m\n\u001b[0;32m      5\u001b[0m start \u001b[39m=\u001b[39m datetime\u001b[39m.\u001b[39mnow()\n\u001b[1;32m----> 7\u001b[0m model\u001b[39m.\u001b[39;49mfit(X_train, y_train_lab, batch_size\u001b[39m=\u001b[39;49mnum_batch_size, epochs\u001b[39m=\u001b[39;49mnum_epochs, validation_data\u001b[39m=\u001b[39;49m(X_test, y_test_encoded), callbacks\u001b[39m=\u001b[39;49m[checkpointer], verbose\u001b[39m=\u001b[39;49m\u001b[39m1\u001b[39;49m)\n\u001b[0;32m      9\u001b[0m duration \u001b[39m=\u001b[39m datetime\u001b[39m.\u001b[39mnow() \u001b[39m-\u001b[39m start\n\u001b[0;32m     10\u001b[0m \u001b[39mprint\u001b[39m(\u001b[39m\"\u001b[39m\u001b[39mTraining completed in time: \u001b[39m\u001b[39m\"\u001b[39m, duration)\n",
      "File \u001b[1;32m~\\AppData\\Roaming\\Python\\Python310\\site-packages\\keras\\src\\utils\\traceback_utils.py:70\u001b[0m, in \u001b[0;36mfilter_traceback.<locals>.error_handler\u001b[1;34m(*args, **kwargs)\u001b[0m\n\u001b[0;32m     67\u001b[0m     filtered_tb \u001b[39m=\u001b[39m _process_traceback_frames(e\u001b[39m.\u001b[39m__traceback__)\n\u001b[0;32m     68\u001b[0m     \u001b[39m# To get the full stack trace, call:\u001b[39;00m\n\u001b[0;32m     69\u001b[0m     \u001b[39m# `tf.debugging.disable_traceback_filtering()`\u001b[39;00m\n\u001b[1;32m---> 70\u001b[0m     \u001b[39mraise\u001b[39;00m e\u001b[39m.\u001b[39mwith_traceback(filtered_tb) \u001b[39mfrom\u001b[39;00m \u001b[39mNone\u001b[39;00m\n\u001b[0;32m     71\u001b[0m \u001b[39mfinally\u001b[39;00m:\n\u001b[0;32m     72\u001b[0m     \u001b[39mdel\u001b[39;00m filtered_tb\n",
      "File \u001b[1;32m~\\AppData\\Roaming\\Python\\Python310\\site-packages\\keras\\src\\engine\\data_adapter.py:1950\u001b[0m, in \u001b[0;36m_check_data_cardinality\u001b[1;34m(data)\u001b[0m\n\u001b[0;32m   1943\u001b[0m     msg \u001b[39m+\u001b[39m\u001b[39m=\u001b[39m \u001b[39m\"\u001b[39m\u001b[39m  \u001b[39m\u001b[39m{}\u001b[39;00m\u001b[39m sizes: \u001b[39m\u001b[39m{}\u001b[39;00m\u001b[39m\\n\u001b[39;00m\u001b[39m\"\u001b[39m\u001b[39m.\u001b[39mformat(\n\u001b[0;32m   1944\u001b[0m         label,\n\u001b[0;32m   1945\u001b[0m         \u001b[39m\"\u001b[39m\u001b[39m, \u001b[39m\u001b[39m\"\u001b[39m\u001b[39m.\u001b[39mjoin(\n\u001b[0;32m   1946\u001b[0m             \u001b[39mstr\u001b[39m(i\u001b[39m.\u001b[39mshape[\u001b[39m0\u001b[39m]) \u001b[39mfor\u001b[39;00m i \u001b[39min\u001b[39;00m tf\u001b[39m.\u001b[39mnest\u001b[39m.\u001b[39mflatten(single_data)\n\u001b[0;32m   1947\u001b[0m         ),\n\u001b[0;32m   1948\u001b[0m     )\n\u001b[0;32m   1949\u001b[0m msg \u001b[39m+\u001b[39m\u001b[39m=\u001b[39m \u001b[39m\"\u001b[39m\u001b[39mMake sure all arrays contain the same number of samples.\u001b[39m\u001b[39m\"\u001b[39m\n\u001b[1;32m-> 1950\u001b[0m \u001b[39mraise\u001b[39;00m \u001b[39mValueError\u001b[39;00m(msg)\n",
      "\u001b[1;31mValueError\u001b[0m: Data cardinality is ambiguous:\n  x sizes: 111\n  y sizes: 108\nMake sure all arrays contain the same number of samples."
     ]
    }
   ],
   "source": [
    "num_epochs = 100\n",
    "num_batch_size = 32\n",
    "\n",
    "#checkpointer = ModelCheckpoint(filepath='saved_models/audio_classification.hdf5',verbose=1, save_best_only=True)\n",
    "start = datetime.now()\n",
    "\n",
    "model.fit(X_train, y_train_lab, batch_size=num_batch_size, epochs=num_epochs, validation_data=(X_test, y_test_encoded), callbacks=[checkpointer], verbose=1)\n",
    "\n",
    "duration = datetime.now() - start\n",
    "print(\"Training completed in time: \", duration)"
   ]
  },
  {
   "cell_type": "markdown",
   "metadata": {},
   "source": [
    "Testing Model Performance"
   ]
  },
  {
   "cell_type": "markdown",
   "metadata": {},
   "source": [
    "Classification Report"
   ]
  },
  {
   "cell_type": "code",
   "execution_count": 48,
   "metadata": {},
   "outputs": [
    {
     "name": "stdout",
     "output_type": "stream",
     "text": [
      "4/4 [==============================] - 0s 4ms/step\n",
      "              precision    recall  f1-score   support\n",
      "\n",
      "       Cargo       0.00      0.00      0.00        27\n",
      "   Passenger       0.25      1.00      0.40        27\n",
      "      Tanker       0.00      0.00      0.00        27\n",
      "         Tug       0.00      0.00      0.00        27\n",
      "\n",
      "    accuracy                           0.25       108\n",
      "   macro avg       0.06      0.25      0.10       108\n",
      "weighted avg       0.06      0.25      0.10       108\n",
      "\n"
     ]
    },
    {
     "name": "stderr",
     "output_type": "stream",
     "text": [
      "c:\\ProgramData\\anaconda3\\lib\\site-packages\\sklearn\\metrics\\_classification.py:1344: UndefinedMetricWarning: Precision and F-score are ill-defined and being set to 0.0 in labels with no predicted samples. Use `zero_division` parameter to control this behavior.\n",
      "  _warn_prf(average, modifier, msg_start, len(result))\n",
      "c:\\ProgramData\\anaconda3\\lib\\site-packages\\sklearn\\metrics\\_classification.py:1344: UndefinedMetricWarning: Precision and F-score are ill-defined and being set to 0.0 in labels with no predicted samples. Use `zero_division` parameter to control this behavior.\n",
      "  _warn_prf(average, modifier, msg_start, len(result))\n",
      "c:\\ProgramData\\anaconda3\\lib\\site-packages\\sklearn\\metrics\\_classification.py:1344: UndefinedMetricWarning: Precision and F-score are ill-defined and being set to 0.0 in labels with no predicted samples. Use `zero_division` parameter to control this behavior.\n",
      "  _warn_prf(average, modifier, msg_start, len(result))\n"
     ]
    }
   ],
   "source": [
    "y_pred = model.predict(X_test)\n",
    "y_pred_classes = np.argmax(y_pred, axis=1)\n",
    "\n",
    "# Decode labels\n",
    "y_test_decoded = label_encoder.inverse_transform(y_test_encoded)\n",
    "y_pred_decoded = label_encoder.inverse_transform(y_pred_classes)\n",
    "\n",
    "# Print classification report\n",
    "print(classification_report(y_test_decoded, y_pred_decoded))"
   ]
  },
  {
   "cell_type": "markdown",
   "metadata": {},
   "source": [
    "Model Accuracy"
   ]
  },
  {
   "cell_type": "code",
   "execution_count": 51,
   "metadata": {},
   "outputs": [
    {
     "ename": "UnimplementedError",
     "evalue": "Graph execution error:\n\nDetected at node 'Cast_1' defined at (most recent call last):\n    File \"c:\\ProgramData\\anaconda3\\lib\\runpy.py\", line 196, in _run_module_as_main\n      return _run_code(code, main_globals, None,\n    File \"c:\\ProgramData\\anaconda3\\lib\\runpy.py\", line 86, in _run_code\n      exec(code, run_globals)\n    File \"C:\\Users\\hasna\\AppData\\Roaming\\Python\\Python310\\site-packages\\ipykernel_launcher.py\", line 17, in <module>\n      app.launch_new_instance()\n    File \"C:\\Users\\hasna\\AppData\\Roaming\\Python\\Python310\\site-packages\\traitlets\\config\\application.py\", line 1043, in launch_instance\n      app.start()\n    File \"C:\\Users\\hasna\\AppData\\Roaming\\Python\\Python310\\site-packages\\ipykernel\\kernelapp.py\", line 736, in start\n      self.io_loop.start()\n    File \"C:\\Users\\hasna\\AppData\\Roaming\\Python\\Python310\\site-packages\\tornado\\platform\\asyncio.py\", line 195, in start\n      self.asyncio_loop.run_forever()\n    File \"c:\\ProgramData\\anaconda3\\lib\\asyncio\\base_events.py\", line 603, in run_forever\n      self._run_once()\n    File \"c:\\ProgramData\\anaconda3\\lib\\asyncio\\base_events.py\", line 1906, in _run_once\n      handle._run()\n    File \"c:\\ProgramData\\anaconda3\\lib\\asyncio\\events.py\", line 80, in _run\n      self._context.run(self._callback, *self._args)\n    File \"C:\\Users\\hasna\\AppData\\Roaming\\Python\\Python310\\site-packages\\ipykernel\\kernelbase.py\", line 516, in dispatch_queue\n      await self.process_one()\n    File \"C:\\Users\\hasna\\AppData\\Roaming\\Python\\Python310\\site-packages\\ipykernel\\kernelbase.py\", line 505, in process_one\n      await dispatch(*args)\n    File \"C:\\Users\\hasna\\AppData\\Roaming\\Python\\Python310\\site-packages\\ipykernel\\kernelbase.py\", line 412, in dispatch_shell\n      await result\n    File \"C:\\Users\\hasna\\AppData\\Roaming\\Python\\Python310\\site-packages\\ipykernel\\kernelbase.py\", line 740, in execute_request\n      reply_content = await reply_content\n    File \"C:\\Users\\hasna\\AppData\\Roaming\\Python\\Python310\\site-packages\\ipykernel\\ipkernel.py\", line 422, in do_execute\n      res = shell.run_cell(\n    File \"C:\\Users\\hasna\\AppData\\Roaming\\Python\\Python310\\site-packages\\ipykernel\\zmqshell.py\", line 546, in run_cell\n      return super().run_cell(*args, **kwargs)\n    File \"C:\\Users\\hasna\\AppData\\Roaming\\Python\\Python310\\site-packages\\IPython\\core\\interactiveshell.py\", line 3009, in run_cell\n      result = self._run_cell(\n    File \"C:\\Users\\hasna\\AppData\\Roaming\\Python\\Python310\\site-packages\\IPython\\core\\interactiveshell.py\", line 3064, in _run_cell\n      result = runner(coro)\n    File \"C:\\Users\\hasna\\AppData\\Roaming\\Python\\Python310\\site-packages\\IPython\\core\\async_helpers.py\", line 129, in _pseudo_sync_runner\n      coro.send(None)\n    File \"C:\\Users\\hasna\\AppData\\Roaming\\Python\\Python310\\site-packages\\IPython\\core\\interactiveshell.py\", line 3269, in run_cell_async\n      has_raised = await self.run_ast_nodes(code_ast.body, cell_name,\n    File \"C:\\Users\\hasna\\AppData\\Roaming\\Python\\Python310\\site-packages\\IPython\\core\\interactiveshell.py\", line 3448, in run_ast_nodes\n      if await self.run_code(code, result, async_=asy):\n    File \"C:\\Users\\hasna\\AppData\\Roaming\\Python\\Python310\\site-packages\\IPython\\core\\interactiveshell.py\", line 3508, in run_code\n      exec(code_obj, self.user_global_ns, self.user_ns)\n    File \"C:\\Users\\hasna\\AppData\\Local\\Temp\\ipykernel_12320\\313448609.py\", line 1, in <module>\n      test_accuracy=model.evaluate(X_test,y_test,verbose=0)\n    File \"C:\\Users\\hasna\\AppData\\Roaming\\Python\\Python310\\site-packages\\keras\\src\\utils\\traceback_utils.py\", line 65, in error_handler\n      return fn(*args, **kwargs)\n    File \"C:\\Users\\hasna\\AppData\\Roaming\\Python\\Python310\\site-packages\\keras\\src\\engine\\training.py\", line 2200, in evaluate\n      logs = test_function_runner.run_step(\n    File \"C:\\Users\\hasna\\AppData\\Roaming\\Python\\Python310\\site-packages\\keras\\src\\engine\\training.py\", line 4000, in run_step\n      tmp_logs = self._function(dataset_or_iterator)\n    File \"C:\\Users\\hasna\\AppData\\Roaming\\Python\\Python310\\site-packages\\keras\\src\\engine\\training.py\", line 1972, in test_function\n      return step_function(self, iterator)\n    File \"C:\\Users\\hasna\\AppData\\Roaming\\Python\\Python310\\site-packages\\keras\\src\\engine\\training.py\", line 1956, in step_function\n      outputs = model.distribute_strategy.run(run_step, args=(data,))\n    File \"C:\\Users\\hasna\\AppData\\Roaming\\Python\\Python310\\site-packages\\keras\\src\\engine\\training.py\", line 1944, in run_step\n      outputs = model.test_step(data)\n    File \"C:\\Users\\hasna\\AppData\\Roaming\\Python\\Python310\\site-packages\\keras\\src\\engine\\training.py\", line 1853, in test_step\n      return self.compute_metrics(x, y, y_pred, sample_weight)\n    File \"C:\\Users\\hasna\\AppData\\Roaming\\Python\\Python310\\site-packages\\keras\\src\\engine\\training.py\", line 1179, in compute_metrics\n      self.compiled_metrics.update_state(y, y_pred, sample_weight)\n    File \"C:\\Users\\hasna\\AppData\\Roaming\\Python\\Python310\\site-packages\\keras\\src\\engine\\compile_utils.py\", line 605, in update_state\n      metric_obj.update_state(y_t, y_p, sample_weight=mask)\n    File \"C:\\Users\\hasna\\AppData\\Roaming\\Python\\Python310\\site-packages\\keras\\src\\utils\\metrics_utils.py\", line 77, in decorated\n      update_op = update_state_fn(*args, **kwargs)\n    File \"C:\\Users\\hasna\\AppData\\Roaming\\Python\\Python310\\site-packages\\keras\\src\\metrics\\base_metric.py\", line 140, in update_state_fn\n      return ag_update_state(*args, **kwargs)\n    File \"C:\\Users\\hasna\\AppData\\Roaming\\Python\\Python310\\site-packages\\keras\\src\\metrics\\base_metric.py\", line 708, in update_state\n      y_true = tf.cast(y_true, self._dtype)\nNode: 'Cast_1'\nCast string to float is not supported\n\t [[{{node Cast_1}}]] [Op:__inference_test_function_16467]",
     "output_type": "error",
     "traceback": [
      "\u001b[1;31m---------------------------------------------------------------------------\u001b[0m",
      "\u001b[1;31mUnimplementedError\u001b[0m                        Traceback (most recent call last)",
      "Cell \u001b[1;32mIn[51], line 1\u001b[0m\n\u001b[1;32m----> 1\u001b[0m test_accuracy\u001b[39m=\u001b[39mmodel\u001b[39m.\u001b[39;49mevaluate(X_test,y_test,verbose\u001b[39m=\u001b[39;49m\u001b[39m0\u001b[39;49m)\n\u001b[0;32m      2\u001b[0m \u001b[39mprint\u001b[39m(test_accuracy[\u001b[39m1\u001b[39m])\n",
      "File \u001b[1;32m~\\AppData\\Roaming\\Python\\Python310\\site-packages\\keras\\src\\utils\\traceback_utils.py:70\u001b[0m, in \u001b[0;36mfilter_traceback.<locals>.error_handler\u001b[1;34m(*args, **kwargs)\u001b[0m\n\u001b[0;32m     67\u001b[0m     filtered_tb \u001b[39m=\u001b[39m _process_traceback_frames(e\u001b[39m.\u001b[39m__traceback__)\n\u001b[0;32m     68\u001b[0m     \u001b[39m# To get the full stack trace, call:\u001b[39;00m\n\u001b[0;32m     69\u001b[0m     \u001b[39m# `tf.debugging.disable_traceback_filtering()`\u001b[39;00m\n\u001b[1;32m---> 70\u001b[0m     \u001b[39mraise\u001b[39;00m e\u001b[39m.\u001b[39mwith_traceback(filtered_tb) \u001b[39mfrom\u001b[39;00m \u001b[39mNone\u001b[39;00m\n\u001b[0;32m     71\u001b[0m \u001b[39mfinally\u001b[39;00m:\n\u001b[0;32m     72\u001b[0m     \u001b[39mdel\u001b[39;00m filtered_tb\n",
      "File \u001b[1;32m~\\AppData\\Roaming\\Python\\Python310\\site-packages\\tensorflow\\python\\eager\\execute.py:53\u001b[0m, in \u001b[0;36mquick_execute\u001b[1;34m(op_name, num_outputs, inputs, attrs, ctx, name)\u001b[0m\n\u001b[0;32m     51\u001b[0m \u001b[39mtry\u001b[39;00m:\n\u001b[0;32m     52\u001b[0m   ctx\u001b[39m.\u001b[39mensure_initialized()\n\u001b[1;32m---> 53\u001b[0m   tensors \u001b[39m=\u001b[39m pywrap_tfe\u001b[39m.\u001b[39mTFE_Py_Execute(ctx\u001b[39m.\u001b[39m_handle, device_name, op_name,\n\u001b[0;32m     54\u001b[0m                                       inputs, attrs, num_outputs)\n\u001b[0;32m     55\u001b[0m \u001b[39mexcept\u001b[39;00m core\u001b[39m.\u001b[39m_NotOkStatusException \u001b[39mas\u001b[39;00m e:\n\u001b[0;32m     56\u001b[0m   \u001b[39mif\u001b[39;00m name \u001b[39mis\u001b[39;00m \u001b[39mnot\u001b[39;00m \u001b[39mNone\u001b[39;00m:\n",
      "\u001b[1;31mUnimplementedError\u001b[0m: Graph execution error:\n\nDetected at node 'Cast_1' defined at (most recent call last):\n    File \"c:\\ProgramData\\anaconda3\\lib\\runpy.py\", line 196, in _run_module_as_main\n      return _run_code(code, main_globals, None,\n    File \"c:\\ProgramData\\anaconda3\\lib\\runpy.py\", line 86, in _run_code\n      exec(code, run_globals)\n    File \"C:\\Users\\hasna\\AppData\\Roaming\\Python\\Python310\\site-packages\\ipykernel_launcher.py\", line 17, in <module>\n      app.launch_new_instance()\n    File \"C:\\Users\\hasna\\AppData\\Roaming\\Python\\Python310\\site-packages\\traitlets\\config\\application.py\", line 1043, in launch_instance\n      app.start()\n    File \"C:\\Users\\hasna\\AppData\\Roaming\\Python\\Python310\\site-packages\\ipykernel\\kernelapp.py\", line 736, in start\n      self.io_loop.start()\n    File \"C:\\Users\\hasna\\AppData\\Roaming\\Python\\Python310\\site-packages\\tornado\\platform\\asyncio.py\", line 195, in start\n      self.asyncio_loop.run_forever()\n    File \"c:\\ProgramData\\anaconda3\\lib\\asyncio\\base_events.py\", line 603, in run_forever\n      self._run_once()\n    File \"c:\\ProgramData\\anaconda3\\lib\\asyncio\\base_events.py\", line 1906, in _run_once\n      handle._run()\n    File \"c:\\ProgramData\\anaconda3\\lib\\asyncio\\events.py\", line 80, in _run\n      self._context.run(self._callback, *self._args)\n    File \"C:\\Users\\hasna\\AppData\\Roaming\\Python\\Python310\\site-packages\\ipykernel\\kernelbase.py\", line 516, in dispatch_queue\n      await self.process_one()\n    File \"C:\\Users\\hasna\\AppData\\Roaming\\Python\\Python310\\site-packages\\ipykernel\\kernelbase.py\", line 505, in process_one\n      await dispatch(*args)\n    File \"C:\\Users\\hasna\\AppData\\Roaming\\Python\\Python310\\site-packages\\ipykernel\\kernelbase.py\", line 412, in dispatch_shell\n      await result\n    File \"C:\\Users\\hasna\\AppData\\Roaming\\Python\\Python310\\site-packages\\ipykernel\\kernelbase.py\", line 740, in execute_request\n      reply_content = await reply_content\n    File \"C:\\Users\\hasna\\AppData\\Roaming\\Python\\Python310\\site-packages\\ipykernel\\ipkernel.py\", line 422, in do_execute\n      res = shell.run_cell(\n    File \"C:\\Users\\hasna\\AppData\\Roaming\\Python\\Python310\\site-packages\\ipykernel\\zmqshell.py\", line 546, in run_cell\n      return super().run_cell(*args, **kwargs)\n    File \"C:\\Users\\hasna\\AppData\\Roaming\\Python\\Python310\\site-packages\\IPython\\core\\interactiveshell.py\", line 3009, in run_cell\n      result = self._run_cell(\n    File \"C:\\Users\\hasna\\AppData\\Roaming\\Python\\Python310\\site-packages\\IPython\\core\\interactiveshell.py\", line 3064, in _run_cell\n      result = runner(coro)\n    File \"C:\\Users\\hasna\\AppData\\Roaming\\Python\\Python310\\site-packages\\IPython\\core\\async_helpers.py\", line 129, in _pseudo_sync_runner\n      coro.send(None)\n    File \"C:\\Users\\hasna\\AppData\\Roaming\\Python\\Python310\\site-packages\\IPython\\core\\interactiveshell.py\", line 3269, in run_cell_async\n      has_raised = await self.run_ast_nodes(code_ast.body, cell_name,\n    File \"C:\\Users\\hasna\\AppData\\Roaming\\Python\\Python310\\site-packages\\IPython\\core\\interactiveshell.py\", line 3448, in run_ast_nodes\n      if await self.run_code(code, result, async_=asy):\n    File \"C:\\Users\\hasna\\AppData\\Roaming\\Python\\Python310\\site-packages\\IPython\\core\\interactiveshell.py\", line 3508, in run_code\n      exec(code_obj, self.user_global_ns, self.user_ns)\n    File \"C:\\Users\\hasna\\AppData\\Local\\Temp\\ipykernel_12320\\313448609.py\", line 1, in <module>\n      test_accuracy=model.evaluate(X_test,y_test,verbose=0)\n    File \"C:\\Users\\hasna\\AppData\\Roaming\\Python\\Python310\\site-packages\\keras\\src\\utils\\traceback_utils.py\", line 65, in error_handler\n      return fn(*args, **kwargs)\n    File \"C:\\Users\\hasna\\AppData\\Roaming\\Python\\Python310\\site-packages\\keras\\src\\engine\\training.py\", line 2200, in evaluate\n      logs = test_function_runner.run_step(\n    File \"C:\\Users\\hasna\\AppData\\Roaming\\Python\\Python310\\site-packages\\keras\\src\\engine\\training.py\", line 4000, in run_step\n      tmp_logs = self._function(dataset_or_iterator)\n    File \"C:\\Users\\hasna\\AppData\\Roaming\\Python\\Python310\\site-packages\\keras\\src\\engine\\training.py\", line 1972, in test_function\n      return step_function(self, iterator)\n    File \"C:\\Users\\hasna\\AppData\\Roaming\\Python\\Python310\\site-packages\\keras\\src\\engine\\training.py\", line 1956, in step_function\n      outputs = model.distribute_strategy.run(run_step, args=(data,))\n    File \"C:\\Users\\hasna\\AppData\\Roaming\\Python\\Python310\\site-packages\\keras\\src\\engine\\training.py\", line 1944, in run_step\n      outputs = model.test_step(data)\n    File \"C:\\Users\\hasna\\AppData\\Roaming\\Python\\Python310\\site-packages\\keras\\src\\engine\\training.py\", line 1853, in test_step\n      return self.compute_metrics(x, y, y_pred, sample_weight)\n    File \"C:\\Users\\hasna\\AppData\\Roaming\\Python\\Python310\\site-packages\\keras\\src\\engine\\training.py\", line 1179, in compute_metrics\n      self.compiled_metrics.update_state(y, y_pred, sample_weight)\n    File \"C:\\Users\\hasna\\AppData\\Roaming\\Python\\Python310\\site-packages\\keras\\src\\engine\\compile_utils.py\", line 605, in update_state\n      metric_obj.update_state(y_t, y_p, sample_weight=mask)\n    File \"C:\\Users\\hasna\\AppData\\Roaming\\Python\\Python310\\site-packages\\keras\\src\\utils\\metrics_utils.py\", line 77, in decorated\n      update_op = update_state_fn(*args, **kwargs)\n    File \"C:\\Users\\hasna\\AppData\\Roaming\\Python\\Python310\\site-packages\\keras\\src\\metrics\\base_metric.py\", line 140, in update_state_fn\n      return ag_update_state(*args, **kwargs)\n    File \"C:\\Users\\hasna\\AppData\\Roaming\\Python\\Python310\\site-packages\\keras\\src\\metrics\\base_metric.py\", line 708, in update_state\n      y_true = tf.cast(y_true, self._dtype)\nNode: 'Cast_1'\nCast string to float is not supported\n\t [[{{node Cast_1}}]] [Op:__inference_test_function_16467]"
     ]
    }
   ],
   "source": [
    "test_accuracy=model.evaluate(X_test,y_test_encoded,verbose=0)\n",
    "print(test_accuracy[1])"
   ]
  },
  {
   "cell_type": "markdown",
   "metadata": {},
   "source": [
    "Confusion Matrix"
   ]
  },
  {
   "cell_type": "code",
   "execution_count": 50,
   "metadata": {},
   "outputs": [
    {
     "data": {
      "text/plain": [
       "Text(70.72222222222221, 0.5, 'Truth')"
      ]
     },
     "execution_count": 50,
     "metadata": {},
     "output_type": "execute_result"
    },
    {
     "data": {
      "image/png": "[encoded data removed]",
      "text/plain": [
       "<Figure size 800x500 with 2 Axes>"
      ]
     },
     "metadata": {},
     "output_type": "display_data"
    }
   ],
   "source": [
    "cm = confusion_matrix(y_test_decoded, y_pred_decoded)\n",
    "plt.figure(figsize = (8,5))\n",
    "sn.heatmap(cm, annot=True)\n",
    "plt.xlabel('Predicted')\n",
    "plt.ylabel('Truth')"
   ]
  },
  {
   "cell_type": "markdown",
   "metadata": {},
   "source": [
    "---------------\n",
    "Unseen Data Testing\n",
    "---------------"
   ]
  }
 ],
 "metadata": {
  "kernelspec": {
   "display_name": "base",
   "language": "python",
   "name": "python3"
  },
  "language_info": {
   "codemirror_mode": {
    "name": "ipython",
    "version": 3
   },
   "file_extension": ".py",
   "mimetype": "text/x-python",
   "name": "python",
   "nbconvert_exporter": "python",
   "pygments_lexer": "ipython3",
   "version": "3.10.9"
  },
  "orig_nbformat": 4
 },
 "nbformat": 4,
 "nbformat_minor": 2
}
